{
 "cells": [
  {
   "cell_type": "code",
   "execution_count": 1,
   "metadata": {},
   "outputs": [],
   "source": [
    "import json\n",
    "import os\n",
    "\n",
    "import sys\n",
    "sys.path.append('..')\n",
    "sys.path.append('../ark')\n",
    "\n",
    "# NOTE: just for visualizing on blank space for the time being\n",
    "import numpy as np\n",
    "\n",
    "from ark.mibi import tiling_utils"
   ]
  },
  {
   "cell_type": "markdown",
   "metadata": {},
   "source": [
    "# 1. Automatically generate tiled regions"
   ]
  },
  {
   "cell_type": "markdown",
   "metadata": {},
   "source": [
    "This automatically creates tiles which define FOVs on the MIBI slide based on user-set parameters."
   ]
  },
  {
   "cell_type": "markdown",
   "metadata": {},
   "source": [
    "### Define paths to the JSON data"
   ]
  },
  {
   "cell_type": "code",
   "execution_count": 2,
   "metadata": {},
   "outputs": [],
   "source": [
    "base_dir = \"../data/example_dataset\"\n",
    "json_tiling_dir = os.path.join(base_dir, \"json_tiling_data\")\n",
    "fov_list_path = os.path.join(json_tiling_dir, 'fov_list_single_fov_tma.json')\n",
    "moly_path = os.path.join(json_tiling_dir, 'moly_point.json')\n",
    "tiled_output_path = os.path.join(json_tiling_dir, 'tiled_output_tma.json')"
   ]
  },
  {
   "cell_type": "markdown",
   "metadata": {},
   "source": [
    "### Define whether TMA is used or not"
   ]
  },
  {
   "cell_type": "code",
   "execution_count": 3,
   "metadata": {},
   "outputs": [],
   "source": [
    "# tma = False\n",
    "tma = True"
   ]
  },
  {
   "cell_type": "markdown",
   "metadata": {},
   "source": [
    "### Set tiling parameters"
   ]
  },
  {
   "cell_type": "code",
   "execution_count": 4,
   "metadata": {},
   "outputs": [
    {
     "name": "stdin",
     "output_type": "stream",
     "text": [
      "Enter number of x fovs for region TheFirstFOV (at least 3 required):  3\n",
      "Enter number of y fovs for region TheFirstFOV (at least 3 required):  3\n",
      "Enter the x image size for region TheFirstFOV:  50\n",
      "Enter the y image size for region TheFirstFOV:  50\n",
      "Randomize fovs for region TheFirstFOV? Y/N:  N\n",
      "Insert moly points between runs? Y/N:  y\n",
      "Specify moly point tile interval? Y/N:  Y\n",
      "Enter the fov interval size to insert moly points:  3\n"
     ]
    }
   ],
   "source": [
    "# list of parameters:\n",
    "# starting x coordinate and y coordinate for each fov (taken from fov_list_file)\n",
    "# number of fovs along the x- and y-axis for each fov (set by user)\n",
    "# x- and y-axis step size (set by user)\n",
    "# randomize the order of the fovs or not (set by user)\n",
    "tiling_params, moly_point = tiling_utils.set_tiling_params(fov_list_path, moly_path, tma=tma)"
   ]
  },
  {
   "cell_type": "markdown",
   "metadata": {},
   "source": [
    "### Create the FOV tiles for each region"
   ]
  },
  {
   "cell_type": "code",
   "execution_count": 5,
   "metadata": {},
   "outputs": [],
   "source": [
    "tiled_regions = tiling_utils.create_tiled_regions(tiling_params, moly_point, tma=tma)"
   ]
  },
  {
   "cell_type": "code",
   "execution_count": 6,
   "metadata": {},
   "outputs": [],
   "source": [
    "# write the tiled output\n",
    "with open(tiled_output_path, 'w') as top:\n",
    "    json.dump(tiled_regions, top)"
   ]
  },
  {
   "cell_type": "markdown",
   "metadata": {
    "tags": []
   },
   "source": [
    "# 2. Slide overlay QC (for TMAs only)"
   ]
  },
  {
   "cell_type": "markdown",
   "metadata": {},
   "source": [
    "Using a pre-defined JSON of FOVs, compares with the automatically-generated FOVs from the previous step and allows for remapping if necessary."
   ]
  },
  {
   "cell_type": "markdown",
   "metadata": {
    "tags": []
   },
   "source": [
    "### Define QC parameters, read data in"
   ]
  },
  {
   "cell_type": "markdown",
   "metadata": {},
   "source": [
    "NOTE: the data contained in `proposed_tiled_output_path` is assumed to have the same tile dimensions and the same Moly point as the data in `tiled_output_path`."
   ]
  },
  {
   "cell_type": "code",
   "execution_count": 7,
   "metadata": {},
   "outputs": [],
   "source": [
    "proposed_tiled_output_path = os.path.join(json_tiling_dir, 'tiled_output_tma_proposed.json')\n",
    "slide_path = os.path.join(json_tiling_dir, 'slide.jpg')"
   ]
  },
  {
   "cell_type": "code",
   "execution_count": 8,
   "metadata": {},
   "outputs": [],
   "source": [
    "with open(proposed_tiled_output_path, 'r') as ptop:\n",
    "    tiled_regions_proposed = json.load(ptop)"
   ]
  },
  {
   "cell_type": "code",
   "execution_count": 9,
   "metadata": {},
   "outputs": [],
   "source": [
    "# NOTE: for time being, just visualize on a blank space\n",
    "slide_data = np.full((1000, 1000, 3), 255)"
   ]
  },
  {
   "cell_type": "code",
   "execution_count": 10,
   "metadata": {},
   "outputs": [
    {
     "data": {
      "text/plain": [
       "{'exportDateTime': '2021-12-07T02:52:28',\n",
       " 'fovFormatVersion': '1.5',\n",
       " 'fovs': [{'scanCount': 1,\n",
       "   'centerPointMicrons': {'x': 100, 'y': 100},\n",
       "   'timingChoice': 7,\n",
       "   'frameSizePixels': {'width': 2048, 'height': 2048},\n",
       "   'imagingPreset': {'preset': 'Normal',\n",
       "    'aperture': '2',\n",
       "    'displayName': 'Fine',\n",
       "    'defaults': {'timingChoice': 7}},\n",
       "   'sectionId': 8201,\n",
       "   'slideId': 5931,\n",
       "   'name': 'row100_col100',\n",
       "   'timingDescription': '1 ms'},\n",
       "  {'scanCount': 1,\n",
       "   'centerPointMicrons': {'x': 100, 'y': 250},\n",
       "   'timingChoice': 7,\n",
       "   'frameSizePixels': {'width': 2048, 'height': 2048},\n",
       "   'imagingPreset': {'preset': 'Normal',\n",
       "    'aperture': '2',\n",
       "    'displayName': 'Fine',\n",
       "    'defaults': {'timingChoice': 7}},\n",
       "   'sectionId': 8201,\n",
       "   'slideId': 5931,\n",
       "   'name': 'row100_col250',\n",
       "   'timingDescription': '1 ms'},\n",
       "  {'scanCount': 1,\n",
       "   'centerPointMicrons': {'x': 100, 'y': 400},\n",
       "   'timingChoice': 7,\n",
       "   'frameSizePixels': {'width': 2048, 'height': 2048},\n",
       "   'imagingPreset': {'preset': 'Normal',\n",
       "    'aperture': '2',\n",
       "    'displayName': 'Fine',\n",
       "    'defaults': {'timingChoice': 7}},\n",
       "   'sectionId': 8201,\n",
       "   'slideId': 5931,\n",
       "   'name': 'row100_col400',\n",
       "   'timingDescription': '1 ms'},\n",
       "  {'scanCount': 3,\n",
       "   'centerPointMicrons': {'x': 14540, 'y': -10830},\n",
       "   'fovSizeMicrons': 200,\n",
       "   'timingChoice': 7,\n",
       "   'frameSizePixels': {'width': 128, 'height': 128},\n",
       "   'imagingPreset': {'preset': 'Tuning',\n",
       "    'aperture': '3',\n",
       "    'displayName': 'QC - 100µm',\n",
       "    'defaults': {'timingChoice': 7}},\n",
       "   'standardTarget': 'Moly Foil',\n",
       "   'name': 'MoQC',\n",
       "   'notes': None,\n",
       "   'timingDescription': '1 ms'},\n",
       "  {'scanCount': 1,\n",
       "   'centerPointMicrons': {'x': 250, 'y': 100},\n",
       "   'timingChoice': 7,\n",
       "   'frameSizePixels': {'width': 2048, 'height': 2048},\n",
       "   'imagingPreset': {'preset': 'Normal',\n",
       "    'aperture': '2',\n",
       "    'displayName': 'Fine',\n",
       "    'defaults': {'timingChoice': 7}},\n",
       "   'sectionId': 8201,\n",
       "   'slideId': 5931,\n",
       "   'name': 'row250_col100',\n",
       "   'timingDescription': '1 ms'},\n",
       "  {'scanCount': 1,\n",
       "   'centerPointMicrons': {'x': 250, 'y': 250},\n",
       "   'timingChoice': 7,\n",
       "   'frameSizePixels': {'width': 2048, 'height': 2048},\n",
       "   'imagingPreset': {'preset': 'Normal',\n",
       "    'aperture': '2',\n",
       "    'displayName': 'Fine',\n",
       "    'defaults': {'timingChoice': 7}},\n",
       "   'sectionId': 8201,\n",
       "   'slideId': 5931,\n",
       "   'name': 'row250_col250',\n",
       "   'timingDescription': '1 ms'},\n",
       "  {'scanCount': 1,\n",
       "   'centerPointMicrons': {'x': 250, 'y': 400},\n",
       "   'timingChoice': 7,\n",
       "   'frameSizePixels': {'width': 2048, 'height': 2048},\n",
       "   'imagingPreset': {'preset': 'Normal',\n",
       "    'aperture': '2',\n",
       "    'displayName': 'Fine',\n",
       "    'defaults': {'timingChoice': 7}},\n",
       "   'sectionId': 8201,\n",
       "   'slideId': 5931,\n",
       "   'name': 'row250_col400',\n",
       "   'timingDescription': '1 ms'},\n",
       "  {'scanCount': 3,\n",
       "   'centerPointMicrons': {'x': 14540, 'y': -10830},\n",
       "   'fovSizeMicrons': 200,\n",
       "   'timingChoice': 7,\n",
       "   'frameSizePixels': {'width': 128, 'height': 128},\n",
       "   'imagingPreset': {'preset': 'Tuning',\n",
       "    'aperture': '3',\n",
       "    'displayName': 'QC - 100µm',\n",
       "    'defaults': {'timingChoice': 7}},\n",
       "   'standardTarget': 'Moly Foil',\n",
       "   'name': 'MoQC',\n",
       "   'notes': None,\n",
       "   'timingDescription': '1 ms'},\n",
       "  {'scanCount': 1,\n",
       "   'centerPointMicrons': {'x': 400, 'y': 100},\n",
       "   'timingChoice': 7,\n",
       "   'frameSizePixels': {'width': 2048, 'height': 2048},\n",
       "   'imagingPreset': {'preset': 'Normal',\n",
       "    'aperture': '2',\n",
       "    'displayName': 'Fine',\n",
       "    'defaults': {'timingChoice': 7}},\n",
       "   'sectionId': 8201,\n",
       "   'slideId': 5931,\n",
       "   'name': 'row400_col100',\n",
       "   'timingDescription': '1 ms'},\n",
       "  {'scanCount': 1,\n",
       "   'centerPointMicrons': {'x': 400, 'y': 250},\n",
       "   'timingChoice': 7,\n",
       "   'frameSizePixels': {'width': 2048, 'height': 2048},\n",
       "   'imagingPreset': {'preset': 'Normal',\n",
       "    'aperture': '2',\n",
       "    'displayName': 'Fine',\n",
       "    'defaults': {'timingChoice': 7}},\n",
       "   'sectionId': 8201,\n",
       "   'slideId': 5931,\n",
       "   'name': 'row400_col250',\n",
       "   'timingDescription': '1 ms'},\n",
       "  {'scanCount': 1,\n",
       "   'centerPointMicrons': {'x': 400, 'y': 400},\n",
       "   'timingChoice': 7,\n",
       "   'frameSizePixels': {'width': 2048, 'height': 2048},\n",
       "   'imagingPreset': {'preset': 'Normal',\n",
       "    'aperture': '2',\n",
       "    'displayName': 'Fine',\n",
       "    'defaults': {'timingChoice': 7}},\n",
       "   'sectionId': 8201,\n",
       "   'slideId': 5931,\n",
       "   'name': 'row400_col400',\n",
       "   'timingDescription': '1 ms'},\n",
       "  {'scanCount': 3,\n",
       "   'centerPointMicrons': {'x': 14540, 'y': -10830},\n",
       "   'fovSizeMicrons': 200,\n",
       "   'timingChoice': 7,\n",
       "   'frameSizePixels': {'width': 128, 'height': 128},\n",
       "   'imagingPreset': {'preset': 'Tuning',\n",
       "    'aperture': '3',\n",
       "    'displayName': 'QC - 100µm',\n",
       "    'defaults': {'timingChoice': 7}},\n",
       "   'standardTarget': 'Moly Foil',\n",
       "   'name': 'MoQC',\n",
       "   'notes': None,\n",
       "   'timingDescription': '1 ms'}]}"
      ]
     },
     "execution_count": 10,
     "metadata": {},
     "output_type": "execute_result"
    }
   ],
   "source": [
    "tiled_regions"
   ]
  },
  {
   "cell_type": "markdown",
   "metadata": {},
   "source": [
    "### Map proposed tiles to their closest automatically-generated tile (Euclidean)"
   ]
  },
  {
   "cell_type": "code",
   "execution_count": 11,
   "metadata": {},
   "outputs": [],
   "source": [
    "proposed_to_auto_map, proposed_tiles_info, auto_tiles_info = tiling_utils.assign_closest_tiled_regions(tiled_regions_proposed, tiled_regions, moly_point['name'])"
   ]
  },
  {
   "cell_type": "code",
   "execution_count": 12,
   "metadata": {},
   "outputs": [
    {
     "data": {
      "text/plain": [
       "{'row225_col175': 'row250_col100',\n",
       " 'row75_col325': 'row100_col250',\n",
       " 'row75_col175': 'row100_col100',\n",
       " 'row75_col25': 'row100_col100',\n",
       " 'row375_col25': 'row400_col100',\n",
       " 'row375_col175': 'row400_col100'}"
      ]
     },
     "execution_count": 12,
     "metadata": {},
     "output_type": "execute_result"
    }
   ],
   "source": [
    "proposed_to_auto_map"
   ]
  },
  {
   "cell_type": "code",
   "execution_count": 13,
   "metadata": {},
   "outputs": [
    {
     "data": {
      "text/plain": [
       "{'row225_col175': {'centroid': (225, 175), 'size': (2048, 2048)},\n",
       " 'row75_col325': {'centroid': (75, 325), 'size': (2048, 2048)},\n",
       " 'row75_col175': {'centroid': (75, 175), 'size': (2048, 2048)},\n",
       " 'row75_col25': {'centroid': (75, 25), 'size': (2048, 2048)},\n",
       " 'row375_col25': {'centroid': (375, 25), 'size': (2048, 2048)},\n",
       " 'row375_col175': {'centroid': (375, 175), 'size': (2048, 2048)}}"
      ]
     },
     "execution_count": 13,
     "metadata": {},
     "output_type": "execute_result"
    }
   ],
   "source": [
    "proposed_tiles_info"
   ]
  },
  {
   "cell_type": "code",
   "execution_count": 14,
   "metadata": {},
   "outputs": [
    {
     "data": {
      "text/plain": [
       "{'row100_col100': {'centroid': (100, 100), 'size': (2048, 2048)},\n",
       " 'row100_col250': {'centroid': (100, 250), 'size': (2048, 2048)},\n",
       " 'row100_col400': {'centroid': (100, 400), 'size': (2048, 2048)},\n",
       " 'row250_col100': {'centroid': (250, 100), 'size': (2048, 2048)},\n",
       " 'row250_col250': {'centroid': (250, 250), 'size': (2048, 2048)},\n",
       " 'row250_col400': {'centroid': (250, 400), 'size': (2048, 2048)},\n",
       " 'row400_col100': {'centroid': (400, 100), 'size': (2048, 2048)},\n",
       " 'row400_col250': {'centroid': (400, 250), 'size': (2048, 2048)},\n",
       " 'row400_col400': {'centroid': (400, 400), 'size': (2048, 2048)}}"
      ]
     },
     "execution_count": 14,
     "metadata": {},
     "output_type": "execute_result"
    }
   ],
   "source": [
    "auto_tiles_info"
   ]
  },
  {
   "cell_type": "markdown",
   "metadata": {},
   "source": [
    "### Visualize and remap tiles"
   ]
  },
  {
   "cell_type": "code",
   "execution_count": 15,
   "metadata": {},
   "outputs": [
    {
     "data": {
      "application/vnd.jupyter.widget-view+json": {
       "model_id": "b9490e176f8548ba8f1a5e4e074c1ef6",
       "version_major": 2,
       "version_minor": 0
      },
      "text/plain": [
       "HBox(children=(Dropdown(description='Proposed tile', options=('row225_col175', 'row75_col325', 'row75_col175',…"
      ]
     },
     "metadata": {},
     "output_type": "display_data"
    },
    {
     "data": {
      "application/vnd.jupyter.widget-view+json": {
       "model_id": "5c827084eec045e3b7412d657d17bc80",
       "version_major": 2,
       "version_minor": 0
      },
      "text/plain": [
       "Output()"
      ]
     },
     "metadata": {},
     "output_type": "display_data"
    },
    {
     "data": {
      "image/png": "[encoded data removed]",
      "text/plain": [
       "<Figure size 1440x1440 with 1 Axes>"
      ]
     },
     "metadata": {
      "needs_background": "light"
     },
     "output_type": "display_data"
    }
   ],
   "source": [
    "tiling_utils.interactive_remap(proposed_to_auto_map, proposed_tiles_info, auto_tiles_info, slide_data, figsize=(20, 20))"
   ]
  }
 ],
 "metadata": {
  "kernelspec": {
   "display_name": "Python 3",
   "language": "python",
   "name": "python3"
  },
  "language_info": {
   "codemirror_mode": {
    "name": "ipython",
    "version": 3
   },
   "file_extension": ".py",
   "mimetype": "text/x-python",
   "name": "python",
   "nbconvert_exporter": "python",
   "pygments_lexer": "ipython3",
   "version": "3.6.13"
  }
 },
 "nbformat": 4,
 "nbformat_minor": 4
}
