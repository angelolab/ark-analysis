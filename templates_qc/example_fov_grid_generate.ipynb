{
 "cells": [
  {
   "cell_type": "markdown",
   "metadata": {},
   "source": [
    "NOTE: because of the way remapping works for TMAs, we recommend running this notebook cell-by-cell rather than all at once."
   ]
  },
  {
   "cell_type": "code",
   "execution_count": null,
   "metadata": {},
   "outputs": [],
   "source": [
    "import json\n",
    "import os\n",
    "from skimage.io import imread\n",
    "\n",
    "from ark.mibi import tiling_utils\n",
    "\n",
    "# suppress mpl deprecation\n",
    "import warnings\n",
    "from matplotlib.cbook import mplDeprecation\n",
    "warnings.filterwarnings(\"ignore\", category=mplDeprecation)"
   ]
  },
  {
   "cell_type": "markdown",
   "metadata": {},
   "source": [
    "# 1. Automatically generate tiled regions"
   ]
  },
  {
   "cell_type": "markdown",
   "metadata": {},
   "source": [
    "This automatically creates tiles which define FOVs on the MIBI slide based on user-set parameters."
   ]
  },
  {
   "cell_type": "markdown",
   "metadata": {},
   "source": [
    "### Define paths to the JSON data"
   ]
  },
  {
   "cell_type": "markdown",
   "metadata": {},
   "source": [
    "You'll need to define the following:\n",
    "\n",
    "* `base_dir`: the root directory of the tiling data\n",
    "* `json_tiling_dir`: the directory in `base_dir` containing the information to read and write the FOV info\n",
    "* `fov_list_path`: the list of FOVs to use for tiling\n",
    "* `moly_path`: the path to the Moly point, needed if you want to insert this between FOVs and/or runs"
   ]
  },
  {
   "cell_type": "code",
   "execution_count": null,
   "metadata": {},
   "outputs": [],
   "source": [
    "base_dir = \"../data/example_dataset\"\n",
    "json_tiling_dir = os.path.join(base_dir, \"json_tiling_data\")\n",
    "fov_list_path = os.path.join(json_tiling_dir, 'fov_list_single_fov_tma.json')\n",
    "moly_path = os.path.join(json_tiling_dir, 'moly_point.json')"
   ]
  },
  {
   "cell_type": "markdown",
   "metadata": {},
   "source": [
    "### Define whether TMA is used or not"
   ]
  },
  {
   "cell_type": "code",
   "execution_count": null,
   "metadata": {},
   "outputs": [],
   "source": [
    "tma = True"
   ]
  },
  {
   "cell_type": "markdown",
   "metadata": {},
   "source": [
    "### Define the path to store the generated FOVs"
   ]
  },
  {
   "cell_type": "code",
   "execution_count": null,
   "metadata": {},
   "outputs": [],
   "source": [
    "fov_output_path = os.path.join(json_tiling_dir, 'fov_output_tma.json')"
   ]
  },
  {
   "cell_type": "markdown",
   "metadata": {},
   "source": [
    "### Set tiling parameters"
   ]
  },
  {
   "cell_type": "markdown",
   "metadata": {},
   "source": [
    "The following parameters will be defined:\n",
    "\n",
    "* Starting x coordinate and y coordinate for each fov (taken from `fov_list_path`)\n",
    "* Number of fovs along the x- and y-axis for each fov (set by user)\n",
    "* x- and y-axis step size (set by user)\n",
    "* Whether to randomize the order of the fovs or not (set by user)\n",
    "\n",
    "Notes about MIBI coordinate axes:\n",
    "\n",
    "* The x-axis goes from left to right ascending\n",
    "* The y-axis goes from bottom to top ascending\n",
    "\n",
    "Note for TMAs:\n",
    "\n",
    "* A region is defined by the upper-left and the bottom-right corner FOV. FOVs are generated in between based on the parameters specified.\n",
    "* The upper-left corner is expected to be listed before the bottom-right corner FOV for a region\n",
    "* If multiple regions are specified in the notebook, one region's upper-left and bottom-right corner FOV are expected to be defined before another's"
   ]
  },
  {
   "cell_type": "code",
   "execution_count": null,
   "metadata": {},
   "outputs": [],
   "source": [
    "tiling_params, moly_point = tiling_utils.set_tiling_params(\n",
    "    fov_list_path,\n",
    "    moly_path,\n",
    "    tma=tma\n",
    ")"
   ]
  },
  {
   "cell_type": "markdown",
   "metadata": {},
   "source": [
    "### Create the FOV tiles for each region"
   ]
  },
  {
   "cell_type": "code",
   "execution_count": null,
   "metadata": {},
   "outputs": [],
   "source": [
    "auto_fov_regions = tiling_utils.generate_fov_list(\n",
    "    tiling_params,\n",
    "    moly_point,\n",
    "    tma=tma\n",
    ")"
   ]
  },
  {
   "cell_type": "code",
   "execution_count": null,
   "metadata": {},
   "outputs": [],
   "source": [
    "# write the tiled output\n",
    "with open(fov_output_path, 'w') as fop:\n",
    "    json.dump(auto_fov_regions, fop)"
   ]
  },
  {
   "cell_type": "markdown",
   "metadata": {
    "tags": []
   },
   "source": [
    "# 2. Slide overlay QC (for TMAs only)"
   ]
  },
  {
   "cell_type": "markdown",
   "metadata": {},
   "source": [
    "TODO: separate this to a different notebook."
   ]
  },
  {
   "cell_type": "markdown",
   "metadata": {},
   "source": [
    "Using a pre-defined JSON of FOVs, compares with the automatically-generated FOVs from the previous step and allows for remapping if necessary."
   ]
  },
  {
   "cell_type": "markdown",
   "metadata": {
    "tags": []
   },
   "source": [
    "### Define QC parameters, read data in"
   ]
  },
  {
   "cell_type": "markdown",
   "metadata": {},
   "source": [
    "Define the following parameters:\n",
    "\n",
    "* `manual_fov_output_path`: the path to your proposed set of FOVs\n",
    "* `slide_path`: the path to the slide which to take the FOVs\n",
    "* `mapping_path`: the path which to save the final mapping of your proposed FOVs to the FOVs generated by the script (contained in `augo_fov_regions`)\n",
    "* `remapped_fov_path`: the path to write the tiles with remapped FOV names\n",
    "\n",
    "NOTE: the data contained in `manual_fov_output_path` is assumed to have the same FOV dimensions and the same Moly point as the data in `fov_output_path`."
   ]
  },
  {
   "cell_type": "code",
   "execution_count": null,
   "metadata": {},
   "outputs": [],
   "source": [
    "manual_fov_output_path = os.path.join(json_tiling_dir, 'noah_test_tiles.json')\n",
    "slide_path = os.path.join(json_tiling_dir, 'noah_test_slide.png')\n",
    "mapping_path = os.path.join(json_tiling_dir, 'manual_auto_map.json')\n",
    "remapped_fov_path = os.path.join(json_tiling_dir, 'noah_test_tiles_remapped.json')"
   ]
  },
  {
   "cell_type": "code",
   "execution_count": null,
   "metadata": {},
   "outputs": [],
   "source": [
    "# load the proposed set of tiles in\n",
    "with open(manual_fov_output_path, 'r') as mfop:\n",
    "    manual_fov_regions = json.load(mfop)"
   ]
  },
  {
   "cell_type": "code",
   "execution_count": null,
   "metadata": {},
   "outputs": [],
   "source": [
    "# load the slide image in\n",
    "slide_data = imread(slide_path)"
   ]
  },
  {
   "cell_type": "markdown",
   "metadata": {},
   "source": [
    "### Map proposed tiles to their closest automatically-generated tile (Euclidean)"
   ]
  },
  {
   "cell_type": "code",
   "execution_count": null,
   "metadata": {},
   "outputs": [],
   "source": [
    "manual_to_auto_map, manual_fovs_info, auto_fovs_info = tiling_utils.assign_closest_fovs(\n",
    "    manual_fov_regions,\n",
    "    auto_fov_regions,\n",
    "    moly_point['name']\n",
    ")"
   ]
  },
  {
   "cell_type": "markdown",
   "metadata": {},
   "source": [
    "### Visualize and remap tiles"
   ]
  },
  {
   "cell_type": "markdown",
   "metadata": {},
   "source": [
    "Usage notes:\n",
    "\n",
    "* Proposed FOVs are drawn in red. Automatically-generated FOVs are drawn in blue.\n",
    "* The selected proposed FOV and its mapped automatically-generated FOV are colored a darker shade.\n",
    "* The `Manually-defined FOV` tab can be used to visualize current mappings to automatically-generated FOVs.\n",
    "* The `Automatically-generated FOV` tab is used for re-mapping a FOV created by this script to one of yours.\n",
    "* When you're done generating your desired mapping, click the `Save mapping`. This will save your mapping to `mapping_path` specified earlier.\n",
    "\n",
    "Note:\n",
    "\n",
    "* The cells after this interactive widget (in the section `Use mapping to rename FOVs in tiled_regions_proposed`) are only to be run after you're satisfied with the mapping and clicked `Save mapping`.\n",
    "* Prior to clicking `Save mapping` and re-running the cells in that section, ignore any error messages that may appear there."
   ]
  },
  {
   "cell_type": "code",
   "execution_count": 12,
   "metadata": {},
   "outputs": [
    {
     "data": {
      "application/vnd.jupyter.widget-view+json": {
       "model_id": "6ee6a6b96ffd4f1e92c5ece82e08a607",
       "version_major": 2,
       "version_minor": 0
      },
      "text/plain": [
       "HBox(children=(Dropdown(description='Manually-defined FOV', layout=Layout(width='auto'), options=('R1C1', 'R1C…"
      ]
     },
     "metadata": {},
     "output_type": "display_data"
    },
    {
     "data": {
      "application/vnd.jupyter.widget-view+json": {
       "model_id": "5567ddbaa35b4c39a099b6c33b0831f2",
       "version_major": 2,
       "version_minor": 0
      },
      "text/plain": [
       "Canvas(toolbar=Toolbar(toolitems=[('Home', 'Reset original view', 'home', 'home'), ('Back', 'Back to  previous…"
      ]
     },
     "metadata": {},
     "output_type": "display_data"
    },
    {
     "data": {
      "application/vnd.jupyter.widget-view+json": {
       "model_id": "f4f82142474c4228ab3d811d8ed01993",
       "version_major": 2,
       "version_minor": 0
      },
      "text/plain": [
       "Output()"
      ]
     },
     "metadata": {},
     "output_type": "display_data"
    }
   ],
   "source": [
    "%matplotlib widget\n",
    "tiling_utils.interactive_remap(\n",
    "    manual_to_auto_map,\n",
    "    manual_fovs_info,\n",
    "    auto_fovs_info,\n",
    "    slide_data,\n",
    "    mapping_path,\n",
    "    draw_radius=7,\n",
    "    figsize=(7, 7)\n",
    ")"
   ]
  },
  {
   "cell_type": "markdown",
   "metadata": {},
   "source": [
    "### Use mapping to rename FOVs in `manual_fov_regions`"
   ]
  },
  {
   "cell_type": "code",
   "execution_count": null,
   "metadata": {},
   "outputs": [],
   "source": [
    "# load the mapping saved in the interactive visualization in\n",
    "with open(mapping_path, 'r') as mp:\n",
    "    mapping = json.load(mp)"
   ]
  },
  {
   "cell_type": "markdown",
   "metadata": {},
   "source": [
    "In addition to renaming FOVs in `manual_fov_regions`, the following steps can be done if specified:\n",
    "\n",
    "* The FOVs are randomized (set `randomize = True` in the following cell). \n",
    "* Moly points are inserted at a specified interval (set `insert_moly = True` and `moly_interval` to the desired value in the following cell). The same Moly point returned by `set_tiling_params` in step 1 is used."
   ]
  },
  {
   "cell_type": "code",
   "execution_count": null,
   "metadata": {},
   "outputs": [],
   "source": [
    "# whether to randomize the FOVs in remapped_fov_regions\n",
    "randomize = False\n",
    "\n",
    "# whether to insert Moly points between a specified interval of FOVs in remapped_fov_regions\n",
    "moly_insert = False\n",
    "moly_interval = 5"
   ]
  },
  {
   "cell_type": "code",
   "execution_count": null,
   "metadata": {},
   "outputs": [],
   "source": [
    "# rename FOVs, randomize the order, and insert Moly points at a specified interval\n",
    "remapped_fov_regions = tiling_utils.remap_and_reorder_fovs(\n",
    "    manual_fov_regions,\n",
    "    mapping,\n",
    "    moly_point,\n",
    "    randomize=randomize,\n",
    "    moly_insert=moly_insert,\n",
    "    moly_interval=moly_interval\n",
    ")"
   ]
  },
  {
   "cell_type": "code",
   "execution_count": null,
   "metadata": {},
   "outputs": [],
   "source": [
    "# save remapped_fov_regions with the new FOV names (and randomized and with Moly points inserted if specified)\n",
    "with open(remapped_fov_path, 'w') as rtp:\n",
    "    json.dump(remapped_fov_regions, rtp)"
   ]
  }
 ],
 "metadata": {
  "kernelspec": {
   "display_name": "Python 3",
   "language": "python",
   "name": "python3"
  },
  "language_info": {
   "codemirror_mode": {
    "name": "ipython",
    "version": 3
   },
   "file_extension": ".py",
   "mimetype": "text/x-python",
   "name": "python",
   "nbconvert_exporter": "python",
   "pygments_lexer": "ipython3",
   "version": "3.6.13"
  }
 },
 "nbformat": 4,
 "nbformat_minor": 4
}
