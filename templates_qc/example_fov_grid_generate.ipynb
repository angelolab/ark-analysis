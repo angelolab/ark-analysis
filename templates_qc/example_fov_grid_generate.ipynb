{
 "cells": [
  {
   "cell_type": "markdown",
   "metadata": {},
   "source": [
    "# Automatically generate FOVs given a non-TMA or TMA"
   ]
  },
  {
   "cell_type": "markdown",
   "metadata": {},
   "source": [
    "This automatically creates tiles which define FOVs on the MIBI slide based on user-set parameters.\n",
    "\n",
    "Notes about MIBI coordinate axes:\n",
    "\n",
    "* The x-axis goes from left to right ascending\n",
    "* The y-axis goes from bottom to top ascending"
   ]
  },
  {
   "cell_type": "code",
   "execution_count": null,
   "metadata": {},
   "outputs": [],
   "source": [
    "import json\n",
    "import os\n",
    "\n",
    "from ark.mibi import tiling_utils"
   ]
  },
  {
   "cell_type": "markdown",
   "metadata": {},
   "source": [
    "### Define paths to the JSON data"
   ]
  },
  {
   "cell_type": "markdown",
   "metadata": {},
   "source": [
    "Define the following parameters to set your home directory:\n",
    "\n",
    "* `base_dir`: the root directory of the tiling data\n",
    "* `json_tiling_dir`: the directory in `base_dir` containing the information to read and write the FOV info\n",
    "\n",
    "Define the prefix to use for your input and output file names:\n",
    "\n",
    "* `fov_gen_prefix`: defaults to `example_tma`\n",
    "\n",
    "Define the following input and output paths (all prefixed by `fov_gen_prefix`):\n",
    "\n",
    "* `fov_list_path`: the list of FOVs to use for tiling\n",
    "* `fov_output_path`: where to store the FOVs. Will be an actual run file for non-TMAs and a basic mapping of FOV to centroid coordinate (in microns) for TMAs.\n",
    "* `moly_path`: the path to the Moly point, needed if you want to insert this between FOVs and/or regions after remapping. Ignored if you choose not to insert Moly points between FOVs or if you're tiling TMAs.\n",
    "\n",
    "More about `fov_list_path`:\n",
    "\n",
    "* non-TMAs: each FOV in `fov_list_path` defines the top-left corner of a separate region\n",
    "* TMAs: `fov_list_path` should contain 2 FOVs, one defining the upper-left corner and one defining the bottom-right corner FOV"
   ]
  },
  {
   "cell_type": "code",
   "execution_count": null,
   "metadata": {},
   "outputs": [],
   "source": [
    "# define your home directory\n",
    "base_dir = \"../data/example_dataset\"\n",
    "json_tiling_dir = os.path.join(base_dir, \"json_tiling_data\")\n",
    "\n",
    "# define the prefix of each file\n",
    "fov_gen_prefix = 'example_tma'\n",
    "\n",
    "# define the input and output files\n",
    "fov_list_path = os.path.join(json_tiling_dir, '%s_fov_list.json' % fov_gen_prefix)\n",
    "fov_output_path = os.path.join(json_tiling_dir, '%s_fov_output.json' % fov_gen_prefix)\n",
    "moly_path = os.path.join(json_tiling_dir, '%s_moly_point.json' % fov_gen_prefix)"
   ]
  },
  {
   "cell_type": "markdown",
   "metadata": {},
   "source": [
    "### Define whether you're tiling a TMA or not"
   ]
  },
  {
   "cell_type": "code",
   "execution_count": null,
   "metadata": {},
   "outputs": [],
   "source": [
    "tma = True"
   ]
  },
  {
   "cell_type": "markdown",
   "metadata": {},
   "source": [
    "### Set tiling parameters (non-TMAs)"
   ]
  },
  {
   "cell_type": "markdown",
   "metadata": {},
   "source": [
    "<b>NOTE: ignore this section if you're doing TMA tiling</b>\n",
    "\n",
    "For non-TMAs, the following parameters need to be defined for each region (you will be prompted for them running this cell):\n",
    "\n",
    "* The FOV defining the top-left corner and its centroid (taken from `fov_list_path`, each entry indicates a different region)\n",
    "* Number of FOVs along the x- and y-axis (set by you)\n",
    "* x- and y-axis step size (set by you)\n",
    "* Whether to randomize the order of the FOVs or not (set by you)\n",
    "* Whether to insert Moly points between regions\n",
    "* Whether to insert Moly points between FOVs at a specified interval. Please refer to the documentation for `generate_fov_list_non_tma` for how the Moly point insertion works: https://ark-analysis.readthedocs.io/en/latest/_markdown/ark.mibi.html#ark.mibi.tiling_utils.generate_fov_list_non_tma"
   ]
  },
  {
   "cell_type": "code",
   "execution_count": null,
   "metadata": {},
   "outputs": [],
   "source": [
    "if not tma:\n",
    "    tiling_params, moly_point = tiling_utils.set_tiling_params_non_tma(\n",
    "        fov_list_path,\n",
    "        moly_path\n",
    "    )"
   ]
  },
  {
   "cell_type": "markdown",
   "metadata": {},
   "source": [
    "### Set tiling parameters (TMAs)"
   ]
  },
  {
   "cell_type": "markdown",
   "metadata": {},
   "source": [
    "<b>NOTE: ignore this section if you're doing non-TMA tiling</b>\n",
    "\n",
    "For TMAs, define the following:\n",
    "\n",
    "* `tma_num_x`: the number of FOVs along the x-axis to create. Note that you must define at least 3.\n",
    "* `tma_num_y`: the number of FOVs along the y-axis to create. Note that you must define at least 3.\n",
    "\n",
    "The FOVs created will be equally spaced along the coordinate grid defined by the top-left and bottom-right FOV in `fov_list_path`.\n",
    "\n",
    "NOTE: for TMAs, randomization and Moly point insertion will be done in `example_remap_tma_fov.ipynb` after the names have been remapped."
   ]
  },
  {
   "cell_type": "code",
   "execution_count": null,
   "metadata": {},
   "outputs": [],
   "source": [
    "tma_num_x = 4\n",
    "tma_num_y = 7"
   ]
  },
  {
   "cell_type": "markdown",
   "metadata": {},
   "source": [
    "### Create the FOV tiles for each region"
   ]
  },
  {
   "cell_type": "markdown",
   "metadata": {},
   "source": [
    "Tiling will be done from top to bottom (descending y-axis order), then left to right (ascending x-axis order). FOV names correspond to their row and column position on the grid of FOVs and are 1-indexed.\n",
    "\n",
    "For example, `R1C1` means the FOV is in row 1 and column 1 of the grid of FOVs, `R2C1` would be the next FOV down, and `R1C2` would be the next FOV to the right. In an unrandomized `auto_fov_regions`, `R2C1` would immediately follow `R1C1` and all of the `R{n}C1` FOVs would come before the `R{n}C2` FOVs for each region.\n",
    "\n",
    "Note that due to the y-axis ascending from bottom to top, `R2C1's` y-axis coordinate is lower compared to `R1C1's`."
   ]
  },
  {
   "cell_type": "code",
   "execution_count": null,
   "metadata": {},
   "outputs": [],
   "source": [
    "# generate the list of FOVs\n",
    "if tma:\n",
    "    auto_fov_regions = tiling_utils.generate_fov_list_tma(\n",
    "        fov_list_path,\n",
    "        tma_num_x,\n",
    "        tma_num_y\n",
    "    )\n",
    "else:\n",
    "    auto_fov_regions = tiling_utils.generate_fov_list_non_tma(\n",
    "        tiling_params,\n",
    "        moly_point\n",
    "    )"
   ]
  },
  {
   "cell_type": "code",
   "execution_count": null,
   "metadata": {},
   "outputs": [],
   "source": [
    "# write the tiled output\n",
    "with open(fov_output_path, 'w') as fop:\n",
    "    json.dump(auto_fov_regions, fop)"
   ]
  }
 ],
 "metadata": {
  "kernelspec": {
   "display_name": "Python 3",
   "language": "python",
   "name": "python3"
  },
  "language_info": {
   "codemirror_mode": {
    "name": "ipython",
    "version": 3
   },
   "file_extension": ".py",
   "mimetype": "text/x-python",
   "name": "python",
   "nbconvert_exporter": "python",
   "pygments_lexer": "ipython3",
   "version": "3.6.13"
  }
 },
 "nbformat": 4,
 "nbformat_minor": 4
}
