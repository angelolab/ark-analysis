{
 "cells": [
  {
   "cell_type": "markdown",
   "metadata": {},
   "source": [
    "NOTE: because of the way remapping works for TMAs, we recommend running this notebook cell-by-cell rather than all at once."
   ]
  },
  {
   "cell_type": "code",
   "execution_count": null,
   "metadata": {},
   "outputs": [],
   "source": [
    "import json\n",
    "import os\n",
    "from skimage.io import imread\n",
    "\n",
    "from ark.mibi import tiling_utils\n",
    "\n",
    "# suppress mpl deprecation\n",
    "import warnings\n",
    "from matplotlib.cbook import mplDeprecation\n",
    "warnings.filterwarnings(\"ignore\", category=mplDeprecation)"
   ]
  },
  {
   "cell_type": "markdown",
   "metadata": {},
   "source": [
    "# 1. Automatically generate tiled regions"
   ]
  },
  {
   "cell_type": "markdown",
   "metadata": {},
   "source": [
    "This automatically creates tiles which define FOVs on the MIBI slide based on user-set parameters."
   ]
  },
  {
   "cell_type": "markdown",
   "metadata": {},
   "source": [
    "### Define paths to the JSON data"
   ]
  },
  {
   "cell_type": "code",
   "execution_count": null,
   "metadata": {},
   "outputs": [],
   "source": [
    "base_dir = \"../data/example_dataset\"\n",
    "json_tiling_dir = os.path.join(base_dir, \"json_tiling_data\")\n",
    "fov_list_path = os.path.join(json_tiling_dir, 'fov_list_single_fov_tma.json')\n",
    "moly_path = os.path.join(json_tiling_dir, 'moly_point.json')\n",
    "tiled_output_path = os.path.join(json_tiling_dir, 'tiled_output_tma.json')"
   ]
  },
  {
   "cell_type": "markdown",
   "metadata": {},
   "source": [
    "### Define whether TMA is used or not"
   ]
  },
  {
   "cell_type": "code",
   "execution_count": null,
   "metadata": {},
   "outputs": [],
   "source": [
    "tma = True"
   ]
  },
  {
   "cell_type": "markdown",
   "metadata": {},
   "source": [
    "### Set tiling parameters"
   ]
  },
  {
   "cell_type": "markdown",
   "metadata": {},
   "source": [
    "The following parameters will be defined:\n",
    "\n",
    "* Starting x coordinate and y coordinate for each fov (taken from `fov_list_file`)\n",
    "* Number of fovs along the x- and y-axis for each fov (set by user)\n",
    "* x- and y-axis step size (set by user)\n",
    "* Whether to randomize the order of the fovs or not (set by user)"
   ]
  },
  {
   "cell_type": "code",
   "execution_count": 4,
   "metadata": {},
   "outputs": [
    {
     "name": "stdin",
     "output_type": "stream",
     "text": [
      "Enter number of x fovs for region TheFirstFOV (at least 3 required):  5\n",
      "Enter number of y fovs for region TheFirstFOV (at least 3 required):  5\n",
      "Enter the x image size for region TheFirstFOV (in microns):  1000\n",
      "Enter the y image size for region TheFirstFOV (in microns):  2000\n",
      "Randomize fovs for region TheFirstFOV? Y/N:  N\n",
      "Insert moly points between runs? Y/N:  Y\n",
      "Specify moly point tile interval? Y/N:  Y\n",
      "Enter the fov interval size to insert moly points:  5\n"
     ]
    }
   ],
   "source": [
    "# automatically define upper-right and bottom-left hand corner for TMAs, which then autogenerates the tiles in between\n",
    "tiling_params, moly_point = tiling_utils.set_tiling_params(\n",
    "    fov_list_path,\n",
    "    moly_path,\n",
    "    tma=tma\n",
    ")"
   ]
  },
  {
   "cell_type": "markdown",
   "metadata": {},
   "source": [
    "### Create the FOV tiles for each region"
   ]
  },
  {
   "cell_type": "code",
   "execution_count": null,
   "metadata": {},
   "outputs": [],
   "source": [
    "tiled_regions = tiling_utils.create_tiled_regions(\n",
    "    tiling_params,\n",
    "    moly_point,\n",
    "    tma=tma\n",
    ")"
   ]
  },
  {
   "cell_type": "code",
   "execution_count": null,
   "metadata": {},
   "outputs": [],
   "source": [
    "# write the tiled output\n",
    "with open(tiled_output_path, 'w') as top:\n",
    "    json.dump(tiled_regions, top)"
   ]
  },
  {
   "cell_type": "markdown",
   "metadata": {
    "tags": []
   },
   "source": [
    "# 2. Slide overlay QC (for TMAs only)"
   ]
  },
  {
   "cell_type": "markdown",
   "metadata": {},
   "source": [
    "TODO: probably will separate this to a different notebook"
   ]
  },
  {
   "cell_type": "markdown",
   "metadata": {},
   "source": [
    "Using a pre-defined JSON of FOVs, compares with the automatically-generated FOVs from the previous step and allows for remapping if necessary."
   ]
  },
  {
   "cell_type": "markdown",
   "metadata": {
    "tags": []
   },
   "source": [
    "### Define QC parameters, read data in"
   ]
  },
  {
   "cell_type": "markdown",
   "metadata": {},
   "source": [
    "Define the following parameters:\n",
    "\n",
    "* `proposed_tiled_output_path`: the path to your proposed set of tiles\n",
    "* `slide_path`: the path to the slide which to take the tiles\n",
    "* `mapping_path`: the path which to save the final mapping of your proposed tiles to the tiles generated by the script (contained in `tiled_regions`)\n",
    "\n",
    "NOTE: the data contained in `proposed_tiled_output_path` is assumed to have the same tile dimensions and the same Moly point as the data in `tiled_output_path`."
   ]
  },
  {
   "cell_type": "code",
   "execution_count": null,
   "metadata": {},
   "outputs": [],
   "source": [
    "proposed_tiled_output_path = os.path.join(json_tiling_dir, 'noah_test_tiles.json')\n",
    "slide_path = os.path.join(json_tiling_dir, 'noah_test_slide.png')\n",
    "mapping_path = os.path.join(json_tiling_dir, 'proposed_auto_map.json')"
   ]
  },
  {
   "cell_type": "code",
   "execution_count": null,
   "metadata": {},
   "outputs": [],
   "source": [
    "# load the proposed set of tiles in\n",
    "with open(proposed_tiled_output_path, 'r') as ptop:\n",
    "    tiled_regions_proposed = json.load(ptop)"
   ]
  },
  {
   "cell_type": "code",
   "execution_count": null,
   "metadata": {},
   "outputs": [],
   "source": [
    "# load the slide image in\n",
    "slide_data = imread(slide_path)"
   ]
  },
  {
   "cell_type": "markdown",
   "metadata": {},
   "source": [
    "### Map proposed tiles to their closest automatically-generated tile (Euclidean)"
   ]
  },
  {
   "cell_type": "code",
   "execution_count": null,
   "metadata": {},
   "outputs": [],
   "source": [
    "proposed_to_auto_map, proposed_tiles_info, auto_tiles_info = tiling_utils.assign_closest_tiled_regions(\n",
    "    tiled_regions_proposed,\n",
    "    tiled_regions,\n",
    "    moly_point['name']\n",
    ")"
   ]
  },
  {
   "cell_type": "markdown",
   "metadata": {},
   "source": [
    "### Visualize and remap tiles"
   ]
  },
  {
   "cell_type": "markdown",
   "metadata": {},
   "source": [
    "Usage notes:\n",
    "\n",
    "* Proposed tiles are drawn in black. Automatically-generated tiles are drawn in blue.\n",
    "* The selected proposed tile and its mapped automatically-generated tile are bolded.\n",
    "* The `Proposed tile` tab can be used to visualize current mappings to automatically-generated tiles.\n",
    "* The `Automatically-generated tile` tab is used for re-mapping a tile created by this script to one of your's."
   ]
  },
  {
   "cell_type": "code",
   "execution_count": 11,
   "metadata": {},
   "outputs": [
    {
     "data": {
      "application/vnd.jupyter.widget-view+json": {
       "model_id": "2a4b0e08fe974118a5c9500217bfa4cd",
       "version_major": 2,
       "version_minor": 0
      },
      "text/plain": [
       "HBox(children=(Dropdown(description='Proposed tile', layout=Layout(width='auto'), options=('R1C1', 'R1C2', 'R1…"
      ]
     },
     "metadata": {},
     "output_type": "display_data"
    },
    {
     "data": {
      "application/vnd.jupyter.widget-view+json": {
       "model_id": "33c8934414ea4d13a377bd6986ec3dfd",
       "version_major": 2,
       "version_minor": 0
      },
      "text/plain": [
       "Canvas(toolbar=Toolbar(toolitems=[('Home', 'Reset original view', 'home', 'home'), ('Back', 'Back to  previous…"
      ]
     },
     "metadata": {},
     "output_type": "display_data"
    },
    {
     "data": {
      "application/vnd.jupyter.widget-view+json": {
       "model_id": "003cc0489e90432294c02a2a860f2b3d",
       "version_major": 2,
       "version_minor": 0
      },
      "text/plain": [
       "Output()"
      ]
     },
     "metadata": {},
     "output_type": "display_data"
    }
   ],
   "source": [
    "%matplotlib widget\n",
    "tiling_utils.interactive_remap(\n",
    "    proposed_to_auto_map,\n",
    "    proposed_tiles_info,\n",
    "    auto_tiles_info,\n",
    "    slide_data,\n",
    "    mapping_path,\n",
    "    draw_radius=10,\n",
    "    figsize=(12, 12)\n",
    ")"
   ]
  },
  {
   "cell_type": "markdown",
   "metadata": {},
   "source": [
    "### Use mapping to rename FOVs in `tiled_regions_proposed`"
   ]
  },
  {
   "cell_type": "code",
   "execution_count": null,
   "metadata": {},
   "outputs": [],
   "source": [
    "# load the mapping saved in the interactive visualization in\n",
    "with open(mapping_path, 'r') as mp:\n",
    "    mapping = json.load(mp)"
   ]
  },
  {
   "cell_type": "markdown",
   "metadata": {},
   "source": [
    "In addition to renaming FOVs in `tiled_regions_proposed`, two additional steps are done:\n",
    "\n",
    "* The FOVs are randomized\n",
    "* Moly points are inserted at a specified interval (which you set). The same Moly point returned by `set_tiling_params` in step 1 is used."
   ]
  },
  {
   "cell_type": "code",
   "execution_count": null,
   "metadata": {},
   "outputs": [],
   "source": [
    "# set the interval you want Moly points to be inserted\n",
    "moly_interval = 5\n",
    "\n",
    "# rename FOVs, randomize the order, and insert Moly points at a specified interval\n",
    "tiled_regions_proposed = tiling_utils.remap_and_reorder_tiles(\n",
    "    tiled_regions_proposed,\n",
    "    mapping,\n",
    "    moly_point,\n",
    "    moly_interval\n",
    ")"
   ]
  },
  {
   "cell_type": "code",
   "execution_count": null,
   "metadata": {},
   "outputs": [],
   "source": [
    "# resave tiled_regions_proposed with the new FOV names, randomized, and with Moly points inserted\n",
    "with open(proposed_tiled_output_path, 'w') as ptop:\n",
    "    json.dump(new_tiled_regions_proposed, ptop)"
   ]
  }
 ],
 "metadata": {
  "kernelspec": {
   "display_name": "Python 3",
   "language": "python",
   "name": "python3"
  },
  "language_info": {
   "codemirror_mode": {
    "name": "ipython",
    "version": 3
   },
   "file_extension": ".py",
   "mimetype": "text/x-python",
   "name": "python",
   "nbconvert_exporter": "python",
   "pygments_lexer": "ipython3",
   "version": "3.6.13"
  }
 },
 "nbformat": 4,
 "nbformat_minor": 4
}
