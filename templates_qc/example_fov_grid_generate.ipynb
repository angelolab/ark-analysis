{
 "cells": [
  {
   "cell_type": "code",
   "execution_count": null,
   "metadata": {},
   "outputs": [],
   "source": [
    "import json\n",
    "import os\n",
    "\n",
    "import sys\n",
    "sys.path.append('..')\n",
    "sys.path.append('../ark')\n",
    "\n",
    "# NOTE: just for visualizing on blank space for the time being\n",
    "import numpy as np\n",
    "\n",
    "from ark.mibi import tiling_utils"
   ]
  },
  {
   "cell_type": "markdown",
   "metadata": {},
   "source": [
    "# 1. Automatically generate tiled regions"
   ]
  },
  {
   "cell_type": "markdown",
   "metadata": {},
   "source": [
    "This automatically creates tiles which define FOVs on the MIBI slide based on user-set parameters."
   ]
  },
  {
   "cell_type": "markdown",
   "metadata": {},
   "source": [
    "### Define paths to the JSON data"
   ]
  },
  {
   "cell_type": "code",
   "execution_count": null,
   "metadata": {},
   "outputs": [],
   "source": [
    "base_dir = \"../data/example_dataset\"\n",
    "json_tiling_dir = os.path.join(base_dir, \"json_tiling_data\")\n",
    "fov_list_path = os.path.join(json_tiling_dir, 'fov_list_single_fov_tma.json')\n",
    "moly_path = os.path.join(json_tiling_dir, 'moly_point.json')\n",
    "tiled_output_path = os.path.join(json_tiling_dir, 'tiled_output_tma.json')"
   ]
  },
  {
   "cell_type": "markdown",
   "metadata": {},
   "source": [
    "### Define whether TMA is used or not"
   ]
  },
  {
   "cell_type": "code",
   "execution_count": null,
   "metadata": {},
   "outputs": [],
   "source": [
    "# tma = False\n",
    "tma = True"
   ]
  },
  {
   "cell_type": "markdown",
   "metadata": {},
   "source": [
    "### Set tiling parameters"
   ]
  },
  {
   "cell_type": "code",
   "execution_count": null,
   "metadata": {},
   "outputs": [],
   "source": [
    "# list of parameters:\n",
    "# starting x coordinate and y coordinate for each fov (taken from fov_list_file)\n",
    "# number of fovs along the x- and y-axis for each fov (set by user)\n",
    "# x- and y-axis step size (set by user)\n",
    "# randomize the order of the fovs or not (set by user)\n",
    "tiling_params, moly_point = tiling_utils.set_tiling_params(fov_list_path, moly_path, tma=tma)"
   ]
  },
  {
   "cell_type": "markdown",
   "metadata": {},
   "source": [
    "### Create the FOV tiles for each region"
   ]
  },
  {
   "cell_type": "code",
   "execution_count": null,
   "metadata": {},
   "outputs": [],
   "source": [
    "tiled_regions = tiling_utils.create_tiled_regions(tiling_params, moly_point, tma=tma)"
   ]
  },
  {
   "cell_type": "code",
   "execution_count": null,
   "metadata": {},
   "outputs": [],
   "source": [
    "# write the tiled output\n",
    "with open(tiled_output_path, 'w') as top:\n",
    "    json.dump(tiled_regions, top)"
   ]
  },
  {
   "cell_type": "markdown",
   "metadata": {
    "tags": []
   },
   "source": [
    "# 2. Slide overlay QC (for TMAs only)"
   ]
  },
  {
   "cell_type": "markdown",
   "metadata": {},
   "source": [
    "Using a pre-defined JSON of FOVs, compares with the automatically-generated FOVs from the previous step and allows for remapping if necessary."
   ]
  },
  {
   "cell_type": "markdown",
   "metadata": {
    "tags": []
   },
   "source": [
    "### Define QC parameters, read data in"
   ]
  },
  {
   "cell_type": "markdown",
   "metadata": {},
   "source": [
    "NOTE: the data contained in `proposed_tiled_output_path` is assumed to have the same tile dimensions and the same Moly point as the data in `tiled_output_path`."
   ]
  },
  {
   "cell_type": "code",
   "execution_count": null,
   "metadata": {},
   "outputs": [],
   "source": [
    "proposed_tiled_output_path = os.path.join(json_tiling_dir, 'tiled_output_tma_proposed.json')\n",
    "slide_path = os.path.join(json_tiling_dir, 'slide.jpg')"
   ]
  },
  {
   "cell_type": "code",
   "execution_count": null,
   "metadata": {},
   "outputs": [],
   "source": [
    "with open(proposed_tiled_output_path, 'r') as ptop:\n",
    "    tiled_regions_proposed = json.load(ptop)"
   ]
  },
  {
   "cell_type": "code",
   "execution_count": null,
   "metadata": {},
   "outputs": [],
   "source": [
    "# NOTE: for time being, just visualize on a blank space, this will be changed to the actual slide with co-registration\n",
    "slide_data = np.full((1000, 1000, 3), 255)"
   ]
  },
  {
   "cell_type": "markdown",
   "metadata": {},
   "source": [
    "### Map proposed tiles to their closest automatically-generated tile (Euclidean)"
   ]
  },
  {
   "cell_type": "code",
   "execution_count": null,
   "metadata": {},
   "outputs": [],
   "source": [
    "proposed_to_auto_map, proposed_tiles_info, auto_tiles_info = tiling_utils.assign_closest_tiled_regions(tiled_regions_proposed, tiled_regions, moly_point['name'])"
   ]
  },
  {
   "cell_type": "markdown",
   "metadata": {},
   "source": [
    "### Visualize and remap tiles"
   ]
  },
  {
   "cell_type": "markdown",
   "metadata": {},
   "source": [
    "Usage notes:\n",
    "\n",
    "* Proposed tiles are drawn in black. Automatically-generated tiles are drawn in blue.\n",
    "* The selected proposed tile and its mapped automatically-generated tile are bolded.\n",
    "* The `Proposed tile` tab can be used to visualize current mappings to automatically-generated tiles.\n",
    "* The `Automatically-generated tile` tab is used for re-mapping a tile created by this script to one of your's."
   ]
  },
  {
   "cell_type": "code",
   "execution_count": 11,
   "metadata": {},
   "outputs": [
    {
     "data": {
      "application/vnd.jupyter.widget-view+json": {
       "model_id": "8910311c2b0545c1846cc851c1b3675e",
       "version_major": 2,
       "version_minor": 0
      },
      "text/plain": [
       "HBox(children=(Dropdown(description='Proposed tile', layout=Layout(width='auto'), options=('row225_col175', 'r…"
      ]
     },
     "metadata": {},
     "output_type": "display_data"
    },
    {
     "data": {
      "application/vnd.jupyter.widget-view+json": {
       "model_id": "fd596c5c31f448769d5c699a0cb1c78e",
       "version_major": 2,
       "version_minor": 0
      },
      "text/plain": [
       "Canvas(toolbar=Toolbar(toolitems=[('Home', 'Reset original view', 'home', 'home'), ('Back', 'Back to  previous…"
      ]
     },
     "metadata": {},
     "output_type": "display_data"
    },
    {
     "data": {
      "application/vnd.jupyter.widget-view+json": {
       "model_id": "8b34ce4efec446d8bbe8074bd331d29c",
       "version_major": 2,
       "version_minor": 0
      },
      "text/plain": [
       "Output()"
      ]
     },
     "metadata": {},
     "output_type": "display_data"
    }
   ],
   "source": [
    "%matplotlib widget\n",
    "tiling_utils.interactive_remap(proposed_to_auto_map, proposed_tiles_info, auto_tiles_info, slide_data, figsize=(15, 15))"
   ]
  }
 ],
 "metadata": {
  "kernelspec": {
   "display_name": "Python 3",
   "language": "python",
   "name": "python3"
  },
  "language_info": {
   "codemirror_mode": {
    "name": "ipython",
    "version": 3
   },
   "file_extension": ".py",
   "mimetype": "text/x-python",
   "name": "python",
   "nbconvert_exporter": "python",
   "pygments_lexer": "ipython3",
   "version": "3.6.13"
  }
 },
 "nbformat": 4,
 "nbformat_minor": 4
}
