{
 "cells": [
  {
   "cell_type": "markdown",
   "metadata": {},
   "source": [
    "# Generate tiled region run file"
   ]
  },
  {
   "cell_type": "markdown",
   "metadata": {},
   "source": [
    "Automatically creates tiled regions of multiple contiguous FOVs based on user-provided input"
   ]
  },
  {
   "cell_type": "code",
   "execution_count": null,
   "metadata": {},
   "outputs": [],
   "source": [
    "import json\n",
    "import os\n",
    "\n",
    "from ark.mibi import tiling_utils"
   ]
  },
  {
   "cell_type": "markdown",
   "metadata": {},
   "source": [
    "### Define paths to the JSON data"
   ]
  },
  {
   "cell_type": "markdown",
   "metadata": {},
   "source": [
    "Define the following parameters to set your home directory:\n",
    "\n",
    "* `json_tiling_dir`: the directory containing the information to read and write the FOV info\n",
    "\n",
    "Define the prefix to use for your input and output file names:\n",
    "\n",
    "* `tiled_region_prefix`: defaults to `example_tiled_region`\n",
    "\n",
    "Define the following input and output paths (all prefixed by `tiled_region_prefix`):\n",
    "\n",
    "* `region_corners_path`: the JSON file containing the FOVs to use for tiling, each FOV in `region_corners_path` defines the top-left corner of a separate region\n",
    "* `tiled_json_path`: where to store JSON defining the tiled FOVs\n",
    "* `moly_path`: the path to the Moly point, needed if you want to insert this between FOVs"
   ]
  },
  {
   "cell_type": "code",
   "execution_count": null,
   "metadata": {},
   "outputs": [],
   "source": [
    "# define the tiling directory\n",
    "json_tiling_dir (\"../data/example_dataset/json_tiling_data\")\n",
    "\n",
    "# define the prefix of each file\n",
    "tiled_region_prefix = 'example_tiled_region'\n",
    "\n",
    "# define the input and output files\n",
    "region_corners_path = os.path.join(json_tiling_dir, '%s_region_corners.json' % tiled_region_prefix)\n",
    "tiled_json_path = os.path.join(json_tiling_dir, '%s_fov_output.json' % tiled_region_prefix)\n",
    "moly_path = os.path.join(json_tiling_dir, '%s_moly_point.json' % tiled_region_prefix)"
   ]
  },
  {
   "cell_type": "markdown",
   "metadata": {
    "tags": []
   },
   "source": [
    "### Set tiling parameters"
   ]
  },
  {
   "cell_type": "markdown",
   "metadata": {},
   "source": [
    "The following parameters need to be defined for each region (you will be prompted for them running this cell):\n",
    "\n",
    "* The FOV defining the top-left corner and its centroid (taken from `fov_list_path`, each entry indicates a different region)\n",
    "* Number of FOVs along the x- and y-axis\n",
    "* x- and y-axis step size\n",
    "* Whether to randomize the order of the FOVs or not\n",
    "* Whether to insert Moly points between regions\n",
    "* Whether to insert Moly points between FOVs at a specified interval. Please refer to the documentation for `tiled_region_generate_fov_list` for how the Moly point insertion works: https://ark-analysis.readthedocs.io/en/latest/_markdown/ark.mibi.html#ark.mibi.tiling_utils.tiled_region_generate_fov_list"
   ]
  },
  {
   "cell_type": "code",
   "execution_count": null,
   "metadata": {},
   "outputs": [],
   "source": [
    "tiling_params, moly_point = tiling_utils.tiled_region_set_params(\n",
    "    region_corners_path,\n",
    "    moly_path\n",
    ")"
   ]
  },
  {
   "cell_type": "markdown",
   "metadata": {},
   "source": [
    "### Create the FOVs for each region"
   ]
  },
  {
   "cell_type": "markdown",
   "metadata": {},
   "source": [
    "FOV names correspond to their row and column position on the grid of FOVs and are 1-indexed. For example, `R1C1` means the FOV is in row 1 and column 1, `R2C1` would be the next FOV down, and `R1C2` would be the next FOV to the right. The top left FOV is `R1C1`, the bottom right FOV would be `R4C5` for a tiled region of 5x4 dimensions. "
   ]
  },
  {
   "cell_type": "code",
   "execution_count": null,
   "metadata": {},
   "outputs": [],
   "source": [
    "# generate the FOVs in each region\n",
    "fov_regions = tiling_utils.tiled_region_generate_fov_list(\n",
    "    tiling_params,\n",
    "    moly_point\n",
    ")"
   ]
  },
  {
   "cell_type": "code",
   "execution_count": null,
   "metadata": {},
   "outputs": [],
   "source": [
    "# write the tiled output\n",
    "with open(tiled_json_path, 'w') as fop:\n",
    "    json.dump(fov_regions, fop)"
   ]
  }
 ],
 "metadata": {
  "kernelspec": {
   "display_name": "Python 3",
   "language": "python",
   "name": "python3"
  },
  "language_info": {
   "codemirror_mode": {
    "name": "ipython",
    "version": 3
   },
   "file_extension": ".py",
   "mimetype": "text/x-python",
   "name": "python",
   "nbconvert_exporter": "python",
   "pygments_lexer": "ipython3",
   "version": "3.6.8"
  }
 },
 "nbformat": 4,
 "nbformat_minor": 4
}
