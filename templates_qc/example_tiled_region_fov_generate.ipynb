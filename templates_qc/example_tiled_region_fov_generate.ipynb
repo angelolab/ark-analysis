{
 "cells": [
  {
   "cell_type": "markdown",
   "metadata": {},
   "source": [
    "# Generate tiled region (aka non-TMA) run file"
   ]
  },
  {
   "cell_type": "markdown",
   "metadata": {},
   "source": [
    "This automatically creates tiles which define FOVs on the MIBI slide based on user-set parameters for non-TMAs.\n",
    "\n",
    "Notes about MIBI coordinate axes:\n",
    "\n",
    "* The x-axis goes from left to right ascending\n",
    "* The y-axis goes from bottom to top ascending"
   ]
  },
  {
   "cell_type": "code",
   "execution_count": null,
   "metadata": {},
   "outputs": [],
   "source": [
    "import json\n",
    "import os\n",
    "\n",
    "from ark.mibi import tiling_utils"
   ]
  },
  {
   "cell_type": "markdown",
   "metadata": {},
   "source": [
    "### Define paths to the JSON data"
   ]
  },
  {
   "cell_type": "markdown",
   "metadata": {},
   "source": [
    "Define the following parameters to set your home directory:\n",
    "\n",
    "* `base_dir`: the root directory of the tiling data\n",
    "* `json_tiling_dir`: the directory in `base_dir` containing the information to read and write the FOV info\n",
    "\n",
    "Define the prefix to use for your input and output file names:\n",
    "\n",
    "* `tiled_region_prefix`: defaults to `example_tiled_region`\n",
    "\n",
    "Define the following input and output paths (all prefixed by `fov_gen_prefix`):\n",
    "\n",
    "* `fov_list_path`: the list of FOVs to use for tiling. Each FOV in `fov_list_path` defines the top-left corner of a separate region\n",
    "* `fov_output_path`: where to store the run file defining the FOVs. Will be an actual run file for non-TMAs and a basic mapping of FOV to centroid coordinate (in microns) for TMAs.\n",
    "* `moly_path`: the path to the Moly point, needed if you want to insert this between FOVs and/or regions after remapping. Ignored if you choose not to insert Moly points between FOVs."
   ]
  },
  {
   "cell_type": "code",
   "execution_count": null,
   "metadata": {},
   "outputs": [],
   "source": [
    "# define your home directory\n",
    "base_dir = \"../data/example_dataset\"\n",
    "json_tiling_dir = os.path.join(base_dir, \"json_tiling_data\")\n",
    "\n",
    "# define the prefix of each file\n",
    "tiled_region_prefix = 'example_tiled_region'\n",
    "\n",
    "# define the input and output files\n",
    "fov_list_path = os.path.join(json_tiling_dir, '%s_fov_list.json' % tiled_region_prefix)\n",
    "fov_output_path = os.path.join(json_tiling_dir, '%s_fov_output.json' % tiled_region_prefix)\n",
    "moly_path = os.path.join(json_tiling_dir, '%s_moly_point.json' % tiled_region_prefix)"
   ]
  },
  {
   "cell_type": "markdown",
   "metadata": {
    "tags": []
   },
   "source": [
    "### Set tiling parameters"
   ]
  },
  {
   "cell_type": "markdown",
   "metadata": {},
   "source": [
    "The following parameters need to be defined for each region (you will be prompted for them running this cell):\n",
    "\n",
    "* The FOV defining the top-left corner and its centroid (taken from `fov_list_path`, each entry indicates a different region)\n",
    "* Number of FOVs along the x- and y-axis\n",
    "* x- and y-axis step size\n",
    "* Whether to randomize the order of the FOVs or not\n",
    "* Whether to insert Moly points between regions\n",
    "* Whether to insert Moly points between FOVs at a specified interval. Please refer to the documentation for `tiled_region_generate_fov_list` for how the Moly point insertion works: https://ark-analysis.readthedocs.io/en/latest/_markdown/ark.mibi.html#ark.mibi.tiling_utils.tiled_region_generate_fov_list"
   ]
  },
  {
   "cell_type": "code",
   "execution_count": null,
   "metadata": {},
   "outputs": [],
   "source": [
    "tiling_params, moly_point = tiling_utils.tiled_region_set_params(\n",
    "    fov_list_path,\n",
    "    moly_path\n",
    ")"
   ]
  },
  {
   "cell_type": "markdown",
   "metadata": {},
   "source": [
    "### Create the FOVs for each region"
   ]
  },
  {
   "cell_type": "markdown",
   "metadata": {},
   "source": [
    "Tiling will be done from top to bottom (descending y-axis order), then left to right (ascending x-axis order). FOV names correspond to their row and column position on the grid of FOVs and are 1-indexed.\n",
    "\n",
    "For example, `R1C1` means the FOV is in row 1 and column 1 of the grid of FOVs, `R2C1` would be the next FOV down, and `R1C2` would be the next FOV to the right. In an unrandomized `auto_fov_regions`, `R2C1` would immediately follow `R1C1` and all of the `R{n}C1` FOVs would come before the `R{n}C2` FOVs for each region.\n",
    "\n",
    "Note that due to the y-axis ascending from bottom to top, `R2C1's` y-axis coordinate is lower compared to `R1C1's`."
   ]
  },
  {
   "cell_type": "code",
   "execution_count": null,
   "metadata": {},
   "outputs": [],
   "source": [
    "fov_regions = tiling_utils.tiled_region_generate_fov_list(\n",
    "    tiling_params,\n",
    "    moly_point\n",
    ")"
   ]
  },
  {
   "cell_type": "code",
   "execution_count": null,
   "metadata": {},
   "outputs": [],
   "source": [
    "# write the tiled output\n",
    "with open(fov_output_path, 'w') as fop:\n",
    "    json.dump(fov_regions, fop)"
   ]
  }
 ],
 "metadata": {
  "kernelspec": {
   "display_name": "Python 3",
   "language": "python",
   "name": "python3"
  },
  "language_info": {
   "codemirror_mode": {
    "name": "ipython",
    "version": 3
   },
   "file_extension": ".py",
   "mimetype": "text/x-python",
   "name": "python",
   "nbconvert_exporter": "python",
   "pygments_lexer": "ipython3",
   "version": "3.6.13"
  }
 },
 "nbformat": 4,
 "nbformat_minor": 4
}
