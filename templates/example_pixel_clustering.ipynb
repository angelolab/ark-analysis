{
 "cells": [
  {
   "cell_type": "markdown",
   "metadata": {},
   "source": [
    "# Pixel clustering notebook"
   ]
  },
  {
   "cell_type": "code",
   "execution_count": 1,
   "metadata": {
    "tags": [
     "import"
    ]
   },
   "outputs": [],
   "source": [
    "# import required packages\n",
    "from datetime import datetime as dt\n",
    "import os\n",
    "import subprocess\n",
    "\n",
    "import feather\n",
    "import json\n",
    "import matplotlib.patches as patches\n",
    "import matplotlib.pyplot as plt\n",
    "import numpy as np\n",
    "import pandas as pd\n",
    "import scipy.stats as stats\n",
    "import seaborn as sns\n",
    "import xarray as xr\n",
    "\n",
    "from ark.analysis import visualize\n",
    "from ark.phenotyping import som_utils\n",
    "from ark.utils import data_utils, io_utils, load_utils, plot_utils"
   ]
  },
  {
   "cell_type": "markdown",
   "metadata": {
    "tags": []
   },
   "source": [
    "## 0: set file paths and parameters"
   ]
  },
  {
   "cell_type": "markdown",
   "metadata": {},
   "source": [
    "* `base_dir`: the path to all of your imaging data. Should contain a directory for your images, segmentations, and cell table (generated from `Segment_Image_Data.ipynb`). This directory will also store all of the directories/files created during pixel clustering.\n",
    "* `tiff_dir`: the path to the directory containing your imaging data\n",
    "* `img_sub_folder`: if `tiff_dir` contains an additional subfolder structure, override `None` with the appropriate value\n",
    "* `segmentation_dir`: the path to the directory containing your segmentations (generated from `Segment_Image_Data.ipynb`). Set this argument to `None` if you do not have segmentation labels or wish to run pixel clustering without them. However, note that you will not be able to run cell clustering as that process is heavily dependent on them.\n",
    "* `seg_suffix`: the suffix plus the file extension of the segmented images for each fov. Note that these should be the same for all FOVs and that normally, the value should be `'_feature_0.tif'`. This argument will be ignored if `segmentation_dir` is set to `None`\n",
    "* `MIBItiff`: if the images in `tiff_dir` are mibitiff or not\n",
    "* `mibitiff_suffix` (required if `MIBItiff` is True): the file suffix all mibitiff images contain"
   ]
  },
  {
   "cell_type": "code",
   "execution_count": 2,
   "metadata": {
    "tags": [
     "file_path"
    ]
   },
   "outputs": [],
   "source": [
    "base_dir = \"../data/granulomaCohort_allData\"\n",
    "tiff_dir = os.path.join(base_dir, \"TIFs\")\n",
    "img_sub_folder = None\n",
    "segmentation_dir = \"../data/granulomaCohort_allData\"\n",
    "seg_suffix = '_feature_0.tif'\n",
    "MIBItiff = False\n",
    "mibitiff_suffix = '-MassCorrected-Filtered.tiff'"
   ]
  },
  {
   "cell_type": "markdown",
   "metadata": {},
   "source": [
    "* `fovs` (optional): set a specific set of fovs to load, default loads all the fovs in `tiff_dir`"
   ]
  },
  {
   "cell_type": "code",
   "execution_count": 3,
   "metadata": {
    "tags": [
     "load_fovs"
    ]
   },
   "outputs": [],
   "source": [
    "# either get all fovs in the folder...\n",
    "if MIBItiff:\n",
    "    fovs = io_utils.list_files(tiff_dir, substrs=MIBItiff_suffix)\n",
    "else:\n",
    "    fovs = io_utils.list_folders(tiff_dir)\n",
    "\n",
    "# ... or optionally, select a specific set of fovs manually\n",
    "fovs = [\"fov14\"]"
   ]
  },
  {
   "cell_type": "markdown",
   "metadata": {
    "tags": []
   },
   "source": [
    "## 1: Preprocess"
   ]
  },
  {
   "cell_type": "markdown",
   "metadata": {},
   "source": [
    "Set a prefix to be applied to all data directories/files created by pixel and cell clustering. If the prefix is not set, a default of the datetime at the start of the run is used. The following data directories/files will be created for preprocessing:\n",
    "\n",
    "* `preprocessed_dir`: the name of the directory to save the preprocessed pixel data\n",
    "* `subsetted_dir`: the name of the directory to save the subsetted pixel data"
   ]
  },
  {
   "cell_type": "code",
   "execution_count": 4,
   "metadata": {
    "tags": [
     "pre_sub_dir_set"
    ]
   },
   "outputs": [],
   "source": [
    "# explicitly set pixel_cluster_prefix to override datetime default\n",
    "pixel_cluster_prefix = 'test'\n",
    "\n",
    "if pixel_cluster_prefix is None:\n",
    "    pixel_cluster_prefix = dt.now().strftime('%Y-%m-%dT%H:%M:%S')\n",
    "    \n",
    "preprocessed_dir = '%s_pixel_mat_preprocessed' % pixel_cluster_prefix\n",
    "subsetted_dir = '%s_pixel_mat_subsetted' % pixel_cluster_prefix"
   ]
  },
  {
   "cell_type": "markdown",
   "metadata": {},
   "source": [
    "Set the following arguments\n",
    "\n",
    "* `channels`: set a subset to run pixel clustering over\n",
    "* `blur_factor`: the sigma to use for the Gaussian filter when running the Gaussian blur. Higher values are more aggressive in smoothing signal.\n",
    "* `subset_proportion`: the fraction of pixels to take from each fov. Sampling is random."
   ]
  },
  {
   "cell_type": "code",
   "execution_count": 5,
   "metadata": {
    "tags": [
     "channel_set"
    ]
   },
   "outputs": [],
   "source": [
    "channels = [\"CD45\", \"SMA\", \"Vimentin\", \"CD31\", \"Keratin-pan\", \"E-cadherin\", \"MastChyTry\",\n",
    "            \"MPO\", \"CD20\", \"CD3\", \"CD14\", \"HLA-DR-DQ-DP\", \"Foxp3\", \"CD16\", \"CD11c\", \"CD206\",\n",
    "            \"CD11b\", \"CD68\", \"CD163\", \"CD209\"]\n",
    "blur_factor = 2\n",
    "subset_proportion = 0.1"
   ]
  },
  {
   "cell_type": "markdown",
   "metadata": {},
   "source": [
    "During pixel preprocessing, the following is done for each FOV:\n",
    "\n",
    "* Gaussian blur each channel separately\n",
    "* Remove empty pixels\n",
    "* Normalize the row sums of the remaining pixels, this creates the preprocessed dataset\n",
    "* Subset `subset_proportion` pixels, this creates the subsetted dataset\n",
    "\n",
    "Note: if you get integer overflow errors loading in your data, try changing the `dtype` argument to a larger type."
   ]
  },
  {
   "cell_type": "code",
   "execution_count": 6,
   "metadata": {
    "tags": [
     "gen_pixel_mat"
    ]
   },
   "outputs": [],
   "source": [
    "# run pixel data preprocessing\n",
    "som_utils.create_pixel_matrix(\n",
    "    fovs,\n",
    "    channels,\n",
    "    base_dir,\n",
    "    tiff_dir,\n",
    "    segmentation_dir,\n",
    "    img_sub_folder=img_sub_folder,\n",
    "    seg_suffix=seg_suffix,\n",
    "    pre_dir=preprocessed_dir,\n",
    "    subset_dir=subsetted_dir,\n",
    "    is_mibitiff=MIBItiff,\n",
    "    blur_factor=blur_factor,\n",
    "    subset_proportion=subset_proportion,\n",
    "    dtype=\"int16\"\n",
    ")"
   ]
  },
  {
   "cell_type": "markdown",
   "metadata": {},
   "source": [
    "## 2: pixel clustering"
   ]
  },
  {
   "cell_type": "markdown",
   "metadata": {},
   "source": [
    "### 2.1: train pixel SOM"
   ]
  },
  {
   "cell_type": "markdown",
   "metadata": {},
   "source": [
    "The following data directories/files will be created for pixel clustering:\n",
    "\n",
    "* `pixel_clustered_dir`: directory to store pixel data with just the pixel SOM cluster assignments\n",
    "* `pixel_consensus_dir`: directory to store pixel data with the pixel SOM and consensus cluster assignments\n",
    "* `pixel_weights_name`: file name to place the pixel SOM weights\n",
    "* `norm_vals_name`: file name to store the values to normalize the full dataset when assigning pixel SOM cluster labels. These are calculated on the subsetted dataset during pixel SOM training\n",
    "* `pixel_som_to_meta_name`: file name to store the mapping between pixel SOM clusters and pixel meta clusters\n",
    "* `pc_chan_avg_som_cluster_name`: file name to store the average channel expression across all pixel SOM clusters\n",
    "* `pc_chan_avg_meta_cluster_name`: same as above except for pixel meta clusters"
   ]
  },
  {
   "cell_type": "code",
   "execution_count": 7,
   "metadata": {
    "tags": [
     "pixel_som_path_set"
    ]
   },
   "outputs": [],
   "source": [
    "# define the paths using specified prefix\n",
    "pixel_clustered_dir = '%s_pixel_mat_clustered' % pixel_cluster_prefix\n",
    "pixel_consensus_dir = '%s_pixel_mat_consensus' % pixel_cluster_prefix\n",
    "pixel_weights_name = '%s_pixel_weights.feather' % pixel_cluster_prefix\n",
    "norm_vals_name = '%s_norm_vals.feather' % pixel_cluster_prefix\n",
    "pixel_som_to_meta_name = '%s_pixel_som_to_meta.feather' % pixel_cluster_prefix\n",
    "pc_chan_avg_som_cluster_name = '%s_pixel_channel_avg_som_cluster.csv' % pixel_cluster_prefix\n",
    "pc_chan_avg_meta_cluster_name = '%s_pixel_channel_avg_meta_cluster.csv' % pixel_cluster_prefix"
   ]
  },
  {
   "cell_type": "markdown",
   "metadata": {},
   "source": [
    "Train the pixel SOM on the subsetted data. Training is done using the `FlowSOM` algorithm.\n",
    "\n",
    "Note that each channel is normalized by their 99.9% value across the entire subsetted dataset before training. These values get saved to `norm_vals_name`.\n",
    "\n",
    "For a full set of parameters you can customize for train_pixel_som, please consult: <a href=https://ark-analysis.readthedocs.io/en/latest/_markdown/ark.phenotyping.html#ark.phenotyping.som_utils.train_pixel_som>pixel training docs</a>\n",
    "\n",
    "NOTE: if you get `NA`/`NaN`/`Inf` errors, you will likely need to increase the subset proportion in the call to `create_pixel_matrix` and/or increase the number of FOVs included (if you subsetted)."
   ]
  },
  {
   "cell_type": "code",
   "execution_count": 8,
   "metadata": {
    "tags": [
     "train_pixel_som"
    ]
   },
   "outputs": [
    {
     "name": "stdout",
     "output_type": "stream",
     "text": [
      "See arrow_info() for available features\n",
      "\n",
      "Attaching package: ‘arrow’\n",
      "\n",
      "The following object is masked from ‘package:utils’:\n",
      "\n",
      "timestamp\n",
      "\n",
      "Loading required package: igraph\n",
      "\n",
      "Attaching package: ‘igraph’\n",
      "\n",
      "The following objects are masked from ‘package:stats’:\n",
      "\n",
      "decompose, spectrum\n",
      "\n",
      "The following object is masked from ‘package:base’:\n",
      "\n",
      "union\n",
      "\n",
      "[1] \"Reading the subsetted pixel matrix data for SOM training\"\n",
      "[1] \"Performing 99.9% normalization\"\n",
      "[1] \"Save 99.9% normalized values for each marker\"\n",
      "[1] \"Run the SOM training\"\n",
      "Mapping data to SOM\n",
      "\n",
      "[1] \"Save trained weights\"\n"
     ]
    }
   ],
   "source": [
    "# create the pixel-level SOM weights\n",
    "som_utils.train_pixel_som(\n",
    "    fovs,\n",
    "    channels,\n",
    "    base_dir,\n",
    "    subset_dir=subsetted_dir,\n",
    "    norm_vals_name=norm_vals_name,\n",
    "    weights_name=pixel_weights_name,\n",
    "    num_passes=10\n",
    ")"
   ]
  },
  {
   "cell_type": "markdown",
   "metadata": {},
   "source": [
    "### 2.2: Assign pixel SOM clusters"
   ]
  },
  {
   "cell_type": "markdown",
   "metadata": {},
   "source": [
    "Use the SOM weights learned from `train_pixel_som` to assign pixel clusters to the full preprocessed dataset.\n",
    "\n",
    "Note that each channel is normalized by the respective value stored in `norm_vals_name` (computed in `train_pixel_som`) prior to cluster assignment.\n",
    "\n",
    "This function also computes the average channel expression across all pixel SOM clusters (the data placed in `pc_chan_avg_som_cluster_name`) as well as the number of pixels in each pixel SOM cluster. This is needed for consensus clustering."
   ]
  },
  {
   "cell_type": "code",
   "execution_count": 9,
   "metadata": {
    "tags": [
     "cluster_pixel_mat"
    ]
   },
   "outputs": [
    {
     "name": "stdout",
     "output_type": "stream",
     "text": [
      "See arrow_info() for available features\n",
      "\n",
      "Attaching package: ‘arrow’\n",
      "\n",
      "The following object is masked from ‘package:utils’:\n",
      "\n",
      "timestamp\n",
      "\n",
      "Loading required package: igraph\n",
      "\n",
      "Attaching package: ‘igraph’\n",
      "\n",
      "The following objects are masked from ‘package:stats’:\n",
      "\n",
      "decompose, spectrum\n",
      "\n",
      "The following object is masked from ‘package:base’:\n",
      "\n",
      "union\n",
      "\n",
      "[1] \"Mapping data to cluster labels\"\n",
      "[1] \"Done!\"\n",
      "Computing average channel expression across pixel SOM clusters\n"
     ]
    }
   ],
   "source": [
    "# use pixel SOM weights to assign pixel clusters\n",
    "som_utils.cluster_pixels(\n",
    "    fovs,\n",
    "    channels,\n",
    "    base_dir,\n",
    "    pre_dir=preprocessed_dir,\n",
    "    norm_vals_name=norm_vals_name,\n",
    "    weights_name=pixel_weights_name,\n",
    "    cluster_dir=pixel_clustered_dir,\n",
    "    pc_chan_avg_som_cluster_name=pc_chan_avg_som_cluster_name\n",
    ")"
   ]
  },
  {
   "cell_type": "markdown",
   "metadata": {},
   "source": [
    "### 2.3: run pixel consensus clustering"
   ]
  },
  {
   "cell_type": "markdown",
   "metadata": {},
   "source": [
    "With the SOM cluster labels assigned to the full preprocessed dataset, assign consensus cluster labels. The consensus clusters are trained on the average channel expression across all pixel SOM clusters (the data stored in `pc_chan_avg_som_cluster_name`). These values are z-scored and capped at the value specified in the `cap` argument prior to training: this helps improve the meta clustering process.\n",
    "\n",
    "After consensus clustering, the following are also computed:\n",
    "\n",
    "* The average channel expression across all pixel meta clusters, and the number of pixels per meta cluster (the data placed in `pc_chan_avg_meta_cluster_name`)\n",
    "* The meta cluster mapping for each pixel SOM cluster in `pc_chan_avg_som_cluster_name` (data is resaved, same data except with an associated meta cluster column)\n",
    "\n",
    "For a full set of parameters you can customize for pixel_consensus_cluster, please consult: <a href=https://ark-analysis.readthedocs.io/en/latest/_markdown/ark.phenotyping.html#ark.phenotyping.som_utils.pixel_consensus_cluster>pixel consensus clustering docs</a>"
   ]
  },
  {
   "cell_type": "markdown",
   "metadata": {},
   "source": [
    "* `max_k`: the number of consensus clusters desired\n",
    "* `cap`: used to clip z-scored values prior to consensus clustering (in the range `[-cap, cap]`)"
   ]
  },
  {
   "cell_type": "code",
   "execution_count": 10,
   "metadata": {
    "tags": [
     "pixel_consensus_cluster"
    ]
   },
   "outputs": [
    {
     "name": "stdout",
     "output_type": "stream",
     "text": [
      "See arrow_info() for available features\n",
      "\n",
      "Attaching package: ‘arrow’\n",
      "\n",
      "The following object is masked from ‘package:utils’:\n",
      "\n",
      "timestamp\n",
      "\n",
      "[1] \"Reading cluster averaged data\"\n",
      "[1] \"Running consensus clustering\"\n",
      "end fraction\n",
      "clustered\n",
      "clustered\n",
      "clustered\n",
      "clustered\n",
      "clustered\n",
      "clustered\n",
      "clustered\n",
      "clustered\n",
      "clustered\n",
      "clustered\n",
      "clustered\n",
      "clustered\n",
      "clustered\n",
      "clustered\n",
      "clustered\n",
      "clustered\n",
      "clustered\n",
      "clustered\n",
      "clustered\n",
      "[1] \"Writing consensus clustering results\"\n",
      "[1] \"Writing SOM to meta cluster mapping table\"\n",
      "Computing average channel expression across pixel meta clusters\n",
      "Mapping meta cluster values onto average channel expression across pixel SOM clusters\n"
     ]
    }
   ],
   "source": [
    "max_k = 20\n",
    "cap = 3\n",
    "\n",
    "# run hierarchical clustering based on pixel SOM cluster assignments\n",
    "som_utils.pixel_consensus_cluster(\n",
    "    fovs,\n",
    "    channels,\n",
    "    base_dir,\n",
    "    max_k=max_k,\n",
    "    cap=cap,\n",
    "    cluster_dir=pixel_clustered_dir,\n",
    "    pc_chan_avg_som_cluster_name=pc_chan_avg_som_cluster_name,\n",
    "    pc_chan_avg_meta_cluster_name=pc_chan_avg_meta_cluster_name,\n",
    "    clust_to_meta_name=pixel_som_to_meta_name,\n",
    "    consensus_dir=pixel_consensus_dir\n",
    ")"
   ]
  },
  {
   "cell_type": "markdown",
   "metadata": {},
   "source": [
    "## 3: visualize results"
   ]
  },
  {
   "cell_type": "markdown",
   "metadata": {},
   "source": [
    "### 3.0: use the interactive reclustering results to relabel pixel meta clusters"
   ]
  },
  {
   "cell_type": "markdown",
   "metadata": {},
   "source": [
    "NOTE: the data and all processes defined here are temporary and will be retrieved from the interactive reclustering process in a different PR\n",
    "\n",
    "Define a temporary sample pixel meta cluster remapping"
   ]
  },
  {
   "cell_type": "code",
   "execution_count": 11,
   "metadata": {},
   "outputs": [],
   "source": [
    "sample_remapped_pixel_meta_clusters = {\n",
    "    'cluster': [i for i in np.arange(1, 101)],\n",
    "    'metacluster': [int(i / 25) + 1 for i in np.arange(1, 101)],\n",
    "    'mc_name': ['meta' + str(int(i / 25) + 1) for i in np.arange(1, 101)]\n",
    "}\n",
    "\n",
    "sample_remapped_pixel_meta_clusters_df = pd.DataFrame.from_dict(sample_remapped_pixel_meta_clusters)\n",
    "sample_remapped_pixel_meta_clusters_df.to_csv(os.path.join(base_dir, 'sample_remapped_pixel_meta_clusters.csv'), index=False)"
   ]
  },
  {
   "cell_type": "markdown",
   "metadata": {},
   "source": [
    "Relabel the pixel meta clusters using the mapping"
   ]
  },
  {
   "cell_type": "code",
   "execution_count": 12,
   "metadata": {},
   "outputs": [
    {
     "name": "stdout",
     "output_type": "stream",
     "text": [
      "Using re-mapping scheme to re-label pixel meta clusters\n",
      "Re-computing average channel expression across pixel meta clusters\n",
      "Re-assigning meta cluster column in pixel SOM cluster average channel expression table\n"
     ]
    }
   ],
   "source": [
    "som_utils.apply_pixel_meta_cluster_remapping(\n",
    "    fovs,\n",
    "    channels,\n",
    "    base_dir,\n",
    "    pixel_consensus_dir,\n",
    "    'sample_remapped_pixel_meta_clusters.csv',\n",
    "    pc_chan_avg_som_cluster_name,\n",
    "    pc_chan_avg_meta_cluster_name\n",
    ")"
   ]
  },
  {
   "cell_type": "markdown",
   "metadata": {},
   "source": [
    "Define a sample color scheme returned by the interactive reclustering process. This will be for visualizing static heatmaps (will be applicable for average weighted channel expression per cell cluster, done here just as demonstration)."
   ]
  },
  {
   "cell_type": "code",
   "execution_count": 13,
   "metadata": {},
   "outputs": [
    {
     "ename": "NameError",
     "evalue": "name 'sample_remapped_meta_clusters_df' is not defined",
     "output_type": "error",
     "traceback": [
      "\u001b[0;31m---------------------------------------------------------------------------\u001b[0m",
      "\u001b[0;31mNameError\u001b[0m                                 Traceback (most recent call last)",
      "\u001b[0;32m<ipython-input-13-9deddf33ba21>\u001b[0m in \u001b[0;36m<module>\u001b[0;34m\u001b[0m\n\u001b[0;32m----> 1\u001b[0;31m \u001b[0mmeta_cluster_labels\u001b[0m \u001b[0;34m=\u001b[0m \u001b[0msample_remapped_meta_clusters_df\u001b[0m\u001b[0;34m[\u001b[0m\u001b[0;34m'metacluster'\u001b[0m\u001b[0;34m]\u001b[0m\u001b[0;34m.\u001b[0m\u001b[0munique\u001b[0m\u001b[0;34m(\u001b[0m\u001b[0;34m)\u001b[0m\u001b[0;34m\u001b[0m\u001b[0;34m\u001b[0m\u001b[0m\n\u001b[0m\u001b[1;32m      2\u001b[0m \u001b[0mcolor_palette\u001b[0m \u001b[0;34m=\u001b[0m \u001b[0msns\u001b[0m\u001b[0;34m.\u001b[0m\u001b[0mcolor_palette\u001b[0m\u001b[0;34m(\u001b[0m\u001b[0;34m\"hls\"\u001b[0m\u001b[0;34m,\u001b[0m \u001b[0mlen\u001b[0m\u001b[0;34m(\u001b[0m\u001b[0mmeta_cluster_labels\u001b[0m\u001b[0;34m)\u001b[0m\u001b[0;34m)\u001b[0m\u001b[0;34m\u001b[0m\u001b[0;34m\u001b[0m\u001b[0m\n\u001b[1;32m      3\u001b[0m \u001b[0mcolormap\u001b[0m \u001b[0;34m=\u001b[0m \u001b[0mdict\u001b[0m\u001b[0;34m(\u001b[0m\u001b[0mzip\u001b[0m\u001b[0;34m(\u001b[0m\u001b[0mmeta_cluster_labels\u001b[0m\u001b[0;34m,\u001b[0m \u001b[0mcolor_palette\u001b[0m\u001b[0;34m)\u001b[0m\u001b[0;34m)\u001b[0m\u001b[0;34m\u001b[0m\u001b[0;34m\u001b[0m\u001b[0m\n\u001b[1;32m      4\u001b[0m \u001b[0;34m\u001b[0m\u001b[0m\n\u001b[1;32m      5\u001b[0m \u001b[0;31m# define the same mapping above but using the renamed meta cluster names instead\u001b[0m\u001b[0;34m\u001b[0m\u001b[0;34m\u001b[0m\u001b[0;34m\u001b[0m\u001b[0m\n",
      "\u001b[0;31mNameError\u001b[0m: name 'sample_remapped_meta_clusters_df' is not defined"
     ]
    }
   ],
   "source": [
    "meta_cluster_labels = sample_remapped_pixel_meta_clusters_df['metacluster'].unique()\n",
    "color_palette = sns.color_palette(\"hls\", len(meta_cluster_labels))\n",
    "colormap = dict(zip(meta_cluster_labels, color_palette))\n",
    "\n",
    "# define the same mapping above but using the renamed meta cluster names instead\n",
    "meta_id_to_name = dict(zip(sample_remapped_pixel_meta_clusters_df['metacluster'], sample_remapped_pixel_meta_clusters_df['mc_name']))\n",
    "rename_colormap = {meta_id_to_name[meta_id]: meta_id_color for (meta_id, meta_id_color) in colormap.items()}"
   ]
  },
  {
   "cell_type": "markdown",
   "metadata": {},
   "source": [
    "Read data in for visualization"
   ]
  },
  {
   "cell_type": "code",
   "execution_count": null,
   "metadata": {},
   "outputs": [],
   "source": [
    "pixel_channel_avg_som_cluster = pd.read_csv(os.path.join(base_dir, pc_chan_avg_som_cluster_name))\n",
    "pixel_channel_avg_meta_cluster = pd.read_csv(os.path.join(base_dir, pc_chan_avg_meta_cluster_name))"
   ]
  },
  {
   "cell_type": "markdown",
   "metadata": {},
   "source": [
    "### 3.1: number of pixels per SOM cluster"
   ]
  },
  {
   "cell_type": "code",
   "execution_count": null,
   "metadata": {},
   "outputs": [],
   "source": [
    "_ = plt.figure(figsize=(60, 20))\n",
    "_ = sns.barplot(\n",
    "    x=pixel_channel_avg_som_cluster['pixel_som_cluster'],\n",
    "    y=pixel_channel_avg_som_cluster['count'],\n",
    "    palette=['#0000FF' for i in range(pixel_channel_avg_som_cluster.shape[0])]\n",
    ")\n",
    "_ = plt.title('Distribution of pixel SOM cluster counts', fontsize=56)\n",
    "_ = plt.xlabel('Pixel SOM cluster', fontsize=48)\n",
    "_ = plt.ylabel('Count', fontsize=48)\n",
    "_ = plt.xticks(fontsize=32)\n",
    "_ = plt.yticks(fontsize=32)"
   ]
  },
  {
   "cell_type": "markdown",
   "metadata": {},
   "source": [
    "### 3.2: pixel SOM cluster average over channels (z-scored)"
   ]
  },
  {
   "cell_type": "code",
   "execution_count": null,
   "metadata": {},
   "outputs": [],
   "source": [
    "# map the values, then reindex based on pixel_som_cluster values\n",
    "som_cluster_index = pixel_channel_avg_som_cluster['pixel_som_cluster'].values\n",
    "meta_cluster_mapping = pd.Series(pixel_channel_avg_som_cluster['pixel_meta_cluster']).map(colormap)\n",
    "meta_cluster_mapping.index = som_cluster_index"
   ]
  },
  {
   "cell_type": "code",
   "execution_count": null,
   "metadata": {},
   "outputs": [],
   "source": [
    "# draw the heatmap\n",
    "visualize.draw_heatmap(\n",
    "    stats.zscore(pixel_channel_avg_som_cluster.loc[:, channels].values),\n",
    "    pixel_channel_avg_som_cluster['pixel_som_cluster'],\n",
    "    channels,\n",
    "    center_val=0,\n",
    "    min_val=-3,\n",
    "    max_val=3,\n",
    "    cbar_ticks=np.arange(-3, 4),\n",
    "    row_colors=meta_cluster_mapping,\n",
    "    colormap='vlag'\n",
    ")\n",
    "\n",
    "# add a legend for pixel_meta_cluster\n",
    "handles = [patches.Patch(facecolor=colormap[cmap_name]) for cmap_name in colormap]\n",
    "_ = plt.legend(\n",
    "    handles,\n",
    "    rename_colormap,\n",
    "    title='Meta cluster',\n",
    "    bbox_to_anchor=(1.1, 1),\n",
    "    bbox_transform=plt.gcf().transFigure,\n",
    "    loc='upper right'\n",
    ")"
   ]
  },
  {
   "cell_type": "markdown",
   "metadata": {},
   "source": [
    "### 3.3: number of pixels per meta cluster"
   ]
  },
  {
   "cell_type": "code",
   "execution_count": null,
   "metadata": {},
   "outputs": [],
   "source": [
    "_ = plt.figure(figsize=(60, 20))\n",
    "_ = sns.barplot(\n",
    "    x=pixel_channel_avg_meta_cluster['pixel_meta_cluster'],\n",
    "    y=pixel_channel_avg_meta_cluster['count'],\n",
    "    palette=['#0000FF' for i in range(pixel_channel_avg_meta_cluster.shape[0])]\n",
    ")\n",
    "_ = plt.title('Distribution of pixel meta cluster counts', fontsize=56)\n",
    "_ = plt.xlabel('Pixel meta cluster', fontsize=48)\n",
    "_ = plt.ylabel('Count', fontsize=48)\n",
    "_ = plt.xticks(fontsize=32)\n",
    "_ = plt.yticks(fontsize=32)"
   ]
  },
  {
   "cell_type": "markdown",
   "metadata": {},
   "source": [
    "### 3.4: pixel meta cluster average over channels (z-scored)"
   ]
  },
  {
   "cell_type": "code",
   "execution_count": null,
   "metadata": {},
   "outputs": [],
   "source": [
    "# map the values, then reindex based on pixel_meta_cluster values\n",
    "meta_cluster_index = pixel_channel_avg_meta_cluster['pixel_meta_cluster'].values\n",
    "meta_cluster_mapping = pd.Series(pixel_channel_avg_meta_cluster['pixel_meta_cluster']).map(colormap)\n",
    "meta_cluster_mapping.index = meta_cluster_index"
   ]
  },
  {
   "cell_type": "code",
   "execution_count": null,
   "metadata": {},
   "outputs": [],
   "source": [
    "# visualize average channel expression for each pixel meta cluster\n",
    "visualize.draw_heatmap(\n",
    "    stats.zscore(pixel_channel_avg_meta_cluster.loc[:, channels].values),\n",
    "    pixel_channel_avg_meta_cluster['pixel_meta_cluster'],\n",
    "    channels,\n",
    "    center_val=0,\n",
    "    min_val=-3,\n",
    "    max_val=3,\n",
    "    cbar_ticks=np.arange(-3, 4),\n",
    "    row_colors=meta_cluster_mapping,\n",
    "    colormap='vlag'\n",
    ")\n",
    "\n",
    "# add a legend for pixel meta cluster\n",
    "handles = [patches.Patch(facecolor=colormap[cmap_name]) for cmap_name in colormap]\n",
    "_ = plt.legend(\n",
    "    handles,\n",
    "    rename_colormap,\n",
    "    title='Meta cluster',\n",
    "    bbox_to_anchor=(1.1, 1),\n",
    "    bbox_transform=plt.gcf().transFigure,\n",
    "    loc='upper right'\n",
    ")"
   ]
  },
  {
   "cell_type": "markdown",
   "metadata": {},
   "source": [
    "### 3.5: pixel cluster overlay (pixel meta clusters only)"
   ]
  },
  {
   "cell_type": "code",
   "execution_count": null,
   "metadata": {},
   "outputs": [],
   "source": [
    "# select fovs to display\n",
    "pixel_fovs = ['fov6', 'fov7']"
   ]
  },
  {
   "cell_type": "code",
   "execution_count": null,
   "metadata": {},
   "outputs": [],
   "source": [
    "# define the path to the channel file\n",
    "if img_sub_folder is None:\n",
    "    chan_file = os.path.join(fovs[0], os.listdir(os.path.join(tiff_dir, fovs[0]))[0])\n",
    "else:\n",
    "    chan_file = os.path.join(fovs[0], img_sub_folder, os.listdir(os.path.join(tiff_dir, fovs[0]))[0])\n",
    "\n",
    "# generate the pixel cluster masks for each fov in pixel_fovs\n",
    "pixel_cluster_masks = data_utils.generate_pixel_cluster_mask(\n",
    "    fovs,\n",
    "    base_dir,\n",
    "    tiff_dir,\n",
    "    chan_file=chan_file,\n",
    "    pixel_consensus_dir=pixel_consensus_dir,\n",
    "    pixel_cluster_col='pixel_meta_cluster'\n",
    ")"
   ]
  },
  {
   "cell_type": "markdown",
   "metadata": {},
   "source": [
    "* `save_pixel_masks`: replace with True if you want to save, files will be written as `{fov_name}_pixel_mask.tiff` in `base_dir`"
   ]
  },
  {
   "cell_type": "code",
   "execution_count": null,
   "metadata": {},
   "outputs": [],
   "source": [
    "save_pixel_masks = False\n",
    "\n",
    "if save_pixel_masks:\n",
    "    data_utils.save_fov_images(\n",
    "        pixel_fovs,\n",
    "        base_dir,\n",
    "        pixel_cluster_masks,\n",
    "        name_suffix='_pixel_mask'\n",
    "    )"
   ]
  },
  {
   "cell_type": "code",
   "execution_count": null,
   "metadata": {},
   "outputs": [],
   "source": [
    "plot_utils.plot_pixel_cell_cluster_overlay(\n",
    "    pixel_cluster_masks,\n",
    "    pixel_fovs,\n",
    "    os.path.join(base_dir, 'sample_remapped_pixel_meta_clusters.csv'),\n",
    "    metacluster_colors=colormap\n",
    ")"
   ]
  },
  {
   "cell_type": "markdown",
   "metadata": {},
   "source": [
    "### 4: Save parameters for use in cell clustering"
   ]
  },
  {
   "cell_type": "markdown",
   "metadata": {},
   "source": [
    "The following parameters are saved:\n",
    "\n",
    "* `fovs`: the set of fovs\n",
    "* `channels`: the subset of markers\n",
    "* `segmentation_dir`: the path to the directory containing your segmentations (generated from `Segment_Image_Data.ipynb`)\n",
    "* `pixel_consensus_dir`: the name of the directory containing pixel data with the pixel SOM and consensus cluster assignments\n",
    "* `pc_chan_avg_som_cluster_name`: the name of the file containing the average marker channel expression per pixel SOM cluster, used for the visualization of weighted channel average per cell\n",
    "* `pc_chan_avg_meta_cluster_name`: the name of the file containing the average marker channel expression per pixel meta cluster, used for the visualization of weighted channel average per cell\n",
    "\n",
    "The save file will be `{pixel_cluster_prefix}_cell_clustering_params.json` and will be placed in `base_dir`. Note that the `base_dir` you use in `example_pixel_clustering.ipynb` should be the same as in `example_cell_clustering.ipynb`."
   ]
  },
  {
   "cell_type": "code",
   "execution_count": null,
   "metadata": {},
   "outputs": [],
   "source": [
    "# define the params dict\n",
    "cell_clustering_params = {\n",
    "    'fovs': fovs,\n",
    "    'channels': channels,\n",
    "    'segmentation_dir': segmentation_dir,\n",
    "    'pixel_consensus_dir': pixel_consensus_dir,\n",
    "    'pc_chan_avg_som_cluster_name': pc_chan_avg_som_cluster_name,\n",
    "    'pc_chan_avg_meta_cluster_name': pc_chan_avg_meta_cluster_name\n",
    "}\n",
    "\n",
    "# save the params dict\n",
    "with open(os.path.join(base_dir, '%s_cell_clustering_params.json' % pixel_cluster_prefix), 'w') as fh:\n",
    "    json.dump(cell_clustering_params, fh)"
   ]
  }
 ],
 "metadata": {
  "kernelspec": {
   "display_name": "Python 3",
   "language": "python",
   "name": "python3"
  },
  "language_info": {
   "codemirror_mode": {
    "name": "ipython",
    "version": 3
   },
   "file_extension": ".py",
   "mimetype": "text/x-python",
   "name": "python",
   "nbconvert_exporter": "python",
   "pygments_lexer": "ipython3",
   "version": "3.6.12"
  },
  "toc-autonumbering": false,
  "toc-showcode": true,
  "toc-showmarkdowntxt": true
 },
 "nbformat": 4,
 "nbformat_minor": 4
}
