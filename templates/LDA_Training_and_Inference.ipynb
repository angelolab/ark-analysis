{
 "cells": [
  {
   "cell_type": "markdown",
   "source": [
    "# Spatial LDA Training and Inference\n",
    "\n",
    "## Overview and Setup\n",
    "This notebook allows users to train a spatial-LDA topic model using their preprocessed cell data.  The main topics covered are:\n",
    "\n",
    "- [Loading Preprocessed Cell Data](#Loading-Preprocessed-Cell-Data)\n",
    "- [Training and Inspecting the Model](#Training-and-Inspecting-the-Model)\n",
    "- [Inferring Topic Weights on New Data](#Inferring-Topic-Weights-on-New-Data)\n",
    "- [Visualizing and Saving Results](#Visualizing-and-Saving-Results)"
   ],
   "metadata": {
    "collapsed": false
   }
  },
  {
   "cell_type": "markdown",
   "source": [
    "#### Import Required Packages"
   ],
   "metadata": {
    "collapsed": false
   }
  },
  {
   "cell_type": "code",
   "execution_count": null,
   "metadata": {
    "collapsed": true
   },
   "outputs": [],
   "source": [
    "import os\n",
    "import logging\n",
    "import spatial_lda\n",
    "import numpy as np\n",
    "import matplotlib.pyplot as plt\n",
    "import ark.utils.spatial_lda_utils as spu\n"
   ]
  },
  {
   "cell_type": "markdown",
   "source": [
    "## Loading Preprocessed Cell Data\n",
    "\n",
    "In order to train a spatial-LDA model, the cell table must have been formatted and featurized using the steps in the `LDA_Preprocessing` notebook.  In addition, the required difference matrices should also have been generated through the use of the preprocessing notebook."
   ],
   "metadata": {
    "collapsed": false,
    "pycharm": {
     "name": "#%% md\n"
    }
   }
  },
  {
   "cell_type": "markdown",
   "source": [
    "#### Set Up File Paths\n",
    "- `base_dir`: working directory\n",
    "- `processed_dir`: directory containing the processed data produced from the `LDA_Preprocessing` notebook\n",
    "- `cell_table_name`: name of the correctly formatted cell table file (`.pkl`)\n",
    "- `difference_matrices_name`: name of the difference matrices file (`.pkl`)\n",
    "- `features_name`: name of the featurized cell table file (`.pkl`)\n",
    "- `viz_dir`: destination directory for all plots and visualizations"
   ],
   "metadata": {
    "collapsed": false
   }
  },
  {
   "cell_type": "code",
   "execution_count": null,
   "outputs": [],
   "source": [
    "\n",
    "base_dir = \"../data/example_dataset\"\n",
    "processed_dir = \"spatial_lda_processed_data\"\n",
    "cell_table_name = \"formatted_cell_table\"\n",
    "difference_matrices_name = \"difference_matrices\"\n",
    "features_name = \"featurized_cell_table\"\n",
    "viz_dir = os.path.join(base_dir, \"spatial_lda_visualizations\")\n",
    "\n",
    "processed_path = os.path.join(base_dir, processed_dir)\n",
    "\n",
    "# Create directories if they do not exist\n",
    "if not os.path.exists(viz_dir):\n",
    "    os.makedirs(viz_dir)"
   ],
   "metadata": {
    "collapsed": false,
    "pycharm": {
     "name": "#%%\n"
    }
   }
  },
  {
   "cell_type": "markdown",
   "source": [
    "#### Load in Data"
   ],
   "metadata": {
    "collapsed": false,
    "pycharm": {
     "name": "#%% md\n"
    }
   }
  },
  {
   "cell_type": "code",
   "execution_count": null,
   "outputs": [],
   "source": [
    "cell_table = spu.read_spatial_lda_data(\n",
    "    dir=processed_path, file_name=cell_table_name, format=\"pkl\")\n",
    "\n",
    "difference_matrices = spu.read_spatial_lda_data(\n",
    "    dir=processed_path, file_name=difference_matrices_name, format=\"pkl\")\n",
    "\n",
    "featurized_cell_table = spu.read_spatial_lda_data(\n",
    "    dir=processed_path, file_name=features_name, format=\"pkl\")"
   ],
   "metadata": {
    "collapsed": false,
    "pycharm": {
     "name": "#%%\n"
    }
   }
  },
  {
   "cell_type": "markdown",
   "source": [
    "## Training and Inspecting the Model\n",
    "\n",
    "Model training takes place using a subset of the cell data to speed up the process.  To further save time, one can leverage parallel processing, if possible, by specifying the number of local CPUs to use.  For example, a new MacBook Pro or MacBook Air comes standard with 8 CPUs.  If using parallel processing, you should set the number of processes to be a divisor of the number of FOVs.\n",
    "\n",
    "*Note: if using all available cores for model training, you should not have any other processes running at the same time.*\n",
    "\n",
    "#### Setting Training Parameters\n",
    "You can specify the number of parallel processes, topics, and the difference penalty below.  Larger values for the difference penalty mean adjacent cells are more likely to share topic preferences.\n",
    "\n",
    "To see periodic progress updates, set `verbose=1`.  For more detailed output, set `verbose=2`.  Set `verbose=0` to silence all progress output."
   ],
   "metadata": {
    "collapsed": false,
    "pycharm": {
     "name": "#%% md\n"
    }
   }
  },
  {
   "cell_type": "code",
   "execution_count": null,
   "outputs": [],
   "source": [
    "num_processes = None\n",
    "num_topics = 5\n",
    "difference_penalty = 250\n",
    "verbose = 1\n",
    "\n",
    "logger = logging.getLogger()\n",
    "logger.setLevel(logging.INFO)"
   ],
   "metadata": {
    "collapsed": false,
    "pycharm": {
     "name": "#%%\n"
    }
   }
  },
  {
   "cell_type": "markdown",
   "source": [
    "#### Run Training Algorithm"
   ],
   "metadata": {
    "collapsed": false,
    "pycharm": {
     "name": "#%% md\n"
    }
   }
  },
  {
   "cell_type": "code",
   "execution_count": null,
   "outputs": [],
   "source": [
    "trained_model = spatial_lda.model.train(\n",
    "    sample_features=featurized_cell_table[\"train_features\"],\n",
    "    difference_matrices=difference_matrices[\"train_diff_mat\"],\n",
    "    n_parallel_processes=num_processes,\n",
    "    n_topics=num_topics,\n",
    "    difference_penalty=difference_penalty,\n",
    "    verbosity=verbose\n",
    ")"
   ],
   "metadata": {
    "collapsed": false,
    "pycharm": {
     "name": "#%%\n"
    }
   }
  },
  {
   "cell_type": "markdown",
   "source": [
    "#### Visualize Topic Heatmap\n",
    "The code below produces a heatmap of cell features against topic loadings and saves the output as a `png` file."
   ],
   "metadata": {
    "collapsed": false,
    "pycharm": {
     "name": "#%% md\n"
    }
   }
  },
  {
   "cell_type": "code",
   "execution_count": null,
   "outputs": [],
   "source": [
    "heatmap_path = os.path.join(\n",
    "    viz_dir, \"training_heatmap_features={}_num_topics={}.png\".format(\n",
    "        featurized_cell_table[\"featurization\"], num_topics))\n",
    "\n",
    "spatial_lda.visualization.plot_topics_heatmap(\n",
    "    trained_model.components_, featurized_cell_table[\"train_features\"].columns)\n",
    "plt.savefig(heatmap_path)"
   ],
   "metadata": {
    "collapsed": false,
    "pycharm": {
     "name": "#%%\n"
    }
   }
  },
  {
   "cell_type": "markdown",
   "source": [
    "#### Visualize Topic Assignments\n",
    "Run the two code blocks below to visualize individual FOVs and the cell-level topic assignment.  The output will be saved to `viz_dir`."
   ],
   "metadata": {
    "collapsed": false,
    "pycharm": {
     "name": "#%% md\n"
    }
   }
  },
  {
   "cell_type": "code",
   "execution_count": null,
   "outputs": [],
   "source": [
    "# Subset training cells\n",
    "fov_indices = featurized_cell_table[\"train_features\"].index.map(lambda x: x[0])\n",
    "cell_indices = featurized_cell_table[\"train_features\"].index.map(lambda x: x[1])\n",
    "training_cells = {}\n",
    "for i in np.unique(fov_indices):\n",
    "    training_cells[i] = featurized_cell_table[\"train_features\"][i].iloc[cell_indices[fov_indices == i],:]\n"
   ],
   "metadata": {
    "collapsed": false,
    "pycharm": {
     "name": "#%%\n"
    }
   }
  },
  {
   "cell_type": "code",
   "execution_count": null,
   "outputs": [],
   "source": [
    "# Choose which FOVs to plot\n",
    "fov_set = [1,2]\n",
    "fov_labs = \"_\".join([str(x) for x in fov_set])\n",
    "\n",
    "_plot_fn = spu.make_plot_fn(\n",
    "    plot=\"all_topics\", topic_weights=trained_model.topic_weights, cell_table=training_cells)\n",
    "\n",
    "plot_path = os.path.join(\n",
    "    viz_dir,\n",
    "    \"training_topic_assignment_num_topics={}_fovs={}.png\".format(num_topics, fov_labs))\n",
    "\n",
    "# Generate Plot\n",
    "spatial_lda.visualization.plot_samples_in_a_row(\n",
    "    trained_model.topic_weights, _plot_fn, training_cells, fov_set)\n",
    "plt.savefig(plot_path)"
   ],
   "metadata": {
    "collapsed": false,
    "pycharm": {
     "name": "#%%\n"
    }
   }
  },
  {
   "cell_type": "markdown",
   "source": [
    "## Inferring Topic Weights on New Data\n",
    "Based on the output from the trained model, you can choose to infer topic weights on the entire pooled data by running the code below.  You can change the number of parallel processes if you like, otherwise it will be the same as when running the training algorithm."
   ],
   "metadata": {
    "collapsed": false
   }
  },
  {
   "cell_type": "code",
   "execution_count": null,
   "outputs": [],
   "source": [
    "complete_model = spatial_lda.model.infer(\n",
    "    components=trained_model.components_,\n",
    "    sample_features=featurized_cell_table[\"featurized_fovs\"],\n",
    "    difference_matrices=difference_matrices[\"inference_diff_mat\"],\n",
    "    difference_penalty=difference_penalty,\n",
    "    n_parallel_processes=num_processes\n",
    ")"
   ],
   "metadata": {
    "collapsed": false,
    "pycharm": {
     "name": "#%%\n"
    }
   }
  },
  {
   "cell_type": "markdown",
   "source": [
    "## Visualizing and Saving Results\n",
    "\n",
    "You can use the same heatmap and plotting functions as above to visualize the results of the full model."
   ],
   "metadata": {
    "collapsed": false
   }
  },
  {
   "cell_type": "code",
   "execution_count": null,
   "outputs": [],
   "source": [
    "# Feature-Topic Heatmap\n",
    "heatmap_path = os.path.join(\n",
    "    viz_dir, \"complete_heatmap_features={}_num_topics={}.png\".format(\n",
    "        featurized_cell_table[\"featurization\"], num_topics))\n",
    "\n",
    "spatial_lda.visualization.plot_topics_heatmap(\n",
    "    complete_model.components_, featurized_cell_table[\"featurized_fovs\"].columns)\n",
    "plt.savefig(heatmap_path)"
   ],
   "metadata": {
    "collapsed": false,
    "pycharm": {
     "name": "#%%\n"
    }
   }
  },
  {
   "cell_type": "code",
   "execution_count": null,
   "outputs": [],
   "source": [
    "# Cell Topic Assignment\n",
    "fov_set = [1,2]\n",
    "fov_labs = \"_\".join([str(x) for x in fov_set])\n",
    "\n",
    "_plot_fn = spu.make_plot_fn(\n",
    "    plot=\"all_topics\", topic_weights=complete_model.topic_weights, cell_table=cell_table)\n",
    "\n",
    "plot_path = os.path.join(\n",
    "    viz_dir,\n",
    "    \"complete_topic_assignment_num_topics={}_fovs={}.png\".format(num_topics, fov_labs))\n",
    "\n",
    "# Generate Plot\n",
    "spatial_lda.visualization.plot_samples_in_a_row(\n",
    "    complete_model.topic_weights, _plot_fn, cell_table, fov_set)\n",
    "plt.savefig(plot_path)"
   ],
   "metadata": {
    "collapsed": false,
    "pycharm": {
     "name": "#%%\n"
    }
   }
  },
  {
   "cell_type": "markdown",
   "source": [
    "#### Saving the Trained and Complete Models\n",
    "Use the code below to save the trained and complete models for use on future data."
   ],
   "metadata": {
    "collapsed": false,
    "pycharm": {
     "name": "#%% md\n"
    }
   }
  },
  {
   "cell_type": "code",
   "execution_count": null,
   "outputs": [],
   "source": [
    "# Trained Model\n",
    "train_name = \"trained_spatial_lda_model_num_topics={}_diff={}\".format(\n",
    "    num_topics, difference_penalty)\n",
    "\n",
    "spu.save_spatial_lda_data(\n",
    "    data=trained_model,\n",
    "    dir=os.path.join(base_dir, processed_dir),\n",
    "    file_name=train_name,\n",
    "    format=\"pkl\")"
   ],
   "metadata": {
    "collapsed": false,
    "pycharm": {
     "name": "#%%\n"
    }
   }
  },
  {
   "cell_type": "code",
   "execution_count": null,
   "outputs": [],
   "source": [
    "# Complete Model\n",
    "complete_name = \"complete_spatial_lda_model_num_topics={}_diff={}\".format(\n",
    "    num_topics, difference_penalty)\n",
    "\n",
    "spu.save_spatial_lda_data(\n",
    "    data=complete_model,\n",
    "    dir=os.path.join(base_dir, processed_dir),\n",
    "    file_name=complete_name,\n",
    "    format=\"pkl\")"
   ],
   "metadata": {
    "collapsed": false,
    "pycharm": {
     "name": "#%%\n"
    }
   }
  }
 ],
 "metadata": {
  "kernelspec": {
   "display_name": "Python 3",
   "language": "python",
   "name": "python3"
  },
  "language_info": {
   "codemirror_mode": {
    "name": "ipython",
    "version": 2
   },
   "file_extension": ".py",
   "mimetype": "text/x-python",
   "name": "python",
   "nbconvert_exporter": "python",
   "pygments_lexer": "ipython2",
   "version": "2.7.6"
  }
 },
 "nbformat": 4,
 "nbformat_minor": 0
}