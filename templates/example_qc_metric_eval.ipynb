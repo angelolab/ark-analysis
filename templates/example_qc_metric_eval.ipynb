{
 "cells": [
  {
   "cell_type": "code",
   "execution_count": null,
   "id": "31e8cdea-23cf-41b6-9472-dda0296fb7c0",
   "metadata": {
    "tags": [
     "import"
    ]
   },
   "outputs": [],
   "source": [
    "import os\n",
    "import matplotlib.pyplot as plt\n",
    "import pandas as pd\n",
    "\n",
    "import ark.mibi.qc_comp as qc_comp\n",
    "import ark.utils.io_utils as io_utils"
   ]
  },
  {
   "cell_type": "markdown",
   "id": "f31d96b2-986a-400b-a3ab-6826bca97b3a",
   "metadata": {},
   "source": [
    "### Define parameters"
   ]
  },
  {
   "cell_type": "code",
   "execution_count": null,
   "id": "2d64474b-57fe-4143-adf8-4b8ccf707d6a",
   "metadata": {
    "tags": [
     "file_path"
    ]
   },
   "outputs": [],
   "source": [
    "# define paths to the data\n",
    "base_dir = \"../data/erin_data\"\n",
    "tiff_dir = base_dir"
   ]
  },
  {
   "cell_type": "code",
   "execution_count": null,
   "id": "d44314f2-7e5f-4a03-8ddb-9714a10363e1",
   "metadata": {
    "tags": [
     "mibitiff_set"
    ]
   },
   "outputs": [],
   "source": [
    "# define if MIBItiff images are used or not\n",
    "MIBItiff = False\n",
    "\n",
    "# data file suffix for low-level processed data\n",
    "# only needed for MIBItiff = True\n",
    "MIBItiff_suffix = \"-MassCorrected-Filtered.tiff\""
   ]
  },
  {
   "cell_type": "code",
   "execution_count": null,
   "id": "f3f6e0e7-bf68-4266-893c-eb7d35919006",
   "metadata": {
    "tags": [
     "load_fovs"
    ]
   },
   "outputs": [],
   "source": [
    "# define the fovs used for analysis\n",
    "# either get all fovs in the folder...\n",
    "if MIBItiff:\n",
    "    fovs = io_utils.list_files(tiff_dir, substrs=MIBItiff_suffix)\n",
    "else:\n",
    "    fovs = io_utils.list_folders(tiff_dir)\n",
    "\n",
    "# ... or optionally, select a specific set of fovs manually\n",
    "# fovs = [\"fov1\", \"fov2\"]\n",
    "\n",
    "# TODO: MIBItiff manual selection"
   ]
  },
  {
   "cell_type": "code",
   "execution_count": null,
   "id": "736366ad-e1a3-42f3-a30a-be6ace47a90b",
   "metadata": {
    "tags": [
     "set_chans"
    ]
   },
   "outputs": [],
   "source": [
    "# define the channels used for analysis\n",
    "# if None, uses all of the channels\n",
    "chans = None"
   ]
  },
  {
   "cell_type": "code",
   "execution_count": null,
   "id": "ec3096ac-79db-49f3-be8e-07474a338d4e",
   "metadata": {
    "tags": [
     "set_gaussian_blur"
    ]
   },
   "outputs": [],
   "source": [
    "# whether to add Gaussian blurring to the image before extracting QC metrics\n",
    "gaussian_blur = False\n",
    "\n",
    "# define the Gaussian blur sigma parameter\n",
    "# ignored if gaussian_blur set to False\n",
    "blur_factor = 1"
   ]
  },
  {
   "cell_type": "markdown",
   "id": "2c956f66-b090-428f-8a43-4acf6cae351e",
   "metadata": {},
   "source": [
    "### Create QC metric tables"
   ]
  },
  {
   "cell_type": "code",
   "execution_count": null,
   "id": "8907ed04-32d8-4531-8613-cf2843eafd34",
   "metadata": {
    "tags": [
     "compute_qc_data"
    ]
   },
   "outputs": [],
   "source": [
    "# TODO: may want to use a dict as more metrics get added\n",
    "# note: set img_sub_folder to None if there aren't any\n",
    "qc_data = qc_comp.compute_qc_metrics(\n",
    "    tiff_dir,\n",
    "    img_sub_folder=None,\n",
    "    is_mibitiff=MIBItiff,\n",
    "    fovs=fovs,\n",
    "    chans=chans,\n",
    "    batch_size=5,\n",
    "    gaussian_blur=gaussian_blur,\n",
    "    blur_factor=blur_factor\n",
    ")"
   ]
  },
  {
   "cell_type": "code",
   "execution_count": null,
   "id": "d330ee01-4075-4ba6-920b-4efdd33f79a9",
   "metadata": {
    "tags": [
     "assign_qc_data"
    ]
   },
   "outputs": [],
   "source": [
    "df_nonzero_mean = qc_data['nonzero_mean']\n",
    "df_total_intensity = qc_data['total_intensity']\n",
    "df_99_9_intensity = qc_data['99_9_intensity']"
   ]
  },
  {
   "cell_type": "code",
   "execution_count": null,
   "id": "9ea69760-7d4c-45f4-ae82-5097feda41b4",
   "metadata": {
    "tags": [
     "save_qc_data"
    ]
   },
   "outputs": [],
   "source": [
    "# save the QC metric values\n",
    "df_nonzero_mean.to_csv(os.path.join(base_dir, 'nonzero_mean_stats.csv'), index=False)\n",
    "df_total_intensity.to_csv(os.path.join(base_dir, 'total_intensity_stats.csv'), index=False)\n",
    "df_99_9_intensity.to_csv(os.path.join(base_dir, 'percentile_99_9_stats.csv'), index=False)"
   ]
  },
  {
   "cell_type": "markdown",
   "id": "7c7b81dd-d7b3-4c0b-ad3e-32540adcdbe3",
   "metadata": {},
   "source": [
    "### TODO: Visualize QC metrics"
   ]
  }
 ],
 "metadata": {
  "kernelspec": {
   "display_name": "Python 3",
   "language": "python",
   "name": "python3"
  },
  "language_info": {
   "codemirror_mode": {
    "name": "ipython",
    "version": 3
   },
   "file_extension": ".py",
   "mimetype": "text/x-python",
   "name": "python",
   "nbconvert_exporter": "python",
   "pygments_lexer": "ipython3",
   "version": "3.6.13"
  }
 },
 "nbformat": 4,
 "nbformat_minor": 5
}
