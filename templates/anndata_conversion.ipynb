{
 "cells": [
  {
   "cell_type": "markdown",
   "metadata": {},
   "source": [
    "# `AnnData` Conversion\n",
    "\n",
    "The purpose of this notebook is to convert the cell table to a [`AnnData`](https://anndata.readthedocs.io/en/latest/index.html) Object.\n",
    "\n",
    "`AnnData` stands for Annotated Data, and is a data structure well suited for single cell data. It is a multi-faceted object composed of matrices and DataFrames"
   ]
  },
  {
   "cell_type": "code",
   "execution_count": 2,
   "metadata": {
    "ExecuteTime": {
     "end_time": "2023-11-30T17:09:00.527535Z",
     "start_time": "2023-11-30T17:08:56.476970Z"
    }
   },
   "outputs": [],
   "source": [
    "from dask.distributed import Client\n",
    "from anndata import read_zarr\n",
    "from ark.utils.data_utils import ConvertToAnnData, load_anndatas, AnnDataIterDataPipe\n",
    "import os"
   ]
  },
  {
   "cell_type": "code",
   "execution_count": 3,
   "metadata": {
    "ExecuteTime": {
     "end_time": "2023-11-30T17:09:02.298445Z",
     "start_time": "2023-11-30T17:09:00.528933Z"
    }
   },
   "outputs": [
    {
     "data": {
      "text/plain": "<Client: 'tcp://127.0.0.1:52783' processes=5 threads=10, memory=64.00 GiB>",
      "text/html": "<div>\n    <div style=\"width: 24px; height: 24px; background-color: #e1e1e1; border: 3px solid #9D9D9D; border-radius: 5px; position: absolute;\"> </div>\n    <div style=\"margin-left: 48px;\">\n        <h3 style=\"margin-bottom: 0px;\">Client</h3>\n        <p style=\"color: #9D9D9D; margin-bottom: 0px;\">Client-27cd6f0a-8fa3-11ee-8c15-de552389aa04</p>\n        <table style=\"width: 100%; text-align: left;\">\n\n        <tr>\n        \n            <td style=\"text-align: left;\"><strong>Connection method:</strong> Cluster object</td>\n            <td style=\"text-align: left;\"><strong>Cluster type:</strong> distributed.LocalCluster</td>\n        \n        </tr>\n\n        \n            <tr>\n                <td style=\"text-align: left;\">\n                    <strong>Dashboard: </strong> <a href=\"http://127.0.0.1:8787/status\" target=\"_blank\">http://127.0.0.1:8787/status</a>\n                </td>\n                <td style=\"text-align: left;\"></td>\n            </tr>\n        \n\n        </table>\n\n        \n\n        \n            <details>\n            <summary style=\"margin-bottom: 20px;\"><h3 style=\"display: inline;\">Cluster Info</h3></summary>\n            <div class=\"jp-RenderedHTMLCommon jp-RenderedHTML jp-mod-trusted jp-OutputArea-output\">\n    <div style=\"width: 24px; height: 24px; background-color: #e1e1e1; border: 3px solid #9D9D9D; border-radius: 5px; position: absolute;\">\n    </div>\n    <div style=\"margin-left: 48px;\">\n        <h3 style=\"margin-bottom: 0px; margin-top: 0px;\">LocalCluster</h3>\n        <p style=\"color: #9D9D9D; margin-bottom: 0px;\">8bc55cf0</p>\n        <table style=\"width: 100%; text-align: left;\">\n            <tr>\n                <td style=\"text-align: left;\">\n                    <strong>Dashboard:</strong> <a href=\"http://127.0.0.1:8787/status\" target=\"_blank\">http://127.0.0.1:8787/status</a>\n                </td>\n                <td style=\"text-align: left;\">\n                    <strong>Workers:</strong> 5\n                </td>\n            </tr>\n            <tr>\n                <td style=\"text-align: left;\">\n                    <strong>Total threads:</strong> 10\n                </td>\n                <td style=\"text-align: left;\">\n                    <strong>Total memory:</strong> 64.00 GiB\n                </td>\n            </tr>\n            \n            <tr>\n    <td style=\"text-align: left;\"><strong>Status:</strong> running</td>\n    <td style=\"text-align: left;\"><strong>Using processes:</strong> True</td>\n</tr>\n\n            \n        </table>\n\n        <details>\n            <summary style=\"margin-bottom: 20px;\">\n                <h3 style=\"display: inline;\">Scheduler Info</h3>\n            </summary>\n\n            <div style=\"\">\n    <div>\n        <div style=\"width: 24px; height: 24px; background-color: #FFF7E5; border: 3px solid #FF6132; border-radius: 5px; position: absolute;\"> </div>\n        <div style=\"margin-left: 48px;\">\n            <h3 style=\"margin-bottom: 0px;\">Scheduler</h3>\n            <p style=\"color: #9D9D9D; margin-bottom: 0px;\">Scheduler-8802f90a-8f4f-45b3-b65d-884c3055f314</p>\n            <table style=\"width: 100%; text-align: left;\">\n                <tr>\n                    <td style=\"text-align: left;\">\n                        <strong>Comm:</strong> tcp://127.0.0.1:52783\n                    </td>\n                    <td style=\"text-align: left;\">\n                        <strong>Workers:</strong> 5\n                    </td>\n                </tr>\n                <tr>\n                    <td style=\"text-align: left;\">\n                        <strong>Dashboard:</strong> <a href=\"http://127.0.0.1:8787/status\" target=\"_blank\">http://127.0.0.1:8787/status</a>\n                    </td>\n                    <td style=\"text-align: left;\">\n                        <strong>Total threads:</strong> 10\n                    </td>\n                </tr>\n                <tr>\n                    <td style=\"text-align: left;\">\n                        <strong>Started:</strong> Just now\n                    </td>\n                    <td style=\"text-align: left;\">\n                        <strong>Total memory:</strong> 64.00 GiB\n                    </td>\n                </tr>\n            </table>\n        </div>\n    </div>\n\n    <details style=\"margin-left: 48px;\">\n        <summary style=\"margin-bottom: 20px;\">\n            <h3 style=\"display: inline;\">Workers</h3>\n        </summary>\n\n        \n        <div style=\"margin-bottom: 20px;\">\n            <div style=\"width: 24px; height: 24px; background-color: #DBF5FF; border: 3px solid #4CC9FF; border-radius: 5px; position: absolute;\"> </div>\n            <div style=\"margin-left: 48px;\">\n            <details>\n                <summary>\n                    <h4 style=\"margin-bottom: 0px; display: inline;\">Worker: 0</h4>\n                </summary>\n                <table style=\"width: 100%; text-align: left;\">\n                    <tr>\n                        <td style=\"text-align: left;\">\n                            <strong>Comm: </strong> tcp://127.0.0.1:52804\n                        </td>\n                        <td style=\"text-align: left;\">\n                            <strong>Total threads: </strong> 2\n                        </td>\n                    </tr>\n                    <tr>\n                        <td style=\"text-align: left;\">\n                            <strong>Dashboard: </strong> <a href=\"http://127.0.0.1:52809/status\" target=\"_blank\">http://127.0.0.1:52809/status</a>\n                        </td>\n                        <td style=\"text-align: left;\">\n                            <strong>Memory: </strong> 12.80 GiB\n                        </td>\n                    </tr>\n                    <tr>\n                        <td style=\"text-align: left;\">\n                            <strong>Nanny: </strong> tcp://127.0.0.1:52786\n                        </td>\n                        <td style=\"text-align: left;\"></td>\n                    </tr>\n                    <tr>\n                        <td colspan=\"2\" style=\"text-align: left;\">\n                            <strong>Local directory: </strong> /var/folders/fy/q2szypn9325d_0g0nq049k300000gq/T/dask-scratch-space/worker-29yzfcpt\n                        </td>\n                    </tr>\n\n                    \n\n                    \n\n                </table>\n            </details>\n            </div>\n        </div>\n        \n        <div style=\"margin-bottom: 20px;\">\n            <div style=\"width: 24px; height: 24px; background-color: #DBF5FF; border: 3px solid #4CC9FF; border-radius: 5px; position: absolute;\"> </div>\n            <div style=\"margin-left: 48px;\">\n            <details>\n                <summary>\n                    <h4 style=\"margin-bottom: 0px; display: inline;\">Worker: 1</h4>\n                </summary>\n                <table style=\"width: 100%; text-align: left;\">\n                    <tr>\n                        <td style=\"text-align: left;\">\n                            <strong>Comm: </strong> tcp://127.0.0.1:52806\n                        </td>\n                        <td style=\"text-align: left;\">\n                            <strong>Total threads: </strong> 2\n                        </td>\n                    </tr>\n                    <tr>\n                        <td style=\"text-align: left;\">\n                            <strong>Dashboard: </strong> <a href=\"http://127.0.0.1:52812/status\" target=\"_blank\">http://127.0.0.1:52812/status</a>\n                        </td>\n                        <td style=\"text-align: left;\">\n                            <strong>Memory: </strong> 12.80 GiB\n                        </td>\n                    </tr>\n                    <tr>\n                        <td style=\"text-align: left;\">\n                            <strong>Nanny: </strong> tcp://127.0.0.1:52788\n                        </td>\n                        <td style=\"text-align: left;\"></td>\n                    </tr>\n                    <tr>\n                        <td colspan=\"2\" style=\"text-align: left;\">\n                            <strong>Local directory: </strong> /var/folders/fy/q2szypn9325d_0g0nq049k300000gq/T/dask-scratch-space/worker-9i7tdzw_\n                        </td>\n                    </tr>\n\n                    \n\n                    \n\n                </table>\n            </details>\n            </div>\n        </div>\n        \n        <div style=\"margin-bottom: 20px;\">\n            <div style=\"width: 24px; height: 24px; background-color: #DBF5FF; border: 3px solid #4CC9FF; border-radius: 5px; position: absolute;\"> </div>\n            <div style=\"margin-left: 48px;\">\n            <details>\n                <summary>\n                    <h4 style=\"margin-bottom: 0px; display: inline;\">Worker: 2</h4>\n                </summary>\n                <table style=\"width: 100%; text-align: left;\">\n                    <tr>\n                        <td style=\"text-align: left;\">\n                            <strong>Comm: </strong> tcp://127.0.0.1:52807\n                        </td>\n                        <td style=\"text-align: left;\">\n                            <strong>Total threads: </strong> 2\n                        </td>\n                    </tr>\n                    <tr>\n                        <td style=\"text-align: left;\">\n                            <strong>Dashboard: </strong> <a href=\"http://127.0.0.1:52810/status\" target=\"_blank\">http://127.0.0.1:52810/status</a>\n                        </td>\n                        <td style=\"text-align: left;\">\n                            <strong>Memory: </strong> 12.80 GiB\n                        </td>\n                    </tr>\n                    <tr>\n                        <td style=\"text-align: left;\">\n                            <strong>Nanny: </strong> tcp://127.0.0.1:52790\n                        </td>\n                        <td style=\"text-align: left;\"></td>\n                    </tr>\n                    <tr>\n                        <td colspan=\"2\" style=\"text-align: left;\">\n                            <strong>Local directory: </strong> /var/folders/fy/q2szypn9325d_0g0nq049k300000gq/T/dask-scratch-space/worker-mwllts27\n                        </td>\n                    </tr>\n\n                    \n\n                    \n\n                </table>\n            </details>\n            </div>\n        </div>\n        \n        <div style=\"margin-bottom: 20px;\">\n            <div style=\"width: 24px; height: 24px; background-color: #DBF5FF; border: 3px solid #4CC9FF; border-radius: 5px; position: absolute;\"> </div>\n            <div style=\"margin-left: 48px;\">\n            <details>\n                <summary>\n                    <h4 style=\"margin-bottom: 0px; display: inline;\">Worker: 3</h4>\n                </summary>\n                <table style=\"width: 100%; text-align: left;\">\n                    <tr>\n                        <td style=\"text-align: left;\">\n                            <strong>Comm: </strong> tcp://127.0.0.1:52803\n                        </td>\n                        <td style=\"text-align: left;\">\n                            <strong>Total threads: </strong> 2\n                        </td>\n                    </tr>\n                    <tr>\n                        <td style=\"text-align: left;\">\n                            <strong>Dashboard: </strong> <a href=\"http://127.0.0.1:52808/status\" target=\"_blank\">http://127.0.0.1:52808/status</a>\n                        </td>\n                        <td style=\"text-align: left;\">\n                            <strong>Memory: </strong> 12.80 GiB\n                        </td>\n                    </tr>\n                    <tr>\n                        <td style=\"text-align: left;\">\n                            <strong>Nanny: </strong> tcp://127.0.0.1:52792\n                        </td>\n                        <td style=\"text-align: left;\"></td>\n                    </tr>\n                    <tr>\n                        <td colspan=\"2\" style=\"text-align: left;\">\n                            <strong>Local directory: </strong> /var/folders/fy/q2szypn9325d_0g0nq049k300000gq/T/dask-scratch-space/worker-gi6qc_m4\n                        </td>\n                    </tr>\n\n                    \n\n                    \n\n                </table>\n            </details>\n            </div>\n        </div>\n        \n        <div style=\"margin-bottom: 20px;\">\n            <div style=\"width: 24px; height: 24px; background-color: #DBF5FF; border: 3px solid #4CC9FF; border-radius: 5px; position: absolute;\"> </div>\n            <div style=\"margin-left: 48px;\">\n            <details>\n                <summary>\n                    <h4 style=\"margin-bottom: 0px; display: inline;\">Worker: 4</h4>\n                </summary>\n                <table style=\"width: 100%; text-align: left;\">\n                    <tr>\n                        <td style=\"text-align: left;\">\n                            <strong>Comm: </strong> tcp://127.0.0.1:52805\n                        </td>\n                        <td style=\"text-align: left;\">\n                            <strong>Total threads: </strong> 2\n                        </td>\n                    </tr>\n                    <tr>\n                        <td style=\"text-align: left;\">\n                            <strong>Dashboard: </strong> <a href=\"http://127.0.0.1:52811/status\" target=\"_blank\">http://127.0.0.1:52811/status</a>\n                        </td>\n                        <td style=\"text-align: left;\">\n                            <strong>Memory: </strong> 12.80 GiB\n                        </td>\n                    </tr>\n                    <tr>\n                        <td style=\"text-align: left;\">\n                            <strong>Nanny: </strong> tcp://127.0.0.1:52794\n                        </td>\n                        <td style=\"text-align: left;\"></td>\n                    </tr>\n                    <tr>\n                        <td colspan=\"2\" style=\"text-align: left;\">\n                            <strong>Local directory: </strong> /var/folders/fy/q2szypn9325d_0g0nq049k300000gq/T/dask-scratch-space/worker-oijvbc0i\n                        </td>\n                    </tr>\n\n                    \n\n                    \n\n                </table>\n            </details>\n            </div>\n        </div>\n        \n\n    </details>\n</div>\n\n        </details>\n    </div>\n</div>\n            </details>\n        \n\n    </div>\n</div>"
     },
     "execution_count": 3,
     "metadata": {},
     "output_type": "execute_result"
    }
   ],
   "source": [
    "Client(threads_per_worker = 2)"
   ]
  },
  {
   "cell_type": "code",
   "execution_count": 1,
   "metadata": {
    "ExecuteTime": {
     "end_time": "2023-11-30T17:08:54.069774Z",
     "start_time": "2023-11-30T17:08:54.067066Z"
    }
   },
   "outputs": [],
   "source": [
    "base_dir = \"../data/example_dataset/\""
   ]
  },
  {
   "cell_type": "markdown",
   "metadata": {},
   "source": [
    "## 0. Download the Example Dataset\n",
    "\n",
    "Here we are using the example data located in `/data/example_dataset/input_data`. To modify this notebook to run using your own data, simply change `base_dir` to point to your own sub-directory within the data folder.\n",
    "\n",
    "* `base_dir`: the path to all of your imaging data. This directory will contain all of the data generated by this notebook, as well as the data previously generated by segmentation and cell clustering."
   ]
  },
  {
   "cell_type": "code",
   "execution_count": 4,
   "metadata": {
    "ExecuteTime": {
     "end_time": "2023-11-30T17:09:04.139994Z",
     "start_time": "2023-11-30T17:09:02.283610Z"
    }
   },
   "outputs": [
    {
     "name": "stderr",
     "output_type": "stream",
     "text": [
      "/Users/srivarra/.pyenv/versions/3.11.5/envs/ark/lib/python3.11/site-packages/datasets/load.py:2089: FutureWarning: 'use_auth_token' was deprecated in favor of 'token' in version 2.14.0 and will be removed in 3.0.0.\n",
      "You can remove this warning by passing 'token=False' instead.\n",
      "  warnings.warn(\n",
      "/Users/srivarra/Angelo Lab/Internal/ark-analysis/src/ark/utils/example_dataset.py:127: UserWarning: Files exist in ../data/example_dataset/image_data.                         They will be overwritten by the downloaded example dataset.\n",
      "  warnings.warn(UserWarning(f\"Files exist in {dst_path}. \\\n",
      "/Users/srivarra/Angelo Lab/Internal/ark-analysis/src/ark/utils/example_dataset.py:127: UserWarning: Files exist in ../data/example_dataset/segmentation/cell_table.                         They will be overwritten by the downloaded example dataset.\n",
      "  warnings.warn(UserWarning(f\"Files exist in {dst_path}. \\\n",
      "/Users/srivarra/Angelo Lab/Internal/ark-analysis/src/ark/utils/example_dataset.py:127: UserWarning: Files exist in ../data/example_dataset/segmentation/deepcell_output.                         They will be overwritten by the downloaded example dataset.\n",
      "  warnings.warn(UserWarning(f\"Files exist in {dst_path}. \\\n",
      "/Users/srivarra/Angelo Lab/Internal/ark-analysis/src/ark/utils/example_dataset.py:127: UserWarning: Files exist in ../data/example_dataset/pixie/example_cell_output_dir.                         They will be overwritten by the downloaded example dataset.\n",
      "  warnings.warn(UserWarning(f\"Files exist in {dst_path}. \\\n"
     ]
    }
   ],
   "source": [
    "from ark.utils.example_dataset import get_example_dataset\n",
    "\n",
    "get_example_dataset(dataset=\"post_clustering\", save_dir= base_dir, overwrite_existing=True)"
   ]
  },
  {
   "cell_type": "markdown",
   "source": [
    "## 1. Convert the Cell Table to `AnnData` Objects\n",
    "\n",
    "- `cell_table_path`: The path to the cell table that you wish to convert to `AnnData` objects. \n",
    "- `anndata_save_dir`: The directory where you would like to save the `AnnData` objects. This directory will be created if it does not already exist."
   ],
   "metadata": {
    "collapsed": false
   }
  },
  {
   "cell_type": "code",
   "execution_count": 12,
   "metadata": {
    "ExecuteTime": {
     "end_time": "2023-11-30T17:09:55.614306Z",
     "start_time": "2023-11-30T17:09:55.607681Z"
    }
   },
   "outputs": [],
   "source": [
    "cell_table_path = os.path.join(base_dir, \"segmentation/cell_table/cell_table_size_normalized_cell_labels.csv\")\n",
    "anndata_save_dir = os.path.join(base_dir, \"anndata\")"
   ]
  },
  {
   "cell_type": "markdown",
   "metadata": {},
   "source": [
    "- `markers`: These are the names of the markers that you wish to extract from the Cell Table. You can specify each marker that you would like to use, or you may set it to `None` in order to grab all markers.\n",
    "- `extra_obs_parameters`: These are the names of the extra columns in the Cell Table that you wish to extract. You can specify each parameter that you would like to use, or you may set it to `None` in order to grab all parameters."
   ]
  },
  {
   "cell_type": "code",
   "execution_count": 13,
   "metadata": {
    "ExecuteTime": {
     "end_time": "2023-11-30T17:09:56.466954Z",
     "start_time": "2023-11-30T17:09:56.464196Z"
    }
   },
   "outputs": [],
   "source": [
    "# markers = [\"CD14\", \"CD163\", \"CD20\", \"CD3\", \"CD31\", \"CD4\", \"CD45\", \"CD68\", \"CD8\", \"CK17\", \"Collagen1\", \"ECAD\",\n",
    "#               \"Fibronectin\", \"GLUT1\", \"H3K27me3\", \"H3K9ac\", \"HLADR\", \"IDO\", \"Ki67\", \"PD1\", \"SMA\", \"Vim\"]\n",
    "markers = None"
   ]
  },
  {
   "cell_type": "code",
   "execution_count": 14,
   "metadata": {
    "ExecuteTime": {
     "end_time": "2023-11-30T17:09:56.879793Z",
     "start_time": "2023-11-30T17:09:56.867649Z"
    }
   },
   "outputs": [],
   "source": [
    "convert_to_anndata = ConvertToAnnData(cell_table_path, markers=markers, extra_obs_parameters=None)"
   ]
  },
  {
   "cell_type": "code",
   "execution_count": 15,
   "outputs": [],
   "source": [
    "fov_adata_paths = convert_to_anndata.convert_to_adata(save_dir=anndata_save_dir)"
   ],
   "metadata": {
    "collapsed": false,
    "ExecuteTime": {
     "end_time": "2023-11-30T17:10:01.796185Z",
     "start_time": "2023-11-30T17:09:57.186645Z"
    }
   }
  },
  {
   "cell_type": "markdown",
   "source": [
    "### 1.1 Load a single `AnnData` object"
   ],
   "metadata": {
    "collapsed": false
   }
  },
  {
   "cell_type": "code",
   "execution_count": 9,
   "outputs": [],
   "source": [
    "fov0_adata_path = os.path.join(anndata_save_dir, \"fov0.zarr\")"
   ],
   "metadata": {
    "collapsed": false,
    "ExecuteTime": {
     "end_time": "2023-11-30T17:09:12.780411Z",
     "start_time": "2023-11-30T17:09:12.774659Z"
    }
   }
  },
  {
   "cell_type": "code",
   "execution_count": 10,
   "outputs": [],
   "source": [
    "fov0 = read_zarr(fov0_adata_path)"
   ],
   "metadata": {
    "collapsed": false,
    "ExecuteTime": {
     "end_time": "2023-11-30T17:09:12.803954Z",
     "start_time": "2023-11-30T17:09:12.777587Z"
    }
   }
  },
  {
   "cell_type": "markdown",
   "source": [
    "We can view the marker intensities for each cell in the `AnnData` object with the `.to_df()` method, and get the marker / channel names with `.var_names`."
   ],
   "metadata": {
    "collapsed": false
   }
  },
  {
   "cell_type": "code",
   "execution_count": 18,
   "outputs": [
    {
     "data": {
      "text/plain": "Index(['CD14', 'CD163', 'CD20', 'CD3', 'CD31', 'CD4', 'CD45', 'CD68', 'CD8',\n       'CK17', 'Collagen1', 'ECAD', 'Fibronectin', 'GLUT1', 'H3K27me3',\n       'H3K9ac', 'HLADR', 'IDO', 'Ki67', 'PD1', 'SMA', 'Vim'],\n      dtype='object')"
     },
     "execution_count": 18,
     "metadata": {},
     "output_type": "execute_result"
    }
   ],
   "source": [
    "fov0.var_names"
   ],
   "metadata": {
    "collapsed": false,
    "ExecuteTime": {
     "end_time": "2023-11-30T17:17:30.019108Z",
     "start_time": "2023-11-30T17:17:30.000069Z"
    }
   }
  },
  {
   "cell_type": "code",
   "execution_count": 11,
   "outputs": [
    {
     "data": {
      "text/plain": "              CD14     CD163      CD20       CD3      CD31       CD4  \\\nfov0_1    0.000399  0.000024  0.012383  0.008292  0.000000  0.011049   \nfov0_2    0.006646  0.001680  0.000406  0.006538  0.000061  0.012894   \nfov0_3    0.000778  0.000671  0.000396  0.000981  0.000060  0.009768   \nfov0_4    0.000282  0.000759  0.000329  0.000204  0.000005  0.003297   \nfov0_5    0.001022  0.001147  0.001744  0.005891  0.000109  0.014137   \n...            ...       ...       ...       ...       ...       ...   \nfov0_665  0.000488  0.000503  0.000764  0.005539  0.000215  0.007558   \nfov0_666  0.000103  0.000528  0.000553  0.008570  0.000162  0.011928   \nfov0_667  0.000727  0.001029  0.017522  0.002606  0.000083  0.005498   \nfov0_668  0.000245  0.000769  0.000195  0.004832  0.000283  0.009733   \nfov0_669  0.001947  0.001528  0.010621  0.001054  0.000329  0.004205   \n\n              CD45      CD68       CD8      CK17  ...  Fibronectin     GLUT1  \\\nfov0_1    0.014530  0.000178  0.000785  0.000035  ...     0.000134  0.001747   \nfov0_2    0.019244  0.000368  0.000103  0.000185  ...     0.000071  0.001154   \nfov0_3    0.003471  0.000000  0.000120  0.000058  ...     0.000526  0.002033   \nfov0_4    0.002791  0.001523  0.000142  0.000355  ...     0.000500  0.002328   \nfov0_5    0.017929  0.000373  0.000127  0.000436  ...     0.001839  0.002183   \n...            ...       ...       ...       ...  ...          ...       ...   \nfov0_665  0.017787  0.000210  0.002353  0.000462  ...     0.002810  0.002388   \nfov0_666  0.021502  0.000238  0.005243  0.000796  ...     0.000593  0.002244   \nfov0_667  0.009430  0.000231  0.002023  0.000534  ...     0.000392  0.001926   \nfov0_668  0.008750  0.000000  0.000279  0.000558  ...     0.000668  0.003314   \nfov0_669  0.008727  0.000732  0.000056  0.000265  ...     0.000927  0.002602   \n\n          H3K27me3    H3K9ac     HLADR       IDO      Ki67           PD1  \\\nfov0_1    0.015475  0.004704  0.000515  0.000243  0.000431  1.109487e-03   \nfov0_2    0.024963  0.018478  0.003646  0.000375  0.000343  2.026971e-04   \nfov0_3    0.012223  0.005136  0.005709  0.000133  0.000978  6.849804e-07   \nfov0_4    0.019580  0.032538  0.000620  0.000349  0.000365  2.710830e-05   \nfov0_5    0.024172  0.007252  0.003693  0.000280  0.001031  1.694448e-04   \n...            ...       ...       ...       ...       ...           ...   \nfov0_665  0.032813  0.011014  0.000133  0.000038  0.000494  1.182592e-04   \nfov0_666  0.024003  0.009101  0.000398  0.000073  0.001192  5.894804e-04   \nfov0_667  0.082291  0.026390  0.001129  0.000298  0.000578  1.865444e-04   \nfov0_668  0.025114  0.016361  0.000142  0.000139  0.000081  2.467261e-04   \nfov0_669  0.071565  0.024024  0.001256  0.000205  0.000238  6.093835e-05   \n\n               SMA       Vim  \nfov0_1    0.000000  0.001993  \nfov0_2    0.000000  0.000902  \nfov0_3    0.000629  0.002259  \nfov0_4    0.000675  0.000798  \nfov0_5    0.004064  0.003666  \n...            ...       ...  \nfov0_665  0.000063  0.002759  \nfov0_666  0.000110  0.002197  \nfov0_667  0.000179  0.008316  \nfov0_668  0.044327  0.008450  \nfov0_669  0.000269  0.003047  \n\n[669 rows x 22 columns]",
      "text/html": "<div>\n<style scoped>\n    .dataframe tbody tr th:only-of-type {\n        vertical-align: middle;\n    }\n\n    .dataframe tbody tr th {\n        vertical-align: top;\n    }\n\n    .dataframe thead th {\n        text-align: right;\n    }\n</style>\n<table border=\"1\" class=\"dataframe\">\n  <thead>\n    <tr style=\"text-align: right;\">\n      <th></th>\n      <th>CD14</th>\n      <th>CD163</th>\n      <th>CD20</th>\n      <th>CD3</th>\n      <th>CD31</th>\n      <th>CD4</th>\n      <th>CD45</th>\n      <th>CD68</th>\n      <th>CD8</th>\n      <th>CK17</th>\n      <th>...</th>\n      <th>Fibronectin</th>\n      <th>GLUT1</th>\n      <th>H3K27me3</th>\n      <th>H3K9ac</th>\n      <th>HLADR</th>\n      <th>IDO</th>\n      <th>Ki67</th>\n      <th>PD1</th>\n      <th>SMA</th>\n      <th>Vim</th>\n    </tr>\n  </thead>\n  <tbody>\n    <tr>\n      <th>fov0_1</th>\n      <td>0.000399</td>\n      <td>0.000024</td>\n      <td>0.012383</td>\n      <td>0.008292</td>\n      <td>0.000000</td>\n      <td>0.011049</td>\n      <td>0.014530</td>\n      <td>0.000178</td>\n      <td>0.000785</td>\n      <td>0.000035</td>\n      <td>...</td>\n      <td>0.000134</td>\n      <td>0.001747</td>\n      <td>0.015475</td>\n      <td>0.004704</td>\n      <td>0.000515</td>\n      <td>0.000243</td>\n      <td>0.000431</td>\n      <td>1.109487e-03</td>\n      <td>0.000000</td>\n      <td>0.001993</td>\n    </tr>\n    <tr>\n      <th>fov0_2</th>\n      <td>0.006646</td>\n      <td>0.001680</td>\n      <td>0.000406</td>\n      <td>0.006538</td>\n      <td>0.000061</td>\n      <td>0.012894</td>\n      <td>0.019244</td>\n      <td>0.000368</td>\n      <td>0.000103</td>\n      <td>0.000185</td>\n      <td>...</td>\n      <td>0.000071</td>\n      <td>0.001154</td>\n      <td>0.024963</td>\n      <td>0.018478</td>\n      <td>0.003646</td>\n      <td>0.000375</td>\n      <td>0.000343</td>\n      <td>2.026971e-04</td>\n      <td>0.000000</td>\n      <td>0.000902</td>\n    </tr>\n    <tr>\n      <th>fov0_3</th>\n      <td>0.000778</td>\n      <td>0.000671</td>\n      <td>0.000396</td>\n      <td>0.000981</td>\n      <td>0.000060</td>\n      <td>0.009768</td>\n      <td>0.003471</td>\n      <td>0.000000</td>\n      <td>0.000120</td>\n      <td>0.000058</td>\n      <td>...</td>\n      <td>0.000526</td>\n      <td>0.002033</td>\n      <td>0.012223</td>\n      <td>0.005136</td>\n      <td>0.005709</td>\n      <td>0.000133</td>\n      <td>0.000978</td>\n      <td>6.849804e-07</td>\n      <td>0.000629</td>\n      <td>0.002259</td>\n    </tr>\n    <tr>\n      <th>fov0_4</th>\n      <td>0.000282</td>\n      <td>0.000759</td>\n      <td>0.000329</td>\n      <td>0.000204</td>\n      <td>0.000005</td>\n      <td>0.003297</td>\n      <td>0.002791</td>\n      <td>0.001523</td>\n      <td>0.000142</td>\n      <td>0.000355</td>\n      <td>...</td>\n      <td>0.000500</td>\n      <td>0.002328</td>\n      <td>0.019580</td>\n      <td>0.032538</td>\n      <td>0.000620</td>\n      <td>0.000349</td>\n      <td>0.000365</td>\n      <td>2.710830e-05</td>\n      <td>0.000675</td>\n      <td>0.000798</td>\n    </tr>\n    <tr>\n      <th>fov0_5</th>\n      <td>0.001022</td>\n      <td>0.001147</td>\n      <td>0.001744</td>\n      <td>0.005891</td>\n      <td>0.000109</td>\n      <td>0.014137</td>\n      <td>0.017929</td>\n      <td>0.000373</td>\n      <td>0.000127</td>\n      <td>0.000436</td>\n      <td>...</td>\n      <td>0.001839</td>\n      <td>0.002183</td>\n      <td>0.024172</td>\n      <td>0.007252</td>\n      <td>0.003693</td>\n      <td>0.000280</td>\n      <td>0.001031</td>\n      <td>1.694448e-04</td>\n      <td>0.004064</td>\n      <td>0.003666</td>\n    </tr>\n    <tr>\n      <th>...</th>\n      <td>...</td>\n      <td>...</td>\n      <td>...</td>\n      <td>...</td>\n      <td>...</td>\n      <td>...</td>\n      <td>...</td>\n      <td>...</td>\n      <td>...</td>\n      <td>...</td>\n      <td>...</td>\n      <td>...</td>\n      <td>...</td>\n      <td>...</td>\n      <td>...</td>\n      <td>...</td>\n      <td>...</td>\n      <td>...</td>\n      <td>...</td>\n      <td>...</td>\n      <td>...</td>\n    </tr>\n    <tr>\n      <th>fov0_665</th>\n      <td>0.000488</td>\n      <td>0.000503</td>\n      <td>0.000764</td>\n      <td>0.005539</td>\n      <td>0.000215</td>\n      <td>0.007558</td>\n      <td>0.017787</td>\n      <td>0.000210</td>\n      <td>0.002353</td>\n      <td>0.000462</td>\n      <td>...</td>\n      <td>0.002810</td>\n      <td>0.002388</td>\n      <td>0.032813</td>\n      <td>0.011014</td>\n      <td>0.000133</td>\n      <td>0.000038</td>\n      <td>0.000494</td>\n      <td>1.182592e-04</td>\n      <td>0.000063</td>\n      <td>0.002759</td>\n    </tr>\n    <tr>\n      <th>fov0_666</th>\n      <td>0.000103</td>\n      <td>0.000528</td>\n      <td>0.000553</td>\n      <td>0.008570</td>\n      <td>0.000162</td>\n      <td>0.011928</td>\n      <td>0.021502</td>\n      <td>0.000238</td>\n      <td>0.005243</td>\n      <td>0.000796</td>\n      <td>...</td>\n      <td>0.000593</td>\n      <td>0.002244</td>\n      <td>0.024003</td>\n      <td>0.009101</td>\n      <td>0.000398</td>\n      <td>0.000073</td>\n      <td>0.001192</td>\n      <td>5.894804e-04</td>\n      <td>0.000110</td>\n      <td>0.002197</td>\n    </tr>\n    <tr>\n      <th>fov0_667</th>\n      <td>0.000727</td>\n      <td>0.001029</td>\n      <td>0.017522</td>\n      <td>0.002606</td>\n      <td>0.000083</td>\n      <td>0.005498</td>\n      <td>0.009430</td>\n      <td>0.000231</td>\n      <td>0.002023</td>\n      <td>0.000534</td>\n      <td>...</td>\n      <td>0.000392</td>\n      <td>0.001926</td>\n      <td>0.082291</td>\n      <td>0.026390</td>\n      <td>0.001129</td>\n      <td>0.000298</td>\n      <td>0.000578</td>\n      <td>1.865444e-04</td>\n      <td>0.000179</td>\n      <td>0.008316</td>\n    </tr>\n    <tr>\n      <th>fov0_668</th>\n      <td>0.000245</td>\n      <td>0.000769</td>\n      <td>0.000195</td>\n      <td>0.004832</td>\n      <td>0.000283</td>\n      <td>0.009733</td>\n      <td>0.008750</td>\n      <td>0.000000</td>\n      <td>0.000279</td>\n      <td>0.000558</td>\n      <td>...</td>\n      <td>0.000668</td>\n      <td>0.003314</td>\n      <td>0.025114</td>\n      <td>0.016361</td>\n      <td>0.000142</td>\n      <td>0.000139</td>\n      <td>0.000081</td>\n      <td>2.467261e-04</td>\n      <td>0.044327</td>\n      <td>0.008450</td>\n    </tr>\n    <tr>\n      <th>fov0_669</th>\n      <td>0.001947</td>\n      <td>0.001528</td>\n      <td>0.010621</td>\n      <td>0.001054</td>\n      <td>0.000329</td>\n      <td>0.004205</td>\n      <td>0.008727</td>\n      <td>0.000732</td>\n      <td>0.000056</td>\n      <td>0.000265</td>\n      <td>...</td>\n      <td>0.000927</td>\n      <td>0.002602</td>\n      <td>0.071565</td>\n      <td>0.024024</td>\n      <td>0.001256</td>\n      <td>0.000205</td>\n      <td>0.000238</td>\n      <td>6.093835e-05</td>\n      <td>0.000269</td>\n      <td>0.003047</td>\n    </tr>\n  </tbody>\n</table>\n<p>669 rows × 22 columns</p>\n</div>"
     },
     "execution_count": 11,
     "metadata": {},
     "output_type": "execute_result"
    }
   ],
   "source": [
    "fov0.to_df()"
   ],
   "metadata": {
    "collapsed": false,
    "ExecuteTime": {
     "end_time": "2023-11-30T17:09:12.834890Z",
     "start_time": "2023-11-30T17:09:12.802365Z"
    }
   }
  },
  {
   "cell_type": "markdown",
   "source": [
    "We can view the observations (in this case cell segmentations), with the `obs` property. The observations for each cell include measurements such as `area`, `perimeter`, and categorical information like `cell_meta_cluster`.\n"
   ],
   "metadata": {
    "collapsed": false
   }
  },
  {
   "cell_type": "code",
   "execution_count": 16,
   "outputs": [
    {
     "data": {
      "text/plain": "          label   area  eccentricity  major_axis_length  minor_axis_length  \\\nfov0_1        1   34.0      0.699679           8.007260           5.720845   \nfov0_2        2   43.0      0.777362           9.629459           6.057447   \nfov0_3        3   51.0      0.768859          10.126542           6.475092   \nfov0_4        4  108.0      0.796695          15.501110           9.368588   \nfov0_5        5  134.0      0.870926          18.883940           9.279841   \n...         ...    ...           ...                ...                ...   \nfov0_665    665  141.0      0.822785          17.971267          10.214027   \nfov0_666    666   84.0      0.737387          12.794899           8.642579   \nfov0_667    667  161.0      0.875925          21.060249          10.160460   \nfov0_668    668   34.0      0.641350           7.787536           5.974973   \nfov0_669    669   94.0      0.947549          19.831913           6.338489   \n\n          perimeter  convex_area  equivalent_diameter  major_minor_axis_ratio  \\\nfov0_1    20.485281         36.0             6.579525                1.399664   \nfov0_2    23.899495         45.0             7.399277                1.589689   \nfov0_3    25.071068         52.0             8.058239                1.563922   \nfov0_4    40.384776        115.0            11.726460                1.654583   \nfov0_5    45.556349        138.0            13.061933                2.034942   \n...             ...          ...                  ...                     ...   \nfov0_665  46.763456        151.0            13.398760                1.759469   \nfov0_666  33.899495         89.0            10.341766                1.480449   \nfov0_667  52.556349        175.0            14.317527                2.072765   \nfov0_668  20.863961         37.0             6.579525                1.303359   \nfov0_669  42.621320        100.0            10.940042                3.128808   \n\n          perim_square_over_area  major_axis_equiv_diam_ratio  \\\nfov0_1                 12.342552                     1.216997   \nfov0_2                 13.283392                     1.301405   \nfov0_3                 12.324675                     1.256669   \nfov0_4                 15.101205                     1.321892   \nfov0_5                 15.487918                     1.445723   \n...                          ...                          ...   \nfov0_665               15.509367                     1.341263   \nfov0_666               13.680664                     1.237206   \nfov0_667               17.156334                     1.470942   \nfov0_668               12.803084                     1.183602   \nfov0_669               19.325287                     1.812782   \n\n          convex_hull_resid  centroid_dif  num_concavities   fov  \\\nfov0_1             0.055556      0.022207              0.0  fov0   \nfov0_2             0.044444      0.018660              0.0  fov0   \nfov0_3             0.019231      0.012862              0.0  fov0   \nfov0_4             0.060870      0.021054              0.0  fov0   \nfov0_5             0.028986      0.016876              0.0  fov0   \n...                     ...           ...              ...   ...   \nfov0_665           0.066225      0.013487              0.0  fov0   \nfov0_666           0.056180      0.008697              0.0  fov0   \nfov0_667           0.080000      0.018782              0.0  fov0   \nfov0_668           0.081081      0.030461              0.0  fov0   \nfov0_669           0.060000      0.016618              0.0  fov0   \n\n         cell_meta_cluster  \nfov0_1                CD4T  \nfov0_2                CD4T  \nfov0_3                CD4T  \nfov0_4                CD4T  \nfov0_5                CD4T  \n...                    ...  \nfov0_665              CD4T  \nfov0_666              CD4T  \nfov0_667             Bcell  \nfov0_668              CD4T  \nfov0_669             Bcell  \n\n[669 rows x 16 columns]",
      "text/html": "<div>\n<style scoped>\n    .dataframe tbody tr th:only-of-type {\n        vertical-align: middle;\n    }\n\n    .dataframe tbody tr th {\n        vertical-align: top;\n    }\n\n    .dataframe thead th {\n        text-align: right;\n    }\n</style>\n<table border=\"1\" class=\"dataframe\">\n  <thead>\n    <tr style=\"text-align: right;\">\n      <th></th>\n      <th>label</th>\n      <th>area</th>\n      <th>eccentricity</th>\n      <th>major_axis_length</th>\n      <th>minor_axis_length</th>\n      <th>perimeter</th>\n      <th>convex_area</th>\n      <th>equivalent_diameter</th>\n      <th>major_minor_axis_ratio</th>\n      <th>perim_square_over_area</th>\n      <th>major_axis_equiv_diam_ratio</th>\n      <th>convex_hull_resid</th>\n      <th>centroid_dif</th>\n      <th>num_concavities</th>\n      <th>fov</th>\n      <th>cell_meta_cluster</th>\n    </tr>\n  </thead>\n  <tbody>\n    <tr>\n      <th>fov0_1</th>\n      <td>1</td>\n      <td>34.0</td>\n      <td>0.699679</td>\n      <td>8.007260</td>\n      <td>5.720845</td>\n      <td>20.485281</td>\n      <td>36.0</td>\n      <td>6.579525</td>\n      <td>1.399664</td>\n      <td>12.342552</td>\n      <td>1.216997</td>\n      <td>0.055556</td>\n      <td>0.022207</td>\n      <td>0.0</td>\n      <td>fov0</td>\n      <td>CD4T</td>\n    </tr>\n    <tr>\n      <th>fov0_2</th>\n      <td>2</td>\n      <td>43.0</td>\n      <td>0.777362</td>\n      <td>9.629459</td>\n      <td>6.057447</td>\n      <td>23.899495</td>\n      <td>45.0</td>\n      <td>7.399277</td>\n      <td>1.589689</td>\n      <td>13.283392</td>\n      <td>1.301405</td>\n      <td>0.044444</td>\n      <td>0.018660</td>\n      <td>0.0</td>\n      <td>fov0</td>\n      <td>CD4T</td>\n    </tr>\n    <tr>\n      <th>fov0_3</th>\n      <td>3</td>\n      <td>51.0</td>\n      <td>0.768859</td>\n      <td>10.126542</td>\n      <td>6.475092</td>\n      <td>25.071068</td>\n      <td>52.0</td>\n      <td>8.058239</td>\n      <td>1.563922</td>\n      <td>12.324675</td>\n      <td>1.256669</td>\n      <td>0.019231</td>\n      <td>0.012862</td>\n      <td>0.0</td>\n      <td>fov0</td>\n      <td>CD4T</td>\n    </tr>\n    <tr>\n      <th>fov0_4</th>\n      <td>4</td>\n      <td>108.0</td>\n      <td>0.796695</td>\n      <td>15.501110</td>\n      <td>9.368588</td>\n      <td>40.384776</td>\n      <td>115.0</td>\n      <td>11.726460</td>\n      <td>1.654583</td>\n      <td>15.101205</td>\n      <td>1.321892</td>\n      <td>0.060870</td>\n      <td>0.021054</td>\n      <td>0.0</td>\n      <td>fov0</td>\n      <td>CD4T</td>\n    </tr>\n    <tr>\n      <th>fov0_5</th>\n      <td>5</td>\n      <td>134.0</td>\n      <td>0.870926</td>\n      <td>18.883940</td>\n      <td>9.279841</td>\n      <td>45.556349</td>\n      <td>138.0</td>\n      <td>13.061933</td>\n      <td>2.034942</td>\n      <td>15.487918</td>\n      <td>1.445723</td>\n      <td>0.028986</td>\n      <td>0.016876</td>\n      <td>0.0</td>\n      <td>fov0</td>\n      <td>CD4T</td>\n    </tr>\n    <tr>\n      <th>...</th>\n      <td>...</td>\n      <td>...</td>\n      <td>...</td>\n      <td>...</td>\n      <td>...</td>\n      <td>...</td>\n      <td>...</td>\n      <td>...</td>\n      <td>...</td>\n      <td>...</td>\n      <td>...</td>\n      <td>...</td>\n      <td>...</td>\n      <td>...</td>\n      <td>...</td>\n      <td>...</td>\n    </tr>\n    <tr>\n      <th>fov0_665</th>\n      <td>665</td>\n      <td>141.0</td>\n      <td>0.822785</td>\n      <td>17.971267</td>\n      <td>10.214027</td>\n      <td>46.763456</td>\n      <td>151.0</td>\n      <td>13.398760</td>\n      <td>1.759469</td>\n      <td>15.509367</td>\n      <td>1.341263</td>\n      <td>0.066225</td>\n      <td>0.013487</td>\n      <td>0.0</td>\n      <td>fov0</td>\n      <td>CD4T</td>\n    </tr>\n    <tr>\n      <th>fov0_666</th>\n      <td>666</td>\n      <td>84.0</td>\n      <td>0.737387</td>\n      <td>12.794899</td>\n      <td>8.642579</td>\n      <td>33.899495</td>\n      <td>89.0</td>\n      <td>10.341766</td>\n      <td>1.480449</td>\n      <td>13.680664</td>\n      <td>1.237206</td>\n      <td>0.056180</td>\n      <td>0.008697</td>\n      <td>0.0</td>\n      <td>fov0</td>\n      <td>CD4T</td>\n    </tr>\n    <tr>\n      <th>fov0_667</th>\n      <td>667</td>\n      <td>161.0</td>\n      <td>0.875925</td>\n      <td>21.060249</td>\n      <td>10.160460</td>\n      <td>52.556349</td>\n      <td>175.0</td>\n      <td>14.317527</td>\n      <td>2.072765</td>\n      <td>17.156334</td>\n      <td>1.470942</td>\n      <td>0.080000</td>\n      <td>0.018782</td>\n      <td>0.0</td>\n      <td>fov0</td>\n      <td>Bcell</td>\n    </tr>\n    <tr>\n      <th>fov0_668</th>\n      <td>668</td>\n      <td>34.0</td>\n      <td>0.641350</td>\n      <td>7.787536</td>\n      <td>5.974973</td>\n      <td>20.863961</td>\n      <td>37.0</td>\n      <td>6.579525</td>\n      <td>1.303359</td>\n      <td>12.803084</td>\n      <td>1.183602</td>\n      <td>0.081081</td>\n      <td>0.030461</td>\n      <td>0.0</td>\n      <td>fov0</td>\n      <td>CD4T</td>\n    </tr>\n    <tr>\n      <th>fov0_669</th>\n      <td>669</td>\n      <td>94.0</td>\n      <td>0.947549</td>\n      <td>19.831913</td>\n      <td>6.338489</td>\n      <td>42.621320</td>\n      <td>100.0</td>\n      <td>10.940042</td>\n      <td>3.128808</td>\n      <td>19.325287</td>\n      <td>1.812782</td>\n      <td>0.060000</td>\n      <td>0.016618</td>\n      <td>0.0</td>\n      <td>fov0</td>\n      <td>Bcell</td>\n    </tr>\n  </tbody>\n</table>\n<p>669 rows × 16 columns</p>\n</div>"
     },
     "execution_count": 16,
     "metadata": {},
     "output_type": "execute_result"
    }
   ],
   "source": [
    "fov0.obs"
   ],
   "metadata": {
    "collapsed": false,
    "ExecuteTime": {
     "end_time": "2023-11-30T17:16:46.932963Z",
     "start_time": "2023-11-30T17:16:46.906015Z"
    }
   }
  },
  {
   "cell_type": "markdown",
   "source": [
    "We can view the $x$ and $y$ centroids of each cell in our cohort by accessing the `obsm` attribute of the `AnnData` object."
   ],
   "metadata": {
    "collapsed": false
   }
  },
  {
   "cell_type": "code",
   "execution_count": 17,
   "outputs": [
    {
     "data": {
      "text/plain": "          centroid_x  centroid_y\nfov0_1      1.794118    4.411765\nfov0_2      1.953488   69.953488\nfov0_3      2.333333   94.235294\nfov0_4      3.407407  238.185185\nfov0_5      3.656716  263.201493\n...              ...         ...\nfov0_665  506.865248  269.709220\nfov0_666  507.880952  222.880952\nfov0_667  507.217391  345.689441\nfov0_668  509.088235  165.000000\nfov0_669  508.712766  375.521277\n\n[669 rows x 2 columns]",
      "text/html": "<div>\n<style scoped>\n    .dataframe tbody tr th:only-of-type {\n        vertical-align: middle;\n    }\n\n    .dataframe tbody tr th {\n        vertical-align: top;\n    }\n\n    .dataframe thead th {\n        text-align: right;\n    }\n</style>\n<table border=\"1\" class=\"dataframe\">\n  <thead>\n    <tr style=\"text-align: right;\">\n      <th></th>\n      <th>centroid_x</th>\n      <th>centroid_y</th>\n    </tr>\n  </thead>\n  <tbody>\n    <tr>\n      <th>fov0_1</th>\n      <td>1.794118</td>\n      <td>4.411765</td>\n    </tr>\n    <tr>\n      <th>fov0_2</th>\n      <td>1.953488</td>\n      <td>69.953488</td>\n    </tr>\n    <tr>\n      <th>fov0_3</th>\n      <td>2.333333</td>\n      <td>94.235294</td>\n    </tr>\n    <tr>\n      <th>fov0_4</th>\n      <td>3.407407</td>\n      <td>238.185185</td>\n    </tr>\n    <tr>\n      <th>fov0_5</th>\n      <td>3.656716</td>\n      <td>263.201493</td>\n    </tr>\n    <tr>\n      <th>...</th>\n      <td>...</td>\n      <td>...</td>\n    </tr>\n    <tr>\n      <th>fov0_665</th>\n      <td>506.865248</td>\n      <td>269.709220</td>\n    </tr>\n    <tr>\n      <th>fov0_666</th>\n      <td>507.880952</td>\n      <td>222.880952</td>\n    </tr>\n    <tr>\n      <th>fov0_667</th>\n      <td>507.217391</td>\n      <td>345.689441</td>\n    </tr>\n    <tr>\n      <th>fov0_668</th>\n      <td>509.088235</td>\n      <td>165.000000</td>\n    </tr>\n    <tr>\n      <th>fov0_669</th>\n      <td>508.712766</td>\n      <td>375.521277</td>\n    </tr>\n  </tbody>\n</table>\n<p>669 rows × 2 columns</p>\n</div>"
     },
     "execution_count": 17,
     "metadata": {},
     "output_type": "execute_result"
    }
   ],
   "source": [
    "fov0.obsm[\"spatial\"]"
   ],
   "metadata": {
    "collapsed": false,
    "ExecuteTime": {
     "end_time": "2023-11-30T17:16:59.292464Z",
     "start_time": "2023-11-30T17:16:59.281370Z"
    }
   }
  },
  {
   "cell_type": "markdown",
   "source": [
    "## 1.2 Load all `AnnData` objects\n",
    "\n",
    "We can load all the `AnnData` objects and store then into an [`AnnCollection`](https://anndata.readthedocs.io/en/latest/generated/anndata.experimental.AnnCollection.html), which acts as one large `AnnData` object."
   ],
   "metadata": {
    "collapsed": false
   }
  },
  {
   "cell_type": "code",
   "execution_count": 19,
   "metadata": {
    "ExecuteTime": {
     "end_time": "2023-11-30T17:18:50.358596Z",
     "start_time": "2023-11-30T17:18:50.125940Z"
    }
   },
   "outputs": [],
   "source": [
    "fovs_ac = load_anndatas(anndata_dir=anndata_save_dir, join_obs=\"inner\", join_obsm=\"inner\")"
   ]
  },
  {
   "cell_type": "markdown",
   "source": [
    "## 2. Basic Use Cases"
   ],
   "metadata": {
    "collapsed": false
   }
  },
  {
   "cell_type": "markdown",
   "source": [
    "We can utilize `AnnData` objects or `AnnCollections` in a similar way to a Pandas DataFrame. For example, we can filter the `AnnCollection` to only include cells that have a `cell_meta_cluster` label of `\"CD4T\"`."
   ],
   "metadata": {
    "collapsed": false
   }
  },
  {
   "cell_type": "code",
   "execution_count": 20,
   "outputs": [
    {
     "data": {
      "text/plain": "            label   area  eccentricity  major_axis_length  minor_axis_length  \\\nfov0_1          1   34.0      0.699679           8.007260           5.720845   \nfov0_2          2   43.0      0.777362           9.629459           6.057447   \nfov0_3          3   51.0      0.768859          10.126542           6.475092   \nfov0_4          4  108.0      0.796695          15.501110           9.368588   \nfov0_5          5  134.0      0.870926          18.883940           9.279841   \n...           ...    ...           ...                ...                ...   \nfov10_2785   2785  142.0      0.820592          18.748166          10.714859   \nfov10_2786   2786   82.0      0.808748          13.969363           8.216162   \nfov10_2787   2787   91.0      0.902932          16.917289           7.270758   \nfov10_2788   2788  170.0      0.899438          23.352031          10.205950   \nfov10_2789   2789   83.0      0.816140          13.766262           7.954890   \n\n            perimeter  convex_area  equivalent_diameter  \\\nfov0_1      20.485281         36.0             6.579525   \nfov0_2      23.899495         45.0             7.399277   \nfov0_3      25.071068         52.0             8.058239   \nfov0_4      40.384776        115.0            11.726460   \nfov0_5      45.556349        138.0            13.061933   \n...               ...          ...                  ...   \nfov10_2785  49.006097        149.0            13.446190   \nfov10_2786  36.313708         88.0            10.217908   \nfov10_2787  38.727922         93.0            10.764051   \nfov10_2788  56.970563        181.0            14.712264   \nfov10_2789  34.485281         87.0            10.280023   \n\n            major_minor_axis_ratio  perim_square_over_area  \\\nfov0_1                    1.399664               12.342552   \nfov0_2                    1.589689               13.283392   \nfov0_3                    1.563922               12.324675   \nfov0_4                    1.654583               15.101205   \nfov0_5                    2.034942               15.487918   \n...                            ...                     ...   \nfov10_2785                1.749735               16.912659   \nfov10_2786                1.700230               16.081530   \nfov10_2787                2.326757               16.481890   \nfov10_2788                2.288080               19.092030   \nfov10_2789                1.730541               14.328128   \n\n            major_axis_equiv_diam_ratio  convex_hull_resid  centroid_dif  \\\nfov0_1                         1.216997           0.055556      0.022207   \nfov0_2                         1.301405           0.044444      0.018660   \nfov0_3                         1.256669           0.019231      0.012862   \nfov0_4                         1.321892           0.060870      0.021054   \nfov0_5                         1.445723           0.028986      0.016876   \n...                                 ...                ...           ...   \nfov10_2785                     1.394311           0.046980      0.018177   \nfov10_2786                     1.367145           0.068182      0.009740   \nfov10_2787                     1.571647           0.021505      0.008236   \nfov10_2788                     1.587249           0.060773      0.012740   \nfov10_2789                     1.339127           0.045977      0.015038   \n\n            num_concavities    fov cell_meta_cluster  \nfov0_1                  0.0   fov0              CD4T  \nfov0_2                  0.0   fov0              CD4T  \nfov0_3                  0.0   fov0              CD4T  \nfov0_4                  0.0   fov0              CD4T  \nfov0_5                  0.0   fov0              CD4T  \n...                     ...    ...               ...  \nfov10_2785              0.0  fov10              CD4T  \nfov10_2786              0.0  fov10              CD4T  \nfov10_2787              0.0  fov10              CD4T  \nfov10_2788              0.0  fov10              CD4T  \nfov10_2789              0.0  fov10              CD4T  \n\n[2805 rows x 16 columns]",
      "text/html": "<div>\n<style scoped>\n    .dataframe tbody tr th:only-of-type {\n        vertical-align: middle;\n    }\n\n    .dataframe tbody tr th {\n        vertical-align: top;\n    }\n\n    .dataframe thead th {\n        text-align: right;\n    }\n</style>\n<table border=\"1\" class=\"dataframe\">\n  <thead>\n    <tr style=\"text-align: right;\">\n      <th></th>\n      <th>label</th>\n      <th>area</th>\n      <th>eccentricity</th>\n      <th>major_axis_length</th>\n      <th>minor_axis_length</th>\n      <th>perimeter</th>\n      <th>convex_area</th>\n      <th>equivalent_diameter</th>\n      <th>major_minor_axis_ratio</th>\n      <th>perim_square_over_area</th>\n      <th>major_axis_equiv_diam_ratio</th>\n      <th>convex_hull_resid</th>\n      <th>centroid_dif</th>\n      <th>num_concavities</th>\n      <th>fov</th>\n      <th>cell_meta_cluster</th>\n    </tr>\n  </thead>\n  <tbody>\n    <tr>\n      <th>fov0_1</th>\n      <td>1</td>\n      <td>34.0</td>\n      <td>0.699679</td>\n      <td>8.007260</td>\n      <td>5.720845</td>\n      <td>20.485281</td>\n      <td>36.0</td>\n      <td>6.579525</td>\n      <td>1.399664</td>\n      <td>12.342552</td>\n      <td>1.216997</td>\n      <td>0.055556</td>\n      <td>0.022207</td>\n      <td>0.0</td>\n      <td>fov0</td>\n      <td>CD4T</td>\n    </tr>\n    <tr>\n      <th>fov0_2</th>\n      <td>2</td>\n      <td>43.0</td>\n      <td>0.777362</td>\n      <td>9.629459</td>\n      <td>6.057447</td>\n      <td>23.899495</td>\n      <td>45.0</td>\n      <td>7.399277</td>\n      <td>1.589689</td>\n      <td>13.283392</td>\n      <td>1.301405</td>\n      <td>0.044444</td>\n      <td>0.018660</td>\n      <td>0.0</td>\n      <td>fov0</td>\n      <td>CD4T</td>\n    </tr>\n    <tr>\n      <th>fov0_3</th>\n      <td>3</td>\n      <td>51.0</td>\n      <td>0.768859</td>\n      <td>10.126542</td>\n      <td>6.475092</td>\n      <td>25.071068</td>\n      <td>52.0</td>\n      <td>8.058239</td>\n      <td>1.563922</td>\n      <td>12.324675</td>\n      <td>1.256669</td>\n      <td>0.019231</td>\n      <td>0.012862</td>\n      <td>0.0</td>\n      <td>fov0</td>\n      <td>CD4T</td>\n    </tr>\n    <tr>\n      <th>fov0_4</th>\n      <td>4</td>\n      <td>108.0</td>\n      <td>0.796695</td>\n      <td>15.501110</td>\n      <td>9.368588</td>\n      <td>40.384776</td>\n      <td>115.0</td>\n      <td>11.726460</td>\n      <td>1.654583</td>\n      <td>15.101205</td>\n      <td>1.321892</td>\n      <td>0.060870</td>\n      <td>0.021054</td>\n      <td>0.0</td>\n      <td>fov0</td>\n      <td>CD4T</td>\n    </tr>\n    <tr>\n      <th>fov0_5</th>\n      <td>5</td>\n      <td>134.0</td>\n      <td>0.870926</td>\n      <td>18.883940</td>\n      <td>9.279841</td>\n      <td>45.556349</td>\n      <td>138.0</td>\n      <td>13.061933</td>\n      <td>2.034942</td>\n      <td>15.487918</td>\n      <td>1.445723</td>\n      <td>0.028986</td>\n      <td>0.016876</td>\n      <td>0.0</td>\n      <td>fov0</td>\n      <td>CD4T</td>\n    </tr>\n    <tr>\n      <th>...</th>\n      <td>...</td>\n      <td>...</td>\n      <td>...</td>\n      <td>...</td>\n      <td>...</td>\n      <td>...</td>\n      <td>...</td>\n      <td>...</td>\n      <td>...</td>\n      <td>...</td>\n      <td>...</td>\n      <td>...</td>\n      <td>...</td>\n      <td>...</td>\n      <td>...</td>\n      <td>...</td>\n    </tr>\n    <tr>\n      <th>fov10_2785</th>\n      <td>2785</td>\n      <td>142.0</td>\n      <td>0.820592</td>\n      <td>18.748166</td>\n      <td>10.714859</td>\n      <td>49.006097</td>\n      <td>149.0</td>\n      <td>13.446190</td>\n      <td>1.749735</td>\n      <td>16.912659</td>\n      <td>1.394311</td>\n      <td>0.046980</td>\n      <td>0.018177</td>\n      <td>0.0</td>\n      <td>fov10</td>\n      <td>CD4T</td>\n    </tr>\n    <tr>\n      <th>fov10_2786</th>\n      <td>2786</td>\n      <td>82.0</td>\n      <td>0.808748</td>\n      <td>13.969363</td>\n      <td>8.216162</td>\n      <td>36.313708</td>\n      <td>88.0</td>\n      <td>10.217908</td>\n      <td>1.700230</td>\n      <td>16.081530</td>\n      <td>1.367145</td>\n      <td>0.068182</td>\n      <td>0.009740</td>\n      <td>0.0</td>\n      <td>fov10</td>\n      <td>CD4T</td>\n    </tr>\n    <tr>\n      <th>fov10_2787</th>\n      <td>2787</td>\n      <td>91.0</td>\n      <td>0.902932</td>\n      <td>16.917289</td>\n      <td>7.270758</td>\n      <td>38.727922</td>\n      <td>93.0</td>\n      <td>10.764051</td>\n      <td>2.326757</td>\n      <td>16.481890</td>\n      <td>1.571647</td>\n      <td>0.021505</td>\n      <td>0.008236</td>\n      <td>0.0</td>\n      <td>fov10</td>\n      <td>CD4T</td>\n    </tr>\n    <tr>\n      <th>fov10_2788</th>\n      <td>2788</td>\n      <td>170.0</td>\n      <td>0.899438</td>\n      <td>23.352031</td>\n      <td>10.205950</td>\n      <td>56.970563</td>\n      <td>181.0</td>\n      <td>14.712264</td>\n      <td>2.288080</td>\n      <td>19.092030</td>\n      <td>1.587249</td>\n      <td>0.060773</td>\n      <td>0.012740</td>\n      <td>0.0</td>\n      <td>fov10</td>\n      <td>CD4T</td>\n    </tr>\n    <tr>\n      <th>fov10_2789</th>\n      <td>2789</td>\n      <td>83.0</td>\n      <td>0.816140</td>\n      <td>13.766262</td>\n      <td>7.954890</td>\n      <td>34.485281</td>\n      <td>87.0</td>\n      <td>10.280023</td>\n      <td>1.730541</td>\n      <td>14.328128</td>\n      <td>1.339127</td>\n      <td>0.045977</td>\n      <td>0.015038</td>\n      <td>0.0</td>\n      <td>fov10</td>\n      <td>CD4T</td>\n    </tr>\n  </tbody>\n</table>\n<p>2805 rows × 16 columns</p>\n</div>"
     },
     "execution_count": 20,
     "metadata": {},
     "output_type": "execute_result"
    }
   ],
   "source": [
    "fovs_ac_cd4t = fovs_ac[fovs_ac.obs[\"cell_meta_cluster\"] == \"CD4T\"]\n",
    "fovs_ac_cd4t.obs.df"
   ],
   "metadata": {
    "collapsed": false,
    "ExecuteTime": {
     "end_time": "2023-11-30T17:19:18.331548Z",
     "start_time": "2023-11-30T17:19:18.315555Z"
    }
   }
  },
  {
   "cell_type": "markdown",
   "source": [
    "As another example, we can select just one FOV from the `AnnCollection` by filtering on the `fov` column of the `obs` DataFrame."
   ],
   "metadata": {
    "collapsed": false
   }
  },
  {
   "cell_type": "code",
   "execution_count": 22,
   "outputs": [
    {
     "data": {
      "text/plain": "          label   area  eccentricity  major_axis_length  minor_axis_length  \\\nfov1_1        1  135.0      0.863716          19.316234           9.734970   \nfov1_2        2  257.0      0.833671          24.997660          13.805228   \nfov1_3        3   21.0      0.856279           7.353430           3.798148   \nfov1_4        4  240.0      0.870569          25.922996          12.755301   \nfov1_5        5  130.0      0.785576          16.627985          10.288827   \n...         ...    ...           ...                ...                ...   \nfov1_741    741   72.0      0.696523          11.673113           8.375865   \nfov1_742    742   30.0      0.904908           9.726911           4.139845   \nfov1_743    743  105.0      0.858212          16.560103           8.500238   \nfov1_744    744  117.0      0.814054          16.497698           9.581687   \nfov1_745    745  113.0      0.630552          13.979530          10.850168   \n\n          perimeter  convex_area  equivalent_diameter  major_minor_axis_ratio  \\\nfov1_1    48.384776        140.0            13.110581                1.984211   \nfov1_2    64.384776        266.0            18.089294                1.810739   \nfov1_3    16.242641         22.0             5.170883                1.936057   \nfov1_4    66.041631        250.0            17.480775                2.032331   \nfov1_5    42.142136        133.0            12.865502                1.616121   \n...             ...          ...                  ...                     ...   \nfov1_741  31.899495         76.0             9.574615                1.393661   \nfov1_742  21.071068         31.0             6.180387                2.349583   \nfov1_743  40.727922        111.0            11.562446                1.948193   \nfov1_744  41.935029        121.0            12.205287                1.721795   \nfov1_745  39.899495        118.0            11.994835                1.288416   \n\n          perim_square_over_area  major_axis_equiv_diam_ratio  \\\nfov1_1                 17.341382                     1.473332   \nfov1_2                 16.129959                     1.381904   \nfov1_3                 12.563018                     1.422084   \nfov1_4                 18.172904                     1.482943   \nfov1_5                 13.661228                     1.292447   \n...                          ...                          ...   \nfov1_741               14.133025                     1.219173   \nfov1_742               14.799663                     1.573835   \nfov1_743               15.797749                     1.432232   \nfov1_744               15.030313                     1.351685   \nfov1_745               14.088227                     1.165462   \n\n          convex_hull_resid  centroid_dif  num_concavities   fov  \\\nfov1_1             0.035714      0.015802              0.0  fov1   \nfov1_2             0.033835      0.006779              0.0  fov1   \nfov1_3             0.045455      0.019128              0.0  fov1   \nfov1_4             0.040000      0.009986              0.0  fov1   \nfov1_5             0.022556      0.009775              0.0  fov1   \n...                     ...           ...              ...   ...   \nfov1_741           0.052632      0.019196              0.0  fov1   \nfov1_742           0.032258      0.017017              0.0  fov1   \nfov1_743           0.054054      0.007301              0.0  fov1   \nfov1_744           0.033058      0.009189              0.0  fov1   \nfov1_745           0.042373      0.004636              0.0  fov1   \n\n         cell_meta_cluster  \nfov1_1               other  \nfov1_2       CD14_monocyte  \nfov1_3               other  \nfov1_4       M1_macrophage  \nfov1_5              stroma  \n...                    ...  \nfov1_741              CD8T  \nfov1_742            stroma  \nfov1_743              CD8T  \nfov1_744            stroma  \nfov1_745             other  \n\n[745 rows x 16 columns]",
      "text/html": "<div>\n<style scoped>\n    .dataframe tbody tr th:only-of-type {\n        vertical-align: middle;\n    }\n\n    .dataframe tbody tr th {\n        vertical-align: top;\n    }\n\n    .dataframe thead th {\n        text-align: right;\n    }\n</style>\n<table border=\"1\" class=\"dataframe\">\n  <thead>\n    <tr style=\"text-align: right;\">\n      <th></th>\n      <th>label</th>\n      <th>area</th>\n      <th>eccentricity</th>\n      <th>major_axis_length</th>\n      <th>minor_axis_length</th>\n      <th>perimeter</th>\n      <th>convex_area</th>\n      <th>equivalent_diameter</th>\n      <th>major_minor_axis_ratio</th>\n      <th>perim_square_over_area</th>\n      <th>major_axis_equiv_diam_ratio</th>\n      <th>convex_hull_resid</th>\n      <th>centroid_dif</th>\n      <th>num_concavities</th>\n      <th>fov</th>\n      <th>cell_meta_cluster</th>\n    </tr>\n  </thead>\n  <tbody>\n    <tr>\n      <th>fov1_1</th>\n      <td>1</td>\n      <td>135.0</td>\n      <td>0.863716</td>\n      <td>19.316234</td>\n      <td>9.734970</td>\n      <td>48.384776</td>\n      <td>140.0</td>\n      <td>13.110581</td>\n      <td>1.984211</td>\n      <td>17.341382</td>\n      <td>1.473332</td>\n      <td>0.035714</td>\n      <td>0.015802</td>\n      <td>0.0</td>\n      <td>fov1</td>\n      <td>other</td>\n    </tr>\n    <tr>\n      <th>fov1_2</th>\n      <td>2</td>\n      <td>257.0</td>\n      <td>0.833671</td>\n      <td>24.997660</td>\n      <td>13.805228</td>\n      <td>64.384776</td>\n      <td>266.0</td>\n      <td>18.089294</td>\n      <td>1.810739</td>\n      <td>16.129959</td>\n      <td>1.381904</td>\n      <td>0.033835</td>\n      <td>0.006779</td>\n      <td>0.0</td>\n      <td>fov1</td>\n      <td>CD14_monocyte</td>\n    </tr>\n    <tr>\n      <th>fov1_3</th>\n      <td>3</td>\n      <td>21.0</td>\n      <td>0.856279</td>\n      <td>7.353430</td>\n      <td>3.798148</td>\n      <td>16.242641</td>\n      <td>22.0</td>\n      <td>5.170883</td>\n      <td>1.936057</td>\n      <td>12.563018</td>\n      <td>1.422084</td>\n      <td>0.045455</td>\n      <td>0.019128</td>\n      <td>0.0</td>\n      <td>fov1</td>\n      <td>other</td>\n    </tr>\n    <tr>\n      <th>fov1_4</th>\n      <td>4</td>\n      <td>240.0</td>\n      <td>0.870569</td>\n      <td>25.922996</td>\n      <td>12.755301</td>\n      <td>66.041631</td>\n      <td>250.0</td>\n      <td>17.480775</td>\n      <td>2.032331</td>\n      <td>18.172904</td>\n      <td>1.482943</td>\n      <td>0.040000</td>\n      <td>0.009986</td>\n      <td>0.0</td>\n      <td>fov1</td>\n      <td>M1_macrophage</td>\n    </tr>\n    <tr>\n      <th>fov1_5</th>\n      <td>5</td>\n      <td>130.0</td>\n      <td>0.785576</td>\n      <td>16.627985</td>\n      <td>10.288827</td>\n      <td>42.142136</td>\n      <td>133.0</td>\n      <td>12.865502</td>\n      <td>1.616121</td>\n      <td>13.661228</td>\n      <td>1.292447</td>\n      <td>0.022556</td>\n      <td>0.009775</td>\n      <td>0.0</td>\n      <td>fov1</td>\n      <td>stroma</td>\n    </tr>\n    <tr>\n      <th>...</th>\n      <td>...</td>\n      <td>...</td>\n      <td>...</td>\n      <td>...</td>\n      <td>...</td>\n      <td>...</td>\n      <td>...</td>\n      <td>...</td>\n      <td>...</td>\n      <td>...</td>\n      <td>...</td>\n      <td>...</td>\n      <td>...</td>\n      <td>...</td>\n      <td>...</td>\n      <td>...</td>\n    </tr>\n    <tr>\n      <th>fov1_741</th>\n      <td>741</td>\n      <td>72.0</td>\n      <td>0.696523</td>\n      <td>11.673113</td>\n      <td>8.375865</td>\n      <td>31.899495</td>\n      <td>76.0</td>\n      <td>9.574615</td>\n      <td>1.393661</td>\n      <td>14.133025</td>\n      <td>1.219173</td>\n      <td>0.052632</td>\n      <td>0.019196</td>\n      <td>0.0</td>\n      <td>fov1</td>\n      <td>CD8T</td>\n    </tr>\n    <tr>\n      <th>fov1_742</th>\n      <td>742</td>\n      <td>30.0</td>\n      <td>0.904908</td>\n      <td>9.726911</td>\n      <td>4.139845</td>\n      <td>21.071068</td>\n      <td>31.0</td>\n      <td>6.180387</td>\n      <td>2.349583</td>\n      <td>14.799663</td>\n      <td>1.573835</td>\n      <td>0.032258</td>\n      <td>0.017017</td>\n      <td>0.0</td>\n      <td>fov1</td>\n      <td>stroma</td>\n    </tr>\n    <tr>\n      <th>fov1_743</th>\n      <td>743</td>\n      <td>105.0</td>\n      <td>0.858212</td>\n      <td>16.560103</td>\n      <td>8.500238</td>\n      <td>40.727922</td>\n      <td>111.0</td>\n      <td>11.562446</td>\n      <td>1.948193</td>\n      <td>15.797749</td>\n      <td>1.432232</td>\n      <td>0.054054</td>\n      <td>0.007301</td>\n      <td>0.0</td>\n      <td>fov1</td>\n      <td>CD8T</td>\n    </tr>\n    <tr>\n      <th>fov1_744</th>\n      <td>744</td>\n      <td>117.0</td>\n      <td>0.814054</td>\n      <td>16.497698</td>\n      <td>9.581687</td>\n      <td>41.935029</td>\n      <td>121.0</td>\n      <td>12.205287</td>\n      <td>1.721795</td>\n      <td>15.030313</td>\n      <td>1.351685</td>\n      <td>0.033058</td>\n      <td>0.009189</td>\n      <td>0.0</td>\n      <td>fov1</td>\n      <td>stroma</td>\n    </tr>\n    <tr>\n      <th>fov1_745</th>\n      <td>745</td>\n      <td>113.0</td>\n      <td>0.630552</td>\n      <td>13.979530</td>\n      <td>10.850168</td>\n      <td>39.899495</td>\n      <td>118.0</td>\n      <td>11.994835</td>\n      <td>1.288416</td>\n      <td>14.088227</td>\n      <td>1.165462</td>\n      <td>0.042373</td>\n      <td>0.004636</td>\n      <td>0.0</td>\n      <td>fov1</td>\n      <td>other</td>\n    </tr>\n  </tbody>\n</table>\n<p>745 rows × 16 columns</p>\n</div>"
     },
     "execution_count": 22,
     "metadata": {},
     "output_type": "execute_result"
    }
   ],
   "source": [
    "fov1_adata = fovs_ac[fovs_ac.obs[\"fov\"] == \"fov1\"]\n",
    "\n",
    "fov1_adata.obs.df"
   ],
   "metadata": {
    "collapsed": false,
    "ExecuteTime": {
     "end_time": "2023-11-30T17:19:28.450558Z",
     "start_time": "2023-11-30T17:19:28.426421Z"
    }
   }
  },
  {
   "cell_type": "markdown",
   "source": [
    "## 3. Dataloaders\n",
    "\n",
    "[`torchdata`](https://pytorch.org/data/beta/index.html) provides us the ability to construct various complex dataloaders, datapipes and apply functions or models to them, one FOV at a time."
   ],
   "metadata": {
    "collapsed": false
   }
  },
  {
   "cell_type": "code",
   "execution_count": 23,
   "outputs": [],
   "source": [
    "from torchdata.dataloader2.dataloader2 import DataLoader2"
   ],
   "metadata": {
    "collapsed": false,
    "ExecuteTime": {
     "end_time": "2023-11-30T17:20:52.485416Z",
     "start_time": "2023-11-30T17:20:52.457164Z"
    }
   }
  },
  {
   "cell_type": "code",
   "execution_count": 24,
   "outputs": [],
   "source": [
    "adata_ip = AnnDataIterDataPipe(fovs=fovs_ac)"
   ],
   "metadata": {
    "collapsed": false,
    "ExecuteTime": {
     "end_time": "2023-11-30T17:20:52.747616Z",
     "start_time": "2023-11-30T17:20:52.739485Z"
    }
   }
  },
  {
   "cell_type": "markdown",
   "source": [
    "In this example of we construct a TorchData `IterDataPipe` with the AnnData Objects of each FOV, and then we apply a function to each FOV contained in this `IterDataPipe`."
   ],
   "metadata": {
    "collapsed": false
   }
  },
  {
   "cell_type": "code",
   "execution_count": 25,
   "outputs": [],
   "source": [
    "def filter_cells_by_cluster(adata, cluster):\n",
    "    return adata[adata.obs[\"cell_meta_cluster\"] == cluster]"
   ],
   "metadata": {
    "collapsed": false,
    "ExecuteTime": {
     "end_time": "2023-11-30T17:20:53.485855Z",
     "start_time": "2023-11-30T17:20:53.482374Z"
    }
   }
  },
  {
   "cell_type": "code",
   "execution_count": 26,
   "outputs": [],
   "source": [
    "fovs_ac_cd4t_iter = adata_ip.map(lambda fov: filter_cells_by_cluster(fov, \"CD4T\"))"
   ],
   "metadata": {
    "collapsed": false,
    "ExecuteTime": {
     "end_time": "2023-11-30T17:20:53.889001Z",
     "start_time": "2023-11-30T17:20:53.874457Z"
    }
   }
  },
  {
   "cell_type": "markdown",
   "source": [
    "We can then create a DataLoader from this `IterDataPipe` and iterate over it."
   ],
   "metadata": {
    "collapsed": false
   }
  },
  {
   "cell_type": "code",
   "execution_count": 27,
   "outputs": [],
   "source": [
    "fovs_ac_cd4t_dl = DataLoader2(fovs_ac_cd4t_iter)"
   ],
   "metadata": {
    "collapsed": false,
    "ExecuteTime": {
     "end_time": "2023-11-30T17:20:54.863859Z",
     "start_time": "2023-11-30T17:20:54.719017Z"
    }
   }
  },
  {
   "cell_type": "code",
   "execution_count": 28,
   "outputs": [
    {
     "name": "stdout",
     "output_type": "stream",
     "text": [
      "View of AnnData object with n_obs × n_vars = 221 × 22\n",
      "    obs: 'label', 'area', 'eccentricity', 'major_axis_length', 'minor_axis_length', 'perimeter', 'convex_area', 'equivalent_diameter', 'major_minor_axis_ratio', 'perim_square_over_area', 'major_axis_equiv_diam_ratio', 'convex_hull_resid', 'centroid_dif', 'num_concavities', 'fov', 'cell_meta_cluster'\n",
      "    obsm: 'spatial'\n",
      "View of AnnData object with n_obs × n_vars = 47 × 22\n",
      "    obs: 'label', 'area', 'eccentricity', 'major_axis_length', 'minor_axis_length', 'perimeter', 'convex_area', 'equivalent_diameter', 'major_minor_axis_ratio', 'perim_square_over_area', 'major_axis_equiv_diam_ratio', 'convex_hull_resid', 'centroid_dif', 'num_concavities', 'fov', 'cell_meta_cluster'\n",
      "    obsm: 'spatial'\n",
      "View of AnnData object with n_obs × n_vars = 3 × 22\n",
      "    obs: 'label', 'area', 'eccentricity', 'major_axis_length', 'minor_axis_length', 'perimeter', 'convex_area', 'equivalent_diameter', 'major_minor_axis_ratio', 'perim_square_over_area', 'major_axis_equiv_diam_ratio', 'convex_hull_resid', 'centroid_dif', 'num_concavities', 'fov', 'cell_meta_cluster'\n",
      "    obsm: 'spatial'\n",
      "View of AnnData object with n_obs × n_vars = 433 × 22\n",
      "    obs: 'label', 'area', 'eccentricity', 'major_axis_length', 'minor_axis_length', 'perimeter', 'convex_area', 'equivalent_diameter', 'major_minor_axis_ratio', 'perim_square_over_area', 'major_axis_equiv_diam_ratio', 'convex_hull_resid', 'centroid_dif', 'num_concavities', 'fov', 'cell_meta_cluster'\n",
      "    obsm: 'spatial'\n",
      "View of AnnData object with n_obs × n_vars = 52 × 22\n",
      "    obs: 'label', 'area', 'eccentricity', 'major_axis_length', 'minor_axis_length', 'perimeter', 'convex_area', 'equivalent_diameter', 'major_minor_axis_ratio', 'perim_square_over_area', 'major_axis_equiv_diam_ratio', 'convex_hull_resid', 'centroid_dif', 'num_concavities', 'fov', 'cell_meta_cluster'\n",
      "    obsm: 'spatial'\n",
      "View of AnnData object with n_obs × n_vars = 4 × 22\n",
      "    obs: 'label', 'area', 'eccentricity', 'major_axis_length', 'minor_axis_length', 'perimeter', 'convex_area', 'equivalent_diameter', 'major_minor_axis_ratio', 'perim_square_over_area', 'major_axis_equiv_diam_ratio', 'convex_hull_resid', 'centroid_dif', 'num_concavities', 'fov', 'cell_meta_cluster'\n",
      "    obsm: 'spatial'\n",
      "View of AnnData object with n_obs × n_vars = 160 × 22\n",
      "    obs: 'label', 'area', 'eccentricity', 'major_axis_length', 'minor_axis_length', 'perimeter', 'convex_area', 'equivalent_diameter', 'major_minor_axis_ratio', 'perim_square_over_area', 'major_axis_equiv_diam_ratio', 'convex_hull_resid', 'centroid_dif', 'num_concavities', 'fov', 'cell_meta_cluster'\n",
      "    obsm: 'spatial'\n",
      "View of AnnData object with n_obs × n_vars = 1 × 22\n",
      "    obs: 'label', 'area', 'eccentricity', 'major_axis_length', 'minor_axis_length', 'perimeter', 'convex_area', 'equivalent_diameter', 'major_minor_axis_ratio', 'perim_square_over_area', 'major_axis_equiv_diam_ratio', 'convex_hull_resid', 'centroid_dif', 'num_concavities', 'fov', 'cell_meta_cluster'\n",
      "    obsm: 'spatial'\n",
      "View of AnnData object with n_obs × n_vars = 812 × 22\n",
      "    obs: 'label', 'area', 'eccentricity', 'major_axis_length', 'minor_axis_length', 'perimeter', 'convex_area', 'equivalent_diameter', 'major_minor_axis_ratio', 'perim_square_over_area', 'major_axis_equiv_diam_ratio', 'convex_hull_resid', 'centroid_dif', 'num_concavities', 'fov', 'cell_meta_cluster'\n",
      "    obsm: 'spatial'\n",
      "View of AnnData object with n_obs × n_vars = 158 × 22\n",
      "    obs: 'label', 'area', 'eccentricity', 'major_axis_length', 'minor_axis_length', 'perimeter', 'convex_area', 'equivalent_diameter', 'major_minor_axis_ratio', 'perim_square_over_area', 'major_axis_equiv_diam_ratio', 'convex_hull_resid', 'centroid_dif', 'num_concavities', 'fov', 'cell_meta_cluster'\n",
      "    obsm: 'spatial'\n",
      "View of AnnData object with n_obs × n_vars = 914 × 22\n",
      "    obs: 'label', 'area', 'eccentricity', 'major_axis_length', 'minor_axis_length', 'perimeter', 'convex_area', 'equivalent_diameter', 'major_minor_axis_ratio', 'perim_square_over_area', 'major_axis_equiv_diam_ratio', 'convex_hull_resid', 'centroid_dif', 'num_concavities', 'fov', 'cell_meta_cluster'\n",
      "    obsm: 'spatial'\n"
     ]
    }
   ],
   "source": [
    "for fov in fovs_ac_cd4t_dl:\n",
    "    print(fov)"
   ],
   "metadata": {
    "collapsed": false,
    "ExecuteTime": {
     "end_time": "2023-11-30T17:20:55.048963Z",
     "start_time": "2023-11-30T17:20:55.038821Z"
    }
   }
  },
  {
   "cell_type": "markdown",
   "source": [
    "We can chain together multiple `IterDataPipes` to create a more complex pipeline. In this example, we first filter the `AnnCollection` to only include cells that have a `cell_meta_cluster` label of `\"CD4T\"`, and then we filter the `AnnCollection` to only include cells which are above a certain area threshold. We can then drop FOVs which do not have any cells that meet this criteria."
   ],
   "metadata": {
    "collapsed": false
   }
  },
  {
   "cell_type": "code",
   "execution_count": 29,
   "outputs": [],
   "source": [
    "fovs_ac_cd4t_large_cells = fovs_ac_cd4t_iter.map(lambda fov: fov[fov.obs[\"area\"] > 300]).filter(lambda fov: fov.shape[0] > 0)"
   ],
   "metadata": {
    "collapsed": false,
    "ExecuteTime": {
     "end_time": "2023-11-30T17:20:58.446587Z",
     "start_time": "2023-11-30T17:20:58.441649Z"
    }
   }
  },
  {
   "cell_type": "code",
   "execution_count": 30,
   "outputs": [],
   "source": [
    "from torchdata.datapipes.utils import to_graph"
   ],
   "metadata": {
    "collapsed": false,
    "ExecuteTime": {
     "end_time": "2023-11-30T17:20:58.827193Z",
     "start_time": "2023-11-30T17:20:58.819031Z"
    }
   }
  },
  {
   "cell_type": "markdown",
   "source": [
    "We can visualize the pipeline that we have constructed."
   ],
   "metadata": {
    "collapsed": false
   }
  },
  {
   "cell_type": "code",
   "execution_count": 31,
   "outputs": [
    {
     "data": {
      "image/svg+xml": "<?xml version=\"1.0\" encoding=\"UTF-8\" standalone=\"no\"?>\n<!DOCTYPE svg PUBLIC \"-//W3C//DTD SVG 1.1//EN\"\n \"http://www.w3.org/Graphics/SVG/1.1/DTD/svg11.dtd\">\n<!-- Generated by graphviz version 9.0.0 (20230911.1827)\n -->\n<!-- Pages: 1 -->\n<svg width=\"66pt\" height=\"193pt\"\n viewBox=\"0.00 0.00 66.00 193.00\" xmlns=\"http://www.w3.org/2000/svg\" xmlns:xlink=\"http://www.w3.org/1999/xlink\">\n<g id=\"graph0\" class=\"graph\" transform=\"scale(1 1) rotate(0) translate(4 189)\">\n<polygon fill=\"white\" stroke=\"none\" points=\"-4,4 -4,-189 62,-189 62,4 -4,4\"/>\n<!-- AnnData&#45;743509625 -->\n<g id=\"node1\" class=\"node\">\n<title>AnnData&#45;743509625</title>\n<polygon fill=\"lightblue\" stroke=\"black\" points=\"58,-185 0,-185 0,-165.75 58,-165.75 58,-185\"/>\n<text text-anchor=\"middle\" x=\"29\" y=\"-171.5\" font-family=\"monospace\" font-size=\"10.00\">AnnData</text>\n</g>\n<!-- Mapper&#45;741232809 -->\n<g id=\"node2\" class=\"node\">\n<title>Mapper&#45;741232809</title>\n<polygon fill=\"lightgrey\" stroke=\"black\" points=\"56,-129.75 2,-129.75 2,-110.5 56,-110.5 56,-129.75\"/>\n<text text-anchor=\"middle\" x=\"29\" y=\"-116.25\" font-family=\"monospace\" font-size=\"10.00\">Mapper</text>\n</g>\n<!-- AnnData&#45;743509625&#45;&gt;Mapper&#45;741232809 -->\n<g id=\"edge1\" class=\"edge\">\n<title>AnnData&#45;743509625&#45;&gt;Mapper&#45;741232809</title>\n<path fill=\"none\" stroke=\"black\" d=\"M29,-165.58C29,-159.07 29,-149.92 29,-141.62\"/>\n<polygon fill=\"black\" stroke=\"black\" points=\"32.5,-141.62 29,-131.62 25.5,-141.62 32.5,-141.62\"/>\n</g>\n<!-- Mapper&#45;741245629 -->\n<g id=\"node3\" class=\"node\">\n<title>Mapper&#45;741245629</title>\n<polygon fill=\"lightgrey\" stroke=\"black\" points=\"56,-74.5 2,-74.5 2,-55.25 56,-55.25 56,-74.5\"/>\n<text text-anchor=\"middle\" x=\"29\" y=\"-61\" font-family=\"monospace\" font-size=\"10.00\">Mapper</text>\n</g>\n<!-- Mapper&#45;741232809&#45;&gt;Mapper&#45;741245629 -->\n<g id=\"edge2\" class=\"edge\">\n<title>Mapper&#45;741232809&#45;&gt;Mapper&#45;741245629</title>\n<path fill=\"none\" stroke=\"black\" d=\"M29,-110.33C29,-103.82 29,-94.67 29,-86.37\"/>\n<polygon fill=\"black\" stroke=\"black\" points=\"32.5,-86.37 29,-76.37 25.5,-86.37 32.5,-86.37\"/>\n</g>\n<!-- Filter&#45;743492573 -->\n<g id=\"node4\" class=\"node\">\n<title>Filter&#45;743492573</title>\n<polygon fill=\"#caff70\" stroke=\"black\" points=\"56,-19.25 2,-19.25 2,0 56,0 56,-19.25\"/>\n<text text-anchor=\"middle\" x=\"29\" y=\"-5.75\" font-family=\"monospace\" font-size=\"10.00\">Filter</text>\n</g>\n<!-- Mapper&#45;741245629&#45;&gt;Filter&#45;743492573 -->\n<g id=\"edge3\" class=\"edge\">\n<title>Mapper&#45;741245629&#45;&gt;Filter&#45;743492573</title>\n<path fill=\"none\" stroke=\"black\" d=\"M29,-55.08C29,-48.57 29,-39.42 29,-31.12\"/>\n<polygon fill=\"black\" stroke=\"black\" points=\"32.5,-31.12 29,-21.12 25.5,-31.12 32.5,-31.12\"/>\n</g>\n</g>\n</svg>\n",
      "text/plain": "<graphviz.graphs.Digraph at 0x2c5d9ac50>"
     },
     "execution_count": 31,
     "metadata": {},
     "output_type": "execute_result"
    }
   ],
   "source": [
    "to_graph(fovs_ac_cd4t_large_cells)"
   ],
   "metadata": {
    "collapsed": false,
    "ExecuteTime": {
     "end_time": "2023-11-30T17:21:01.282015Z",
     "start_time": "2023-11-30T17:21:00.690775Z"
    }
   }
  },
  {
   "cell_type": "markdown",
   "source": [
    "And just like before, we can construct a DataLoader from this `IterDataPipe` and iterate over it efficiently on a FOV by FOV basis with the cell filtering applied."
   ],
   "metadata": {
    "collapsed": false
   }
  },
  {
   "cell_type": "code",
   "execution_count": 37,
   "outputs": [],
   "source": [
    "fovs_ac_cd4t_large_cells_dl = DataLoader2(fovs_ac_cd4t_large_cells)"
   ],
   "metadata": {
    "collapsed": false,
    "ExecuteTime": {
     "end_time": "2023-11-30T17:22:53.909834Z",
     "start_time": "2023-11-30T17:22:53.634272Z"
    }
   }
  },
  {
   "cell_type": "code",
   "execution_count": 38,
   "outputs": [],
   "source": [
    "from squidpy import gr"
   ],
   "metadata": {
    "collapsed": false,
    "ExecuteTime": {
     "end_time": "2023-11-30T17:22:53.914603Z",
     "start_time": "2023-11-30T17:22:53.910568Z"
    }
   }
  },
  {
   "cell_type": "code",
   "execution_count": 40,
   "outputs": [
    {
     "name": "stdout",
     "output_type": "stream",
     "text": [
      "  (0, 1)\t1.0\n",
      "  (0, 3)\t1.0\n",
      "  (0, 4)\t1.0\n",
      "  (0, 5)\t1.0\n",
      "  (0, 6)\t1.0\n",
      "  (0, 7)\t1.0\n",
      "  (0, 10)\t1.0\n",
      "  (0, 14)\t1.0\n",
      "  (0, 15)\t1.0\n",
      "  (0, 18)\t1.0\n",
      "  (0, 19)\t1.0\n",
      "  (0, 21)\t1.0\n",
      "  (0, 22)\t1.0\n",
      "  (0, 23)\t1.0\n",
      "  (0, 24)\t1.0\n",
      "  (0, 25)\t1.0\n",
      "  (0, 27)\t1.0\n",
      "  (0, 28)\t1.0\n",
      "  (0, 29)\t1.0\n",
      "  (0, 30)\t1.0\n",
      "  (0, 33)\t1.0\n",
      "  (0, 34)\t1.0\n",
      "  (0, 35)\t1.0\n",
      "  (0, 37)\t1.0\n",
      "  (0, 39)\t1.0\n",
      "  :\t:\n",
      "  (104, 77)\t1.0\n",
      "  (104, 78)\t1.0\n",
      "  (104, 79)\t1.0\n",
      "  (104, 80)\t1.0\n",
      "  (104, 81)\t1.0\n",
      "  (104, 82)\t1.0\n",
      "  (104, 83)\t1.0\n",
      "  (104, 84)\t1.0\n",
      "  (104, 85)\t1.0\n",
      "  (104, 86)\t1.0\n",
      "  (104, 87)\t1.0\n",
      "  (104, 88)\t1.0\n",
      "  (104, 89)\t1.0\n",
      "  (104, 90)\t1.0\n",
      "  (104, 91)\t1.0\n",
      "  (104, 92)\t1.0\n",
      "  (104, 93)\t1.0\n",
      "  (104, 94)\t1.0\n",
      "  (104, 95)\t1.0\n",
      "  (104, 97)\t1.0\n",
      "  (104, 98)\t1.0\n",
      "  (104, 99)\t1.0\n",
      "  (104, 100)\t1.0\n",
      "  (104, 102)\t1.0\n",
      "  (104, 103)\t1.0\n",
      "  (0, 1)\t1.0\n",
      "  (1, 0)\t1.0\n",
      "  (1, 2)\t1.0\n",
      "  (1, 4)\t1.0\n",
      "  (2, 1)\t1.0\n",
      "  (2, 4)\t1.0\n",
      "  (3, 5)\t1.0\n",
      "  (4, 1)\t1.0\n",
      "  (4, 2)\t1.0\n",
      "  (5, 3)\t1.0\n",
      "  (6, 7)\t1.0\n",
      "  (7, 6)\t1.0\n",
      "  (0, 4)\t1.0\n",
      "  (0, 5)\t1.0\n",
      "  (0, 6)\t1.0\n",
      "  (0, 9)\t1.0\n",
      "  (0, 10)\t1.0\n",
      "  (0, 15)\t1.0\n",
      "  (1, 2)\t1.0\n",
      "  (1, 8)\t1.0\n",
      "  (1, 12)\t1.0\n",
      "  (1, 13)\t1.0\n",
      "  (1, 14)\t1.0\n",
      "  (1, 16)\t1.0\n",
      "  (1, 17)\t1.0\n",
      "  (1, 18)\t1.0\n",
      "  (1, 19)\t1.0\n",
      "  (1, 20)\t1.0\n",
      "  (1, 21)\t1.0\n",
      "  (1, 22)\t1.0\n",
      "  (1, 23)\t1.0\n",
      "  (2, 1)\t1.0\n",
      "  (2, 3)\t1.0\n",
      "  (2, 6)\t1.0\n",
      "  (2, 7)\t1.0\n",
      "  (2, 10)\t1.0\n",
      "  (2, 11)\t1.0\n",
      "  :\t:\n",
      "  (113, 81)\t1.0\n",
      "  (113, 83)\t1.0\n",
      "  (113, 84)\t1.0\n",
      "  (113, 86)\t1.0\n",
      "  (113, 87)\t1.0\n",
      "  (113, 88)\t1.0\n",
      "  (113, 90)\t1.0\n",
      "  (113, 91)\t1.0\n",
      "  (113, 92)\t1.0\n",
      "  (113, 93)\t1.0\n",
      "  (113, 94)\t1.0\n",
      "  (113, 95)\t1.0\n",
      "  (113, 96)\t1.0\n",
      "  (113, 97)\t1.0\n",
      "  (113, 98)\t1.0\n",
      "  (113, 99)\t1.0\n",
      "  (113, 100)\t1.0\n",
      "  (113, 101)\t1.0\n",
      "  (113, 102)\t1.0\n",
      "  (113, 104)\t1.0\n",
      "  (113, 106)\t1.0\n",
      "  (113, 107)\t1.0\n",
      "  (113, 108)\t1.0\n",
      "  (113, 110)\t1.0\n",
      "  (113, 111)\t1.0\n",
      "  (0, 1)\t1.0\n",
      "  (1, 0)\t1.0\n",
      "  (3, 5)\t1.0\n",
      "  (3, 6)\t1.0\n",
      "  (3, 8)\t1.0\n",
      "  (3, 9)\t1.0\n",
      "  (4, 5)\t1.0\n",
      "  (4, 6)\t1.0\n",
      "  (4, 7)\t1.0\n",
      "  (4, 8)\t1.0\n",
      "  (4, 9)\t1.0\n",
      "  (4, 10)\t1.0\n",
      "  (5, 3)\t1.0\n",
      "  (5, 4)\t1.0\n",
      "  (5, 7)\t1.0\n",
      "  (5, 9)\t1.0\n",
      "  (5, 10)\t1.0\n",
      "  (6, 3)\t1.0\n",
      "  (6, 4)\t1.0\n",
      "  (6, 7)\t1.0\n",
      "  (6, 9)\t1.0\n",
      "  (6, 10)\t1.0\n",
      "  (6, 11)\t1.0\n",
      "  (7, 4)\t1.0\n",
      "  (7, 5)\t1.0\n",
      "  :\t:\n",
      "  (7, 9)\t1.0\n",
      "  (7, 10)\t1.0\n",
      "  (8, 3)\t1.0\n",
      "  (8, 4)\t1.0\n",
      "  (8, 7)\t1.0\n",
      "  (8, 10)\t1.0\n",
      "  (8, 11)\t1.0\n",
      "  (9, 3)\t1.0\n",
      "  (9, 4)\t1.0\n",
      "  (9, 5)\t1.0\n",
      "  (9, 6)\t1.0\n",
      "  (9, 7)\t1.0\n",
      "  (9, 10)\t1.0\n",
      "  (9, 11)\t1.0\n",
      "  (10, 4)\t1.0\n",
      "  (10, 5)\t1.0\n",
      "  (10, 6)\t1.0\n",
      "  (10, 7)\t1.0\n",
      "  (10, 8)\t1.0\n",
      "  (10, 9)\t1.0\n",
      "  (10, 11)\t1.0\n",
      "  (11, 6)\t1.0\n",
      "  (11, 8)\t1.0\n",
      "  (11, 9)\t1.0\n",
      "  (11, 10)\t1.0\n",
      "\n",
      "  (0, 7)\t1.0\n",
      "  (1, 2)\t1.0\n",
      "  (1, 3)\t1.0\n",
      "  (1, 4)\t1.0\n",
      "  (1, 5)\t1.0\n",
      "  (1, 6)\t1.0\n",
      "  (1, 9)\t1.0\n",
      "  (1, 10)\t1.0\n",
      "  (1, 11)\t1.0\n",
      "  (2, 1)\t1.0\n",
      "  (2, 4)\t1.0\n",
      "  (2, 5)\t1.0\n",
      "  (2, 6)\t1.0\n",
      "  (2, 8)\t1.0\n",
      "  (2, 9)\t1.0\n",
      "  (2, 10)\t1.0\n",
      "  (2, 11)\t1.0\n",
      "  (2, 17)\t1.0\n",
      "  (2, 18)\t1.0\n",
      "  (2, 20)\t1.0\n",
      "  (3, 1)\t1.0\n",
      "  (3, 5)\t1.0\n",
      "  (3, 6)\t1.0\n",
      "  (3, 8)\t1.0\n",
      "  (3, 9)\t1.0\n",
      "  :\t:\n",
      "  (46, 48)\t1.0\n",
      "  (47, 33)\t1.0\n",
      "  (47, 34)\t1.0\n",
      "  (47, 35)\t1.0\n",
      "  (47, 36)\t1.0\n",
      "  (47, 37)\t1.0\n",
      "  (47, 38)\t1.0\n",
      "  (47, 39)\t1.0\n",
      "  (47, 40)\t1.0\n",
      "  (47, 43)\t1.0\n",
      "  (47, 44)\t1.0\n",
      "  (47, 45)\t1.0\n",
      "  (47, 48)\t1.0\n",
      "  (48, 33)\t1.0\n",
      "  (48, 34)\t1.0\n",
      "  (48, 35)\t1.0\n",
      "  (48, 36)\t1.0\n",
      "  (48, 37)\t1.0\n",
      "  (48, 38)\t1.0\n",
      "  (48, 39)\t1.0\n",
      "  (48, 40)\t1.0\n",
      "  (48, 43)\t1.0\n",
      "  (48, 44)\t1.0\n",
      "  (48, 46)\t1.0\n",
      "  (48, 47)\t1.0\n",
      "  (0, 6)\t1.0\n",
      "  (0, 8)\t1.0\n",
      "  (0, 9)\t1.0\n",
      "  (0, 10)\t1.0\n",
      "  (0, 12)\t1.0\n",
      "  (0, 13)\t1.0\n",
      "  (0, 16)\t1.0\n",
      "  (0, 19)\t1.0\n",
      "  (0, 20)\t1.0\n",
      "  (0, 21)\t1.0\n",
      "  (0, 22)\t1.0\n",
      "  (0, 26)\t1.0\n",
      "  (0, 27)\t1.0\n",
      "  (0, 28)\t1.0\n",
      "  (0, 29)\t1.0\n",
      "  (0, 32)\t1.0\n",
      "  (0, 35)\t1.0\n",
      "  (0, 36)\t1.0\n",
      "  (0, 46)\t1.0\n",
      "  (0, 48)\t1.0\n",
      "  (0, 51)\t1.0\n",
      "  (0, 52)\t1.0\n",
      "  (0, 57)\t1.0\n",
      "  (0, 66)\t1.0\n",
      "  (0, 68)\t1.0\n",
      "  :\t:\n",
      "  (268, 221)\t1.0\n",
      "  (268, 224)\t1.0\n",
      "  (268, 228)\t1.0\n",
      "  (268, 230)\t1.0\n",
      "  (268, 231)\t1.0\n",
      "  (268, 233)\t1.0\n",
      "  (268, 234)\t1.0\n",
      "  (268, 237)\t1.0\n",
      "  (268, 238)\t1.0\n",
      "  (268, 240)\t1.0\n",
      "  (268, 242)\t1.0\n",
      "  (268, 244)\t1.0\n",
      "  (268, 245)\t1.0\n",
      "  (268, 247)\t1.0\n",
      "  (268, 251)\t1.0\n",
      "  (268, 253)\t1.0\n",
      "  (268, 254)\t1.0\n",
      "  (268, 255)\t1.0\n",
      "  (268, 256)\t1.0\n",
      "  (268, 258)\t1.0\n",
      "  (268, 259)\t1.0\n",
      "  (268, 260)\t1.0\n",
      "  (268, 262)\t1.0\n",
      "  (268, 264)\t1.0\n",
      "  (268, 266)\t1.0\n",
      "  (0, 1)\t1.0\n",
      "  (0, 2)\t1.0\n",
      "  (0, 3)\t1.0\n",
      "  (0, 4)\t1.0\n",
      "  (0, 5)\t1.0\n",
      "  (0, 7)\t1.0\n",
      "  (0, 8)\t1.0\n",
      "  (0, 9)\t1.0\n",
      "  (1, 0)\t1.0\n",
      "  (1, 3)\t1.0\n",
      "  (1, 4)\t1.0\n",
      "  (1, 5)\t1.0\n",
      "  (1, 7)\t1.0\n",
      "  (1, 8)\t1.0\n",
      "  (1, 9)\t1.0\n",
      "  (1, 10)\t1.0\n",
      "  (2, 0)\t1.0\n",
      "  (2, 3)\t1.0\n",
      "  (2, 4)\t1.0\n",
      "  (2, 5)\t1.0\n",
      "  (2, 7)\t1.0\n",
      "  (2, 8)\t1.0\n",
      "  (2, 9)\t1.0\n",
      "  (2, 10)\t1.0\n",
      "  (3, 0)\t1.0\n",
      "  :\t:\n",
      "  (25, 26)\t1.0\n",
      "  (25, 28)\t1.0\n",
      "  (25, 29)\t1.0\n",
      "  (25, 31)\t1.0\n",
      "  (26, 22)\t1.0\n",
      "  (26, 25)\t1.0\n",
      "  (26, 29)\t1.0\n",
      "  (26, 31)\t1.0\n",
      "  (27, 23)\t1.0\n",
      "  (28, 22)\t1.0\n",
      "  (28, 25)\t1.0\n",
      "  (28, 29)\t1.0\n",
      "  (28, 31)\t1.0\n",
      "  (29, 22)\t1.0\n",
      "  (29, 24)\t1.0\n",
      "  (29, 25)\t1.0\n",
      "  (29, 26)\t1.0\n",
      "  (29, 28)\t1.0\n",
      "  (29, 31)\t1.0\n",
      "  (30, 23)\t1.0\n",
      "  (31, 24)\t1.0\n",
      "  (31, 25)\t1.0\n",
      "  (31, 26)\t1.0\n",
      "  (31, 28)\t1.0\n",
      "  (31, 29)\t1.0\n",
      "  (0, 1)\t1.0\n",
      "  (0, 5)\t1.0\n",
      "  (0, 8)\t1.0\n",
      "  (0, 10)\t1.0\n",
      "  (0, 12)\t1.0\n",
      "  (0, 14)\t1.0\n",
      "  (0, 17)\t1.0\n",
      "  (0, 20)\t1.0\n",
      "  (0, 24)\t1.0\n",
      "  (0, 25)\t1.0\n",
      "  (0, 26)\t1.0\n",
      "  (0, 27)\t1.0\n",
      "  (0, 28)\t1.0\n",
      "  (0, 29)\t1.0\n",
      "  (0, 31)\t1.0\n",
      "  (0, 32)\t1.0\n",
      "  (0, 36)\t1.0\n",
      "  (0, 43)\t1.0\n",
      "  (0, 44)\t1.0\n",
      "  (0, 45)\t1.0\n",
      "  (0, 46)\t1.0\n",
      "  (0, 47)\t1.0\n",
      "  (0, 48)\t1.0\n",
      "  (0, 49)\t1.0\n",
      "  (0, 50)\t1.0\n",
      "  :\t:\n",
      "  (358, 306)\t1.0\n",
      "  (358, 307)\t1.0\n",
      "  (358, 308)\t1.0\n",
      "  (358, 309)\t1.0\n",
      "  (358, 311)\t1.0\n",
      "  (358, 312)\t1.0\n",
      "  (358, 314)\t1.0\n",
      "  (358, 315)\t1.0\n",
      "  (358, 316)\t1.0\n",
      "  (358, 321)\t1.0\n",
      "  (358, 323)\t1.0\n",
      "  (358, 325)\t1.0\n",
      "  (358, 326)\t1.0\n",
      "  (358, 327)\t1.0\n",
      "  (358, 329)\t1.0\n",
      "  (358, 332)\t1.0\n",
      "  (358, 333)\t1.0\n",
      "  (358, 334)\t1.0\n",
      "  (358, 339)\t1.0\n",
      "  (358, 341)\t1.0\n",
      "  (358, 348)\t1.0\n",
      "  (358, 352)\t1.0\n",
      "  (358, 354)\t1.0\n",
      "  (358, 355)\t1.0\n",
      "  (358, 356)\t1.0\n"
     ]
    },
    {
     "name": "stderr",
     "output_type": "stream",
     "text": [
      "/Users/srivarra/.pyenv/versions/3.11.5/envs/ark/lib/python3.11/site-packages/squidpy/gr/_utils.py:198: ImplicitModificationWarning: Setting element `.obsp['spatial_connectivities']` of view, initializing view as actual.\n",
      "  obj[key] = data\n",
      "/Users/srivarra/.pyenv/versions/3.11.5/envs/ark/lib/python3.11/site-packages/squidpy/gr/_utils.py:198: ImplicitModificationWarning: Setting element `.obsp['spatial_connectivities']` of view, initializing view as actual.\n",
      "  obj[key] = data\n",
      "/Users/srivarra/.pyenv/versions/3.11.5/envs/ark/lib/python3.11/site-packages/squidpy/gr/_utils.py:198: ImplicitModificationWarning: Setting element `.obsp['spatial_connectivities']` of view, initializing view as actual.\n",
      "  obj[key] = data\n",
      "/Users/srivarra/.pyenv/versions/3.11.5/envs/ark/lib/python3.11/site-packages/squidpy/gr/_utils.py:198: ImplicitModificationWarning: Setting element `.obsp['spatial_connectivities']` of view, initializing view as actual.\n",
      "  obj[key] = data\n",
      "/Users/srivarra/.pyenv/versions/3.11.5/envs/ark/lib/python3.11/site-packages/squidpy/gr/_utils.py:198: ImplicitModificationWarning: Setting element `.obsp['spatial_connectivities']` of view, initializing view as actual.\n",
      "  obj[key] = data\n",
      "/Users/srivarra/.pyenv/versions/3.11.5/envs/ark/lib/python3.11/site-packages/squidpy/gr/_utils.py:198: ImplicitModificationWarning: Setting element `.obsp['spatial_connectivities']` of view, initializing view as actual.\n",
      "  obj[key] = data\n",
      "/Users/srivarra/.pyenv/versions/3.11.5/envs/ark/lib/python3.11/site-packages/squidpy/gr/_utils.py:198: ImplicitModificationWarning: Setting element `.obsp['spatial_connectivities']` of view, initializing view as actual.\n",
      "  obj[key] = data\n",
      "/Users/srivarra/.pyenv/versions/3.11.5/envs/ark/lib/python3.11/site-packages/squidpy/gr/_utils.py:198: ImplicitModificationWarning: Setting element `.obsp['spatial_connectivities']` of view, initializing view as actual.\n",
      "  obj[key] = data\n",
      "/Users/srivarra/.pyenv/versions/3.11.5/envs/ark/lib/python3.11/site-packages/squidpy/gr/_utils.py:198: ImplicitModificationWarning: Setting element `.obsp['spatial_connectivities']` of view, initializing view as actual.\n",
      "  obj[key] = data\n"
     ]
    }
   ],
   "source": [
    "for fov in fovs_ac_cd4t_large_cells_dl:\n",
    "    gr.spatial_neighbors(adata=fov, radius=(50,300), spatial_key=\"spatial\", coord_type=\"generic\")"
   ],
   "metadata": {
    "collapsed": false,
    "ExecuteTime": {
     "end_time": "2023-11-30T17:23:07.295406Z",
     "start_time": "2023-11-30T17:23:07.238117Z"
    }
   }
  },
  {
   "cell_type": "code",
   "execution_count": 36,
   "outputs": [
    {
     "data": {
      "text/plain": "AnnCollection object with n_obs × n_vars = 15336 × 22\n  constructed from 11 AnnData objects\n    obs: 'label', 'area', 'eccentricity', 'major_axis_length', 'minor_axis_length', 'perimeter', 'convex_area', 'equivalent_diameter', 'major_minor_axis_ratio', 'perim_square_over_area', 'major_axis_equiv_diam_ratio', 'convex_hull_resid', 'centroid_dif', 'num_concavities', 'fov', 'cell_meta_cluster'\n    obsm: 'spatial'"
     },
     "execution_count": 36,
     "metadata": {},
     "output_type": "execute_result"
    }
   ],
   "source": [
    "fovs_ac"
   ],
   "metadata": {
    "collapsed": false,
    "ExecuteTime": {
     "end_time": "2023-11-30T17:22:21.412268Z",
     "start_time": "2023-11-30T17:22:21.387664Z"
    }
   }
  },
  {
   "cell_type": "code",
   "execution_count": null,
   "outputs": [],
   "source": [],
   "metadata": {
    "collapsed": false
   }
  }
 ],
 "metadata": {
  "kernelspec": {
   "display_name": "ark",
   "language": "python",
   "name": "python3"
  },
  "language_info": {
   "codemirror_mode": {
    "name": "ipython",
    "version": 3
   },
   "file_extension": ".py",
   "mimetype": "text/x-python",
   "name": "python",
   "nbconvert_exporter": "python",
   "pygments_lexer": "ipython3",
   "version": "3.11.5"
  }
 },
 "nbformat": 4,
 "nbformat_minor": 2
}
