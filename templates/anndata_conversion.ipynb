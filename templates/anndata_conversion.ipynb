{
 "cells": [
  {
   "cell_type": "markdown",
   "metadata": {},
   "source": [
    "# `AnnData` Conversion\n",
    "\n",
    "The purpose of this notebook is to convert the cell table to a [`AnnData`](https://anndata.readthedocs.io/en/latest/index.html) Object.\n",
    "\n",
    "`AnnData` stands for Annotated Data, and is a data structure well suited for single cell data. It is a multi-faceted object composed of matrices and DataFrames"
   ]
  },
  {
   "cell_type": "code",
   "execution_count": 51,
   "metadata": {
    "ExecuteTime": {
     "end_time": "2023-11-29T23:51:22.108980Z",
     "start_time": "2023-11-29T23:51:22.081845Z"
    }
   },
   "outputs": [],
   "source": [
    "from dask.distributed import Client\n",
    "from ark.utils.data_utils import ConvertToAnnData, load_anndatas, AnnDataIterDataPipe\n",
    "import os"
   ]
  },
  {
   "cell_type": "code",
   "execution_count": 9,
   "metadata": {
    "ExecuteTime": {
     "end_time": "2023-11-29T19:45:28.426580Z",
     "start_time": "2023-11-29T19:45:26.832025Z"
    }
   },
   "outputs": [
    {
     "name": "stderr",
     "output_type": "stream",
     "text": [
      "/Users/srivarra/.pyenv/versions/3.11.5/envs/ark/lib/python3.11/site-packages/distributed/node.py:182: UserWarning: Port 8787 is already in use.\n",
      "Perhaps you already have a cluster running?\n",
      "Hosting the HTTP server on port 64118 instead\n",
      "  warnings.warn(\n"
     ]
    },
    {
     "data": {
      "text/plain": "<Client: 'tcp://127.0.0.1:64119' processes=5 threads=10, memory=64.00 GiB>",
      "text/html": "<div>\n    <div style=\"width: 24px; height: 24px; background-color: #e1e1e1; border: 3px solid #9D9D9D; border-radius: 5px; position: absolute;\"> </div>\n    <div style=\"margin-left: 48px;\">\n        <h3 style=\"margin-bottom: 0px;\">Client</h3>\n        <p style=\"color: #9D9D9D; margin-bottom: 0px;\">Client-d813a1ea-8eef-11ee-b4e9-de552389aa03</p>\n        <table style=\"width: 100%; text-align: left;\">\n\n        <tr>\n        \n            <td style=\"text-align: left;\"><strong>Connection method:</strong> Cluster object</td>\n            <td style=\"text-align: left;\"><strong>Cluster type:</strong> distributed.LocalCluster</td>\n        \n        </tr>\n\n        \n            <tr>\n                <td style=\"text-align: left;\">\n                    <strong>Dashboard: </strong> <a href=\"http://127.0.0.1:64118/status\" target=\"_blank\">http://127.0.0.1:64118/status</a>\n                </td>\n                <td style=\"text-align: left;\"></td>\n            </tr>\n        \n\n        </table>\n\n        \n\n        \n            <details>\n            <summary style=\"margin-bottom: 20px;\"><h3 style=\"display: inline;\">Cluster Info</h3></summary>\n            <div class=\"jp-RenderedHTMLCommon jp-RenderedHTML jp-mod-trusted jp-OutputArea-output\">\n    <div style=\"width: 24px; height: 24px; background-color: #e1e1e1; border: 3px solid #9D9D9D; border-radius: 5px; position: absolute;\">\n    </div>\n    <div style=\"margin-left: 48px;\">\n        <h3 style=\"margin-bottom: 0px; margin-top: 0px;\">LocalCluster</h3>\n        <p style=\"color: #9D9D9D; margin-bottom: 0px;\">b13cb54f</p>\n        <table style=\"width: 100%; text-align: left;\">\n            <tr>\n                <td style=\"text-align: left;\">\n                    <strong>Dashboard:</strong> <a href=\"http://127.0.0.1:64118/status\" target=\"_blank\">http://127.0.0.1:64118/status</a>\n                </td>\n                <td style=\"text-align: left;\">\n                    <strong>Workers:</strong> 5\n                </td>\n            </tr>\n            <tr>\n                <td style=\"text-align: left;\">\n                    <strong>Total threads:</strong> 10\n                </td>\n                <td style=\"text-align: left;\">\n                    <strong>Total memory:</strong> 64.00 GiB\n                </td>\n            </tr>\n            \n            <tr>\n    <td style=\"text-align: left;\"><strong>Status:</strong> running</td>\n    <td style=\"text-align: left;\"><strong>Using processes:</strong> True</td>\n</tr>\n\n            \n        </table>\n\n        <details>\n            <summary style=\"margin-bottom: 20px;\">\n                <h3 style=\"display: inline;\">Scheduler Info</h3>\n            </summary>\n\n            <div style=\"\">\n    <div>\n        <div style=\"width: 24px; height: 24px; background-color: #FFF7E5; border: 3px solid #FF6132; border-radius: 5px; position: absolute;\"> </div>\n        <div style=\"margin-left: 48px;\">\n            <h3 style=\"margin-bottom: 0px;\">Scheduler</h3>\n            <p style=\"color: #9D9D9D; margin-bottom: 0px;\">Scheduler-b29dccf4-c868-4f21-bad5-821b6a488d90</p>\n            <table style=\"width: 100%; text-align: left;\">\n                <tr>\n                    <td style=\"text-align: left;\">\n                        <strong>Comm:</strong> tcp://127.0.0.1:64119\n                    </td>\n                    <td style=\"text-align: left;\">\n                        <strong>Workers:</strong> 5\n                    </td>\n                </tr>\n                <tr>\n                    <td style=\"text-align: left;\">\n                        <strong>Dashboard:</strong> <a href=\"http://127.0.0.1:64118/status\" target=\"_blank\">http://127.0.0.1:64118/status</a>\n                    </td>\n                    <td style=\"text-align: left;\">\n                        <strong>Total threads:</strong> 10\n                    </td>\n                </tr>\n                <tr>\n                    <td style=\"text-align: left;\">\n                        <strong>Started:</strong> Just now\n                    </td>\n                    <td style=\"text-align: left;\">\n                        <strong>Total memory:</strong> 64.00 GiB\n                    </td>\n                </tr>\n            </table>\n        </div>\n    </div>\n\n    <details style=\"margin-left: 48px;\">\n        <summary style=\"margin-bottom: 20px;\">\n            <h3 style=\"display: inline;\">Workers</h3>\n        </summary>\n\n        \n        <div style=\"margin-bottom: 20px;\">\n            <div style=\"width: 24px; height: 24px; background-color: #DBF5FF; border: 3px solid #4CC9FF; border-radius: 5px; position: absolute;\"> </div>\n            <div style=\"margin-left: 48px;\">\n            <details>\n                <summary>\n                    <h4 style=\"margin-bottom: 0px; display: inline;\">Worker: 0</h4>\n                </summary>\n                <table style=\"width: 100%; text-align: left;\">\n                    <tr>\n                        <td style=\"text-align: left;\">\n                            <strong>Comm: </strong> tcp://127.0.0.1:64134\n                        </td>\n                        <td style=\"text-align: left;\">\n                            <strong>Total threads: </strong> 2\n                        </td>\n                    </tr>\n                    <tr>\n                        <td style=\"text-align: left;\">\n                            <strong>Dashboard: </strong> <a href=\"http://127.0.0.1:64141/status\" target=\"_blank\">http://127.0.0.1:64141/status</a>\n                        </td>\n                        <td style=\"text-align: left;\">\n                            <strong>Memory: </strong> 12.80 GiB\n                        </td>\n                    </tr>\n                    <tr>\n                        <td style=\"text-align: left;\">\n                            <strong>Nanny: </strong> tcp://127.0.0.1:64122\n                        </td>\n                        <td style=\"text-align: left;\"></td>\n                    </tr>\n                    <tr>\n                        <td colspan=\"2\" style=\"text-align: left;\">\n                            <strong>Local directory: </strong> /var/folders/fy/q2szypn9325d_0g0nq049k300000gq/T/dask-scratch-space/worker-bi0nrduu\n                        </td>\n                    </tr>\n\n                    \n\n                    \n\n                </table>\n            </details>\n            </div>\n        </div>\n        \n        <div style=\"margin-bottom: 20px;\">\n            <div style=\"width: 24px; height: 24px; background-color: #DBF5FF; border: 3px solid #4CC9FF; border-radius: 5px; position: absolute;\"> </div>\n            <div style=\"margin-left: 48px;\">\n            <details>\n                <summary>\n                    <h4 style=\"margin-bottom: 0px; display: inline;\">Worker: 1</h4>\n                </summary>\n                <table style=\"width: 100%; text-align: left;\">\n                    <tr>\n                        <td style=\"text-align: left;\">\n                            <strong>Comm: </strong> tcp://127.0.0.1:64136\n                        </td>\n                        <td style=\"text-align: left;\">\n                            <strong>Total threads: </strong> 2\n                        </td>\n                    </tr>\n                    <tr>\n                        <td style=\"text-align: left;\">\n                            <strong>Dashboard: </strong> <a href=\"http://127.0.0.1:64139/status\" target=\"_blank\">http://127.0.0.1:64139/status</a>\n                        </td>\n                        <td style=\"text-align: left;\">\n                            <strong>Memory: </strong> 12.80 GiB\n                        </td>\n                    </tr>\n                    <tr>\n                        <td style=\"text-align: left;\">\n                            <strong>Nanny: </strong> tcp://127.0.0.1:64124\n                        </td>\n                        <td style=\"text-align: left;\"></td>\n                    </tr>\n                    <tr>\n                        <td colspan=\"2\" style=\"text-align: left;\">\n                            <strong>Local directory: </strong> /var/folders/fy/q2szypn9325d_0g0nq049k300000gq/T/dask-scratch-space/worker-6nh7x0gk\n                        </td>\n                    </tr>\n\n                    \n\n                    \n\n                </table>\n            </details>\n            </div>\n        </div>\n        \n        <div style=\"margin-bottom: 20px;\">\n            <div style=\"width: 24px; height: 24px; background-color: #DBF5FF; border: 3px solid #4CC9FF; border-radius: 5px; position: absolute;\"> </div>\n            <div style=\"margin-left: 48px;\">\n            <details>\n                <summary>\n                    <h4 style=\"margin-bottom: 0px; display: inline;\">Worker: 2</h4>\n                </summary>\n                <table style=\"width: 100%; text-align: left;\">\n                    <tr>\n                        <td style=\"text-align: left;\">\n                            <strong>Comm: </strong> tcp://127.0.0.1:64133\n                        </td>\n                        <td style=\"text-align: left;\">\n                            <strong>Total threads: </strong> 2\n                        </td>\n                    </tr>\n                    <tr>\n                        <td style=\"text-align: left;\">\n                            <strong>Dashboard: </strong> <a href=\"http://127.0.0.1:64138/status\" target=\"_blank\">http://127.0.0.1:64138/status</a>\n                        </td>\n                        <td style=\"text-align: left;\">\n                            <strong>Memory: </strong> 12.80 GiB\n                        </td>\n                    </tr>\n                    <tr>\n                        <td style=\"text-align: left;\">\n                            <strong>Nanny: </strong> tcp://127.0.0.1:64126\n                        </td>\n                        <td style=\"text-align: left;\"></td>\n                    </tr>\n                    <tr>\n                        <td colspan=\"2\" style=\"text-align: left;\">\n                            <strong>Local directory: </strong> /var/folders/fy/q2szypn9325d_0g0nq049k300000gq/T/dask-scratch-space/worker-c2u_xts7\n                        </td>\n                    </tr>\n\n                    \n\n                    \n\n                </table>\n            </details>\n            </div>\n        </div>\n        \n        <div style=\"margin-bottom: 20px;\">\n            <div style=\"width: 24px; height: 24px; background-color: #DBF5FF; border: 3px solid #4CC9FF; border-radius: 5px; position: absolute;\"> </div>\n            <div style=\"margin-left: 48px;\">\n            <details>\n                <summary>\n                    <h4 style=\"margin-bottom: 0px; display: inline;\">Worker: 3</h4>\n                </summary>\n                <table style=\"width: 100%; text-align: left;\">\n                    <tr>\n                        <td style=\"text-align: left;\">\n                            <strong>Comm: </strong> tcp://127.0.0.1:64135\n                        </td>\n                        <td style=\"text-align: left;\">\n                            <strong>Total threads: </strong> 2\n                        </td>\n                    </tr>\n                    <tr>\n                        <td style=\"text-align: left;\">\n                            <strong>Dashboard: </strong> <a href=\"http://127.0.0.1:64140/status\" target=\"_blank\">http://127.0.0.1:64140/status</a>\n                        </td>\n                        <td style=\"text-align: left;\">\n                            <strong>Memory: </strong> 12.80 GiB\n                        </td>\n                    </tr>\n                    <tr>\n                        <td style=\"text-align: left;\">\n                            <strong>Nanny: </strong> tcp://127.0.0.1:64128\n                        </td>\n                        <td style=\"text-align: left;\"></td>\n                    </tr>\n                    <tr>\n                        <td colspan=\"2\" style=\"text-align: left;\">\n                            <strong>Local directory: </strong> /var/folders/fy/q2szypn9325d_0g0nq049k300000gq/T/dask-scratch-space/worker-t76fsywd\n                        </td>\n                    </tr>\n\n                    \n\n                    \n\n                </table>\n            </details>\n            </div>\n        </div>\n        \n        <div style=\"margin-bottom: 20px;\">\n            <div style=\"width: 24px; height: 24px; background-color: #DBF5FF; border: 3px solid #4CC9FF; border-radius: 5px; position: absolute;\"> </div>\n            <div style=\"margin-left: 48px;\">\n            <details>\n                <summary>\n                    <h4 style=\"margin-bottom: 0px; display: inline;\">Worker: 4</h4>\n                </summary>\n                <table style=\"width: 100%; text-align: left;\">\n                    <tr>\n                        <td style=\"text-align: left;\">\n                            <strong>Comm: </strong> tcp://127.0.0.1:64137\n                        </td>\n                        <td style=\"text-align: left;\">\n                            <strong>Total threads: </strong> 2\n                        </td>\n                    </tr>\n                    <tr>\n                        <td style=\"text-align: left;\">\n                            <strong>Dashboard: </strong> <a href=\"http://127.0.0.1:64142/status\" target=\"_blank\">http://127.0.0.1:64142/status</a>\n                        </td>\n                        <td style=\"text-align: left;\">\n                            <strong>Memory: </strong> 12.80 GiB\n                        </td>\n                    </tr>\n                    <tr>\n                        <td style=\"text-align: left;\">\n                            <strong>Nanny: </strong> tcp://127.0.0.1:64130\n                        </td>\n                        <td style=\"text-align: left;\"></td>\n                    </tr>\n                    <tr>\n                        <td colspan=\"2\" style=\"text-align: left;\">\n                            <strong>Local directory: </strong> /var/folders/fy/q2szypn9325d_0g0nq049k300000gq/T/dask-scratch-space/worker-xcr6bs3i\n                        </td>\n                    </tr>\n\n                    \n\n                    \n\n                </table>\n            </details>\n            </div>\n        </div>\n        \n\n    </details>\n</div>\n\n        </details>\n    </div>\n</div>\n            </details>\n        \n\n    </div>\n</div>"
     },
     "execution_count": 9,
     "metadata": {},
     "output_type": "execute_result"
    }
   ],
   "source": [
    "Client(threads_per_worker = 2)"
   ]
  },
  {
   "cell_type": "code",
   "execution_count": 10,
   "metadata": {
    "ExecuteTime": {
     "end_time": "2023-11-29T19:45:28.439765Z",
     "start_time": "2023-11-29T19:45:28.410776Z"
    }
   },
   "outputs": [],
   "source": [
    "base_dir = \"../data/example_dataset/\""
   ]
  },
  {
   "cell_type": "markdown",
   "metadata": {},
   "source": [
    "## 0. Download the Example Dataset\n",
    "\n",
    "Here we are using the example data located in `/data/example_dataset/input_data`. To modify this notebook to run using your own data, simply change `base_dir` to point to your own sub-directory within the data folder.\n",
    "\n",
    "* `base_dir`: the path to all of your imaging data. This directory will contain all of the data generated by this notebook, as well as the data previously generated by segmentation and cell clustering."
   ]
  },
  {
   "cell_type": "code",
   "execution_count": 11,
   "metadata": {
    "ExecuteTime": {
     "end_time": "2023-11-29T19:45:31.069980Z",
     "start_time": "2023-11-29T19:45:28.516181Z"
    }
   },
   "outputs": [],
   "source": [
    "from ark.utils.example_dataset import get_example_dataset\n",
    "\n",
    "get_example_dataset(dataset=\"post_clustering\", save_dir= base_dir, overwrite_existing=True)"
   ]
  },
  {
   "cell_type": "markdown",
   "source": [
    "## 1. Convert the Cell Table to `AnnData` Objects\n",
    "\n",
    "- `cell_table_path`: The path to the cell table that you wish to convert to `AnnData` objects. \n",
    "- `anndata_save_dir`: The directory where you would like to save the `AnnData` objects. This directory will be created if it does not already exist."
   ],
   "metadata": {
    "collapsed": false
   }
  },
  {
   "cell_type": "code",
   "execution_count": 12,
   "metadata": {
    "ExecuteTime": {
     "end_time": "2023-11-29T19:45:31.158947Z",
     "start_time": "2023-11-29T19:45:31.132536Z"
    }
   },
   "outputs": [],
   "source": [
    "cell_table_path = os.path.join(base_dir, \"segmentation/cell_table/cell_table_size_normalized_cell_labels.csv\")\n",
    "anndata_save_dir = os.path.join(base_dir, \"anndata\")"
   ]
  },
  {
   "cell_type": "markdown",
   "metadata": {},
   "source": [
    "- `markers`: These are the names of the markers that you wish to extract from the Cell Table. You can specify each marker that you would like to use, or you may set it to `None` in order to grab all markers.\n",
    "- `extra_obs_parameters`: These are the names of the extra columns in the Cell Table that you wish to extract. You can specify each parameter that you would like to use, or you may set it to `None` in order to grab all parameters."
   ]
  },
  {
   "cell_type": "code",
   "execution_count": 13,
   "metadata": {
    "ExecuteTime": {
     "end_time": "2023-11-29T19:45:32.455826Z",
     "start_time": "2023-11-29T19:45:32.431587Z"
    }
   },
   "outputs": [],
   "source": [
    "# markers = [\"CD14\", \"CD163\", \"CD20\", \"CD3\", \"CD31\", \"CD4\", \"CD45\", \"CD68\", \"CD8\", \"CK17\", \"Collagen1\", \"ECAD\",\n",
    "#               \"Fibronectin\", \"GLUT1\", \"H3K27me3\", \"H3K9ac\", \"HLADR\", \"IDO\", \"Ki67\", \"PD1\", \"SMA\", \"Vim\"]\n",
    "markers = None"
   ]
  },
  {
   "cell_type": "code",
   "execution_count": 14,
   "metadata": {
    "ExecuteTime": {
     "end_time": "2023-11-29T19:45:32.885515Z",
     "start_time": "2023-11-29T19:45:32.837957Z"
    }
   },
   "outputs": [],
   "source": [
    "convert_to_anndata = ConvertToAnnData(cell_table_path, markers=markers, extra_obs_parameters=None)"
   ]
  },
  {
   "cell_type": "code",
   "execution_count": 15,
   "outputs": [],
   "source": [
    "fov_adata_paths = convert_to_anndata.convert_to_adata(save_dir=anndata_save_dir)"
   ],
   "metadata": {
    "collapsed": false,
    "ExecuteTime": {
     "end_time": "2023-11-29T19:45:40.349998Z",
     "start_time": "2023-11-29T19:45:33.261837Z"
    }
   }
  },
  {
   "cell_type": "markdown",
   "source": [
    "Load the `AnnData` objects for all FOVs. This will load them as an [`AnnCollection`](https://anndata.readthedocs.io/en/latest/generated/anndata.experimental.AnnCollection.html)."
   ],
   "metadata": {
    "collapsed": false
   }
  },
  {
   "cell_type": "code",
   "execution_count": 31,
   "metadata": {
    "ExecuteTime": {
     "end_time": "2023-11-29T19:59:33.329593Z",
     "start_time": "2023-11-29T19:59:33.061413Z"
    }
   },
   "outputs": [],
   "source": [
    "fovs_ac = load_anndatas(anndata_dir=anndata_save_dir, join_obs=\"inner\", join_obsm=\"inner\")"
   ]
  },
  {
   "cell_type": "code",
   "execution_count": 47,
   "outputs": [],
   "source": [
    "subset = fovs_ac[100:200]"
   ],
   "metadata": {
    "collapsed": false,
    "ExecuteTime": {
     "end_time": "2023-11-29T23:48:53.101940Z",
     "start_time": "2023-11-29T23:48:53.076109Z"
    }
   }
  },
  {
   "cell_type": "markdown",
   "source": [
    "We can view various components of the `AnnCollection` by accessing them by their names (`obs`, `obsm`, `var`, `var_names`, etc...)"
   ],
   "metadata": {
    "collapsed": false
   }
  },
  {
   "cell_type": "markdown",
   "source": [
    "`obs`: Here we can view properties of our observations, where in this case each observation is a cell segmentation. The properties for each cell include measurements such as `area`, `perimeter`, and categorical information like `cell_meta_cluster`."
   ],
   "metadata": {
    "collapsed": false
   }
  },
  {
   "cell_type": "code",
   "execution_count": 48,
   "outputs": [
    {
     "data": {
      "text/plain": "            label  cell_size   area  eccentricity  major_axis_length  \\\nfov0_1          1       34.0   34.0      0.699679           8.007260   \nfov0_2          2       43.0   43.0      0.777362           9.629459   \nfov0_3          3       51.0   51.0      0.768859          10.126542   \nfov0_4          4      108.0  108.0      0.796695          15.501110   \nfov0_5          5      134.0  134.0      0.870926          18.883940   \n...           ...        ...    ...           ...                ...   \nfov10_2790   2790      106.0  106.0      0.920955          19.253470   \nfov10_2791   2791      149.0  149.0      0.915797          22.419015   \nfov10_2792   2792      123.0  123.0      0.879332          18.668590   \nfov10_2793   2793       75.0   75.0      0.875110          14.494926   \nfov10_2794   2794      145.0  145.0      0.881800          20.501795   \n\n            minor_axis_length  perimeter  convex_area  equivalent_diameter  \\\nfov0_1               5.720845  20.485281         36.0             6.579525   \nfov0_2               6.057447  23.899495         45.0             7.399277   \nfov0_3               6.475092  25.071068         52.0             8.058239   \nfov0_4               9.368588  40.384776        115.0            11.726460   \nfov0_5               9.279841  45.556349        138.0            13.061933   \n...                       ...        ...          ...                  ...   \nfov10_2790           7.502476  43.935029        109.0            11.617375   \nfov10_2791           9.004385  52.142136        155.0            13.773623   \nfov10_2792           8.890138  44.727922        129.0            12.514330   \nfov10_2793           7.014439  35.106602         81.0             9.772050   \nfov10_2794           9.669133  50.970563        157.0            13.587484   \n\n            major_minor_axis_ratio  perim_square_over_area  \\\nfov0_1                    1.399664               12.342552   \nfov0_2                    1.589689               13.283392   \nfov0_3                    1.563922               12.324675   \nfov0_4                    1.654583               15.101205   \nfov0_5                    2.034942               15.487918   \n...                            ...                     ...   \nfov10_2790                2.566282               18.210252   \nfov10_2791                2.489789               18.246995   \nfov10_2792                2.099921               16.264935   \nfov10_2793                2.066441               16.432980   \nfov10_2794                2.120335               17.917229   \n\n            major_axis_equiv_diam_ratio  convex_hull_resid  centroid_dif  \\\nfov0_1                         1.216997           0.055556      0.022207   \nfov0_2                         1.301405           0.044444      0.018660   \nfov0_3                         1.256669           0.019231      0.012862   \nfov0_4                         1.321892           0.060870      0.021054   \nfov0_5                         1.445723           0.028986      0.016876   \n...                                 ...                ...           ...   \nfov10_2790                     1.657300           0.027523      0.004100   \nfov10_2791                     1.627677           0.038710      0.011306   \nfov10_2792                     1.491777           0.046512      0.017824   \nfov10_2793                     1.483305           0.074074      0.019377   \nfov10_2794                     1.508874           0.076433      0.019242   \n\n            num_concavities    fov cell_meta_cluster  \nfov0_1                  0.0   fov0              CD4T  \nfov0_2                  0.0   fov0              CD4T  \nfov0_3                  0.0   fov0              CD4T  \nfov0_4                  0.0   fov0              CD4T  \nfov0_5                  0.0   fov0              CD4T  \n...                     ...    ...               ...  \nfov10_2790              0.0  fov10              CD8T  \nfov10_2791              0.0  fov10             Bcell  \nfov10_2792              0.0  fov10             Bcell  \nfov10_2793              0.0  fov10             Bcell  \nfov10_2794              0.0  fov10              CD8T  \n\n[15336 rows x 17 columns]",
      "text/html": "<div>\n<style scoped>\n    .dataframe tbody tr th:only-of-type {\n        vertical-align: middle;\n    }\n\n    .dataframe tbody tr th {\n        vertical-align: top;\n    }\n\n    .dataframe thead th {\n        text-align: right;\n    }\n</style>\n<table border=\"1\" class=\"dataframe\">\n  <thead>\n    <tr style=\"text-align: right;\">\n      <th></th>\n      <th>label</th>\n      <th>cell_size</th>\n      <th>area</th>\n      <th>eccentricity</th>\n      <th>major_axis_length</th>\n      <th>minor_axis_length</th>\n      <th>perimeter</th>\n      <th>convex_area</th>\n      <th>equivalent_diameter</th>\n      <th>major_minor_axis_ratio</th>\n      <th>perim_square_over_area</th>\n      <th>major_axis_equiv_diam_ratio</th>\n      <th>convex_hull_resid</th>\n      <th>centroid_dif</th>\n      <th>num_concavities</th>\n      <th>fov</th>\n      <th>cell_meta_cluster</th>\n    </tr>\n  </thead>\n  <tbody>\n    <tr>\n      <th>fov0_1</th>\n      <td>1</td>\n      <td>34.0</td>\n      <td>34.0</td>\n      <td>0.699679</td>\n      <td>8.007260</td>\n      <td>5.720845</td>\n      <td>20.485281</td>\n      <td>36.0</td>\n      <td>6.579525</td>\n      <td>1.399664</td>\n      <td>12.342552</td>\n      <td>1.216997</td>\n      <td>0.055556</td>\n      <td>0.022207</td>\n      <td>0.0</td>\n      <td>fov0</td>\n      <td>CD4T</td>\n    </tr>\n    <tr>\n      <th>fov0_2</th>\n      <td>2</td>\n      <td>43.0</td>\n      <td>43.0</td>\n      <td>0.777362</td>\n      <td>9.629459</td>\n      <td>6.057447</td>\n      <td>23.899495</td>\n      <td>45.0</td>\n      <td>7.399277</td>\n      <td>1.589689</td>\n      <td>13.283392</td>\n      <td>1.301405</td>\n      <td>0.044444</td>\n      <td>0.018660</td>\n      <td>0.0</td>\n      <td>fov0</td>\n      <td>CD4T</td>\n    </tr>\n    <tr>\n      <th>fov0_3</th>\n      <td>3</td>\n      <td>51.0</td>\n      <td>51.0</td>\n      <td>0.768859</td>\n      <td>10.126542</td>\n      <td>6.475092</td>\n      <td>25.071068</td>\n      <td>52.0</td>\n      <td>8.058239</td>\n      <td>1.563922</td>\n      <td>12.324675</td>\n      <td>1.256669</td>\n      <td>0.019231</td>\n      <td>0.012862</td>\n      <td>0.0</td>\n      <td>fov0</td>\n      <td>CD4T</td>\n    </tr>\n    <tr>\n      <th>fov0_4</th>\n      <td>4</td>\n      <td>108.0</td>\n      <td>108.0</td>\n      <td>0.796695</td>\n      <td>15.501110</td>\n      <td>9.368588</td>\n      <td>40.384776</td>\n      <td>115.0</td>\n      <td>11.726460</td>\n      <td>1.654583</td>\n      <td>15.101205</td>\n      <td>1.321892</td>\n      <td>0.060870</td>\n      <td>0.021054</td>\n      <td>0.0</td>\n      <td>fov0</td>\n      <td>CD4T</td>\n    </tr>\n    <tr>\n      <th>fov0_5</th>\n      <td>5</td>\n      <td>134.0</td>\n      <td>134.0</td>\n      <td>0.870926</td>\n      <td>18.883940</td>\n      <td>9.279841</td>\n      <td>45.556349</td>\n      <td>138.0</td>\n      <td>13.061933</td>\n      <td>2.034942</td>\n      <td>15.487918</td>\n      <td>1.445723</td>\n      <td>0.028986</td>\n      <td>0.016876</td>\n      <td>0.0</td>\n      <td>fov0</td>\n      <td>CD4T</td>\n    </tr>\n    <tr>\n      <th>...</th>\n      <td>...</td>\n      <td>...</td>\n      <td>...</td>\n      <td>...</td>\n      <td>...</td>\n      <td>...</td>\n      <td>...</td>\n      <td>...</td>\n      <td>...</td>\n      <td>...</td>\n      <td>...</td>\n      <td>...</td>\n      <td>...</td>\n      <td>...</td>\n      <td>...</td>\n      <td>...</td>\n      <td>...</td>\n    </tr>\n    <tr>\n      <th>fov10_2790</th>\n      <td>2790</td>\n      <td>106.0</td>\n      <td>106.0</td>\n      <td>0.920955</td>\n      <td>19.253470</td>\n      <td>7.502476</td>\n      <td>43.935029</td>\n      <td>109.0</td>\n      <td>11.617375</td>\n      <td>2.566282</td>\n      <td>18.210252</td>\n      <td>1.657300</td>\n      <td>0.027523</td>\n      <td>0.004100</td>\n      <td>0.0</td>\n      <td>fov10</td>\n      <td>CD8T</td>\n    </tr>\n    <tr>\n      <th>fov10_2791</th>\n      <td>2791</td>\n      <td>149.0</td>\n      <td>149.0</td>\n      <td>0.915797</td>\n      <td>22.419015</td>\n      <td>9.004385</td>\n      <td>52.142136</td>\n      <td>155.0</td>\n      <td>13.773623</td>\n      <td>2.489789</td>\n      <td>18.246995</td>\n      <td>1.627677</td>\n      <td>0.038710</td>\n      <td>0.011306</td>\n      <td>0.0</td>\n      <td>fov10</td>\n      <td>Bcell</td>\n    </tr>\n    <tr>\n      <th>fov10_2792</th>\n      <td>2792</td>\n      <td>123.0</td>\n      <td>123.0</td>\n      <td>0.879332</td>\n      <td>18.668590</td>\n      <td>8.890138</td>\n      <td>44.727922</td>\n      <td>129.0</td>\n      <td>12.514330</td>\n      <td>2.099921</td>\n      <td>16.264935</td>\n      <td>1.491777</td>\n      <td>0.046512</td>\n      <td>0.017824</td>\n      <td>0.0</td>\n      <td>fov10</td>\n      <td>Bcell</td>\n    </tr>\n    <tr>\n      <th>fov10_2793</th>\n      <td>2793</td>\n      <td>75.0</td>\n      <td>75.0</td>\n      <td>0.875110</td>\n      <td>14.494926</td>\n      <td>7.014439</td>\n      <td>35.106602</td>\n      <td>81.0</td>\n      <td>9.772050</td>\n      <td>2.066441</td>\n      <td>16.432980</td>\n      <td>1.483305</td>\n      <td>0.074074</td>\n      <td>0.019377</td>\n      <td>0.0</td>\n      <td>fov10</td>\n      <td>Bcell</td>\n    </tr>\n    <tr>\n      <th>fov10_2794</th>\n      <td>2794</td>\n      <td>145.0</td>\n      <td>145.0</td>\n      <td>0.881800</td>\n      <td>20.501795</td>\n      <td>9.669133</td>\n      <td>50.970563</td>\n      <td>157.0</td>\n      <td>13.587484</td>\n      <td>2.120335</td>\n      <td>17.917229</td>\n      <td>1.508874</td>\n      <td>0.076433</td>\n      <td>0.019242</td>\n      <td>0.0</td>\n      <td>fov10</td>\n      <td>CD8T</td>\n    </tr>\n  </tbody>\n</table>\n<p>15336 rows × 17 columns</p>\n</div>"
     },
     "execution_count": 48,
     "metadata": {},
     "output_type": "execute_result"
    }
   ],
   "source": [
    "fovs_ac.obs"
   ],
   "metadata": {
    "collapsed": false,
    "ExecuteTime": {
     "end_time": "2023-11-29T23:48:55.748549Z",
     "start_time": "2023-11-29T23:48:55.717846Z"
    }
   }
  },
  {
   "cell_type": "markdown",
   "source": [
    "We can view the $x$ and $y$ centroids of each cell in our cohort by accessing the `obsm` attribute of the `AnnCollection`."
   ],
   "metadata": {
    "collapsed": false
   }
  },
  {
   "cell_type": "code",
   "execution_count": 49,
   "outputs": [
    {
     "data": {
      "text/plain": "             centroid_x  centroid_y\nfov0_1         1.794118    4.411765\nfov0_2         1.953488   69.953488\nfov0_3         2.333333   94.235294\nfov0_4         3.407407  238.185185\nfov0_5         3.656716  263.201493\n...                 ...         ...\nfov10_2790  1020.528302  781.462264\nfov10_2791  1019.825503  808.718121\nfov10_2792  1019.821138  826.487805\nfov10_2793  1020.693333  868.373333\nfov10_2794  1019.675862  965.827586\n\n[15336 rows x 2 columns]",
      "text/html": "<div>\n<style scoped>\n    .dataframe tbody tr th:only-of-type {\n        vertical-align: middle;\n    }\n\n    .dataframe tbody tr th {\n        vertical-align: top;\n    }\n\n    .dataframe thead th {\n        text-align: right;\n    }\n</style>\n<table border=\"1\" class=\"dataframe\">\n  <thead>\n    <tr style=\"text-align: right;\">\n      <th></th>\n      <th>centroid_x</th>\n      <th>centroid_y</th>\n    </tr>\n  </thead>\n  <tbody>\n    <tr>\n      <th>fov0_1</th>\n      <td>1.794118</td>\n      <td>4.411765</td>\n    </tr>\n    <tr>\n      <th>fov0_2</th>\n      <td>1.953488</td>\n      <td>69.953488</td>\n    </tr>\n    <tr>\n      <th>fov0_3</th>\n      <td>2.333333</td>\n      <td>94.235294</td>\n    </tr>\n    <tr>\n      <th>fov0_4</th>\n      <td>3.407407</td>\n      <td>238.185185</td>\n    </tr>\n    <tr>\n      <th>fov0_5</th>\n      <td>3.656716</td>\n      <td>263.201493</td>\n    </tr>\n    <tr>\n      <th>...</th>\n      <td>...</td>\n      <td>...</td>\n    </tr>\n    <tr>\n      <th>fov10_2790</th>\n      <td>1020.528302</td>\n      <td>781.462264</td>\n    </tr>\n    <tr>\n      <th>fov10_2791</th>\n      <td>1019.825503</td>\n      <td>808.718121</td>\n    </tr>\n    <tr>\n      <th>fov10_2792</th>\n      <td>1019.821138</td>\n      <td>826.487805</td>\n    </tr>\n    <tr>\n      <th>fov10_2793</th>\n      <td>1020.693333</td>\n      <td>868.373333</td>\n    </tr>\n    <tr>\n      <th>fov10_2794</th>\n      <td>1019.675862</td>\n      <td>965.827586</td>\n    </tr>\n  </tbody>\n</table>\n<p>15336 rows × 2 columns</p>\n</div>"
     },
     "execution_count": 49,
     "metadata": {},
     "output_type": "execute_result"
    }
   ],
   "source": [
    "fovs_ac.obsm[\"spatial\"]"
   ],
   "metadata": {
    "collapsed": false,
    "ExecuteTime": {
     "end_time": "2023-11-29T23:48:58.016668Z",
     "start_time": "2023-11-29T23:48:57.973781Z"
    }
   }
  },
  {
   "cell_type": "markdown",
   "source": [
    "## 2. Basic Use Cases"
   ],
   "metadata": {
    "collapsed": false
   }
  },
  {
   "cell_type": "markdown",
   "source": [
    "We can utilize `AnnData` objects or `AnnCollections` in a similar way to a Pandas DataFrame. For example, we can filter the `AnnCollection` to only include cells that have a `cell_meta_cluster` label of `\"CD4T\"`."
   ],
   "metadata": {
    "collapsed": false
   }
  },
  {
   "cell_type": "code",
   "execution_count": 70,
   "outputs": [
    {
     "data": {
      "text/plain": "            label  cell_size   area  eccentricity  major_axis_length  \\\nfov0_1          1       34.0   34.0      0.699679           8.007260   \nfov0_2          2       43.0   43.0      0.777362           9.629459   \nfov0_3          3       51.0   51.0      0.768859          10.126542   \nfov0_4          4      108.0  108.0      0.796695          15.501110   \nfov0_5          5      134.0  134.0      0.870926          18.883940   \n...           ...        ...    ...           ...                ...   \nfov10_2785   2785      142.0  142.0      0.820592          18.748166   \nfov10_2786   2786       82.0   82.0      0.808748          13.969363   \nfov10_2787   2787       91.0   91.0      0.902932          16.917289   \nfov10_2788   2788      170.0  170.0      0.899438          23.352031   \nfov10_2789   2789       83.0   83.0      0.816140          13.766262   \n\n            minor_axis_length  perimeter  convex_area  equivalent_diameter  \\\nfov0_1               5.720845  20.485281         36.0             6.579525   \nfov0_2               6.057447  23.899495         45.0             7.399277   \nfov0_3               6.475092  25.071068         52.0             8.058239   \nfov0_4               9.368588  40.384776        115.0            11.726460   \nfov0_5               9.279841  45.556349        138.0            13.061933   \n...                       ...        ...          ...                  ...   \nfov10_2785          10.714859  49.006097        149.0            13.446190   \nfov10_2786           8.216162  36.313708         88.0            10.217908   \nfov10_2787           7.270758  38.727922         93.0            10.764051   \nfov10_2788          10.205950  56.970563        181.0            14.712264   \nfov10_2789           7.954890  34.485281         87.0            10.280023   \n\n            major_minor_axis_ratio  perim_square_over_area  \\\nfov0_1                    1.399664               12.342552   \nfov0_2                    1.589689               13.283392   \nfov0_3                    1.563922               12.324675   \nfov0_4                    1.654583               15.101205   \nfov0_5                    2.034942               15.487918   \n...                            ...                     ...   \nfov10_2785                1.749735               16.912659   \nfov10_2786                1.700230               16.081530   \nfov10_2787                2.326757               16.481890   \nfov10_2788                2.288080               19.092030   \nfov10_2789                1.730541               14.328128   \n\n            major_axis_equiv_diam_ratio  convex_hull_resid  centroid_dif  \\\nfov0_1                         1.216997           0.055556      0.022207   \nfov0_2                         1.301405           0.044444      0.018660   \nfov0_3                         1.256669           0.019231      0.012862   \nfov0_4                         1.321892           0.060870      0.021054   \nfov0_5                         1.445723           0.028986      0.016876   \n...                                 ...                ...           ...   \nfov10_2785                     1.394311           0.046980      0.018177   \nfov10_2786                     1.367145           0.068182      0.009740   \nfov10_2787                     1.571647           0.021505      0.008236   \nfov10_2788                     1.587249           0.060773      0.012740   \nfov10_2789                     1.339127           0.045977      0.015038   \n\n            num_concavities    fov cell_meta_cluster  \nfov0_1                  0.0   fov0              CD4T  \nfov0_2                  0.0   fov0              CD4T  \nfov0_3                  0.0   fov0              CD4T  \nfov0_4                  0.0   fov0              CD4T  \nfov0_5                  0.0   fov0              CD4T  \n...                     ...    ...               ...  \nfov10_2785              0.0  fov10              CD4T  \nfov10_2786              0.0  fov10              CD4T  \nfov10_2787              0.0  fov10              CD4T  \nfov10_2788              0.0  fov10              CD4T  \nfov10_2789              0.0  fov10              CD4T  \n\n[2805 rows x 17 columns]",
      "text/html": "<div>\n<style scoped>\n    .dataframe tbody tr th:only-of-type {\n        vertical-align: middle;\n    }\n\n    .dataframe tbody tr th {\n        vertical-align: top;\n    }\n\n    .dataframe thead th {\n        text-align: right;\n    }\n</style>\n<table border=\"1\" class=\"dataframe\">\n  <thead>\n    <tr style=\"text-align: right;\">\n      <th></th>\n      <th>label</th>\n      <th>cell_size</th>\n      <th>area</th>\n      <th>eccentricity</th>\n      <th>major_axis_length</th>\n      <th>minor_axis_length</th>\n      <th>perimeter</th>\n      <th>convex_area</th>\n      <th>equivalent_diameter</th>\n      <th>major_minor_axis_ratio</th>\n      <th>perim_square_over_area</th>\n      <th>major_axis_equiv_diam_ratio</th>\n      <th>convex_hull_resid</th>\n      <th>centroid_dif</th>\n      <th>num_concavities</th>\n      <th>fov</th>\n      <th>cell_meta_cluster</th>\n    </tr>\n  </thead>\n  <tbody>\n    <tr>\n      <th>fov0_1</th>\n      <td>1</td>\n      <td>34.0</td>\n      <td>34.0</td>\n      <td>0.699679</td>\n      <td>8.007260</td>\n      <td>5.720845</td>\n      <td>20.485281</td>\n      <td>36.0</td>\n      <td>6.579525</td>\n      <td>1.399664</td>\n      <td>12.342552</td>\n      <td>1.216997</td>\n      <td>0.055556</td>\n      <td>0.022207</td>\n      <td>0.0</td>\n      <td>fov0</td>\n      <td>CD4T</td>\n    </tr>\n    <tr>\n      <th>fov0_2</th>\n      <td>2</td>\n      <td>43.0</td>\n      <td>43.0</td>\n      <td>0.777362</td>\n      <td>9.629459</td>\n      <td>6.057447</td>\n      <td>23.899495</td>\n      <td>45.0</td>\n      <td>7.399277</td>\n      <td>1.589689</td>\n      <td>13.283392</td>\n      <td>1.301405</td>\n      <td>0.044444</td>\n      <td>0.018660</td>\n      <td>0.0</td>\n      <td>fov0</td>\n      <td>CD4T</td>\n    </tr>\n    <tr>\n      <th>fov0_3</th>\n      <td>3</td>\n      <td>51.0</td>\n      <td>51.0</td>\n      <td>0.768859</td>\n      <td>10.126542</td>\n      <td>6.475092</td>\n      <td>25.071068</td>\n      <td>52.0</td>\n      <td>8.058239</td>\n      <td>1.563922</td>\n      <td>12.324675</td>\n      <td>1.256669</td>\n      <td>0.019231</td>\n      <td>0.012862</td>\n      <td>0.0</td>\n      <td>fov0</td>\n      <td>CD4T</td>\n    </tr>\n    <tr>\n      <th>fov0_4</th>\n      <td>4</td>\n      <td>108.0</td>\n      <td>108.0</td>\n      <td>0.796695</td>\n      <td>15.501110</td>\n      <td>9.368588</td>\n      <td>40.384776</td>\n      <td>115.0</td>\n      <td>11.726460</td>\n      <td>1.654583</td>\n      <td>15.101205</td>\n      <td>1.321892</td>\n      <td>0.060870</td>\n      <td>0.021054</td>\n      <td>0.0</td>\n      <td>fov0</td>\n      <td>CD4T</td>\n    </tr>\n    <tr>\n      <th>fov0_5</th>\n      <td>5</td>\n      <td>134.0</td>\n      <td>134.0</td>\n      <td>0.870926</td>\n      <td>18.883940</td>\n      <td>9.279841</td>\n      <td>45.556349</td>\n      <td>138.0</td>\n      <td>13.061933</td>\n      <td>2.034942</td>\n      <td>15.487918</td>\n      <td>1.445723</td>\n      <td>0.028986</td>\n      <td>0.016876</td>\n      <td>0.0</td>\n      <td>fov0</td>\n      <td>CD4T</td>\n    </tr>\n    <tr>\n      <th>...</th>\n      <td>...</td>\n      <td>...</td>\n      <td>...</td>\n      <td>...</td>\n      <td>...</td>\n      <td>...</td>\n      <td>...</td>\n      <td>...</td>\n      <td>...</td>\n      <td>...</td>\n      <td>...</td>\n      <td>...</td>\n      <td>...</td>\n      <td>...</td>\n      <td>...</td>\n      <td>...</td>\n      <td>...</td>\n    </tr>\n    <tr>\n      <th>fov10_2785</th>\n      <td>2785</td>\n      <td>142.0</td>\n      <td>142.0</td>\n      <td>0.820592</td>\n      <td>18.748166</td>\n      <td>10.714859</td>\n      <td>49.006097</td>\n      <td>149.0</td>\n      <td>13.446190</td>\n      <td>1.749735</td>\n      <td>16.912659</td>\n      <td>1.394311</td>\n      <td>0.046980</td>\n      <td>0.018177</td>\n      <td>0.0</td>\n      <td>fov10</td>\n      <td>CD4T</td>\n    </tr>\n    <tr>\n      <th>fov10_2786</th>\n      <td>2786</td>\n      <td>82.0</td>\n      <td>82.0</td>\n      <td>0.808748</td>\n      <td>13.969363</td>\n      <td>8.216162</td>\n      <td>36.313708</td>\n      <td>88.0</td>\n      <td>10.217908</td>\n      <td>1.700230</td>\n      <td>16.081530</td>\n      <td>1.367145</td>\n      <td>0.068182</td>\n      <td>0.009740</td>\n      <td>0.0</td>\n      <td>fov10</td>\n      <td>CD4T</td>\n    </tr>\n    <tr>\n      <th>fov10_2787</th>\n      <td>2787</td>\n      <td>91.0</td>\n      <td>91.0</td>\n      <td>0.902932</td>\n      <td>16.917289</td>\n      <td>7.270758</td>\n      <td>38.727922</td>\n      <td>93.0</td>\n      <td>10.764051</td>\n      <td>2.326757</td>\n      <td>16.481890</td>\n      <td>1.571647</td>\n      <td>0.021505</td>\n      <td>0.008236</td>\n      <td>0.0</td>\n      <td>fov10</td>\n      <td>CD4T</td>\n    </tr>\n    <tr>\n      <th>fov10_2788</th>\n      <td>2788</td>\n      <td>170.0</td>\n      <td>170.0</td>\n      <td>0.899438</td>\n      <td>23.352031</td>\n      <td>10.205950</td>\n      <td>56.970563</td>\n      <td>181.0</td>\n      <td>14.712264</td>\n      <td>2.288080</td>\n      <td>19.092030</td>\n      <td>1.587249</td>\n      <td>0.060773</td>\n      <td>0.012740</td>\n      <td>0.0</td>\n      <td>fov10</td>\n      <td>CD4T</td>\n    </tr>\n    <tr>\n      <th>fov10_2789</th>\n      <td>2789</td>\n      <td>83.0</td>\n      <td>83.0</td>\n      <td>0.816140</td>\n      <td>13.766262</td>\n      <td>7.954890</td>\n      <td>34.485281</td>\n      <td>87.0</td>\n      <td>10.280023</td>\n      <td>1.730541</td>\n      <td>14.328128</td>\n      <td>1.339127</td>\n      <td>0.045977</td>\n      <td>0.015038</td>\n      <td>0.0</td>\n      <td>fov10</td>\n      <td>CD4T</td>\n    </tr>\n  </tbody>\n</table>\n<p>2805 rows × 17 columns</p>\n</div>"
     },
     "execution_count": 70,
     "metadata": {},
     "output_type": "execute_result"
    }
   ],
   "source": [
    "fovs_ac_cd4t = fovs_ac[fovs_ac.obs[\"cell_meta_cluster\"] == \"CD4T\"]\n",
    "fovs_ac_cd4t.obs.df"
   ],
   "metadata": {
    "collapsed": false,
    "ExecuteTime": {
     "end_time": "2023-11-30T00:32:47.657151Z",
     "start_time": "2023-11-30T00:32:47.623217Z"
    }
   }
  },
  {
   "cell_type": "markdown",
   "source": [
    "As another example, we can select just one FOV from the `AnnCollection` by filtering on the `fov` column of the `obs` DataFrame."
   ],
   "metadata": {
    "collapsed": false
   }
  },
  {
   "cell_type": "code",
   "execution_count": 74,
   "outputs": [
    {
     "data": {
      "text/plain": "          label  cell_size   area  eccentricity  major_axis_length  \\\nfov0_1        1       34.0   34.0      0.699679           8.007260   \nfov0_2        2       43.0   43.0      0.777362           9.629459   \nfov0_3        3       51.0   51.0      0.768859          10.126542   \nfov0_4        4      108.0  108.0      0.796695          15.501110   \nfov0_5        5      134.0  134.0      0.870926          18.883940   \n...         ...        ...    ...           ...                ...   \nfov0_665    665      141.0  141.0      0.822785          17.971267   \nfov0_666    666       84.0   84.0      0.737387          12.794899   \nfov0_667    667      161.0  161.0      0.875925          21.060249   \nfov0_668    668       34.0   34.0      0.641350           7.787536   \nfov0_669    669       94.0   94.0      0.947549          19.831913   \n\n          minor_axis_length  perimeter  convex_area  equivalent_diameter  \\\nfov0_1             5.720845  20.485281         36.0             6.579525   \nfov0_2             6.057447  23.899495         45.0             7.399277   \nfov0_3             6.475092  25.071068         52.0             8.058239   \nfov0_4             9.368588  40.384776        115.0            11.726460   \nfov0_5             9.279841  45.556349        138.0            13.061933   \n...                     ...        ...          ...                  ...   \nfov0_665          10.214027  46.763456        151.0            13.398760   \nfov0_666           8.642579  33.899495         89.0            10.341766   \nfov0_667          10.160460  52.556349        175.0            14.317527   \nfov0_668           5.974973  20.863961         37.0             6.579525   \nfov0_669           6.338489  42.621320        100.0            10.940042   \n\n          major_minor_axis_ratio  perim_square_over_area  \\\nfov0_1                  1.399664               12.342552   \nfov0_2                  1.589689               13.283392   \nfov0_3                  1.563922               12.324675   \nfov0_4                  1.654583               15.101205   \nfov0_5                  2.034942               15.487918   \n...                          ...                     ...   \nfov0_665                1.759469               15.509367   \nfov0_666                1.480449               13.680664   \nfov0_667                2.072765               17.156334   \nfov0_668                1.303359               12.803084   \nfov0_669                3.128808               19.325287   \n\n          major_axis_equiv_diam_ratio  convex_hull_resid  centroid_dif  \\\nfov0_1                       1.216997           0.055556      0.022207   \nfov0_2                       1.301405           0.044444      0.018660   \nfov0_3                       1.256669           0.019231      0.012862   \nfov0_4                       1.321892           0.060870      0.021054   \nfov0_5                       1.445723           0.028986      0.016876   \n...                               ...                ...           ...   \nfov0_665                     1.341263           0.066225      0.013487   \nfov0_666                     1.237206           0.056180      0.008697   \nfov0_667                     1.470942           0.080000      0.018782   \nfov0_668                     1.183602           0.081081      0.030461   \nfov0_669                     1.812782           0.060000      0.016618   \n\n          num_concavities   fov cell_meta_cluster  \nfov0_1                0.0  fov0              CD4T  \nfov0_2                0.0  fov0              CD4T  \nfov0_3                0.0  fov0              CD4T  \nfov0_4                0.0  fov0              CD4T  \nfov0_5                0.0  fov0              CD4T  \n...                   ...   ...               ...  \nfov0_665              0.0  fov0              CD4T  \nfov0_666              0.0  fov0              CD4T  \nfov0_667              0.0  fov0             Bcell  \nfov0_668              0.0  fov0              CD4T  \nfov0_669              0.0  fov0             Bcell  \n\n[669 rows x 17 columns]",
      "text/html": "<div>\n<style scoped>\n    .dataframe tbody tr th:only-of-type {\n        vertical-align: middle;\n    }\n\n    .dataframe tbody tr th {\n        vertical-align: top;\n    }\n\n    .dataframe thead th {\n        text-align: right;\n    }\n</style>\n<table border=\"1\" class=\"dataframe\">\n  <thead>\n    <tr style=\"text-align: right;\">\n      <th></th>\n      <th>label</th>\n      <th>cell_size</th>\n      <th>area</th>\n      <th>eccentricity</th>\n      <th>major_axis_length</th>\n      <th>minor_axis_length</th>\n      <th>perimeter</th>\n      <th>convex_area</th>\n      <th>equivalent_diameter</th>\n      <th>major_minor_axis_ratio</th>\n      <th>perim_square_over_area</th>\n      <th>major_axis_equiv_diam_ratio</th>\n      <th>convex_hull_resid</th>\n      <th>centroid_dif</th>\n      <th>num_concavities</th>\n      <th>fov</th>\n      <th>cell_meta_cluster</th>\n    </tr>\n  </thead>\n  <tbody>\n    <tr>\n      <th>fov0_1</th>\n      <td>1</td>\n      <td>34.0</td>\n      <td>34.0</td>\n      <td>0.699679</td>\n      <td>8.007260</td>\n      <td>5.720845</td>\n      <td>20.485281</td>\n      <td>36.0</td>\n      <td>6.579525</td>\n      <td>1.399664</td>\n      <td>12.342552</td>\n      <td>1.216997</td>\n      <td>0.055556</td>\n      <td>0.022207</td>\n      <td>0.0</td>\n      <td>fov0</td>\n      <td>CD4T</td>\n    </tr>\n    <tr>\n      <th>fov0_2</th>\n      <td>2</td>\n      <td>43.0</td>\n      <td>43.0</td>\n      <td>0.777362</td>\n      <td>9.629459</td>\n      <td>6.057447</td>\n      <td>23.899495</td>\n      <td>45.0</td>\n      <td>7.399277</td>\n      <td>1.589689</td>\n      <td>13.283392</td>\n      <td>1.301405</td>\n      <td>0.044444</td>\n      <td>0.018660</td>\n      <td>0.0</td>\n      <td>fov0</td>\n      <td>CD4T</td>\n    </tr>\n    <tr>\n      <th>fov0_3</th>\n      <td>3</td>\n      <td>51.0</td>\n      <td>51.0</td>\n      <td>0.768859</td>\n      <td>10.126542</td>\n      <td>6.475092</td>\n      <td>25.071068</td>\n      <td>52.0</td>\n      <td>8.058239</td>\n      <td>1.563922</td>\n      <td>12.324675</td>\n      <td>1.256669</td>\n      <td>0.019231</td>\n      <td>0.012862</td>\n      <td>0.0</td>\n      <td>fov0</td>\n      <td>CD4T</td>\n    </tr>\n    <tr>\n      <th>fov0_4</th>\n      <td>4</td>\n      <td>108.0</td>\n      <td>108.0</td>\n      <td>0.796695</td>\n      <td>15.501110</td>\n      <td>9.368588</td>\n      <td>40.384776</td>\n      <td>115.0</td>\n      <td>11.726460</td>\n      <td>1.654583</td>\n      <td>15.101205</td>\n      <td>1.321892</td>\n      <td>0.060870</td>\n      <td>0.021054</td>\n      <td>0.0</td>\n      <td>fov0</td>\n      <td>CD4T</td>\n    </tr>\n    <tr>\n      <th>fov0_5</th>\n      <td>5</td>\n      <td>134.0</td>\n      <td>134.0</td>\n      <td>0.870926</td>\n      <td>18.883940</td>\n      <td>9.279841</td>\n      <td>45.556349</td>\n      <td>138.0</td>\n      <td>13.061933</td>\n      <td>2.034942</td>\n      <td>15.487918</td>\n      <td>1.445723</td>\n      <td>0.028986</td>\n      <td>0.016876</td>\n      <td>0.0</td>\n      <td>fov0</td>\n      <td>CD4T</td>\n    </tr>\n    <tr>\n      <th>...</th>\n      <td>...</td>\n      <td>...</td>\n      <td>...</td>\n      <td>...</td>\n      <td>...</td>\n      <td>...</td>\n      <td>...</td>\n      <td>...</td>\n      <td>...</td>\n      <td>...</td>\n      <td>...</td>\n      <td>...</td>\n      <td>...</td>\n      <td>...</td>\n      <td>...</td>\n      <td>...</td>\n      <td>...</td>\n    </tr>\n    <tr>\n      <th>fov0_665</th>\n      <td>665</td>\n      <td>141.0</td>\n      <td>141.0</td>\n      <td>0.822785</td>\n      <td>17.971267</td>\n      <td>10.214027</td>\n      <td>46.763456</td>\n      <td>151.0</td>\n      <td>13.398760</td>\n      <td>1.759469</td>\n      <td>15.509367</td>\n      <td>1.341263</td>\n      <td>0.066225</td>\n      <td>0.013487</td>\n      <td>0.0</td>\n      <td>fov0</td>\n      <td>CD4T</td>\n    </tr>\n    <tr>\n      <th>fov0_666</th>\n      <td>666</td>\n      <td>84.0</td>\n      <td>84.0</td>\n      <td>0.737387</td>\n      <td>12.794899</td>\n      <td>8.642579</td>\n      <td>33.899495</td>\n      <td>89.0</td>\n      <td>10.341766</td>\n      <td>1.480449</td>\n      <td>13.680664</td>\n      <td>1.237206</td>\n      <td>0.056180</td>\n      <td>0.008697</td>\n      <td>0.0</td>\n      <td>fov0</td>\n      <td>CD4T</td>\n    </tr>\n    <tr>\n      <th>fov0_667</th>\n      <td>667</td>\n      <td>161.0</td>\n      <td>161.0</td>\n      <td>0.875925</td>\n      <td>21.060249</td>\n      <td>10.160460</td>\n      <td>52.556349</td>\n      <td>175.0</td>\n      <td>14.317527</td>\n      <td>2.072765</td>\n      <td>17.156334</td>\n      <td>1.470942</td>\n      <td>0.080000</td>\n      <td>0.018782</td>\n      <td>0.0</td>\n      <td>fov0</td>\n      <td>Bcell</td>\n    </tr>\n    <tr>\n      <th>fov0_668</th>\n      <td>668</td>\n      <td>34.0</td>\n      <td>34.0</td>\n      <td>0.641350</td>\n      <td>7.787536</td>\n      <td>5.974973</td>\n      <td>20.863961</td>\n      <td>37.0</td>\n      <td>6.579525</td>\n      <td>1.303359</td>\n      <td>12.803084</td>\n      <td>1.183602</td>\n      <td>0.081081</td>\n      <td>0.030461</td>\n      <td>0.0</td>\n      <td>fov0</td>\n      <td>CD4T</td>\n    </tr>\n    <tr>\n      <th>fov0_669</th>\n      <td>669</td>\n      <td>94.0</td>\n      <td>94.0</td>\n      <td>0.947549</td>\n      <td>19.831913</td>\n      <td>6.338489</td>\n      <td>42.621320</td>\n      <td>100.0</td>\n      <td>10.940042</td>\n      <td>3.128808</td>\n      <td>19.325287</td>\n      <td>1.812782</td>\n      <td>0.060000</td>\n      <td>0.016618</td>\n      <td>0.0</td>\n      <td>fov0</td>\n      <td>Bcell</td>\n    </tr>\n  </tbody>\n</table>\n<p>669 rows × 17 columns</p>\n</div>"
     },
     "execution_count": 74,
     "metadata": {},
     "output_type": "execute_result"
    }
   ],
   "source": [
    "fov0_adata = fovs_ac[fovs_ac.obs[\"fov\"] == \"fov0\"]\n",
    "\n",
    "fov0_adata.obs.df"
   ],
   "metadata": {
    "collapsed": false,
    "ExecuteTime": {
     "end_time": "2023-11-30T00:47:38.722054Z",
     "start_time": "2023-11-30T00:47:38.689525Z"
    }
   }
  },
  {
   "cell_type": "markdown",
   "source": [
    "## 3. Dataloaders\n",
    "\n",
    "[`torchdata`](https://pytorch.org/data/beta/index.html) provides us the ability to construct various dataloaders, datapipes and apply functions or models to them, one FOV at a time."
   ],
   "metadata": {
    "collapsed": false
   }
  },
  {
   "cell_type": "code",
   "execution_count": 75,
   "outputs": [],
   "source": [
    "from torchdata.dataloader2.dataloader2 import DataLoader2"
   ],
   "metadata": {
    "collapsed": false,
    "ExecuteTime": {
     "end_time": "2023-11-30T00:47:40.816935Z",
     "start_time": "2023-11-30T00:47:40.788190Z"
    }
   }
  },
  {
   "cell_type": "code",
   "execution_count": 76,
   "outputs": [],
   "source": [
    "adata_ip = AnnDataIterDataPipe(fovs=fovs_ac)"
   ],
   "metadata": {
    "collapsed": false,
    "ExecuteTime": {
     "end_time": "2023-11-30T00:47:43.498949Z",
     "start_time": "2023-11-30T00:47:43.472795Z"
    }
   }
  },
  {
   "cell_type": "markdown",
   "source": [
    "In this example of we construct a TorchData `IterDataPipe` with the AnnData Objects of each FOV, and then we apply a function to each FOV contained in this `IterDataPipe`."
   ],
   "metadata": {
    "collapsed": false
   }
  },
  {
   "cell_type": "code",
   "execution_count": 77,
   "outputs": [],
   "source": [
    "def filter_adata_by_cluster(adata, cluster):\n",
    "    return adata[adata.obs[\"cell_meta_cluster\"] == cluster]"
   ],
   "metadata": {
    "collapsed": false,
    "ExecuteTime": {
     "end_time": "2023-11-30T00:49:59.149255Z",
     "start_time": "2023-11-30T00:49:59.120603Z"
    }
   }
  },
  {
   "cell_type": "code",
   "execution_count": 80,
   "outputs": [],
   "source": [
    "fovs_ac_cd4t_iter = adata_ip.map(lambda fov: filter_adata_by_cluster(fov, \"CD4T\"))"
   ],
   "metadata": {
    "collapsed": false,
    "ExecuteTime": {
     "end_time": "2023-11-30T00:50:45.788177Z",
     "start_time": "2023-11-30T00:50:45.764732Z"
    }
   }
  },
  {
   "cell_type": "markdown",
   "source": [
    "We can then create a DataLoader from this `IterDataPipe` and iterate over it."
   ],
   "metadata": {
    "collapsed": false
   }
  },
  {
   "cell_type": "code",
   "execution_count": 82,
   "outputs": [],
   "source": [
    "fovs_ac_cd4t_dl = DataLoader2(fovs_ac_cd4t_iter)"
   ],
   "metadata": {
    "collapsed": false,
    "ExecuteTime": {
     "end_time": "2023-11-30T00:51:40.889120Z",
     "start_time": "2023-11-30T00:51:40.685676Z"
    }
   }
  },
  {
   "cell_type": "code",
   "execution_count": 83,
   "outputs": [
    {
     "name": "stdout",
     "output_type": "stream",
     "text": [
      "View of AnnData object with n_obs × n_vars = 221 × 22\n",
      "    obs: 'label', 'cell_size', 'area', 'eccentricity', 'major_axis_length', 'minor_axis_length', 'perimeter', 'convex_area', 'equivalent_diameter', 'major_minor_axis_ratio', 'perim_square_over_area', 'major_axis_equiv_diam_ratio', 'convex_hull_resid', 'centroid_dif', 'num_concavities', 'fov', 'cell_meta_cluster'\n",
      "    obsm: 'spatial'\n",
      "View of AnnData object with n_obs × n_vars = 47 × 22\n",
      "    obs: 'label', 'cell_size', 'area', 'eccentricity', 'major_axis_length', 'minor_axis_length', 'perimeter', 'convex_area', 'equivalent_diameter', 'major_minor_axis_ratio', 'perim_square_over_area', 'major_axis_equiv_diam_ratio', 'convex_hull_resid', 'centroid_dif', 'num_concavities', 'fov', 'cell_meta_cluster'\n",
      "    obsm: 'spatial'\n",
      "View of AnnData object with n_obs × n_vars = 3 × 22\n",
      "    obs: 'label', 'cell_size', 'area', 'eccentricity', 'major_axis_length', 'minor_axis_length', 'perimeter', 'convex_area', 'equivalent_diameter', 'major_minor_axis_ratio', 'perim_square_over_area', 'major_axis_equiv_diam_ratio', 'convex_hull_resid', 'centroid_dif', 'num_concavities', 'fov', 'cell_meta_cluster'\n",
      "    obsm: 'spatial'\n",
      "View of AnnData object with n_obs × n_vars = 433 × 22\n",
      "    obs: 'label', 'cell_size', 'area', 'eccentricity', 'major_axis_length', 'minor_axis_length', 'perimeter', 'convex_area', 'equivalent_diameter', 'major_minor_axis_ratio', 'perim_square_over_area', 'major_axis_equiv_diam_ratio', 'convex_hull_resid', 'centroid_dif', 'num_concavities', 'fov', 'cell_meta_cluster'\n",
      "    obsm: 'spatial'\n",
      "View of AnnData object with n_obs × n_vars = 52 × 22\n",
      "    obs: 'label', 'cell_size', 'area', 'eccentricity', 'major_axis_length', 'minor_axis_length', 'perimeter', 'convex_area', 'equivalent_diameter', 'major_minor_axis_ratio', 'perim_square_over_area', 'major_axis_equiv_diam_ratio', 'convex_hull_resid', 'centroid_dif', 'num_concavities', 'fov', 'cell_meta_cluster'\n",
      "    obsm: 'spatial'\n",
      "View of AnnData object with n_obs × n_vars = 4 × 22\n",
      "    obs: 'label', 'cell_size', 'area', 'eccentricity', 'major_axis_length', 'minor_axis_length', 'perimeter', 'convex_area', 'equivalent_diameter', 'major_minor_axis_ratio', 'perim_square_over_area', 'major_axis_equiv_diam_ratio', 'convex_hull_resid', 'centroid_dif', 'num_concavities', 'fov', 'cell_meta_cluster'\n",
      "    obsm: 'spatial'\n",
      "View of AnnData object with n_obs × n_vars = 160 × 22\n",
      "    obs: 'label', 'cell_size', 'area', 'eccentricity', 'major_axis_length', 'minor_axis_length', 'perimeter', 'convex_area', 'equivalent_diameter', 'major_minor_axis_ratio', 'perim_square_over_area', 'major_axis_equiv_diam_ratio', 'convex_hull_resid', 'centroid_dif', 'num_concavities', 'fov', 'cell_meta_cluster'\n",
      "    obsm: 'spatial'\n",
      "View of AnnData object with n_obs × n_vars = 1 × 22\n",
      "    obs: 'label', 'cell_size', 'area', 'eccentricity', 'major_axis_length', 'minor_axis_length', 'perimeter', 'convex_area', 'equivalent_diameter', 'major_minor_axis_ratio', 'perim_square_over_area', 'major_axis_equiv_diam_ratio', 'convex_hull_resid', 'centroid_dif', 'num_concavities', 'fov', 'cell_meta_cluster'\n",
      "    obsm: 'spatial'\n",
      "View of AnnData object with n_obs × n_vars = 812 × 22\n",
      "    obs: 'label', 'cell_size', 'area', 'eccentricity', 'major_axis_length', 'minor_axis_length', 'perimeter', 'convex_area', 'equivalent_diameter', 'major_minor_axis_ratio', 'perim_square_over_area', 'major_axis_equiv_diam_ratio', 'convex_hull_resid', 'centroid_dif', 'num_concavities', 'fov', 'cell_meta_cluster'\n",
      "    obsm: 'spatial'\n",
      "View of AnnData object with n_obs × n_vars = 158 × 22\n",
      "    obs: 'label', 'cell_size', 'area', 'eccentricity', 'major_axis_length', 'minor_axis_length', 'perimeter', 'convex_area', 'equivalent_diameter', 'major_minor_axis_ratio', 'perim_square_over_area', 'major_axis_equiv_diam_ratio', 'convex_hull_resid', 'centroid_dif', 'num_concavities', 'fov', 'cell_meta_cluster'\n",
      "    obsm: 'spatial'\n",
      "View of AnnData object with n_obs × n_vars = 914 × 22\n",
      "    obs: 'label', 'cell_size', 'area', 'eccentricity', 'major_axis_length', 'minor_axis_length', 'perimeter', 'convex_area', 'equivalent_diameter', 'major_minor_axis_ratio', 'perim_square_over_area', 'major_axis_equiv_diam_ratio', 'convex_hull_resid', 'centroid_dif', 'num_concavities', 'fov', 'cell_meta_cluster'\n",
      "    obsm: 'spatial'\n"
     ]
    }
   ],
   "source": [
    "for fov in fovs_ac_cd4t_dl:\n",
    "    print(fov)"
   ],
   "metadata": {
    "collapsed": false,
    "ExecuteTime": {
     "end_time": "2023-11-30T00:51:54.177927Z",
     "start_time": "2023-11-30T00:51:54.141135Z"
    }
   }
  },
  {
   "cell_type": "markdown",
   "source": [
    "We can chain together multiple `IterDataPipes` to create a more complex pipeline. In this example, we first filter the `AnnCollection` to only include cells that have a `cell_meta_cluster` label of `\"CD4T\"`, and then we filter the `AnnCollection` to only include cells which are above a certain area threshold."
   ],
   "metadata": {
    "collapsed": false
   }
  },
  {
   "cell_type": "code",
   "execution_count": 85,
   "outputs": [],
   "source": [
    "fovs_ac_cd4t_large_cells = fovs_ac_cd4t_iter.map(lambda fov: fov[fov.obs[\"area\"] > 100])"
   ],
   "metadata": {
    "collapsed": false,
    "ExecuteTime": {
     "end_time": "2023-11-30T00:58:48.270622Z",
     "start_time": "2023-11-30T00:58:48.246108Z"
    }
   }
  },
  {
   "cell_type": "code",
   "execution_count": 86,
   "outputs": [],
   "source": [
    "from torchdata.datapipes.utils import to_graph"
   ],
   "metadata": {
    "collapsed": false,
    "ExecuteTime": {
     "end_time": "2023-11-30T00:59:29.306079Z",
     "start_time": "2023-11-30T00:59:29.280565Z"
    }
   }
  },
  {
   "cell_type": "markdown",
   "source": [
    "We can visualize the pipeline that we have constructed."
   ],
   "metadata": {
    "collapsed": false
   }
  },
  {
   "cell_type": "code",
   "execution_count": 88,
   "outputs": [
    {
     "data": {
      "image/svg+xml": "<?xml version=\"1.0\" encoding=\"UTF-8\" standalone=\"no\"?>\n<!DOCTYPE svg PUBLIC \"-//W3C//DTD SVG 1.1//EN\"\n \"http://www.w3.org/Graphics/SVG/1.1/DTD/svg11.dtd\">\n<!-- Generated by graphviz version 9.0.0 (20230911.1827)\n -->\n<!-- Pages: 1 -->\n<svg width=\"66pt\" height=\"138pt\"\n viewBox=\"0.00 0.00 66.00 137.75\" xmlns=\"http://www.w3.org/2000/svg\" xmlns:xlink=\"http://www.w3.org/1999/xlink\">\n<g id=\"graph0\" class=\"graph\" transform=\"scale(1 1) rotate(0) translate(4 133.75)\">\n<polygon fill=\"white\" stroke=\"none\" points=\"-4,4 -4,-133.75 62,-133.75 62,4 -4,4\"/>\n<!-- Mapper&#45;790322001 -->\n<g id=\"node1\" class=\"node\">\n<title>Mapper&#45;790322001</title>\n<polygon fill=\"#caff70\" stroke=\"black\" points=\"56,-19.25 2,-19.25 2,0 56,0 56,-19.25\"/>\n<text text-anchor=\"middle\" x=\"29\" y=\"-5.75\" font-family=\"monospace\" font-size=\"10.00\">Mapper</text>\n</g>\n<!-- AnnData&#45;811775129 -->\n<g id=\"node2\" class=\"node\">\n<title>AnnData&#45;811775129</title>\n<polygon fill=\"lightblue\" stroke=\"black\" points=\"58,-129.75 0,-129.75 0,-110.5 58,-110.5 58,-129.75\"/>\n<text text-anchor=\"middle\" x=\"29\" y=\"-116.25\" font-family=\"monospace\" font-size=\"10.00\">AnnData</text>\n</g>\n<!-- Mapper&#45;803395337 -->\n<g id=\"node3\" class=\"node\">\n<title>Mapper&#45;803395337</title>\n<polygon fill=\"lightgrey\" stroke=\"black\" points=\"56,-74.5 2,-74.5 2,-55.25 56,-55.25 56,-74.5\"/>\n<text text-anchor=\"middle\" x=\"29\" y=\"-61\" font-family=\"monospace\" font-size=\"10.00\">Mapper</text>\n</g>\n<!-- AnnData&#45;811775129&#45;&gt;Mapper&#45;803395337 -->\n<g id=\"edge1\" class=\"edge\">\n<title>AnnData&#45;811775129&#45;&gt;Mapper&#45;803395337</title>\n<path fill=\"none\" stroke=\"black\" d=\"M29,-110.33C29,-103.82 29,-94.67 29,-86.37\"/>\n<polygon fill=\"black\" stroke=\"black\" points=\"32.5,-86.37 29,-76.37 25.5,-86.37 32.5,-86.37\"/>\n</g>\n<!-- Mapper&#45;803395337&#45;&gt;Mapper&#45;790322001 -->\n<g id=\"edge2\" class=\"edge\">\n<title>Mapper&#45;803395337&#45;&gt;Mapper&#45;790322001</title>\n<path fill=\"none\" stroke=\"black\" d=\"M29,-55.08C29,-48.57 29,-39.42 29,-31.12\"/>\n<polygon fill=\"black\" stroke=\"black\" points=\"32.5,-31.12 29,-21.12 25.5,-31.12 32.5,-31.12\"/>\n</g>\n</g>\n</svg>\n",
      "text/plain": "<graphviz.graphs.Digraph at 0x31a3b59d0>"
     },
     "execution_count": 88,
     "metadata": {},
     "output_type": "execute_result"
    }
   ],
   "source": [
    "to_graph(fovs_ac_cd4t_large_cells)"
   ],
   "metadata": {
    "collapsed": false,
    "ExecuteTime": {
     "end_time": "2023-11-30T01:00:17.459957Z",
     "start_time": "2023-11-30T01:00:16.475143Z"
    }
   }
  },
  {
   "cell_type": "markdown",
   "source": [
    "And just like before, we can construct a DataLoader from this `IterDataPipe` and iterate over it efficiently on a FOV by FOV basis."
   ],
   "metadata": {
    "collapsed": false
   }
  },
  {
   "cell_type": "code",
   "execution_count": 89,
   "outputs": [],
   "source": [
    "fovs_ac_cd4t_large_cells_dl = DataLoader2(fovs_ac_cd4t_large_cells)"
   ],
   "metadata": {
    "collapsed": false,
    "ExecuteTime": {
     "end_time": "2023-11-30T01:04:57.249460Z",
     "start_time": "2023-11-30T01:04:56.419081Z"
    }
   }
  },
  {
   "cell_type": "code",
   "execution_count": null,
   "outputs": [],
   "source": [],
   "metadata": {
    "collapsed": false
   }
  }
 ],
 "metadata": {
  "kernelspec": {
   "display_name": "ark",
   "language": "python",
   "name": "python3"
  },
  "language_info": {
   "codemirror_mode": {
    "name": "ipython",
    "version": 3
   },
   "file_extension": ".py",
   "mimetype": "text/x-python",
   "name": "python",
   "nbconvert_exporter": "python",
   "pygments_lexer": "ipython3",
   "version": "3.11.5"
  }
 },
 "nbformat": 4,
 "nbformat_minor": 2
}
