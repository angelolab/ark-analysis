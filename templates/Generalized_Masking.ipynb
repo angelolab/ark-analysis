{
 "cells": [
  {
   "cell_type": "markdown",
   "id": "c63b9566-a91f-4979-b203-61d4a19e6f32",
   "metadata": {},
   "source": [
    "# Generalized Masking Notebook"
   ]
  },
  {
   "cell_type": "code",
   "execution_count": null,
   "id": "9924c6a4-be98-41c3-815f-fadde229ae60",
   "metadata": {},
   "outputs": [],
   "source": [
    "import os\n",
    "\n",
    "import ark.settings as settings\n",
    "from ark.utils import masking_utils"
   ]
  },
  {
   "cell_type": "markdown",
   "id": "983ccb28-f26c-41fb-97ac-44d36386c614",
   "metadata": {},
   "source": [
    "### Path Setup\n",
    "* `base_dir`: the path to the main folder containing all of your imaging data. This directory will also store all of the directories/files created during analysis\n",
    "* `img_dir`: path to the directory containing your imaging data. Images should be single-channel TIFFs.\n",
    "* `segmentation_dir`: path to the directory containing your segmentations, which can be generated using [Mesmer cell segmentation](1_Segment_Image_Data.ipynb)\n",
    "* `mask_dir`: path for a new directory that will be created for the mask outputs\n",
    "* `cell_table_path`: the path to the cell table that contains columns for fov, cell label, and cell phenotype (generated from [Pixie cell clustering](3_Pixie_Cluster_Cells.ipynb)"
   ]
  },
  {
   "cell_type": "code",
   "execution_count": null,
   "id": "2a07b37f-7eef-4182-8f52-3d02834b822d",
   "metadata": {},
   "outputs": [],
   "source": [
    "base_dir = \"../data/example_dataset\""
   ]
  },
  {
   "cell_type": "code",
   "execution_count": null,
   "id": "3ccfcd25-513c-4865-9591-ae59bff98f96",
   "metadata": {},
   "outputs": [],
   "source": [
    "img_dir = os.path.join(base_dir, \"image_data\")\n",
    "seg_dir = segmentation_dir = os.path.join(base_dir, \"segmentation/deepcell_output\")\n",
    "mask_dir = os.path.join(base_dir, \"mask_dir\")\n",
    "\n",
    "cell_table_path = os.path.join(base_dir, \"segmentation/cell_table/cell_table_size_normalized_cell_labels.csv\")"
   ]
  },
  {
   "cell_type": "markdown",
   "id": "15da6f7c-944d-4456-8a33-0a874a9afa84",
   "metadata": {},
   "source": [
    "## Signal Masking\n",
    "Below you can generate masks based on signal images. For the channels variable, you can include either a list of just a single channel, or specify multiple channels. If more than one channel is provided, a composite array of the aggregated signal inputs will be used for masking.\n",
    "* `channels`: a list of channels you would like to mask\n",
    "* `mask_name`: the mask name that will be saved in 'mask_dir/fov_name' subfolder "
   ]
  },
  {
   "cell_type": "markdown",
   "id": "891cf120-00ed-401a-b179-b19df094b043",
   "metadata": {},
   "source": [
    "* `sigma`: the standard deviation for Gaussian kernel, used for blurring the image\n",
    "* `min_object_area`:  the minimum area (in pixels) of an object to capture\n",
    "* `max_hole_area`: the maximum area (in pixels) of a contiguous hole that will be filled"
   ]
  },
  {
   "cell_type": "code",
   "execution_count": null,
   "id": "f287dd53-5a2d-42ff-9d62-029e7f351f4a",
   "metadata": {},
   "outputs": [],
   "source": [
    "channels = ['Au']\n",
    "mask_name = 'gold_mask'\n",
    "\n",
    "sigma=10\n",
    "min_object_area=3500\n",
    "max_hole_area=1000"
   ]
  },
  {
   "cell_type": "code",
   "execution_count": null,
   "id": "3225d051-1400-4394-9398-f641afda6012",
   "metadata": {},
   "outputs": [],
   "source": [
    "masking_utils.generate_signal_masks(img_dir, mask_dir, channels, mask_name, intensity_thresh_perc=\"auto\", \n",
    "                                    sigma=sigma, min_object_area=min_object_area, max_hole_area=max_hole_area)"
   ]
  },
  {
   "cell_type": "markdown",
   "id": "12a0744d-22b5-4538-a0a0-c39a35c53dc6",
   "metadata": {},
   "source": [
    "## Cell Masking\n",
    "Below you can generate masks based on cell segmentations and phenotype. \n",
    "* `cell_types`: a list of cells you would like to combine into a mask\n",
    "* `cluster_col`: the column containing the cell phenotypes\n",
    "* `mask_name`: the mask name that will be saved in 'mask_dir/fov_name' subfolder "
   ]
  },
  {
   "cell_type": "markdown",
   "id": "76ad755b-558d-4098-a930-1db9ddc3c0e4",
   "metadata": {},
   "source": [
    "* `sigma`: the standard deviation for Gaussian kernel, used for blurring the image\n",
    "* `max_hole_area`: the maximum area (in pixels) of a contiguous hole that will be filled"
   ]
  },
  {
   "cell_type": "code",
   "execution_count": null,
   "id": "1451cbe4-0caf-44fc-9390-c62ada08f18d",
   "metadata": {
    "tags": []
   },
   "outputs": [],
   "source": [
    "cell_types = ['Cancer']\n",
    "cluster_col = settings.cell_type\n",
    "mask_name = \"cancer_mask\"\n",
    "\n",
    "sigma=10\n",
    "max_hole_area=1000"
   ]
  },
  {
   "cell_type": "code",
   "execution_count": null,
   "id": "c07710f8-ce15-4f48-b933-454bdbed3896",
   "metadata": {},
   "outputs": [],
   "source": [
    "cell_table = pd.read_csv(cell_table_path)\n",
    "\n",
    "masking_utils.generate_cell_masks(seg_dir, mask_dir, cell_table, cell_types, mask_name, cluster_col, \n",
    "                                  sigma=sigma, max_hole_area=max_hole_area)"
   ]
  }
 ],
 "metadata": {
  "kernelspec": {
   "display_name": "ark_env",
   "language": "python",
   "name": "ark_env"
  },
  "language_info": {
   "codemirror_mode": {
    "name": "ipython",
    "version": 3
   },
   "file_extension": ".py",
   "mimetype": "text/x-python",
   "name": "python",
   "nbconvert_exporter": "python",
   "pygments_lexer": "ipython3",
   "version": "3.10.14"
  }
 },
 "nbformat": 4,
 "nbformat_minor": 5
}
