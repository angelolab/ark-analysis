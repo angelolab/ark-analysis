{
 "cells": [
  {
   "cell_type": "code",
   "execution_count": 1,
   "id": "11d4478a",
   "metadata": {},
   "outputs": [],
   "source": [
    "%matplotlib widget\n",
    "import matplotlib.pyplot as plt\n",
    "plt.ion()\n",
    "\n",
    "import sys\n",
    "from ark.utils.metacluster_remap_gui import MetaClusterData, MetaClusterGui"
   ]
  },
  {
   "cell_type": "code",
   "execution_count": 17,
   "id": "ffb91522-a126-4c93-b721-dfed29d5e932",
   "metadata": {},
   "outputs": [
    {
     "data": {
      "application/vnd.jupyter.widget-view+json": {
       "model_id": "698f3ee2ff6743a0ba89fa52f3e15c7f",
       "version_major": 2,
       "version_minor": 0
      },
      "text/plain": [
       "Canvas(toolbar=Toolbar(toolitems=[('Home', 'Reset original view', 'home', 'home'), ('Back', 'Back to  previous…"
      ]
     },
     "metadata": {},
     "output_type": "display_data"
    },
    {
     "data": {
      "application/vnd.jupyter.widget-view+json": {
       "model_id": "ad005b3aaf594a748d05c6aef348b1b9",
       "version_major": 2,
       "version_minor": 0
      },
      "text/plain": [
       "FloatSlider(value=3.0, description='Max Zscore:', max=10.0, min=1.0, readout_format='.1f', step=0.5)"
      ]
     },
     "metadata": {},
     "output_type": "display_data"
    },
    {
     "data": {
      "application/vnd.jupyter.widget-view+json": {
       "model_id": "e2bb2b7bf70e4cd79dc307d24d866777",
       "version_major": 2,
       "version_minor": 0
      },
      "text/plain": [
       "Button(button_style='warning', description='Clear Selection', icon='ban', style=ButtonStyle(), tooltip='Clear …"
      ]
     },
     "metadata": {},
     "output_type": "display_data"
    },
    {
     "data": {
      "application/vnd.jupyter.widget-view+json": {
       "model_id": "95b11c30cc2743e0a3ee1e5fe98da23f",
       "version_major": 2,
       "version_minor": 0
      },
      "text/plain": [
       "Button(button_style='success', description='New metacluster', icon='plus', style=ButtonStyle(), tooltip='Creat…"
      ]
     },
     "metadata": {},
     "output_type": "display_data"
    },
    {
     "data": {
      "application/vnd.jupyter.widget-view+json": {
       "model_id": "30e90e3687674cdc8bd14b40079da6ab",
       "version_major": 2,
       "version_minor": 0
      },
      "text/plain": [
       "Output(layout=Layout(border='1px solid black'), outputs=({'output_type': 'stream', 'name': 'stdout', 'text': '…"
      ]
     },
     "metadata": {},
     "output_type": "display_data"
    }
   ],
   "source": [
    "data = MetaClusterData(\"../data/example_dataset/metaclustering\", \"ex1_clusters_nozscore.csv\", \"ex1_clusters_pixelcount.csv\", \"ex1_output_mapping.csv\")\n",
    "mcg = MetaClusterGui(data, heatmapcolors='viridis', width=17, debug=True)"
   ]
  },
  {
   "cell_type": "markdown",
   "id": "1d1f4aa5-927a-4b29-b6e9-e166350bfd69",
   "metadata": {},
   "source": [
    "# Developers Maintanence Guide\n",
    "\n",
    "This guide is outline/work in progress\n",
    "\n",
    "High level Architecture\n",
    "\n",
    "- MetaClusterData - Data IO and state maintence\n",
    "- MetaClusterGui - Handle the \n",
    "\n",
    "This metacluster remapper GUI uses the ipywidgets backend for Matplotlib. Addition widgets are used for extra input/output.\n",
    "\n",
    "How to debug callbacks\n",
    "https://ipywidgets.readthedocs.io/en/latest/examples/Output%20Widget.html#Debugging-errors-in-callbacks-with-the-output-widget"
   ]
  },
  {
   "cell_type": "code",
   "execution_count": 4,
   "id": "d7559c5d-4efc-4229-b4b7-34c052a800ed",
   "metadata": {},
   "outputs": [
    {
     "name": "stdout",
     "output_type": "stream",
     "text": [
      "cp: cannot create regular file '../templates/example_manually_adjust_metaclusters.ipynb': No such file or directory\n"
     ]
    }
   ],
   "source": [
    "# Save out current notebook\n",
    "!cp ./example_manually_adjust_metaclusters.ipynb ../data/example_dataset/metaclustering/example_manually_adjust_metaclusters.ipynb"
   ]
  }
 ],
 "metadata": {
  "kernelspec": {
   "display_name": "Python 3",
   "language": "python",
   "name": "python3"
  },
  "language_info": {
   "codemirror_mode": {
    "name": "ipython",
    "version": 3
   },
   "file_extension": ".py",
   "mimetype": "text/x-python",
   "name": "python",
   "nbconvert_exporter": "python",
   "pygments_lexer": "ipython3",
   "version": "3.6.14"
  }
 },
 "nbformat": 4,
 "nbformat_minor": 5
}
