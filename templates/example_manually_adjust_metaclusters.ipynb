{
 "cells": [
  {
   "cell_type": "code",
   "execution_count": 1,
   "id": "11d4478a",
   "metadata": {},
   "outputs": [],
   "source": [
    "%matplotlib widget\n",
    "import matplotlib.pyplot as plt\n",
    "plt.ion()\n",
    "\n",
    "import sys\n",
    "from ark.utils.metacluster_remap_gui import MetaClusterData, MetaClusterGui, metaclusterdata_from_files"
   ]
  },
  {
   "cell_type": "markdown",
   "id": "2e5ab253-6189-4d14-92e4-494509dddac4",
   "metadata": {},
   "source": [
    "## Launching\n",
    "I have added jupyerlab to the requirements file because it gives more horizontal space to use the GUI, to try this for yourself, after starting jupyter you can change the url to `lab` instead of `tree`.\n",
    "\n",
    "e.g. `http://127.0.0.1:8888/tree/` -> `http://127.0.0.1:8888/lab/`\n",
    "\n",
    "## Usage\n",
    "- To select one or more clusters, click anywhere on either heatmap. Clicking a selected cluster will deselect it.\n",
    "- To remap the selected clusters, right click anywhere on either heatmap.\n",
    "- The bars at the top show the relative size of each cluster.\n",
    "- If you remap all cluster in a metacluster, the metacluster is now *gone*\n",
    "- You can click new metacluster to add current selection to a new metacluster\n",
    "- You final mapping will be in an output file in the same directory as the input files\n",
    "\n",
    "# Startup Options\n",
    "```\n",
    "MetaClusterGui(\n",
    "    data, # MetaClusterData instance\n",
    "    heatmapcolors='viridis', # change the color of the heatmap\n",
    "    width=17, # Adjust the widtch of the display\n",
    "    debug=True, # enable debug mode. See the bottom of this notebook for more matainence info.\n",
    "    )\n",
    "```"
   ]
  },
  {
   "cell_type": "code",
   "execution_count": 2,
   "id": "ffb91522-a126-4c93-b721-dfed29d5e932",
   "metadata": {},
   "outputs": [
    {
     "data": {
      "application/vnd.jupyter.widget-view+json": {
       "model_id": "5554377ff6d243e28d7199ad48a41bae",
       "version_major": 2,
       "version_minor": 0
      },
      "text/plain": [
       "Canvas(toolbar=Toolbar(toolitems=[('Home', 'Reset original view', 'home', 'home'), ('Back', 'Back to  previous…"
      ]
     },
     "metadata": {},
     "output_type": "display_data"
    },
    {
     "data": {
      "application/vnd.jupyter.widget-view+json": {
       "model_id": "5ea4b6ea87244b4cb52532994468b5e2",
       "version_major": 2,
       "version_minor": 0
      },
      "text/plain": [
       "FloatSlider(value=3.0, description='Max Zscore:', max=10.0, min=1.0, readout_format='.1f', step=0.5)"
      ]
     },
     "metadata": {},
     "output_type": "display_data"
    },
    {
     "data": {
      "application/vnd.jupyter.widget-view+json": {
       "model_id": "4d15f2d786a3493e858ce1e134eaf820",
       "version_major": 2,
       "version_minor": 0
      },
      "text/plain": [
       "Button(button_style='warning', description='Clear Selection', icon='ban', style=ButtonStyle(), tooltip='Clear …"
      ]
     },
     "metadata": {},
     "output_type": "display_data"
    },
    {
     "data": {
      "application/vnd.jupyter.widget-view+json": {
       "model_id": "64444de42d334023a43e7df7927aa7f0",
       "version_major": 2,
       "version_minor": 0
      },
      "text/plain": [
       "Button(button_style='success', description='New metacluster', icon='plus', style=ButtonStyle(), tooltip='Creat…"
      ]
     },
     "metadata": {},
     "output_type": "display_data"
    },
    {
     "data": {
      "application/vnd.jupyter.widget-view+json": {
       "model_id": "defa492890cf4396a7d1f29cd7665c12",
       "version_major": 2,
       "version_minor": 0
      },
      "text/plain": [
       "Output(layout=Layout(border='1px solid black'), outputs=({'output_type': 'stream', 'name': 'stdout', 'text': '…"
      ]
     },
     "metadata": {},
     "output_type": "display_data"
    }
   ],
   "source": [
    "mcd = metaclusterdata_from_files(\n",
    "    \"../data/example_dataset/metaclustering/ex1_clusters_nozscore.csv\",\n",
    "    \"../data/example_dataset/metaclustering/ex1_clusters_pixelcount.csv\")\n",
    "mcd.output_mapping_filename = \"ex1_output_mapping.csv\"\n",
    "mcg = MetaClusterGui(mcd, heatmapcolors='viridis', width=17, debug=True)\n",
    "#mcg = MetaClusterGui(mcd, width=17)"
   ]
  },
  {
   "cell_type": "markdown",
   "id": "1d1f4aa5-927a-4b29-b6e9-e166350bfd69",
   "metadata": {},
   "source": [
    "# Developers Maintanence Guide\n",
    "\n",
    "This guide is outline/work in progress\n",
    "\n",
    "High level Architecture\n",
    "\n",
    "- MetaClusterData - Data IO and state maintence\n",
    "- MetaClusterGui - Handle the \n",
    "\n",
    "This metacluster remapper GUI uses the ipywidgets backend for Matplotlib. Addition widgets are used for extra input/output.\n",
    "\n",
    "How to debug callbacks\n",
    "https://ipywidgets.readthedocs.io/en/latest/examples/Output%20Widget.html#Debugging-errors-in-callbacks-with-the-output-widget"
   ]
  },
  {
   "cell_type": "code",
   "execution_count": 3,
   "id": "d7559c5d-4efc-4229-b4b7-34c052a800ed",
   "metadata": {},
   "outputs": [],
   "source": [
    "# Save out current notebook\n",
    "!cp ./example_manually_adjust_metaclusters.ipynb ../data/example_dataset/metaclustering/example_manually_adjust_metaclusters.ipynb"
   ]
  },
  {
   "cell_type": "code",
   "execution_count": null,
   "id": "f152a972-88e2-4561-8eae-6b3fa33d3f22",
   "metadata": {},
   "outputs": [],
   "source": []
  }
 ],
 "metadata": {
  "kernelspec": {
   "display_name": "Python 3",
   "language": "python",
   "name": "python3"
  },
  "language_info": {
   "codemirror_mode": {
    "name": "ipython",
    "version": 3
   },
   "file_extension": ".py",
   "mimetype": "text/x-python",
   "name": "python",
   "nbconvert_exporter": "python",
   "pygments_lexer": "ipython3",
   "version": "3.6.14"
  }
 },
 "nbformat": 4,
 "nbformat_minor": 5
}
