{
 "cells": [
  {
   "cell_type": "markdown",
   "id": "19fee706-a0c7-40d8-b11d-e17e05b9f1f7",
   "metadata": {},
   "source": [
    "# Metacluster Remapping GUI\n",
    "\n",
    "- Usage\n",
    "- The tool itself\n",
    "- Start options\n",
    "- File formats\n",
    "- Developer guid"
   ]
  },
  {
   "cell_type": "markdown",
   "id": "2e5ab253-6189-4d14-92e4-494509dddac4",
   "metadata": {
    "tags": []
   },
   "source": [
    "## Usage\n",
    "\n",
    "### Quickstart\n",
    "- **Select**: Left Click\n",
    "- **Remap**: Right Click\n",
    "- **Edit Metacluster Name**: Textbox below the heatmaps\n",
    "\n",
    "All changes are saved immediately to the output file.\n",
    "\n",
    "### Selection and Remapping details\n",
    "- To select one or more clusters, click anywhere on either heatmap. Clicking a selected cluster will deselect it.\n",
    "- To remap the selected clusters, right click anywhere on either heatmap.\n",
    "\n",
    "### Other features\n",
    "- The bars at the top show the relative size of each cluster.\n",
    "- If you remap all cluster in a metacluster, the metacluster is now *gone*\n",
    "- You can click the **new metacluster** button to add `current selection` to a new metacluster\n",
    "- Adjust the zscore limit using the slider to adjust your dynamic range.\n",
    "\n"
   ]
  },
  {
   "cell_type": "code",
   "execution_count": null,
   "id": "ffb91522-a126-4c93-b721-dfed29d5e932",
   "metadata": {
    "tags": []
   },
   "outputs": [],
   "source": [
    "%matplotlib widget\n",
    "import matplotlib.pyplot as plt\n",
    "plt.ion()\n",
    "\n",
    "import sys\n",
    "from ark.utils.metacluster_remap_gui import MetaClusterData, MetaClusterGui, metaclusterdata_from_files\n",
    "mcd = metaclusterdata_from_files(\n",
    "    \"../data/example_dataset/metaclustering/ex1_clusters_nozscore.csv\",\n",
    "    \"../data/example_dataset/metaclustering/ex1_clusters_pixelcount.csv\", metacluster_header='hCluster_cap')\n",
    "mcd.output_mapping_filename = \"../data/example_dataset/metaclustering/ex1_output_mapping.csv\"\n",
    "mcg = MetaClusterGui(mcd, width=17, debug=False)"
   ]
  },
  {
   "cell_type": "markdown",
   "id": "af9609b9-da58-4415-80d6-70b52edc5fd9",
   "metadata": {},
   "source": [
    "## Startup Options"
   ]
  },
  {
   "cell_type": "code",
   "execution_count": null,
   "id": "b926c67f-d99d-4842-be8e-ae5c7e623740",
   "metadata": {},
   "outputs": [],
   "source": [
    "metaclusterdata_from_files?"
   ]
  },
  {
   "cell_type": "code",
   "execution_count": null,
   "id": "a40541c2-9930-4a5d-b4f3-8e0a382818d7",
   "metadata": {},
   "outputs": [],
   "source": [
    "MetaClusterGui?"
   ]
  },
  {
   "cell_type": "markdown",
   "id": "1e3c33dc-91c4-4c70-ad14-d973347f4d14",
   "metadata": {},
   "source": [
    "## File Formats\n",
    "### Input Format\n",
    "clusters_nozscore.csv\n",
    "```\n",
    "CD14,CD209,...,cluster,hCluster_cap\n",
    "2.82664769656717e-05,2.36648137078826e-05,...,5,1\n",
    "0.000200020182840592,0.000130916281881885,...,88,1\n",
    "...\n",
    "0.000200020182840592,0.000130916281881885,...,32,20\n",
    "```\n",
    "pixelcount.csv\n",
    "```\n",
    "cluster,count\n",
    "1,351025\n",
    "2,51388\n",
    "3,21746\n",
    "...\n",
    "100,58730\n",
    "\n",
    "```\n",
    "Note: the metacluster columnname is configurable, see above.\n",
    "\n",
    "### Output Format\n",
    "```\n",
    "cluster,metacluster,mc_name\n",
    "1,10,CD4 T Cells\n",
    "2,10,CD4 T Cells\n",
    "3,9,9\n",
    "...\n",
    "100,13,13\n",
    "```\n",
    "\n",
    "\n",
    "Set your output file using:\n",
    "```\n",
    "mcd.output_mapping_filename = \"ex1_output_mapping.csv\"\n",
    "```"
   ]
  },
  {
   "cell_type": "markdown",
   "id": "1d1f4aa5-927a-4b29-b6e9-e166350bfd69",
   "metadata": {
    "tags": []
   },
   "source": [
    "# Developers Maintanence Guide\n",
    "\n",
    "## High level Architecture\n",
    "\n",
    "- `MetaClusterData` - Data IO and state management\n",
    "- `MetaClusterGui` - Handle the user interactivty\n",
    "\n",
    "This metacluster remapper GUI uses the ipywidgets backend for Matplotlib. Addition widgets are used for extra input/output.\n",
    "\n",
    "## Running unit tests\n",
    "From the root of the ark-analysis repo run:\n",
    "\n",
    "    pytest': python -m pytest --cov=ark/utils/metacluster_remap_gui/ --pycodestyle ark/utils/metacluster_remap_gui/\n",
    "    \n",
    "Tests are located in the same folder as the non-test modules.\n",
    "\n",
    "## How to debug callbacks\n",
    "All of the callbacks are already connected to a debug output region. Enable this with the `MetaClusterGui(..., debug=True)`.\n",
    "https://ipywidgets.readthedocs.io/en/latest/examples/Output%20Widget.html#Debugging-errors-in-callbacks-with-the-output-widget"
   ]
  },
  {
   "cell_type": "markdown",
   "id": "2363b487-4bcf-4697-93ba-c66de9bd9787",
   "metadata": {},
   "source": [
    "## Proof of concept for adding hover annotations\n",
    "\n",
    "Requires upgrading matplotlib 3.3.4 from 2.2.5 (2021-09-13). Also it is kinda laggy and jumpy, but does work. \n",
    "\n",
    "    import mplcursors\n",
    "    mplcursors.Cursor\n",
    "    a = None\n",
    "    def annote(sel):\n",
    "        global a\n",
    "        a = sel\n",
    "        cluster = mcd.clusters.index[int(sel.target[0])]\n",
    "        ann = f\"Cluster: {cluster}\\n\"\n",
    "        ann += f\"Meta: {mcd.get_metacluster_displayname(mcd.which_metacluster(cluster))}\"\n",
    "        return sel.annotation.set_text(ann)\n",
    "\n",
    "\n",
    "    mplcursors.cursor(mcg.im_c, hover=True).connect(\"add\", annote)"
   ]
  }
 ],
 "metadata": {
  "kernelspec": {
   "display_name": "Python 3",
   "language": "python",
   "name": "python3"
  },
  "language_info": {
   "codemirror_mode": {
    "name": "ipython",
    "version": 3
   },
   "file_extension": ".py",
   "mimetype": "text/x-python",
   "name": "python",
   "nbconvert_exporter": "python",
   "pygments_lexer": "ipython3",
   "version": "3.6.14"
  }
 },
 "nbformat": 4,
 "nbformat_minor": 5
}
