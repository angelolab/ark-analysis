{
 "cells": [
  {
   "cell_type": "code",
   "execution_count": 1,
   "id": "11d4478a",
   "metadata": {},
   "outputs": [],
   "source": [
    "%matplotlib widget"
   ]
  },
  {
   "cell_type": "code",
   "execution_count": 2,
   "id": "377fbebe",
   "metadata": {},
   "outputs": [],
   "source": [
    "import ipywidgets as widgets\n",
    "import pandas as pd\n",
    "import matplotlib.pyplot as plt\n",
    "from matplotlib.figure import Figure\n",
    "from scipy.stats import zscore\n"
   ]
  },
  {
   "cell_type": "code",
   "execution_count": 3,
   "id": "faa93a41",
   "metadata": {},
   "outputs": [],
   "source": [
    "plt.ion()"
   ]
  },
  {
   "cell_type": "code",
   "execution_count": 6,
   "id": "c43061f4",
   "metadata": {},
   "outputs": [
    {
     "data": {
      "application/vnd.jupyter.widget-view+json": {
       "model_id": "4fb9c84d91e84112b1f7cfff5d072a9e",
       "version_major": 2,
       "version_minor": 0
      },
      "text/plain": [
       "Canvas(toolbar=Toolbar(toolitems=[('Home', 'Reset original view', 'home', 'home'), ('Back', 'Back to  previous…"
      ]
     },
     "metadata": {},
     "output_type": "display_data"
    },
    {
     "data": {
      "application/vnd.jupyter.widget-view+json": {
       "model_id": "00a184a13f0f482d82e8f757af74d1c2",
       "version_major": 2,
       "version_minor": 0
      },
      "text/plain": [
       "Text(value='')"
      ]
     },
     "metadata": {},
     "output_type": "display_data"
    }
   ],
   "source": [
    "import numpy as np\n",
    "class MetaClusterAdjust():\n",
    "    def __init__(self):\n",
    "        clusters_raw = pd.read_csv(\"../data/example_dataset/metaclustering/ex2_clusters_nozscore.csv\").sort_values('cluster')\n",
    "        self.cluster_counts = pd.read_csv(\"../data/example_dataset/metaclustering/ex2_clusters_pixelcount.csv\").sort_values('cluster').set_index('cluster')\n",
    "        self.clusters  = clusters_raw.set_index('cluster').drop(columns='hCluster_cap')\n",
    "        self.mapping = clusters_raw[['cluster','hCluster_cap' ]].set_index('cluster')\n",
    "        self.make_gui()\n",
    "        self.update_gui()\n",
    "    \n",
    "    @property\n",
    "    def metaclusters(self):\n",
    "        # could cache this and expire on mapping change\n",
    "        # return self.clusters.join(self.mapping).groupby('hCluster_cap').aggregate('mean') # naive average\n",
    "        weighted_clusters = self.clusters.multiply(self.cluster_counts['count'], axis=0)\n",
    "        metacluster_counts = self.cluster_counts.join(self.mapping).groupby('hCluster_cap').aggregate('sum')\n",
    "        weighted_metaclusters = weighted_clusters.join(self.mapping).groupby('hCluster_cap').aggregate('sum').divide(metacluster_counts['count'], axis=0)\n",
    "        return weighted_metaclusters\n",
    "    \n",
    "    def remap(self, cluster, metacluster):\n",
    "        self.mapping.loc[cluster, 'hCluster_cap'] = metacluster\n",
    "        \n",
    "    @staticmethod\n",
    "    def preplot(df):\n",
    "        return df.apply(zscore).clip(upper=4).T\n",
    "       \n",
    "    def make_gui(self):\n",
    "        # graph\n",
    "        self.fig, (self.ax_c, self.ax_m) = plt.subplots(1,2,\n",
    "            figsize=(16, 4),\n",
    "            sharey=True,\n",
    "            gridspec_kw={'width_ratios': [7, 2]}, # cluster plot bigger than metacluster plot\n",
    "            )\n",
    "        self.fig.canvas.toolbar_visible = False\n",
    "        self.fig.canvas.header_visible = False\n",
    "        #self.fig.canvas.footer_visible = False\n",
    "        self.ax_c.yaxis.set_tick_params(which='major', labelsize=8)\n",
    "        #self.fig.subplots_adjust(left=0.4)\n",
    "\n",
    "        self.fig.canvas.mpl_connect('pick_event', self.onpick)\n",
    "        \n",
    "        self.ax_c.set_yticks(0.5 + np.arange(len(self.clusters.columns)))\n",
    "        self.ax_c.set_yticklabels(self.clusters.columns)\n",
    "        \n",
    "        self.fig.tight_layout()\n",
    "        \n",
    "        self.im_c = self.ax_c.imshow(self.preplot(self.clusters), aspect='auto', picker=True, extent=(0, len(self.clusters), 0, len(self.clusters.columns)))\n",
    "        self.im_m = self.ax_m.imshow(self.preplot(self.metaclusters), aspect='auto', picker=True, extent=(0, len(self.metaclusters), 0, len(self.metaclusters.columns)))\n",
    "        #self.ax_m.set(xlim=(0, len(self.metaclusters)))\n",
    "        #self.ax_m.set(xlim=(-5, len(self.metaclusters)+6))\n",
    "        \n",
    "        # selection widget\n",
    "        self.selected_clusters = []\n",
    "        self.selected_clusters_widget = widgets.Text()\n",
    "        display(self.selected_clusters_widget)\n",
    "        \n",
    "    def update_gui(self):\n",
    "        _, _, vstart, vend = self.im_m.get_extent()\n",
    "        self.im_m.set_extent((0, len(self.metaclusters), vstart, vend))\n",
    "        self.im_m.set_data(self.preplot(self.metaclusters))\n",
    "        #self.fig.canvas.draw()\n",
    "\n",
    "    def onpick(self, e):\n",
    "        if e.artist is self.im_c:\n",
    "            selected_cluster = int(e.mouseevent.xdata)+1\n",
    "            if selected_cluster in self.selected_clusters:\n",
    "                self.selected_clusters.remove(selected_cluster)\n",
    "            else:\n",
    "                self.selected_clusters.append(selected_cluster)\n",
    "        elif e.artist is self.im_m:\n",
    "            selected_metacluster = int(e.mouseevent.xdata)+1\n",
    "            if len(self.selected_clusters) == 0:\n",
    "                # grab selection based on metacluster\n",
    "                self.selected_clusters = list(self.mapping[self.mapping['hCluster_cap'] == selected_metacluster].index.values)\n",
    "                pass\n",
    "            else:\n",
    "                # remap to mc  based on current selection\n",
    "                for cluster in self.selected_clusters:\n",
    "                    mca.remap(cluster, selected_metacluster)\n",
    "                mca.update_gui()\n",
    "                self.selected_clusters = []\n",
    "        else:\n",
    "            self.selected_clusters = ['failed assertion']\n",
    "        self.selected_clusters_widget.value = ', '.join(str(c) for c in self.selected_clusters)\n",
    "\n",
    "mca = MetaClusterAdjust()\n"
   ]
  },
  {
   "cell_type": "code",
   "execution_count": 7,
   "id": "328e2381-8435-4f35-8860-264931c373c4",
   "metadata": {},
   "outputs": [
    {
     "data": {
      "text/plain": [
       "(0, 20, 0, 22)"
      ]
     },
     "execution_count": 7,
     "metadata": {},
     "output_type": "execute_result"
    }
   ],
   "source": [
    "mca.im_m.get_extent()"
   ]
  },
  {
   "cell_type": "code",
   "execution_count": 8,
   "id": "be46ae5e-e573-4111-81ff-e93dc183beee",
   "metadata": {},
   "outputs": [
    {
     "name": "stdout",
     "output_type": "stream",
     "text": [
      "cp: cannot stat './Manually adjust metaclusters.ipynb': No such file or directory\n"
     ]
    }
   ],
   "source": [
    "!cp ./example_manually_adjust_metaclusters.ipynb ../data/example_dataset/metaclustering/example_manually_adjust_metaclusters.ipynb"
   ]
  },
  {
   "cell_type": "code",
   "execution_count": null,
   "id": "02a84f66-6768-46eb-91e6-0c3cbd6dfe11",
   "metadata": {},
   "outputs": [],
   "source": []
  }
 ],
 "metadata": {
  "kernelspec": {
   "display_name": "Python 3",
   "language": "python",
   "name": "python3"
  },
  "language_info": {
   "codemirror_mode": {
    "name": "ipython",
    "version": 3
   },
   "file_extension": ".py",
   "mimetype": "text/x-python",
   "name": "python",
   "nbconvert_exporter": "python",
   "pygments_lexer": "ipython3",
   "version": "3.6.14"
  }
 },
 "nbformat": 4,
 "nbformat_minor": 5
}
