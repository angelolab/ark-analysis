{
 "cells": [
  {
   "cell_type": "code",
   "execution_count": 1,
   "id": "11d4478a",
   "metadata": {},
   "outputs": [],
   "source": [
    "%matplotlib widget\n",
    "import matplotlib.pyplot as plt\n",
    "plt.ion()\n",
    "\n",
    "import sys\n",
    "from ark.utils.metacluster_remap_gui import MetaClusterData, MetaClusterGui, metaclusterdata_from_files"
   ]
  },
  {
   "cell_type": "markdown",
   "id": "2e5ab253-6189-4d14-92e4-494509dddac4",
   "metadata": {},
   "source": [
    "## Usage\n",
    "\n",
    "### Quickstart\n",
    "- **Left Click**: Select\n",
    "- **Right Click** Remap\n",
    "\n",
    "### Detailed\n",
    "- To select one or more clusters, click anywhere on either heatmap. Clicking a selected cluster will deselect it.\n",
    "- To remap the selected clusters, right click anywhere on either heatmap.\n",
    "- The bars at the top show the relative size of each cluster.\n",
    "- If you remap all cluster in a metacluster, the metacluster is now *gone*\n",
    "- You can click new metacluster to add current selection to a new metacluster\n",
    "- You final mapping will be in an output file in the same directory as the input files\n",
    "\n",
    "# Startup Options\n",
    "```\n",
    "MetaClusterGui(\n",
    "    data, # MetaClusterData instance\n",
    "    heatmapcolors='viridis', # change the color of the heatmap\n",
    "    width=17, # Adjust the width of the display\n",
    "    debug=True, # enable debug mode. See the bottom of this notebook for more matainence info.\n",
    "    )\n",
    "```"
   ]
  },
  {
   "cell_type": "code",
   "execution_count": 4,
   "id": "ffb91522-a126-4c93-b721-dfed29d5e932",
   "metadata": {
    "tags": []
   },
   "outputs": [
    {
     "data": {
      "application/vnd.jupyter.widget-view+json": {
       "model_id": "43dfb03e29194ce29cae465a28f612c6",
       "version_major": 2,
       "version_minor": 0
      },
      "text/plain": [
       "Canvas(toolbar=Toolbar(toolitems=[('Home', 'Reset original view', 'home', 'home'), ('Back', 'Back to  previous…"
      ]
     },
     "metadata": {},
     "output_type": "display_data"
    },
    {
     "data": {
      "application/vnd.jupyter.widget-view+json": {
       "model_id": "86eadab202ba4ee4be0ee995a8f09e0a",
       "version_major": 2,
       "version_minor": 0
      },
      "text/plain": [
       "HBox(children=(HBox(children=(FloatSlider(value=3.0, description='Max Zscore:', max=10.0, min=1.0, readout_for…"
      ]
     },
     "metadata": {},
     "output_type": "display_data"
    }
   ],
   "source": [
    "mcd = metaclusterdata_from_files(\n",
    "    \"../data/example_dataset/metaclustering/ex1_clusters_nozscore.csv\",\n",
    "    \"../data/example_dataset/metaclustering/ex1_clusters_pixelcount.csv\")\n",
    "mcd.output_mapping_filename = \"ex1_output_mapping.csv\"\n",
    "#mcg = MetaClusterGui(mcd, width=17, debug=True)\n",
    "mcg = MetaClusterGui(mcd, width=17)"
   ]
  },
  {
   "cell_type": "markdown",
   "id": "1d1f4aa5-927a-4b29-b6e9-e166350bfd69",
   "metadata": {},
   "source": [
    "# Developers Maintanence Guide\n",
    "\n",
    "This guide is outline/work in progress\n",
    "\n",
    "## High level Architecture\n",
    "\n",
    "- MetaClusterData - Data IO and state maintence\n",
    "- MetaClusterGui - Handle the \n",
    "\n",
    "This metacluster remapper GUI uses the ipywidgets backend for Matplotlib. Addition widgets are used for extra input/output.\n",
    "\n",
    "## Running unit tests\n",
    "\n",
    "    pytest': python -m pytest --cov=ark/utils/metacluster_remap_gui/ --pycodestyle ark/utils/metacluster_remap_gui/\n",
    "\n",
    "## How to debug callbacks\n",
    "All of the callbacks are already connected to a debug output region. Enable this with the `MetaClusterGui(..., debug=True)`.\n",
    "https://ipywidgets.readthedocs.io/en/latest/examples/Output%20Widget.html#Debugging-errors-in-callbacks-with-the-output-widget"
   ]
  },
  {
   "cell_type": "markdown",
   "id": "395d1a3e-aaf6-4750-be5c-bb861fb6030a",
   "metadata": {},
   "source": [
    "## Save out current notebook"
   ]
  },
  {
   "cell_type": "code",
   "execution_count": 3,
   "id": "d7559c5d-4efc-4229-b4b7-34c052a800ed",
   "metadata": {},
   "outputs": [],
   "source": [
    "!cp ./example_manually_adjust_metaclusters.ipynb ../data/example_dataset/metaclustering/example_manually_adjust_metaclusters.ipynb"
   ]
  },
  {
   "cell_type": "markdown",
   "id": "cbef73e7-d1ae-4164-8eb5-8228dbd9bd24",
   "metadata": {
    "tags": []
   },
   "source": [
    "then in host environment run `mv data/example_dataset/metaclustering/example_manually_adjust_metaclusters.ipynb templates/example_manually_adjust_metaclusters.ipynb`"
   ]
  }
 ],
 "metadata": {
  "kernelspec": {
   "display_name": "Python 3",
   "language": "python",
   "name": "python3"
  },
  "language_info": {
   "codemirror_mode": {
    "name": "ipython",
    "version": 3
   },
   "file_extension": ".py",
   "mimetype": "text/x-python",
   "name": "python",
   "nbconvert_exporter": "python",
   "pygments_lexer": "ipython3",
   "version": "3.6.14"
  }
 },
 "nbformat": 4,
 "nbformat_minor": 5
}
