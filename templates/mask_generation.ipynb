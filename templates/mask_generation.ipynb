{
 "cells": [
  {
   "cell_type": "markdown",
   "metadata": {},
   "source": [
    "# Cohort Plot Generation"
   ]
  },
  {
   "cell_type": "markdown",
   "metadata": {},
   "source": [
    "The purpose of this notebook is to be able to generate plots for your cohort:\n",
    "1. Generate cluster plots for each of the FOVs.\n",
    "2. Generate plots measuring some kind of continuous variable."
   ]
  },
  {
   "cell_type": "code",
   "execution_count": null,
   "metadata": {},
   "outputs": [],
   "source": [
    "import os\n",
    "import pandas as pd\n",
    "from alpineer import io_utils\n",
    "from ark.utils.plot_utils import cohort_cluster_plot, color_segmentation_by_stat\n",
    "import natsort as ns\n",
    "import ark.settings as settings\n",
    "\n",
    "import colorcet as cc"
   ]
  },
  {
   "cell_type": "markdown",
   "metadata": {},
   "source": [
    "## Notes on color selection"
   ]
  },
  {
   "cell_type": "markdown",
   "metadata": {},
   "source": [
    "Be *very* mindful of your color selection, how you choose to display your information is just as important as the information itself. We have provided a few resources below to help you choose appropriate colors for your data, and come to appreciate the complexity of this topic itself.\n",
    "\n",
    "\n",
    "**Colormap Resources to take advantage of:**\n",
    "- [Fabio Crameri's Scientific Colour Maps](https://www.fabiocrameri.ch/colourmaps.php) contains a set of colormaps which are specifically designed for scientific data. They are also inclusive for various types of color vision deficiencies. \n",
    "- [Faboi Crameri's Categorical Colour Maps](https://www.fabiocrameri.ch/categorical-colour-maps/) contains a set of colormaps which are specifically designed for categorical data. They are also inclusive for various types of color vision deficiencies, and are easily readable on black and white print.\n",
    "- [Coolers](https://coolors.co/) is an easy tool for generating color palettes. You can lock in colors you like and generate more based off of those colors.\n",
    "- [Color Brewer](https://colorbrewer2.org/#type=sequential&scheme=BuGn&n=3) is a great tool for generating color palettes, with a visualization example of how the colors will look on a map.\n",
    "\n",
    "**Color Vision deficiencies:**\n",
    "- You want to make sure that the colors you choose are colorblind friendly. You can use [this tool](https://davidmathlogic.com/colorblind/#%23EA4335-%238E24AA-%234E342E-%234E342E) to check your color selection if you are using a `.csv` file containing custom colors.\n",
    "\n",
    "**Further reading:**\n",
    "- [Colour Displays for categorical images](https://strathprints.strath.ac.uk/30312/1/colorpaper_2006.pdf)\n",
    "- [How rainbow colour maps can distort data and be misleading](https://theconversation.com/how-rainbow-colour-maps-can-distort-data-and-be-misleading-167159)\n",
    "- Crameri, F., Shephard, G.E. & Heron, P.J. The misuse of colour in science communication. Nat Commun 11, 5444 (2020). https://doi.org/10.1038/s41467-020-19160-7 \n",
    "  - *Highly recommended read*\n",
    "\n",
    "**Extra Colormap Installation**\n",
    "\n",
    "If you would like many extra colormaps available for use, you can install the optional set of dependencies with:\n",
    "\n",
    "```shell\n",
    "pip install ark-analysis[colors]\n",
    "```\n",
    "\n",
    "This will install the following packages:\n",
    "- [cmocean](https://matplotlib.org/cmocean/): A collection of commonly used oceanographic color maps adjusted to be perceptually uniform.\n",
    "- [cmasher](https://cmasher.readthedocs.io/index.html): A collection of color maps designed to be perceptually uniform and colorblind friendly.\n",
    "- [palettable](https://jiffyclub.github.io/palettable/): A collection of color maps from various sources.\n",
    "- [colorcet](https://colorcet.holoviz.org/): A collection of color maps designed for categorical data."
   ]
  },
  {
   "cell_type": "markdown",
   "metadata": {},
   "source": [
    "You can view all available colormaps by running the cell below. For example, we can get the colormaps from `colorcet` and `cmocean` by first importing the library. Any colormap prefixed with `cet_` is from `colorcet`. Any colormap prefixed with `cmo.` is from `cmocean`."
   ]
  },
  {
   "cell_type": "code",
   "execution_count": null,
   "metadata": {},
   "outputs": [],
   "source": [
    "# Add colorcet's and cmocean's colormaps to matplotlib's colormaps\n",
    "import colorcet\n",
    "import cmocean\n",
    "\n",
    "# View the names of all available colormaps\n",
    "from matplotlib import colormaps\n",
    "\n",
    "colormaps()"
   ]
  },
  {
   "cell_type": "markdown",
   "metadata": {},
   "source": [
    "## 1. Cluster Plots"
   ]
  },
  {
   "cell_type": "markdown",
   "metadata": {},
   "source": [
    "We can mass produce cluster plots with this section of the notebook.\n",
    "\n",
    "You will need the following:\n",
    "\n",
    "1. A directory containing segmentation masks labeled with integers [$0, 1, 2, 3, ...N$], where $0$ is the exclusive to the background.\n",
    "2. A `.csv` consisting of a column of FOV / image names, a column of segmentation IDs for each image and a column of cluster IDs for each image. Here is an example of the format below:\n",
    "\n",
    "\n",
    "| fov | segmentation_id | cluster_id |\n",
    "|-----|-----------------|------------|\n",
    "| fov0   | 1               | Cluster 1  |\n",
    "| fov0   | 2               | Cluster 2  |\n",
    "| ... | ...             | ...        |\n",
    "| fovM   | N               | Cluster C  |\n",
    "\n",
    "1. (Optional) A `.csv` consisting of a column with the cluster name, and a column for a color. Here is an example of the format below:\n",
    "\n",
    "\n",
    "| cluster_id | color    |\n",
    "|------------|----------|\n",
    "| Cluster 1  | \"red\"    |\n",
    "| Cluster 2  | \"blue\"   |\n",
    "| ...        | ...      |\n",
    "| Cluster C  | \"#FFFF00\" |\n",
    "\n",
    "Where, \"#FFFF00\" is the hex code for yellow."
   ]
  },
  {
   "cell_type": "markdown",
   "metadata": {},
   "source": [
    "### 1. Set the File Paths"
   ]
  },
  {
   "cell_type": "code",
   "execution_count": null,
   "metadata": {},
   "outputs": [],
   "source": [
    "base_dir = \"../data/example_dataset/\""
   ]
  },
  {
   "cell_type": "markdown",
   "metadata": {},
   "source": [
    "- `image_dir`: Sets the path to the directory containing the images.\n",
    "- `seg_dir`: Sets the path to the directory containing the segmentation labels."
   ]
  },
  {
   "cell_type": "code",
   "execution_count": null,
   "metadata": {},
   "outputs": [],
   "source": [
    "image_dir = os.path.join(base_dir, \"image_data\")\n",
    "seg_dir = os.path.join(base_dir, \"segmentation\", \"deepcell_output\")"
   ]
  },
  {
   "cell_type": "markdown",
   "metadata": {},
   "source": [
    "- `fov_cell_cluster_file`: Sets the path to the `.csv` file containing the FOV / image names, segmentation IDs and cluster IDs."
   ]
  },
  {
   "cell_type": "code",
   "execution_count": null,
   "metadata": {},
   "outputs": [],
   "source": [
    "fov_cell_cluster_file = os.path.join(\n",
    "    base_dir, \"segmentation\", \"cell_table\", \"cell_table_size_normalized_cell_labels.csv\"\n",
    ")"
   ]
  },
  {
   "cell_type": "code",
   "execution_count": null,
   "metadata": {},
   "outputs": [],
   "source": [
    "fov_cell_cluster_df = pd.read_csv(\n",
    "    fov_cell_cluster_file,\n",
    ")"
   ]
  },
  {
   "cell_type": "markdown",
   "metadata": {},
   "source": [
    "- `cluster_color_mapping_file`: Sets the path to the `.csv` file containing the cluster names and colors."
   ]
  },
  {
   "cell_type": "code",
   "execution_count": null,
   "metadata": {},
   "outputs": [],
   "source": [
    "cluster_color_mapping_file = os.path.join(\"cluster_mapping.csv\")"
   ]
  },
  {
   "cell_type": "code",
   "execution_count": null,
   "metadata": {},
   "outputs": [],
   "source": [
    "cluster_color_mapping_df = pd.read_csv(cluster_color_mapping_file)"
   ]
  },
  {
   "cell_type": "code",
   "execution_count": null,
   "metadata": {},
   "outputs": [],
   "source": [
    "fovs = ns.natsorted(io_utils.list_folders(image_dir))"
   ]
  },
  {
   "cell_type": "markdown",
   "metadata": {},
   "source": [
    "### 2. Set Plotting Parameters"
   ]
  },
  {
   "cell_type": "markdown",
   "metadata": {},
   "source": [
    "- `fov_col`: The column name of the FOV / image names.\n",
    "- `label_col`: The column name of the segmentation ID / labels.\n",
    "- `cluster_col`: The column name of the cluster.\n",
    "- `stat_name`: The column name of the statistic of interest.\n",
    "- `seg_suffix`: The suffix of the segmentation masks of interest.\n",
    "- `cmap`: The colormap to use for the plot, or a `DataFrame` where one column is the cluster name, and the other is the color.\n",
    "- `reverse`: Whether to reverse the colormap.\n",
    "- `erode`: Whether to erode the segmentation labels. Recommended setting to `True` if your segmentation masks are very busy.\n",
    "- `style`: The plotting style sheet to be used. View the available options [here](https://matplotlib.org/stable/gallery/style_sheets/style_sheets_reference.html).\n",
    "- `display_fig`: Whether to display the figure. Recommended setting to `False` if you are generating many plots, as keeping many plots open will consume a lot of memory.\n"
   ]
  },
  {
   "cell_type": "code",
   "execution_count": null,
   "metadata": {},
   "outputs": [],
   "source": [
    "cohort_cluster_plot(\n",
    "    fovs=fovs[0:2],\n",
    "    seg_dir=seg_dir,\n",
    "    save_dir=\"./cluster_plots\",\n",
    "    cell_data=fov_cell_cluster_df,\n",
    "    erode=True,\n",
    "    fov_col=settings.FOV_ID,\n",
    "    label_col=settings.CELL_LABEL,\n",
    "    cluster_col=settings.CELL_TYPE,\n",
    "    seg_suffix=\"_whole_cell.tiff\",\n",
    "    cmap=\"cet_glasbey_bw_minc_20\",\n",
    "    display_fig=True,\n",
    ")"
   ]
  },
  {
   "cell_type": "markdown",
   "metadata": {},
   "source": [
    "## 2. Continuous Variable Plots"
   ]
  },
  {
   "cell_type": "markdown",
   "metadata": {},
   "source": [
    "This section of the notebook allows you to plot many images with a color map of your choice. You will need to set the following variables / files:\n",
    "\n",
    "\n",
    "\n",
    "1. A directory containing segmentation masks labeled with integers [$0, 1, 2, 3, ...N$], where $0$ is the exclusive to the background.\n",
    "2. A `.csv` consisting of a column of FOV / image names, a column of segmentation IDs for each image and a column of containing the statistic of interest. Here is an example of the format below:\n",
    "\n",
    "\n",
    "| fov | segmentation_id | statistic |\n",
    "|-----|-----------------|------------|\n",
    "| fov0   | 1               | 0.17  |\n",
    "| fov0   | 2               | 0.04  |\n",
    "| ... | ...             | ...        |\n",
    "| fovM   | N               | 0.87  |\n"
   ]
  },
  {
   "cell_type": "markdown",
   "metadata": {},
   "source": [
    "### 1. Set the File Paths"
   ]
  },
  {
   "cell_type": "markdown",
   "metadata": {},
   "source": [
    "- `base_dir`: The base directory of the cohort.\n",
    "- `image_dir`: Sets the path to the directory containing the images.\n",
    "- `seg_dir`: Sets the path to the directory containing the segmentation labels, these can be cells, fibers, or anything else which is \"segmented\" in a given FOV.\n",
    "- `data_table_path`: Sets the path to a `.csv` file containing a column for \n"
   ]
  },
  {
   "cell_type": "code",
   "execution_count": null,
   "metadata": {},
   "outputs": [],
   "source": [
    "base_dir = \"../data/example_dataset/\"\n",
    "seg_dir = os.path.join(base_dir, \"segmentation\", \"deepcell_output\")"
   ]
  },
  {
   "cell_type": "code",
   "execution_count": null,
   "metadata": {},
   "outputs": [],
   "source": [
    "image_dir = os.path.join(base_dir, \"image_data\")\n",
    "fovs = ns.natsorted(io_utils.list_folders(image_dir))"
   ]
  },
  {
   "cell_type": "code",
   "execution_count": null,
   "metadata": {},
   "outputs": [],
   "source": [
    "data_table_path = os.path.join(\n",
    "    base_dir, \"segmentation\", \"cell_table\", \"cell_table_size_normalized_cell_labels.csv\"\n",
    ")"
   ]
  },
  {
   "cell_type": "code",
   "execution_count": null,
   "metadata": {},
   "outputs": [],
   "source": [
    "data_table_df = pd.read_csv(data_table_path)\n",
    "data_table_df"
   ]
  },
  {
   "cell_type": "markdown",
   "metadata": {},
   "source": [
    "### 2. Set Plotting Parameters"
   ]
  },
  {
   "cell_type": "markdown",
   "metadata": {},
   "source": [
    "- `fov_col`: The column name of the FOV / image names.\n",
    "- `label_col`: The column name of the segmentation ID / labels.\n",
    "- `stat_name`: The column name of the statistic of interest.\n",
    "- `seg_suffix`: The suffix of the segmentation masks of interest.\n",
    "- `cmap`: The colormap to use for the plot.\n",
    "- `reverse`: Whether to reverse the colormap.\n",
    "- `erode`: Whether to erode the segmentation labels. Recommended setting to `True` if your segmentation masks are very busy.\n",
    "- `style`: The plotting style sheet to be used. View the available options [here](https://matplotlib.org/stable/gallery/style_sheets/style_sheets_reference.html).\n",
    "- `display_fig`: Whether to display the figure. Recommended setting to `False` if you are generating many plots, as keeping many plots open will consume a lot of memory.\n"
   ]
  },
  {
   "cell_type": "code",
   "execution_count": null,
   "metadata": {},
   "outputs": [],
   "source": [
    "fov_col = settings.FOV_ID\n",
    "label_col = settings.CELL_LABEL\n",
    "stat_name = \"convex_area\"\n",
    "seg_suffix = \"_whole_cell.tiff\""
   ]
  },
  {
   "cell_type": "code",
   "execution_count": null,
   "metadata": {},
   "outputs": [],
   "source": [
    "import cmocean\n",
    "\n",
    "cmap = \"cmo.thermal\""
   ]
  },
  {
   "cell_type": "code",
   "execution_count": null,
   "metadata": {},
   "outputs": [],
   "source": [
    "color_segmentation_by_stat(\n",
    "    fovs=fovs[0:2],\n",
    "    data_table=data_table_df,\n",
    "    seg_dir=seg_dir,\n",
    "    save_dir=\"./statistic_plots\",\n",
    "    fov_col=fov_col,\n",
    "    label_col=label_col,\n",
    "    stat_name=stat_name,\n",
    "    cmap=cmap,\n",
    "    reverse=False,\n",
    "    seg_suffix=seg_suffix,\n",
    "    erode=False,\n",
    "    style=\"seaborn-paper\",\n",
    "    display_fig=True,\n",
    ")"
   ]
  }
 ],
 "metadata": {
  "kernelspec": {
   "display_name": "ark",
   "language": "python",
   "name": "python3"
  },
  "language_info": {
   "codemirror_mode": {
    "name": "ipython",
    "version": 3
   },
   "file_extension": ".py",
   "mimetype": "text/x-python",
   "name": "python",
   "nbconvert_exporter": "python",
   "pygments_lexer": "ipython3",
   "version": "3.11.4"
  },
  "orig_nbformat": 4
 },
 "nbformat": 4,
 "nbformat_minor": 2
}
