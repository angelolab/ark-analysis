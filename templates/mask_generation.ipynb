{
 "cells": [
  {
   "cell_type": "markdown",
   "metadata": {},
   "source": [
    "# Cohort Plot Generation"
   ]
  },
  {
   "cell_type": "markdown",
   "metadata": {},
   "source": [
    "The purpose of this notebook is to be able to generate plots for your cohort:\n",
    "1. Generate cluster plots for each of the FOVs.\n",
    "2. Generate plots measuring some kind of continuous variable."
   ]
  },
  {
   "cell_type": "code",
   "execution_count": null,
   "metadata": {},
   "outputs": [],
   "source": [
    "import os\n",
    "import pandas as pd\n",
    "from alpineer import io_utils\n",
    "from ark.utils.plot_utils import cohort_cluster_plot, plot_cohort_continuous_variable\n",
    "import natsort as ns\n",
    "import ark.settings as settings"
   ]
  },
  {
   "cell_type": "markdown",
   "metadata": {},
   "source": [
    "## 1. Cluster Plots"
   ]
  },
  {
   "cell_type": "markdown",
   "metadata": {},
   "source": [
    "We can mass produce cluster plots with this section of the notebook.\n",
    "\n",
    "You will need the following:\n",
    "\n",
    "1. A directory containing segmentation masks labeled with integers [$0, 1, 2, 3, ...N$], where $0$ is the exclusive to the background.\n",
    "2. A `.csv` consisting of a column of FOV / image names, a column of segmentation IDs for each image and a column of cluster IDs for each image. Here is an example of the format below:\n",
    "\n",
    "\n",
    "| fov | segmentation_id | cluster_id |\n",
    "|-----|-----------------|------------|\n",
    "| 1   | 0               | Background |\n",
    "| 1   | 1               | Cluster 1  |\n",
    "| 1   | 2               | Cluster 2  |\n",
    "| ... | ...             | ...        |\n",
    "| m   | N               | Cluster C  |\n",
    "\n",
    "3. (Optional) A `.csv` consisting of a column with the cluster name, and a column for a color. Here is an example of the format below:\n",
    "\n",
    "\n",
    "| cluster_id | color    |\n",
    "|------------|----------|\n",
    "| Cluster 1  | \"red\"    |\n",
    "| Cluster 2  | \"blue\"   |\n",
    "| ...        | ...      |\n",
    "| Cluster C  | \"yellow\" |"
   ]
  },
  {
   "cell_type": "markdown",
   "metadata": {},
   "source": [
    "### 1. Set the File Paths"
   ]
  },
  {
   "cell_type": "code",
   "execution_count": null,
   "metadata": {},
   "outputs": [],
   "source": [
    "base_dir = \"../data/example_dataset/\""
   ]
  },
  {
   "cell_type": "markdown",
   "metadata": {},
   "source": [
    "- `image_dir`: Sets the path to the directory containing the images.\n",
    "- `seg_dir`: Sets the path to the directory containing the segmentation labels."
   ]
  },
  {
   "cell_type": "code",
   "execution_count": null,
   "metadata": {},
   "outputs": [],
   "source": [
    "image_dir = os.path.join(base_dir, \"images\")\n",
    "seg_dir = os.path.join(base_dir, \"segmentation\", \"deepcell_output\")"
   ]
  },
  {
   "cell_type": "markdown",
   "metadata": {},
   "source": [
    "- `fov_cell_cluster_file`: Sets the path to the `.csv` file containing the FOV / image names, segmentation IDs and cluster IDs."
   ]
  },
  {
   "cell_type": "code",
   "execution_count": null,
   "metadata": {},
   "outputs": [],
   "source": [
    "fov_cell_cluster_file = os.path.join(base_dir, \"segmentation\", \"cell_table\", \"cell_table_size_normalized_cell_labels.csv\")"
   ]
  },
  {
   "cell_type": "code",
   "execution_count": null,
   "metadata": {},
   "outputs": [],
   "source": [
    "fov_cell_cluster_df = pd.read_csv(\n",
    "    fov_cell_cluster_file,\n",
    ")"
   ]
  },
  {
   "cell_type": "markdown",
   "metadata": {},
   "source": [
    "- `cluster_color_mapping_file`: Sets the path to the `.csv` file containing the cluster names and colors."
   ]
  },
  {
   "cell_type": "code",
   "execution_count": null,
   "metadata": {},
   "outputs": [],
   "source": [
    "cluster_color_mapping_file = os.path.join(base_dir, \"segmentation\", \"cell_table\", \"cluster_color_mapping.csv\")"
   ]
  },
  {
   "cell_type": "code",
   "execution_count": null,
   "metadata": {},
   "outputs": [],
   "source": [
    "cluster_color_mapping_df = pd.read_csv(cluster_color_mapping_file)"
   ]
  },
  {
   "cell_type": "code",
   "execution_count": null,
   "metadata": {},
   "outputs": [],
   "source": [
    "fovs = ns.natsorted(io_utils.list_files(image_dir))"
   ]
  },
  {
   "cell_type": "markdown",
   "metadata": {},
   "source": [
    "### 2. Notes on Color Selection"
   ]
  },
  {
   "cell_type": "markdown",
   "metadata": {},
   "source": [
    "If, instead of using a `.csv` file for the colors, you would like to use a pre-defined color map you can set the `cmap` parameter below to the name of the color map you would like to use. You can find a list of available color maps in matplotlib [here](https://matplotlib.org/3.1.0/tutorials/colors/colormaps.html).\n",
    "\n",
    "\n",
    "Be *very* mindful of your color selection, how you choose to display your information is just as important as the information itself. We have provided a few resources below to help you choose appropriate colors for your data, and come to appreciate the complexity of this topic itself.\n",
    "\n",
    "\n",
    "**Extra colormap packages to consider:**\n",
    "- [colorcet](https://colorcet.holoviz.org/) contains a set of colormaps which are specifically designed for categorical data.\n",
    "- [Fabio Crameri's Scientific Colour Maps](https://www.fabiocrameri.ch/colourmaps.php) contains a set of colormaps which are specifically designed for scientific data. They are also inclusive for various types of color vision deficiencies. \n",
    "- [Faboi Crameri's Categorical Colour Maps](https://www.fabiocrameri.ch/categorical-colour-maps/) contains a set of colormaps which are specifically designed for categorical data. They are also inclusive for various types of color vision deficiencies, and are easily readable on black and white print.\n",
    "\n",
    "**Color Vision deficiencies:**\n",
    "- You want to make sure that the colors you choose are colorblind friendly. You can use [this tool](https://davidmathlogic.com/colorblind/#%23EA4335-%238E24AA-%234E342E-%234E342E) to check your color selection if you are using a `.csv` file containing custom colors.\n",
    "\n",
    "**Further reading:**\n",
    "- [Colour Displays for categorical images](https://strathprints.strath.ac.uk/30312/1/colorpaper_2006.pdf)\n",
    "- [How rainbow colour maps can distort data and be misleading](https://theconversation.com/how-rainbow-colour-maps-can-distort-data-and-be-misleading-167159)\n",
    "- Crameri, F., Shephard, G.E. & Heron, P.J. The misuse of colour in science communication. Nat Commun 11, 5444 (2020). https://doi.org/10.1038/s41467-020-19160-7 \n",
    "  - Highly recommended read\n",
    "\n",
    "**Other Resources**:\n",
    "- [Coolers](https://coolors.co/) is an easy tool for generating color palettes. You can lock in colors you like and generate more based off of those colors.\n",
    "- [Color Brewer](https://colorbrewer2.org/#type=sequential&scheme=BuGn&n=3) is a great tool for generating color palettes, with a visualization example of how the colors will look on a map.\n",
    "\n",
    "We highly suggest that you utilize these resources and many more that are out there to develop proper, appropriate and inclusive color maps for your data."
   ]
  },
  {
   "cell_type": "code",
   "execution_count": null,
   "metadata": {},
   "outputs": [],
   "source": [
    "cohort_cluster_plot(\n",
    "    fovs=fovs,\n",
    "    save_dir=\"./cluster_masks\",\n",
    "    seg_dir=seg_dir,\n",
    "    cell_data=fov_cell_cluster_file,\n",
    "    erode=True,\n",
    "    fov_col=settings.FOV_ID,\n",
    "    label_col=settings.CELL_LABEL,\n",
    "    cluster_col=settings.CELL_TYPE,\n",
    "    seg_suffix=\"_whole_cell.tiff\",\n",
    "    cmap=cluster_color_mapping_df,\n",
    ")"
   ]
  },
  {
   "cell_type": "markdown",
   "metadata": {},
   "source": [
    "### 2. Continuous Variable Plots"
   ]
  },
  {
   "cell_type": "markdown",
   "metadata": {},
   "source": [
    "This section of the notebook allows you to plot many images with a color map of your choice. You will need the following:\n",
    "\n",
    "- `images`: A directory consisting of images measuring a continuous variable of some kind.\n",
    "\n",
    "The same note about color maps applies here as well.\n",
    "\n",
    "**Continuous Color map Resources**\n",
    "\n",
    "- [cmocean](https://matplotlib.org/cmocean/) A collection of commonly used oceanographic color maps adjusted to be perceptually uniform.\n",
    "- [cmasher](https://cmasher.readthedocs.io/index.html) A collection of color maps designed to be perceptually uniform and colorblind friendly."
   ]
  },
  {
   "cell_type": "code",
   "execution_count": null,
   "metadata": {},
   "outputs": [],
   "source": [
    "images = io_utils.list_files(dir_name=\"./images\")"
   ]
  },
  {
   "cell_type": "code",
   "execution_count": null,
   "metadata": {},
   "outputs": [],
   "source": [
    "plot_cohort_continuous_variable(\n",
    "    images=images,\n",
    "    image_dir=\"./images\",\n",
    "    save_dir=\"./continuous_variables\",\n",
    "    cmap=\"viridis\",\n",
    "    figsize=(3, 3),\n",
    "    display_fig=False,\n",
    ")"
   ]
  }
 ],
 "metadata": {
  "kernelspec": {
   "display_name": "ark",
   "language": "python",
   "name": "python3"
  },
  "language_info": {
   "codemirror_mode": {
    "name": "ipython",
    "version": 3
   },
   "file_extension": ".py",
   "mimetype": "text/x-python",
   "name": "python",
   "nbconvert_exporter": "python",
   "pygments_lexer": "ipython3",
   "version": "3.11.4"
  },
  "orig_nbformat": 4
 },
 "nbformat": 4,
 "nbformat_minor": 2
}
