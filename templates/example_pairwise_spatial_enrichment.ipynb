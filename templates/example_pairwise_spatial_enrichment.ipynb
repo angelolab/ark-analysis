{
 "cells": [
  {
   "cell_type": "markdown",
   "metadata": {},
   "source": [
    "### This is a notebook for running spatial analysis on paired FOVs and cell tables generated via the `Segment_Image_Data.ipynb` notebook."
   ]
  },
  {
   "cell_type": "code",
   "execution_count": 1,
   "metadata": {},
   "outputs": [],
   "source": [
    "# Import all the necessary packages\n",
    "import os\n",
    "import xarray as xr\n",
    "import numpy as np\n",
    "import pandas as pd\n",
    "\n",
    "from ark.utils import spatial_analysis_utils, io_utils, misc_utils, example_dataset\n",
    "from ark.analysis import spatial_analysis, visualize\n",
    "\n",
    "import ark.settings as settings"
   ]
  },
  {
   "cell_type": "code",
   "execution_count": 2,
   "metadata": {},
   "outputs": [],
   "source": [
    "# This script takes a cell expression matrix, label maps for the fovs to be included in the analysis, and, depending\n",
    "# on the analysis, a threshold matrix for channel or cluster spatial analysis. In channel spatial analysis, cells for\n",
    "# a specific fov are identified, and cells of particular phenotypes are compared to each other to check for positive,\n",
    "# negative, or no enrichment. To do this, a distance matrix is created from the segmented label maps, cell phenotypes are\n",
    "# identified by their labels in the image and then significant interactions between different populations of phenotypes\n",
    "# are recorded. Similar analysis is also done for channel spatial enrichment; however, instead of looking at cell\n",
    "# phenotypes, markers positive for specific thresholds are identified and specific interactions are then characterized\n",
    "# between them."
   ]
  },
  {
   "cell_type": "code",
   "execution_count": 3,
   "metadata": {},
   "outputs": [],
   "source": [
    "# Set up file paths and import data\n",
    "base_dir = \"../data/example_dataset/\"\n",
    "\n",
    "cell_table_path = os.path.join(base_dir, \"segmentation/cell_table/cell_table_size_normalized_cell_labels.csv\")\n",
    "marker_thresholds_path = os.path.join(base_dir, \"post_clustering/marker_thresholds.csv\")\n",
    "spatial_analysis_dir = os.path.join(base_dir, \"spatial_enrichment_input_data\")\n",
    "deepcell_output = os.path.join(spatial_analysis_dir, \"deepcell_output\")\n",
    "dist_mat_dir = os.path.join(base_dir, \"spatial_analysis/pairwise_spatial_enrichment/dist_mats\")"
   ]
  },
  {
   "cell_type": "code",
   "execution_count": 4,
   "metadata": {},
   "outputs": [
    {
     "data": {
      "application/vnd.jupyter.widget-view+json": {
       "model_id": "b39fc03cd25841b98b9ed96568a98672",
       "version_major": 2,
       "version_minor": 0
      },
      "text/plain": [
       "Downloading builder script:   0%|          | 0.00/8.60k [00:00<?, ?B/s]"
      ]
     },
     "metadata": {},
     "output_type": "display_data"
    },
    {
     "data": {
      "application/vnd.jupyter.widget-view+json": {
       "model_id": "68324a775af14eb6b8eb9ab9338989a6",
       "version_major": 2,
       "version_minor": 0
      },
      "text/plain": [
       "Downloading readme:   0%|          | 0.00/2.82k [00:00<?, ?B/s]"
      ]
     },
     "metadata": {},
     "output_type": "display_data"
    },
    {
     "name": "stdout",
     "output_type": "stream",
     "text": [
      "Downloading and preparing dataset ark_example/pairwise_spatial_enrichment to /Users/srivarra/.cache/huggingface/datasets/angelolab___ark_example/pairwise_spatial_enrichment/0.0.4/708680716d549df2396993fc412fe8dd2d0a34fb38868a0d09c707df0c8b12ca...\n"
     ]
    },
    {
     "data": {
      "application/vnd.jupyter.widget-view+json": {
       "model_id": "d6b8fd4b8aac4ac6812efe8d07193d45",
       "version_major": 2,
       "version_minor": 0
      },
      "text/plain": [
       "Downloading data:   0%|          | 0.00/400M [00:00<?, ?B/s]"
      ]
     },
     "metadata": {},
     "output_type": "display_data"
    },
    {
     "data": {
      "application/vnd.jupyter.widget-view+json": {
       "model_id": "b40abb268fc042cdae9f763bbbcad973",
       "version_major": 2,
       "version_minor": 0
      },
      "text/plain": [
       "Downloading data:   0%|          | 0.00/15.2M [00:00<?, ?B/s]"
      ]
     },
     "metadata": {},
     "output_type": "display_data"
    },
    {
     "data": {
      "application/vnd.jupyter.widget-view+json": {
       "model_id": "3b766a91f499451ca8ac03ebc1b5d534",
       "version_major": 2,
       "version_minor": 0
      },
      "text/plain": [
       "Downloading data:   0%|          | 0.00/1.55M [00:00<?, ?B/s]"
      ]
     },
     "metadata": {},
     "output_type": "display_data"
    },
    {
     "data": {
      "application/vnd.jupyter.widget-view+json": {
       "model_id": "edcf9aa1bb9b4acbb7bf46dd6f018bd2",
       "version_major": 2,
       "version_minor": 0
      },
      "text/plain": [
       "Downloading data:   0%|          | 0.00/9.72M [00:00<?, ?B/s]"
      ]
     },
     "metadata": {},
     "output_type": "display_data"
    },
    {
     "data": {
      "application/vnd.jupyter.widget-view+json": {
       "model_id": "7c55d4b27ab447bca07de0ee0f70252a",
       "version_major": 2,
       "version_minor": 0
      },
      "text/plain": [
       "Generating pairwise_spatial_enrichment split: 0 examples [00:00, ? examples/s]"
      ]
     },
     "metadata": {},
     "output_type": "display_data"
    },
    {
     "name": "stdout",
     "output_type": "stream",
     "text": [
      "Dataset ark_example downloaded and prepared to /Users/srivarra/.cache/huggingface/datasets/angelolab___ark_example/pairwise_spatial_enrichment/0.0.4/708680716d549df2396993fc412fe8dd2d0a34fb38868a0d09c707df0c8b12ca. Subsequent calls will reuse this data.\n"
     ]
    },
    {
     "data": {
      "application/vnd.jupyter.widget-view+json": {
       "model_id": "9b691a519613465491482cb0552574cb",
       "version_major": 2,
       "version_minor": 0
      },
      "text/plain": [
       "  0%|          | 0/1 [00:00<?, ?it/s]"
      ]
     },
     "metadata": {},
     "output_type": "display_data"
    },
    {
     "name": "stderr",
     "output_type": "stream",
     "text": [
      "/Users/srivarra/Angelo Lab/ark-analysis/ark/utils/example_dataset.py:135: UserWarning: Files exist in ../data/example_dataset/image_data.                         They will not be overwritten.\n",
      "  warnings.warn(UserWarning(f\"Files exist in {dst_path}. \\\n",
      "/Users/srivarra/Angelo Lab/ark-analysis/ark/utils/example_dataset.py:135: UserWarning: Files exist in ../data/example_dataset/segmentation/cell_table.                         They will not be overwritten.\n",
      "  warnings.warn(UserWarning(f\"Files exist in {dst_path}. \\\n",
      "/Users/srivarra/Angelo Lab/ark-analysis/ark/utils/example_dataset.py:135: UserWarning: Files exist in ../data/example_dataset/segmentation/deepcell_output.                         They will not be overwritten.\n",
      "  warnings.warn(UserWarning(f\"Files exist in {dst_path}. \\\n"
     ]
    },
    {
     "ename": "KeyError",
     "evalue": "'post_clustering'",
     "output_type": "error",
     "traceback": [
      "\u001b[0;31m---------------------------------------------------------------------------\u001b[0m",
      "\u001b[0;31mKeyError\u001b[0m                                  Traceback (most recent call last)",
      "Cell \u001b[0;32mIn [4], line 1\u001b[0m\n\u001b[0;32m----> 1\u001b[0m example_dataset\u001b[39m.\u001b[39;49mget_example_dataset(dataset\u001b[39m=\u001b[39;49m\u001b[39m\"\u001b[39;49m\u001b[39mpairwise_spatial_enrichment\u001b[39;49m\u001b[39m\"\u001b[39;49m, save_dir\u001b[39m=\u001b[39;49mbase_dir, overwrite_existing\u001b[39m=\u001b[39;49m\u001b[39mFalse\u001b[39;49;00m)\n",
      "File \u001b[0;32m~/Angelo Lab/ark-analysis/ark/utils/example_dataset.py:177\u001b[0m, in \u001b[0;36mget_example_dataset\u001b[0;34m(dataset, save_dir, overwrite_existing)\u001b[0m\n\u001b[1;32m    174\u001b[0m example_dataset\u001b[39m.\u001b[39mdownload_example_dataset()\n\u001b[1;32m    176\u001b[0m \u001b[39m# Move the dataset over to the save_dir from the user.\u001b[39;00m\n\u001b[0;32m--> 177\u001b[0m example_dataset\u001b[39m.\u001b[39;49mmove_example_dataset(move_dir\u001b[39m=\u001b[39;49msave_dir)\n",
      "File \u001b[0;32m~/Angelo Lab/ark-analysis/ark/utils/example_dataset.py:104\u001b[0m, in \u001b[0;36mExampleDataset.move_example_dataset\u001b[0;34m(self, move_dir)\u001b[0m\n\u001b[1;32m    101\u001b[0m dataset_names \u001b[39m=\u001b[39m \u001b[39mlist\u001b[39m(\u001b[39mself\u001b[39m\u001b[39m.\u001b[39mdataset_paths[\u001b[39mself\u001b[39m\u001b[39m.\u001b[39mdataset]\u001b[39m.\u001b[39mfeatures\u001b[39m.\u001b[39mkeys())\n\u001b[1;32m    103\u001b[0m \u001b[39mfor\u001b[39;00m ds_n \u001b[39min\u001b[39;00m dataset_names:\n\u001b[0;32m--> 104\u001b[0m     ds_n_suffix \u001b[39m=\u001b[39m \u001b[39mself\u001b[39;49m\u001b[39m.\u001b[39;49mpath_suffixes[ds_n]\n\u001b[1;32m    106\u001b[0m     \u001b[39m# The path where the dataset is saved in the Hugging Face Cache post-download,\u001b[39;00m\n\u001b[1;32m    107\u001b[0m     \u001b[39m# Necessary to copy + move the data from the cache to the user specified `move_dir`.\u001b[39;00m\n\u001b[1;32m    108\u001b[0m     dataset_cache_path \u001b[39m=\u001b[39m pathlib\u001b[39m.\u001b[39mPath(\u001b[39mself\u001b[39m\u001b[39m.\u001b[39mdataset_paths[\u001b[39mself\u001b[39m\u001b[39m.\u001b[39mdataset][ds_n][\u001b[39m0\u001b[39m])\n",
      "\u001b[0;31mKeyError\u001b[0m: 'post_clustering'"
     ]
    }
   ],
   "source": [
    "example_dataset.get_example_dataset(dataset=\"pairwise_spatial_enrichment\", save_dir=base_dir, overwrite_existing=False)"
   ]
  },
  {
   "cell_type": "code",
   "execution_count": null,
   "metadata": {},
   "outputs": [],
   "source": [
    "# validate file paths (add other directories as needed)\n",
    "io_utils.validate_paths([\n",
    "    base_dir,\n",
    "    spatial_analysis_dir,\n",
    "    deepcell_output,\n",
    "])"
   ]
  },
  {
   "cell_type": "markdown",
   "metadata": {
    "tags": []
   },
   "source": [
    "### Loading in generated cell tables from csv file"
   ]
  },
  {
   "cell_type": "code",
   "execution_count": null,
   "metadata": {},
   "outputs": [],
   "source": [
    "# Import the necessary data\n",
    "# This is the cell expression matrix including data for fovs 6 and 7, their cell labels, marker expression,\n",
    "# cell phenotypes (cell_type), and cell phenotype IDs.\n",
    "all_data = pd.read_csv(cell_table_path)"
   ]
  },
  {
   "cell_type": "markdown",
   "metadata": {},
   "source": [
    "### Loading user specified marker thresholds from csv file\n",
    "\n",
    "If you're only trying to look at cluster based spatial analysis, you may skip this step.\n",
    "\n",
    "Support for programmatic generation of marker thresholds may be available in the future."
   ]
  },
  {
   "cell_type": "code",
   "execution_count": null,
   "metadata": {},
   "outputs": [],
   "source": [
    "# This is the threshold matrix with all marker thresholds - for channel cpatial enrichment\n",
    "marker_thresholds = pd.read_csv(marker_thresholds_path)\n",
    "marker_thresholds = marker_thresholds.drop(0, axis=0)"
   ]
  },
  {
   "cell_type": "markdown",
   "metadata": {},
   "source": [
    "### Create the distance matrices"
   ]
  },
  {
   "cell_type": "markdown",
   "metadata": {},
   "source": [
    "Create the distance matrices to use for spatial analysis. The matrix for each FOV will will be saved to the `dist_mat_output` folder in the format `{fov_name}_dist_mat.xr`.\n",
    "\n",
    "<b>NOTE:</b> this step is skipped if the distance matrices have already been created."
   ]
  },
  {
   "cell_type": "code",
   "execution_count": null,
   "metadata": {},
   "outputs": [],
   "source": [
    "# create the dist_mat_output directory if it doesn't exist\n",
    "if not os.path.exists(dist_mat_dir):\n",
    "    os.makedirs(dist_mat_dir)\n",
    "    spatial_analysis_utils.calc_dist_matrix(deepcell_output, dist_mat_dir)\n",
    "    \n",
    "# verify all the FOVs computed exist in all_data\n",
    "misc_utils.verify_in_list(\n",
    "    dist_mat_fovs=[f.replace('_dist_mat.xr', '') for f in io_utils.list_files(dist_mat_dir, substrs='_dist_mat.xr')],\n",
    "    input_fovs=all_data[settings.FOV_ID].unique()\n",
    ")"
   ]
  },
  {
   "cell_type": "markdown",
   "metadata": {},
   "source": [
    "### Channels excluded from spatial analysis\n",
    "\n",
    "These will generally be non biologically significant channels, or channels which won't posess\n",
    "interesting spatial distribution. Set to `None` to keep all the channels."
   ]
  },
  {
   "cell_type": "code",
   "execution_count": null,
   "metadata": {},
   "outputs": [],
   "source": [
    "excluded_channels = [\n",
    "    \"CD3\",\n",
    "    \"Fibronectin\",\n",
    "]"
   ]
  },
  {
   "cell_type": "markdown",
   "metadata": {},
   "source": [
    "### Compute spatial enrichment for channel expression in cells\n",
    "\n",
    "If you're not interested in channel expression, or don't have marker thresholds, continue to the\n",
    "below step."
   ]
  },
  {
   "cell_type": "code",
   "execution_count": null,
   "metadata": {},
   "outputs": [],
   "source": [
    "values_channel, stats_channel = spatial_analysis.generate_channel_spatial_enrichment_stats(\n",
    "    deepcell_output, dist_mat_dir, marker_thresholds, all_data,\n",
    "    excluded_channels=excluded_channels, bootstrap_num=5\n",
    ")"
   ]
  },
  {
   "cell_type": "code",
   "execution_count": null,
   "metadata": {},
   "outputs": [],
   "source": [
    "# For channel spatial analysis, first find all the marker titles to use as input for the clustergram\n",
    "channel_start = np.where(all_data.columns == settings.PRE_CHANNEL_COL)[0][0] + 1\n",
    "channel_end = np.where(all_data.columns == settings.POST_CHANNEL_COL)[0][0]\n",
    "\n",
    "marker_titles = all_data.iloc[:, channel_start:channel_end].drop(excluded_channels if excluded_channels is not None else [], axis=1).columns\n",
    "visualize.draw_heatmap(stats_channel.loc['fov6', \"z\", :, :].values, marker_titles, marker_titles)"
   ]
  },
  {
   "cell_type": "markdown",
   "metadata": {},
   "source": [
    "### Compute spatial enrichment for cluster identity of cells\n",
    "\n",
    "If you don't have cluster data, skip this step.  A cell clustering notebook will be released\n",
    "shortly to fascilitate this step."
   ]
  },
  {
   "cell_type": "code",
   "execution_count": null,
   "metadata": {},
   "outputs": [],
   "source": [
    "values_cluster, stats_cluster = spatial_analysis.generate_cluster_spatial_enrichment_stats(\n",
    "    deepcell_output, dist_mat_dir, all_data, bootstrap_num=5\n",
    ")"
   ]
  },
  {
   "cell_type": "code",
   "execution_count": null,
   "metadata": {},
   "outputs": [],
   "source": [
    "# To visualize the z scores, a clustermap can be produced\n",
    "# For cluster spatial analysis, first find all the cell phenotypes in the data to use as an input for the clustergram\n",
    "pheno_titles = all_data[settings.CELL_TYPE].drop_duplicates()\n",
    "visualize.draw_heatmap(stats_cluster.loc['fov6', \"z\", :, :].values, pheno_titles, pheno_titles)"
   ]
  }
 ],
 "metadata": {
  "jupytext": {
   "cell_metadata_filter": "-all",
   "main_language": "python",
   "notebook_metadata_filter": "-all"
  },
  "kernelspec": {
   "display_name": "Python 3.8.15 64-bit ('ark38')",
   "language": "python",
   "name": "python3"
  },
  "language_info": {
   "codemirror_mode": {
    "name": "ipython",
    "version": 3
   },
   "file_extension": ".py",
   "mimetype": "text/x-python",
   "name": "python",
   "nbconvert_exporter": "python",
   "pygments_lexer": "ipython3",
   "version": "3.8.15"
  },
  "vscode": {
   "interpreter": {
    "hash": "31e90e2a7155cbaa93471c58eaf30b3c41423e5d17fccea222aec5e482389189"
   }
  }
 },
 "nbformat": 4,
 "nbformat_minor": 4
}
