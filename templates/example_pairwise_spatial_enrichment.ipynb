{
 "cells": [
  {
   "cell_type": "markdown",
   "metadata": {},
   "source": [
    "### This is a notebook for running spatial analysis on paired FOVs and cell tables generated via the `Segment_Image_Data.ipynb` notebook."
   ]
  },
  {
   "cell_type": "code",
   "execution_count": 1,
   "metadata": {},
   "outputs": [],
   "source": [
    "# Import all the necessary packages\n",
    "import os\n",
    "import xarray as xr\n",
    "import numpy as np\n",
    "import pandas as pd\n",
    "\n",
    "from ark.utils import spatial_analysis_utils, io_utils, misc_utils, example_dataset\n",
    "from ark.analysis import spatial_analysis, visualize\n",
    "\n",
    "import ark.settings as settings"
   ]
  },
  {
   "cell_type": "code",
   "execution_count": 2,
   "metadata": {},
   "outputs": [],
   "source": [
    "# This script takes a cell expression matrix, label maps for the fovs to be included in the analysis, and, depending\n",
    "# on the analysis, a threshold matrix for channel or cluster spatial analysis. In channel spatial analysis, cells for\n",
    "# a specific fov are identified, and cells of particular phenotypes are compared to each other to check for positive,\n",
    "# negative, or no enrichment. To do this, a distance matrix is created from the segmented label maps, cell phenotypes are\n",
    "# identified by their labels in the image and then significant interactions between different populations of phenotypes\n",
    "# are recorded. Similar analysis is also done for channel spatial enrichment; however, instead of looking at cell\n",
    "# phenotypes, markers positive for specific thresholds are identified and specific interactions are then characterized\n",
    "# between them."
   ]
  },
  {
   "cell_type": "code",
   "execution_count": 3,
   "metadata": {},
   "outputs": [],
   "source": [
    "# Set up file paths and import data\n",
    "base_dir = \"../data/example_dataset/\"\n",
    "\n",
    "cell_table_path = os.path.join(base_dir, \"segmentation/cell_table/cell_table_size_normalized_cell_labels.csv\")\n",
    "marker_thresholds_path = os.path.join(base_dir, \"post_clustering/marker_thresholds.csv\")\n",
    "deepcell_output = os.path.join(base_dir, \"segmentation/deepcell_output\")\n",
    "dist_mat_dir = os.path.join(base_dir, \"spatial_analysis/pairwise_spatial_enrichment/dist_mats\")"
   ]
  },
  {
   "cell_type": "markdown",
   "metadata": {},
   "source": [
    "### Download the Example Dataset\n",
    "\n",
    "Here we are using the example data located in `/data/example_dataset/input_data`. To modify this notebook to run using your own data, simply change the `base_dir` to point to your own sub-directory within the data folder, rather than `'example_dataset'`. \n",
    "\n",
    "If you would like to test the features in Ark with an example dataset, run the cell below. It will download a dataset consisting of 11 FOVs with 22 channels. You may find more information about the example dataset in the [README](../README.md#example-dataset).\n",
    "\n",
    "* `overwrite_existing`: If set to `False`, it will not overwrite existing data in the `data/example_dataset`. Recommended setting it to `True` if you have not run Notebooks 1-4."
   ]
  },
  {
   "cell_type": "code",
   "execution_count": null,
   "metadata": {},
   "outputs": [],
   "source": [
    "example_dataset.get_example_dataset(dataset=\"pairwise_spatial_enrichment\", save_dir=base_dir, overwrite_existing=True)"
   ]
  },
  {
   "cell_type": "code",
   "execution_count": 4,
   "metadata": {},
   "outputs": [],
   "source": [
    "# validate file paths (add other directories as needed)\n",
    "io_utils.validate_paths([\n",
    "    base_dir,\n",
    "    deepcell_output,\n",
    "])"
   ]
  },
  {
   "cell_type": "markdown",
   "metadata": {
    "tags": []
   },
   "source": [
    "### Loading in generated cell tables from csv file"
   ]
  },
  {
   "cell_type": "code",
   "execution_count": 5,
   "metadata": {},
   "outputs": [],
   "source": [
    "# Import the necessary data\n",
    "# This is the cell expression matrix including data for fovs 6 and 7, their cell labels, marker expression,\n",
    "# cell phenotypes (cell_type), and cell phenotype IDs.\n",
    "all_data = pd.read_csv(cell_table_path)"
   ]
  },
  {
   "cell_type": "markdown",
   "metadata": {},
   "source": [
    "### Loading user specified marker thresholds from csv file\n",
    "\n",
    "If you're only trying to look at cluster based spatial analysis, you may skip this step.\n",
    "\n",
    "Support for programmatic generation of marker thresholds may be available in the future."
   ]
  },
  {
   "cell_type": "code",
   "execution_count": 6,
   "metadata": {},
   "outputs": [],
   "source": [
    "# This is the threshold matrix with all marker thresholds - for channel cpatial enrichment\n",
    "marker_thresholds = pd.read_csv(marker_thresholds_path)\n",
    "marker_thresholds = marker_thresholds.drop(0, axis=0)"
   ]
  },
  {
   "cell_type": "markdown",
   "metadata": {},
   "source": [
    "### Create the distance matrices"
   ]
  },
  {
   "cell_type": "markdown",
   "metadata": {},
   "source": [
    "Create the distance matrices to use for spatial analysis. The matrix for each FOV will will be saved to the `dist_mat_output` folder in the format `{fov_name}_dist_mat.xr`.\n",
    "\n",
    "<b>NOTE:</b> this step is skipped if the distance matrices have already been created."
   ]
  },
  {
   "cell_type": "code",
   "execution_count": 7,
   "metadata": {},
   "outputs": [],
   "source": [
    "# create the dist_mat_output directory if it doesn't exist\n",
    "if not os.path.exists(dist_mat_dir):\n",
    "    os.makedirs(dist_mat_dir)\n",
    "    spatial_analysis_utils.calc_dist_matrix(deepcell_output, dist_mat_dir)\n",
    "    \n",
    "# verify all the FOVs computed exist in all_data\n",
    "misc_utils.verify_in_list(\n",
    "    dist_mat_fovs=[f.replace('_dist_mat.xr', '') for f in io_utils.list_files(dist_mat_dir, substrs='_dist_mat.xr')],\n",
    "    input_fovs=all_data[settings.FOV_ID].unique()\n",
    ")"
   ]
  },
  {
   "cell_type": "markdown",
   "metadata": {},
   "source": [
    "### Channels excluded from spatial analysis\n",
    "\n",
    "These will generally be non biologically significant channels, or channels which won't posess\n",
    "interesting spatial distribution. Set to `None` to keep all the channels."
   ]
  },
  {
   "cell_type": "code",
   "execution_count": 8,
   "metadata": {},
   "outputs": [],
   "source": [
    "excluded_channels = [\n",
    "    \"CD3\",\n",
    "    \"Fibronectin\",\n",
    "]"
   ]
  },
  {
   "cell_type": "markdown",
   "metadata": {},
   "source": [
    "### Compute spatial enrichment for channel expression in cells\n",
    "\n",
    "If you're not interested in channel expression, or don't have marker thresholds, continue to the\n",
    "below step."
   ]
  },
  {
   "cell_type": "code",
   "execution_count": 9,
   "metadata": {},
   "outputs": [
    {
     "data": {
      "application/vnd.jupyter.widget-view+json": {
       "model_id": "4953530c32794d5aa11e4acdb06c03e6",
       "version_major": 2,
       "version_minor": 0
      },
      "text/plain": [
       "Channel Spatial Enrichment:   0%|          | 0/11 [00:00<?, ?it/s]"
      ]
     },
     "metadata": {},
     "output_type": "display_data"
    },
    {
     "ename": "ValueError",
     "evalue": "1 value(s) provided for list markers to threshold and list all markers are not found in both lists.\nDisplaying 1 of 1 value(s) in list markers to threshold that are missing from list all markers\n \n1            Fibronectin\n\nDisplaying 0 of 0 value(s) in list all markers that are missing from list markers to threshold\n \n\n",
     "output_type": "error",
     "traceback": [
      "\u001b[0;31m---------------------------------------------------------------------------\u001b[0m",
      "\u001b[0;31mValueError\u001b[0m                                Traceback (most recent call last)",
      "Cell \u001b[0;32mIn [9], line 1\u001b[0m\n\u001b[0;32m----> 1\u001b[0m values_channel, stats_channel \u001b[39m=\u001b[39m spatial_analysis\u001b[39m.\u001b[39;49mgenerate_channel_spatial_enrichment_stats(\n\u001b[1;32m      2\u001b[0m     deepcell_output, dist_mat_dir, marker_thresholds, all_data,\n\u001b[1;32m      3\u001b[0m     excluded_channels\u001b[39m=\u001b[39;49mexcluded_channels, bootstrap_num\u001b[39m=\u001b[39;49m\u001b[39m5\u001b[39;49m\n\u001b[1;32m      4\u001b[0m )\n",
      "File \u001b[0;32m~/Angelo Lab/ark-analysis/ark/analysis/spatial_analysis.py:78\u001b[0m, in \u001b[0;36mgenerate_channel_spatial_enrichment_stats\u001b[0;34m(label_dir, dist_mat_dir, marker_thresholds, all_data, suffix, xr_channel_name, **kwargs)\u001b[0m\n\u001b[1;32m     72\u001b[0m label_maps \u001b[39m=\u001b[39m load_utils\u001b[39m.\u001b[39mload_imgs_from_dir(label_dir, files\u001b[39m=\u001b[39m[label_file],\n\u001b[1;32m     73\u001b[0m                                            xr_channel_names\u001b[39m=\u001b[39m[xr_channel_name],\n\u001b[1;32m     74\u001b[0m                                            trim_suffix\u001b[39m=\u001b[39msuffix)\n\u001b[1;32m     75\u001b[0m dist_mat \u001b[39m=\u001b[39m xr\u001b[39m.\u001b[39mload_dataarray(os\u001b[39m.\u001b[39mpath\u001b[39m.\u001b[39mjoin(dist_mat_dir, fov_name \u001b[39m+\u001b[39m \u001b[39m'\u001b[39m\u001b[39m_dist_mat.xr\u001b[39m\u001b[39m'\u001b[39m))\n\u001b[1;32m     77\u001b[0m batch_vals, batch_stats \u001b[39m=\u001b[39m \\\n\u001b[0;32m---> 78\u001b[0m     calculate_channel_spatial_enrichment(\n\u001b[1;32m     79\u001b[0m         fov_name, dist_mat, marker_thresholds, all_data, \u001b[39m*\u001b[39;49m\u001b[39m*\u001b[39;49mkwargs\n\u001b[1;32m     80\u001b[0m     )\n\u001b[1;32m     82\u001b[0m \u001b[39m# append new values\u001b[39;00m\n\u001b[1;32m     83\u001b[0m values \u001b[39m=\u001b[39m values \u001b[39m+\u001b[39m [batch_vals]\n",
      "File \u001b[0;32m~/Angelo Lab/ark-analysis/ark/analysis/spatial_analysis.py:154\u001b[0m, in \u001b[0;36mcalculate_channel_spatial_enrichment\u001b[0;34m(fov, dist_matrix, marker_thresholds, all_data, excluded_channels, dist_lim, bootstrap_num, fov_col, cell_label_col, context_col)\u001b[0m\n\u001b[1;32m    151\u001b[0m     all_channel_data \u001b[39m=\u001b[39m all_channel_data\u001b[39m.\u001b[39mdrop(excluded_channels, axis\u001b[39m=\u001b[39m\u001b[39m1\u001b[39m)\n\u001b[1;32m    153\u001b[0m \u001b[39m# check that the markers are the same in marker_thresholdsa and all_channel_data\u001b[39;00m\n\u001b[0;32m--> 154\u001b[0m misc_utils\u001b[39m.\u001b[39;49mverify_same_elements(markers_to_threshold\u001b[39m=\u001b[39;49mmarker_thresholds\u001b[39m.\u001b[39;49miloc[:, \u001b[39m0\u001b[39;49m]\u001b[39m.\u001b[39;49mvalues,\n\u001b[1;32m    155\u001b[0m                                 all_markers\u001b[39m=\u001b[39;49mall_channel_data\u001b[39m.\u001b[39;49mcolumns\u001b[39m.\u001b[39;49mvalues)\n\u001b[1;32m    157\u001b[0m \u001b[39m# reorder all_channel_data's marker columns the same as they appear in marker_thresholds\u001b[39;00m\n\u001b[1;32m    158\u001b[0m all_channel_data \u001b[39m=\u001b[39m all_channel_data[marker_thresholds\u001b[39m.\u001b[39miloc[:, \u001b[39m0\u001b[39m]\u001b[39m.\u001b[39mvalues]\n",
      "File \u001b[0;32m~/Angelo Lab/ark-analysis/ark/utils/misc_utils.py:282\u001b[0m, in \u001b[0;36mverify_same_elements\u001b[0;34m(enforce_order, warn, **kwargs)\u001b[0m\n\u001b[1;32m    280\u001b[0m         warnings\u001b[39m.\u001b[39mwarn(err_str)\n\u001b[1;32m    281\u001b[0m     \u001b[39melse\u001b[39;00m:\n\u001b[0;32m--> 282\u001b[0m         \u001b[39mraise\u001b[39;00m \u001b[39mValueError\u001b[39;00m(err_str)\n\u001b[1;32m    283\u001b[0m \u001b[39melif\u001b[39;00m enforce_order \u001b[39mand\u001b[39;00m list_one_cast \u001b[39m!=\u001b[39m list_two_cast:\n\u001b[1;32m    284\u001b[0m     first_bad_index \u001b[39m=\u001b[39m \u001b[39mnext\u001b[39m(i \u001b[39mfor\u001b[39;00m i, (l1, l2) \u001b[39min\u001b[39;00m \u001b[39menumerate\u001b[39m(\n\u001b[1;32m    285\u001b[0m         \u001b[39mzip\u001b[39m(list_one_cast, list_two_cast)) \u001b[39mif\u001b[39;00m l1 \u001b[39m!=\u001b[39m l2\n\u001b[1;32m    286\u001b[0m     )\n",
      "\u001b[0;31mValueError\u001b[0m: 1 value(s) provided for list markers to threshold and list all markers are not found in both lists.\nDisplaying 1 of 1 value(s) in list markers to threshold that are missing from list all markers\n \n1            Fibronectin\n\nDisplaying 0 of 0 value(s) in list all markers that are missing from list markers to threshold\n \n\n"
     ]
    }
   ],
   "source": [
    "values_channel, stats_channel = spatial_analysis.generate_channel_spatial_enrichment_stats(\n",
    "    deepcell_output, dist_mat_dir, marker_thresholds, all_data,\n",
    "    excluded_channels=excluded_channels, bootstrap_num=5\n",
    ")"
   ]
  },
  {
   "cell_type": "code",
   "execution_count": null,
   "metadata": {},
   "outputs": [],
   "source": [
    "# For channel spatial analysis, first find all the marker titles to use as input for the clustergram\n",
    "channel_start = np.where(all_data.columns == settings.PRE_CHANNEL_COL)[0][0] + 1\n",
    "channel_end = np.where(all_data.columns == settings.POST_CHANNEL_COL)[0][0]\n",
    "\n",
    "marker_titles = all_data.iloc[:, channel_start:channel_end].drop(excluded_channels if excluded_channels is not None else [], axis=1).columns\n",
    "visualize.draw_heatmap(stats_channel.loc['fov6', \"z\", :, :].values, marker_titles, marker_titles)"
   ]
  },
  {
   "cell_type": "markdown",
   "metadata": {},
   "source": [
    "### Compute spatial enrichment for cluster identity of cells\n",
    "\n",
    "If you don't have cluster data, skip this step.  A cell clustering notebook will be released\n",
    "shortly to fascilitate this step."
   ]
  },
  {
   "cell_type": "code",
   "execution_count": null,
   "metadata": {},
   "outputs": [],
   "source": [
    "values_cluster, stats_cluster = spatial_analysis.generate_cluster_spatial_enrichment_stats(\n",
    "    deepcell_output, dist_mat_dir, all_data, bootstrap_num=5\n",
    ")"
   ]
  },
  {
   "cell_type": "code",
   "execution_count": null,
   "metadata": {},
   "outputs": [],
   "source": [
    "# To visualize the z scores, a clustermap can be produced\n",
    "# For cluster spatial analysis, first find all the cell phenotypes in the data to use as an input for the clustergram\n",
    "pheno_titles = all_data[settings.CELL_TYPE].drop_duplicates()\n",
    "visualize.draw_heatmap(stats_cluster.loc['fov6', \"z\", :, :].values, pheno_titles, pheno_titles)"
   ]
  }
 ],
 "metadata": {
  "jupytext": {
   "cell_metadata_filter": "-all",
   "main_language": "python",
   "notebook_metadata_filter": "-all"
  },
  "kernelspec": {
   "display_name": "Python 3.8.15 64-bit ('ark38')",
   "language": "python",
   "name": "python3"
  },
  "language_info": {
   "codemirror_mode": {
    "name": "ipython",
    "version": 3
   },
   "file_extension": ".py",
   "mimetype": "text/x-python",
   "name": "python",
   "nbconvert_exporter": "python",
   "pygments_lexer": "ipython3",
   "version": "3.8.15"
  },
  "vscode": {
   "interpreter": {
    "hash": "31e90e2a7155cbaa93471c58eaf30b3c41423e5d17fccea222aec5e482389189"
   }
  }
 },
 "nbformat": 4,
 "nbformat_minor": 4
}
