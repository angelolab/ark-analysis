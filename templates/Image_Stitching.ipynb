{
 "cells": [
  {
   "cell_type": "markdown",
   "id": "e6396ae5-6cd6-476c-8215-1b8cea4c2b00",
   "metadata": {},
   "source": [
    "# Image Stitching\n",
    "The purpose of this notebook is to examine images according to the original tiled FOV shape. Note: the FOV names are expected to already be in RnCm format."
   ]
  },
  {
   "cell_type": "code",
   "execution_count": null,
   "id": "6a9af69a-c497-49e5-bcdb-1afeed3f01d8",
   "metadata": {},
   "outputs": [],
   "source": [
    "# import required packages\n",
    "from ark.utils.data_utils import stitch_images_by_shape"
   ]
  },
  {
   "cell_type": "markdown",
   "id": "8ecd7b8c-b55b-4aa8-9306-65a9eca6b692",
   "metadata": {},
   "source": [
    "### All data, images, files, etc. must be placed in the 'data' directory, and referenced via '../data/path_to_your_data'\n",
    "\n",
    "* `image_dir`: path to where images are stored\n",
    "* `stitched_dir`: path to a new directory that will be created to store the stitched images, to avoid conflicts **do not make this a subdirectory of your `data_dir`**"
   ]
  },
  {
   "cell_type": "markdown",
   "id": "977f8d09-85a6-4db2-9c88-189710566c8e",
   "metadata": {},
   "source": [
    "### Stitch Channel Images\n",
    "Images are expected to be contained within FOV subdfolders in the `image_dir` dir.\n",
    "* `channels`: list of channels to create stitched images for, leaving as None will generate tiled images for all channels"
   ]
  },
  {
   "cell_type": "code",
   "execution_count": null,
   "id": "0e2937f1-4eec-4e04-958f-af98236f7466",
   "metadata": {},
   "outputs": [],
   "source": [
    "# set up file paths\n",
    "image_dir = '../data/example_dataset/image_data'\n",
    "stitched_dir = '../data/example_dataset/stitched_channel_images'\n",
    "\n",
    "channels = None      # channels = []\n",
    "\n",
    "stitch_images_by_shape(image_dir, stitched_dir, img_sub_folder=None, channels=channels, segmentation=False, clustering=False)"
   ]
  },
  {
   "cell_type": "markdown",
   "id": "de1ae179-c815-4fdf-a9cc-eb72e72b97aa",
   "metadata": {},
   "source": [
    "### Stitch Segmentation Output Images\n",
    "Images are expected to be contained directly within the`image_dir` dir.\n",
    "* `segmentation`: set to True if stitching images from the deepcell_output directory after running `1_Segment_Image_Data`"
   ]
  },
  {
   "cell_type": "code",
   "execution_count": null,
   "id": "9806919f-8749-4779-886d-2236a16f4d69",
   "metadata": {},
   "outputs": [],
   "source": [
    "# set up file paths\n",
    "image_dir = '../data/example_dataset/segmentation/deepcell_output'\n",
    "stitched_dir = '../data/example_dataset/stitched_channel_images'\n",
    "\n",
    "segmentation = True\n",
    "\n",
    "stitch_images_by_shape(image_dir, stitched_dir, img_sub_folder=None, channels=None, segmentation=segmentation, clustering=False)"
   ]
  },
  {
   "cell_type": "markdown",
   "id": "9cb51103-359f-42fc-86b7-b51331fe62f8",
   "metadata": {},
   "source": [
    "### Stitch Clustering Output Images\n",
    "Images are expected to be contained directly within the`image_dir` dir.\n",
    "* `clustering`: set to either \"pixel\" or \"cell\" if stitching images from the the corresponding masks directory after running `2_Cluster_Pixels` or `3_Cluster_Cells`"
   ]
  },
  {
   "cell_type": "code",
   "execution_count": null,
   "id": "90b9d198-e019-4462-8517-a9ca6eafcb65",
   "metadata": {},
   "outputs": [],
   "source": [
    "# set up file paths\n",
    "image_dir = '../data/example_dataset/2022-09-26T21/09/50_pixel_output_dir/pixel_masks'\n",
    "stitched_dir = '../data/example_dataset/stitched_channel_images'\n",
    "\n",
    "clustering = \"pixel\"   # clustering = \"cell\"\n",
    "\n",
    "stitch_images_by_shape(image_dir, stitched_dir, img_sub_folder=None, channels=None, segmentation=False, clustering=clustering)"
   ]
  }
 ],
 "metadata": {
  "kernelspec": {
   "display_name": "ark_env",
   "language": "python",
   "name": "ark_env"
  },
  "language_info": {
   "codemirror_mode": {
    "name": "ipython",
    "version": 3
   },
   "file_extension": ".py",
   "mimetype": "text/x-python",
   "name": "python",
   "nbconvert_exporter": "python",
   "pygments_lexer": "ipython3",
   "version": "3.8.13"
  }
 },
 "nbformat": 4,
 "nbformat_minor": 5
}
