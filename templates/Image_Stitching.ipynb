{
 "cells": [
  {
   "cell_type": "markdown",
   "id": "e6396ae5-6cd6-476c-8215-1b8cea4c2b00",
   "metadata": {},
   "source": [
    "# Image Stitching\n",
    "The purpose of this notebook is to examine images according to the original tiled FOV shape. Note: the FOV names are expected to already be in RnCm format."
   ]
  },
  {
   "cell_type": "code",
   "execution_count": null,
   "id": "6a9af69a-c497-49e5-bcdb-1afeed3f01d8",
   "metadata": {},
   "outputs": [],
   "source": [
    "# import required packages\n",
    "from ark.utils.data_utils import stitch_images_by_shape"
   ]
  },
  {
   "cell_type": "markdown",
   "id": "8ecd7b8c-b55b-4aa8-9306-65a9eca6b692",
   "metadata": {},
   "source": [
    "### All data, images, files, etc. must be placed in the 'data' directory, and referenced via '../data/path_to_your_data'\n",
    "\n",
    "* `data_dir`: path to where images are stored, default structure expected is that this directory contains FOV named subfolders holding your images (unless stitching after segmentation or clustering)\n",
    "* `stitched_dir`: path to a new directory that will be created to store the stitched images, to avoid conflicts **do not make this a subdirectory of your `data_dir`**"
   ]
  },
  {
   "cell_type": "code",
   "execution_count": null,
   "id": "7075e212-87f3-4154-a972-9ade1f128741",
   "metadata": {},
   "outputs": [],
   "source": [
    "# set up file paths\n",
    "data_dir = '../data/example_dataset/image_data'\n",
    "sttiched_dir = '../data/example_dataset/stitched_channel_images'"
   ]
  },
  {
   "cell_type": "markdown",
   "id": "ee840b8c-0176-46f3-911e-99cd0e4122c5",
   "metadata": {},
   "source": [
    "### Create stitched images\n",
    "* `channels`: list of channels to create stitched images for, leaving as None will generate tiled images for all channels\n",
    "* `segmentation`: set to True if stitching images from the deepcell_output directory after running `1_Segment_Image_Data`\n",
    "* `clustering`: set to either \"pixel\" or \"cell\" if stitching images from the the corresponding masks directory after running `2_Cluster_Pixels` or `3_Cluster_Cells`"
   ]
  },
  {
   "cell_type": "code",
   "execution_count": null,
   "id": "0e2937f1-4eec-4e04-958f-af98236f7466",
   "metadata": {},
   "outputs": [],
   "source": [
    "channels = None      # channels = []\n",
    "segmentation = False\n",
    "clustering = False   # clustering = \"pixel\" / \"cell\"\n",
    "\n",
    "stitch_images_by_shape(data_dir, stitched_dir, img_sub_folder=None, \n",
    "                       channels=channels, segmentation=segmentation, clustering=clustering)"
   ]
  }
 ],
 "metadata": {
  "kernelspec": {
   "display_name": "ark_env",
   "language": "python",
   "name": "ark_env"
  },
  "language_info": {
   "codemirror_mode": {
    "name": "ipython",
    "version": 3
   },
   "file_extension": ".py",
   "mimetype": "text/x-python",
   "name": "python",
   "nbconvert_exporter": "python",
   "pygments_lexer": "ipython3",
   "version": "3.8.13"
  }
 },
 "nbformat": 4,
 "nbformat_minor": 5
}
