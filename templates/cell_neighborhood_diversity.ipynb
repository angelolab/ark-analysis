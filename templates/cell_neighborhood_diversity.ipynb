{
 "cells": [
  {
   "cell_type": "markdown",
   "id": "9d5230c9-be4a-48a2-9dcc-7b772f768d92",
   "metadata": {},
   "source": [
    "# Cell Neighborhood Diversity\n"
   ]
  },
  {
   "cell_type": "code",
   "execution_count": 9,
   "id": "ae38a76a-5141-4a2c-97dd-53185f98dd7d",
   "metadata": {
    "tags": []
   },
   "outputs": [],
   "source": [
    "import os\n",
    "import pandas as pd\n",
    "from functools import reduce   \n",
    "\n",
    "import ark.settings as settings\n",
    "from ark.analysis.neighborhood_analysis import compute_neighborhood_diversity"
   ]
  },
  {
   "cell_type": "code",
   "execution_count": 28,
   "id": "23e9022a-a43e-4713-9aa5-e118d787d8d3",
   "metadata": {
    "tags": []
   },
   "outputs": [],
   "source": [
    "base_dir = '../data/example_dataset'\n",
    "\n",
    "spatial_analysis_dir = os.path.join(base_dir, \"spatial_analysis\")\n",
    "neighbors_mat_dir = os.path.join(spatial_analysis_dir, \"neighborhood_mats\")\n",
    "diversity_dir = os.path.join(spatial_analysis_dir, \"cell_neighborhood_diversity\")\n",
    "\n",
    "if not os.path.exists(diversity_dir):\n",
    "    os.makedirs(diversity_dir)"
   ]
  },
  {
   "cell_type": "code",
   "execution_count": 30,
   "id": "46dd76b3-b947-4f99-b158-b18a14ea9152",
   "metadata": {
    "tags": []
   },
   "outputs": [],
   "source": [
    "pixel_radius = 50\n",
    "cell_type_columns = [settings.CELL_TYPE]\n",
    "\n",
    "diversity_data = []\n",
    "for cell_type_col in cell_type_columns:\n",
    "    freqs_path = os.path.join(neighbors_mat_dir, f\"neighborhood_freqs-{cell_type_col}_radius{pixel_radius}.csv\")\n",
    "    neighbor_freqs = pd.read_csv(freqs_path) \n",
    "    diversity_data.append(compute_neighborhood_diversity(neighbor_freqs, cell_type_col))\n",
    "\n",
    "all_diversity_data = reduce(lambda left, right: \n",
    "                            pd.merge(left , right, on=[settings.FOV_ID, settings.CELL_LABEL]), diversity_data)\n",
    "all_diversity_data.to_csv(os.path.join(diversity_dir, f'neighborhood_diversity_radius{pixel_radius}.csv'), index=False)"
   ]
  }
 ],
 "metadata": {
  "kernelspec": {
   "display_name": "Python 3 (ipykernel)",
   "language": "python",
   "name": "python3"
  },
  "language_info": {
   "codemirror_mode": {
    "name": "ipython",
    "version": 3
   },
   "file_extension": ".py",
   "mimetype": "text/x-python",
   "name": "python",
   "nbconvert_exporter": "python",
   "pygments_lexer": "ipython3",
   "version": "3.8.16"
  }
 },
 "nbformat": 4,
 "nbformat_minor": 5
}
