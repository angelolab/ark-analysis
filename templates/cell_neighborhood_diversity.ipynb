{
 "cells": [
  {
   "cell_type": "markdown",
   "id": "9d5230c9-be4a-48a2-9dcc-7b772f768d92",
   "metadata": {},
   "source": [
    "# Cell Neighborhood Diversity\n",
    "This notebook can be used to determine the homogeneity/diversity of the neighbors surrounding each of the cells in our images."
   ]
  },
  {
   "cell_type": "code",
   "execution_count": null,
   "id": "ae38a76a-5141-4a2c-97dd-53185f98dd7d",
   "metadata": {
    "tags": []
   },
   "outputs": [],
   "source": [
    "import os\n",
    "import pandas as pd \n",
    "\n",
    "import ark.settings as settings\n",
    "from ark.analysis.neighborhood_analysis import neighborhood_diversity_analysis"
   ]
  },
  {
   "cell_type": "markdown",
   "id": "908c0ccb-2a25-4baf-aadb-4b311dabb938",
   "metadata": {
    "tags": []
   },
   "source": [
    "### Path Setup\n",
    "* `spatial_analysis_dir`: the path to the directory containing the spatial analysis output\n",
    "* `cell_table_path`: the path to the cell table that contains columns for fov, cell label, and cell phenotype (generated from `3_Pixie_Cluster_Cells.ipynb`)\n",
    "* `dist_mat_dir`: the path to directory containing the distance matrices for your data\n",
    "* `neighbors_mat_dir`: the path to directory containing the neighborhood matrix for your data\n",
    "* `diversity_dir`: path for a new directory that will be created for the output below"
   ]
  },
  {
   "cell_type": "code",
   "execution_count": null,
   "id": "23e9022a-a43e-4713-9aa5-e118d787d8d3",
   "metadata": {
    "tags": []
   },
   "outputs": [],
   "source": [
    "base_dir = '../data/example_dataset'\n",
    "\n",
    "spatial_analysis_dir = os.path.join(base_dir, \"spatial_analysis\")\n",
    "cell_table_path = os.path.join(base_dir, \"segmentation/cell_table/cell_table_size_normalized_cell_labels.csv\")\n",
    "dist_mat_dir = os.path.join(base_dir, \"spatial_analysis/dist_mats\")\n",
    "\n",
    "neighbors_mat_dir = os.path.join(spatial_analysis_dir, \"neighborhood_mats\")\n",
    "diversity_dir = os.path.join(spatial_analysis_dir, \"cell_neighborhood_diversity\")\n",
    "\n",
    "for directory in [neighbors_mat_dir, diversity_dir]\n",
    "    if not os.path.exists(directory):\n",
    "        os.makedirs(directory)"
   ]
  },
  {
   "cell_type": "markdown",
   "id": "09afe37e-b8fc-4865-94d3-3b568a8584d3",
   "metadata": {},
   "source": [
    "### Neighborhood Matrices\n",
    "You must specify which neighbors matrix should be used based on the pixel radius and cell type column. Provide multiple cell cluster columns and the neighbors matrix will be checked for each.\n",
    "- `pixel_radius`: radius used to define the neighbors of each cell\n",
    "- `cell_type_columns`: list of columns in your cell table containing different classifications of cell phenotypes\n",
    "\n",
    "**If you have not previously generated neighbors matrices with the `pixel_radius` and `cell_type_columns` specified, they will be created below.**"
   ]
  },
  {
   "cell_type": "code",
   "execution_count": null,
   "id": "7888516e-0835-4805-9ec1-4f5f45dbde35",
   "metadata": {},
   "outputs": [],
   "source": [
    "pixel_radius = 50\n",
    "cell_type_columns = [settings.CELL_TYPE, ]"
   ]
  },
  {
   "cell_type": "code",
   "execution_count": null,
   "id": "b8b74f7f-6dbb-4983-ba1d-21f65ff70989",
   "metadata": {},
   "outputs": [],
   "source": [
    "for cell_type_col in cell_type_columns:\n",
    "    freqs_path = os.path.join(neighbors_mat_dir, f\"neighborhood_freqs-{cell_type_col}_radius{pixel_radius}.csv\")\n",
    "    \n",
    "    # Check for existing neighbors matrix and if not, create a new one\n",
    "    if not os.path.exists(freqs_path):\n",
    "        print(f\"Generating neighbors matrix for {cell_type_col}.\")\n",
    "        \n",
    "        all_data = pd.read_csv(cell_table_path)\n",
    "        _, neighbor_freqs = create_neighborhood_matrix(\n",
    "            all_data, dist_mat_dir, distlim=pixel_radius, cell_type_col=cell_type_col)\n",
    "        \n",
    "        # Save neighbors frequency matrix\n",
    "        neighbor_freqs.to_csv(freqs_path, index=False)"
   ]
  },
  {
   "cell_type": "markdown",
   "id": "51201351-4a0a-4a65-99ea-7c0cf134458f",
   "metadata": {},
   "source": [
    "### Shannon Diversity\n",
    "The code below will calculate the Shannon Diversity Index for each cell input. The diversity will be calculated for each cell cluster column specified above, then combined into a single results table. **The resulting file will be saved to the save_path (`neighborhood_diversity_radius{pixel_radius}.csv`) in the new cell neighborhood diversity directory.**"
   ]
  },
  {
   "cell_type": "code",
   "execution_count": null,
   "id": "46dd76b3-b947-4f99-b158-b18a14ea9152",
   "metadata": {
    "tags": []
   },
   "outputs": [],
   "source": [
    "save_path = os.path.join(diversity_dir, f'neighborhood_diversity_radius{pixel_radius}.csv')\n",
    "\n",
    "diversity_data = neighborhood_diversity_analysis(neighbors_mat_dir, pixel_radius, cell_type_columns)\n",
    "diversity_data.to_csv(save_path, index=False)"
   ]
  }
 ],
 "metadata": {
  "kernelspec": {
   "display_name": "Python 3 (ipykernel)",
   "language": "python",
   "name": "python3"
  },
  "language_info": {
   "codemirror_mode": {
    "name": "ipython",
    "version": 3
   },
   "file_extension": ".py",
   "mimetype": "text/x-python",
   "name": "python",
   "nbconvert_exporter": "python",
   "pygments_lexer": "ipython3",
   "version": "3.8.16"
  }
 },
 "nbformat": 4,
 "nbformat_minor": 5
}
