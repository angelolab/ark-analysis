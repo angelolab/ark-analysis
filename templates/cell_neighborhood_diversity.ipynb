{
 "cells": [
  {
   "cell_type": "markdown",
   "id": "9d5230c9-be4a-48a2-9dcc-7b772f768d92",
   "metadata": {},
   "source": [
    "# Cell Neighborhood Diversity\n",
    "This notebook can be used to determine the homogeneity/diversity of the neighbors surrounding each of the cells in our images."
   ]
  },
  {
   "cell_type": "code",
   "execution_count": 9,
   "id": "ae38a76a-5141-4a2c-97dd-53185f98dd7d",
   "metadata": {
    "tags": []
   },
   "outputs": [],
   "source": [
    "import os\n",
    "import pandas as pd\n",
    "from functools import reduce   \n",
    "\n",
    "import ark.settings as settings\n",
    "from ark.analysis.neighborhood_analysis import compute_neighborhood_diversity"
   ]
  },
  {
   "cell_type": "markdown",
   "id": "908c0ccb-2a25-4baf-aadb-4b311dabb938",
   "metadata": {
    "tags": []
   },
   "source": [
    "### Path Setup\n",
    "* `spatial_analysis_dir`: the path to the directory containing the spatial analysis output\n",
    "* `neighbors_mat_dir`: the path to directory containing the neighborhood matrix for your data\n",
    "* `diversity_dir`: path for a new directory that will be created for the output below"
   ]
  },
  {
   "cell_type": "code",
   "execution_count": 28,
   "id": "23e9022a-a43e-4713-9aa5-e118d787d8d3",
   "metadata": {
    "tags": []
   },
   "outputs": [],
   "source": [
    "base_dir = '../data/example_dataset'\n",
    "\n",
    "spatial_analysis_dir = os.path.join(base_dir, \"spatial_analysis\")\n",
    "neighbors_mat_dir = os.path.join(spatial_analysis_dir, \"neighborhood_mats\")\n",
    "diversity_dir = os.path.join(spatial_analysis_dir, \"cell_neighborhood_diversity\")\n",
    "\n",
    "if not os.path.exists(diversity_dir):\n",
    "    os.makedirs(diversity_dir)"
   ]
  },
  {
   "cell_type": "markdown",
   "id": "51201351-4a0a-4a65-99ea-7c0cf134458f",
   "metadata": {},
   "source": [
    "### Shannon Diversity\n",
    "The code below will calculate the Shannon Diversity Index for each cell input. You must specify which neighbors matrix should be used based on the pixel radius and cell type column. Provide multiple cell cluster columns and the diversity will be calculated for each, then combined into a single results table.\n",
    "- `pixel_radius`: radius used to define the neighbors of each cell\n",
    "- `cell_type_columns`: list of columns in your cell table containing different classifications of cell phenotypes\n",
    "\n",
    "The results will be saved to `neighborhood_diversity_radius50.csv` in the new cell neighborhood diversity directory."
   ]
  },
  {
   "cell_type": "code",
   "execution_count": null,
   "id": "04f1982b-62fb-4923-a8e6-12e041b6bf89",
   "metadata": {},
   "outputs": [],
   "source": [
    "pixel_radius = 50\n",
    "cell_type_columns = [settings.CELL_TYPE, ]"
   ]
  },
  {
   "cell_type": "code",
   "execution_count": 30,
   "id": "46dd76b3-b947-4f99-b158-b18a14ea9152",
   "metadata": {
    "tags": []
   },
   "outputs": [],
   "source": [
    "diversity_data = []\n",
    "for cell_type_col in cell_type_columns:\n",
    "    freqs_path = os.path.join(neighbors_mat_dir, f\"neighborhood_freqs-{cell_type_col}_radius{pixel_radius}.csv\")\n",
    "    neighbor_freqs = pd.read_csv(freqs_path) \n",
    "    diversity_data.append(compute_neighborhood_diversity(neighbor_freqs, cell_type_col))\n",
    "\n",
    "all_diversity_data = reduce(lambda left, right: \n",
    "                            pd.merge(left , right, on=[settings.FOV_ID, settings.CELL_LABEL]), diversity_data)\n",
    "all_diversity_data.to_csv(os.path.join(diversity_dir, f'neighborhood_diversity_radius{pixel_radius}.csv'), index=False)"
   ]
  }
 ],
 "metadata": {
  "kernelspec": {
   "display_name": "Python 3 (ipykernel)",
   "language": "python",
   "name": "python3"
  },
  "language_info": {
   "codemirror_mode": {
    "name": "ipython",
    "version": 3
   },
   "file_extension": ".py",
   "mimetype": "text/x-python",
   "name": "python",
   "nbconvert_exporter": "python",
   "pygments_lexer": "ipython3",
   "version": "3.8.16"
  }
 },
 "nbformat": 4,
 "nbformat_minor": 5
}
