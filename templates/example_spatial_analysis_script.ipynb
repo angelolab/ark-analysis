{
 "cells": [
  {
   "cell_type": "code",
   "execution_count": null,
   "metadata": {},
   "outputs": [],
   "source": [
    "# Import all the necessary packages\n",
    "import os\n",
    "import xarray as xr\n",
    "import numpy as np\n",
    "import pandas as pd\n",
    "\n",
    "from ark.utils import spatial_analysis_utils, io_utils  # noqa: E402\n",
    "from ark.analysis import spatial_analysis, visualize\n",
    "\n",
    "import ark.settings as settings\n"
   ]
  },
  {
   "cell_type": "code",
   "execution_count": null,
   "metadata": {},
   "outputs": [],
   "source": [
    "# This script takes a cell expression matrix, label maps for the fovs to be included in the analysis, and, depending\n",
    "# on the analysis, a threshold matrix for channel or cluster spatial analysis. In channel spatial analysis, cells for\n",
    "# a specific fov are identified, and cells of particular phenotypes are compared to each other to check for positive,\n",
    "# negative, or no enrichment. To do this, a distance matrix is created from the label_maps, cell phenotypes are\n",
    "# identified by their labels in the image and then significant interactions between different populations of phenotypes\n",
    "# are recorded. Similar analysis is also done for channel spatial enrichment; however, instead of looking at cell\n",
    "# phenotypes, markers positive for specific thresholds are identified and specific interactions are then characterized\n",
    "# between them."
   ]
  },
  {
   "cell_type": "code",
   "execution_count": null,
   "metadata": {},
   "outputs": [],
   "source": [
    "# Set up file paths and import data\n",
    "base_dir = \"../data/example_dataset/\"\n",
    "spatial_analysis_dir = os.path.join(base_dir, \"spatial_enrichment_input_data\")"
   ]
  },
  {
   "cell_type": "code",
   "execution_count": null,
   "metadata": {},
   "outputs": [],
   "source": [
    "# validate file paths (add other directories as needed)\n",
    "io_utils.validate_paths([\n",
    "    base_dir,\n",
    "    spatial_analysis_dir,\n",
    "])"
   ]
  },
  {
   "cell_type": "code",
   "execution_count": null,
   "metadata": {},
   "outputs": [],
   "source": [
    "# Import the necessary data\n",
    "# This is the cell expression matrix including data for fovs 6 and 7, their cell labels, marker expression,\n",
    "# cell phenotypes, and cell phenotype IDs.\n",
    "all_data = pd.read_csv(os.path.join(spatial_analysis_dir, \"example_expression_matrix.csv\"))"
   ]
  },
  {
   "cell_type": "code",
   "execution_count": null,
   "metadata": {},
   "outputs": [],
   "source": [
    "# This is the threshold matrix with all marker thresholds - for channel cpatial enrichment\n",
    "marker_thresholds = pd.read_csv(os.path.join(spatial_analysis_dir, \"markerThresholds.csv\"))\n",
    "marker_thresholds = marker_thresholds.drop(0, axis=0)"
   ]
  },
  {
   "cell_type": "code",
   "execution_count": null,
   "metadata": {},
   "outputs": [],
   "source": [
    "# This is the Xarray of label maps for multiple fovs from which the distance matrix will be computed\n",
    "label_maps = xr.load_dataarray(os.path.join(spatial_analysis_dir, \"segmentation_labels.xr\"))\n",
    "\n",
    "# Get dictionary object with the respective distance matrices for the fovs\n",
    "dist_mats = spatial_analysis_utils.calc_dist_matrix(label_maps)"
   ]
  },
  {
   "cell_type": "code",
   "execution_count": null,
   "metadata": {},
   "outputs": [],
   "source": [
    "# Columns, other than the marker columns, in the expression data\n",
    "# These columns will be excluded from the analysis, so that a matrix of only markers can be extracted\n",
    "excluded_channels = [\n",
    "    \"C\",\n",
    "    \"Na\",\n",
    "    \"Si\",\n",
    "    \"Background\",\n",
    "    \"HH3\",\n",
    "    \"Ta\",\n",
    "    \"Au\",\n",
    "]"
   ]
  },
  {
   "cell_type": "code",
   "execution_count": null,
   "metadata": {},
   "outputs": [],
   "source": [
    "# Now run the distance matrix, threshold values, and the expression matrix through\n",
    "# channel spatial enrichment\n",
    "\n",
    "values_channel, stats_channel = spatial_analysis.calculate_channel_spatial_enrichment(\n",
    "    dist_mats, marker_thresholds, all_data, excluded_channels, bootstrap_num=5)"
   ]
  },
  {
   "cell_type": "code",
   "execution_count": null,
   "metadata": {},
   "outputs": [],
   "source": [
    "# Now with the same parameters, cluster spatial analysis (based on cell types rather than positive marker expression\n",
    "# by thresholds) will be done\n",
    "\n",
    "values_cluster, stats_cluster = spatial_analysis.calculate_cluster_spatial_enrichment(\n",
    "    all_data, dist_mats, bootstrap_num=5)"
   ]
  },
  {
   "cell_type": "code",
   "execution_count": null,
   "metadata": {},
   "outputs": [],
   "source": [
    "# To then visualize the z scores, a clustermap can be produced\n",
    "\n",
    "# For cluster spatial analysis, first find all the cell phenotypes in the data to use as an input for the clustergram\n",
    "pheno_titles = all_data[\"cell_type\"].drop_duplicates()\n",
    "visualize.visualize_z_scores(stats_cluster.loc['fov6', \"z\", :, :].values, pheno_titles)\n",
    "# For channel spatial analysis, first find all the marker titles to use as input for the clustergram\n",
    "channel_start = np.where(all_data.columns == settings.PRE_CHANNEL_COL)[0][0] + 1\n",
    "channel_end = np.where(all_data.columns == settings.POST_CHANNEL_COL)[0][0]\n",
    "\n",
    "marker_titles = all_data.iloc[:, channel_start:channel_end].drop(excluded_channels, axis=1).columns\n",
    "visualize.visualize_z_scores(stats_channel.loc['fov6', \"z\", :, :].values, marker_titles)"
   ]
  }
 ],
 "metadata": {
  "jupytext": {
   "cell_metadata_filter": "-all",
   "main_language": "python",
   "notebook_metadata_filter": "-all"
  },
  "kernelspec": {
   "display_name": "Python 3",
   "language": "python",
   "name": "python3"
  },
  "language_info": {
   "codemirror_mode": {
    "name": "ipython",
    "version": 3
   },
   "file_extension": ".py",
   "mimetype": "text/x-python",
   "name": "python",
   "nbconvert_exporter": "python",
   "pygments_lexer": "ipython3",
   "version": "3.6.10"
  }
 },
 "nbformat": 4,
 "nbformat_minor": 4
}