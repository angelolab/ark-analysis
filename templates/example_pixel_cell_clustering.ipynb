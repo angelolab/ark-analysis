{
 "cells": [
  {
   "cell_type": "markdown",
   "metadata": {},
   "source": [
    "### This notebook runs FlowSOM pixel-level clustering"
   ]
  },
  {
   "cell_type": "code",
   "execution_count": null,
   "metadata": {
    "tags": [
     "import"
    ]
   },
   "outputs": [],
   "source": [
    "# import required packages\n",
    "from datetime import datetime as dt\n",
    "import os\n",
    "import subprocess\n",
    "\n",
    "import numpy as np\n",
    "import pandas as pd\n",
    "import xarray as xr\n",
    "\n",
    "from ark.phenotyping import som_utils\n",
    "from ark.utils import io_utils, load_utils"
   ]
  },
  {
   "cell_type": "markdown",
   "metadata": {},
   "source": [
    "### Set file paths and parameters"
   ]
  },
  {
   "cell_type": "markdown",
   "metadata": {},
   "source": [
    "* base_dir: the path to all of your imaging data. Should contain a directory for your images, segmentations, and cell table (generated from Segment_Image_Data.ipynb).\n",
    "* tiff_dir: the path to the directory containing your imaging data\n",
    "* segmentation_dir: the path to the directory containing your segmentations (generated from Segment_Image_Data.ipynb)"
   ]
  },
  {
   "cell_type": "code",
   "execution_count": null,
   "metadata": {
    "tags": [
     "file_path"
    ]
   },
   "outputs": [],
   "source": [
    "base_dir = \"../data/granulomaCohort_allData\"\n",
    "tiff_dir = os.path.join(base_dir, \"TIFs\")\n",
    "segmentation_dir = \"../data/granulomaCohort_allData\""
   ]
  },
  {
   "cell_type": "markdown",
   "metadata": {},
   "source": [
    "* preprocessed_dir: the name of the directory to save the preprocessed pixel data (placed in base_dir)\n",
    "* subsetted_dir: the name of the directory to save the subsetted pixel data (placed in base_dir)"
   ]
  },
  {
   "cell_type": "code",
   "execution_count": null,
   "metadata": {
    "tags": [
     "preprocess_path_set"
    ]
   },
   "outputs": [],
   "source": [
    "preprocessed_dir = 'pixel_mat_preprocessed'\n",
    "subsetted_dir = 'pixel_mat_subsetted'"
   ]
  },
  {
   "cell_type": "markdown",
   "metadata": {},
   "source": [
    "* MIBItiff: if the images in tiff_dir are mibitiff or not\n",
    "* mibitiff_suffix (required if MIBItiff is True): the file suffix all mibitiff images contain"
   ]
  },
  {
   "cell_type": "code",
   "execution_count": null,
   "metadata": {
    "tags": [
     "mibitiff_set"
    ]
   },
   "outputs": [],
   "source": [
    "MIBItiff = False\n",
    "mibitiff_suffix = '-MassCorrected-Filtered.tiff'"
   ]
  },
  {
   "cell_type": "markdown",
   "metadata": {},
   "source": [
    "* fovs (optional): set a specific set of fovs to load, default loads all the fovs in tiff_dir"
   ]
  },
  {
   "cell_type": "code",
   "execution_count": null,
   "metadata": {
    "tags": [
     "load_fovs"
    ]
   },
   "outputs": [],
   "source": [
    "# either get all fovs in the folder...\n",
    "if MIBItiff:\n",
    "    fovs = io_utils.list_files(tiff_dir, substrs=MIBItiff_suffix)\n",
    "else:\n",
    "    fovs = io_utils.list_folders(tiff_dir)\n",
    "\n",
    "# ... or optionally, select a specific set of fovs manually\n",
    "# fovs = [\"fov14\"]"
   ]
  },
  {
   "cell_type": "markdown",
   "metadata": {},
   "source": [
    "### Preprocess"
   ]
  },
  {
   "cell_type": "markdown",
   "metadata": {},
   "source": [
    "* channels: set a subset to run pixel clustering over"
   ]
  },
  {
   "cell_type": "code",
   "execution_count": null,
   "metadata": {
    "tags": [
     "channel_set"
    ]
   },
   "outputs": [],
   "source": [
    "channels = [\"CD45\", \"SMA\", \"Vimentin\", \"CD31\", \"Keratin-pan\", \"E-cadherin\", \"MastChyTry\",\n",
    "            \"MPO\", \"CD20\", \"CD3\", \"CD14\", \"HLA-DR-DQ-DP\", \"Foxp3\", \"CD16\", \"CD11c\", \"CD206\",\n",
    "            \"CD11b\", \"CD68\", \"CD163\", \"CD209\"]"
   ]
  },
  {
   "cell_type": "markdown",
   "metadata": {},
   "source": [
    "Set the following arguments\n",
    "\n",
    "* blur_factor: the sigma to use for the Gaussian filter when running the Gaussian blur. Higher values are more aggressive in removing noise.\n",
    "* subset_proportion: the percentage of pixels to take from each fov. Sampling is random."
   ]
  },
  {
   "cell_type": "code",
   "execution_count": null,
   "metadata": {
    "tags": [
     "preprocess_arg_set"
    ]
   },
   "outputs": [],
   "source": [
    "blur_factor = 2\n",
    "subset_proportion = 0.1"
   ]
  },
  {
   "cell_type": "code",
   "execution_count": null,
   "metadata": {
    "tags": [
     "gen_pixel_mat"
    ]
   },
   "outputs": [],
   "source": [
    "# run pixel data preprocessing\n",
    "som_utils.create_pixel_matrix(\n",
    "    fovs,\n",
    "    channels,\n",
    "    base_dir,\n",
    "    tiff_dir,\n",
    "    segmentation_dir,\n",
    "    pre_dir=preprocessed_dir,\n",
    "    sub_dir=subsetted_dir,\n",
    "    is_mibitiff=MIBItiff,\n",
    "    blur_factor=blur_factor,\n",
    "    subset_proportion=subset_proportion\n",
    ")"
   ]
  },
  {
   "cell_type": "markdown",
   "metadata": {},
   "source": [
    "### Train pixel SOM"
   ]
  },
  {
   "cell_type": "markdown",
   "metadata": {},
   "source": [
    "Set the paths to your pixel clustering data (all paths are placed in base_dir):\n",
    "\n",
    "* pixel_clustered_dir: directory to store pixel data with just the SOM cluster assignments\n",
    "* pixel_consensus_dir: directory to store pixel data with the SOM and consensus cluster assignments\n",
    "* pixel_weights_name: file name to place the pixel SOM weights\n",
    "\n",
    "If not set, the variables will default to a file path with the timestamp of the start of the run appended at the end (ex. pixel_mat_clustered_{timestamp})"
   ]
  },
  {
   "cell_type": "code",
   "execution_count": null,
   "metadata": {
    "tags": [
     "pixel_som_path_set"
    ]
   },
   "outputs": [],
   "source": [
    "# define the pixel SOM cluster, consensus cluster paths, and pixel SOM weights paths, explicitly set the variables to use custom names\n",
    "pixel_clustered_dir = None\n",
    "pixel_consensus_dir = None\n",
    "pixel_weights_name = None\n",
    "\n",
    "# get the current time for separating different runs\n",
    "cur_time = dt.now().strftime('%Y-%m-%dT%H:%M:%S')\n",
    "\n",
    "if pixel_clustered_dir is None:\n",
    "    pixel_clustered_dir = 'pixel_mat_clustered_%s' % cur_time\n",
    "\n",
    "if pixel_consensus_dir is None:\n",
    "    pixel_consensus_dir = 'pixel_mat_consensus_%s' % cur_time\n",
    "    \n",
    "if pixel_weights_name is None:\n",
    "    pixel_weights_name = 'pixel_weights_%s.feather' % cur_time"
   ]
  },
  {
   "cell_type": "markdown",
   "metadata": {},
   "source": [
    "Set the following arguments:\n",
    "\n",
    "* pixel_som_xdim: the number of nodes along the x-axis for the cluster mapping space\n",
    "* pixel_som_ydim: the number of nodes along the y-axis for the cluster mapping space (total number of cluster assignments xdim * ydim)\n",
    "* pixel_som_lr_start: the initial learning rate\n",
    "* pixel_som_lr_end: the final learning rate, lr_start will degrade to lr_end\n",
    "* pixel_som_num_passes: the number of training passes to make through the dataset"
   ]
  },
  {
   "cell_type": "code",
   "execution_count": null,
   "metadata": {
    "tags": [
     "pixel_som_arg_set"
    ]
   },
   "outputs": [],
   "source": [
    "pixel_som_xdim = 10\n",
    "pixel_som_ydim = 10\n",
    "pixel_som_lr_start = 0.05\n",
    "pixel_som_lr_end = 0.01\n",
    "pixel_som_num_passes = 1"
   ]
  },
  {
   "cell_type": "code",
   "execution_count": null,
   "metadata": {
    "tags": [
     "train_pixel_som"
    ]
   },
   "outputs": [],
   "source": [
    "# create the pixel-level SOM weights\n",
    "som_utils.train_pixel_som(\n",
    "    fovs,\n",
    "    channels,\n",
    "    base_dir,\n",
    "    sub_dir=subsetted_dir,\n",
    "    weights_name=pixel_weights_name,\n",
    "    xdim=pixel_som_xdim,\n",
    "    ydim=pixel_som_ydim,\n",
    "    lr_start=pixel_som_lr_start,\n",
    "    lr_end=pixel_som_lr_end,\n",
    "    num_passes=pixel_som_num_passes\n",
    ")"
   ]
  },
  {
   "cell_type": "markdown",
   "metadata": {},
   "source": [
    "### Assign pixel SOM clusters"
   ]
  },
  {
   "cell_type": "code",
   "execution_count": null,
   "metadata": {
    "tags": [
     "cluster_pixel_mat"
    ]
   },
   "outputs": [],
   "source": [
    "# use pixel SOM weights to assign pixel clusters\n",
    "som_utils.cluster_pixels(\n",
    "    fovs,\n",
    "    base_dir,\n",
    "    pre_dir=preprocessed_dir,\n",
    "    weights_name=pixel_weights_name,\n",
    "    cluster_dir=pixel_clustered_dir\n",
    ")"
   ]
  },
  {
   "cell_type": "code",
   "execution_count": null,
   "metadata": {},
   "outputs": [],
   "source": [
    "# visualize the pixel cluster average heatmap\n",
    "som_utils.visualize_pixel_cluster_data(\n",
    "    fovs,\n",
    "    channels,\n",
    "    base_dir,\n",
    "    cluster_dir=pixel_clustered_dir,\n",
    "    pixel_cluster_col='cluster'\n",
    ")"
   ]
  },
  {
   "cell_type": "markdown",
   "metadata": {},
   "source": [
    "### Run pixel consensus clustering"
   ]
  },
  {
   "cell_type": "markdown",
   "metadata": {},
   "source": [
    "Set the following arguments:\n",
    "\n",
    "* pixel_consensus_max_k: the number of meta clusters to create\n",
    "* pixel_consensus_cap: the maximum z-score to consider, anything greater will be clipped to this value"
   ]
  },
  {
   "cell_type": "code",
   "execution_count": null,
   "metadata": {
    "tags": [
     "pixel_consensus_arg_set"
    ]
   },
   "outputs": [],
   "source": [
    "pixel_consensus_max_k = 20\n",
    "pixel_consensus_cap = 3"
   ]
  },
  {
   "cell_type": "code",
   "execution_count": null,
   "metadata": {
    "tags": [
     "pixel_consensus_cluster"
    ]
   },
   "outputs": [],
   "source": [
    "# run hierarchical clustering based on pixel SOM cluster assignments\n",
    "som_utils.pixel_consensus_cluster(\n",
    "    fovs,\n",
    "    channels,\n",
    "    base_dir,\n",
    "    cluster_dir=pixel_clustered_dir,\n",
    "    consensus_dir=pixel_consensus_dir,\n",
    "    max_k=pixel_consensus_max_k,\n",
    "    cap=pixel_consensus_cap\n",
    ")"
   ]
  },
  {
   "cell_type": "code",
   "execution_count": null,
   "metadata": {},
   "outputs": [],
   "source": [
    "# visualize the pixel hierarchical cluster average heatmap\n",
    "som_utils.visualize_pixel_cluster_data(\n",
    "    fovs,\n",
    "    channels,\n",
    "    base_dir,\n",
    "    cluster_dir=pixel_consensus_dir,\n",
    "    pixel_cluster_col='hCluster_cap'\n",
    ")"
   ]
  },
  {
   "cell_type": "markdown",
   "metadata": {},
   "source": [
    "### Train cell SOM"
   ]
  },
  {
   "cell_type": "markdown",
   "metadata": {},
   "source": [
    "* cell_table_name: name of the cell table created by Segment_Image_Data, should be placed in the root of base_dir. You can use either the normalized or arcsinh versions."
   ]
  },
  {
   "cell_type": "code",
   "execution_count": null,
   "metadata": {
    "tags": [
     "cell_table_set"
    ]
   },
   "outputs": [],
   "source": [
    "cell_table_name = 'cell_table_size_normalized.csv'"
   ]
  },
  {
   "cell_type": "markdown",
   "metadata": {},
   "source": [
    "Set the paths to your cell clustering data (all paths are placed in base_dir):\n",
    "\n",
    "* cell_clustered_name: file to store cell data with just the SOM cluster assignments\n",
    "* cell_consensus_dir: directory to store cell data with the SOM and consensus cluster assignments\n",
    "* cell_weights_name: file name to place the cell SOM weights\n",
    "\n",
    "If not set, the variables will default to a file path with the timestamp of the start of the run appended at the end (ex. cell_mat_clustered_{timestamp}.feather)"
   ]
  },
  {
   "cell_type": "code",
   "execution_count": null,
   "metadata": {
    "tags": [
     "cell_som_path_set"
    ]
   },
   "outputs": [],
   "source": [
    "# define the cell SOM cluster and cell SOM weights paths, explicitly set the variables to use custom names\n",
    "cell_clustered_name = None\n",
    "cell_consensus_name = None\n",
    "cell_weights_name = None\n",
    "\n",
    "if cell_clustered_name is None:\n",
    "    cell_clustered_name = 'cell_mat_clustered_%s.feather' % cur_time\n",
    "    \n",
    "if cell_consensus_name is None:\n",
    "    cell_consensus_name = 'cell_mat_consensus_%s.feather' % cur_time\n",
    "    \n",
    "if cell_weights_name is None:\n",
    "    cell_weights_name = 'cell_weights_%s.feather' % cur_time"
   ]
  },
  {
   "cell_type": "markdown",
   "metadata": {},
   "source": [
    "Set the following arguments:\n",
    "\n",
    "* cluster_col: whether to count the number of pixel SOM or meta clusters per cell. Use 'cluster' for pixel SOM clusters and 'hCluster_cap' for pixel meta clusters\n",
    "* cell_som_xdim: the number of nodes along the x-axis for the cluster mapping space\n",
    "* cell_som_ydim: the number of nodes along the y-axis for the cluster mapping space (total number of cluster assignments xdim * ydim)\n",
    "* cell_som_lr_start: the initial learning rate\n",
    "* cell_som_lr_end: the final learning rate, lr_start will degrade to lr_end\n",
    "* cell_som_num_passes: the number of training passes to make through the dataset"
   ]
  },
  {
   "cell_type": "code",
   "execution_count": null,
   "metadata": {
    "tags": [
     "cell_som_arg_set"
    ]
   },
   "outputs": [],
   "source": [
    "cluster_col = 'cluster'\n",
    "cell_som_xdim = 10\n",
    "cell_som_ydim = 10\n",
    "cell_som_lr_start = 0.05\n",
    "cell_som_lr_end = 0.01\n",
    "cell_som_num_passes = 1"
   ]
  },
  {
   "cell_type": "code",
   "execution_count": null,
   "metadata": {
    "scrolled": true,
    "tags": [
     "train_cell_som"
    ]
   },
   "outputs": [],
   "source": [
    "# create the cell-level SOM weights\n",
    "som_utils.train_cell_som(\n",
    "    fovs,\n",
    "    base_dir,\n",
    "    cell_table_name=cell_table_name,\n",
    "    pixel_consensus_dir=pixel_consensus_dir,\n",
    "    cluster_col=cluster_col,\n",
    "    weights_name=cell_weights_name,\n",
    "    xdim=cell_som_xdim,\n",
    "    ydim=cell_som_ydim,\n",
    "    lr_start=cell_som_lr_start,\n",
    "    lr_end=cell_som_lr_end,\n",
    "    num_passes=cell_som_num_passes\n",
    ")"
   ]
  },
  {
   "cell_type": "markdown",
   "metadata": {},
   "source": [
    "### Assign cell SOM clusters"
   ]
  },
  {
   "cell_type": "code",
   "execution_count": null,
   "metadata": {
    "scrolled": true,
    "tags": [
     "cluster_cell_mat"
    ]
   },
   "outputs": [],
   "source": [
    "# use cell SOM weights to assign cell clusters\n",
    "som_utils.cluster_cells(\n",
    "    base_dir,\n",
    "    weights_name=cell_weights_name,\n",
    "    cell_cluster_name=cell_clustered_name\n",
    ")"
   ]
  },
  {
   "cell_type": "code",
   "execution_count": null,
   "metadata": {},
   "outputs": [],
   "source": [
    "# visualize the cell SOM cluster average heatmap\n",
    "som_utils.visualize_cell_cluster_data(\n",
    "    base_dir,\n",
    "    cluster_name=cell_clustered_name,\n",
    "    column_prefix=cluster_col,\n",
    "    cell_cluster_col='cluster'\n",
    ")"
   ]
  },
  {
   "cell_type": "markdown",
   "metadata": {},
   "source": [
    "### Run cell consensus clustering"
   ]
  },
  {
   "cell_type": "markdown",
   "metadata": {},
   "source": [
    "Set the following arguments:\n",
    "\n",
    "* cell_consensus_max_k: the number of meta clusters to create\n",
    "* cell_consensus_cap: the maximum z-score to consider, anything greater will be clipped to this value"
   ]
  },
  {
   "cell_type": "code",
   "execution_count": null,
   "metadata": {
    "tags": [
     "cell_consensus_arg-set"
    ]
   },
   "outputs": [],
   "source": [
    "cell_consensus_max_k = 20\n",
    "cell_consensus_cap = 3"
   ]
  },
  {
   "cell_type": "code",
   "execution_count": null,
   "metadata": {
    "tags": [
     "cell_consensus_cluster"
    ]
   },
   "outputs": [],
   "source": [
    "# run hierarchical clustering based on cell SOM cluster assignments\n",
    "som_utils.cell_consensus_cluster(\n",
    "    base_dir=base_dir,\n",
    "    cell_cluster_name=cell_clustered_name,\n",
    "    column_prefix=cluster_col,\n",
    "    cell_consensus_name=cell_consensus_name,\n",
    "    max_k=cell_consensus_max_k,\n",
    "    cap=cell_consensus_cap\n",
    ")"
   ]
  },
  {
   "cell_type": "code",
   "execution_count": null,
   "metadata": {},
   "outputs": [],
   "source": [
    "# visualize the cell hierarchical cluster average heatmap\n",
    "som_utils.visualize_cell_cluster_data(\n",
    "    base_dir, cluster_name=cell_consensus_name, column_prefix=cluster_col, cell_cluster_col='hCluster_cap'\n",
    ")"
   ]
  }
 ],
 "metadata": {
  "kernelspec": {
   "display_name": "Python 3",
   "language": "python",
   "name": "python3"
  },
  "language_info": {
   "codemirror_mode": {
    "name": "ipython",
    "version": 3
   },
   "file_extension": ".py",
   "mimetype": "text/x-python",
   "name": "python",
   "nbconvert_exporter": "python",
   "pygments_lexer": "ipython3",
   "version": "3.6.10"
  }
 },
 "nbformat": 4,
 "nbformat_minor": 4
}
