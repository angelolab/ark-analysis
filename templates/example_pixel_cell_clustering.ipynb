{
 "cells": [
  {
   "cell_type": "markdown",
   "metadata": {},
   "source": [
    "### This notebook runs FlowSOM pixel-level clustering"
   ]
  },
  {
   "cell_type": "code",
   "execution_count": null,
   "metadata": {
    "tags": [
     "import"
    ]
   },
   "outputs": [],
   "source": [
    "# import required packages\n",
    "from datetime import datetime as dt\n",
    "import os\n",
    "import subprocess\n",
    "\n",
    "import feather\n",
    "import numpy as np\n",
    "import pandas as pd\n",
    "import xarray as xr\n",
    "\n",
    "from ark.phenotyping import som_utils\n",
    "from ark.utils import data_utils, io_utils, load_utils, plot_utils"
   ]
  },
  {
   "cell_type": "markdown",
   "metadata": {},
   "source": [
    "### Set file paths and parameters"
   ]
  },
  {
   "cell_type": "markdown",
   "metadata": {},
   "source": [
    "* base_dir: the path to all of your imaging data. Should contain a directory for your images, segmentations, and cell table (generated from Segment_Image_Data.ipynb).\n",
    "* tiff_dir: the path to the directory containing your imaging data\n",
    "* segmentation_dir: the path to the directory containing your segmentations (generated from Segment_Image_Data.ipynb)\n",
    "* visualization_dir: the path to the directory to save visualization results"
   ]
  },
  {
   "cell_type": "code",
   "execution_count": null,
   "metadata": {
    "tags": [
     "file_path"
    ]
   },
   "outputs": [],
   "source": [
    "base_dir = \"../data/granulomaCohort_allData\"\n",
    "tiff_dir = os.path.join(base_dir, \"TIFs\")\n",
    "segmentation_dir = \"../data/granulomaCohort_allData\""
   ]
  },
  {
   "cell_type": "markdown",
   "metadata": {},
   "source": [
    "* preprocessed_dir: the name of the directory to save the preprocessed pixel data (placed in base_dir)\n",
    "* subsetted_dir: the name of the directory to save the subsetted pixel data (placed in base_dir)"
   ]
  },
  {
   "cell_type": "code",
   "execution_count": null,
   "metadata": {
    "tags": [
     "preprocess_path_set"
    ]
   },
   "outputs": [],
   "source": [
    "preprocessed_dir = 'pixel_mat_preprocessed'\n",
    "subsetted_dir = 'pixel_mat_subsetted'"
   ]
  },
  {
   "cell_type": "markdown",
   "metadata": {},
   "source": [
    "* MIBItiff: if the images in tiff_dir are mibitiff or not\n",
    "* mibitiff_suffix (required if MIBItiff is True): the file suffix all mibitiff images contain"
   ]
  },
  {
   "cell_type": "code",
   "execution_count": null,
   "metadata": {
    "tags": [
     "mibitiff_set"
    ]
   },
   "outputs": [],
   "source": [
    "MIBItiff = False\n",
    "mibitiff_suffix = '-MassCorrected-Filtered.tiff'"
   ]
  },
  {
   "cell_type": "markdown",
   "metadata": {},
   "source": [
    "* fovs (optional): set a specific set of fovs to load, default loads all the fovs in tiff_dir"
   ]
  },
  {
   "cell_type": "code",
   "execution_count": null,
   "metadata": {
    "tags": [
     "load_fovs"
    ]
   },
   "outputs": [],
   "source": [
    "# either get all fovs in the folder...\n",
    "if MIBItiff:\n",
    "    fovs = io_utils.list_files(tiff_dir, substrs=MIBItiff_suffix)\n",
    "else:\n",
    "    fovs = io_utils.list_folders(tiff_dir)\n",
    "\n",
    "# ... or optionally, select a specific set of fovs manually\n",
    "# fovs = [\"fov14\"]"
   ]
  },
  {
   "cell_type": "markdown",
   "metadata": {},
   "source": [
    "### Preprocess"
   ]
  },
  {
   "cell_type": "markdown",
   "metadata": {},
   "source": [
    "* channels: set a subset to run pixel clustering over"
   ]
  },
  {
   "cell_type": "code",
   "execution_count": null,
   "metadata": {
    "tags": [
     "channel_set"
    ]
   },
   "outputs": [],
   "source": [
    "channels = [\"CD45\", \"SMA\", \"Vimentin\", \"CD31\", \"Keratin-pan\", \"E-cadherin\", \"MastChyTry\",\n",
    "            \"MPO\", \"CD20\", \"CD3\", \"CD14\", \"HLA-DR-DQ-DP\", \"Foxp3\", \"CD16\", \"CD11c\", \"CD206\",\n",
    "            \"CD11b\", \"CD68\", \"CD163\", \"CD209\"]"
   ]
  },
  {
   "cell_type": "markdown",
   "metadata": {},
   "source": [
    "Set the following arguments\n",
    "\n",
    "* blur_factor: the sigma to use for the Gaussian filter when running the Gaussian blur. Higher values are more aggressive in removing noise.\n",
    "* subset_proportion: the percentage of pixels to take from each fov. Sampling is random."
   ]
  },
  {
   "cell_type": "code",
   "execution_count": null,
   "metadata": {
    "tags": [
     "preprocess_arg_set"
    ]
   },
   "outputs": [],
   "source": [
    "blur_factor = 2\n",
    "subset_proportion = 0.1"
   ]
  },
  {
   "cell_type": "code",
   "execution_count": null,
   "metadata": {
    "tags": [
     "gen_pixel_mat"
    ]
   },
   "outputs": [],
   "source": [
    "# run pixel data preprocessing\n",
    "som_utils.create_pixel_matrix(\n",
    "    fovs,\n",
    "    channels,\n",
    "    base_dir,\n",
    "    tiff_dir,\n",
    "    segmentation_dir,\n",
    "    pre_dir=preprocessed_dir,\n",
    "    sub_dir=subsetted_dir,\n",
    "    is_mibitiff=MIBItiff,\n",
    "    blur_factor=blur_factor,\n",
    "    subset_proportion=subset_proportion\n",
    ")"
   ]
  },
  {
   "cell_type": "markdown",
   "metadata": {},
   "source": [
    "### Train pixel SOM"
   ]
  },
  {
   "cell_type": "markdown",
   "metadata": {},
   "source": [
    "Set a prefix to be applied to all data directories/files created by pixel and cell clustering. If the prefix is not set, a default of the datetime at the start of the run is used. The following data directories/files will be created for pixel clustering:\n",
    "\n",
    "* {cluster_prefix}_pixel_clustered_dir: directory to store pixel data with just the SOM cluster assignments\n",
    "* {cluster_prefix}_pixel_consensus_dir: directory to store pixel data with the SOM and consensus cluster assignments\n",
    "* {cluster_prefix}_pixel_weights_name: file name to place the pixel SOM weights"
   ]
  },
  {
   "cell_type": "code",
   "execution_count": null,
   "metadata": {
    "tags": [
     "cluster_prefix_set"
    ]
   },
   "outputs": [],
   "source": [
    "# explicitly set cluster_prefix to override datetime default\n",
    "cluster_prefix = None\n",
    "\n",
    "if cluster_prefix is None:\n",
    "    cluster_prefix = dt.now().strftime('%Y-%m-%dT%H:%M:%S')"
   ]
  },
  {
   "cell_type": "code",
   "execution_count": null,
   "metadata": {
    "tags": [
     "pixel_som_path_set"
    ]
   },
   "outputs": [],
   "source": [
    "# define the pixel SOM cluster, consensus cluster paths, and pixel SOM weights paths using specified prefix\n",
    "pixel_clustered_dir = '%s_pixel_mat_clustered' % cluster_prefix\n",
    "pixel_consensus_dir = '%s_pixel_mat_consensus' % cluster_prefix\n",
    "pixel_weights_name = '%s_pixel_weights.feather' % cluster_prefix"
   ]
  },
  {
   "cell_type": "markdown",
   "metadata": {},
   "source": [
    "For a full set of parameters you can customize for train_pixel_som, please consult: https://ark-analysis.readthedocs.io/en/latest/_markdown/ark.phenotyping.html#ark.phenotyping.som_utils.train_pixel_som"
   ]
  },
  {
   "cell_type": "code",
   "execution_count": null,
   "metadata": {
    "tags": [
     "train_pixel_som"
    ]
   },
   "outputs": [],
   "source": [
    "# create the pixel-level SOM weights\n",
    "som_utils.train_pixel_som(\n",
    "    fovs,\n",
    "    channels,\n",
    "    base_dir,\n",
    "    sub_dir=subsetted_dir,\n",
    "    weights_name=pixel_weights_name\n",
    ")"
   ]
  },
  {
   "cell_type": "markdown",
   "metadata": {},
   "source": [
    "### Assign pixel SOM clusters"
   ]
  },
  {
   "cell_type": "code",
   "execution_count": null,
   "metadata": {
    "tags": [
     "cluster_pixel_mat"
    ]
   },
   "outputs": [],
   "source": [
    "# use pixel SOM weights to assign pixel clusters\n",
    "som_utils.cluster_pixels(\n",
    "    fovs,\n",
    "    base_dir,\n",
    "    pre_dir=preprocessed_dir,\n",
    "    weights_name=pixel_weights_name,\n",
    "    cluster_dir=pixel_clustered_dir\n",
    ")"
   ]
  },
  {
   "cell_type": "code",
   "execution_count": null,
   "metadata": {},
   "outputs": [],
   "source": [
    "# visualize the pixel cluster average heatmap\n",
    "som_utils.visualize_pixel_cluster_data(\n",
    "    fovs,\n",
    "    channels,\n",
    "    base_dir,\n",
    "    cluster_dir=pixel_clustered_dir,\n",
    "    pixel_cluster_col='cluster'\n",
    ")"
   ]
  },
  {
   "cell_type": "markdown",
   "metadata": {},
   "source": [
    "### Run pixel consensus clustering"
   ]
  },
  {
   "cell_type": "markdown",
   "metadata": {},
   "source": [
    "For a full set of parameters you can customize for pixel_consensus_cluster, please consult: https://ark-analysis.readthedocs.io/en/latest/_markdown/ark.phenotyping.html#ark.phenotyping.som_utils.pixel_consensus_cluster"
   ]
  },
  {
   "cell_type": "code",
   "execution_count": null,
   "metadata": {
    "tags": [
     "pixel_consensus_cluster"
    ]
   },
   "outputs": [],
   "source": [
    "# run hierarchical clustering based on pixel SOM cluster assignments\n",
    "som_utils.pixel_consensus_cluster(\n",
    "    fovs,\n",
    "    channels,\n",
    "    base_dir,\n",
    "    cluster_dir=pixel_clustered_dir,\n",
    "    consensus_dir=pixel_consensus_dir\n",
    ")"
   ]
  },
  {
   "cell_type": "code",
   "execution_count": null,
   "metadata": {},
   "outputs": [],
   "source": [
    "# visualize the pixel hierarchical cluster average heatmap\n",
    "som_utils.visualize_pixel_cluster_data(\n",
    "    fovs,\n",
    "    channels,\n",
    "    base_dir,\n",
    "    cluster_dir=pixel_consensus_dir,\n",
    "    pixel_cluster_col='hCluster_cap'\n",
    ")"
   ]
  },
  {
   "cell_type": "markdown",
   "metadata": {},
   "source": [
    "### Visualize pixel cluster overlay"
   ]
  },
  {
   "cell_type": "code",
   "execution_count": null,
   "metadata": {},
   "outputs": [],
   "source": [
    "# select fovs to display\n",
    "pixel_fovs = ['fov6', 'fov7']"
   ]
  },
  {
   "cell_type": "code",
   "execution_count": null,
   "metadata": {},
   "outputs": [],
   "source": [
    "# generate the pixel cluster masks for each fov in pixel_fovs\n",
    "pixel_cluster_masks = data_utils.generate_pixel_cluster_mask(\n",
    "    fovs, base_dir, seg_dir, pixel_consensus_dir=pixel_consensus_dir, cluster_col='cluster'\n",
    ")"
   ]
  },
  {
   "cell_type": "code",
   "execution_count": null,
   "metadata": {},
   "outputs": [],
   "source": [
    "plot_utils.plot_clustering_result(\n",
    "    pixel_cluster_masks,\n",
    "    pixel_fovs\n",
    ")"
   ]
  },
  {
   "cell_type": "markdown",
   "metadata": {},
   "source": [
    "### Train cell SOM"
   ]
  },
  {
   "cell_type": "markdown",
   "metadata": {},
   "source": [
    "* cell_table_name: name of the cell table created by Segment_Image_Data, should be placed in the root of base_dir. You can use either the normalized or arcsinh versions."
   ]
  },
  {
   "cell_type": "code",
   "execution_count": null,
   "metadata": {
    "tags": [
     "cell_table_set"
    ]
   },
   "outputs": [],
   "source": [
    "cell_table_name = 'cell_table_size_normalized.csv'"
   ]
  },
  {
   "cell_type": "markdown",
   "metadata": {},
   "source": [
    "The same cluster prefix set for pixel clustering directories/files will be used for cell clustering files. The following files will be created for cell clustering:\n",
    "\n",
    "* {cluster_prefix}_cell_clustered_name: file to store cell data with just the SOM cluster assignments\n",
    "* {cluster_prefix}_cell_consensus_dir: directory to store cell data with the SOM and consensus cluster assignments\n",
    "* {cluster_prefix}_cell_weights_name: file name to place the cell SOM weights"
   ]
  },
  {
   "cell_type": "code",
   "execution_count": null,
   "metadata": {
    "tags": [
     "cell_som_path_set"
    ]
   },
   "outputs": [],
   "source": [
    "# define the cell SOM cluster and cell SOM weights paths, explicitly set the variables to use custom names\n",
    "cell_clustered_name = '%s_cell_mat_clustered.feather' % cluster_prefix\n",
    "cell_consensus_name = '%s_cell_mat_consensus.feather' % cluster_prefix\n",
    "cell_weights_name = '%s_cell_weights.feather' % cluster_prefix"
   ]
  },
  {
   "cell_type": "markdown",
   "metadata": {},
   "source": [
    "For a full set of parameters you can customize for train_cell_som, please consult: https://ark-analysis.readthedocs.io/en/latest/_markdown/ark.phenotyping.html#ark.phenotyping.som_utils.train_cell_som"
   ]
  },
  {
   "cell_type": "code",
   "execution_count": null,
   "metadata": {
    "scrolled": true,
    "tags": [
     "train_cell_som"
    ]
   },
   "outputs": [],
   "source": [
    "# create the cell-level SOM weights\n",
    "som_utils.train_cell_som(\n",
    "    fovs,\n",
    "    base_dir,\n",
    "    cell_table_name=cell_table_name,\n",
    "    pixel_consensus_dir=pixel_consensus_dir,\n",
    "    weights_name=cell_weights_name\n",
    ")"
   ]
  },
  {
   "cell_type": "markdown",
   "metadata": {},
   "source": [
    "### Assign cell SOM clusters"
   ]
  },
  {
   "cell_type": "code",
   "execution_count": null,
   "metadata": {
    "scrolled": true,
    "tags": [
     "cluster_cell_mat"
    ]
   },
   "outputs": [],
   "source": [
    "# use cell SOM weights to assign cell clusters\n",
    "som_utils.cluster_cells(\n",
    "    base_dir,\n",
    "    weights_name=cell_weights_name,\n",
    "    cell_cluster_name=cell_clustered_name\n",
    ")"
   ]
  },
  {
   "cell_type": "code",
   "execution_count": null,
   "metadata": {},
   "outputs": [],
   "source": [
    "# visualize the cell SOM cluster average heatmap\n",
    "som_utils.visualize_cell_cluster_data(\n",
    "    base_dir,\n",
    "    cluster_name=cell_clustered_name,\n",
    "    column_prefix=cluster_col,\n",
    "    cell_cluster_col='cluster'\n",
    ")"
   ]
  },
  {
   "cell_type": "markdown",
   "metadata": {},
   "source": [
    "### Run cell consensus clustering"
   ]
  },
  {
   "cell_type": "markdown",
   "metadata": {},
   "source": [
    "For a full set of parameters you can customize for cell_consensus_cluster, please consult: https://ark-analysis.readthedocs.io/en/latest/_markdown/ark.phenotyping.html#ark.phenotyping.som_utils.cell_consensus_cluster"
   ]
  },
  {
   "cell_type": "code",
   "execution_count": null,
   "metadata": {
    "tags": [
     "cell_consensus_cluster"
    ]
   },
   "outputs": [],
   "source": [
    "# run hierarchical clustering based on cell SOM cluster assignments\n",
    "som_utils.cell_consensus_cluster(\n",
    "    base_dir=base_dir,\n",
    "    cell_cluster_name=cell_clustered_name,\n",
    "    column_prefix=cluster_col,\n",
    "    cell_consensus_name=cell_consensus_name\n",
    ")"
   ]
  },
  {
   "cell_type": "code",
   "execution_count": null,
   "metadata": {},
   "outputs": [],
   "source": [
    "# visualize the cell hierarchical cluster average heatmap\n",
    "som_utils.visualize_cell_cluster_data(\n",
    "    base_dir,\n",
    "    cluster_name=cell_consensus_name,\n",
    "    column_prefix=cluster_col,\n",
    "    cell_cluster_col='hCluster_cap'\n",
    ")"
   ]
  },
  {
   "cell_type": "markdown",
   "metadata": {},
   "source": [
    "### Visualize cell cluster overlay"
   ]
  },
  {
   "cell_type": "code",
   "execution_count": null,
   "metadata": {},
   "outputs": [],
   "source": [
    "# select fovs to display\n",
    "cell_fovs = ['fov6', 'fov7']"
   ]
  },
  {
   "cell_type": "code",
   "execution_count": null,
   "metadata": {},
   "outputs": [],
   "source": [
    "# generate the cell cluster masks for each fov in cell_fovs\n",
    "cell_cluster_masks = data_utils.generate_cell_cluster_mask(\n",
    "    fovs,\n",
    "    base_dir,\n",
    "    seg_dir,\n",
    "    cell_consensus_name=cell_consensus_name,\n",
    "    cluster_col='cluster'\n",
    ")"
   ]
  },
  {
   "cell_type": "code",
   "execution_count": null,
   "metadata": {},
   "outputs": [],
   "source": [
    "plot_utils.plot_clustering_result(\n",
    "    cell_cluster_masks,\n",
    "    cell_fovs\n",
    ")"
   ]
  }
 ],
 "metadata": {
  "kernelspec": {
   "display_name": "Python 3",
   "language": "python",
   "name": "python3"
  },
  "language_info": {
   "codemirror_mode": {
    "name": "ipython",
    "version": 3
   },
   "file_extension": ".py",
   "mimetype": "text/x-python",
   "name": "python",
   "nbconvert_exporter": "python",
   "pygments_lexer": "ipython3",
   "version": "3.6.10"
  }
 },
 "nbformat": 4,
 "nbformat_minor": 4
}
