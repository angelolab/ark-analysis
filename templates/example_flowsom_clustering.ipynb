{
 "cells": [
  {
   "cell_type": "markdown",
   "metadata": {},
   "source": [
    "### This notebook runs FlowSOM pixel-level clustering"
   ]
  },
  {
   "cell_type": "code",
   "execution_count": 1,
   "metadata": {},
   "outputs": [],
   "source": [
    "# import required packages\n",
    "import os\n",
    "\n",
    "import sys\n",
    "sys.path.append('..')\n",
    "sys.path.append('../ark')\n",
    "\n",
    "import numpy as np\n",
    "import pandas as pd\n",
    "import xarray as xr\n",
    "\n",
    "from ark.flowsom import preprocess\n",
    "from ark.utils import io_utils, load_utils"
   ]
  },
  {
   "cell_type": "markdown",
   "metadata": {},
   "source": [
    "### Set file paths and parameters"
   ]
  },
  {
   "cell_type": "code",
   "execution_count": 2,
   "metadata": {},
   "outputs": [],
   "source": [
    "base_dir = \"/Users/alexkong/Downloads/granulomaCohort_allData\"\n",
    "tiff_dir = os.path.join(base_dir, \"TIFs\")\n",
    "all_data_path = os.path.join(base_dir, \"cohortDatav.csv\")"
   ]
  },
  {
   "cell_type": "code",
   "execution_count": 3,
   "metadata": {},
   "outputs": [],
   "source": [
    "MIBItiff = False\n",
    "mibitiff_suffix = '-MassCorrected-Filtered.tiff'"
   ]
  },
  {
   "cell_type": "code",
   "execution_count": 4,
   "metadata": {},
   "outputs": [],
   "source": [
    "# either get all fovs in the folder...\n",
    "if MIBItiff:\n",
    "    fovs = io_utils.list_files(tiff_dir, substrs=MIBItiff_suffix)\n",
    "else:\n",
    "    fovs = io_utils.list_folders(tiff_dir)\n",
    "\n",
    "# ... or optionally, select a specific set of fovs manually\n",
    "# fovs = [\"fov1\", \"fov2\"]"
   ]
  },
  {
   "cell_type": "code",
   "execution_count": 5,
   "metadata": {},
   "outputs": [],
   "source": [
    "# set the channels to subset over\n",
    "chan_list = [\"CD45\", \"SMA\", \"Vimentin\", \"CD31\", \"Keratin-pan\", \"E-cadherin\", \"MastChyTry\",\n",
    "             \"MPO\", \"CD20\", \"CD3\", \"CD14\", \"HLA-DR-DQ-DP\", \"Foxp3\", \"CD16\", \"CD11c\", \"CD206\",\n",
    "             \"CD11b\", \"CD68\", \"CD163\", \"CD209\"]"
   ]
  },
  {
   "cell_type": "markdown",
   "metadata": {},
   "source": [
    "### Load data"
   ]
  },
  {
   "cell_type": "code",
   "execution_count": 6,
   "metadata": {},
   "outputs": [
    {
     "name": "stdout",
     "output_type": "stream",
     "text": [
      "['CD45', 'SMA', 'Vimentin', 'CD31', 'Keratin-pan', 'E-cadherin', 'MastChyTry', 'MPO', 'CD20', 'CD3', 'CD14', 'HLA-DR-DQ-DP', 'Foxp3', 'CD16', 'CD11c', 'CD206', 'CD11b', 'CD68', 'CD163', 'CD209']\n",
      "['CD14.tif', 'CD209.tif', 'CD16.tif', 'E-cadherin.tif', 'Vimentin.tif', 'HLA-DR-DQ-DP.tif', 'MastChyTry.tif', 'MPO.tif', 'CD3.tif', 'SMA.tif', 'CD11c.tif', 'CD68.tif', 'CD11b.tif', 'CD45.tif', 'CD20.tif', 'Foxp3.tif', 'CD36.tif', 'CD163.tif', 'Keratin-pan.tif', 'CD206.tif', 'CD31.tif']\n"
     ]
    },
    {
     "ename": "ValueError",
     "evalue": "'CD36' is not in list",
     "output_type": "error",
     "traceback": [
      "\u001b[0;31m---------------------------------------------------------------------------\u001b[0m",
      "\u001b[0;31mValueError\u001b[0m                                Traceback (most recent call last)",
      "\u001b[0;32m<ipython-input-6-c91d9533b066>\u001b[0m in \u001b[0;36m<module>\u001b[0;34m\u001b[0m\n\u001b[1;32m      2\u001b[0m     \u001b[0mimg_xr\u001b[0m \u001b[0;34m=\u001b[0m \u001b[0mload_utils\u001b[0m\u001b[0;34m.\u001b[0m\u001b[0mload_imgs_from_mibitiff\u001b[0m\u001b[0;34m(\u001b[0m\u001b[0mtiff_dir\u001b[0m\u001b[0;34m,\u001b[0m \u001b[0mmibitiff_files\u001b[0m\u001b[0;34m=\u001b[0m\u001b[0mfovs\u001b[0m\u001b[0;34m,\u001b[0m \u001b[0mchannels\u001b[0m\u001b[0;34m=\u001b[0m\u001b[0mchan_list\u001b[0m\u001b[0;34m)\u001b[0m\u001b[0;34m\u001b[0m\u001b[0;34m\u001b[0m\u001b[0m\n\u001b[1;32m      3\u001b[0m \u001b[0;32melse\u001b[0m\u001b[0;34m:\u001b[0m\u001b[0;34m\u001b[0m\u001b[0;34m\u001b[0m\u001b[0m\n\u001b[0;32m----> 4\u001b[0;31m     \u001b[0mimg_xr\u001b[0m \u001b[0;34m=\u001b[0m \u001b[0mload_utils\u001b[0m\u001b[0;34m.\u001b[0m\u001b[0mload_imgs_from_tree\u001b[0m\u001b[0;34m(\u001b[0m\u001b[0mtiff_dir\u001b[0m\u001b[0;34m,\u001b[0m \u001b[0mimg_sub_folder\u001b[0m\u001b[0;34m=\u001b[0m\u001b[0;34m\"TIFsNoAgg\"\u001b[0m\u001b[0;34m,\u001b[0m \u001b[0mfovs\u001b[0m\u001b[0;34m=\u001b[0m\u001b[0mfovs\u001b[0m\u001b[0;34m,\u001b[0m \u001b[0mchannels\u001b[0m\u001b[0;34m=\u001b[0m\u001b[0mchan_list\u001b[0m\u001b[0;34m)\u001b[0m\u001b[0;34m\u001b[0m\u001b[0;34m\u001b[0m\u001b[0m\n\u001b[0m",
      "\u001b[0;32m~/Desktop/angelo/ark-analysis/ark/utils/load_utils.py\u001b[0m in \u001b[0;36mload_imgs_from_tree\u001b[0;34m(data_dir, img_sub_folder, fovs, channels, dtype, variable_sizes)\u001b[0m\n\u001b[1;32m    139\u001b[0m \u001b[0;34m\u001b[0m\u001b[0m\n\u001b[1;32m    140\u001b[0m         \u001b[0;31m# get the corresponding indices found in channels_no_delim\u001b[0m\u001b[0;34m\u001b[0m\u001b[0;34m\u001b[0m\u001b[0;34m\u001b[0m\u001b[0m\n\u001b[0;32m--> 141\u001b[0;31m         \u001b[0mchannels_indices\u001b[0m \u001b[0;34m=\u001b[0m \u001b[0;34m[\u001b[0m\u001b[0mchannels_no_delim\u001b[0m\u001b[0;34m.\u001b[0m\u001b[0mindex\u001b[0m\u001b[0;34m(\u001b[0m\u001b[0mchan\u001b[0m\u001b[0;34m.\u001b[0m\u001b[0msplit\u001b[0m\u001b[0;34m(\u001b[0m\u001b[0;34m'.'\u001b[0m\u001b[0;34m)\u001b[0m\u001b[0;34m[\u001b[0m\u001b[0;36m0\u001b[0m\u001b[0;34m]\u001b[0m\u001b[0;34m)\u001b[0m \u001b[0;32mfor\u001b[0m \u001b[0mchan\u001b[0m \u001b[0;32min\u001b[0m \u001b[0mchannels_data\u001b[0m\u001b[0;34m]\u001b[0m\u001b[0;34m\u001b[0m\u001b[0;34m\u001b[0m\u001b[0m\n\u001b[0m\u001b[1;32m    142\u001b[0m \u001b[0;34m\u001b[0m\u001b[0m\n\u001b[1;32m    143\u001b[0m         \u001b[0;31m# reorder back to original\u001b[0m\u001b[0;34m\u001b[0m\u001b[0;34m\u001b[0m\u001b[0;34m\u001b[0m\u001b[0m\n",
      "\u001b[0;32m~/Desktop/angelo/ark-analysis/ark/utils/load_utils.py\u001b[0m in \u001b[0;36m<listcomp>\u001b[0;34m(.0)\u001b[0m\n\u001b[1;32m    139\u001b[0m \u001b[0;34m\u001b[0m\u001b[0m\n\u001b[1;32m    140\u001b[0m         \u001b[0;31m# get the corresponding indices found in channels_no_delim\u001b[0m\u001b[0;34m\u001b[0m\u001b[0;34m\u001b[0m\u001b[0;34m\u001b[0m\u001b[0m\n\u001b[0;32m--> 141\u001b[0;31m         \u001b[0mchannels_indices\u001b[0m \u001b[0;34m=\u001b[0m \u001b[0;34m[\u001b[0m\u001b[0mchannels_no_delim\u001b[0m\u001b[0;34m.\u001b[0m\u001b[0mindex\u001b[0m\u001b[0;34m(\u001b[0m\u001b[0mchan\u001b[0m\u001b[0;34m.\u001b[0m\u001b[0msplit\u001b[0m\u001b[0;34m(\u001b[0m\u001b[0;34m'.'\u001b[0m\u001b[0;34m)\u001b[0m\u001b[0;34m[\u001b[0m\u001b[0;36m0\u001b[0m\u001b[0;34m]\u001b[0m\u001b[0;34m)\u001b[0m \u001b[0;32mfor\u001b[0m \u001b[0mchan\u001b[0m \u001b[0;32min\u001b[0m \u001b[0mchannels_data\u001b[0m\u001b[0;34m]\u001b[0m\u001b[0;34m\u001b[0m\u001b[0;34m\u001b[0m\u001b[0m\n\u001b[0m\u001b[1;32m    142\u001b[0m \u001b[0;34m\u001b[0m\u001b[0m\n\u001b[1;32m    143\u001b[0m         \u001b[0;31m# reorder back to original\u001b[0m\u001b[0;34m\u001b[0m\u001b[0;34m\u001b[0m\u001b[0;34m\u001b[0m\u001b[0m\n",
      "\u001b[0;31mValueError\u001b[0m: 'CD36' is not in list"
     ]
    }
   ],
   "source": [
    "if MIBItiff:\n",
    "    img_xr = load_utils.load_imgs_from_mibitiff(tiff_dir, mibitiff_files=fovs, channels=chan_list)\n",
    "else:\n",
    "    img_xr = load_utils.load_imgs_from_tree(tiff_dir, img_sub_folder=\"TIFsNoAgg\", fovs=fovs, channels=chan_list)"
   ]
  },
  {
   "cell_type": "code",
   "execution_count": null,
   "metadata": {},
   "outputs": [],
   "source": [
    "all_data = pd.read_csv(all_data_path)"
   ]
  },
  {
   "cell_type": "code",
   "execution_count": null,
   "metadata": {},
   "outputs": [],
   "source": [
    "img_xr.coords['channels'].values"
   ]
  },
  {
   "cell_type": "code",
   "execution_count": null,
   "metadata": {},
   "outputs": [],
   "source": [
    "all_data.head(10)"
   ]
  },
  {
   "cell_type": "markdown",
   "metadata": {},
   "source": [
    "### Preprocess the data"
   ]
  },
  {
   "cell_type": "code",
   "execution_count": null,
   "metadata": {},
   "outputs": [],
   "source": [
    "preprocess.preprocess_flowsom(img_xr, blur_factor=2)"
   ]
  }
 ],
 "metadata": {
  "kernelspec": {
   "display_name": "Python 3",
   "language": "python",
   "name": "python3"
  },
  "language_info": {
   "codemirror_mode": {
    "name": "ipython",
    "version": 3
   },
   "file_extension": ".py",
   "mimetype": "text/x-python",
   "name": "python",
   "nbconvert_exporter": "python",
   "pygments_lexer": "ipython3",
   "version": "3.6.10"
  }
 },
 "nbformat": 4,
 "nbformat_minor": 4
}
