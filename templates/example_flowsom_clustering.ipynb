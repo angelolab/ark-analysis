{
 "cells": [
  {
   "cell_type": "markdown",
   "metadata": {},
   "source": [
    "### This notebook runs FlowSOM pixel-level clustering"
   ]
  },
  {
   "cell_type": "code",
   "execution_count": 1,
   "metadata": {
    "tags": [
     "import"
    ]
   },
   "outputs": [],
   "source": [
    "# import required packages\n",
    "import os\n",
    "import subprocess\n",
    "\n",
    "import numpy as np\n",
    "import pandas as pd\n",
    "import xarray as xr\n",
    "\n",
    "from ark.phenotyping import som_utils\n",
    "from ark.utils import io_utils, load_utils"
   ]
  },
  {
   "cell_type": "markdown",
   "metadata": {},
   "source": [
    "### Set file paths and parameters"
   ]
  },
  {
   "cell_type": "code",
   "execution_count": 2,
   "metadata": {
    "tags": [
     "file_path"
    ]
   },
   "outputs": [],
   "source": [
    "# assign file paths\n",
    "base_dir = \"../data/example_dataset/flowsom_data\"\n",
    "tiff_dir = os.path.join(base_dir, \"TIFs\")"
   ]
  },
  {
   "cell_type": "code",
   "execution_count": 3,
   "metadata": {
    "tags": [
     "mibitiff_set"
    ]
   },
   "outputs": [],
   "source": [
    "# set mibitiff parameters\n",
    "MIBItiff = False\n",
    "mibitiff_suffix = '-MassCorrected-Filtered.tiff'"
   ]
  },
  {
   "cell_type": "code",
   "execution_count": 4,
   "metadata": {
    "tags": [
     "load_fovs"
    ]
   },
   "outputs": [],
   "source": [
    "# either get all fovs in the folder...\n",
    "if MIBItiff:\n",
    "    fovs = io_utils.list_files(tiff_dir, substrs=MIBItiff_suffix)\n",
    "else:\n",
    "    fovs = io_utils.list_folders(tiff_dir)\n",
    "\n",
    "# ... or optionally, select a specific set of fovs manually\n",
    "# fovs = [\"Point14\"]"
   ]
  },
  {
   "cell_type": "code",
   "execution_count": 5,
   "metadata": {
    "tags": [
     "set_channels"
    ]
   },
   "outputs": [],
   "source": [
    "# set the channels to subset over\n",
    "chan_list = [\"CD45\", \"SMA\", \"Vimentin\", \"CD31\", \"Keratin-pan\", \"E-cadherin\", \"MastChyTry\",\n",
    "             \"MPO\", \"CD20\", \"CD3\", \"CD14\", \"HLA-DR-DQ-DP\", \"Foxp3\", \"CD16\", \"CD11c\", \"CD206\",\n",
    "             \"CD11b\", \"CD68\", \"CD163\", \"CD209\"]"
   ]
  },
  {
   "cell_type": "markdown",
   "metadata": {},
   "source": [
    "### Load data"
   ]
  },
  {
   "cell_type": "code",
   "execution_count": 6,
   "metadata": {
    "tags": [
     "load_img_xr"
    ]
   },
   "outputs": [],
   "source": [
    "# load the image data\n",
    "if MIBItiff:\n",
    "    img_xr = load_utils.load_imgs_from_mibitiff(tiff_dir, mibitiff_files=fovs, channels=chan_list, dtype=\"int16\")\n",
    "else:\n",
    "    img_xr = load_utils.load_imgs_from_tree(tiff_dir, img_sub_folder=\"TIFsNoAgg\", fovs=fovs, channels=chan_list, dtype=\"int16\")"
   ]
  },
  {
   "cell_type": "code",
   "execution_count": 7,
   "metadata": {
    "tags": [
     "load_seg_labels"
    ]
   },
   "outputs": [],
   "source": [
    "# load the segmentation labels\n",
    "segmentation_labels = load_utils.load_imgs_from_dir(base_dir,\n",
    "                                                    xr_dim_name='compartments',\n",
    "                                                    xr_channel_names=['whole_cell'],\n",
    "                                                    force_ints=True)"
   ]
  },
  {
   "cell_type": "code",
   "execution_count": 8,
   "metadata": {
    "tags": [
     "trim_seg_coords"
    ]
   },
   "outputs": [],
   "source": [
    "# to make data types consistent, remove 'Point' from segmentation label fov coordinate names\n",
    "segmentation_labels = segmentation_labels.assign_coords(fovs=[fov.replace('segmentationmask_SampleID', 'Point') for fov in segmentation_labels.coords['fovs'].values])"
   ]
  },
  {
   "cell_type": "markdown",
   "metadata": {},
   "source": [
    "### Preprocess"
   ]
  },
  {
   "cell_type": "code",
   "execution_count": 9,
   "metadata": {
    "tags": [
     "gen_pixel_mat"
    ]
   },
   "outputs": [],
   "source": [
    "# run FlowSOM preprocessing\n",
    "pixel_data = som_utils.create_pixel_matrix(img_xr, segmentation_labels)"
   ]
  },
  {
   "cell_type": "code",
   "execution_count": 10,
   "metadata": {
    "tags": [
     "save_pixel_mat"
    ]
   },
   "outputs": [],
   "source": [
    "# write data to csv, start at \"Cluster the data\" after this\n",
    "pixel_data.to_csv(os.path.join(base_dir, 'example_pixel_matrix.csv'), index=False)"
   ]
  },
  {
   "cell_type": "markdown",
   "metadata": {},
   "source": [
    "### Train the SOM"
   ]
  },
  {
   "cell_type": "code",
   "execution_count": 11,
   "metadata": {
    "tags": [
     "cluster_pixel_mat"
    ]
   },
   "outputs": [],
   "source": [
    "# run the SOM clustering\n",
    "som_utils.cluster_pixels(base_dir, chan_list)"
   ]
  },
  {
   "cell_type": "code",
   "execution_count": 13,
   "metadata": {
    "tags": [
     "read_cluster_mat"
    ]
   },
   "outputs": [],
   "source": [
    "# read the resulting clustered data\n",
    "clustered_pixel_data = pd.read_csv(os.path.join(base_dir, 'pixel_mat_clustered.csv'))"
   ]
  },
  {
   "cell_type": "markdown",
   "metadata": {},
   "source": [
    "TODO: add post-processing pixel clustering steps"
   ]
  }
 ],
 "metadata": {
  "kernelspec": {
   "display_name": "Python 3",
   "language": "python",
   "name": "python3"
  },
  "language_info": {
   "codemirror_mode": {
    "name": "ipython",
    "version": 3
   },
   "file_extension": ".py",
   "mimetype": "text/x-python",
   "name": "python",
   "nbconvert_exporter": "python",
   "pygments_lexer": "ipython3",
   "version": "3.6.10"
  }
 },
 "nbformat": 4,
 "nbformat_minor": 4
}
