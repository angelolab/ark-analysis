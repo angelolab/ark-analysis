{
 "cells": [
  {
   "cell_type": "markdown",
   "metadata": {},
   "source": [
    "### This notebook runs FlowSOM pixel-level clustering"
   ]
  },
  {
   "cell_type": "code",
   "execution_count": 1,
   "metadata": {},
   "outputs": [],
   "source": [
    "# import required packages\n",
    "import os\n",
    "\n",
    "import sys\n",
    "sys.path.append('..')\n",
    "sys.path.append('../ark')\n",
    "\n",
    "import numpy as np\n",
    "import pandas as pd\n",
    "import xarray as xr\n",
    "\n",
    "from ark.phenotyping import preprocess\n",
    "from ark.phenotyping import cluster\n",
    "from ark.utils import io_utils, load_utils"
   ]
  },
  {
   "cell_type": "markdown",
   "metadata": {},
   "source": [
    "### Set file paths and parameters"
   ]
  },
  {
   "cell_type": "code",
   "execution_count": 2,
   "metadata": {},
   "outputs": [],
   "source": [
    "# assign file paths\n",
    "base_dir = \"/Users/alexkong/Downloads/granulomaCohort_allData\"\n",
    "tiff_dir = os.path.join(base_dir, \"TIFs\")\n",
    "all_data_path = os.path.join(base_dir, \"cohortDatav.csv\")"
   ]
  },
  {
   "cell_type": "code",
   "execution_count": 3,
   "metadata": {},
   "outputs": [],
   "source": [
    "# set mibitiff parameters\n",
    "MIBItiff = False\n",
    "mibitiff_suffix = '-MassCorrected-Filtered.tiff'"
   ]
  },
  {
   "cell_type": "code",
   "execution_count": 4,
   "metadata": {},
   "outputs": [],
   "source": [
    "# either get all fovs in the folder...\n",
    "if MIBItiff:\n",
    "    fovs = io_utils.list_files(tiff_dir, substrs=MIBItiff_suffix)\n",
    "else:\n",
    "    fovs = io_utils.list_folders(tiff_dir)\n",
    "\n",
    "# ... or optionally, select a specific set of fovs manually\n",
    "# fovs = [\"fov1\", \"fov2\"]"
   ]
  },
  {
   "cell_type": "code",
   "execution_count": 5,
   "metadata": {},
   "outputs": [],
   "source": [
    "# set the channels to subset over\n",
    "chan_list = [\"CD45\", \"SMA\", \"Vimentin\", \"CD31\", \"Keratin-pan\", \"E-cadherin\", \"MastChyTry\",\n",
    "             \"MPO\", \"CD20\", \"CD3\", \"CD14\", \"HLA-DR-DQ-DP\", \"Foxp3\", \"CD16\", \"CD11c\", \"CD206\",\n",
    "             \"CD11b\", \"CD68\", \"CD163\", \"CD209\"]"
   ]
  },
  {
   "cell_type": "markdown",
   "metadata": {},
   "source": [
    "### Load data"
   ]
  },
  {
   "cell_type": "code",
   "execution_count": 6,
   "metadata": {},
   "outputs": [],
   "source": [
    "# load the image data\n",
    "if MIBItiff:\n",
    "    img_xr = load_utils.load_imgs_from_mibitiff(tiff_dir, mibitiff_files=fovs, channels=chan_list)\n",
    "else:\n",
    "    img_xr = load_utils.load_imgs_from_tree(tiff_dir, img_sub_folder=\"TIFsNoAgg\", fovs=fovs, channels=chan_list, dtype=\"float64\")"
   ]
  },
  {
   "cell_type": "code",
   "execution_count": 7,
   "metadata": {},
   "outputs": [],
   "source": [
    "# load the data cohort\n",
    "all_data = pd.read_csv(all_data_path)"
   ]
  },
  {
   "cell_type": "code",
   "execution_count": 8,
   "metadata": {},
   "outputs": [],
   "source": [
    "# load the segmentation labels\n",
    "segmentation_labels = load_utils.load_imgs_from_dir(base_dir,\n",
    "                                                    xr_dim_name='compartments',\n",
    "                                                    xr_channel_names=['whole_cell'],\n",
    "                                                    force_ints=True)"
   ]
  },
  {
   "cell_type": "code",
   "execution_count": 9,
   "metadata": {},
   "outputs": [],
   "source": [
    "# to make data types consistent, remove 'Point' from segmentation label fov coordinate names\n",
    "segmentation_labels.coords['fovs'].values = [fov.replace('segmentationmask_SampleID', 'Point') for fov in segmentation_labels.coords['fovs'].values]"
   ]
  },
  {
   "cell_type": "markdown",
   "metadata": {},
   "source": [
    "### Preprocess"
   ]
  },
  {
   "cell_type": "code",
   "execution_count": 10,
   "metadata": {},
   "outputs": [],
   "source": [
    "# run FlowSOM preprocessing\n",
    "flowsom_data = preprocess.create_pixel_matrix(img_xr, segmentation_labels)"
   ]
  },
  {
   "cell_type": "code",
   "execution_count": 12,
   "metadata": {},
   "outputs": [],
   "source": [
    "# write data to csv, start at \"Cluster the data\" after this\n",
    "flowsom_data.to_csv(os.path.join('pixel_results', 'example_pixel_matrix.csv'), index=False)"
   ]
  },
  {
   "cell_type": "markdown",
   "metadata": {},
   "source": [
    "### Train the SOM"
   ]
  },
  {
   "cell_type": "code",
   "execution_count": 2,
   "metadata": {},
   "outputs": [],
   "source": [
    "# use preprocessed data\n",
    "flowsom_data = pd.read_csv(os.path.join('pixel_results', 'example_pixel_matrix.csv'))"
   ]
  },
  {
   "cell_type": "code",
   "execution_count": null,
   "metadata": {},
   "outputs": [],
   "source": [
    "# train the som, uses parameters from R SOM package (10 x_neurons, 10 y_neurons, 10 passes through the dataset)\n",
    "weights = cluster.train_som(flowsom_data[chan_list], x_neurons=10, y_neurons=10, num_passes=10)"
   ]
  },
  {
   "cell_type": "code",
   "execution_count": 9,
   "metadata": {},
   "outputs": [],
   "source": [
    "np.save(os.path.join('pixel_results', 'som_weights.npy'), weights)"
   ]
  },
  {
   "cell_type": "markdown",
   "metadata": {},
   "source": [
    "### Cluster the data"
   ]
  },
  {
   "cell_type": "code",
   "execution_count": 8,
   "metadata": {},
   "outputs": [],
   "source": [
    "weights = np.load(os.path.join('pixel_results', 'som_weights.npy'))"
   ]
  },
  {
   "cell_type": "code",
   "execution_count": 10,
   "metadata": {},
   "outputs": [],
   "source": [
    "# cluster the data\n",
    "flowsom_data['cluster_label'] = cluster.cluster_som(flowsom_data[chan_list], weights)"
   ]
  },
  {
   "cell_type": "code",
   "execution_count": 11,
   "metadata": {},
   "outputs": [
    {
     "data": {
      "text/plain": [
       "1     633959\n",
       "3     373880\n",
       "4     329334\n",
       "38    286675\n",
       "14    219845\n",
       "39    186599\n",
       "7     161918\n",
       "20    146521\n",
       "0     123981\n",
       "22    100177\n",
       "35     82594\n",
       "5      74916\n",
       "21     69925\n",
       "2      64402\n",
       "12     59678\n",
       "6      58858\n",
       "18     58834\n",
       "13     58785\n",
       "33     54447\n",
       "23     54100\n",
       "15     52579\n",
       "44     45131\n",
       "19     42588\n",
       "11     40231\n",
       "66     36927\n",
       "16     36180\n",
       "47     36147\n",
       "51     32914\n",
       "52     27765\n",
       "9      27676\n",
       "       ...  \n",
       "87      3402\n",
       "72      3214\n",
       "74      3143\n",
       "59      3008\n",
       "82      2935\n",
       "45      2935\n",
       "29      2922\n",
       "85      2838\n",
       "75      2761\n",
       "92      2757\n",
       "61      2633\n",
       "73      2483\n",
       "50      2347\n",
       "83      1958\n",
       "77      1895\n",
       "46      1659\n",
       "99      1649\n",
       "64      1448\n",
       "86      1394\n",
       "79      1393\n",
       "71      1330\n",
       "84      1277\n",
       "78       788\n",
       "97       704\n",
       "96       677\n",
       "80       641\n",
       "94       597\n",
       "91       493\n",
       "98       322\n",
       "88       245\n",
       "Name: cluster_label, Length: 100, dtype: int64"
      ]
     },
     "execution_count": 11,
     "metadata": {},
     "output_type": "execute_result"
    }
   ],
   "source": [
    "flowsom_data['cluster_label'].value_counts()"
   ]
  }
 ],
 "metadata": {
  "kernelspec": {
   "display_name": "Python 3",
   "language": "python",
   "name": "python3"
  },
  "language_info": {
   "codemirror_mode": {
    "name": "ipython",
    "version": 3
   },
   "file_extension": ".py",
   "mimetype": "text/x-python",
   "name": "python",
   "nbconvert_exporter": "python",
   "pygments_lexer": "ipython3",
   "version": "3.6.10"
  }
 },
 "nbformat": 4,
 "nbformat_minor": 4
}
