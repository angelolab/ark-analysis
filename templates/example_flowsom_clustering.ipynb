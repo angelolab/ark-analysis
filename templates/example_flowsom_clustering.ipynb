{
 "cells": [
  {
   "cell_type": "markdown",
   "metadata": {},
   "source": [
    "### This notebook runs FlowSOM pixel-level clustering"
   ]
  },
  {
   "cell_type": "code",
   "execution_count": 1,
   "metadata": {},
   "outputs": [],
   "source": [
    "# import required packages\n",
    "import os\n",
    "import subprocess\n",
    "\n",
    "import sys\n",
    "sys.path.append('..')\n",
    "sys.path.append('../ark')\n",
    "\n",
    "import numpy as np\n",
    "import pandas as pd\n",
    "import xarray as xr\n",
    "\n",
    "from ark.phenotyping import preprocess\n",
    "from ark.phenotyping import cluster\n",
    "from ark.utils import io_utils, load_utils"
   ]
  },
  {
   "cell_type": "markdown",
   "metadata": {},
   "source": [
    "### Set file paths and parameters"
   ]
  },
  {
   "cell_type": "code",
   "execution_count": 2,
   "metadata": {},
   "outputs": [],
   "source": [
    "# assign file paths\n",
    "base_dir = \"../data/granulomaCohort_allData\"\n",
    "tiff_dir = os.path.join(base_dir, \"TIFs\")\n",
    "all_data_path = os.path.join(base_dir, \"cohortDatav.csv\")"
   ]
  },
  {
   "cell_type": "code",
   "execution_count": 3,
   "metadata": {},
   "outputs": [],
   "source": [
    "# set mibitiff parameters\n",
    "MIBItiff = False\n",
    "mibitiff_suffix = '-MassCorrected-Filtered.tiff'"
   ]
  },
  {
   "cell_type": "code",
   "execution_count": 4,
   "metadata": {},
   "outputs": [],
   "source": [
    "# either get all fovs in the folder...\n",
    "if MIBItiff:\n",
    "    fovs = io_utils.list_files(tiff_dir, substrs=MIBItiff_suffix)\n",
    "else:\n",
    "    fovs = io_utils.list_folders(tiff_dir)\n",
    "\n",
    "# ... or optionally, select a specific set of fovs manually\n",
    "fovs = [\"Point6\", \"Point7\"]"
   ]
  },
  {
   "cell_type": "code",
   "execution_count": 5,
   "metadata": {},
   "outputs": [],
   "source": [
    "# set the channels to subset over\n",
    "chan_list = [\"CD45\", \"SMA\", \"Vimentin\", \"CD31\", \"Keratin-pan\", \"E-cadherin\", \"MastChyTry\",\n",
    "             \"MPO\", \"CD20\", \"CD3\", \"CD14\", \"HLA-DR-DQ-DP\", \"Foxp3\", \"CD16\", \"CD11c\", \"CD206\",\n",
    "             \"CD11b\", \"CD68\", \"CD163\", \"CD209\"]"
   ]
  },
  {
   "cell_type": "markdown",
   "metadata": {},
   "source": [
    "### Load data"
   ]
  },
  {
   "cell_type": "code",
   "execution_count": 6,
   "metadata": {},
   "outputs": [],
   "source": [
    "# load the image data\n",
    "if MIBItiff:\n",
    "    img_xr = load_utils.load_imgs_from_mibitiff(tiff_dir, mibitiff_files=fovs, channels=chan_list, dtype=\"int16\")\n",
    "else:\n",
    "    img_xr = load_utils.load_imgs_from_tree(tiff_dir, img_sub_folder=\"TIFsNoAgg\", fovs=fovs, channels=chan_list, dtype=\"int16\")"
   ]
  },
  {
   "cell_type": "code",
   "execution_count": 7,
   "metadata": {},
   "outputs": [],
   "source": [
    "# load the data cohort\n",
    "all_data = pd.read_csv(all_data_path)"
   ]
  },
  {
   "cell_type": "code",
   "execution_count": 8,
   "metadata": {},
   "outputs": [],
   "source": [
    "# load the segmentation labels\n",
    "segmentation_labels = load_utils.load_imgs_from_dir(base_dir,\n",
    "                                                    xr_dim_name='compartments',\n",
    "                                                    xr_channel_names=['whole_cell'],\n",
    "                                                    force_ints=True)"
   ]
  },
  {
   "cell_type": "code",
   "execution_count": 9,
   "metadata": {},
   "outputs": [],
   "source": [
    "# to make data types consistent, remove 'Point' from segmentation label fov coordinate names\n",
    "segmentation_labels = segmentation_labels.assign_coords(fovs=[fov.replace('segmentationmask_SampleID', 'Point') for fov in segmentation_labels.coords['fovs'].values])\n",
    "# segmentation_labels.coords['fovs'].values = [fov.replace('segmentationmask_SampleID', 'Point') for fov in segmentation_labels.coords['fovs'].values]"
   ]
  },
  {
   "cell_type": "markdown",
   "metadata": {},
   "source": [
    "### Preprocess"
   ]
  },
  {
   "cell_type": "code",
   "execution_count": 10,
   "metadata": {},
   "outputs": [],
   "source": [
    "# run FlowSOM preprocessing\n",
    "flowsom_data = preprocess.create_pixel_matrix(img_xr, segmentation_labels)"
   ]
  },
  {
   "cell_type": "code",
   "execution_count": 17,
   "metadata": {},
   "outputs": [],
   "source": [
    "# write data to csv, start at \"Cluster the data\" after this\n",
    "flowsom_data.to_csv(os.path.join(base_dir, 'example_pixel_matrix.csv'), index=False)"
   ]
  },
  {
   "cell_type": "markdown",
   "metadata": {},
   "source": [
    "### Train the SOM"
   ]
  },
  {
   "cell_type": "code",
   "execution_count": 23,
   "metadata": {},
   "outputs": [
    {
     "name": "stdout",
     "output_type": "stream",
     "text": [
      "Loading required package: igraph\n",
      "\n",
      "Attaching package: ‘igraph’\n",
      "\n",
      "The following objects are masked from ‘package:stats’:\n",
      "\n",
      "    decompose, spectrum\n",
      "\n",
      "The following object is masked from ‘package:base’:\n",
      "\n",
      "    union\n",
      "\n",
      "[1] \"Reading command args\"\n",
      "[1] \"Getting pixel mat data path\"\n",
      "[1] \"Creating marker list\"\n",
      " [1] \"CD45\"         \"SMA\"          \"Vimentin\"     \"CD31\"         \"Keratin-pan\" \n",
      " [6] \"\"             \"MastChyTry\"   \"MPO\"          \"CD20\"         \"CD3\"         \n",
      "[11] \"CD14\"         \"HLA-DR-DQ-DP\" \"Foxp3\"        \"CD16\"         \"CD11c\"       \n",
      "[16] \"CD206\"        \"CD11b\"        \"CD68\"         \"CD163\"        \"CD209\"       \n",
      "[1] \"Getting the write directory\"\n",
      "[1] \"Reading the pixel matrix data\"\n",
      "Warning message:\n",
      "In fread(pixelMatPath, select = markers) :\n",
      "  Column name '' not found in column name header (case sensitive), skipping.\n",
      "               CD45 SMA  Vimentin CD31 Keratin-pan MastChyTry MPO CD20 CD3\n",
      "      1: 0.01539873   0 0.6582304    0           0          0   0    0   0\n",
      "      2: 0.02142765   0 0.6352314    0           0          0   0    0   0\n",
      "      3: 0.03223888   0 0.5945895    0           0          0   0    0   0\n",
      "      4: 0.04588112   0 0.5463729    0           0          0   0    0   0\n",
      "      5: 0.06002143   0 0.5036803    0           0          0   0    0   0\n",
      "     ---                                                                  \n",
      "2061952: 0.48777682   0 0.0000000    0           0          0   0    0   0\n",
      "2061953: 0.51465970   0 0.0000000    0           0          0   0    0   0\n",
      "2061954: 0.54263720   0 0.0000000    0           0          0   0    0   0\n",
      "2061955: 0.56956583   0 0.0000000    0           0          0   0    0   0\n",
      "2061956: 0.72981197   0 0.0000000    0           0          0   0    0   0\n",
      "                 CD14 HLA-DR-DQ-DP Foxp3       CD16 CD11c CD206     CD11b\n",
      "      1: 0.0002659083    0.1393962     0 0.06724614     0     0 0.0000000\n",
      "      2: 0.0007322415    0.1466964     0 0.08578396     0     0 0.0000000\n",
      "      3: 0.0020209511    0.1588562     0 0.11405228     0     0 0.0000000\n",
      "      4: 0.0047482680    0.1715826     0 0.13989057     0     0 0.0000000\n",
      "      5: 0.0094575970    0.1800704     0 0.15364729     0     0 0.0000000\n",
      "     ---                                                                 \n",
      "2061952: 0.7395469000    0.0000000     0 0.00000000     0     0 0.5249538\n",
      "2061953: 0.7105140000    0.0000000     0 0.00000000     0     0 0.4593977\n",
      "2061954: 0.6800099600    0.0000000     0 0.00000000     0     0 0.3922954\n",
      "2061955: 0.6484272500    0.0000000     0 0.00000000     0     0 0.3363436\n",
      "2061956: 0.4613576200    0.0000000     0 0.00000000     0     0 0.0000000\n",
      "              CD68 CD163 CD209\n",
      "      1: 0.3536711     0     0\n",
      "      2: 0.3555410     0     0\n",
      "      3: 0.3642685     0     0\n",
      "      4: 0.3831219     0     0\n",
      "      5: 0.4079785     0     0\n",
      "     ---                      \n",
      "2061952: 0.0000000     0     0\n",
      "2061953: 0.0000000     0     0\n",
      "2061954: 0.0000000     0     0\n",
      "2061955: 0.0000000     0     0\n",
      "2061956: 0.0000000     0     0\n",
      "[1] \"Run the SOM clustering\"\n",
      "Mapping data to SOM\n",
      "\n",
      "[1] \"Assign the cluster labels accordingly\"\n",
      "[1] \"Writing the data\"\n",
      "Time difference of -1.184431 mins\n"
     ]
    }
   ],
   "source": [
    "!Rscript ../som_runner.R {os.path.join(base_dir, 'example_pixel_matrix.csv')} {','.join(chan_list).replace('E-cadherin', '')} {base_dir}"
   ]
  }
 ],
 "metadata": {
  "kernelspec": {
   "display_name": "Python 3",
   "language": "python",
   "name": "python3"
  },
  "language_info": {
   "codemirror_mode": {
    "name": "ipython",
    "version": 3
   },
   "file_extension": ".py",
   "mimetype": "text/x-python",
   "name": "python",
   "nbconvert_exporter": "python",
   "pygments_lexer": "ipython3",
   "version": "3.6.10"
  }
 },
 "nbformat": 4,
 "nbformat_minor": 4
}
