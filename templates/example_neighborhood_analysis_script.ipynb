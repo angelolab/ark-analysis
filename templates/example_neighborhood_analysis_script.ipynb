{
 "cells": [
  {
   "cell_type": "code",
   "execution_count": 1,
   "metadata": {},
   "outputs": [],
   "source": [
    "# Import all the necessary packages\n",
    "import os\n",
    "import matplotlib.pyplot as plt\n",
    "import pandas as pd\n",
    "import xarray as xr\n",
    "\n",
    "from ark.utils import spatial_analysis_utils, io_utils  # noqa: E402\n",
    "from ark.analysis import spatial_analysis, visualize\n",
    "\n",
    "import ark.settings as settings"
   ]
  },
  {
   "cell_type": "markdown",
   "metadata": {},
   "source": [
    "# Read data"
   ]
  },
  {
   "cell_type": "code",
   "execution_count": 2,
   "metadata": {},
   "outputs": [],
   "source": [
    "# Set up file paths and import data\n",
    "base_dir = \"../data/example_dataset/\"\n",
    "spatial_analysis_dir = os.path.join(base_dir, \"spatial_enrichment_input_data\")"
   ]
  },
  {
   "cell_type": "code",
   "execution_count": 3,
   "metadata": {},
   "outputs": [],
   "source": [
    "# validate file paths (add other directories as needed)\n",
    "io_utils.validate_paths([\n",
    "    base_dir,\n",
    "    spatial_analysis_dir,\n",
    "])"
   ]
  },
  {
   "cell_type": "code",
   "execution_count": 4,
   "metadata": {},
   "outputs": [],
   "source": [
    "# Import the necessary data\n",
    "# This is the cell expression matrix including data for fovs 6 and 7, their cell labels, marker expression,\n",
    "# cell phenotypes, and cell phenotype IDs.\n",
    "all_data = pd.read_csv(os.path.join(spatial_analysis_dir, \"example_expression_matrix.csv\"))"
   ]
  },
  {
   "cell_type": "code",
   "execution_count": 5,
   "metadata": {},
   "outputs": [],
   "source": [
    "# This is the Xarray of label maps for multiple fovs from which the distance matrix will be computed\n",
    "label_maps = xr.load_dataarray(os.path.join(spatial_analysis_dir, \"segmentation_labels.xr\"))\n",
    "\n",
    "# Get dictionary object with the respective distance matrices for the fovs\n",
    "dist_mats = spatial_analysis_utils.calc_dist_matrix(label_maps)"
   ]
  },
  {
   "cell_type": "markdown",
   "metadata": {},
   "source": [
    "# Compute neighborhood analysis"
   ]
  },
  {
   "cell_type": "code",
   "execution_count": 6,
   "metadata": {},
   "outputs": [],
   "source": [
    "# Now with the same inputs, we will run a neighborhood analysis to determine counts for clusters of cells of different phenotypes. \n",
    "neighbor_counts, neighbor_freqs = spatial_analysis.create_neighborhood_matrix(all_data, dist_mats, distlim=50)"
   ]
  },
  {
   "cell_type": "markdown",
   "metadata": {},
   "source": [
    "# Visualize neighborhood properties"
   ]
  },
  {
   "cell_type": "markdown",
   "metadata": {},
   "source": [
    "TODO: add visualizations to do this\n",
    "\n",
    "* A heatmap of a hierarchical clustering with row z-score of neighbor_counts/neighbor_freqs, plus dendrogram\n",
    "* A UMAP of neighbor_counts/neighbor_freqs\n",
    "* A tSNE of neighbor_counts/neighbor_freqs"
   ]
  },
  {
   "cell_type": "markdown",
   "metadata": {},
   "source": [
    "# Find optimal k for k-means clustering"
   ]
  },
  {
   "cell_type": "code",
   "execution_count": 7,
   "metadata": {},
   "outputs": [],
   "source": [
    "# can use neighbor_freqs as well, default max_k chosen will be 10, metric computed is silhouette score\n",
    "neighbor_silhouette_scores = spatial_analysis.compute_cluster_metrics(neighbor_counts.drop(columns=settings.CELL_LABEL))"
   ]
  },
  {
   "cell_type": "markdown",
   "metadata": {},
   "source": [
    "Use the elbow curve method to choose the optimal k"
   ]
  },
  {
   "cell_type": "code",
   "execution_count": 8,
   "metadata": {},
   "outputs": [
    {
     "data": {
      "image/png": "[encoded data removed]",
      "text/plain": [
       "<Figure size 432x288 with 1 Axes>"
      ]
     },
     "metadata": {
      "needs_background": "light"
     },
     "output_type": "display_data"
    }
   ],
   "source": [
    "visualize.visualize_neighbor_cluster_metrics(neighbor_silhouette_scores)"
   ]
  },
  {
   "cell_type": "markdown",
   "metadata": {},
   "source": [
    "# Generate cluster results"
   ]
  },
  {
   "cell_type": "code",
   "execution_count": 9,
   "metadata": {},
   "outputs": [],
   "source": [
    "# set k value here based on results from graph above\n",
    "k = 8"
   ]
  },
  {
   "cell_type": "code",
   "execution_count": 10,
   "metadata": {},
   "outputs": [],
   "source": [
    "# These channels will be excluded from the analysis\n",
    "excluded_channels = [\"C\", \"Na\", \"Si\", \"Background\", \"HH3\", \"Ta\", \"Au\"]"
   ]
  },
  {
   "cell_type": "code",
   "execution_count": 11,
   "metadata": {},
   "outputs": [],
   "source": [
    "all_data_cluster_labeled, num_cell_type_per_cluster, mean_marker_exp_per_cluster = \\\n",
    "    spatial_analysis.generate_cluster_matrix_results(\n",
    "        all_data, neighbor_counts.drop(columns=settings.CELL_LABEL), cluster_num=k, excluded_channels=excluded_channels)"
   ]
  },
  {
   "cell_type": "markdown",
   "metadata": {},
   "source": [
    "# Visualize cluster results"
   ]
  },
  {
   "cell_type": "markdown",
   "metadata": {},
   "source": [
    "TODO: add visualization to do this\n",
    "\n",
    "* A heatmap of all_data_cluster_labeled\n",
    "* A heatmap of mean_marker_exp_per_cluster"
   ]
  },
  {
   "cell_type": "markdown",
   "metadata": {},
   "source": [
    "# Overlay segmentation with neighborhood clusters"
   ]
  },
  {
   "cell_type": "markdown",
   "metadata": {},
   "source": [
    "TODO: add visualization"
   ]
  },
  {
   "cell_type": "markdown",
   "metadata": {},
   "source": [
    "# Write expression matrix with cluster labels to csv"
   ]
  },
  {
   "cell_type": "code",
   "execution_count": null,
   "metadata": {},
   "outputs": [],
   "source": [
    "# do this once you're satisfied with the clusters you've been assigned\n",
    "all_data_cluster_labeled.to_csv(os.path.join(spatial_analysis_dir, \"example_expression_matrix_clustered.csv\"))"
   ]
  }
 ],
 "metadata": {
  "kernelspec": {
   "display_name": "Python 3",
   "language": "python",
   "name": "python3"
  },
  "language_info": {
   "codemirror_mode": {
    "name": "ipython",
    "version": 3
   },
   "file_extension": ".py",
   "mimetype": "text/x-python",
   "name": "python",
   "nbconvert_exporter": "python",
   "pygments_lexer": "ipython3",
   "version": "3.6.10"
  }
 },
 "nbformat": 4,
 "nbformat_minor": 4
}
