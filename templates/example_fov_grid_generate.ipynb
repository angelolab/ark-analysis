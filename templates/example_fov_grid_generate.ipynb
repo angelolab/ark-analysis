{
 "cells": [
  {
   "cell_type": "code",
   "execution_count": 1,
   "metadata": {},
   "outputs": [],
   "source": [
    "import json\n",
    "import os\n",
    "\n",
    "from ark.mibi import tiling_utils"
   ]
  },
  {
   "cell_type": "markdown",
   "metadata": {},
   "source": [
    "### Define paths to the JSON data"
   ]
  },
  {
   "cell_type": "code",
   "execution_count": 2,
   "metadata": {},
   "outputs": [],
   "source": [
    "base_dir = \"../data/example_dataset\"\n",
    "json_tiling_dir = os.path.join(base_dir, \"json_tiling_data\")\n",
    "fov_list_path = os.path.join(json_tiling_dir, 'fov_list_single_fov.json')\n",
    "moly_path = os.path.join(json_tiling_dir, 'moly_point.json')\n",
    "tiled_output_path = os.path.join(json_tiling_dir, 'tiled_output.json')"
   ]
  },
  {
   "cell_type": "markdown",
   "metadata": {},
   "source": [
    "### Set tiling parameters"
   ]
  },
  {
   "cell_type": "code",
   "execution_count": 3,
   "metadata": {},
   "outputs": [
    {
     "name": "stdin",
     "output_type": "stream",
     "text": [
      "Enter number of x fovs for region TheFirstFOV:  5\n",
      "Enter number of y fovs for region TheFirstFOV:  5\n",
      "Enter the x step size for region TheFirstFOV:  2\n",
      "Enter the y step size for region TheFirstFOV:  2\n",
      "Enter number of x fovs for region TheSecondFOV:  3\n",
      "Enter number of y fovs for region TheSecondFOV:  3\n",
      "Enter the x step size for region TheSecondFOV:  2\n",
      "Enter the y step size for region TheSecondFOV:  2\n",
      "Randomize? Enter 0 for no and 1 for yes:  1\n",
      "Specify moly point tile interval? Enter 0 for no and 1 for yes:  1\n",
      "Enter the fov interval size to insert moly points:  2\n"
     ]
    }
   ],
   "source": [
    "# list of parameters:\n",
    "# starting x coordinate and y coordinate for each fov (taken from fov_list_file)\n",
    "# number of fovs along the x- and y-axis for each fov (set by user)\n",
    "# x- and y-axis step size (set by user)\n",
    "# randomize the order of the fovs or not (set by user)\n",
    "tiling_params = tiling_utils.set_tiling_params(fov_list_path)"
   ]
  },
  {
   "cell_type": "markdown",
   "metadata": {},
   "source": [
    "### Create the FOV tiles for each region"
   ]
  },
  {
   "cell_type": "code",
   "execution_count": 4,
   "metadata": {},
   "outputs": [],
   "source": [
    "tiled_regions = tiling_utils.create_tiled_regions(tiling_params, moly_path)"
   ]
  },
  {
   "cell_type": "code",
   "execution_count": 5,
   "metadata": {},
   "outputs": [],
   "source": [
    "# write the tiled output\n",
    "with open(tiled_output_path, 'w') as top:\n",
    "    json.dump(tiled_regions, top)"
   ]
  }
 ],
 "metadata": {
  "kernelspec": {
   "display_name": "Python 3",
   "language": "python",
   "name": "python3"
  },
  "language_info": {
   "codemirror_mode": {
    "name": "ipython",
    "version": 3
   },
   "file_extension": ".py",
   "mimetype": "text/x-python",
   "name": "python",
   "nbconvert_exporter": "python",
   "pygments_lexer": "ipython3",
   "version": "3.6.10"
  }
 },
 "nbformat": 4,
 "nbformat_minor": 4
}
