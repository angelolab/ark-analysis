{
 "cells": [
  {
   "cell_type": "code",
   "execution_count": 7,
   "metadata": {
    "pycharm": {
     "is_executing": true
    },
    "scrolled": true
   },
   "outputs": [],
   "source": [
    "#Imports\n",
    "\n",
    "import pandas as pd\n",
    "import numpy as np\n",
    "from sklearn.preprocessing import StandardScaler\n",
    "from sklearn.decomposition import PCA\n",
    "from sklearn.manifold import TSNE\n",
    "import matplotlib.pyplot as plt\n",
    "import seaborn as sns\n",
    "import umap\n",
    "import os\n",
    "\n",
    "from ark.analysis import visualize, dimensionality_reduction"
   ]
  },
  {
   "cell_type": "markdown",
   "metadata": {
    "pycharm": {
     "name": "#%% md\n"
    }
   },
   "source": [
    "## Load Data from a CSV"
   ]
  },
  {
   "cell_type": "code",
   "execution_count": 9,
   "metadata": {
    "pycharm": {
     "is_executing": true
    }
   },
   "outputs": [],
   "source": [
    "# Setup filepaths\n",
    "\n",
    "base_dir = \"../data/example_dataset/\"\n",
    "data_dir = os.path.join(base_dir,\"spatial_enrichment_input_data/select_cell_data.csv\")"
   ]
  },
  {
   "cell_type": "code",
   "execution_count": 11,
   "metadata": {
    "pycharm": {
     "is_executing": true
    }
   },
   "outputs": [
    {
     "data": {
      "text/html": [
       "<div>\n",
       "<style scoped>\n",
       "    .dataframe tbody tr th:only-of-type {\n",
       "        vertical-align: middle;\n",
       "    }\n",
       "\n",
       "    .dataframe tbody tr th {\n",
       "        vertical-align: top;\n",
       "    }\n",
       "\n",
       "    .dataframe thead th {\n",
       "        text-align: right;\n",
       "    }\n",
       "</style>\n",
       "<table border=\"1\" class=\"dataframe\">\n",
       "  <thead>\n",
       "    <tr style=\"text-align: right;\">\n",
       "      <th></th>\n",
       "      <th>Unnamed: 0</th>\n",
       "      <th>SampleID</th>\n",
       "      <th>cellLabelInImage</th>\n",
       "      <th>cellSize</th>\n",
       "      <th>C</th>\n",
       "      <th>Na</th>\n",
       "      <th>Si</th>\n",
       "      <th>HH3</th>\n",
       "      <th>Vimentin</th>\n",
       "      <th>SMA</th>\n",
       "      <th>...</th>\n",
       "      <th>NaKATPase</th>\n",
       "      <th>HLA.Class.1</th>\n",
       "      <th>Ta</th>\n",
       "      <th>Au</th>\n",
       "      <th>Tissue</th>\n",
       "      <th>PatientID</th>\n",
       "      <th>lineage</th>\n",
       "      <th>cell_type</th>\n",
       "      <th>cell_lin</th>\n",
       "      <th>lintype_num</th>\n",
       "    </tr>\n",
       "  </thead>\n",
       "  <tbody>\n",
       "    <tr>\n",
       "      <th>0</th>\n",
       "      <td>33751</td>\n",
       "      <td>64</td>\n",
       "      <td>3</td>\n",
       "      <td>41</td>\n",
       "      <td>0.0</td>\n",
       "      <td>0.902025</td>\n",
       "      <td>0.448598</td>\n",
       "      <td>0.507697</td>\n",
       "      <td>0.631015</td>\n",
       "      <td>0.0</td>\n",
       "      <td>...</td>\n",
       "      <td>0.000000</td>\n",
       "      <td>0.580343</td>\n",
       "      <td>0.312942</td>\n",
       "      <td>0.443076</td>\n",
       "      <td>gran_lung</td>\n",
       "      <td>1.0</td>\n",
       "      <td>immune</td>\n",
       "      <td>imm_other</td>\n",
       "      <td>other</td>\n",
       "      <td>4</td>\n",
       "    </tr>\n",
       "    <tr>\n",
       "      <th>1</th>\n",
       "      <td>33752</td>\n",
       "      <td>64</td>\n",
       "      <td>4</td>\n",
       "      <td>184</td>\n",
       "      <td>0.0</td>\n",
       "      <td>0.886973</td>\n",
       "      <td>0.454619</td>\n",
       "      <td>0.438676</td>\n",
       "      <td>0.622629</td>\n",
       "      <td>0.0</td>\n",
       "      <td>...</td>\n",
       "      <td>0.340696</td>\n",
       "      <td>0.590069</td>\n",
       "      <td>0.318355</td>\n",
       "      <td>0.459903</td>\n",
       "      <td>gran_lung</td>\n",
       "      <td>1.0</td>\n",
       "      <td>immune</td>\n",
       "      <td>neutrophil</td>\n",
       "      <td>granulocyte</td>\n",
       "      <td>3</td>\n",
       "    </tr>\n",
       "    <tr>\n",
       "      <th>2</th>\n",
       "      <td>33753</td>\n",
       "      <td>64</td>\n",
       "      <td>8</td>\n",
       "      <td>155</td>\n",
       "      <td>0.0</td>\n",
       "      <td>0.917020</td>\n",
       "      <td>0.979366</td>\n",
       "      <td>0.602476</td>\n",
       "      <td>0.000000</td>\n",
       "      <td>0.0</td>\n",
       "      <td>...</td>\n",
       "      <td>0.034656</td>\n",
       "      <td>0.381503</td>\n",
       "      <td>0.222221</td>\n",
       "      <td>0.341840</td>\n",
       "      <td>gran_lung</td>\n",
       "      <td>1.0</td>\n",
       "      <td>endothelial</td>\n",
       "      <td>endothelial</td>\n",
       "      <td>nonimmune</td>\n",
       "      <td>5</td>\n",
       "    </tr>\n",
       "    <tr>\n",
       "      <th>3</th>\n",
       "      <td>33754</td>\n",
       "      <td>64</td>\n",
       "      <td>11</td>\n",
       "      <td>154</td>\n",
       "      <td>0.0</td>\n",
       "      <td>0.889487</td>\n",
       "      <td>0.698260</td>\n",
       "      <td>0.429029</td>\n",
       "      <td>0.000000</td>\n",
       "      <td>0.0</td>\n",
       "      <td>...</td>\n",
       "      <td>0.034879</td>\n",
       "      <td>0.413266</td>\n",
       "      <td>0.608899</td>\n",
       "      <td>0.678524</td>\n",
       "      <td>gran_lung</td>\n",
       "      <td>1.0</td>\n",
       "      <td>immune</td>\n",
       "      <td>imm_other</td>\n",
       "      <td>other</td>\n",
       "      <td>4</td>\n",
       "    </tr>\n",
       "    <tr>\n",
       "      <th>4</th>\n",
       "      <td>33755</td>\n",
       "      <td>64</td>\n",
       "      <td>12</td>\n",
       "      <td>155</td>\n",
       "      <td>0.0</td>\n",
       "      <td>0.931851</td>\n",
       "      <td>0.824671</td>\n",
       "      <td>0.342842</td>\n",
       "      <td>0.403899</td>\n",
       "      <td>0.0</td>\n",
       "      <td>...</td>\n",
       "      <td>0.266889</td>\n",
       "      <td>0.591914</td>\n",
       "      <td>0.801724</td>\n",
       "      <td>0.802122</td>\n",
       "      <td>gran_lung</td>\n",
       "      <td>1.0</td>\n",
       "      <td>immune</td>\n",
       "      <td>CD14_Mono</td>\n",
       "      <td>myeloid</td>\n",
       "      <td>1</td>\n",
       "    </tr>\n",
       "  </tbody>\n",
       "</table>\n",
       "<p>5 rows × 53 columns</p>\n",
       "</div>"
      ],
      "text/plain": [
       "   Unnamed: 0  SampleID  cellLabelInImage  cellSize    C        Na        Si  \\\n",
       "0       33751        64                 3        41  0.0  0.902025  0.448598   \n",
       "1       33752        64                 4       184  0.0  0.886973  0.454619   \n",
       "2       33753        64                 8       155  0.0  0.917020  0.979366   \n",
       "3       33754        64                11       154  0.0  0.889487  0.698260   \n",
       "4       33755        64                12       155  0.0  0.931851  0.824671   \n",
       "\n",
       "        HH3  Vimentin  SMA  ...  NaKATPase  HLA.Class.1        Ta        Au  \\\n",
       "0  0.507697  0.631015  0.0  ...   0.000000     0.580343  0.312942  0.443076   \n",
       "1  0.438676  0.622629  0.0  ...   0.340696     0.590069  0.318355  0.459903   \n",
       "2  0.602476  0.000000  0.0  ...   0.034656     0.381503  0.222221  0.341840   \n",
       "3  0.429029  0.000000  0.0  ...   0.034879     0.413266  0.608899  0.678524   \n",
       "4  0.342842  0.403899  0.0  ...   0.266889     0.591914  0.801724  0.802122   \n",
       "\n",
       "      Tissue  PatientID      lineage    cell_type     cell_lin  lintype_num  \n",
       "0  gran_lung        1.0       immune    imm_other        other            4  \n",
       "1  gran_lung        1.0       immune   neutrophil  granulocyte            3  \n",
       "2  gran_lung        1.0  endothelial  endothelial    nonimmune            5  \n",
       "3  gran_lung        1.0       immune    imm_other        other            4  \n",
       "4  gran_lung        1.0       immune    CD14_Mono      myeloid            1  \n",
       "\n",
       "[5 rows x 53 columns]"
      ]
     },
     "execution_count": 11,
     "metadata": {},
     "output_type": "execute_result"
    }
   ],
   "source": [
    "\n",
    "all_data = pd.read_csv(data_dir)\n",
    "all_data.head()"
   ]
  },
  {
   "cell_type": "markdown",
   "metadata": {
    "pycharm": {
     "name": "#%% md\n"
    }
   },
   "source": [
    "## Visualize Patient-Population Distribution Examples"
   ]
  },
  {
   "cell_type": "code",
   "execution_count": null,
   "metadata": {
    "pycharm": {
     "is_executing": true
    }
   },
   "outputs": [],
   "source": [
    "# Visualzing PatientID vs Cell Type, using default paramters so showing all graphs\n",
    "visualize.visualize_patient_population_distribution(all_data, \"PatientID\", \"cell_type\")"
   ]
  },
  {
   "cell_type": "code",
   "execution_count": null,
   "metadata": {
    "pycharm": {
     "is_executing": true
    }
   },
   "outputs": [],
   "source": [
    "#Visualize SampleID vs cell_type, ommiting total distribution since population same as previous function\n",
    "visualize.visualize_patient_population_distribution(all_data, \"SampleID\", \"cell_type\", show_total_count=False)"
   ]
  },
  {
   "cell_type": "code",
   "execution_count": null,
   "metadata": {
    "pycharm": {
     "is_executing": true,
     "name": "#%%\n"
    }
   },
   "outputs": [],
   "source": [
    "# Visualizing PatientID vs Cell Lineage, \n",
    "visualize.visualize_patient_population_distribution(all_data, \"PatientID\", \"cell_lin\")"
   ]
  },
  {
   "cell_type": "code",
   "execution_count": null,
   "metadata": {
    "pycharm": {
     "is_executing": true
    }
   },
   "outputs": [],
   "source": [
    "# Visualizing cell lineage vs cell type\n",
    "visualize.visualize_patient_population_distribution(all_data, \"cell_lin\", \"cell_type\", show_total_count=False)"
   ]
  },
  {
   "cell_type": "code",
   "execution_count": null,
   "metadata": {
    "pycharm": {
     "is_executing": true
    }
   },
   "outputs": [],
   "source": [
    "# Visualizing cell lineage vs cell type, saving it in the same directory\n",
    "visualize.visualize_patient_population_distribution(all_data, \"cell_lin\", \"cell_type\", show_total_count=False, save_dir = \"\")"
   ]
  },
  {
   "cell_type": "code",
   "execution_count": null,
   "metadata": {
    "pycharm": {
     "is_executing": true
    }
   },
   "outputs": [],
   "source": [
    "# PCA Projection of data, with all the Target categories, and PatientID as the label. Saves image into current directory.\n",
    "\n",
    "dimensionality_reduction.visualize_dimensionality_reduction(all_data,['C', 'Na', 'Si', 'HH3',\n",
    "       'Vimentin', 'SMA', 'Background', 'Collagen.1', 'Lag3', 'CD4', 'CD14',\n",
    "       'Foxp3', 'PD.1', 'CD31', 'PD.L1', 'E.cadherin', 'Ki67', 'CD209',\n",
    "       'CD206', 'gdTCR', 'iNOS', 'CD68', 'CD36', 'CD8', 'CD3', 'IDO', 'CD11c',\n",
    "       'CD163', 'CD20', 'CD16', 'IFNg', 'HLA.DR.DQ.DP', 'CD11b', 'CD45',\n",
    "       'H3K9Ac', 'Keratin.pan', 'CD103', 'MastChyTry', 'MPO', 'NaKATPase',\n",
    "       'HLA.Class.1', 'Ta', 'Au'], \"PatientID\",algorithm=\"PCA\", save_dir=\"\")"
   ]
  },
  {
   "cell_type": "code",
   "execution_count": null,
   "metadata": {
    "pycharm": {
     "is_executing": true
    }
   },
   "outputs": [],
   "source": [
    "# PCA Projection of data, with all the Target categories, and PatientID as the label.\n",
    "\n",
    "dimensionality_reduction.visualize_dimensionality_reduction(all_data,['C', 'Na', 'Si', 'HH3',\n",
    "       'Vimentin', 'SMA', 'Background', 'Collagen.1', 'Lag3', 'CD4', 'CD14',\n",
    "       'Foxp3', 'PD.1', 'CD31', 'PD.L1', 'E.cadherin', 'Ki67', 'CD209',\n",
    "       'CD206', 'gdTCR', 'iNOS', 'CD68', 'CD36', 'CD8', 'CD3', 'IDO', 'CD11c',\n",
    "       'CD163', 'CD20', 'CD16', 'IFNg', 'HLA.DR.DQ.DP', 'CD11b', 'CD45',\n",
    "       'H3K9Ac', 'Keratin.pan', 'CD103', 'MastChyTry', 'MPO', 'NaKATPase',\n",
    "       'HLA.Class.1', 'Ta', 'Au'], \"cell_type\",algorithm=\"PCA\")"
   ]
  },
  {
   "cell_type": "code",
   "execution_count": null,
   "metadata": {
    "pycharm": {
     "is_executing": true
    }
   },
   "outputs": [],
   "source": [
    "# tSNE Projection of data, with all the Target categories, and PatientID as the label. Saves image into current directory.\n",
    "\n",
    "dimensionality_reduction.visualize_dimensionality_reduction(all_data,['C', 'Na', 'Si', 'HH3',\n",
    "       'Vimentin', 'SMA', 'Background', 'Collagen.1', 'Lag3', 'CD4', 'CD14',\n",
    "       'Foxp3', 'PD.1', 'CD31', 'PD.L1', 'E.cadherin', 'Ki67', 'CD209',\n",
    "       'CD206', 'gdTCR', 'iNOS', 'CD68', 'CD36', 'CD8', 'CD3', 'IDO', 'CD11c',\n",
    "       'CD163', 'CD20', 'CD16', 'IFNg', 'HLA.DR.DQ.DP', 'CD11b', 'CD45',\n",
    "       'H3K9Ac', 'Keratin.pan', 'CD103', 'MastChyTry', 'MPO', 'NaKATPase',\n",
    "       'HLA.Class.1', 'Ta', 'Au'], \"PatientID\",algorithm=\"tSNE\", save_dir=\"\")"
   ]
  },
  {
   "cell_type": "code",
   "execution_count": null,
   "metadata": {
    "pycharm": {
     "is_executing": true
    }
   },
   "outputs": [],
   "source": [
    "# tSNE Projection of data, with all the Target categories, and Cell Type as the label.\n",
    "\n",
    "\n",
    "dimensionality_reduction.visualize_dimensionality_reduction(all_data,['C', 'Na', 'Si', 'HH3',\n",
    "       'Vimentin', 'SMA', 'Background', 'Collagen.1', 'Lag3', 'CD4', 'CD14',\n",
    "       'Foxp3', 'PD.1', 'CD31', 'PD.L1', 'E.cadherin', 'Ki67', 'CD209',\n",
    "       'CD206', 'gdTCR', 'iNOS', 'CD68', 'CD36', 'CD8', 'CD3', 'IDO', 'CD11c',\n",
    "       'CD163', 'CD20', 'CD16', 'IFNg', 'HLA.DR.DQ.DP', 'CD11b', 'CD45',\n",
    "       'H3K9Ac', 'Keratin.pan', 'CD103', 'MastChyTry', 'MPO', 'NaKATPase',\n",
    "       'HLA.Class.1', 'Ta', 'Au'], \"cell_type\",algorithm=\"tSNE\")"
   ]
  },
  {
   "cell_type": "code",
   "execution_count": null,
   "metadata": {
    "pycharm": {
     "is_executing": true
    }
   },
   "outputs": [],
   "source": [
    "# UMAP Projection of data, with all the Target categories, and PatientID as the label. Saves image into current directory.\n",
    "\n",
    "\n",
    "dimensionality_reduction.visualize_dimensionality_reduction(all_data,['C', 'Na', 'Si', 'HH3',\n",
    "       'Vimentin', 'SMA', 'Background', 'Collagen.1', 'Lag3', 'CD4', 'CD14',\n",
    "       'Foxp3', 'PD.1', 'CD31', 'PD.L1', 'E.cadherin', 'Ki67', 'CD209',\n",
    "       'CD206', 'gdTCR', 'iNOS', 'CD68', 'CD36', 'CD8', 'CD3', 'IDO', 'CD11c',\n",
    "       'CD163', 'CD20', 'CD16', 'IFNg', 'HLA.DR.DQ.DP', 'CD11b', 'CD45',\n",
    "       'H3K9Ac', 'Keratin.pan', 'CD103', 'MastChyTry', 'MPO', 'NaKATPase',\n",
    "       'HLA.Class.1', 'Ta', 'Au'], \"PatientID\",algorithm=\"UMAP\", save_dir=\"\")"
   ]
  },
  {
   "cell_type": "code",
   "execution_count": null,
   "metadata": {
    "pycharm": {
     "is_executing": true
    }
   },
   "outputs": [],
   "source": [
    "# tSNE Projection of data, with all the Target categories, and Cell Type as the label. \n",
    "\n",
    "dimensionality_reduction.visualize_dimensionality_reduction(all_data,['C', 'Na', 'Si', 'HH3',\n",
    "       'Vimentin', 'SMA', 'Background', 'Collagen.1', 'Lag3', 'CD4', 'CD14',\n",
    "       'Foxp3', 'PD.1', 'CD31', 'PD.L1', 'E.cadherin', 'Ki67', 'CD209',\n",
    "       'CD206', 'gdTCR', 'iNOS', 'CD68', 'CD36', 'CD8', 'CD3', 'IDO', 'CD11c',\n",
    "       'CD163', 'CD20', 'CD16', 'IFNg', 'HLA.DR.DQ.DP', 'CD11b', 'CD45',\n",
    "       'H3K9Ac', 'Keratin.pan', 'CD103', 'MastChyTry', 'MPO', 'NaKATPase',\n",
    "       'HLA.Class.1', 'Ta', 'Au'], \"cell_type\",algorithm=\"UMAP\", save_dir=\"\")"
   ]
  }
 ],
 "metadata": {
  "kernelspec": {
   "display_name": "Python 3",
   "language": "python",
   "name": "python3"
  },
  "language_info": {
   "codemirror_mode": {
    "name": "ipython",
    "version": 3
   },
   "file_extension": ".py",
   "mimetype": "text/x-python",
   "name": "python",
   "nbconvert_exporter": "python",
   "pygments_lexer": "ipython3",
   "version": "3.8.5"
  }
 },
 "nbformat": 4,
 "nbformat_minor": 2
}