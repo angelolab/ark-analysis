{
 "cells": [
  {
   "cell_type": "code",
   "execution_count": 1,
   "metadata": {
    "scrolled": true
   },
   "outputs": [
    {
     "name": "stderr",
     "output_type": "stream",
     "text": [
      "C:\\Users\\kevin\\AppData\\Local\\Continuum\\anaconda3\\lib\\site-packages\\numpy\\core\\__init__.py:29: UserWarning: loaded more than 1 DLL from .libs:\n",
      "C:\\Users\\kevin\\AppData\\Local\\Continuum\\anaconda3\\lib\\site-packages\\numpy\\.libs\\libopenblas.IPBC74C7KURV7CB2PKT5Z5FNR3SIBV4J.gfortran-win_amd64.dll\n",
      "C:\\Users\\kevin\\AppData\\Local\\Continuum\\anaconda3\\lib\\site-packages\\numpy\\.libs\\libopenblas.NOIJJG62EMASZI6NYURL6JBKM4EVBGM7.gfortran-win_amd64.dll\n",
      "  stacklevel=1)\n"
     ]
    }
   ],
   "source": [
    "#Imports\n",
    "\n",
    "import pandas as pd\n",
    "import os\n",
    "\n",
    "from ark.analysis import visualize, dimensionality_reduction"
   ]
  },
  {
   "cell_type": "markdown",
   "metadata": {
    "pycharm": {
     "name": "#%% md\n"
    }
   },
   "source": [
    "## Load Data from a CSV"
   ]
  },
  {
   "cell_type": "code",
   "execution_count": 2,
   "metadata": {},
   "outputs": [],
   "source": [
    "# Setup filepaths\n",
    "\n",
    "base_dir = \"../data/example_dataset/\"\n",
    "\n",
    "data_dir = os.path.join(base_dir,\"spatial_enrichment_input_data\")"
   ]
  },
  {
   "cell_type": "code",
   "execution_count": 3,
   "metadata": {},
   "outputs": [
    {
     "data": {
      "text/plain": "   Unnamed: 0  SampleID  cellLabelInImage  cellSize    C        Na        Si  \\\n0       33751        64                 3        41  0.0  0.902025  0.448598   \n1       33752        64                 4       184  0.0  0.886973  0.454619   \n2       33753        64                 8       155  0.0  0.917020  0.979366   \n3       33754        64                11       154  0.0  0.889487  0.698260   \n4       33755        64                12       155  0.0  0.931851  0.824671   \n\n        HH3  Vimentin  SMA  ...  NaKATPase  HLA.Class.1        Ta        Au  \\\n0  0.507697  0.631015  0.0  ...   0.000000     0.580343  0.312942  0.443076   \n1  0.438676  0.622629  0.0  ...   0.340696     0.590069  0.318355  0.459903   \n2  0.602476  0.000000  0.0  ...   0.034656     0.381503  0.222221  0.341840   \n3  0.429029  0.000000  0.0  ...   0.034879     0.413266  0.608899  0.678524   \n4  0.342842  0.403899  0.0  ...   0.266889     0.591914  0.801724  0.802122   \n\n      Tissue  PatientID      lineage    cell_type     cell_lin  lintype_num  \n0  gran_lung        1.0       immune    imm_other        other            4  \n1  gran_lung        1.0       immune   neutrophil  granulocyte            3  \n2  gran_lung        1.0  endothelial  endothelial    nonimmune            5  \n3  gran_lung        1.0       immune    imm_other        other            4  \n4  gran_lung        1.0       immune    CD14_Mono      myeloid            1  \n\n[5 rows x 53 columns]",
      "text/html": "<div>\n<style scoped>\n    .dataframe tbody tr th:only-of-type {\n        vertical-align: middle;\n    }\n\n    .dataframe tbody tr th {\n        vertical-align: top;\n    }\n\n    .dataframe thead th {\n        text-align: right;\n    }\n</style>\n<table border=\"1\" class=\"dataframe\">\n  <thead>\n    <tr style=\"text-align: right;\">\n      <th></th>\n      <th>Unnamed: 0</th>\n      <th>SampleID</th>\n      <th>cellLabelInImage</th>\n      <th>cellSize</th>\n      <th>C</th>\n      <th>Na</th>\n      <th>Si</th>\n      <th>HH3</th>\n      <th>Vimentin</th>\n      <th>SMA</th>\n      <th>...</th>\n      <th>NaKATPase</th>\n      <th>HLA.Class.1</th>\n      <th>Ta</th>\n      <th>Au</th>\n      <th>Tissue</th>\n      <th>PatientID</th>\n      <th>lineage</th>\n      <th>cell_type</th>\n      <th>cell_lin</th>\n      <th>lintype_num</th>\n    </tr>\n  </thead>\n  <tbody>\n    <tr>\n      <th>0</th>\n      <td>33751</td>\n      <td>64</td>\n      <td>3</td>\n      <td>41</td>\n      <td>0.0</td>\n      <td>0.902025</td>\n      <td>0.448598</td>\n      <td>0.507697</td>\n      <td>0.631015</td>\n      <td>0.0</td>\n      <td>...</td>\n      <td>0.000000</td>\n      <td>0.580343</td>\n      <td>0.312942</td>\n      <td>0.443076</td>\n      <td>gran_lung</td>\n      <td>1.0</td>\n      <td>immune</td>\n      <td>imm_other</td>\n      <td>other</td>\n      <td>4</td>\n    </tr>\n    <tr>\n      <th>1</th>\n      <td>33752</td>\n      <td>64</td>\n      <td>4</td>\n      <td>184</td>\n      <td>0.0</td>\n      <td>0.886973</td>\n      <td>0.454619</td>\n      <td>0.438676</td>\n      <td>0.622629</td>\n      <td>0.0</td>\n      <td>...</td>\n      <td>0.340696</td>\n      <td>0.590069</td>\n      <td>0.318355</td>\n      <td>0.459903</td>\n      <td>gran_lung</td>\n      <td>1.0</td>\n      <td>immune</td>\n      <td>neutrophil</td>\n      <td>granulocyte</td>\n      <td>3</td>\n    </tr>\n    <tr>\n      <th>2</th>\n      <td>33753</td>\n      <td>64</td>\n      <td>8</td>\n      <td>155</td>\n      <td>0.0</td>\n      <td>0.917020</td>\n      <td>0.979366</td>\n      <td>0.602476</td>\n      <td>0.000000</td>\n      <td>0.0</td>\n      <td>...</td>\n      <td>0.034656</td>\n      <td>0.381503</td>\n      <td>0.222221</td>\n      <td>0.341840</td>\n      <td>gran_lung</td>\n      <td>1.0</td>\n      <td>endothelial</td>\n      <td>endothelial</td>\n      <td>nonimmune</td>\n      <td>5</td>\n    </tr>\n    <tr>\n      <th>3</th>\n      <td>33754</td>\n      <td>64</td>\n      <td>11</td>\n      <td>154</td>\n      <td>0.0</td>\n      <td>0.889487</td>\n      <td>0.698260</td>\n      <td>0.429029</td>\n      <td>0.000000</td>\n      <td>0.0</td>\n      <td>...</td>\n      <td>0.034879</td>\n      <td>0.413266</td>\n      <td>0.608899</td>\n      <td>0.678524</td>\n      <td>gran_lung</td>\n      <td>1.0</td>\n      <td>immune</td>\n      <td>imm_other</td>\n      <td>other</td>\n      <td>4</td>\n    </tr>\n    <tr>\n      <th>4</th>\n      <td>33755</td>\n      <td>64</td>\n      <td>12</td>\n      <td>155</td>\n      <td>0.0</td>\n      <td>0.931851</td>\n      <td>0.824671</td>\n      <td>0.342842</td>\n      <td>0.403899</td>\n      <td>0.0</td>\n      <td>...</td>\n      <td>0.266889</td>\n      <td>0.591914</td>\n      <td>0.801724</td>\n      <td>0.802122</td>\n      <td>gran_lung</td>\n      <td>1.0</td>\n      <td>immune</td>\n      <td>CD14_Mono</td>\n      <td>myeloid</td>\n      <td>1</td>\n    </tr>\n  </tbody>\n</table>\n<p>5 rows × 53 columns</p>\n</div>"
     },
     "execution_count": 3,
     "metadata": {},
     "output_type": "execute_result"
    }
   ],
   "source": [
    "all_data = pd.read_csv(os.path.join(data_dir, \"select_cell_data.csv\"))\n",
    "targets = ['C', 'Na', 'Si', 'HH3',\n",
    "       'Vimentin', 'SMA', 'Background', 'Collagen.1', 'Lag3', 'CD4', 'CD14',\n",
    "       'Foxp3', 'PD.1', 'CD31', 'PD.L1', 'E.cadherin', 'Ki67', 'CD209',\n",
    "       'CD206', 'gdTCR', 'iNOS', 'CD68', 'CD36', 'CD8', 'CD3', 'IDO', 'CD11c',\n",
    "       'CD163', 'CD20', 'CD16', 'IFNg', 'HLA.DR.DQ.DP', 'CD11b', 'CD45',\n",
    "       'H3K9Ac', 'Keratin.pan', 'CD103', 'MastChyTry', 'MPO', 'NaKATPase',\n",
    "       'HLA.Class.1', 'Ta', 'Au']\n",
    "all_data.head()"
   ]
  },
  {
   "cell_type": "markdown",
   "metadata": {
    "pycharm": {
     "name": "#%% md\n"
    }
   },
   "source": [
    "## Visualize Patient-Population Distribution Examples"
   ]
  },
  {
   "cell_type": "code",
   "execution_count": 4,
   "metadata": {
    "pycharm": {
     "name": "#%%\n"
    }
   },
   "outputs": [
    {
     "ename": "FileNotFoundError",
     "evalue": "[Errno 2] No such file or directory: '../data/example_dataset/visualizations/TotalPopulationDistribution.png'",
     "output_type": "error",
     "traceback": [
      "\u001B[1;31m---------------------------------------------------------------------------\u001B[0m",
      "\u001B[1;31mFileNotFoundError\u001B[0m                         Traceback (most recent call last)",
      "\u001B[1;32m<ipython-input-4-1a318eec943d>\u001B[0m in \u001B[0;36m<module>\u001B[1;34m\u001B[0m\n\u001B[0;32m      1\u001B[0m \u001B[1;31m# Visualizing PatientID vs Cell Lineage,\u001B[0m\u001B[1;33m\u001B[0m\u001B[1;33m\u001B[0m\u001B[1;33m\u001B[0m\u001B[0m\n\u001B[1;32m----> 2\u001B[1;33m \u001B[0mvisualize\u001B[0m\u001B[1;33m.\u001B[0m\u001B[0mvisualize_patient_population_distribution\u001B[0m\u001B[1;33m(\u001B[0m\u001B[0mall_data\u001B[0m\u001B[1;33m,\u001B[0m \u001B[1;34m\"PatientID\"\u001B[0m\u001B[1;33m,\u001B[0m \u001B[1;34m\"cell_lin\"\u001B[0m\u001B[1;33m,\u001B[0m \u001B[0msave_dir\u001B[0m \u001B[1;33m=\u001B[0m \u001B[0mos\u001B[0m\u001B[1;33m.\u001B[0m\u001B[0mpath\u001B[0m\u001B[1;33m.\u001B[0m\u001B[0mjoin\u001B[0m\u001B[1;33m(\u001B[0m\u001B[0mbase_dir\u001B[0m\u001B[1;33m,\u001B[0m \u001B[1;34m\"visualizations/\"\u001B[0m\u001B[1;33m)\u001B[0m\u001B[1;33m)\u001B[0m\u001B[1;33m\u001B[0m\u001B[1;33m\u001B[0m\u001B[0m\n\u001B[0m\u001B[0;32m      3\u001B[0m \u001B[1;33m\u001B[0m\u001B[0m\n",
      "\u001B[1;32m~\\PycharmProjects\\ark-analysis\\ark\\analysis\\visualize.py\u001B[0m in \u001B[0;36mvisualize_patient_population_distribution\u001B[1;34m(cell_data, patient_col_name, population_col_name, color_map, show_total_count, show_distribution, show_proportion, save_dir)\u001B[0m\n\u001B[0;32m     97\u001B[0m         \u001B[0mplt\u001B[0m\u001B[1;33m.\u001B[0m\u001B[0mylabel\u001B[0m\u001B[1;33m(\u001B[0m\u001B[1;34m\"Population Count\"\u001B[0m\u001B[1;33m)\u001B[0m\u001B[1;33m\u001B[0m\u001B[1;33m\u001B[0m\u001B[0m\n\u001B[0;32m     98\u001B[0m         \u001B[1;32mif\u001B[0m \u001B[0msave_dir\u001B[0m \u001B[1;32mis\u001B[0m \u001B[1;32mnot\u001B[0m \u001B[1;32mNone\u001B[0m\u001B[1;33m:\u001B[0m\u001B[1;33m\u001B[0m\u001B[1;33m\u001B[0m\u001B[0m\n\u001B[1;32m---> 99\u001B[1;33m             \u001B[0mplt\u001B[0m\u001B[1;33m.\u001B[0m\u001B[0msavefig\u001B[0m\u001B[1;33m(\u001B[0m\u001B[0msave_dir\u001B[0m \u001B[1;33m+\u001B[0m \u001B[1;34m\"TotalPopulationDistribution.png\"\u001B[0m\u001B[1;33m)\u001B[0m\u001B[1;33m\u001B[0m\u001B[1;33m\u001B[0m\u001B[0m\n\u001B[0m\u001B[0;32m    100\u001B[0m \u001B[1;33m\u001B[0m\u001B[0m\n\u001B[0;32m    101\u001B[0m     \u001B[1;31m# Plot by count\u001B[0m\u001B[1;33m\u001B[0m\u001B[1;33m\u001B[0m\u001B[1;33m\u001B[0m\u001B[0m\n",
      "\u001B[1;32m~\\AppData\\Local\\Continuum\\anaconda3\\lib\\site-packages\\matplotlib\\pyplot.py\u001B[0m in \u001B[0;36msavefig\u001B[1;34m(*args, **kwargs)\u001B[0m\n\u001B[0;32m    708\u001B[0m \u001B[1;32mdef\u001B[0m \u001B[0msavefig\u001B[0m\u001B[1;33m(\u001B[0m\u001B[1;33m*\u001B[0m\u001B[0margs\u001B[0m\u001B[1;33m,\u001B[0m \u001B[1;33m**\u001B[0m\u001B[0mkwargs\u001B[0m\u001B[1;33m)\u001B[0m\u001B[1;33m:\u001B[0m\u001B[1;33m\u001B[0m\u001B[1;33m\u001B[0m\u001B[0m\n\u001B[0;32m    709\u001B[0m     \u001B[0mfig\u001B[0m \u001B[1;33m=\u001B[0m \u001B[0mgcf\u001B[0m\u001B[1;33m(\u001B[0m\u001B[1;33m)\u001B[0m\u001B[1;33m\u001B[0m\u001B[1;33m\u001B[0m\u001B[0m\n\u001B[1;32m--> 710\u001B[1;33m     \u001B[0mres\u001B[0m \u001B[1;33m=\u001B[0m \u001B[0mfig\u001B[0m\u001B[1;33m.\u001B[0m\u001B[0msavefig\u001B[0m\u001B[1;33m(\u001B[0m\u001B[1;33m*\u001B[0m\u001B[0margs\u001B[0m\u001B[1;33m,\u001B[0m \u001B[1;33m**\u001B[0m\u001B[0mkwargs\u001B[0m\u001B[1;33m)\u001B[0m\u001B[1;33m\u001B[0m\u001B[1;33m\u001B[0m\u001B[0m\n\u001B[0m\u001B[0;32m    711\u001B[0m     \u001B[0mfig\u001B[0m\u001B[1;33m.\u001B[0m\u001B[0mcanvas\u001B[0m\u001B[1;33m.\u001B[0m\u001B[0mdraw_idle\u001B[0m\u001B[1;33m(\u001B[0m\u001B[1;33m)\u001B[0m   \u001B[1;31m# need this if 'transparent=True' to reset colors\u001B[0m\u001B[1;33m\u001B[0m\u001B[1;33m\u001B[0m\u001B[0m\n\u001B[0;32m    712\u001B[0m     \u001B[1;32mreturn\u001B[0m \u001B[0mres\u001B[0m\u001B[1;33m\u001B[0m\u001B[1;33m\u001B[0m\u001B[0m\n",
      "\u001B[1;32m~\\AppData\\Local\\Continuum\\anaconda3\\lib\\site-packages\\matplotlib\\figure.py\u001B[0m in \u001B[0;36msavefig\u001B[1;34m(self, fname, **kwargs)\u001B[0m\n\u001B[0;32m   2033\u001B[0m             \u001B[0mself\u001B[0m\u001B[1;33m.\u001B[0m\u001B[0mset_frameon\u001B[0m\u001B[1;33m(\u001B[0m\u001B[0mframeon\u001B[0m\u001B[1;33m)\u001B[0m\u001B[1;33m\u001B[0m\u001B[1;33m\u001B[0m\u001B[0m\n\u001B[0;32m   2034\u001B[0m \u001B[1;33m\u001B[0m\u001B[0m\n\u001B[1;32m-> 2035\u001B[1;33m         \u001B[0mself\u001B[0m\u001B[1;33m.\u001B[0m\u001B[0mcanvas\u001B[0m\u001B[1;33m.\u001B[0m\u001B[0mprint_figure\u001B[0m\u001B[1;33m(\u001B[0m\u001B[0mfname\u001B[0m\u001B[1;33m,\u001B[0m \u001B[1;33m**\u001B[0m\u001B[0mkwargs\u001B[0m\u001B[1;33m)\u001B[0m\u001B[1;33m\u001B[0m\u001B[1;33m\u001B[0m\u001B[0m\n\u001B[0m\u001B[0;32m   2036\u001B[0m \u001B[1;33m\u001B[0m\u001B[0m\n\u001B[0;32m   2037\u001B[0m         \u001B[1;32mif\u001B[0m \u001B[0mframeon\u001B[0m\u001B[1;33m:\u001B[0m\u001B[1;33m\u001B[0m\u001B[1;33m\u001B[0m\u001B[0m\n",
      "\u001B[1;32m~\\AppData\\Local\\Continuum\\anaconda3\\lib\\site-packages\\matplotlib\\backend_bases.py\u001B[0m in \u001B[0;36mprint_figure\u001B[1;34m(self, filename, dpi, facecolor, edgecolor, orientation, format, **kwargs)\u001B[0m\n\u001B[0;32m   2261\u001B[0m                 \u001B[0morientation\u001B[0m\u001B[1;33m=\u001B[0m\u001B[0morientation\u001B[0m\u001B[1;33m,\u001B[0m\u001B[1;33m\u001B[0m\u001B[1;33m\u001B[0m\u001B[0m\n\u001B[0;32m   2262\u001B[0m                 \u001B[0mbbox_inches_restore\u001B[0m\u001B[1;33m=\u001B[0m\u001B[0m_bbox_inches_restore\u001B[0m\u001B[1;33m,\u001B[0m\u001B[1;33m\u001B[0m\u001B[1;33m\u001B[0m\u001B[0m\n\u001B[1;32m-> 2263\u001B[1;33m                 **kwargs)\n\u001B[0m\u001B[0;32m   2264\u001B[0m         \u001B[1;32mfinally\u001B[0m\u001B[1;33m:\u001B[0m\u001B[1;33m\u001B[0m\u001B[1;33m\u001B[0m\u001B[0m\n\u001B[0;32m   2265\u001B[0m             \u001B[1;32mif\u001B[0m \u001B[0mbbox_inches\u001B[0m \u001B[1;32mand\u001B[0m \u001B[0mrestore_bbox\u001B[0m\u001B[1;33m:\u001B[0m\u001B[1;33m\u001B[0m\u001B[1;33m\u001B[0m\u001B[0m\n",
      "\u001B[1;32m~\\AppData\\Local\\Continuum\\anaconda3\\lib\\site-packages\\matplotlib\\backends\\backend_agg.py\u001B[0m in \u001B[0;36mprint_png\u001B[1;34m(self, filename_or_obj, *args, **kwargs)\u001B[0m\n\u001B[0;32m    524\u001B[0m \u001B[1;33m\u001B[0m\u001B[0m\n\u001B[0;32m    525\u001B[0m         \u001B[1;32mtry\u001B[0m\u001B[1;33m:\u001B[0m\u001B[1;33m\u001B[0m\u001B[1;33m\u001B[0m\u001B[0m\n\u001B[1;32m--> 526\u001B[1;33m             \u001B[1;32mwith\u001B[0m \u001B[0mcbook\u001B[0m\u001B[1;33m.\u001B[0m\u001B[0mopen_file_cm\u001B[0m\u001B[1;33m(\u001B[0m\u001B[0mfilename_or_obj\u001B[0m\u001B[1;33m,\u001B[0m \u001B[1;34m\"wb\"\u001B[0m\u001B[1;33m)\u001B[0m \u001B[1;32mas\u001B[0m \u001B[0mfh\u001B[0m\u001B[1;33m:\u001B[0m\u001B[1;33m\u001B[0m\u001B[1;33m\u001B[0m\u001B[0m\n\u001B[0m\u001B[0;32m    527\u001B[0m                 _png.write_png(renderer._renderer, fh,\n\u001B[0;32m    528\u001B[0m                                self.figure.dpi, metadata=metadata)\n",
      "\u001B[1;32m~\\AppData\\Local\\Continuum\\anaconda3\\lib\\contextlib.py\u001B[0m in \u001B[0;36m__enter__\u001B[1;34m(self)\u001B[0m\n\u001B[0;32m    110\u001B[0m         \u001B[1;32mdel\u001B[0m \u001B[0mself\u001B[0m\u001B[1;33m.\u001B[0m\u001B[0margs\u001B[0m\u001B[1;33m,\u001B[0m \u001B[0mself\u001B[0m\u001B[1;33m.\u001B[0m\u001B[0mkwds\u001B[0m\u001B[1;33m,\u001B[0m \u001B[0mself\u001B[0m\u001B[1;33m.\u001B[0m\u001B[0mfunc\u001B[0m\u001B[1;33m\u001B[0m\u001B[1;33m\u001B[0m\u001B[0m\n\u001B[0;32m    111\u001B[0m         \u001B[1;32mtry\u001B[0m\u001B[1;33m:\u001B[0m\u001B[1;33m\u001B[0m\u001B[1;33m\u001B[0m\u001B[0m\n\u001B[1;32m--> 112\u001B[1;33m             \u001B[1;32mreturn\u001B[0m \u001B[0mnext\u001B[0m\u001B[1;33m(\u001B[0m\u001B[0mself\u001B[0m\u001B[1;33m.\u001B[0m\u001B[0mgen\u001B[0m\u001B[1;33m)\u001B[0m\u001B[1;33m\u001B[0m\u001B[1;33m\u001B[0m\u001B[0m\n\u001B[0m\u001B[0;32m    113\u001B[0m         \u001B[1;32mexcept\u001B[0m \u001B[0mStopIteration\u001B[0m\u001B[1;33m:\u001B[0m\u001B[1;33m\u001B[0m\u001B[1;33m\u001B[0m\u001B[0m\n\u001B[0;32m    114\u001B[0m             \u001B[1;32mraise\u001B[0m \u001B[0mRuntimeError\u001B[0m\u001B[1;33m(\u001B[0m\u001B[1;34m\"generator didn't yield\"\u001B[0m\u001B[1;33m)\u001B[0m \u001B[1;32mfrom\u001B[0m \u001B[1;32mNone\u001B[0m\u001B[1;33m\u001B[0m\u001B[1;33m\u001B[0m\u001B[0m\n",
      "\u001B[1;32m~\\AppData\\Local\\Continuum\\anaconda3\\lib\\site-packages\\matplotlib\\cbook\\__init__.py\u001B[0m in \u001B[0;36mopen_file_cm\u001B[1;34m(path_or_file, mode, encoding)\u001B[0m\n\u001B[0;32m    622\u001B[0m \u001B[1;32mdef\u001B[0m \u001B[0mopen_file_cm\u001B[0m\u001B[1;33m(\u001B[0m\u001B[0mpath_or_file\u001B[0m\u001B[1;33m,\u001B[0m \u001B[0mmode\u001B[0m\u001B[1;33m=\u001B[0m\u001B[1;34m\"r\"\u001B[0m\u001B[1;33m,\u001B[0m \u001B[0mencoding\u001B[0m\u001B[1;33m=\u001B[0m\u001B[1;32mNone\u001B[0m\u001B[1;33m)\u001B[0m\u001B[1;33m:\u001B[0m\u001B[1;33m\u001B[0m\u001B[1;33m\u001B[0m\u001B[0m\n\u001B[0;32m    623\u001B[0m     \u001B[1;34mr\"\"\"Pass through file objects and context-manage `.PathLike`\\s.\"\"\"\u001B[0m\u001B[1;33m\u001B[0m\u001B[1;33m\u001B[0m\u001B[0m\n\u001B[1;32m--> 624\u001B[1;33m     \u001B[0mfh\u001B[0m\u001B[1;33m,\u001B[0m \u001B[0mopened\u001B[0m \u001B[1;33m=\u001B[0m \u001B[0mto_filehandle\u001B[0m\u001B[1;33m(\u001B[0m\u001B[0mpath_or_file\u001B[0m\u001B[1;33m,\u001B[0m \u001B[0mmode\u001B[0m\u001B[1;33m,\u001B[0m \u001B[1;32mTrue\u001B[0m\u001B[1;33m,\u001B[0m \u001B[0mencoding\u001B[0m\u001B[1;33m)\u001B[0m\u001B[1;33m\u001B[0m\u001B[1;33m\u001B[0m\u001B[0m\n\u001B[0m\u001B[0;32m    625\u001B[0m     \u001B[1;32mif\u001B[0m \u001B[0mopened\u001B[0m\u001B[1;33m:\u001B[0m\u001B[1;33m\u001B[0m\u001B[1;33m\u001B[0m\u001B[0m\n\u001B[0;32m    626\u001B[0m         \u001B[1;32mwith\u001B[0m \u001B[0mfh\u001B[0m\u001B[1;33m:\u001B[0m\u001B[1;33m\u001B[0m\u001B[1;33m\u001B[0m\u001B[0m\n",
      "\u001B[1;32m~\\AppData\\Local\\Continuum\\anaconda3\\lib\\site-packages\\matplotlib\\cbook\\__init__.py\u001B[0m in \u001B[0;36mto_filehandle\u001B[1;34m(fname, flag, return_opened, encoding)\u001B[0m\n\u001B[0;32m    607\u001B[0m             \u001B[0mfh\u001B[0m \u001B[1;33m=\u001B[0m \u001B[0mbz2\u001B[0m\u001B[1;33m.\u001B[0m\u001B[0mBZ2File\u001B[0m\u001B[1;33m(\u001B[0m\u001B[0mfname\u001B[0m\u001B[1;33m,\u001B[0m \u001B[0mflag\u001B[0m\u001B[1;33m)\u001B[0m\u001B[1;33m\u001B[0m\u001B[1;33m\u001B[0m\u001B[0m\n\u001B[0;32m    608\u001B[0m         \u001B[1;32melse\u001B[0m\u001B[1;33m:\u001B[0m\u001B[1;33m\u001B[0m\u001B[1;33m\u001B[0m\u001B[0m\n\u001B[1;32m--> 609\u001B[1;33m             \u001B[0mfh\u001B[0m \u001B[1;33m=\u001B[0m \u001B[0mio\u001B[0m\u001B[1;33m.\u001B[0m\u001B[0mopen\u001B[0m\u001B[1;33m(\u001B[0m\u001B[0mfname\u001B[0m\u001B[1;33m,\u001B[0m \u001B[0mflag\u001B[0m\u001B[1;33m,\u001B[0m \u001B[0mencoding\u001B[0m\u001B[1;33m=\u001B[0m\u001B[0mencoding\u001B[0m\u001B[1;33m)\u001B[0m\u001B[1;33m\u001B[0m\u001B[1;33m\u001B[0m\u001B[0m\n\u001B[0m\u001B[0;32m    610\u001B[0m         \u001B[0mopened\u001B[0m \u001B[1;33m=\u001B[0m \u001B[1;32mTrue\u001B[0m\u001B[1;33m\u001B[0m\u001B[1;33m\u001B[0m\u001B[0m\n\u001B[0;32m    611\u001B[0m     \u001B[1;32melif\u001B[0m \u001B[0mhasattr\u001B[0m\u001B[1;33m(\u001B[0m\u001B[0mfname\u001B[0m\u001B[1;33m,\u001B[0m \u001B[1;34m'seek'\u001B[0m\u001B[1;33m)\u001B[0m\u001B[1;33m:\u001B[0m\u001B[1;33m\u001B[0m\u001B[1;33m\u001B[0m\u001B[0m\n",
      "\u001B[1;31mFileNotFoundError\u001B[0m: [Errno 2] No such file or directory: '../data/example_dataset/visualizations/TotalPopulationDistribution.png'"
     ]
    },
    {
     "data": {
      "text/plain": "<Figure size 432x288 with 1 Axes>",
      "image/png": "[encoded data removed]"
     },
     "metadata": {
      "needs_background": "light"
     },
     "output_type": "display_data"
    }
   ],
   "source": [
    "# Visualizing PatientID vs Cell Lineage, \n",
    "visualize.visualize_patient_population_distribution(all_data, \"PatientID\", \"cell_lin\", save_dir = os.path.join(base_dir, \"visualizations/\"))"
   ]
  },
  {
   "cell_type": "markdown",
   "metadata": {
    "pycharm": {
     "name": "#%% md\n"
    }
   },
   "source": [
    "## Dimensionality Reduction Examples"
   ]
  },
  {
   "cell_type": "code",
   "execution_count": null,
   "metadata": {},
   "outputs": [],
   "source": [
    "# tSNE Projection of data, with all the Target categories, and Cell Lineage as the label. Saves image into visualizations folder.\n",
    "\n",
    "dimensionality_reduction.visualize_dimensionality_reduction(all_data, targets, \"cell_lin\",algorithm=\"tSNE\", save_dir=os.path.join(base_dir, \"visualizations/\"))"
   ]
  },
  {
   "cell_type": "code",
   "execution_count": null,
   "metadata": {
    "pycharm": {
     "name": "#%%\n"
    }
   },
   "outputs": [],
   "source": [
    "# UMAP Projection of data, with all the Target categories, and Cell Lineage as the label. Saves image into visualizations folder.\n",
    "\n",
    "\n",
    "dimensionality_reduction.visualize_dimensionality_reduction(all_data, targets, \"cell_lin\", algorithm=\"UMAP\", save_dir=os.path.join(base_dir, \"visualizations/\"))"
   ]
  }
 ],
 "metadata": {
  "kernelspec": {
   "display_name": "Python 3",
   "language": "python",
   "name": "python3"
  },
  "language_info": {
   "codemirror_mode": {
    "name": "ipython",
    "version": 3
   },
   "file_extension": ".py",
   "mimetype": "text/x-python",
   "name": "python",
   "nbconvert_exporter": "python",
   "pygments_lexer": "ipython3",
   "version": "3.7.3"
  }
 },
 "nbformat": 4,
 "nbformat_minor": 2
}