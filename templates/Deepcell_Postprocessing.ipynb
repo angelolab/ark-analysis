{
 "cells": [
  {
   "cell_type": "markdown",
   "metadata": {},
   "source": [
    "## This notebook takes the output of deepcell, processes it, segments cells, and outputs the extracted channel information"
   ]
  },
  {
   "cell_type": "code",
   "execution_count": 1,
   "metadata": {},
   "outputs": [
    {
     "ename": "ImportError",
     "evalue": "dlopen(/Users/williamxu/.conda/envs/ark-analysis/lib/python3.8/site-packages/skimage/feature/_cascade.cpython-38-darwin.so, 2): Library not loaded: @rpath/libomp.dylib\n  Referenced from: /Users/williamxu/.conda/envs/ark-analysis/lib/python3.8/site-packages/skimage/feature/_cascade.cpython-38-darwin.so\n  Reason: image not found",
     "output_type": "error",
     "traceback": [
      "\u001B[0;31m---------------------------------------------------------------------------\u001B[0m",
      "\u001B[0;31mImportError\u001B[0m                               Traceback (most recent call last)",
      "\u001B[0;32m<ipython-input-1-384440a446ef>\u001B[0m in \u001B[0;36m<module>\u001B[0;34m\u001B[0m\n\u001B[1;32m      5\u001B[0m \u001B[0;32mimport\u001B[0m \u001B[0mnumpy\u001B[0m \u001B[0;32mas\u001B[0m \u001B[0mnp\u001B[0m\u001B[0;34m\u001B[0m\u001B[0;34m\u001B[0m\u001B[0m\n\u001B[1;32m      6\u001B[0m \u001B[0;34m\u001B[0m\u001B[0m\n\u001B[0;32m----> 7\u001B[0;31m \u001B[0;32mfrom\u001B[0m \u001B[0mark\u001B[0m\u001B[0;34m.\u001B[0m\u001B[0mutils\u001B[0m \u001B[0;32mimport\u001B[0m \u001B[0mdata_utils\u001B[0m\u001B[0;34m,\u001B[0m \u001B[0msegmentation_utils\u001B[0m\u001B[0;34m,\u001B[0m \u001B[0mio_utils\u001B[0m\u001B[0;34m,\u001B[0m \u001B[0mtest_utils\u001B[0m\u001B[0;34m\u001B[0m\u001B[0;34m\u001B[0m\u001B[0m\n\u001B[0m\u001B[1;32m      8\u001B[0m \u001B[0;32mfrom\u001B[0m \u001B[0mark\u001B[0m\u001B[0;34m.\u001B[0m\u001B[0msegmentation\u001B[0m \u001B[0;32mimport\u001B[0m \u001B[0mmarker_quantification\u001B[0m\u001B[0;34m\u001B[0m\u001B[0;34m\u001B[0m\u001B[0m\n\u001B[1;32m      9\u001B[0m \u001B[0;34m\u001B[0m\u001B[0m\n",
      "\u001B[0;32m~/PycharmProjects/ark-analysis/ark/utils/segmentation_utils.py\u001B[0m in \u001B[0;36m<module>\u001B[0;34m\u001B[0m\n\u001B[1;32m      7\u001B[0m \u001B[0;32mfrom\u001B[0m \u001B[0mskimage\u001B[0m\u001B[0;34m.\u001B[0m\u001B[0mmeasure\u001B[0m \u001B[0;32mimport\u001B[0m \u001B[0mregionprops_table\u001B[0m\u001B[0;34m\u001B[0m\u001B[0;34m\u001B[0m\u001B[0m\n\u001B[1;32m      8\u001B[0m \u001B[0;34m\u001B[0m\u001B[0m\n\u001B[0;32m----> 9\u001B[0;31m \u001B[0;32mfrom\u001B[0m \u001B[0mark\u001B[0m\u001B[0;34m.\u001B[0m\u001B[0mutils\u001B[0m \u001B[0;32mimport\u001B[0m \u001B[0mplot_utils\u001B[0m\u001B[0;34m,\u001B[0m \u001B[0mio_utils\u001B[0m\u001B[0;34m\u001B[0m\u001B[0;34m\u001B[0m\u001B[0m\n\u001B[0m\u001B[1;32m     10\u001B[0m \u001B[0;34m\u001B[0m\u001B[0m\n\u001B[1;32m     11\u001B[0m \u001B[0;34m\u001B[0m\u001B[0m\n",
      "\u001B[0;32m~/PycharmProjects/ark-analysis/ark/utils/plot_utils.py\u001B[0m in \u001B[0;36m<module>\u001B[0;34m\u001B[0m\n\u001B[1;32m      8\u001B[0m \u001B[0;32mimport\u001B[0m \u001B[0mmatplotlib\u001B[0m\u001B[0;34m.\u001B[0m\u001B[0mpyplot\u001B[0m \u001B[0;32mas\u001B[0m \u001B[0mplt\u001B[0m\u001B[0;34m\u001B[0m\u001B[0;34m\u001B[0m\u001B[0m\n\u001B[1;32m      9\u001B[0m \u001B[0;34m\u001B[0m\u001B[0m\n\u001B[0;32m---> 10\u001B[0;31m \u001B[0;32mfrom\u001B[0m \u001B[0mskimage\u001B[0m\u001B[0;34m.\u001B[0m\u001B[0msegmentation\u001B[0m \u001B[0;32mimport\u001B[0m \u001B[0mfind_boundaries\u001B[0m\u001B[0;34m\u001B[0m\u001B[0;34m\u001B[0m\u001B[0m\n\u001B[0m\u001B[1;32m     11\u001B[0m \u001B[0;32mfrom\u001B[0m \u001B[0mskimage\u001B[0m\u001B[0;34m.\u001B[0m\u001B[0mexposure\u001B[0m \u001B[0;32mimport\u001B[0m \u001B[0mrescale_intensity\u001B[0m\u001B[0;34m\u001B[0m\u001B[0;34m\u001B[0m\u001B[0m\n\u001B[1;32m     12\u001B[0m \u001B[0;34m\u001B[0m\u001B[0m\n",
      "\u001B[0;32m~/.conda/envs/ark-analysis/lib/python3.8/site-packages/skimage/segmentation/__init__.py\u001B[0m in \u001B[0;36m<module>\u001B[0;34m\u001B[0m\n\u001B[1;32m      1\u001B[0m \u001B[0;32mfrom\u001B[0m \u001B[0;34m.\u001B[0m\u001B[0mrandom_walker_segmentation\u001B[0m \u001B[0;32mimport\u001B[0m \u001B[0mrandom_walker\u001B[0m\u001B[0;34m\u001B[0m\u001B[0;34m\u001B[0m\u001B[0m\n\u001B[0;32m----> 2\u001B[0;31m \u001B[0;32mfrom\u001B[0m \u001B[0;34m.\u001B[0m\u001B[0mactive_contour_model\u001B[0m \u001B[0;32mimport\u001B[0m \u001B[0mactive_contour\u001B[0m\u001B[0;34m\u001B[0m\u001B[0;34m\u001B[0m\u001B[0m\n\u001B[0m\u001B[1;32m      3\u001B[0m \u001B[0;32mfrom\u001B[0m \u001B[0;34m.\u001B[0m\u001B[0m_felzenszwalb\u001B[0m \u001B[0;32mimport\u001B[0m \u001B[0mfelzenszwalb\u001B[0m\u001B[0;34m\u001B[0m\u001B[0;34m\u001B[0m\u001B[0m\n\u001B[1;32m      4\u001B[0m \u001B[0;32mfrom\u001B[0m \u001B[0;34m.\u001B[0m\u001B[0mslic_superpixels\u001B[0m \u001B[0;32mimport\u001B[0m \u001B[0mslic\u001B[0m\u001B[0;34m\u001B[0m\u001B[0;34m\u001B[0m\u001B[0m\n\u001B[1;32m      5\u001B[0m \u001B[0;32mfrom\u001B[0m \u001B[0;34m.\u001B[0m\u001B[0m_quickshift\u001B[0m \u001B[0;32mimport\u001B[0m \u001B[0mquickshift\u001B[0m\u001B[0;34m\u001B[0m\u001B[0;34m\u001B[0m\u001B[0m\n",
      "\u001B[0;32m~/.conda/envs/ark-analysis/lib/python3.8/site-packages/skimage/segmentation/active_contour_model.py\u001B[0m in \u001B[0;36m<module>\u001B[0;34m\u001B[0m\n\u001B[1;32m      3\u001B[0m \u001B[0;32mfrom\u001B[0m \u001B[0mscipy\u001B[0m\u001B[0;34m.\u001B[0m\u001B[0minterpolate\u001B[0m \u001B[0;32mimport\u001B[0m \u001B[0mRectBivariateSpline\u001B[0m\u001B[0;34m\u001B[0m\u001B[0;34m\u001B[0m\u001B[0m\n\u001B[1;32m      4\u001B[0m \u001B[0;32mfrom\u001B[0m \u001B[0;34m.\u001B[0m\u001B[0;34m.\u001B[0m\u001B[0mutil\u001B[0m \u001B[0;32mimport\u001B[0m \u001B[0mimg_as_float\u001B[0m\u001B[0;34m\u001B[0m\u001B[0;34m\u001B[0m\u001B[0m\n\u001B[0;32m----> 5\u001B[0;31m \u001B[0;32mfrom\u001B[0m \u001B[0;34m.\u001B[0m\u001B[0;34m.\u001B[0m\u001B[0mfilters\u001B[0m \u001B[0;32mimport\u001B[0m \u001B[0msobel\u001B[0m\u001B[0;34m\u001B[0m\u001B[0;34m\u001B[0m\u001B[0m\n\u001B[0m\u001B[1;32m      6\u001B[0m \u001B[0;34m\u001B[0m\u001B[0m\n\u001B[1;32m      7\u001B[0m \u001B[0;34m\u001B[0m\u001B[0m\n",
      "\u001B[0;32m~/.conda/envs/ark-analysis/lib/python3.8/site-packages/skimage/filters/__init__.py\u001B[0m in \u001B[0;36m<module>\u001B[0;34m\u001B[0m\n\u001B[1;32m     16\u001B[0m                            \u001B[0mthreshold_multiotsu\u001B[0m\u001B[0;34m,\u001B[0m \u001B[0mtry_all_threshold\u001B[0m\u001B[0;34m,\u001B[0m\u001B[0;34m\u001B[0m\u001B[0;34m\u001B[0m\u001B[0m\n\u001B[1;32m     17\u001B[0m                            apply_hysteresis_threshold)\n\u001B[0;32m---> 18\u001B[0;31m \u001B[0;32mfrom\u001B[0m \u001B[0;34m.\u001B[0m\u001B[0mridges\u001B[0m \u001B[0;32mimport\u001B[0m \u001B[0;34m(\u001B[0m\u001B[0mmeijering\u001B[0m\u001B[0;34m,\u001B[0m \u001B[0msato\u001B[0m\u001B[0;34m,\u001B[0m \u001B[0mfrangi\u001B[0m\u001B[0;34m,\u001B[0m \u001B[0mhessian\u001B[0m\u001B[0;34m)\u001B[0m\u001B[0;34m\u001B[0m\u001B[0;34m\u001B[0m\u001B[0m\n\u001B[0m\u001B[1;32m     19\u001B[0m \u001B[0;32mfrom\u001B[0m \u001B[0;34m.\u001B[0m \u001B[0;32mimport\u001B[0m \u001B[0mrank\u001B[0m\u001B[0;34m\u001B[0m\u001B[0;34m\u001B[0m\u001B[0m\n\u001B[1;32m     20\u001B[0m \u001B[0;32mfrom\u001B[0m \u001B[0;34m.\u001B[0m\u001B[0m_median\u001B[0m \u001B[0;32mimport\u001B[0m \u001B[0mmedian\u001B[0m\u001B[0;34m\u001B[0m\u001B[0;34m\u001B[0m\u001B[0m\n",
      "\u001B[0;32m~/.conda/envs/ark-analysis/lib/python3.8/site-packages/skimage/filters/ridges.py\u001B[0m in \u001B[0;36m<module>\u001B[0;34m\u001B[0m\n\u001B[1;32m     16\u001B[0m \u001B[0;32mfrom\u001B[0m \u001B[0;34m.\u001B[0m\u001B[0;34m.\u001B[0m\u001B[0mutil\u001B[0m \u001B[0;32mimport\u001B[0m \u001B[0mimg_as_float\u001B[0m\u001B[0;34m,\u001B[0m \u001B[0minvert\u001B[0m\u001B[0;34m\u001B[0m\u001B[0;34m\u001B[0m\u001B[0m\n\u001B[1;32m     17\u001B[0m \u001B[0;32mfrom\u001B[0m \u001B[0;34m.\u001B[0m\u001B[0;34m.\u001B[0m\u001B[0m_shared\u001B[0m\u001B[0;34m.\u001B[0m\u001B[0mutils\u001B[0m \u001B[0;32mimport\u001B[0m \u001B[0mcheck_nD\u001B[0m\u001B[0;34m\u001B[0m\u001B[0;34m\u001B[0m\u001B[0m\n\u001B[0;32m---> 18\u001B[0;31m \u001B[0;32mfrom\u001B[0m \u001B[0;34m.\u001B[0m\u001B[0;34m.\u001B[0m\u001B[0mfeature\u001B[0m\u001B[0;34m.\u001B[0m\u001B[0mcorner\u001B[0m \u001B[0;32mimport\u001B[0m \u001B[0mhessian_matrix\u001B[0m\u001B[0;34m,\u001B[0m \u001B[0mhessian_matrix_eigvals\u001B[0m\u001B[0;34m\u001B[0m\u001B[0;34m\u001B[0m\u001B[0m\n\u001B[0m\u001B[1;32m     19\u001B[0m \u001B[0;34m\u001B[0m\u001B[0m\n\u001B[1;32m     20\u001B[0m \u001B[0;34m\u001B[0m\u001B[0m\n",
      "\u001B[0;32m~/.conda/envs/ark-analysis/lib/python3.8/site-packages/skimage/feature/__init__.py\u001B[0m in \u001B[0;36m<module>\u001B[0;34m\u001B[0m\n\u001B[1;32m      2\u001B[0m \u001B[0;34m\u001B[0m\u001B[0m\n\u001B[1;32m      3\u001B[0m \u001B[0;32mfrom\u001B[0m \u001B[0;34m.\u001B[0m\u001B[0m_canny\u001B[0m \u001B[0;32mimport\u001B[0m \u001B[0mcanny\u001B[0m\u001B[0;34m\u001B[0m\u001B[0;34m\u001B[0m\u001B[0m\n\u001B[0;32m----> 4\u001B[0;31m \u001B[0;32mfrom\u001B[0m \u001B[0;34m.\u001B[0m\u001B[0m_cascade\u001B[0m \u001B[0;32mimport\u001B[0m \u001B[0mCascade\u001B[0m\u001B[0;34m\u001B[0m\u001B[0;34m\u001B[0m\u001B[0m\n\u001B[0m\u001B[1;32m      5\u001B[0m \u001B[0;32mfrom\u001B[0m \u001B[0;34m.\u001B[0m\u001B[0m_daisy\u001B[0m \u001B[0;32mimport\u001B[0m \u001B[0mdaisy\u001B[0m\u001B[0;34m\u001B[0m\u001B[0;34m\u001B[0m\u001B[0m\n\u001B[1;32m      6\u001B[0m \u001B[0;32mfrom\u001B[0m \u001B[0;34m.\u001B[0m\u001B[0m_hog\u001B[0m \u001B[0;32mimport\u001B[0m \u001B[0mhog\u001B[0m\u001B[0;34m\u001B[0m\u001B[0;34m\u001B[0m\u001B[0m\n",
      "\u001B[0;31mImportError\u001B[0m: dlopen(/Users/williamxu/.conda/envs/ark-analysis/lib/python3.8/site-packages/skimage/feature/_cascade.cpython-38-darwin.so, 2): Library not loaded: @rpath/libomp.dylib\n  Referenced from: /Users/williamxu/.conda/envs/ark-analysis/lib/python3.8/site-packages/skimage/feature/_cascade.cpython-38-darwin.so\n  Reason: image not found"
     ]
    }
   ],
   "source": [
    "import os\n",
    "\n",
    "import matplotlib.pyplot as plt\n",
    "import skimage.io as io\n",
    "import numpy as np\n",
    "\n",
    "from ark.utils import data_utils, segmentation_utils, io_utils, test_utils\n",
    "from ark.segmentation import marker_quantification"
   ]
  },
  {
   "cell_type": "code",
   "execution_count": null,
   "metadata": {
    "tags": []
   },
   "outputs": [],
   "source": [
    "# set up file paths\n",
    "base_dir = \"../data/example_dataset\"\n",
    "input_dir = os.path.join(base_dir, \"input_data\")\n",
    "deepcell_input_dir = os.path.join(input_dir, 'deepcell_input')\n",
    "tiff_dir = os.path.join(input_dir, 'single_channel_inputs')\n",
    "label_dir = os.path.join(base_dir, 'deepcell_output')"
   ]
  },
  {
   "cell_type": "code",
   "execution_count": null,
   "metadata": {},
   "outputs": [],
   "source": [
    "# set to true if base images are MIBItiffs\n",
    "MIBItiff = False\n",
    "\n",
    "# points to look at (None for all)\n",
    "points = None"
   ]
  },
  {
   "cell_type": "code",
   "execution_count": null,
   "metadata": {},
   "outputs": [],
   "source": [
    "# validate file paths (add extra paths to this list)\n",
    "io_utils.validate_paths([\n",
    "    base_dir,\n",
    "    input_dir,\n",
    "    deepcell_input_dir,\n",
    "    tiff_dir,\n",
    "    label_dir,\n",
    "])"
   ]
  },
  {
   "cell_type": "markdown",
   "metadata": {},
   "source": [
    "### We compute the paths for the deepcell input TIFFs"
   ]
  },
  {
   "cell_type": "code",
   "execution_count": null,
   "metadata": {},
   "outputs": [],
   "source": [
    "if points is None or points == []:\n",
    "    points_input = io_utils.list_files(deepcell_input_dir, substrs=['tif'])\n",
    "else:\n",
    "    points_input = io_utils.list_files(deepcell_input_dir, substrs=points)"
   ]
  },
  {
   "cell_type": "markdown",
   "metadata": {},
   "source": [
    "### We can then load the segmented mask from deepcell via label-map TIFFs and save as an xarray"
   ]
  },
  {
   "cell_type": "code",
   "execution_count": null,
   "metadata": {},
   "outputs": [],
   "source": [
    "segmentation_labels = data_utils.load_imgs_from_dir(data_dir=label_dir,\n",
    "                                                    imgdim_name='compartments',\n",
    "                                                    image_name='whole_cell',\n",
    "                                                    delimiter='_feature_0',\n",
    "                                                    force_ints=True)\n",
    "\n",
    "save_name = os.path.join(label_dir, 'segmentation_labels.xr')\n",
    "if os.path.exists(save_name):\n",
    "    print(\"overwriting previously generated processed output file\")\n",
    "    os.remove(save_name)\n",
    "\n",
    "segmentation_labels.to_netcdf(save_name, format=\"NETCDF3_64BIT\")"
   ]
  },
  {
   "cell_type": "markdown",
   "metadata": {},
   "source": [
    "### We can also then save the segmented mask overlaid on the imaging data"
   ]
  },
  {
   "cell_type": "code",
   "execution_count": null,
   "metadata": {
    "tags": []
   },
   "outputs": [],
   "source": [
    "# get input data for overlay\n",
    "input_data_xr = data_utils.load_imgs_from_multitiff(deepcell_input_dir, multitiff_files=points_input)\n",
    "overlay_channels = [input_data_xr.channels.values[:2]]\n",
    "\n",
    "segmentation_utils.visualize_segmentation(\n",
    "            segmentation_labels_xr=segmentation_labels,\n",
    "            fovs=input_data_xr.fovs.values, channel_data_xr=input_data_xr,\n",
    "            chan_list = overlay_channels[0], output_dir=label_dir)"
   ]
  },
  {
   "cell_type": "markdown",
   "metadata": {},
   "source": [
    "### Afterwards, we can generate expression matrices from the labeling + imaging data"
   ]
  },
  {
   "cell_type": "markdown",
   "metadata": {},
   "source": [
    "Returns:\n",
    "* cell_size_normalized_data: computed by dividing the marker counts in segmentation_labels by their corresponding cell size.\n",
    "* arcsinh_transformed_data: first, linearly scale each value of cell_size_normalized_data by multiplying by 100. Then, pass the linearly scaled cell_size_normalized_data through the arcsinh function."
   ]
  },
  {
   "cell_type": "code",
   "execution_count": null,
   "metadata": {},
   "outputs": [],
   "source": [
    "# now extract the segmented imaging data to create normalized and transformed expression matrices\n",
    "# note that if you're loading your own dataset, please make sure all the imaging data is in the same folder\n",
    "# with each FOV given it's own folder and all FOVs having the same channels\n",
    "combined_cell_size_normalized_data, combined_arcsinh_transformed_data = \\\n",
    "    marker_quantification.compute_complete_expression_matrices(segmentation_labels=segmentation_labels,\n",
    "                                                               tiff_dir=tiff_dir,\n",
    "                                                               img_sub_folder=\"TIFs\",\n",
    "                                                               is_mibitiff=MIBItiff,\n",
    "                                                               points=points,\n",
    "                                                               batch_size=5)"
   ]
  },
  {
   "cell_type": "code",
   "execution_count": null,
   "metadata": {},
   "outputs": [],
   "source": [
    "# specify the path to the single_cell_output folder, and create it if it doesn't already exist\n",
    "# this is where we will store our combined_normalized_data and combined_transformed_data output\n",
    "single_cell_dir = os.path.join(base_dir, \"single_cell_output\")\n",
    "\n",
    "if not os.path.exists(single_cell_dir):\n",
    "    os.makedirs(single_cell_dir)"
   ]
  },
  {
   "cell_type": "code",
   "execution_count": null,
   "metadata": {},
   "outputs": [],
   "source": [
    "# save output as CSV\n",
    "combined_cell_size_normalized_data.to_csv(os.path.join(single_cell_dir, 'cell_size_normalized_data.csv'), index=False)\n",
    "combined_arcsinh_transformed_data.to_csv(os.path.join(single_cell_dir, 'arcsinh_transformed_data.csv'), index=False)"
   ]
  }
 ],
 "metadata": {
  "kernelspec": {
   "display_name": "Python 3",
   "language": "python",
   "name": "python3"
  },
  "language_info": {
   "codemirror_mode": {
    "name": "ipython",
    "version": 3
   },
   "file_extension": ".py",
   "mimetype": "text/x-python",
   "name": "python",
   "nbconvert_exporter": "python",
   "pygments_lexer": "ipython3",
   "version": "3.6.11"
  }
 },
 "nbformat": 4,
 "nbformat_minor": 4
}