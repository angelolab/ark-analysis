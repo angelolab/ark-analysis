{
 "cells": [
  {
   "cell_type": "markdown",
   "metadata": {},
   "source": [
    "## This notebook takes the output of deepcell, processes it, segments cells, and outputs the extracted channel information"
   ]
  },
  {
   "cell_type": "code",
   "execution_count": 1,
   "metadata": {},
   "outputs": [
    {
     "name": "stderr",
     "output_type": "stream",
     "text": [
      "C:\\Users\\kevin\\AppData\\Local\\Continuum\\anaconda3\\lib\\site-packages\\numpy\\core\\__init__.py:29: UserWarning: loaded more than 1 DLL from .libs:\n",
      "C:\\Users\\kevin\\AppData\\Local\\Continuum\\anaconda3\\lib\\site-packages\\numpy\\.libs\\libopenblas.IPBC74C7KURV7CB2PKT5Z5FNR3SIBV4J.gfortran-win_amd64.dll\n",
      "C:\\Users\\kevin\\AppData\\Local\\Continuum\\anaconda3\\lib\\site-packages\\numpy\\.libs\\libopenblas.NOIJJG62EMASZI6NYURL6JBKM4EVBGM7.gfortran-win_amd64.dll\n",
      "  stacklevel=1)\n"
     ]
    }
   ],
   "source": [
    "import os\n",
    "import warnings\n",
    "\n",
    "import sys\n",
    "sys.path.append('..')\n",
    "sys.path.append('../ark')\n",
    "\n",
    "from ark.utils import load_utils, segmentation_utils, io_utils, test_utils\n",
    "from ark.segmentation import marker_quantification\n",
    "from skimage import io"
   ]
  },
  {
   "cell_type": "code",
   "execution_count": 2,
   "metadata": {
    "tags": []
   },
   "outputs": [],
   "source": [
    "# set up file paths\n",
    "base_dir = \"../data/example_dataset\"\n",
    "input_dir = os.path.join(base_dir, \"input_data\")\n",
    "deepcell_input_dir = os.path.join(input_dir, 'deepcell_input')\n",
    "tiff_dir = os.path.join(input_dir, 'single_channel_inputs')\n",
    "label_dir = os.path.join(base_dir, 'deepcell_output')\n",
    "viz_dir = os.path.join(base_dir, \"deepcell_visualization\")"
   ]
  },
  {
   "cell_type": "code",
   "execution_count": 3,
   "metadata": {
    "jupyter": {
     "outputs_hidden": false
    },
    "pycharm": {
     "name": "#%%\n"
    }
   },
   "outputs": [],
   "source": [
    "# create viz_dir directory if it does not already exist\n",
    "if not os.path.exists(viz_dir):\n",
    "    os.mkdir(viz_dir)"
   ]
  },
  {
   "cell_type": "code",
   "execution_count": 4,
   "metadata": {},
   "outputs": [],
   "source": [
    "# set to true if base images are MIBItiffs\n",
    "MIBItiff = False\n",
    "\n",
    "# points to look at (None for all)\n",
    "fovs = None"
   ]
  },
  {
   "cell_type": "code",
   "execution_count": 5,
   "metadata": {
    "pycharm": {
     "name": "#%%\n"
    }
   },
   "outputs": [],
   "source": [
    "# validate file paths (add extra paths to this list)\n",
    "io_utils.validate_paths([\n",
    "    base_dir,\n",
    "    input_dir,\n",
    "    deepcell_input_dir,\n",
    "    tiff_dir,\n",
    "    label_dir,\n",
    "])"
   ]
  },
  {
   "cell_type": "markdown",
   "metadata": {
    "pycharm": {
     "name": "#%% md\n"
    }
   },
   "source": [
    "### We compute the paths for the deepcell input TIFFs"
   ]
  },
  {
   "cell_type": "code",
   "execution_count": 6,
   "metadata": {
    "pycharm": {
     "name": "#%%\n"
    }
   },
   "outputs": [],
   "source": [
    "if fovs is None or fovs == []:\n",
    "    fovs_input = io_utils.list_files(deepcell_input_dir, substrs=['tif'])\n",
    "else:\n",
    "    fovs_input = io_utils.list_files(deepcell_input_dir, substrs=fovs)"
   ]
  },
  {
   "cell_type": "markdown",
   "metadata": {
    "pycharm": {
     "name": "#%% md\n"
    }
   },
   "source": [
    "### We can then load the segmented mask from deepcell via label-map TIFFs and save as an xarray"
   ]
  },
  {
   "cell_type": "code",
   "execution_count": 7,
   "metadata": {},
   "outputs": [
    {
     "name": "stderr",
     "output_type": "stream",
     "text": [
      "'rm' is not recognized as an internal or external command,\n",
      "operable program or batch file.\n"
     ]
    }
   ],
   "source": [
    "!rm ../data/example_dataset/deepcell_output/*.tiff"
   ]
  },
  {
   "cell_type": "code",
   "execution_count": 8,
   "metadata": {
    "pycharm": {
     "name": "#%%\n"
    }
   },
   "outputs": [
    {
     "name": "stdout",
     "output_type": "stream",
     "text": [
      "overwriting previously generated processed output file\n"
     ]
    }
   ],
   "source": [
    "segmentation_labels = load_utils.load_imgs_from_dir(data_dir=label_dir,\n",
    "                                                    imgdim_name='compartments',\n",
    "                                                    image_name='whole_cell',\n",
    "                                                    delimiter='_feature_0',\n",
    "                                                    force_ints=True)\n",
    "\n",
    "\n",
    "save_name = os.path.join(label_dir, 'segmentation_labels.xr')\n",
    "if os.path.exists(save_name):\n",
    "    print(\"overwriting previously generated processed output file\")\n",
    "    os.remove(save_name)\n",
    "\n",
    "segmentation_labels.to_netcdf(save_name, format=\"NETCDF3_64BIT\")"
   ]
  },
  {
   "cell_type": "markdown",
   "metadata": {
    "pycharm": {
     "name": "#%% md\n"
    }
   },
   "source": [
    "### We can also then save the segmented mask overlaid on the imaging data"
   ]
  },
  {
   "cell_type": "code",
   "execution_count": 9,
   "metadata": {
    "tags": []
   },
   "outputs": [
    {
     "ename": "ValueError",
     "evalue": "invalid TIFF file",
     "output_type": "error",
     "traceback": [
      "\u001B[1;31m---------------------------------------------------------------------------\u001B[0m",
      "\u001B[1;31mKeyError\u001B[0m                                  Traceback (most recent call last)",
      "\u001B[1;32m~\\AppData\\Local\\Continuum\\anaconda3\\lib\\site-packages\\skimage\\external\\tifffile\\tifffile.py\u001B[0m in \u001B[0;36m_fromfile\u001B[1;34m(self, pages, fastij)\u001B[0m\n\u001B[0;32m   1362\u001B[0m         \u001B[1;32mtry\u001B[0m\u001B[1;33m:\u001B[0m\u001B[1;33m\u001B[0m\u001B[1;33m\u001B[0m\u001B[0m\n\u001B[1;32m-> 1363\u001B[1;33m             \u001B[0mself\u001B[0m\u001B[1;33m.\u001B[0m\u001B[0mbyteorder\u001B[0m \u001B[1;33m=\u001B[0m \u001B[1;33m{\u001B[0m\u001B[1;34mb'II'\u001B[0m\u001B[1;33m:\u001B[0m \u001B[1;34m'<'\u001B[0m\u001B[1;33m,\u001B[0m \u001B[1;34mb'MM'\u001B[0m\u001B[1;33m:\u001B[0m \u001B[1;34m'>'\u001B[0m\u001B[1;33m}\u001B[0m\u001B[1;33m[\u001B[0m\u001B[0mself\u001B[0m\u001B[1;33m.\u001B[0m\u001B[0m_fh\u001B[0m\u001B[1;33m.\u001B[0m\u001B[0mread\u001B[0m\u001B[1;33m(\u001B[0m\u001B[1;36m2\u001B[0m\u001B[1;33m)\u001B[0m\u001B[1;33m]\u001B[0m\u001B[1;33m\u001B[0m\u001B[1;33m\u001B[0m\u001B[0m\n\u001B[0m\u001B[0;32m   1364\u001B[0m         \u001B[1;32mexcept\u001B[0m \u001B[0mKeyError\u001B[0m\u001B[1;33m:\u001B[0m\u001B[1;33m\u001B[0m\u001B[1;33m\u001B[0m\u001B[0m\n",
      "\u001B[1;31mKeyError\u001B[0m: b''",
      "\nDuring handling of the above exception, another exception occurred:\n",
      "\u001B[1;31mValueError\u001B[0m                                Traceback (most recent call last)",
      "\u001B[1;32m<ipython-input-9-b026588e7353>\u001B[0m in \u001B[0;36m<module>\u001B[1;34m\u001B[0m\n\u001B[0;32m      3\u001B[0m \u001B[1;31m# Get input for overlay\u001B[0m\u001B[1;33m\u001B[0m\u001B[1;33m\u001B[0m\u001B[1;33m\u001B[0m\u001B[0m\n\u001B[0;32m      4\u001B[0m input_data_xr = load_utils.load_imgs_from_multitiff(deepcell_input_dir,\n\u001B[1;32m----> 5\u001B[1;33m                                                     multitiff_files=fovs_input)\n\u001B[0m\u001B[0;32m      6\u001B[0m \u001B[1;31m# Overlaying the DNA\u001B[0m\u001B[1;33m\u001B[0m\u001B[1;33m\u001B[0m\u001B[1;33m\u001B[0m\u001B[0m\n\u001B[0;32m      7\u001B[0m \u001B[0moverlay_channels\u001B[0m \u001B[1;33m=\u001B[0m \u001B[0minput_data_xr\u001B[0m\u001B[1;33m.\u001B[0m\u001B[0mchannels\u001B[0m\u001B[1;33m.\u001B[0m\u001B[0mvalues\u001B[0m\u001B[1;33m\u001B[0m\u001B[1;33m\u001B[0m\u001B[0m\n",
      "\u001B[1;32m~\\PycharmProjects\\ark-analysis\\ark\\utils\\load_utils.py\u001B[0m in \u001B[0;36mload_imgs_from_multitiff\u001B[1;34m(data_dir, multitiff_files, channels, delimiter, dtype)\u001B[0m\n\u001B[0;32m    118\u001B[0m                        for mt_file in multitiff_files]\n\u001B[0;32m    119\u001B[0m \u001B[1;33m\u001B[0m\u001B[0m\n\u001B[1;32m--> 120\u001B[1;33m     \u001B[0mtest_img\u001B[0m \u001B[1;33m=\u001B[0m \u001B[0mio\u001B[0m\u001B[1;33m.\u001B[0m\u001B[0mimread\u001B[0m\u001B[1;33m(\u001B[0m\u001B[0mmultitiff_files\u001B[0m\u001B[1;33m[\u001B[0m\u001B[1;36m0\u001B[0m\u001B[1;33m]\u001B[0m\u001B[1;33m,\u001B[0m \u001B[0mplugin\u001B[0m\u001B[1;33m=\u001B[0m\u001B[1;34m'tifffile'\u001B[0m\u001B[1;33m)\u001B[0m\u001B[1;33m\u001B[0m\u001B[1;33m\u001B[0m\u001B[0m\n\u001B[0m\u001B[0;32m    121\u001B[0m \u001B[1;33m\u001B[0m\u001B[0m\n\u001B[0;32m    122\u001B[0m     \u001B[1;31m# check to make sure that float dtype was supplied if image data is float\u001B[0m\u001B[1;33m\u001B[0m\u001B[1;33m\u001B[0m\u001B[1;33m\u001B[0m\u001B[0m\n",
      "\u001B[1;32m~\\AppData\\Local\\Continuum\\anaconda3\\lib\\site-packages\\skimage\\io\\_io.py\u001B[0m in \u001B[0;36mimread\u001B[1;34m(fname, as_gray, plugin, **plugin_args)\u001B[0m\n\u001B[0;32m     46\u001B[0m \u001B[1;33m\u001B[0m\u001B[0m\n\u001B[0;32m     47\u001B[0m     \u001B[1;32mwith\u001B[0m \u001B[0mfile_or_url_context\u001B[0m\u001B[1;33m(\u001B[0m\u001B[0mfname\u001B[0m\u001B[1;33m)\u001B[0m \u001B[1;32mas\u001B[0m \u001B[0mfname\u001B[0m\u001B[1;33m:\u001B[0m\u001B[1;33m\u001B[0m\u001B[1;33m\u001B[0m\u001B[0m\n\u001B[1;32m---> 48\u001B[1;33m         \u001B[0mimg\u001B[0m \u001B[1;33m=\u001B[0m \u001B[0mcall_plugin\u001B[0m\u001B[1;33m(\u001B[0m\u001B[1;34m'imread'\u001B[0m\u001B[1;33m,\u001B[0m \u001B[0mfname\u001B[0m\u001B[1;33m,\u001B[0m \u001B[0mplugin\u001B[0m\u001B[1;33m=\u001B[0m\u001B[0mplugin\u001B[0m\u001B[1;33m,\u001B[0m \u001B[1;33m**\u001B[0m\u001B[0mplugin_args\u001B[0m\u001B[1;33m)\u001B[0m\u001B[1;33m\u001B[0m\u001B[1;33m\u001B[0m\u001B[0m\n\u001B[0m\u001B[0;32m     49\u001B[0m \u001B[1;33m\u001B[0m\u001B[0m\n\u001B[0;32m     50\u001B[0m     \u001B[1;32mif\u001B[0m \u001B[1;32mnot\u001B[0m \u001B[0mhasattr\u001B[0m\u001B[1;33m(\u001B[0m\u001B[0mimg\u001B[0m\u001B[1;33m,\u001B[0m \u001B[1;34m'ndim'\u001B[0m\u001B[1;33m)\u001B[0m\u001B[1;33m:\u001B[0m\u001B[1;33m\u001B[0m\u001B[1;33m\u001B[0m\u001B[0m\n",
      "\u001B[1;32m~\\AppData\\Local\\Continuum\\anaconda3\\lib\\site-packages\\skimage\\io\\manage_plugins.py\u001B[0m in \u001B[0;36mcall_plugin\u001B[1;34m(kind, *args, **kwargs)\u001B[0m\n\u001B[0;32m    208\u001B[0m                                (plugin, kind))\n\u001B[0;32m    209\u001B[0m \u001B[1;33m\u001B[0m\u001B[0m\n\u001B[1;32m--> 210\u001B[1;33m     \u001B[1;32mreturn\u001B[0m \u001B[0mfunc\u001B[0m\u001B[1;33m(\u001B[0m\u001B[1;33m*\u001B[0m\u001B[0margs\u001B[0m\u001B[1;33m,\u001B[0m \u001B[1;33m**\u001B[0m\u001B[0mkwargs\u001B[0m\u001B[1;33m)\u001B[0m\u001B[1;33m\u001B[0m\u001B[1;33m\u001B[0m\u001B[0m\n\u001B[0m\u001B[0;32m    211\u001B[0m \u001B[1;33m\u001B[0m\u001B[0m\n\u001B[0;32m    212\u001B[0m \u001B[1;33m\u001B[0m\u001B[0m\n",
      "\u001B[1;32m~\\AppData\\Local\\Continuum\\anaconda3\\lib\\site-packages\\skimage\\io\\_plugins\\tifffile_plugin.py\u001B[0m in \u001B[0;36mimread\u001B[1;34m(fname, dtype, **kwargs)\u001B[0m\n\u001B[0;32m     46\u001B[0m \u001B[1;33m\u001B[0m\u001B[0m\n\u001B[0;32m     47\u001B[0m     \u001B[1;31m# read and return tiff as numpy array\u001B[0m\u001B[1;33m\u001B[0m\u001B[1;33m\u001B[0m\u001B[1;33m\u001B[0m\u001B[0m\n\u001B[1;32m---> 48\u001B[1;33m     \u001B[1;32mwith\u001B[0m \u001B[0mTiffFile\u001B[0m\u001B[1;33m(\u001B[0m\u001B[0mfname\u001B[0m\u001B[1;33m,\u001B[0m \u001B[1;33m**\u001B[0m\u001B[0mkwargs_tiff\u001B[0m\u001B[1;33m)\u001B[0m \u001B[1;32mas\u001B[0m \u001B[0mtif\u001B[0m\u001B[1;33m:\u001B[0m\u001B[1;33m\u001B[0m\u001B[1;33m\u001B[0m\u001B[0m\n\u001B[0m\u001B[0;32m     49\u001B[0m         \u001B[1;32mreturn\u001B[0m \u001B[0mtif\u001B[0m\u001B[1;33m.\u001B[0m\u001B[0masarray\u001B[0m\u001B[1;33m(\u001B[0m\u001B[1;33m**\u001B[0m\u001B[0mkwargs\u001B[0m\u001B[1;33m)\u001B[0m\u001B[1;33m\u001B[0m\u001B[1;33m\u001B[0m\u001B[0m\n",
      "\u001B[1;32m~\\AppData\\Local\\Continuum\\anaconda3\\lib\\site-packages\\skimage\\external\\tifffile\\tifffile.py\u001B[0m in \u001B[0;36m__init__\u001B[1;34m(self, arg, name, offset, size, multifile, multifile_close, pages, fastij, is_ome)\u001B[0m\n\u001B[0;32m   1336\u001B[0m         \u001B[0mself\u001B[0m\u001B[1;33m.\u001B[0m\u001B[0m_ifd_offset\u001B[0m \u001B[1;33m=\u001B[0m \u001B[1;36m0\u001B[0m  \u001B[1;31m# offset to offset of next IFD\u001B[0m\u001B[1;33m\u001B[0m\u001B[1;33m\u001B[0m\u001B[0m\n\u001B[0;32m   1337\u001B[0m         \u001B[1;32mtry\u001B[0m\u001B[1;33m:\u001B[0m\u001B[1;33m\u001B[0m\u001B[1;33m\u001B[0m\u001B[0m\n\u001B[1;32m-> 1338\u001B[1;33m             \u001B[0mself\u001B[0m\u001B[1;33m.\u001B[0m\u001B[0m_fromfile\u001B[0m\u001B[1;33m(\u001B[0m\u001B[0mpages\u001B[0m\u001B[1;33m,\u001B[0m \u001B[0mfastij\u001B[0m\u001B[1;33m)\u001B[0m\u001B[1;33m\u001B[0m\u001B[1;33m\u001B[0m\u001B[0m\n\u001B[0m\u001B[0;32m   1339\u001B[0m         \u001B[1;32mexcept\u001B[0m \u001B[0mException\u001B[0m\u001B[1;33m:\u001B[0m\u001B[1;33m\u001B[0m\u001B[1;33m\u001B[0m\u001B[0m\n\u001B[0;32m   1340\u001B[0m             \u001B[0mself\u001B[0m\u001B[1;33m.\u001B[0m\u001B[0m_fh\u001B[0m\u001B[1;33m.\u001B[0m\u001B[0mclose\u001B[0m\u001B[1;33m(\u001B[0m\u001B[1;33m)\u001B[0m\u001B[1;33m\u001B[0m\u001B[1;33m\u001B[0m\u001B[0m\n",
      "\u001B[1;32m~\\AppData\\Local\\Continuum\\anaconda3\\lib\\site-packages\\skimage\\external\\tifffile\\tifffile.py\u001B[0m in \u001B[0;36m_fromfile\u001B[1;34m(self, pages, fastij)\u001B[0m\n\u001B[0;32m   1363\u001B[0m             \u001B[0mself\u001B[0m\u001B[1;33m.\u001B[0m\u001B[0mbyteorder\u001B[0m \u001B[1;33m=\u001B[0m \u001B[1;33m{\u001B[0m\u001B[1;34mb'II'\u001B[0m\u001B[1;33m:\u001B[0m \u001B[1;34m'<'\u001B[0m\u001B[1;33m,\u001B[0m \u001B[1;34mb'MM'\u001B[0m\u001B[1;33m:\u001B[0m \u001B[1;34m'>'\u001B[0m\u001B[1;33m}\u001B[0m\u001B[1;33m[\u001B[0m\u001B[0mself\u001B[0m\u001B[1;33m.\u001B[0m\u001B[0m_fh\u001B[0m\u001B[1;33m.\u001B[0m\u001B[0mread\u001B[0m\u001B[1;33m(\u001B[0m\u001B[1;36m2\u001B[0m\u001B[1;33m)\u001B[0m\u001B[1;33m]\u001B[0m\u001B[1;33m\u001B[0m\u001B[1;33m\u001B[0m\u001B[0m\n\u001B[0;32m   1364\u001B[0m         \u001B[1;32mexcept\u001B[0m \u001B[0mKeyError\u001B[0m\u001B[1;33m:\u001B[0m\u001B[1;33m\u001B[0m\u001B[1;33m\u001B[0m\u001B[0m\n\u001B[1;32m-> 1365\u001B[1;33m             \u001B[1;32mraise\u001B[0m \u001B[0mValueError\u001B[0m\u001B[1;33m(\u001B[0m\u001B[1;34m\"invalid TIFF file\"\u001B[0m\u001B[1;33m)\u001B[0m\u001B[1;33m\u001B[0m\u001B[1;33m\u001B[0m\u001B[0m\n\u001B[0m\u001B[0;32m   1366\u001B[0m         self._is_native = self.byteorder == {'big': '>',\n\u001B[0;32m   1367\u001B[0m                                              'little': '<'}[sys.byteorder]\n",
      "\u001B[1;31mValueError\u001B[0m: invalid TIFF file"
     ]
    }
   ],
   "source": [
    "# Both channels and Point8\n",
    "\n",
    "# Get input for overlay\n",
    "input_data_xr = load_utils.load_imgs_from_multitiff(deepcell_input_dir,\n",
    "                                                    multitiff_files=fovs_input)\n",
    "# Overlaying the DNA\n",
    "overlay_channels = input_data_xr.channels.values\n",
    "warnings.simplefilter(\"ignore\")\n",
    "\n",
    "# Channel 0 and Point 8\n",
    "segmentation_utils.visualize_segmentation(\n",
    "            segmentation_labels_xr=segmentation_labels,\n",
    "            fovs=input_data_xr[:,:,:,0].fovs.values, channel_data_xr=input_data_xr,\n",
    "            chan_list = overlay_channels[0], output_dir=viz_dir)\n",
    "\n",
    "chan_list = overlay_channels[0]\n",
    "\n",
    "# Only displays one image because only 1 fov in dataset\n",
    "\"\"\"\n",
    "for fov in input_data_xr[:,:,:,0].fovs.values:\n",
    "    save_path = '_'.join([f'{fov}', *chan_list.astype('str'), 'overlay.tiff'])\n",
    "    im1=io.imread(os.path.join(viz_dir, save_path))\n",
    "    io.imshow(im1)\n",
    "    \"\"\""
   ]
  },
  {
   "cell_type": "code",
   "execution_count": null,
   "metadata": {
    "jupyter": {
     "outputs_hidden": false
    },
    "pycharm": {
     "name": "#%%\n"
    }
   },
   "outputs": [],
   "source": [
    "# Generate random images with two fovs\n",
    "rand_images = test_utils.make_images_xarray(None,\n",
    "                                              fov_ids=['fov0', 'fov1', 'fov3', 'fov4'],\n",
    "                                              channel_names= ['chan0', 'chan1'],\n",
    "                                              row_size=1024, col_size=1024)\n",
    "\n",
    "# Generate random labels with two fovs\n",
    "rand_segmentation_labels = test_utils.make_labels_xarray(None,  fov_ids=['fov0', 'fov1', 'fov3', 'fov4'],\n",
    "                                                    compartment_names = ['whole_cell'],\n",
    "                                                    row_size=1024, col_size=1024)\n",
    "\n",
    "rand_overlay_channels = rand_images.channels.values\n",
    "\n",
    "segmentation_utils.visualize_segmentation(\n",
    "            segmentation_labels_xr=rand_segmentation_labels,\n",
    "            fovs=rand_images.fovs.values, channel_data_xr=rand_images,\n",
    "            chan_list = rand_overlay_channels[0], output_dir=viz_dir)"
   ]
  },
  {
   "cell_type": "code",
   "execution_count": null,
   "outputs": [],
   "source": [
    "rand_input = io_utils.list_files(deepcell_input_dir, substrs=['random_image'])\n",
    "rand_images = load_utils.load_imgs_from_multitiff(deepcell_input_dir,\n",
    "                                                    multitiff_files=rand_input)\n",
    "# Generate random labels with two fovs\n",
    "rand_segmentation_labels = test_utils.make_labels_xarray(None,  fov_ids=['fov0', 'fov1', 'fov3', 'fov4'],\n",
    "                                                    compartment_names = ['whole_cell'],\n",
    "                                                    row_size=1024, col_size=1024)\n",
    "\n",
    "rand_overlay_channels = rand_images.channels.values\n",
    "\n",
    "segmentation_utils.visualize_segmentation(\n",
    "            segmentation_labels_xr=rand_segmentation_labels,\n",
    "            fovs=rand_images.fovs.values, channel_data_xr=rand_images,\n",
    "            chan_list = rand_overlay_channels[0], output_dir=viz_dir)"
   ],
   "metadata": {
    "collapsed": false,
    "pycharm": {
     "name": "#%%\n"
    }
   }
  },
  {
   "cell_type": "code",
   "execution_count": null,
   "metadata": {},
   "outputs": [],
   "source": [
    "# This will display more images since we have multiple fovs\n",
    "\"\"\"\n",
    "for fov in rand_images.fovs.values:\n",
    "    chan_list = rand_overlay_channels[0]\n",
    "    save_path = '_'.join([f'{fov}', *chan_list.astype('str'), 'overlay.tiff'])\n",
    "    im1=io.imread(os.path.join(viz_dir, save_path))\n",
    "    io.imshow(im1)\n",
    "    io.show()\n",
    "\"\"\""
   ]
  },
  {
   "cell_type": "markdown",
   "metadata": {},
   "source": [
    "### Afterwards, we can generate expression matrices from the labeling + imaging data"
   ]
  },
  {
   "cell_type": "markdown",
   "metadata": {},
   "source": [
    "Returns:\n",
    "* cell_size_normalized_data: computed by dividing the marker counts in segmentation_labels by their corresponding cell size.\n",
    "* arcsinh_transformed_data: first, linearly scale each value of cell_size_normalized_data by multiplying by 100. Then, pass the linearly scaled cell_size_normalized_data through the arcsinh function."
   ]
  },
  {
   "cell_type": "code",
   "execution_count": null,
   "metadata": {},
   "outputs": [],
   "source": [
    "# now extract the segmented imaging data to create normalized and transformed expression matrices\n",
    "# note that if you're loading your own dataset, please make sure all the imaging data is in the same folder\n",
    "# with each FOV given it's own folder and all FOVs having the same channels\n",
    "combined_cell_size_normalized_data, combined_arcsinh_transformed_data = \\\n",
    "    marker_quantification.generate_cell_data(segmentation_labels=segmentation_labels,\n",
    "                                             tiff_dir=tiff_dir,\n",
    "                                             img_sub_folder=\"TIFs\",\n",
    "                                             is_mibitiff=MIBItiff,\n",
    "                                             fovs=fovs,\n",
    "                                             batch_size=5)"
   ]
  },
  {
   "cell_type": "code",
   "execution_count": null,
   "metadata": {},
   "outputs": [],
   "source": [
    "# specify the path to the single_cell_output folder, and create it if it doesn't already exist\n",
    "# this is where we will store our combined_normalized_data and combined_transformed_data output\n",
    "single_cell_dir = os.path.join(base_dir, \"single_cell_output\")\n",
    "\n",
    "if not os.path.exists(single_cell_dir):\n",
    "    os.makedirs(single_cell_dir)"
   ]
  },
  {
   "cell_type": "code",
   "execution_count": null,
   "metadata": {},
   "outputs": [],
   "source": [
    "# save output as CSV\n",
    "combined_cell_size_normalized_data.to_csv(os.path.join(single_cell_dir, 'cell_size_normalized_data.csv'), index=False)\n",
    "combined_arcsinh_transformed_data.to_csv(os.path.join(single_cell_dir, 'arcsinh_transformed_data.csv'), index=False)"
   ]
  }
 ],
 "metadata": {
  "kernelspec": {
   "display_name": "Python 3",
   "language": "python",
   "name": "python3"
  },
  "language_info": {
   "codemirror_mode": {
    "name": "ipython",
    "version": 3
   },
   "file_extension": ".py",
   "mimetype": "text/x-python",
   "name": "python",
   "nbconvert_exporter": "python",
   "pygments_lexer": "ipython3",
   "version": "3.7.3"
  }
 },
 "nbformat": 4,
 "nbformat_minor": 4
}