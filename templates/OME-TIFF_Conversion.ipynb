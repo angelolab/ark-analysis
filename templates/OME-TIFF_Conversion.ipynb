{
 "cells": [
  {
   "cell_type": "markdown",
   "metadata": {},
   "source": [
    "# Utility Notebook - OME-TIFF Conversion\n",
    "\n",
    "This small notebook contains utilities to convert:\n",
    "- Multichannel OME-TIFFs into single channel tiff files, with one tiff file per channel in the OME-TIFF.\n",
    "- Single-Channel tiffs per FOV into a multichannel OME-TIFF.\n",
    "\n",
    "\n",
    "Single channel tiff structure:\n",
    "```sh\n",
    "fov_1/\n",
    "├── channel_1.tiff\n",
    "├── channel_2.tiff\n",
    "├── channel_3.tiff\n",
    "├── ...\n",
    "└── channel_n.tiff\n",
    "```"
   ]
  },
  {
   "cell_type": "code",
   "execution_count": 1,
   "metadata": {},
   "outputs": [],
   "source": [
    "from ark.utils import load_utils, example_dataset\n",
    "import pathlib\n",
    "from tqdm.notebook import tqdm\n",
    "import os"
   ]
  },
  {
   "cell_type": "markdown",
   "metadata": {},
   "source": [
    "## Example Dataset - Single Channel TIFFs"
   ]
  },
  {
   "cell_type": "code",
   "execution_count": null,
   "metadata": {},
   "outputs": [],
   "source": [
    "example_dataset.get_example_dataset(dataset=\"segment_image_data\", save_dir = pathlib.Path(\"../data/example_dataset/\"), overwrite_existing = True)"
   ]
  },
  {
   "cell_type": "markdown",
   "metadata": {},
   "source": [
    "## OME-TIFF to Single Channel TIFFs"
   ]
  },
  {
   "cell_type": "markdown",
   "metadata": {},
   "source": [
    "**Variables:**\n",
    "* `ome_dir_path`: The directory containing all the OME-TIFFs which will be used.\n",
    "* `data_dir`: The directory where the Single Channel TIFFs get saved to. Recommended to be a subdirectory in `../data/`."
   ]
  },
  {
   "cell_type": "code",
   "execution_count": 3,
   "metadata": {},
   "outputs": [],
   "source": [
    "ome_dir_path: str = \"../scripts/misc/\"\n",
    "data_dir_path: str = \"../data/your_data/\"\n"
   ]
  },
  {
   "cell_type": "markdown",
   "metadata": {},
   "source": [
    "Convert all the OME-TIFFS to Single Channel TIFFs and save them in `data_dir`."
   ]
  },
  {
   "cell_type": "code",
   "execution_count": 4,
   "metadata": {},
   "outputs": [],
   "source": [
    "data_dir = pathlib.Path(data_dir_path)\n",
    "ome_dir: str = pathlib.Path(ome_dir_path)\n",
    "\n",
    "# Make the data_dir if it doesn't exist\n",
    "if not os.path.exists(data_dir):\n",
    "    os.makedirs(data_dir)\n",
    "\n",
    "# Gather all the OME-TIFFs\n",
    "ome_tiffs = list(ome_dir.glob(\"*.ome.[tif tiff]*\"))\n",
    "# Convert all the OME-TIFFs to Single Channel TIFFs\n",
    "for ome_tiff in [ome_tiffs[0]]:\n",
    "    load_utils.ome_to_fov(ome_tiff, data_dir=data_dir)\n"
   ]
  },
  {
   "cell_type": "markdown",
   "metadata": {},
   "source": [
    "## Single Channel TIFFs to OME-TIFF\n",
    "\n",
    "Converts a folder of single channel tiffs into a multichannel OME-TIFF.\n",
    "\n",
    "**Variables**\n",
    "\n",
    "- `fovs`: A list of FOVs (a folder containing single channel tiffs) to convert to OME-TIFFS. If `None`, converts all Single Channel TIFFs in the directory to OME-TIFFS). \n",
    "- `channels`: The channels per set of Single Channel TIFFs to convert to OME-TIFFs (defaults to `None` which uses all channels per set of Single Channel TIFFs). Or you may input a list of desired channels (i.e. `[\"chan1\", \"chan2\", ..., \"chan7\"]`)\n",
    "- `img_sub_folder`: The subdirectory within each of the `fovs` containing the Single Channel TIFFs, an optional parameter.\n",
    "- `data_dir`: The directory containing the Single Channel TIFFs.\n",
    "- `save_dir`: The directory to save the OME-TIFF.\n",
    "\n",
    "Note, the name of the OME-TIFF is based on the Single Channel TIFF Name name (i.e. the folder `fov-1` will become `fov-1.ome.tiff`)"
   ]
  },
  {
   "cell_type": "code",
   "execution_count": null,
   "metadata": {},
   "outputs": [],
   "source": [
    "fovs = [\"fov0\", \"fov1\"]\n",
    "channels = None\n",
    "img_sub_folder = None\n",
    "data_dir = \"../data/example_dataset/image_data/\"\n",
    "save_dir = \"../data/ome_tiffs/\""
   ]
  },
  {
   "cell_type": "code",
   "execution_count": null,
   "metadata": {},
   "outputs": [],
   "source": [
    "load_utils.fov_to_ome(data_dir=data_dir, ome_save_dir=save_dir, img_sub_folder=img_sub_folder, fovs=fovs, channels=channels)"
   ]
  }
 ],
 "metadata": {
  "kernelspec": {
   "display_name": "Python 3.8.15 ('ark38')",
   "language": "python",
   "name": "python3"
  },
  "language_info": {
   "codemirror_mode": {
    "name": "ipython",
    "version": 3
   },
   "file_extension": ".py",
   "mimetype": "text/x-python",
   "name": "python",
   "nbconvert_exporter": "python",
   "pygments_lexer": "ipython3",
   "version": "3.8.15"
  },
  "orig_nbformat": 4,
  "vscode": {
   "interpreter": {
    "hash": "9cd428f2623867f362c6ffd1805d28fe273bb79d15f4a3a73107e7f51d98be79"
   }
  }
 },
 "nbformat": 4,
 "nbformat_minor": 2
}
