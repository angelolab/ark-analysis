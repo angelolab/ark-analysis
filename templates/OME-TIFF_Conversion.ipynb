{
 "cells": [
  {
   "cell_type": "markdown",
   "metadata": {},
   "source": [
    "# Utility Notebook - OME-TIFF Conversion\n",
    "\n",
    "This small notebook contains utilities to convert:\n",
    "- Multichannel OME-TIFFs into single channel tiff files, with one tiff file per channel in the OME-TIFF.\n",
    "- Single-Channel tiffs per FOV into a multichannel OME-TIFF.\n",
    "\n",
    "\n",
    "Single channel tiff structure:\n",
    "```sh\n",
    "fov_1/\n",
    "├── channel_1.tiff\n",
    "├── channel_2.tiff\n",
    "├── channel_3.tiff\n",
    "├── ...\n",
    "└── channel_n.tiff\n",
    "```"
   ]
  },
  {
   "cell_type": "code",
   "execution_count": 3,
   "metadata": {},
   "outputs": [],
   "source": [
    "from ark.utils import load_utils, example_dataset\n",
    "from typing import List\n",
    "import pathlib\n",
    "from tqdm.notebook import tqdm\n",
    "import os"
   ]
  },
  {
   "cell_type": "markdown",
   "metadata": {},
   "source": [
    "## OME-TIFF to Single Channel TIFFs"
   ]
  },
  {
   "cell_type": "code",
   "execution_count": 4,
   "metadata": {},
   "outputs": [
    {
     "name": "stderr",
     "output_type": "stream",
     "text": [
      "Found cached dataset ark_example (/Users/srivarra/.cache/huggingface/datasets/angelolab___ark_example/ome_tiff/0.0.5/1adf3ccc63f4f8bba80dfcad2afb9fe9a40fd51dc21bda5b4d307e6a615dfc01)\n"
     ]
    },
    {
     "data": {
      "application/vnd.jupyter.widget-view+json": {
       "model_id": "af8d717b8b6241f09bc66a6b6dd61cfa",
       "version_major": 2,
       "version_minor": 0
      },
      "text/plain": [
       "  0%|          | 0/1 [00:00<?, ?it/s]"
      ]
     },
     "metadata": {},
     "output_type": "display_data"
    }
   ],
   "source": [
    "example_dataset.get_example_dataset(dataset=\"ome_tiff\", save_dir = pathlib.Path(\"../data/example_dataset/\"), overwrite_existing = True)"
   ]
  },
  {
   "cell_type": "markdown",
   "metadata": {},
   "source": [
    "**Variables:**\n",
    "* `ome_dir_path`: The directory containing all the OME-TIFFs which will be used.\n",
    "* `data_dir`: The directory where the Single Channel TIFFs get saved to. Recommended to be a subdirectory in `../data/`."
   ]
  },
  {
   "cell_type": "code",
   "execution_count": 5,
   "metadata": {},
   "outputs": [],
   "source": [
    "ome_dir_path: str = \"../data/example_dataset/ome_tiff/\"\n",
    "data_dir_path: str = \"../data/your_data/\"\n",
    "\n",
    "data_dir = pathlib.Path(data_dir_path)\n",
    "ome_dir: str = pathlib.Path(ome_dir_path)\n",
    "\n",
    "# Make the paths if they do not exist\n",
    "data_dir.mkdir(parents=True, exist_ok=True)\n",
    "ome_dir.mkdir(parents=True, exist_ok=True)"
   ]
  },
  {
   "cell_type": "markdown",
   "metadata": {},
   "source": [
    "Convert all the OME-TIFFS to Single Channel TIFFs and save them in `data_dir`."
   ]
  },
  {
   "cell_type": "code",
   "execution_count": 6,
   "metadata": {},
   "outputs": [
    {
     "data": {
      "application/vnd.jupyter.widget-view+json": {
       "model_id": "169587e700b642919c66ece9d757da47",
       "version_major": 2,
       "version_minor": 0
      },
      "text/plain": [
       "  0%|          | 0/1 [00:00<?, ?it/s]"
      ]
     },
     "metadata": {},
     "output_type": "display_data"
    }
   ],
   "source": [
    "# Gather all the OME-TIFFs\n",
    "ome_tiffs = list(ome_dir.glob(\"*.ome.[tif tiff]*\"))\n",
    "\n",
    "# Convert all the OME-TIFFs to Single Channel TIFFs\n",
    "for ome_tiff in tqdm(ome_tiffs):\n",
    "    load_utils.ome_to_fov(ome_tiff, data_dir=data_dir)"
   ]
  },
  {
   "attachments": {},
   "cell_type": "markdown",
   "metadata": {},
   "source": [
    "## Single Channel TIFFs to OME-TIFF"
   ]
  },
  {
   "cell_type": "code",
   "execution_count": 7,
   "metadata": {},
   "outputs": [
    {
     "name": "stderr",
     "output_type": "stream",
     "text": [
      "Found cached dataset ark_example (/Users/srivarra/.cache/huggingface/datasets/angelolab___ark_example/segment_image_data/0.0.5/1adf3ccc63f4f8bba80dfcad2afb9fe9a40fd51dc21bda5b4d307e6a615dfc01)\n"
     ]
    },
    {
     "data": {
      "application/vnd.jupyter.widget-view+json": {
       "model_id": "6555e76739f444aea61cb4aca8f4d5f3",
       "version_major": 2,
       "version_minor": 0
      },
      "text/plain": [
       "  0%|          | 0/1 [00:00<?, ?it/s]"
      ]
     },
     "metadata": {},
     "output_type": "display_data"
    },
    {
     "name": "stderr",
     "output_type": "stream",
     "text": [
      "/Users/srivarra/Angelo Lab/Internal/ark-analysis/ark/utils/example_dataset.py:125: UserWarning: Files exist in ../data/example_dataset/image_data.                         They will be overwritten by the downloaded example dataset.\n",
      "  warnings.warn(UserWarning(f\"Files exist in {dst_path}. \\\n"
     ]
    }
   ],
   "source": [
    "example_dataset.get_example_dataset(dataset=\"segment_image_data\", save_dir = pathlib.Path(\"../data/example_dataset/\"), overwrite_existing = True)"
   ]
  },
  {
   "attachments": {},
   "cell_type": "markdown",
   "metadata": {},
   "source": [
    "\n",
    "Converts a folder of single channel tiffs into a multichannel OME-TIFF.\n",
    "\n",
    "**Variables**\n",
    "\n",
    "- `fovs`: A list of FOVs (a folder containing single channel tiffs) to convert to OME-TIFFS. If `None`, converts all Single Channel TIFFs in the directory to OME-TIFFS). \n",
    "- `channels`: The channels per set of Single Channel TIFFs to convert to OME-TIFFs (defaults to `None` which uses all channels per set of Single Channel TIFFs). Or you may input a list of desired channels (i.e. `[\"chan1\", \"chan2\", ..., \"chan7\"]`)\n",
    "- `img_sub_folder`: The subdirectory within each of the `fovs` containing the Single Channel TIFFs, an optional parameter.\n",
    "- `data_dir`: The directory containing the Single Channel TIFFs.\n",
    "- `save_dir`: The directory to save the OME-TIFF.\n",
    "\n",
    "Note, the name of the OME-TIFF is based on the Single Channel TIFF Name name (i.e. the folder `fov1` will become `fov1.ome.tiff`)"
   ]
  },
  {
   "cell_type": "code",
   "execution_count": 8,
   "metadata": {},
   "outputs": [],
   "source": [
    "data_dir: str = \"../data/example_dataset/image_data/\"\n",
    "save_dir: str = \"../data/ome_tiffs/\"\n",
    "\n",
    "# Make the `save_dir` if it doesn't exist\n",
    "pathlib.Path(save_dir).mkdir(parents=True, exist_ok=True)"
   ]
  },
  {
   "cell_type": "code",
   "execution_count": null,
   "metadata": {},
   "outputs": [],
   "source": [
    "fovs: List[str] = [\"fov1\"]\n",
    "channels = None\n",
    "img_sub_folder = None"
   ]
  },
  {
   "attachments": {},
   "cell_type": "markdown",
   "metadata": {},
   "source": [
    "Converts the OME-TIFFS into Single Channel TIFFs."
   ]
  },
  {
   "cell_type": "code",
   "execution_count": 9,
   "metadata": {},
   "outputs": [],
   "source": [
    "load_utils.fov_to_ome(data_dir=data_dir, ome_save_dir=save_dir, img_sub_folder=img_sub_folder, fovs=fovs, channels=channels)"
   ]
  }
 ],
 "metadata": {
  "kernelspec": {
   "display_name": "Python 3.8.15 ('ark38')",
   "language": "python",
   "name": "python3"
  },
  "language_info": {
   "codemirror_mode": {
    "name": "ipython",
    "version": 3
   },
   "file_extension": ".py",
   "mimetype": "text/x-python",
   "name": "python",
   "nbconvert_exporter": "python",
   "pygments_lexer": "ipython3",
   "version": "3.8.15"
  },
  "orig_nbformat": 4,
  "vscode": {
   "interpreter": {
    "hash": "9cd428f2623867f362c6ffd1805d28fe273bb79d15f4a3a73107e7f51d98be79"
   }
  }
 },
 "nbformat": 4,
 "nbformat_minor": 2
}
