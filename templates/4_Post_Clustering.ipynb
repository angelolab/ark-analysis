{
 "cells": [
  {
   "cell_type": "markdown",
   "id": "2a2fb446-2c56-4936-bd4f-00f936b23285",
   "metadata": {},
   "source": [
    "# Post-clustering tasks\n",
    "This notebook allows the user to inspect and fine-tune the output of the [clustering](https://github.com/angelolab/ark-analysis/blob/main/templates/3_Cluster_Cells.ipynb) notebook. There are two parts of this notebook. \n",
    "1. Clustering cleanup: If there are clusters that were not properly separated during Pixie cell clustering, this provides the option of defining manual thresholds based on marker intensity to combine or separate specific clusters\n",
    "2. Marker thresholding: For markers that were not directly used for clustering, but whose expression is important for phenotyping individual cells, this provides the user with visualization to determine accurate thresholds for positive/negative classification"
   ]
  },
  {
   "cell_type": "code",
   "execution_count": 1,
   "id": "94732e91-d7c8-4f7c-a94d-cee6139c8d6a",
   "metadata": {},
   "outputs": [],
   "source": [
    "# import needed libraries\n",
    "import os\n",
    "\n",
    "import numpy as np\n",
    "import pandas as pd\n",
    "\n",
    "from ark.phenotyping.post_cluster_utils import create_mantis_project, plot_hist_thresholds"
   ]
  },
  {
   "cell_type": "markdown",
   "id": "6893ee36-47f4-492d-a7ef-70708c77952a",
   "metadata": {},
   "source": [
    "## 0. Set variables\n",
    "* `testing_fovs`: a list of FOVs to use for evaluating the post-clustering tasks\n",
    "* `base_dir`: the path to all of your imaging data. Should be the same one used for the [cell clustering notebook](https://github.com/angelolab/ark-analysis/blob/main/templates_ark/3_Cluster_Cells.ipynb)\n",
    "* `cell_output_dir`: the path to the directory used for cell clustering\n",
    "* `cell_table_name`: the name of the cell table containing the cluster labels\n",
    "* `segmentation_dir`: the path to the directory containing the segmentation masks\n",
    "* `image_dir`: the path to the directory containing the image data"
   ]
  },
  {
   "cell_type": "code",
   "execution_count": 3,
   "id": "52bc223f-6e8d-4cae-a53d-2dca4b3c5c87",
   "metadata": {},
   "outputs": [],
   "source": [
    "# FOVs that will be used to evaluate accuracy\n",
    "testing_fovs = ['FOV1', 'FOV2']\n",
    "\n",
    "# paths\n",
    "base_dir = '../data/external/'\n",
    "cell_output_dir = os.path.join(base_dir, 'example_cell_output_doir')\n",
    "cell_table_name = 'combined_cell_table_normalized_cell_labels.csv'\n",
    "segmentation_dir = os.path.join(base_dir, 'deepcell_output')\n",
    "image_dir = os.path.join(base_dir, 'path_to_image_data')"
   ]
  },
  {
   "cell_type": "markdown",
   "id": "ec5cf527-baff-4667-a757-62513184a234",
   "metadata": {},
   "source": [
    "The following directories will be automatically created without any user input required"
   ]
  },
  {
   "cell_type": "code",
   "execution_count": 4,
   "id": "01308ac6-c939-482e-8751-2078a0122727",
   "metadata": {},
   "outputs": [],
   "source": [
    "# create directory to hold outputs\n",
    "post_cluster_dir = os.path.join(base_dir, 'post_clustering')\n",
    "if not os.path.exists(post_cluster_dir):\n",
    "    os.makedirs(post_cluster_dir)\n",
    "    \n",
    "# create directory to hold mantis masks\n",
    "mask_dir = os.path.join(post_cluster_dir, 'masks')\n",
    "if not os.path.exists(mask_dir):\n",
    "    os.makedirs(mask_dir)\n",
    "\n",
    "# create directory to hold full mantis output\n",
    "mantis_dir = os.path.join(post_cluster_dir, 'mantis')\n",
    "if not os.path.exists(mantis_dir):\n",
    "    os.makedirs(mantis_dir)\n",
    "    \n",
    "# read in cell table\n",
    "cell_table =  pd.read_csv(os.path.join(cell_output_dir, cell_table_name))"
   ]
  },
  {
   "cell_type": "markdown",
   "id": "74a4f3b4-b1cb-4f7e-b8eb-a980d80a3f00",
   "metadata": {},
   "source": [
    "## 1. Clustering Cleanup\n",
    "You may have noticed during the cell clustering process that certain populations need to be modfified/adjusted. This part of the notebook allows you to identify proportions of a given cell population to be reassigned to a different one. "
   ]
  },
  {
   "cell_type": "markdown",
   "id": "26c3cc59-2e08-4a5c-ae76-06c71c3b2f1c",
   "metadata": {},
   "source": [
    "### Identify thresholds for splitting problematic clusters\n",
    "The cell below will plot a histogram of marker expression across multiple cell population. This is useful for identifying an aproximate threshold which separates positive from negative expression. The first population(s) should be positive for the marker, with the subsequent populations negative. This can be then be used to pull out the subset of cells which express a given marker, but shouldn't, from an individual population\n",
    "\n",
    "* `populations`: list of clustering populations to use for plotting\n",
    "* `marker`: the channel whose expression will be used to determine problematic cells\n",
    "* `threshold`: value that will be plotted with a vertical line for visualization purposes to aid identification of the correct value"
   ]
  },
  {
   "cell_type": "code",
   "execution_count": 5,
   "id": "d6f06ccc-c1b2-4f22-a10c-b53d7203541c",
   "metadata": {},
   "outputs": [
    {
     "data": {
      "image/png": "[encoded data removed]",
      "text/plain": [
       "<Figure size 460.8x475.2 with 3 Axes>"
      ]
     },
     "metadata": {
      "needs_background": "light"
     },
     "output_type": "display_data"
    }
   ],
   "source": [
    "# This cell can be re-run to identify different thresholds and different populations that need adjusting\n",
    "populations = ['ck17_tumor', 'CD8T', 'CD4T']\n",
    "marker = 'ECAD'\n",
    "threshold = 0.001\n",
    "\n",
    "plot_hist_thresholds(cell_table=cell_table, populations=populations, marker=marker, threshold=threshold)"
   ]
  },
  {
   "cell_type": "markdown",
   "id": "13eeaba4-1632-4a1e-917b-5b5b3995463c",
   "metadata": {},
   "source": [
    "### Splitting problematic clusters\n",
    "Once you have an identified a threshold which does a good job of separating negative from positive cells, that threshold can be used to pull out specific cells from a population and reassign them. For example, the cell below identifies CD8T cells which express ECAD, and assigns them to a new population for manual inspection. You'll need to specify the following parameters:\n",
    "* `marker`: the marker used for separating cells, the same one that was used to generate the histograms above\n",
    "* `threshold`: the threshold for separating cells, can be identified using the threshold argument above or by visual inspection\n",
    "* `target_cluster`: the name of the cell_cluster that contains the contamination\n",
    "* `problematic_cluster`: the name of the new population that will be created based on the threshold\n",
    "\n",
    "This process of identifying thresholds and creating new populations can be repeated for each population where a problem was identified during the clustering process. We recommend making a copy of the cell below for each modification so that you have a record of what changes were made. "
   ]
  },
  {
   "cell_type": "code",
   "execution_count": 4,
   "id": "074cd479-e6ac-4b48-ba1a-8087133dab5f",
   "metadata": {},
   "outputs": [],
   "source": [
    "# The plots above indicate that 0.001 is a reasable threshold for separating ECAD+ cells. \n",
    "marker = 'ECAD'\n",
    "threshold = 0.001\n",
    "target_cluster = 'CD8T'\n",
    "problematic_cluster = 'CD8T_ECAD_high'\n",
    "\n",
    "# determine logic for thresholding; e.g. marker > threshold, marker <= threshold, or alternative logic\n",
    "selected_idx = cell_table[marker] > threshold\n",
    "\n",
    "# Create new column in cell table based on above\n",
    "cell_table.loc[np.logical_and(cell_table['cell_meta_cluster'] == target_cluster, selected_idx), 'cell_meta_cluster'] = problematic_cluster"
   ]
  },
  {
   "cell_type": "markdown",
   "id": "bc65eff3-d0ad-4abf-80b2-0945e821480a",
   "metadata": {},
   "source": [
    "### Manual inspection of problematic clusters with Mantis\n",
    "Once you've pulled out the problematic cells into new clusters, you'll need to visually inspect them to determine which cluster they belong to. The code below will create a directory to enable easy visualization with Mantis Viewer. See the [Mantis section of the README](../README.md#mantis-viewer) for an overview of how to use Mantis. You can then manually inspect each of the newly created clusters to determine what the true cell type is."
   ]
  },
  {
   "cell_type": "code",
   "execution_count": 12,
   "id": "4c9f1ecd-dc67-47c1-9f72-27ea0d893549",
   "metadata": {},
   "outputs": [],
   "source": [
    "# create directory that can be read into Mantis\n",
    "create_mantis_project(cell_table=cell_table, fovs=testing_fovs[1:], seg_dir=segmentation_dir, pop_col='cell_cluster', mask_dir=mask_dir,\n",
    "                          mantis_dir=mantis_dir, image_dir=image_dir)"
   ]
  },
  {
   "cell_type": "markdown",
   "id": "cd36a474-3e39-4e43-b179-16da29361bf6",
   "metadata": {},
   "source": [
    "### Determine final cluster assignment\n",
    "Once you've inspected each of the clusters, you'll need to decide what their final assignment should be. You can either merge them back in with their original cluster, combine them with a different existing cluster, or create a new cluster, depending on what you found after manual inspection."
   ]
  },
  {
   "cell_type": "code",
   "execution_count": 6,
   "id": "7f3d31ac-8309-4740-846b-49a7ea94f369",
   "metadata": {},
   "outputs": [],
   "source": [
    "# set names of problematic cluster and new cluster\n",
    "problematic_cluster = 'CD8T_ECAD_high'\n",
    "final_assignment = 'tumor'\n",
    "\n",
    "# assign problematic cluster new name\n",
    "cell_table.loc[cell_table['cell_meta_cluster'] == problematic_cluster, 'cell_meta_cluster'] = final_assignment"
   ]
  },
  {
   "cell_type": "code",
   "execution_count": 7,
   "id": "363d9b96-5b02-4cbd-a6d3-1e0963292a51",
   "metadata": {},
   "outputs": [],
   "source": [
    "# Save the updated cell table\n",
    "cell_table.to_csv(os.path.join(post_cluster_dir, 'updated_cell_table.csv'))"
   ]
  },
  {
   "cell_type": "markdown",
   "id": "ded3c307-b2be-42b7-a4eb-91e8837a0c37",
   "metadata": {},
   "source": [
    "## 2. Marker thresholding\n",
    "For markers like Ki67 or PD1, we generally don't include them in the clustering process. Intead, following clustering, we score each cell as positive or negative for these \"functional markers.\" This requires picking a threshold for each marker to determine positivity and negativity. Looking directly at the histograms can be useful for getting a general range for where the threshold lies, but picking a specific threshold based only on the histogram can be challenging. Instead, what is often most useful is simply looking at images to determine the specific cutoff value."
   ]
  },
  {
   "cell_type": "markdown",
   "id": "ee0bba4e-07d1-457a-b025-a4b013a5e44e",
   "metadata": {},
   "source": [
    "### Set up variables\n",
    "To evaluate the marker levels, we use the modified cell table from the previous step. In addition, we select which markers need to be thresholded"
   ]
  },
  {
   "cell_type": "code",
   "execution_count": 6,
   "id": "b1f2a1a1-28fe-4386-9b7b-e78579210736",
   "metadata": {},
   "outputs": [],
   "source": [
    "# load modified cell table\n",
    "cell_table = pd.read_csv(os.path.join(post_cluster_dir, 'updated_cell_table.csv'))\n",
    "\n",
    "# specify functional markers that need to be thresholded\n",
    "functional_markers = ['PD1', 'Ki67', 'GLUT1']"
   ]
  },
  {
   "cell_type": "markdown",
   "id": "2d570e61-1852-4048-b8cd-c4f62a9d21a8",
   "metadata": {},
   "source": [
    "### Create Mantis project with functional marker counts\n",
    "To identify the appropriate threshold, we will include the counts of the markers in the mantis directory. The code below will include the specified functional markers for mantis to view"
   ]
  },
  {
   "cell_type": "code",
   "execution_count": 15,
   "id": "52cec373-71cf-418a-a16b-a2bacfdf5d04",
   "metadata": {},
   "outputs": [],
   "source": [
    "# create directory that can be read into Mantis\n",
    "create_mantis_project(cell_table=cell_table, fovs=testing_fovs, seg_dir=segmentation_dir, pop_col='cell_meta_cluster', mask_dir=mask_dir,\n",
    "                      mantis_dir=mantis_dir, image_dir=image_dir)\n",
    "\n",
    "# create dataframe with counts of the specified markers\n",
    "marker_counts_df = cell_table.loc[np.isin(cell_table['fov'], testing_fovs), ['fov', 'label'] + functional_markers]\n",
    "\n",
    "# save dataframe\n",
    "marker_counts_df.to_csv(os.path.join(mantis_dir, 'marker_counts.csv'), index=False)"
   ]
  },
  {
   "cell_type": "markdown",
   "id": "f74cbe10-4160-482d-a75d-4f38919d4471",
   "metadata": {},
   "source": [
    "### Identify plausible range for a given marker threshold\n",
    "To get a rough idea of what range works for a given functional marker, we can plot its expression across cell types that we do, and do not, expect to be positive for it"
   ]
  },
  {
   "cell_type": "code",
   "execution_count": 10,
   "id": "a70d705c-a89d-4e92-a0bd-fb60442784f1",
   "metadata": {},
   "outputs": [
    {
     "data": {
      "image/png": "[encoded data removed]",
      "text/plain": [
       "<Figure size 460.8x475.2 with 3 Axes>"
      ]
     },
     "metadata": {
      "needs_background": "light"
     },
     "output_type": "display_data"
    }
   ],
   "source": [
    "# This cell can be re-run to identify different thresholds across different functional markers\n",
    "populations = ['CD8T', 'CD4T', 'ck17_tumor']\n",
    "marker = 'Ki67'\n",
    "threshold = 0.002\n",
    "\n",
    "plot_hist_thresholds(cell_table=cell_table, populations=populations, marker=marker, threshold=threshold)"
   ]
  },
  {
   "cell_type": "markdown",
   "id": "fe9c4fd5-ad0a-4645-b1f6-e0e89001d194",
   "metadata": {},
   "source": [
    "### Manually inspect images to confirm\n",
    "Once you've identified a plausible threshold for the specified marker, it's time to look at the images in Mantis. In each image, identify the cells that are positive for the specified marker, and determine what their expression level is. Then, do the same thing for the cells that are negative for the marker. By performing this across a representative range of images, it is straightforward to come up with an estimate of what threshold accurately descriminates between positive and negative cells. You'll need to first [load the marker_counts.csv file](../README.md#loading_project_wide_files) into Mantis. Then, once it's been loaded, you can [view the expression](../README.md#view_cell_features) of the specified marker for the cells in the image. "
   ]
  },
  {
   "cell_type": "markdown",
   "id": "26d65ba1-4510-4e31-9664-dd68c0f7c80e",
   "metadata": {},
   "source": [
    "### Record threshold values\n",
    "After manual inspection, you'll need to record the value you selected as a threshold for each marker. Fill in the list below with the values you selected, adding additional brackets as necessary for all of the markers you wish to annotate"
   ]
  },
  {
   "cell_type": "code",
   "execution_count": 13,
   "id": "9ffe19ba-b330-48df-b0fd-7e61efb280f6",
   "metadata": {},
   "outputs": [],
   "source": [
    "# create list to hold all functional marker, value pairs\n",
    "threshold_list = [['PD1', 0.0005], ['Ki67', 0.002], ['GLUT1', 0.002]]"
   ]
  },
  {
   "cell_type": "markdown",
   "id": "122cd78b-a739-4f43-91f6-b99b71614791",
   "metadata": {},
   "source": [
    "### Update cell table\n",
    "Finally, you'll update your cell table with the thresholded values. The code below will add a new column named `{marker}_threshold` for each of the indicated marker, with a value of `True` if it's greater than or equal to the threshold, and a value of `False` otherwise."
   ]
  },
  {
   "cell_type": "code",
   "execution_count": 14,
   "id": "c24ba9cf-a1c8-4005-b1ad-67986173c6c9",
   "metadata": {},
   "outputs": [],
   "source": [
    "# add columns to cell table\n",
    "for marker, threshold in threshold_list:\n",
    "    cell_table[marker + '_threshold'] = cell_table[marker].values >= threshold\n",
    "\n",
    "# save thresholded cell table\n",
    "cell_table.to_csv(os.path.join(post_cluster_dir, 'cell_table_thresholded.csv'))"
   ]
  }
 ],
 "metadata": {
  "kernelspec": {
   "display_name": "Python 3 (ipykernel)",
   "language": "python",
   "name": "python3"
  },
  "language_info": {
   "codemirror_mode": {
    "name": "ipython",
    "version": 3
   },
   "file_extension": ".py",
   "mimetype": "text/x-python",
   "name": "python",
   "nbconvert_exporter": "python",
   "pygments_lexer": "ipython3",
   "version": "3.8.13"
  }
 },
 "nbformat": 4,
 "nbformat_minor": 5
}
