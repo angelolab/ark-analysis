{
 "cells": [
  {
   "cell_type": "markdown",
   "metadata": {},
   "source": [
    "### This is a notebook to run the preprocessing pipeline prior to uploading your TIFs to deepcell"
   ]
  },
  {
   "cell_type": "code",
   "execution_count": null,
   "metadata": {
    "tags": []
   },
   "outputs": [],
   "source": [
    "# import required packages\n",
    "import os\n",
    "import skimage.io as io\n",
    "\n",
    "from ark.utils import data_utils, io_utils"
   ]
  },
  {
   "cell_type": "markdown",
   "metadata": {},
   "source": [
    "### <span style=\"color:#ff0000\"> All data, images, files, etc. must be placed in the 'data' directory, and referenced via '../data/path_to_your_data' regardless of if it's input or output. </span>"
   ]
  },
  {
   "cell_type": "code",
   "execution_count": null,
   "metadata": {},
   "outputs": [],
   "source": [
    "# load TIFs from GUI-based directory structure\n",
    "data_dir = \"../data/example_dataset/input_data/\"\n",
    "tiff_dir = os.path.join(data_dir, \"single_channel_inputs/\")\n",
    "deepcell_dir = os.path.join(data_dir, \"deepcell_input/\")\n",
    "\n",
    "# set this to true for multi-channel tiffs\n",
    "MIBItiff = False\n",
    "\n",
    "# data file suffix for low-level processed data\n",
    "# only needed for MIBItiff = True\n",
    "MIBItiff_suffix = \"-MassCorrected-Filtered.tiff\"\n",
    "\n",
    "# nuclear channel name(s) (or nucs = None)\n",
    "nucs = ['HH3']\n",
    "\n",
    "# membrane channel name(s) (or mems = None)\n",
    "mems = ['Membrane']\n",
    "\n",
    "# validate data_dir\n",
    "io_utils.validate_paths([data_dir,\n",
    "                         tiff_dir,\n",
    "                         deepcell_dir,\n",
    "                         ])\n"
   ]
  },
  {
   "cell_type": "markdown",
   "metadata": {},
   "source": [
    "### compute and filter point paths"
   ]
  },
  {
   "cell_type": "code",
   "execution_count": null,
   "metadata": {
    "tags": []
   },
   "outputs": [],
   "source": [
    "# either get all points in the folder...\n",
    "if MIBItiff:\n",
    "    points = io_utils.list_files(tiff_dir, substrs=MIBItiff_suffix)\n",
    "else:\n",
    "    points = io_utils.list_folders(tiff_dir)\n",
    "\n",
    "# ... or optionally, select a specific set of points manually\n",
    "# points = [\"Point1\", \"Point2\"]\n",
    "\n",
    "# TODO: MIBItiff manual selection"
   ]
  },
  {
   "cell_type": "markdown",
   "metadata": {},
   "source": [
    "### load images into notebook, process, and save as deepcell compatable input"
   ]
  },
  {
   "cell_type": "code",
   "execution_count": null,
   "metadata": {},
   "outputs": [],
   "source": [
    "# load channels to be included in deepcell data\n",
    "channels = (nucs if nucs else []) + (mems if mems else [])\n",
    "\n",
    "# filter channels for None (just in case)\n",
    "channels = [channel for channel in channels if channel is not None]\n",
    "\n",
    "if MIBItiff:\n",
    "    data_xr = data_utils.load_imgs_from_mibitiff(tiff_dir, mibitiff_files=points, channels=channels)\n",
    "else:\n",
    "    data_xr = data_utils.load_imgs_from_tree(tiff_dir, img_sub_folder=\"TIFs\", fovs=points, channels=channels)\n",
    "\n",
    "# generate and save deepcell input tifs\n",
    "data_utils.generate_deepcell_input(data_xr, deepcell_dir, nucs, mems)"
   ]
  },
  {
   "cell_type": "markdown",
   "metadata": {},
   "source": [
    "## Deepcell upload instructions\n",
    "\n",
    "Once your deepcell input images have been generated, zip all of your input images into a .zip file.\n",
    "\n",
    "Navigate to [deepcell.org](https://deepcell.org) and select the 'PREDICT' option.\n",
    "\n",
    "Under 'Job Type' select 'Multiplex'.  Then upload your .zip file, and press 'SUBMIT' to begin segmentation."
   ]
  }
 ],
 "metadata": {
  "kernelspec": {
   "display_name": "Python 3",
   "language": "python",
   "name": "python3"
  },
  "language_info": {
   "codemirror_mode": {
    "name": "ipython",
    "version": 3
   },
   "file_extension": ".py",
   "mimetype": "text/x-python",
   "name": "python",
   "nbconvert_exporter": "python",
   "pygments_lexer": "ipython3",
   "version": "3.7.3"
  }
 },
 "nbformat": 4,
 "nbformat_minor": 2
}
