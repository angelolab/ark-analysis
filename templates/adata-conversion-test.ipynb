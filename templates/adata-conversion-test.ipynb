{
 "cells": [
  {
   "cell_type": "markdown",
   "id": "5b6d285c66f28b71",
   "metadata": {
    "collapsed": false
   },
   "source": [
    "# `AnnData` Conversion Design Document Part 2"
   ]
  },
  {
   "cell_type": "markdown",
   "id": "17dd87462f8b7d08",
   "metadata": {
    "collapsed": false
   },
   "source": [
    "## Relevant Background\n",
    "\n",
    "The purpose of this design document is to provide guidelines and generate ideas for an in-depth implementation of `AnnData`. It differs to angelolab/ark-analysis#1073, in where that was a high level overview on *why*. Here we will discuss *how* we will transition to this format."
   ]
  },
  {
   "cell_type": "markdown",
   "id": "12b47ac92bec31f4",
   "metadata": {
    "collapsed": false
   },
   "source": [
    "## Design Overview / Code Walkthrough\n",
    "\n",
    "Currently, we have decided to transition `AnnData` after Notebook 4, as it's a good point to get our feet wet without rewriting a large chunk of `Ark`.\n",
    "\n",
    "Let's consider all the data associated with single FOV from the Example Dataset, FOV 0.\n",
    "\n",
    "FOV 0 is $512px \\times 512px$ image, consisting of $669$ individual cells.\n",
    "\n",
    "We will walk through converting a majority of the data associated with FOV 0 to an `AnnData` table, as it's easiest to understand the conversion process by walking through a concrete example.\n",
    "\n",
    "You will need to run the following notebooks beforehand:\n",
    "- Calculate Mixing Scores\n",
    "- Cell Neighbors Analysis\n",
    "- Example Fiber Segmentation\n",
    "- Example Neighborhood Analysis"
   ]
  },
  {
   "cell_type": "markdown",
   "id": "abd2264299ef42ab",
   "metadata": {
    "collapsed": false
   },
   "source": [
    "Let's get the following packages installed:\n",
    "- [`AnnData`](https://anndata.readthedocs.io/en/latest/)\n",
    "- [`Dask`](https://www.dask.org/)\n",
    "- [`Ray`](https://docs.ray.io/en/master/index) *optional*, only used here to provide a superior scheduler for `Dask`"
   ]
  },
  {
   "cell_type": "code",
   "execution_count": null,
   "id": "61f81712602baecc",
   "metadata": {
    "ExecuteTime": {
     "end_time": "2023-10-20T23:39:18.615462Z",
     "start_time": "2023-10-20T23:39:15.225958Z"
    },
    "collapsed": false
   },
   "outputs": [],
   "source": [
    "%pip install dask[\"distributed\"] anndata"
   ]
  },
  {
   "cell_type": "code",
   "execution_count": null,
   "id": "3fec0d25",
   "metadata": {},
   "outputs": [],
   "source": [
    "%pip install ray[\"serve\"] # optional"
   ]
  },
  {
   "cell_type": "markdown",
   "id": "a11e4886",
   "metadata": {},
   "source": [
    "Import packages, set up a local `Dask` cluster and get the example data."
   ]
  },
  {
   "cell_type": "code",
   "execution_count": null,
   "id": "5a5f3232-561e-4cd6-911e-e31f2e9e2b45",
   "metadata": {
    "ExecuteTime": {
     "end_time": "2023-10-20T17:11:41.779182Z",
     "start_time": "2023-10-20T17:11:39.628993Z"
    },
    "execution": {
     "iopub.execute_input": "2023-10-19T23:27:22.092733Z",
     "iopub.status.busy": "2023-10-19T23:27:22.091024Z",
     "iopub.status.idle": "2023-10-19T23:27:22.103333Z",
     "shell.execute_reply": "2023-10-19T23:27:22.101850Z",
     "shell.execute_reply.started": "2023-10-19T23:27:22.092701Z"
    }
   },
   "outputs": [],
   "source": [
    "from pathlib import Path\n",
    "import pandas as pd\n",
    "from anndata import AnnData\n",
    "from dask import dataframe as dd\n",
    "from dask.distributed import Client\n",
    "from ray.util.dask import enable_dask_on_ray"
   ]
  },
  {
   "cell_type": "code",
   "execution_count": null,
   "id": "065ca108",
   "metadata": {},
   "outputs": [],
   "source": [
    "enable_dask_on_ray() # optional"
   ]
  },
  {
   "cell_type": "code",
   "execution_count": null,
   "id": "836599af",
   "metadata": {},
   "outputs": [],
   "source": [
    "Client(n_workers=10, threads_per_worker=2)"
   ]
  },
  {
   "cell_type": "code",
   "execution_count": null,
   "id": "7c24696849147913",
   "metadata": {
    "ExecuteTime": {
     "end_time": "2023-10-20T17:11:43.145968Z",
     "start_time": "2023-10-20T17:11:42.565028Z"
    },
    "collapsed": false
   },
   "outputs": [],
   "source": [
    "from ark.utils.example_dataset import get_example_dataset"
   ]
  },
  {
   "cell_type": "code",
   "execution_count": null,
   "id": "b88d3412957db377",
   "metadata": {
    "ExecuteTime": {
     "end_time": "2023-10-20T17:11:44.656300Z",
     "start_time": "2023-10-20T17:11:43.147517Z"
    },
    "collapsed": false
   },
   "outputs": [],
   "source": [
    "base_dir = Path(\"../data/example_dataset\")\n",
    "\n",
    "get_example_dataset(dataset=\"post_clustering\", save_dir=base_dir, overwrite_existing=True)"
   ]
  },
  {
   "cell_type": "markdown",
   "id": "3579b3ba",
   "metadata": {},
   "source": [
    "### Cell Table (Post Notebook 4)\n",
    "\n",
    "The `cell_table_size_normalized_cell_labels.csv` houses the following information\n",
    "\n",
    "For each cell we have the following types of metrics:\n",
    "- `label`: The unique segmentation label for each cell, (`integer`)\n",
    "- `markers`: The intensity of each marker for each cell, (`float`), specifically the following markers:\n",
    "    - CD14, CD163, CD20, CD3, CD31, CD4, CD45,\n",
    "      CD68, CD8, CK17, Collagen1, ECAD, Fibronectin, GLUT1,\n",
    "      H3K27me3, H3K9ac, HLADR, IDO, Ki67, PD1, SMA, Vim\n",
    "- `region properties`: This consists of physical metadata or measurements of each cell, (`int`, `float`), specifically the following:\n",
    "    - `cell_size`, `area`, `eccentricity`, `major_axis_length`,\n",
    "      `minor_axis_length`, `perimeter`, `convex_area`, `equivalent_diameter`,\n",
    "      `centroid-0`, `centroid-1`, `major_minor_axis_ratio`,\n",
    "      `perim_square_over_area`, `major_axis_equiv_diam_ratio`,\n",
    "      `convex_hull_resid`, `centroid_dif`, `num_concavities`\n",
    "- `fov`: A unique identifier for the FOV, (`str`)\n",
    "    - In this case it would be `\"fov0\"`.\n",
    "- `cell_meta_cluster`: A classification for the cell (`str`), in the example dataset we have:\n",
    "    - CD4T, CD8T, CD14_monocyte, Bcell, other, M2_macrophage, immune_other, M1_macrophage, APC, stroma, endothelium, Myofibroblast, tumor_ck17, tumor_ecad\n",
    "\n",
    "\n",
    "To convert these to `AnnData` components we have:\n",
    "- `X`: The values for the `markers`\n",
    "- `obs`: Houses `region properties`, `fov`, `cell_meta_cluster`, `labels`\n",
    "- `var_names`: The name of the `markers` (channel names)\n",
    "- `obs_names`: The cell `label` IDs\n",
    "\n",
    "Since we also have transformations ($\\tt{arcsinh}$) of the cell-by-markers matrix, we should add those in as an additional `layer` for `X`.\n",
    "\n",
    "We will use `Dask` `DataFrames` to build up a computation graph and only execute it when needed."
   ]
  },
  {
   "cell_type": "code",
   "execution_count": null,
   "id": "b32380bd-c165-4fbf-82ed-79aad39aa754",
   "metadata": {
    "ExecuteTime": {
     "end_time": "2023-10-20T17:11:46.869443Z",
     "start_time": "2023-10-20T17:11:46.657282Z"
    },
    "execution": {
     "iopub.execute_input": "2023-10-19T23:28:30.894391Z",
     "iopub.status.busy": "2023-10-19T23:28:30.893265Z",
     "iopub.status.idle": "2023-10-19T23:28:30.968068Z",
     "shell.execute_reply": "2023-10-19T23:28:30.967787Z",
     "shell.execute_reply.started": "2023-10-19T23:28:30.893893Z"
    }
   },
   "outputs": [],
   "source": [
    "# Load the size normalized cell table with post-pixie clusters\n",
    "fov0_cell_table_n = dd.read_csv(\n",
    "    base_dir / \"segmentation/cell_table/cell_table_size_normalized_cell_labels.csv\").query(\"fov == 'fov0'\").compute()\n",
    "\n",
    "# Load the arcsinh transformed cell table (no cluster information in this one from the example dataset)\n",
    "fov0_cell_table_a = dd.read_csv(base_dir / \"segmentation/cell_table/cell_table_arcsinh_transformed.csv\").query(\"fov == 'fov0'\").compute()"
   ]
  },
  {
   "cell_type": "markdown",
   "id": "59551dc7",
   "metadata": {},
   "source": [
    "Subset the cell tables to only extract the channels for `var`."
   ]
  },
  {
   "cell_type": "code",
   "execution_count": null,
   "id": "443e734d29325888",
   "metadata": {
    "ExecuteTime": {
     "end_time": "2023-10-20T17:11:50.798653Z",
     "start_time": "2023-10-20T17:11:50.795993Z"
    },
    "collapsed": false
   },
   "outputs": [],
   "source": [
    "var_names = [\"CD14\", \"CD163\", \"CD20\", \"CD3\", \"CD31\", \"CD4\", \"CD45\", \"CD68\", \"CD8\", \"CK17\", \"Collagen1\", \"ECAD\",\n",
    "             \"Fibronectin\", \"GLUT1\", \"H3K27me3\", \"H3K9ac\", \"HLADR\", \"IDO\", \"Ki67\", \"PD1\", \"SMA\", \"Vim\"]"
   ]
  },
  {
   "cell_type": "code",
   "execution_count": null,
   "id": "b3d70827-1521-492b-8896-c6b178f0679f",
   "metadata": {
    "ExecuteTime": {
     "end_time": "2023-10-20T17:11:51.155583Z",
     "start_time": "2023-10-20T17:11:51.153905Z"
    }
   },
   "outputs": [],
   "source": [
    "X_n = fov0_cell_table_n[var_names]\n",
    "X_a = fov0_cell_table_a[var_names]"
   ]
  },
  {
   "cell_type": "markdown",
   "id": "d974173e",
   "metadata": {},
   "source": [
    "Subset the cell tables to only extract the properties for `obs`."
   ]
  },
  {
   "cell_type": "code",
   "execution_count": null,
   "id": "c2a362c7d6f77e83",
   "metadata": {
    "ExecuteTime": {
     "end_time": "2023-10-20T17:11:52.593899Z",
     "start_time": "2023-10-20T17:11:52.584281Z"
    },
    "collapsed": false
   },
   "outputs": [],
   "source": [
    "obs_cols = [\"cell_size\", \"label\", \"area\", \"eccentricity\", \"major_axis_length\",\n",
    "            \"minor_axis_length\", \"perimeter\", \"convex_area\", \"equivalent_diameter\",\n",
    "            \"centroid-0\", \"centroid-1\", \"major_minor_axis_ratio\",\n",
    "            \"perim_square_over_area\", \"major_axis_equiv_diam_ratio\",\n",
    "            \"convex_hull_resid\", \"centroid_dif\", \"num_concavities\", \"fov\",\n",
    "            \"cell_meta_cluster\"]"
   ]
  },
  {
   "cell_type": "code",
   "execution_count": null,
   "id": "f1aa2e4dc0be0d36",
   "metadata": {
    "ExecuteTime": {
     "end_time": "2023-10-20T17:11:53.027826Z",
     "start_time": "2023-10-20T17:11:53.024398Z"
    },
    "collapsed": false
   },
   "outputs": [],
   "source": [
    "obs = fov0_cell_table_n[obs_cols].copy()\n",
    "obs[\"label\"] = obs[\"label\"].astype(int)\n",
    "\n",
    "\n",
    "# So Pandas defaults to PyArrow when it assumes it can for strings. \n",
    "# And this causes issues when saving the AnnData as a Zarr Store.\n",
    "# You can convert the PyArrow string columns to str and that'll fix it.\n",
    "obs[\"cell_meta_cluster\"] = obs[\"cell_meta_cluster\"].astype(str)\n",
    "obs[\"fov\"] = obs[\"fov\"].astype(str)"
   ]
  },
  {
   "cell_type": "markdown",
   "id": "e0c96e37",
   "metadata": {},
   "source": [
    "Make sure to use Categorical `Dtypes` as they provide very efficient indexing / sub-setting for well, categorical properties."
   ]
  },
  {
   "cell_type": "code",
   "execution_count": null,
   "id": "cd8f9185b13063e1",
   "metadata": {
    "ExecuteTime": {
     "end_time": "2023-10-20T17:11:53.845302Z",
     "start_time": "2023-10-20T17:11:53.835001Z"
    },
    "collapsed": false
   },
   "outputs": [],
   "source": [
    "obs[\"cell_meta_cluster\"] = pd.Categorical(obs[\"cell_meta_cluster\"])\n",
    "obs_names = obs[\"label\"].astype(int).to_list()\n",
    "obs[\"cell_meta_cluster\"].dtype"
   ]
  },
  {
   "cell_type": "markdown",
   "id": "c50db3ab",
   "metadata": {},
   "source": [
    "Here we create the `AnnData` object with `X`, `obs` and the $\\tt arcsinh$ transformation of `X`. You might see the following warning `ImplicitModificationWarning`, where it converts the current index (usually an integer) to a string.\n",
    "\n",
    "The `layers` parameter is a mapping from a string key to a matrix of the same shape as `X`, representing the same data just transformed by an operation, linear or otherwise. You can have multiple layers as well."
   ]
  },
  {
   "cell_type": "code",
   "execution_count": null,
   "id": "a94045e9433f256e",
   "metadata": {
    "ExecuteTime": {
     "end_time": "2023-10-20T17:11:54.427412Z",
     "start_time": "2023-10-20T17:11:54.414853Z"
    },
    "collapsed": false
   },
   "outputs": [],
   "source": [
    "fov0_adata = AnnData(X=X_n, obs=obs, layers={\"arcsinh\": X_a})"
   ]
  },
  {
   "cell_type": "markdown",
   "id": "fdb1ac54",
   "metadata": {},
   "source": [
    "`X` gets saved as a NumPy `NDArray`."
   ]
  },
  {
   "cell_type": "code",
   "execution_count": null,
   "id": "b896a94d",
   "metadata": {},
   "outputs": [],
   "source": [
    "type(fov0_adata.X)"
   ]
  },
  {
   "cell_type": "markdown",
   "id": "d56259b8",
   "metadata": {},
   "source": [
    "We can view `X` as a `DataFrame` by using the `to_df()` method."
   ]
  },
  {
   "cell_type": "code",
   "execution_count": null,
   "id": "f9482c2922abcbdc",
   "metadata": {
    "ExecuteTime": {
     "end_time": "2023-10-20T17:11:54.824461Z",
     "start_time": "2023-10-20T17:11:54.811020Z"
    },
    "collapsed": false
   },
   "outputs": [],
   "source": [
    "fov0_adata.to_df()"
   ]
  },
  {
   "cell_type": "markdown",
   "id": "af15a5b0",
   "metadata": {},
   "source": [
    "Since we created that layer in the initialization of `fov0_adata`, we can also view it's `DataFrame` representation of `X`."
   ]
  },
  {
   "cell_type": "code",
   "execution_count": null,
   "id": "10f35a611e232798",
   "metadata": {
    "ExecuteTime": {
     "end_time": "2023-10-20T17:11:55.735303Z",
     "start_time": "2023-10-20T17:11:55.726286Z"
    },
    "collapsed": false
   },
   "outputs": [],
   "source": [
    "fov0_adata.to_df(layer=\"arcsinh\")"
   ]
  },
  {
   "cell_type": "markdown",
   "id": "6e099e89",
   "metadata": {},
   "source": [
    "#### Additional Components for `SquidPy` Support"
   ]
  },
  {
   "cell_type": "markdown",
   "id": "d0179abb",
   "metadata": {},
   "source": [
    "If we want to make use of `SquidPy`'s Spatial Analysis tools, we need to add the following components to our `AnnData` object:\n",
    "- `spatial_key`: Several functions in `SquidPy` make use of this key to identify the spatial coordinates of each cell ($X$, $Y$). This key lives in `obsm` and is a 2D matrix of shape $n_{obs} \\times 2$.\n",
    "  - For an example function see [`gr.spatial_neighbors`](https://squidpy.readthedocs.io/en/stable/api/squidpy.gr.spatial_neighbors.html)\n",
    "\n",
    "We will also rename the `Centroid 0` and `Centroid 1` columns to something more meaningful to demonstrate modifying an `AnnData` object."
   ]
  },
  {
   "cell_type": "code",
   "execution_count": null,
   "id": "23db144b",
   "metadata": {},
   "outputs": [],
   "source": [
    "# An `obs` component is just a DataFrame\n",
    "type(fov0_adata.obs)"
   ]
  },
  {
   "cell_type": "code",
   "execution_count": null,
   "id": "ffebbe2f",
   "metadata": {},
   "outputs": [],
   "source": [
    "fov0_adata.obs.rename(columns={\"centroid-0\": \"Centroid X\", \"centroid-1\": \"Centroid Y\" }, inplace=True)"
   ]
  },
  {
   "cell_type": "code",
   "execution_count": null,
   "id": "cae36302",
   "metadata": {},
   "outputs": [],
   "source": [
    "# View the `obs` table with modified column names\n",
    "fov0_adata.obs"
   ]
  },
  {
   "cell_type": "code",
   "execution_count": null,
   "id": "ec1ce6b3",
   "metadata": {},
   "outputs": [],
   "source": [
    "spatial_x_y = fov0_adata.obs[[\"Centroid X\", \"Centroid Y\"]]\n",
    "fov0_adata.obsm[\"spatial\"] = spatial_x_y"
   ]
  },
  {
   "cell_type": "code",
   "execution_count": null,
   "id": "43785a3c",
   "metadata": {},
   "outputs": [],
   "source": [
    "fov0_adata.obsm[\"spatial\"].shape"
   ]
  },
  {
   "cell_type": "markdown",
   "id": "7b7eb62c9360859c",
   "metadata": {
    "collapsed": false
   },
   "source": [
    "### Spatial Analysis Components"
   ]
  },
  {
   "cell_type": "markdown",
   "id": "76605e8c",
   "metadata": {},
   "source": [
    "Here we will discuss how to convert many (not all) of the spatial analysis results to `AnnData` components.\n",
    "\n"
   ]
  },
  {
   "cell_type": "markdown",
   "id": "92ba77b3",
   "metadata": {},
   "source": [
    "#### Distance Matrices\n",
    "\n",
    "The distance matrices get saved as a `netcdf3` file, which can be loaded in with `xarray`."
   ]
  },
  {
   "cell_type": "code",
   "execution_count": null,
   "id": "e454adaac561074b",
   "metadata": {
    "ExecuteTime": {
     "end_time": "2023-10-20T17:11:59.428906Z",
     "start_time": "2023-10-20T17:11:59.355791Z"
    },
    "collapsed": false
   },
   "outputs": [],
   "source": [
    "import xarray as xr\n",
    "\n",
    "fov0_distances_xr = xr.open_dataarray(base_dir / \"spatial_analysis/dist_mats/fov0_dist_mat.xr\",\n",
    "                                      chunks=\"auto\", chunked_array_type=\"dask\")"
   ]
  },
  {
   "cell_type": "code",
   "execution_count": null,
   "id": "8fbe4dc7bd9bf922",
   "metadata": {
    "ExecuteTime": {
     "end_time": "2023-10-20T17:11:59.939683Z",
     "start_time": "2023-10-20T17:11:59.895779Z"
    },
    "collapsed": false
   },
   "outputs": [],
   "source": [
    "fov0_distances_xr"
   ]
  },
  {
   "cell_type": "markdown",
   "id": "915e0ba885313297",
   "metadata": {
    "collapsed": false
   },
   "source": [
    "The shape of the distance matrix for FOV 0 is $669 \\times 669$, which we can generalize to of `n_obs` $\\times$ `n_obs`.\n",
    "\n",
    "We can extract the underlying NumPy array from the `xarray.DataArray` with the `.data` attribute.\n",
    "\n",
    "A quick sidenote on [`.data`](https://docs.xarray.dev/en/stable/generated/xarray.DataArray.data.html), it preserves the underlying array type, be it a Dask Array, in memory NumPy array, SciPy sparse array, or a CuPy GPU Array.\n",
    "\n",
    "\n",
    "`obsp` is a container to store pairwise annotations of observations, so, the pairwise distances should be stored here. We'll use the key `\"distance\"` for now to identify the distance matrix.\n",
    "\n"
   ]
  },
  {
   "cell_type": "code",
   "execution_count": null,
   "id": "71ac74418b89d3ae",
   "metadata": {
    "ExecuteTime": {
     "end_time": "2023-10-20T17:12:03.564866Z",
     "start_time": "2023-10-20T17:12:03.553817Z"
    },
    "collapsed": false
   },
   "outputs": [],
   "source": [
    "fov0_adata.obsp[\"distance\"] = fov0_distances_xr.data"
   ]
  },
  {
   "cell_type": "code",
   "execution_count": null,
   "id": "c33c5ce0c23c680f",
   "metadata": {
    "ExecuteTime": {
     "end_time": "2023-10-20T17:12:04.008046Z",
     "start_time": "2023-10-20T17:12:03.909969Z"
    },
    "collapsed": false
   },
   "outputs": [],
   "source": [
    "fov0_adata.obsp[\"distance\"].compute()"
   ]
  },
  {
   "cell_type": "markdown",
   "id": "d3695989",
   "metadata": {},
   "source": [
    "We can view the current `AnnData` object with the newly added `\"distance\"` attribute for `obsp`."
   ]
  },
  {
   "cell_type": "code",
   "execution_count": null,
   "id": "cf953f3f35d9b23b",
   "metadata": {
    "ExecuteTime": {
     "end_time": "2023-10-20T17:12:10.301381Z",
     "start_time": "2023-10-20T17:12:10.279341Z"
    },
    "collapsed": false
   },
   "outputs": [],
   "source": [
    "fov0_adata"
   ]
  },
  {
   "cell_type": "markdown",
   "id": "7dc5d887",
   "metadata": {},
   "source": [
    "The neighborhood counts and frequencies are stored in the following files:\n",
    "- `neighborhood_counts-cell_meta_cluster_radius50.csv`\n",
    "- `neighborhood_freqs-cell_meta_cluster_radius50.csv`\n",
    "\n",
    "We subset on those associated with FOV 0 and extract only the unique `cell_meta_cluster` labels. This gives us the following:\n",
    "\n",
    "The shapes would be `n_cell_meta_cluster` $\\times$ `n_cell_meta_cluster` which is square, but doesn't fit in with any of the other `AnnData` specs for storing pairwise information. These would be stored in `uns`."
   ]
  },
  {
   "cell_type": "code",
   "execution_count": null,
   "id": "a2b088d70c2d220f",
   "metadata": {
    "ExecuteTime": {
     "end_time": "2023-10-20T17:12:11.529028Z",
     "start_time": "2023-10-20T17:12:11.505621Z"
    },
    "collapsed": false
   },
   "outputs": [],
   "source": [
    "neighborhood_counts = dd.read_csv(\n",
    "    base_dir / \"spatial_analysis/neighborhood_mats/neighborhood_counts-cell_meta_cluster_radius50.csv\")\n",
    "\n",
    "neighborhood_freqs = dd.read_csv(\n",
    "    base_dir / \"spatial_analysis/neighborhood_mats/neighborhood_freqs-cell_meta_cluster_radius50.csv\")"
   ]
  },
  {
   "cell_type": "code",
   "execution_count": null,
   "id": "3bbd4c0bdab169f9",
   "metadata": {
    "ExecuteTime": {
     "end_time": "2023-10-20T17:12:13.800342Z",
     "start_time": "2023-10-20T17:12:13.725817Z"
    },
    "collapsed": false
   },
   "outputs": [],
   "source": [
    "fov0_nc = neighborhood_counts[neighborhood_counts[\"fov\"] == \"fov0\"].compute()\n",
    "fov0_nf = neighborhood_freqs[neighborhood_freqs[\"fov\"] == \"fov0\"].compute()"
   ]
  },
  {
   "cell_type": "code",
   "execution_count": null,
   "id": "9990379d6478955d",
   "metadata": {
    "ExecuteTime": {
     "end_time": "2023-10-20T17:12:14.085258Z",
     "start_time": "2023-10-20T17:12:14.057282Z"
    },
    "collapsed": false
   },
   "outputs": [],
   "source": [
    "unique_clusters = fov0_adata.obs[\"cell_meta_cluster\"].unique()"
   ]
  },
  {
   "cell_type": "code",
   "execution_count": null,
   "id": "c7225d843af739bb",
   "metadata": {
    "ExecuteTime": {
     "end_time": "2023-10-20T17:12:15.879813Z",
     "start_time": "2023-10-20T17:12:15.869283Z"
    },
    "collapsed": false
   },
   "outputs": [],
   "source": [
    "fov0_adata.uns[\"neighborhood_counts\"] = fov0_nc[unique_clusters]\n",
    "fov0_adata.uns[\"neighborhood_freqs\"] = fov0_nf[unique_clusters]"
   ]
  },
  {
   "cell_type": "code",
   "execution_count": null,
   "id": "5dcd862d8e407fa5",
   "metadata": {
    "ExecuteTime": {
     "end_time": "2023-10-20T18:46:03.076516Z",
     "start_time": "2023-10-20T18:46:03.072338Z"
    },
    "collapsed": false
   },
   "outputs": [],
   "source": [
    "fov0_adata"
   ]
  },
  {
   "cell_type": "markdown",
   "id": "dd758087c1b9269e",
   "metadata": {
    "collapsed": false
   },
   "source": [
    "#### Cell Neighbors Analysis"
   ]
  },
  {
   "cell_type": "markdown",
   "id": "0418fd19",
   "metadata": {},
   "source": [
    "The neighborhood diversity would be ideal for `obs` since there is a value per cell for each FOV. This would be an additional column. We can perform an outer merge with `obs` DataFrame and the `neighborhood_diversity_cell_meta_cluster_radius50.csv` DataFrame per FOV, on the `label` column."
   ]
  },
  {
   "cell_type": "code",
   "execution_count": null,
   "id": "bfb5120ba8d96340",
   "metadata": {
    "ExecuteTime": {
     "end_time": "2023-10-20T21:05:34.933083Z",
     "start_time": "2023-10-20T21:05:34.908612Z"
    },
    "collapsed": false
   },
   "outputs": [],
   "source": [
    "neighborhood_diversity = dd.read_csv(\n",
    "    base_dir / \"spatial_analysis/cell_neighbor_analysis/neighborhood_diversity_cell_meta_cluster_radius50.csv\")"
   ]
  },
  {
   "cell_type": "markdown",
   "id": "c7b4e7796bece207",
   "metadata": {
    "collapsed": false
   },
   "source": [
    "Let's just select the diversity for FOV 0."
   ]
  },
  {
   "cell_type": "code",
   "execution_count": null,
   "id": "964f4dc892779257",
   "metadata": {
    "ExecuteTime": {
     "end_time": "2023-10-20T21:13:45.298537Z",
     "start_time": "2023-10-20T21:13:45.263193Z"
    },
    "collapsed": false
   },
   "outputs": [],
   "source": [
    "neighborhood_diversity_fov0 = neighborhood_diversity[neighborhood_diversity[\"fov\"] == \"fov0\"].compute()\n",
    "\n",
    "neighborhood_diversity_fov0[\"label\"] = neighborhood_diversity_fov0[\"label\"].astype(int)"
   ]
  },
  {
   "cell_type": "code",
   "execution_count": null,
   "id": "c0bf796ce0205232",
   "metadata": {
    "ExecuteTime": {
     "end_time": "2023-10-20T21:21:12.018774Z",
     "start_time": "2023-10-20T21:21:11.989457Z"
    },
    "collapsed": false
   },
   "outputs": [],
   "source": [
    "# Merge the neighborhood diversity data with the `obs` table.\n",
    "fov0_adata.obs = fov0_adata.obs.merge(right = neighborhood_diversity_fov0[[\"label\", \"diversity_cell_meta_cluster\"]], on = [\"label\"], how=\"outer\")"
   ]
  },
  {
   "cell_type": "code",
   "execution_count": null,
   "id": "c091a07a",
   "metadata": {},
   "outputs": [],
   "source": [
    "fov0_adata.obs_names"
   ]
  },
  {
   "cell_type": "code",
   "execution_count": null,
   "id": "2acd74bd96c11c33",
   "metadata": {
    "ExecuteTime": {
     "end_time": "2023-10-20T21:21:19.515188Z",
     "start_time": "2023-10-20T21:21:19.492305Z"
    },
    "collapsed": false
   },
   "outputs": [],
   "source": [
    "neighborhood_diversity_fov0"
   ]
  },
  {
   "cell_type": "code",
   "execution_count": null,
   "id": "b52d319a1b38de08",
   "metadata": {
    "ExecuteTime": {
     "end_time": "2023-10-20T21:21:20.073878Z",
     "start_time": "2023-10-20T21:21:20.048838Z"
    },
    "collapsed": false
   },
   "outputs": [],
   "source": [
    "fov0_adata.obs"
   ]
  },
  {
   "cell_type": "markdown",
   "id": "a81b8a6e",
   "metadata": {},
   "source": [
    "`uns` is a catch-all container (dictionary) for unstructured annotations of the object. It's a good place to store parameters, metadata, and other information that doesn't fit into the other components of `AnnData`. In this case, we'll store the radius value for the neighborhood analysis."
   ]
  },
  {
   "cell_type": "code",
   "execution_count": null,
   "id": "e1ca2d6a38f1977f",
   "metadata": {
    "ExecuteTime": {
     "end_time": "2023-10-20T22:14:01.001657Z",
     "start_time": "2023-10-20T22:14:00.969098Z"
    },
    "collapsed": false
   },
   "outputs": [],
   "source": [
    "fov0_adata.uns[\"neighborhood_diversity\"] = {\n",
    "    \"cell_meta_cluster\": {\n",
    "        \"diversity_radius\": 50\n",
    "    }\n",
    "}"
   ]
  },
  {
   "cell_type": "markdown",
   "id": "3a0f7401adb7cb80",
   "metadata": {
    "collapsed": false
   },
   "source": [
    "The cell distances in `cell_meta_cluster_avg_dists-nearest_5.csv` contains the average distance of the $k$ the closest cells. The shape of this is `n_obs` $\\times$ `n_cell_meta_cluster`. This shape fits with `obsm`, so we can store it there or in `uns`.\n",
    "\n",
    "While in genomic analyses, users generally place embeddings of their `X` matrix in `obsm`, we can also place the cell distances here as well, anything goes as long as the shapes fit, we just have to make sure to document it.\n",
    "\n",
    "\n",
    "I have placed the `cell_meta_cluster_avg_dists-nearest_5` in `obsm[\"cell_distances]`."
   ]
  },
  {
   "cell_type": "code",
   "execution_count": null,
   "id": "2fdae2b1ae96f04d",
   "metadata": {
    "ExecuteTime": {
     "end_time": "2023-10-20T22:27:31.985136Z",
     "start_time": "2023-10-20T22:27:31.946609Z"
    },
    "collapsed": false
   },
   "outputs": [],
   "source": [
    "cell_meta_cluster_avg_dists_nearest5 = dd.read_csv(base_dir / \"spatial_analysis/cell_neighbor_analysis/cell_meta_cluster_avg_dists-nearest_5.csv\")\n",
    "cell_meta_cluster_avg_dists_nearest5_fov0 = cell_meta_cluster_avg_dists_nearest5[cell_meta_cluster_avg_dists_nearest5[\"fov\"] == \"fov0\"].compute()"
   ]
  },
  {
   "cell_type": "code",
   "execution_count": null,
   "id": "90e23c3dedd11e3f",
   "metadata": {
    "ExecuteTime": {
     "end_time": "2023-10-20T22:34:35.323065Z",
     "start_time": "2023-10-20T22:34:35.288935Z"
    },
    "collapsed": false
   },
   "outputs": [],
   "source": [
    "fov0_adata.obsm[\"cell_distances\"] = cell_meta_cluster_avg_dists_nearest5_fov0[unique_clusters]"
   ]
  },
  {
   "cell_type": "code",
   "execution_count": null,
   "id": "a00e8894",
   "metadata": {},
   "outputs": [],
   "source": [
    "fov0_adata.obsm[\"cell_distances\"]"
   ]
  },
  {
   "cell_type": "markdown",
   "id": "95e25e2b",
   "metadata": {},
   "source": [
    "#### Mixing Scores"
   ]
  },
  {
   "cell_type": "markdown",
   "id": "c77a7ba5",
   "metadata": {},
   "source": [
    "The mixing scores are stored in the following files:\n",
    "- `{popultation 1}_{population 2}-{mixing type}_mixing_score.csv`, and with the example dataset they are `CD4_CD8-homogeneous_mixing_score.csv`,\n",
    "\n",
    "Just like the others, we will subset on just FOV 0.\n",
    "\n",
    "This file has the columns: `fov`, `mixing_score`, `cell_count`, `cell_ratio`, and a row per FOV.\n",
    "\n",
    "There are a few ways to add this to the `AnnData` object, the first is to add the `mixing_score`, `cell_count`, the `cell_ratio`, `population 1` and `population 2` into the `uns` such as shown below:\n"
   ]
  },
  {
   "cell_type": "code",
   "execution_count": null,
   "id": "57a5a30d8161d015",
   "metadata": {
    "ExecuteTime": {
     "end_time": "2023-10-20T22:56:36.487701Z",
     "start_time": "2023-10-20T22:56:36.462895Z"
    },
    "collapsed": false
   },
   "outputs": [],
   "source": [
    "cd4_cd8_homogeneous_mixing_score_fov0 = dd.read_csv(base_dir / \"spatial_analysis/mixing_score/CD4_CD8-homogeneous_mixing_score.csv\").query(\"fov == 'fov0'\").compute()"
   ]
  },
  {
   "cell_type": "code",
   "execution_count": null,
   "id": "b84ba3c7aea62707",
   "metadata": {
    "ExecuteTime": {
     "end_time": "2023-10-20T22:56:49.845255Z",
     "start_time": "2023-10-20T22:56:49.813512Z"
    },
    "collapsed": false
   },
   "outputs": [],
   "source": [
    "cd4_cd8_homogeneous_mixing_score_fov0"
   ]
  },
  {
   "cell_type": "code",
   "execution_count": null,
   "id": "f189c1c4c40e00b1",
   "metadata": {
    "ExecuteTime": {
     "end_time": "2023-10-20T23:23:27.469207Z",
     "start_time": "2023-10-20T23:23:27.435514Z"
    },
    "collapsed": false
   },
   "outputs": [],
   "source": [
    "fov0_adata.uns[\"mixing_scores\"] = {\n",
    "    \"0\": { # The \"first\" mixing score\n",
    "        \"pop1\": \"CD4\",\n",
    "        \"pop2\": \"CD8\",\n",
    "        \"homogeneous\": {\n",
    "            \"mixing_score\": cd4_cd8_homogeneous_mixing_score_fov0[\"mixing_score\"].values[0],\n",
    "            \"cell_count\": cd4_cd8_homogeneous_mixing_score_fov0[\"cell_count\"].values[0],\n",
    "            \"cell_ratio\": cd4_cd8_homogeneous_mixing_score_fov0[\"cell_ratio\"].values[0]\n",
    "        }\n",
    "    }\n",
    "}"
   ]
  },
  {
   "cell_type": "code",
   "execution_count": null,
   "id": "5638f27e42bad3c",
   "metadata": {
    "ExecuteTime": {
     "end_time": "2023-10-20T23:23:31.484064Z",
     "start_time": "2023-10-20T23:23:31.446155Z"
    },
    "collapsed": false
   },
   "outputs": [],
   "source": [
    "fov0_adata.uns[\"mixing_scores\"]"
   ]
  },
  {
   "cell_type": "markdown",
   "id": "a752d6a490813d6c",
   "metadata": {
    "collapsed": false
   },
   "source": [
    "Another approach would be to transform the mixing scores into Matrices, one for each FOV,\n",
    "\n",
    "For example, here is the mixing score matrix for FOV 0, where (CD4T, CD8T) has been filled.\n",
    "<div align=\"center\">\n",
    "\n",
    "|               | CD4T     | CD8T | CD14_monocyte | Bcell | other | M2_macrophage | immune_other | M1_macrophage | APC | stroma | endothelium | Myofibroblast | tumor_ck17 | tumor_ecad |\n",
    "|:-------------:|----------|------|---------------|-------|-------|---------------|--------------|---------------|-----|--------|-------------|---------------|------------|------------|\n",
    "| CD4T          |          |      |               |       |       |               |              |               |     |        |             |               |            |            |\n",
    "| CD8T          | 0.256647 |      |               |       |       |               |              |               |     |        |             |               |            |            |\n",
    "| CD14_monocyte |          |      |               |       |       |               |              |               |     |        |             |               |            |            |\n",
    "| Bcell         |          |      |               |       |       |               |              |               |     |        |             |               |            |            |\n",
    "| other         |          |      |               |       |       |               |              |               |     |        |             |               |            |            |\n",
    "| M2_macrophage |          |      |               |       |       |               |              |               |     |        |             |               |            |            |\n",
    "| immune_other  |          |      |               |       |       |               |              |               |     |        |             |               |            |            |\n",
    "| M1_macrophage |          |      |               |       |       |               |              |               |     |        |             |               |            |            |\n",
    "| APC           |          |      |               |       |       |               |              |               |     |        |             |               |            |            |\n",
    "| stroma        |          |      |               |       |       |               |              |               |     |        |             |               |            |            |\n",
    "| endothelium   |          |      |               |       |       |               |              |               |     |        |             |               |            |            |\n",
    "| Myofibroblast |          |      |               |       |       |               |              |               |     |        |             |               |            |            |\n",
    "| tumor_ck17    |          |      |               |       |       |               |              |               |     |        |             |               |            |            |\n",
    "| tumor_ecad    |          |      |               |       |       |               |              |               |     |        |             |               |            |            |\n",
    "\n",
    "</div>\n",
    "\n",
    "\n",
    "And fill out all the values for each FOV. This would be stored in `uns` as well. We would also store matrices like these for `cell_count` and `cell_ratio` fields.\n",
    "\n",
    "For now, I've stored it in `uns` using the first, nested dictionary approach.\n"
   ]
  },
  {
   "cell_type": "markdown",
   "id": "46a66e81",
   "metadata": {},
   "source": [
    "#### Fiber Segmentation"
   ]
  },
  {
   "cell_type": "markdown",
   "id": "d8e4c36c",
   "metadata": {},
   "source": [
    "The fiber segmentation generates two files of interest:\n",
    "1. `fiber_object_table.csv`\n",
    "   1. Columns include: `fov`, `label`, `centroid-0`, `centroid-1`, `major_axis_length`, `minor_axis_length`, `orientation`, `area`, `eccentricity`, `euler_number`, `alignment_score`\n",
    "2. `fiber_stats_table.csv`\n",
    "   1. Columns include: `fov`, `pixel_density`, `fiber_density`, `avg_major_axis_length`, `avg_minor_axis_length`, `avg_orientation`, `avg_area`, `avg_eccentricity`, `avg_euler_number`, `avg_alignment_score`\n",
    "\n",
    "The fiber segmentation notebook does not make use of the cell level segmentations, and instead creates computes the fiber level segmentations from the raw image.\n",
    "\n",
    "This one I'm not too sure about, as it doesn't look like there is a `X` equivalent here, so creating a unique `AnnData` object may not be ideal. If we could, [`MuData`](https://mudata.readthedocs.io/en/latest/index.html) could be useful as it's a way to represent multi-modal `AnnData` tables.\n",
    "\n",
    "Perhaps place it in `uns`? Let's place in `uns` for this example."
   ]
  },
  {
   "cell_type": "code",
   "execution_count": null,
   "id": "4597a06b",
   "metadata": {},
   "outputs": [],
   "source": [
    "fiber_object_table_fov0 = dd.read_csv(base_dir / \"fiber_segmentation_processed_data/fiber_object_table.csv\").query(\"fov == 'fov0'\").compute()\n",
    "fiber_object_table_fov0.rename(columns={\"centroid-0\": \"Centroid X\", \"centroid-1\": \"Centroid Y\"})\n",
    "\n",
    "\n",
    "fiber_stats_table_fov0 = dd.read_csv(base_dir / \"fiber_segmentation_processed_data/fiber_stats_table.csv\").query(\"fov == 'fov0'\").compute()"
   ]
  },
  {
   "cell_type": "code",
   "execution_count": null,
   "id": "2dd3eef4",
   "metadata": {},
   "outputs": [],
   "source": [
    "fiber_object_table_fov0.drop(\"fov\", axis = 1, inplace=True)"
   ]
  },
  {
   "cell_type": "code",
   "execution_count": null,
   "id": "021a11e3",
   "metadata": {},
   "outputs": [],
   "source": [
    "fov0_adata.uns[\"fiber_object\"] = fiber_object_table_fov0"
   ]
  },
  {
   "cell_type": "code",
   "execution_count": null,
   "id": "f4349bdd",
   "metadata": {},
   "outputs": [],
   "source": [
    "fov0_adata.uns[\"fiber_stats\"] = {\n",
    "    \"pixel_density\": fiber_stats_table_fov0[\"pixel_density\"].values[0],\n",
    "    \"fiber_density\": fiber_stats_table_fov0[\"fiber_density\"].values[0],\n",
    "    \"avg_major_axis_length\": fiber_stats_table_fov0[\"avg_major_axis_length\"].values[0],\n",
    "    \"avg_minor_axis_length\": fiber_stats_table_fov0[\"avg_minor_axis_length\"].values[0],\n",
    "    \"avg_orientation\": fiber_stats_table_fov0[\"avg_orientation\"].values[0],\n",
    "    \"avg_area\": fiber_stats_table_fov0[\"avg_area\"].values[0],\n",
    "    \"avg_eccentricity\": fiber_stats_table_fov0[\"avg_eccentricity\"].values[0],\n",
    "    \"avg_euler_number\": fiber_stats_table_fov0[\"avg_euler_number\"].values[0],\n",
    "    \"avg_alignment_score\": fiber_stats_table_fov0[\"avg_alignment_score\"].values[0],\n",
    "}"
   ]
  },
  {
   "cell_type": "markdown",
   "id": "542e618a",
   "metadata": {},
   "source": [
    "#### Neighborhood Analysis"
   ]
  },
  {
   "cell_type": "markdown",
   "id": "5ecb345f",
   "metadata": {},
   "source": [
    "The neighborhood analysis notebook generates three files of interest:\n",
    "1. `cell_table_size_normalized_cell_labels_kmeans_nh.csv` \n",
    "   1. Columns include: the normalized cell table columns in addition the `kmeans` neighborhood column\n",
    "2. `neighborhood_marker.csv`\n",
    "   1. Columns include: `kmeans_neighborhood`, `*var_names` (all the markers)\n",
    "3. `neighborhood_cell_type.csv`\n",
    "   1. Columns include: `kmeans_neighborhood`, `*unique_clusters` (all the pixie clusters)"
   ]
  },
  {
   "cell_type": "code",
   "execution_count": null,
   "id": "5ff6d27f",
   "metadata": {},
   "outputs": [],
   "source": [
    "cell_table_kmeans_fov0 = dd.read_csv(base_dir / \"spatial_analysis/neighborhood_analysis/cell_meta_cluster_radius50_counts/cell_table_size_normalized_cell_labels_kmeans_nh.csv\").query(\"fov == 'fov0'\").compute()\n",
    "cell_table_kmeans_fov0[[\"label\", \"kmeans_neighborhood\"]] = cell_table_kmeans_fov0[[\"label\", \"kmeans_neighborhood\"]].astype(int)\n",
    "\n",
    "# Merge the neighborhood marker data with the `obs` table, subset on the label and kmeans_neighborhood columns\n",
    "fov0_adata.obs = fov0_adata.obs.merge(right = cell_table_kmeans_fov0[[\"label\", \"kmeans_neighborhood\"]], on = [\"label\"], how=\"outer\")"
   ]
  },
  {
   "cell_type": "markdown",
   "id": "bfc1701b",
   "metadata": {},
   "source": [
    "The `neighborhood_marker.csv` could be stored in `varm`. Here we've transposed it to fit the `AnnData` spec."
   ]
  },
  {
   "cell_type": "code",
   "execution_count": null,
   "id": "24c2ef21",
   "metadata": {},
   "outputs": [],
   "source": [
    "neighborhood_marker = dd.read_csv(base_dir / \"spatial_analysis/neighborhood_analysis/cell_meta_cluster_radius50_counts/neighborhood_marker.csv\").compute()\n",
    "\n",
    "neighborhood_marker[\"kmeans_neighborhood\"] = neighborhood_marker[\"kmeans_neighborhood\"].astype(str)\n",
    "\n",
    "neighborhood_marker.set_index(\"kmeans_neighborhood\", inplace=True)"
   ]
  },
  {
   "cell_type": "code",
   "execution_count": null,
   "id": "f6785b1e",
   "metadata": {},
   "outputs": [],
   "source": [
    "fov0_adata.varm[\"kmeans_neighborhood\"] = neighborhood_marker.values.T"
   ]
  },
  {
   "cell_type": "markdown",
   "id": "9931d949",
   "metadata": {},
   "source": [
    "Similar to `X` we can view `varm` as a `DataFrame` by using the `to_df()` method."
   ]
  },
  {
   "cell_type": "code",
   "execution_count": null,
   "id": "082751df",
   "metadata": {},
   "outputs": [],
   "source": [
    "fov0_adata.varm.to_df()"
   ]
  },
  {
   "cell_type": "markdown",
   "id": "d6d25f3b",
   "metadata": {},
   "source": [
    "The `neighborhood_cell_type.csv` could be stored in `uns` due to it's shape."
   ]
  },
  {
   "cell_type": "code",
   "execution_count": null,
   "id": "3f1040e2",
   "metadata": {},
   "outputs": [],
   "source": [
    "neighborhood_cell_type = dd.read_csv(base_dir / \"spatial_analysis/neighborhood_analysis/cell_meta_cluster_radius50_counts/neighborhood_cell_type.csv\").compute()\n",
    "neighborhood_cell_type[\"kmeans_neighborhood\"] = neighborhood_cell_type[\"kmeans_neighborhood\"].astype(str)"
   ]
  },
  {
   "cell_type": "code",
   "execution_count": null,
   "id": "5043797f",
   "metadata": {},
   "outputs": [],
   "source": [
    "# Convert the kmeans neighborhood column to an index\n",
    "neighborhood_cell_type.set_index(\"kmeans_neighborhood\", inplace=True)"
   ]
  },
  {
   "cell_type": "code",
   "execution_count": null,
   "id": "c3646067",
   "metadata": {},
   "outputs": [],
   "source": [
    "fov0_adata.uns[\"neighborhood_cell_type\"] = neighborhood_cell_type"
   ]
  },
  {
   "cell_type": "code",
   "execution_count": null,
   "id": "86a3d008",
   "metadata": {},
   "outputs": [],
   "source": [
    "fov0_adata"
   ]
  },
  {
   "cell_type": "markdown",
   "id": "d711bd4c",
   "metadata": {},
   "source": [
    "### Final `AnnData` Table"
   ]
  },
  {
   "cell_type": "markdown",
   "id": "2b906d19",
   "metadata": {},
   "source": [
    "Our final `AnnData` table for FOV 0 now looks like this:\n",
    "\n",
    "\n",
    "```python\n",
    "AnnData object with n_obs × n_vars = 669 × 22\n",
    "    obs: 'cell_size', 'label', 'area', 'eccentricity', 'major_axis_length', 'minor_axis_length', 'perimeter', 'convex_area', 'equivalent_diameter', 'Centroid X', 'Centroid Y', 'major_minor_axis_ratio', 'perim_square_over_area', 'major_axis_equiv_diam_ratio', 'convex_hull_resid', 'centroid_dif', 'num_concavities', 'fov', 'cell_meta_cluster', 'diversity_cell_meta_cluster', 'kmeans_neighborhood'\n",
    "    uns: 'neighborhood_counts', 'neighborhood_freqs', 'neighborhood_diversity', 'mixing_scores', 'fiber_object', 'fiber_stats', 'neighborhood_cell_type'\n",
    "    obsm: 'spatial', 'cell_distances'\n",
    "    varm: 'kmeans_neighborhood'\n",
    "    layers: 'arcsinh'\n",
    "    obsp: 'distance'\n",
    "```"
   ]
  },
  {
   "cell_type": "markdown",
   "id": "ef181c8a",
   "metadata": {},
   "source": [
    "Some other things to go over would be the Spatial LDA notebook, and I'm sure I've missed a few other metrics as well. But I think this gets an idea of the general structure and how we can convert our data to `AnnData` components. We can discuss the specifics of which parameters get placed where of course."
   ]
  },
  {
   "cell_type": "markdown",
   "id": "f841f78f",
   "metadata": {},
   "source": [
    "## One `AnnData` Table per Cohort *or* One `AnnData` Table per FOV?"
   ]
  },
  {
   "cell_type": "markdown",
   "id": "22caa2b4",
   "metadata": {},
   "source": [
    "One of the main design decisions we have to make is whether to store all the data in one `AnnData` object, or to split it up into many `AnnData` objects.\n",
    "\n",
    "I am in favor of a single `AnnData` object per FOV. This is mainly because the majority of `ScanPy` and `SquidPy` functions tend to work best on an individual \"image\" by \"image\" basis.\n",
    "\n",
    "If we have a single `AnnData` object per FOV, the square shaped components might not make sense. For example, the take `distance` component of `obsp` which is a 2D array consisting of the distances between cell $i$ and cell $j$ for all cells in the FOV. If we have a single `AnnData` object, this matrix would take up a much larger footprint, and would require some rather obtuse indexing to get the distances for a single FOV."
   ]
  },
  {
   "cell_type": "markdown",
   "id": "121dbb69",
   "metadata": {},
   "source": [
    "This will quickly take up $\\mathcal{O} (n^2)$ space which is not feasible. The majority of it will be empty though and can be represented as a [Block Diagonal Matrix](https://en.wikipedia.org/wiki/Block_matrix#Block_diagonal_matrices). \n",
    "\n",
    "$$\\mathbf{D}_{cohort} = \\begin{bmatrix} \n",
    "  \\mathbf{D}_0 & \\mathbf{0}    & \\cdots & \\mathbf{0}   \\\\\n",
    "  \\mathbf{0}   & \\mathbf{D}_1  & \\cdots & \\mathbf{0}   \\\\\n",
    "  \\vdots       & \\vdots        & \\ddots & \\vdots       \\\\\n",
    "  \\mathbf{0}   & \\mathbf{0}    & \\cdots & \\mathbf{D}_n\n",
    "\\end{bmatrix}$$\n",
    "\n",
    "\n",
    "The SPAIN cohort has about 400 FOVs. While taking advantage of sparsity and `Dask` can make the overhead of loading the data into memory more manageable. This kind of setup would (generously) upper bound the storage to $\\mathcal{O} (n\\log{n})$. This is completely feasible, but it can make working with the data more difficult."
   ]
  },
  {
   "cell_type": "markdown",
   "id": "449f1bd8",
   "metadata": {},
   "source": [
    "\n",
    "In addition, `SpatialData` is converting to a many `AnnData` table approach, where a table can be associated to 0,1 or many images / coordinate systems. See [scverse/spatialdata#298](https://github.com/scverse/spatialdata/issues/298) for the discussion on this.\n",
    "\n",
    "\n",
    "\n",
    "Does this mean we need to run a `for` loop every time we want to run a particular function across all FOV-level `AnnData` tables (such as [`scanpy.pp.filter_cells`](https://scanpy.readthedocs.io/en/stable/generated/scanpy.pp.filter_cells.html#scanpy.pp.filter_cells))? \n",
    "\n",
    "No, we can use [`AnnCollection`](https://anndata.readthedocs.io/en/latest/generated/anndata.experimental.AnnCollection.html) to do this. We can lazily concatenate the `AnnData` objects and perform operations on them as if it was one big `AnnData` object, internally it'll load each `AnnData` object into memory as needed with `Dask` (done automatically for us) and map a function to it.\n",
    "\n",
    "\n",
    "Internally, the majority of functions in `Ark` load the whole cell table, but end up iterating by FOV anyway, so this can simplify some functions.\n",
    "\n",
    "As far as I know the benefits with one table per cohort start and end with having a single file stored to disk. I'm sure there are more, but I wasn't able to find them. Let me know if there are any others."
   ]
  },
  {
   "cell_type": "markdown",
   "id": "d7e00fa2",
   "metadata": {},
   "source": [
    "## Storage: Saving and Loading"
   ]
  },
  {
   "cell_type": "markdown",
   "id": "93296353",
   "metadata": {},
   "source": [
    "Let's take a quick detour to discuss storage.\n",
    "\n",
    "For persistent storage we should save the `AnnData` table as a `Zarr` store.\n",
    "\n",
    "`Zarr` provides a nice interface for storing `AnnData` objects, as it's a hierarchical key-value store, which is exactly what `AnnData` is.\n",
    "\n",
    "Unfortunately, we will have to write to the `Zarr` store once we are done modifying the `AnnData` table. `SpatialData` provides a psuedo-\"backed\" feature to write modifications to disk immediately. \n",
    "\n",
    "Where `backed` is defined as the property where in memory changes are written to disk immediately.\n",
    "\n",
    " `Zarr` backed `AnnData` stores are sort of slowly in the works. See [scverse/anndata#219](https://github.com/scverse/anndata/issues/219)."
   ]
  },
  {
   "cell_type": "code",
   "execution_count": null,
   "id": "c30957b2",
   "metadata": {},
   "outputs": [],
   "source": [
    "Path(base_dir / \"tables/\").mkdir(parents=True, exist_ok=True)"
   ]
  },
  {
   "cell_type": "code",
   "execution_count": null,
   "id": "435483c7",
   "metadata": {},
   "outputs": [],
   "source": [
    "#`obs_names` must be a string, or else you won't be able to read it back in\n",
    "fov0_adata.obs_names = fov0_adata.obs_names.astype(str) \n",
    "fov0_adata.write_zarr(base_dir / \"tables/fov0.ome.zarr\", chunks=(1000, 1000))"
   ]
  },
  {
   "cell_type": "markdown",
   "id": "ea420153",
   "metadata": {},
   "source": [
    "We can read `Zarr` backed `AnnData` Tables using `AnnData.read_zarr()`."
   ]
  },
  {
   "cell_type": "code",
   "execution_count": null,
   "id": "7cc69de5",
   "metadata": {},
   "outputs": [],
   "source": [
    "import anndata\n",
    "\n",
    "\n",
    "anndata.read_zarr(base_dir / \"tables/fov0.ome.zarr\")"
   ]
  },
  {
   "cell_type": "markdown",
   "id": "7ac545ac",
   "metadata": {},
   "source": [
    "Lets' take a look at what the saved `Zarr` file saved at various depths:\n",
    "\n",
    "\n",
    "<details>\n",
    "  <summary>Depth 1 Hierarchy</summary>\n",
    "  \n",
    "  ```shell\n",
    "  .\n",
    "  ├── layers\n",
    "  ├── obs\n",
    "  ├── obsm\n",
    "  ├── obsp\n",
    "  ├── uns\n",
    "  ├── var\n",
    "  ├── varm\n",
    "  ├── varp\n",
    "  └── X\n",
    "  ```\n",
    "\n",
    "</details>\n",
    "\n",
    "\n",
    "<details>\n",
    "  <summary>Depth 2 Hierarchy</summary>\n",
    "  \n",
    "  ```shell\n",
    "  .\n",
    "  ├── layers\n",
    "  │   └── arcsinh\n",
    "  ├── obs\n",
    "  │   ├── _index\n",
    "  │   ├── area\n",
    "  │   ├── cell_meta_cluster\n",
    "  │   ├── cell_size\n",
    "  │   ├── Centroid X\n",
    "  │   ├── Centroid Y\n",
    "  │   ├── centroid_dif\n",
    "  │   ├── convex_area\n",
    "  │   ├── convex_hull_resid\n",
    "  │   ├── diversity_cell_meta_cluster\n",
    "  │   ├── eccentricity\n",
    "  │   ├── equivalent_diameter\n",
    "  │   ├── fov\n",
    "  │   ├── kmeans_neighborhood\n",
    "  │   ├── label\n",
    "  │   ├── major_axis_equiv_diam_ratio\n",
    "  │   ├── major_axis_length\n",
    "  │   ├── major_minor_axis_ratio\n",
    "  │   ├── minor_axis_length\n",
    "  │   ├── num_concavities\n",
    "  │   ├── perim_square_over_area\n",
    "  │   └── perimeter\n",
    "  ├── obsm\n",
    "  │   ├── cell_distances\n",
    "  │   └── coordinates\n",
    "  ├── obsp\n",
    "  │   └── distance\n",
    "  ├── uns\n",
    "  │   ├── fiber_object\n",
    "  │   ├── fiber_stats\n",
    "  │   ├── mixing_scores\n",
    "  │   ├── neighborhood_cell_type\n",
    "  │   ├── neighborhood_counts\n",
    "  │   ├── neighborhood_diversity\n",
    "  │   └── neighborhood_freqs\n",
    "  ├── var\n",
    "  │   └── _index\n",
    "  ├── varm\n",
    "  │   └── kmeans\n",
    "  ├── varp\n",
    "  └── X\n",
    "      └── 0.0\n",
    "\n",
    "  ```\n",
    "\n",
    "</details>\n",
    "\n",
    "\n",
    "<details>\n",
    "  <summary>Depth 3 Hierarchy</summary>\n",
    "  \n",
    "  ```shell\n",
    "  .\n",
    "  ├── layers\n",
    "  │   └── arcsinh\n",
    "  │       └── 0.0\n",
    "  ├── obs\n",
    "  │   ├── _index\n",
    "  │   │   └── 0\n",
    "  │   ├── area\n",
    "  │   │   └── 0\n",
    "  │   ├── cell_meta_cluster\n",
    "  │   │   ├── categories\n",
    "  │   │   └── codes\n",
    "  │   ├── cell_size\n",
    "  │   │   └── 0\n",
    "  │   ├── Centroid X\n",
    "  │   │   └── 0\n",
    "  │   ├── Centroid Y\n",
    "  │   │   └── 0\n",
    "  │   ├── centroid_dif\n",
    "  │   │   └── 0\n",
    "  │   ├── convex_area\n",
    "  │   │   └── 0\n",
    "  │   ├── convex_hull_resid\n",
    "  │   │   └── 0\n",
    "  │   ├── diversity_cell_meta_cluster\n",
    "  │   │   └── 0\n",
    "  │   ├── eccentricity\n",
    "  │   │   └── 0\n",
    "  │   ├── equivalent_diameter\n",
    "  │   │   └── 0\n",
    "  │   ├── fov\n",
    "  │   │   ├── categories\n",
    "  │   │   └── codes\n",
    "  │   ├── kmeans_neighborhood\n",
    "  │   │   └── 0\n",
    "  │   ├── label\n",
    "  │   │   └── 0\n",
    "  │   ├── major_axis_equiv_diam_ratio\n",
    "  │   │   └── 0\n",
    "  │   ├── major_axis_length\n",
    "  │   │   └── 0\n",
    "  │   ├── major_minor_axis_ratio\n",
    "  │   │   └── 0\n",
    "  │   ├── minor_axis_length\n",
    "  │   │   └── 0\n",
    "  │   ├── num_concavities\n",
    "  │   │   └── 0\n",
    "  │   ├── perim_square_over_area\n",
    "  │   │   └── 0\n",
    "  │   └── perimeter\n",
    "  │       └── 0\n",
    "  ├── obsm\n",
    "  │   ├── cell_distances\n",
    "  │   │   ├── _index\n",
    "  │   │   ├── APC\n",
    "  │   │   ├── Bcell\n",
    "  │   │   ├── CD14_monocyte\n",
    "  │   │   ├── CD4T\n",
    "  │   │   ├── CD8T\n",
    "  │   │   ├── endothelium\n",
    "  │   │   ├── immune_other\n",
    "  │   │   ├── M1_macrophage\n",
    "  │   │   ├── M2_macrophage\n",
    "  │   │   ├── Myofibroblast\n",
    "  │   │   ├── other\n",
    "  │   │   ├── stroma\n",
    "  │   │   ├── tumor_ck17\n",
    "  │   │   └── tumor_ecad\n",
    "  │   └── coordinates\n",
    "  │       └── 0.0\n",
    "  ├── obsp\n",
    "  │   └── distance\n",
    "  │       ├── 0.0\n",
    "  │       ├── 0.1\n",
    "  │       ├── 1.0\n",
    "  │       └── 1.1\n",
    "  ├── uns\n",
    "  │   ├── fiber_object\n",
    "  │   │   ├── _index\n",
    "  │   │   ├── alignment_score\n",
    "  │   │   ├── area\n",
    "  │   │   ├── centroid-0\n",
    "  │   │   ├── centroid-1\n",
    "  │   │   ├── eccentricity\n",
    "  │   │   ├── euler_number\n",
    "  │   │   ├── label\n",
    "  │   │   ├── major_axis_length\n",
    "  │   │   ├── minor_axis_length\n",
    "  │   │   └── orientation\n",
    "  │   ├── fiber_stats\n",
    "  │   │   ├── avg_alignment_score\n",
    "  │   │   ├── avg_area\n",
    "  │   │   ├── avg_eccentricity\n",
    "  │   │   ├── avg_euler_number\n",
    "  │   │   ├── avg_major_axis_length\n",
    "  │   │   ├── avg_minor_axis_length\n",
    "  │   │   ├── avg_orientation\n",
    "  │   │   ├── fiber_density\n",
    "  │   │   └── pixel_density\n",
    "  │   ├── mixing_scores\n",
    "  │   │   └── 0\n",
    "  │   ├── neighborhood_cell_type\n",
    "  │   │   ├── APC\n",
    "  │   │   ├── Bcell\n",
    "  │   │   ├── CD14_monocyte\n",
    "  │   │   ├── CD4T\n",
    "  │   │   ├── CD8T\n",
    "  │   │   ├── endothelium\n",
    "  │   │   ├── immune_other\n",
    "  │   │   ├── kmeans_neighborhood\n",
    "  │   │   ├── M1_macrophage\n",
    "  │   │   ├── M2_macrophage\n",
    "  │   │   ├── Myofibroblast\n",
    "  │   │   ├── other\n",
    "  │   │   ├── stroma\n",
    "  │   │   ├── tumor_ck17\n",
    "  │   │   └── tumor_ecad\n",
    "  │   ├── neighborhood_counts\n",
    "  │   │   ├── _index\n",
    "  │   │   ├── APC\n",
    "  │   │   ├── Bcell\n",
    "  │   │   ├── CD14_monocyte\n",
    "  │   │   ├── CD4T\n",
    "  │   │   ├── CD8T\n",
    "  │   │   ├── endothelium\n",
    "  │   │   ├── immune_other\n",
    "  │   │   ├── M1_macrophage\n",
    "  │   │   ├── M2_macrophage\n",
    "  │   │   ├── Myofibroblast\n",
    "  │   │   ├── other\n",
    "  │   │   ├── stroma\n",
    "  │   │   ├── tumor_ck17\n",
    "  │   │   └── tumor_ecad\n",
    "  │   ├── neighborhood_diversity\n",
    "  │   │   └── cell_meta_cluster\n",
    "  │   └── neighborhood_freqs\n",
    "  │       ├── _index\n",
    "  │       ├── APC\n",
    "  │       ├── Bcell\n",
    "  │       ├── CD14_monocyte\n",
    "  │       ├── CD4T\n",
    "  │       ├── CD8T\n",
    "  │       ├── endothelium\n",
    "  │       ├── immune_other\n",
    "  │       ├── M1_macrophage\n",
    "  │       ├── M2_macrophage\n",
    "  │       ├── Myofibroblast\n",
    "  │       ├── other\n",
    "  │       ├── stroma\n",
    "  │       ├── tumor_ck17\n",
    "  │       └── tumor_ecad\n",
    "  ├── var\n",
    "  │   └── _index\n",
    "  │       └── 0\n",
    "  ├── varm\n",
    "  │   └── kmeans\n",
    "  │       └── 0.0\n",
    "  ├── varp\n",
    "  └── X\n",
    "      └── 0.0\n",
    "\n",
    "  ```\n",
    "\n",
    "</details>"
   ]
  },
  {
   "cell_type": "markdown",
   "id": "b1f32f86",
   "metadata": {},
   "source": [
    "## Misc Notes"
   ]
  },
  {
   "cell_type": "markdown",
   "id": "b0a0e117",
   "metadata": {},
   "source": [
    "The actual data, matrices, `DataFrames`, dictionaries and all are stored in the leaf nodes of the hierarchy as binary data. The rest of the nodes are just metadata, providing column names (if applicable) and other information, like the encoding type and encoding versioning.\n",
    "\n",
    "Not sure where we can save the `AnnData` objects, perhaps under a directory called `tables` in the root of the cohort's dataset?\n",
    "\n",
    "It's also very much worth considering making use of `SquidPy`'s tool set for single cell spatial analysis. We should read through their code and learn how they interface with `AnnData` when designing future components / redesigning current ones.\n",
    "- [General API](https://squidpy.readthedocs.io/en/stable/api.html)\n",
    "- [Cherry-picked Spatial Neighbors Function](https://squidpy.readthedocs.io/en/stable/_modules/squidpy/gr/_build.html#spatial_neighbors)"
   ]
  },
  {
   "cell_type": "markdown",
   "id": "208db74f",
   "metadata": {},
   "source": []
  }
 ],
 "metadata": {
  "kernelspec": {
   "display_name": "Python 3 (ipykernel)",
   "language": "python",
   "name": "python3"
  },
  "language_info": {
   "codemirror_mode": {
    "name": "ipython",
    "version": 3
   },
   "file_extension": ".py",
   "mimetype": "text/x-python",
   "name": "python",
   "nbconvert_exporter": "python",
   "pygments_lexer": "ipython3",
   "version": "3.11.5"
  }
 },
 "nbformat": 4,
 "nbformat_minor": 5
}
