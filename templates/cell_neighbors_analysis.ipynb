{
 "cells": [
  {
   "cell_type": "markdown",
   "id": "c28c6fb4-0fb8-4236-9227-80149f125407",
   "metadata": {},
   "source": [
    "# Cell Neighbors Analysis\n",
    "There are two components of this notebook: **neighborhood diversity** and **cell distance analysis**. Each is independent of the other, so you can choose only to run what you're interested in; however, you must run the four cells below to set up the notebook paths and generate the distance matrices for your data."
   ]
  },
  {
   "cell_type": "code",
   "execution_count": null,
   "id": "ae38a76a-5141-4a2c-97dd-53185f98dd7d",
   "metadata": {
    "tags": [
     "import"
    ]
   },
   "outputs": [],
   "source": [
    "import os\n",
    "import pandas as pd \n",
    "from ark.utils import example_dataset\n",
    "import ark.settings as settings\n",
    "from ark.analysis import spatial_analysis_utils\n",
    "from ark.analysis.neighborhood_analysis import create_neighborhood_matrix\n",
    "from ark.analysis.cell_neighborhood_stats import generate_neighborhood_diversity_analysis, generate_cell_distance_analysis"
   ]
  },
  {
   "cell_type": "markdown",
   "id": "1e459c5d-a9f5-4b93-b88b-9b63de8e0899",
   "metadata": {},
   "source": [
    "## Path Setup\n",
    "* `base_dir`: the path to the main folder containing all of your imaging data. This directory will also store all of the directories/files created during analysis\n",
    "* `spatial_analysis_dir`: the path to the directory containing the spatial analysis output\n",
    "* `cell_table_path`: the path to the cell table that contains columns for fov, cell label, and cell phenotype (generated from `3_Pixie_Cluster_Cells.ipynb`)\n",
    "* `dist_mat_dir`: the path to directory containing the distance matrices for your data\n",
    "* `neighbors_mat_dir`: the path to directory containing the neighborhood matrix for your data\n",
    "* `output_dir`: path for a new directory that will be created for the output below"
   ]
  },
  {
   "cell_type": "code",
   "execution_count": null,
   "id": "e4a1765e-351f-4ab3-9b08-6d4fc998bf2e",
   "metadata": {
    "tags": [
     "base_dir"
    ]
   },
   "outputs": [],
   "source": [
    "base_dir = '../data/example_dataset'"
   ]
  },
  {
   "cell_type": "markdown",
   "id": "0f8e44d8",
   "metadata": {},
   "source": [
    "If you would like to test the features in Ark with an example dataset, run the cell below. It will download a dataset consisting of 11 FOVs with 22 channels. You may find more information about the example dataset in the [README](../README.md#example-dataset).\n",
    "\n",
    "If you are using your own data, skip the cell below.\n",
    "\n",
    "* `overwrite_existing`: If set to `False`, it will not overwrite existing data in the `data/example_dataset`. Recommended setting to `False` if you are running Notebooks 1,2,3 and 4 in succession. Set to `True` if you are just running Notebook 4."
   ]
  },
  {
   "cell_type": "code",
   "execution_count": null,
   "id": "9d54b607",
   "metadata": {
    "tags": [
     "ex_data_download"
    ]
   },
   "outputs": [],
   "source": [
    "example_dataset.get_example_dataset(dataset=\"post_clustering\", save_dir=base_dir, overwrite_existing=False)"
   ]
  },
  {
   "cell_type": "code",
   "execution_count": null,
   "id": "e76fd63a-2f1c-4b8e-a082-27d3bf3fb338",
   "metadata": {
    "tags": [
     "file_path"
    ]
   },
   "outputs": [],
   "source": [
    "spatial_analysis_dir = os.path.join(base_dir, \"spatial_analysis\")\n",
    "segmentation_dir = os.path.join(base_dir, \"segmentation/deepcell_output\")\n",
    "cell_table_path = os.path.join(base_dir, \"segmentation/cell_table/cell_table_size_normalized_cell_labels.csv\")\n",
    "dist_mat_dir = os.path.join(spatial_analysis_dir, \"dist_mats\")\n",
    "\n",
    "neighbors_mat_dir = os.path.join(spatial_analysis_dir, \"neighborhood_mats\")\n",
    "output_dir = os.path.join(spatial_analysis_dir, \"cell_neighbor_analysis\")"
   ]
  },
  {
   "cell_type": "code",
   "execution_count": null,
   "id": "bdc4a815-d3fd-4e90-8304-e96ec2541be5",
   "metadata": {
    "tags": [
     "create_dirs"
    ]
   },
   "outputs": [],
   "source": [
    "# generate distance matrices if needed\n",
    "if not os.path.exists(dist_mat_dir):\n",
    "    os.makedirs(dist_mat_dir)\n",
    "    spatial_analysis_utils.calc_dist_matrix(segmentation_dir, dist_mat_dir)\n",
    "\n",
    "# create neighbors matrix and output directories\n",
    "for directory in [neighbors_mat_dir, output_dir]:\n",
    "    if not os.path.exists(directory):\n",
    "        os.makedirs(directory)"
   ]
  },
  {
   "cell_type": "markdown",
   "id": "9d5230c9-be4a-48a2-9dcc-7b772f768d92",
   "metadata": {},
   "source": [
    "## Cell Neighborhood Diversity\n",
    "This part of the notebook can be used to determine the homogeneity/diversity of the neighbors surrounding each of the cells in our images."
   ]
  },
  {
   "cell_type": "markdown",
   "id": "09afe37e-b8fc-4865-94d3-3b568a8584d3",
   "metadata": {},
   "source": [
    "### 1. Neighborhood Matrices\n",
    "You must specify which neighbors matrix should be used based on the pixel radius and cell type column.\n",
    "- `pixel_radius`: radius used to define the neighbors of each cell\n",
    "- `cell_type_col`: column in your cell table containing the cell phenotypes\n",
    "\n",
    "**If you have not previously a generated neighbors matrix with the `pixel_radius` and `cell_type_col` specified, it will be created below.**"
   ]
  },
  {
   "cell_type": "code",
   "execution_count": null,
   "id": "7888516e-0835-4805-9ec1-4f5f45dbde35",
   "metadata": {
    "tags": [
     "diversity_args"
    ]
   },
   "outputs": [],
   "source": [
    "pixel_radius = 50\n",
    "cell_type_col = settings.CELL_TYPE"
   ]
  },
  {
   "cell_type": "code",
   "execution_count": null,
   "id": "b8b74f7f-6dbb-4983-ba1d-21f65ff70989",
   "metadata": {
    "tags": [
     "neighbors_mat"
    ]
   },
   "outputs": [],
   "source": [
    "freqs_path = os.path.join(neighbors_mat_dir, f\"neighborhood_freqs-{cell_type_col}_radius{pixel_radius}.csv\")\n",
    "    \n",
    "# Check for existing neighbors matrix and if not, create a new one\n",
    "if not os.path.exists(freqs_path):\n",
    "    print(f\"Generating neighbors matrix for {cell_type_col}.\")\n",
    "    \n",
    "    all_data = pd.read_csv(cell_table_path)\n",
    "    _, neighbor_freqs = create_neighborhood_matrix(\n",
    "        all_data, dist_mat_dir, distlim=pixel_radius, cell_type_col=cell_type_col)\n",
    "    \n",
    "    # Save neighbors frequency matrix\n",
    "    neighbor_freqs.to_csv(freqs_path, index=False)"
   ]
  },
  {
   "cell_type": "markdown",
   "id": "51201351-4a0a-4a65-99ea-7c0cf134458f",
   "metadata": {},
   "source": [
    "### 2. Compute Shannon Diversity\n",
    "The code below will calculate the Shannon Diversity Index for each cell input. **The resulting file will be saved to the save_path (`neighborhood_diversity_radius{pixel_radius}.csv`) in the new cell_neighbor_analysis subdirectory.**"
   ]
  },
  {
   "cell_type": "code",
   "execution_count": null,
   "id": "46dd76b3-b947-4f99-b158-b18a14ea9152",
   "metadata": {
    "tags": [
     "shannon_diversity"
    ]
   },
   "outputs": [],
   "source": [
    "cell_type_columns = [cell_type_col] \n",
    "save_path = os.path.join(output_dir, f'neighborhood_diversity_{cell_type_col}_radius{pixel_radius}.csv')\n",
    "\n",
    "diversity_data = generate_neighborhood_diversity_analysis(neighbors_mat_dir, pixel_radius, cell_type_columns)\n",
    "diversity_data.to_csv(save_path, index=False)"
   ]
  },
  {
   "cell_type": "markdown",
   "id": "8381f52e-6c69-4f40-8ff0-dce1262aeef2",
   "metadata": {},
   "source": [
    "## Cell Distances\n",
    "This part of the notebook can be used to analyze the proximty/distance between cell phenotypes in samples. "
   ]
  },
  {
   "cell_type": "markdown",
   "id": "50537643-fa2d-4241-8eb6-3d5a695afa06",
   "metadata": {},
   "source": [
    "### 1. Compute Average Distances\n",
    "For every cell in an image, the code below will compute the average distance of the *k* closest cells of each phenotype. You must specify *k* and the cell phenotype column name below.\n",
    "\n",
    "- `k`: how many nearest cells of a specific phenotype to average the distance over\n",
    "- `cell_type_col`: column in your cell table containing the cell phenotypes\n",
    "\n",
    "**The resulting file will be saved to the save_path (`{cell_type_col}_avg_dists-nearest_{k}.csv`) in the new cell_neighbor_analysis subdirectory.**"
   ]
  },
  {
   "cell_type": "code",
   "execution_count": null,
   "id": "c8f6c5d9-3145-4e2b-8c02-8d6b0c49d0c5",
   "metadata": {
    "tags": [
     "dist_args"
    ]
   },
   "outputs": [],
   "source": [
    "k = 5\n",
    "cell_type_col = settings.CELL_TYPE"
   ]
  },
  {
   "cell_type": "code",
   "execution_count": null,
   "id": "722c9ed0-d671-464b-8316-0fc1cf94eda4",
   "metadata": {
    "tags": [
     "dist_analysis"
    ]
   },
   "outputs": [],
   "source": [
    "all_data = pd.read_csv(cell_table_path)\n",
    "    \n",
    "save_path = os.path.join(output_dir, f\"{cell_type_col}_avg_dists-nearest_{k}.csv\")\n",
    "distance_data = generate_cell_distance_analysis(all_data, dist_mat_dir, save_path, k, cell_type_col)"
   ]
  }
 ],
 "metadata": {
  "kernelspec": {
   "display_name": "Python 3 (ipykernel)",
   "language": "python",
   "name": "python3"
  },
  "language_info": {
   "codemirror_mode": {
    "name": "ipython",
    "version": 3
   },
   "file_extension": ".py",
   "mimetype": "text/x-python",
   "name": "python",
   "nbconvert_exporter": "python",
   "pygments_lexer": "ipython3",
   "version": "3.8.16"
  }
 },
 "nbformat": 4,
 "nbformat_minor": 5
}
