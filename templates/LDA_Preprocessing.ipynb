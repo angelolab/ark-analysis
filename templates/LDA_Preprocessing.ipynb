{
 "cells": [
  {
   "cell_type": "markdown",
   "metadata": {
    "collapsed": true,
    "pycharm": {
     "name": "#%% md\n"
    }
   },
   "source": [
    "# Spatial LDA Preprocessing\n",
    "\n",
    "## Overview and Setup\n",
    "This notebook walks through the various steps of transforming and evaluating a standard cell table to be compatible with Spatial-LDA analysis.  The main topics covered are:\n",
    "\n",
    "- [Correctly Formatting a Cell Table](#Correctly-Formatting-a-Cell-Table)\n",
    "- [Defining Local Cellular Neighborhoods](#Defining-Local-Cellular-Neighborhoods)\n",
    "- [Calculating Neighborhood Characteristics](#Calculating-Neighborhood-Characteristics)\n",
    "- [Determining the Number of Topics](#Determining-the-Number-of-Topics)\n",
    "- [Saving Results](#Saving-Results)"
   ]
  },
  {
   "cell_type": "markdown",
   "source": [
    "#### Import Required Packages"
   ],
   "metadata": {
    "collapsed": false
   }
  },
  {
   "cell_type": "code",
   "execution_count": 1,
   "outputs": [],
   "source": [
    "import os\n",
    "\n",
    "import pandas as pd\n",
    "\n",
    "import ark.settings as settings\n",
    "from ark.utils import spatial_lda_utils\n",
    "from ark.analysis import visualize\n",
    "from ark.spLDA import processing\n"
   ],
   "metadata": {
    "collapsed": false,
    "pycharm": {
     "name": "#%%\n"
    }
   }
  },
  {
   "cell_type": "markdown",
   "source": [
    "#### Set Up File Paths\n",
    "- `base_dir`: working directory\n",
    "- `input_dir`: contains the standard cell table\n",
    "- `cell_table_path`: name of the file for the standard cell table\n",
    "- `processed_dir`: destination directory for the processed data\n",
    "- `viz_dir`: destination directory for all plots and visualizations"
   ],
   "metadata": {
    "collapsed": false
   }
  },
  {
   "cell_type": "code",
   "execution_count": 8,
   "outputs": [],
   "source": [
    "base_dir = \"../data/example_dataset\"\n",
    "input_dir = os.path.join(base_dir, \"spatial_enrichment_input_data\")\n",
    "cell_table_path = os.path.join(input_dir, \"example_expression_matrix_clustered.csv\")\n",
    "processed_dir = os.path.join(base_dir, \"spatial_lda_processed_data\")\n",
    "viz_dir = os.path.join(base_dir, \"spatial_lda_visualizations\")\n",
    "\n",
    "# Create directories if they do not exist\n",
    "for directory in [input_dir, processed_dir, viz_dir]:\n",
    "    if not os.path.exists(directory):\n",
    "        os.makedirs(directory)"
   ],
   "metadata": {
    "collapsed": false,
    "pycharm": {
     "name": "#%%\n"
    }
   }
  },
  {
   "cell_type": "markdown",
   "source": [
    "## Correctly Formatting a Cell Table\n",
    "In order to proceed, you'll need data in the form of a standard cell table similar to the output of __[generate_cell_table()](https://ark-analysis.readthedocs.io/en/latest/_markdown/ark.segmentation.html#ark.segmentation.marker_quantification.generate_cell_table)__.  The cell table should be in `.csv` format.\n",
    "\n",
    "Assuming the data have undergone pixel clustering, the cell table should contain the following columns in addition to any marker-specific columns:"
   ],
   "metadata": {
    "collapsed": false,
    "pycharm": {
     "name": "#%% md\n"
    }
   }
  },
  {
   "cell_type": "code",
   "execution_count": 2,
   "outputs": [
    {
     "name": "stdout",
     "output_type": "stream",
     "text": [
      "['SampleID', 'label', 'cell_size', 'centroid-0', 'centroid-1', 'FlowSOM_ID', 'cluster_labels']\n"
     ]
    }
   ],
   "source": [
    "print(settings.BASE_COLS)"
   ],
   "metadata": {
    "collapsed": false,
    "pycharm": {
     "name": "#%%\n"
    }
   }
  },
  {
   "cell_type": "markdown",
   "source": [
    "#### Import and Inspect the Cell Table"
   ],
   "metadata": {
    "collapsed": false,
    "pycharm": {
     "name": "#%% md\n"
    }
   }
  },
  {
   "cell_type": "code",
   "execution_count": 14,
   "outputs": [
    {
     "name": "stdout",
     "output_type": "stream",
     "text": [
      "Index(['cell_size', 'Background', 'BetaCatenin', 'BetaTubulin', 'CD20', 'CD3',\n",
      "       'CD4', 'CD45', 'CD8', 'CD9', 'ECadherin', 'ER', 'GLUT1', 'HER2', 'HH3',\n",
      "       'HLA_Class_1', 'Ki67', 'LaminAC', 'Membrane', 'NaK ATPase',\n",
      "       'PanKeratin', 'SMA', 'Vimentin', 'label', 'area', 'eccentricity',\n",
      "       'major_axis_length', 'minor_axis_length', 'perimeter', 'convex_area',\n",
      "       'equivalent_diameter', 'centroid-0', 'centroid-1',\n",
      "       'major_minor_axis_ratio', 'perim_square_over_area',\n",
      "       'major_axis_equiv_diam_ratio', 'convex_hull_resid', 'centroid_dif',\n",
      "       'num_concavities', 'fov'],\n",
      "      dtype='object')\n",
      "(566, 40)\n",
      "(3262, 53)\n"
     ]
    }
   ],
   "source": [
    "cell_table = pd.read_csv(cell_table_path)\n",
    "print(cell_table.columns)"
   ],
   "metadata": {
    "collapsed": false,
    "pycharm": {
     "name": "#%%\n"
    }
   }
  },
  {
   "cell_type": "code",
   "execution_count": 4,
   "outputs": [
    {
     "data": {
      "text/plain": "   Unnamed: 0  cell_size         C        Na        Si       HH3  Vimentin  \\\n0           0        169  0.911187  0.813581  0.287503  0.765556  0.786841   \n1           1        240  0.912404  0.857459  0.287738  0.881312  0.726815   \n2           2         40  0.890122  0.838072  0.302053  0.839182  0.795838   \n3           3         66  0.900242  0.861314  0.237600  0.797691  0.509005   \n4           4        386  0.891710  0.880452  0.249988  0.910139  0.544552   \n\n   SMA  Background  Collagen.1  ...  label  SampleID     Tissue  PatientID  \\\n0  0.0    0.098785    0.000000  ...      2      fov6  gran_lung         30   \n1  0.0    0.291964    0.018747  ...      3      fov6  gran_lung         30   \n2  0.0    0.202693    0.000000  ...      4      fov6  gran_lung         30   \n3  0.0    0.241783    0.000000  ...      5      fov6  gran_lung         30   \n4  0.0    0.283618    0.000000  ...      6      fov6  gran_lung         30   \n\n       lineage       cell_type    cell_lin  lintype_num  FlowSOM_ID  \\\n0  endothelial     endothelial   nonimmune            5           1   \n1  endothelial     endothelial   nonimmune            5           1   \n2       immune  CD16_CD14_Mono     myeloid            1           2   \n3       immune           CD8_T  lymphocyte            2           3   \n4       immune           CD4_T  lymphocyte            2           4   \n\n   cluster_labels  \n0               4  \n1               0  \n2               0  \n3               4  \n4               4  \n\n[5 rows x 55 columns]",
      "text/html": "<div>\n<style scoped>\n    .dataframe tbody tr th:only-of-type {\n        vertical-align: middle;\n    }\n\n    .dataframe tbody tr th {\n        vertical-align: top;\n    }\n\n    .dataframe thead th {\n        text-align: right;\n    }\n</style>\n<table border=\"1\" class=\"dataframe\">\n  <thead>\n    <tr style=\"text-align: right;\">\n      <th></th>\n      <th>Unnamed: 0</th>\n      <th>cell_size</th>\n      <th>C</th>\n      <th>Na</th>\n      <th>Si</th>\n      <th>HH3</th>\n      <th>Vimentin</th>\n      <th>SMA</th>\n      <th>Background</th>\n      <th>Collagen.1</th>\n      <th>...</th>\n      <th>label</th>\n      <th>SampleID</th>\n      <th>Tissue</th>\n      <th>PatientID</th>\n      <th>lineage</th>\n      <th>cell_type</th>\n      <th>cell_lin</th>\n      <th>lintype_num</th>\n      <th>FlowSOM_ID</th>\n      <th>cluster_labels</th>\n    </tr>\n  </thead>\n  <tbody>\n    <tr>\n      <th>0</th>\n      <td>0</td>\n      <td>169</td>\n      <td>0.911187</td>\n      <td>0.813581</td>\n      <td>0.287503</td>\n      <td>0.765556</td>\n      <td>0.786841</td>\n      <td>0.0</td>\n      <td>0.098785</td>\n      <td>0.000000</td>\n      <td>...</td>\n      <td>2</td>\n      <td>fov6</td>\n      <td>gran_lung</td>\n      <td>30</td>\n      <td>endothelial</td>\n      <td>endothelial</td>\n      <td>nonimmune</td>\n      <td>5</td>\n      <td>1</td>\n      <td>4</td>\n    </tr>\n    <tr>\n      <th>1</th>\n      <td>1</td>\n      <td>240</td>\n      <td>0.912404</td>\n      <td>0.857459</td>\n      <td>0.287738</td>\n      <td>0.881312</td>\n      <td>0.726815</td>\n      <td>0.0</td>\n      <td>0.291964</td>\n      <td>0.018747</td>\n      <td>...</td>\n      <td>3</td>\n      <td>fov6</td>\n      <td>gran_lung</td>\n      <td>30</td>\n      <td>endothelial</td>\n      <td>endothelial</td>\n      <td>nonimmune</td>\n      <td>5</td>\n      <td>1</td>\n      <td>0</td>\n    </tr>\n    <tr>\n      <th>2</th>\n      <td>2</td>\n      <td>40</td>\n      <td>0.890122</td>\n      <td>0.838072</td>\n      <td>0.302053</td>\n      <td>0.839182</td>\n      <td>0.795838</td>\n      <td>0.0</td>\n      <td>0.202693</td>\n      <td>0.000000</td>\n      <td>...</td>\n      <td>4</td>\n      <td>fov6</td>\n      <td>gran_lung</td>\n      <td>30</td>\n      <td>immune</td>\n      <td>CD16_CD14_Mono</td>\n      <td>myeloid</td>\n      <td>1</td>\n      <td>2</td>\n      <td>0</td>\n    </tr>\n    <tr>\n      <th>3</th>\n      <td>3</td>\n      <td>66</td>\n      <td>0.900242</td>\n      <td>0.861314</td>\n      <td>0.237600</td>\n      <td>0.797691</td>\n      <td>0.509005</td>\n      <td>0.0</td>\n      <td>0.241783</td>\n      <td>0.000000</td>\n      <td>...</td>\n      <td>5</td>\n      <td>fov6</td>\n      <td>gran_lung</td>\n      <td>30</td>\n      <td>immune</td>\n      <td>CD8_T</td>\n      <td>lymphocyte</td>\n      <td>2</td>\n      <td>3</td>\n      <td>4</td>\n    </tr>\n    <tr>\n      <th>4</th>\n      <td>4</td>\n      <td>386</td>\n      <td>0.891710</td>\n      <td>0.880452</td>\n      <td>0.249988</td>\n      <td>0.910139</td>\n      <td>0.544552</td>\n      <td>0.0</td>\n      <td>0.283618</td>\n      <td>0.000000</td>\n      <td>...</td>\n      <td>6</td>\n      <td>fov6</td>\n      <td>gran_lung</td>\n      <td>30</td>\n      <td>immune</td>\n      <td>CD4_T</td>\n      <td>lymphocyte</td>\n      <td>2</td>\n      <td>4</td>\n      <td>4</td>\n    </tr>\n  </tbody>\n</table>\n<p>5 rows × 55 columns</p>\n</div>"
     },
     "execution_count": 4,
     "metadata": {},
     "output_type": "execute_result"
    }
   ],
   "source": [
    "cell_table.head()"
   ],
   "metadata": {
    "collapsed": false,
    "pycharm": {
     "name": "#%%\n"
    }
   }
  },
  {
   "cell_type": "markdown",
   "source": [
    "#### Format the Cell Table\n",
    "The following code will transform the cell table into a format suitable for Spatial-LDA.  Here is where you can specify which clusters and/or markers to include in your analysis.\n",
    "\n",
    "Indicate markers by their column name and clusters by their cluster ID (`FlowSOM_ID`).  If you do not want to include any markers, set `markers = None`, although you must specify at least one of clusters or markers.\n"
   ],
   "metadata": {
    "collapsed": false,
    "pycharm": {
     "name": "#%% md\n"
    }
   }
  },
  {
   "cell_type": "code",
   "execution_count": 6,
   "outputs": [],
   "source": [
    "# Specify which markers and clusters to include\n",
    "markers = [\n",
    "    \"CD3\",\n",
    "    \"CD4\",\n",
    "    \"CD8\",\n",
    "    \"CD14\",\n",
    "    \"CD16\",\n",
    "    \"CD20\",\n",
    "    \"CD31\",\n",
    "    \"CD36\",\n",
    "    \"IDO\",\n",
    "    \"PD.L1\",\n",
    "    \"Ki67\",\n",
    "    \"Vimetin\",\n",
    "    \"Lag3\"\n",
    "]\n",
    "clusters = [\n",
    "    1,\n",
    "    2,\n",
    "    3,\n",
    "    4,\n",
    "    5,\n",
    "    6,\n",
    "    7,\n",
    "    8,\n",
    "    9,\n",
    "    10,\n",
    "    11,\n",
    "    12,\n",
    "    13,\n",
    "    14,\n",
    "    15,\n",
    "    16,\n",
    "    17,\n",
    "    18,\n",
    "    19,\n",
    "    20\n",
    "]"
   ],
   "metadata": {
    "collapsed": false,
    "pycharm": {
     "name": "#%%\n"
    }
   }
  },
  {
   "cell_type": "code",
   "execution_count": 7,
   "outputs": [
    {
     "ename": "ValueError",
     "evalue": "Invalid value(s) provided for required columns variable: value(s) centroid-0,centroid-1 not found in cell table columns list",
     "output_type": "error",
     "traceback": [
      "\u001B[0;31m---------------------------------------------------------------------------\u001B[0m",
      "\u001B[0;31mValueError\u001B[0m                                Traceback (most recent call last)",
      "\u001B[0;32m<ipython-input-7-ad16e62c7d8d>\u001B[0m in \u001B[0;36m<module>\u001B[0;34m\u001B[0m\n\u001B[1;32m      1\u001B[0m \u001B[0;31m# Call formatting function\u001B[0m\u001B[0;34m\u001B[0m\u001B[0;34m\u001B[0m\u001B[0;34m\u001B[0m\u001B[0m\n\u001B[1;32m      2\u001B[0m formatted_cell_table = processing.format_cell_table(\n\u001B[0;32m----> 3\u001B[0;31m     cell_table=cell_table, markers=markers, clusters=clusters)\n\u001B[0m\u001B[1;32m      4\u001B[0m \u001B[0;34m\u001B[0m\u001B[0m\n",
      "\u001B[0;32m~/Dropbox/ark-analysis/ark/spLDA/processing.py\u001B[0m in \u001B[0;36mformat_cell_table\u001B[0;34m(cell_table, markers, clusters)\u001B[0m\n\u001B[1;32m     36\u001B[0m \u001B[0;34m\u001B[0m\u001B[0m\n\u001B[1;32m     37\u001B[0m     \u001B[0;31m# Check function arguments\u001B[0m\u001B[0;34m\u001B[0m\u001B[0;34m\u001B[0m\u001B[0;34m\u001B[0m\u001B[0m\n\u001B[0;32m---> 38\u001B[0;31m     \u001B[0mspu\u001B[0m\u001B[0;34m.\u001B[0m\u001B[0mcheck_format_cell_table_args\u001B[0m\u001B[0;34m(\u001B[0m\u001B[0mcell_table\u001B[0m\u001B[0;34m=\u001B[0m\u001B[0mcell_table\u001B[0m\u001B[0;34m,\u001B[0m \u001B[0mmarkers\u001B[0m\u001B[0;34m=\u001B[0m\u001B[0mmarkers\u001B[0m\u001B[0;34m,\u001B[0m \u001B[0mclusters\u001B[0m\u001B[0;34m=\u001B[0m\u001B[0mclusters\u001B[0m\u001B[0;34m)\u001B[0m\u001B[0;34m\u001B[0m\u001B[0;34m\u001B[0m\u001B[0m\n\u001B[0m\u001B[1;32m     39\u001B[0m \u001B[0;34m\u001B[0m\u001B[0m\n\u001B[1;32m     40\u001B[0m     \u001B[0;31m# Only keep columns relevant for spatial-LDA\u001B[0m\u001B[0;34m\u001B[0m\u001B[0;34m\u001B[0m\u001B[0;34m\u001B[0m\u001B[0m\n",
      "\u001B[0;32m~/Dropbox/ark-analysis/ark/utils/spatial_lda_utils.py\u001B[0m in \u001B[0;36mcheck_format_cell_table_args\u001B[0;34m(cell_table, markers, clusters)\u001B[0m\n\u001B[1;32m     23\u001B[0m \u001B[0;34m\u001B[0m\u001B[0m\n\u001B[1;32m     24\u001B[0m     \u001B[0;31m# Check cell table columns\u001B[0m\u001B[0;34m\u001B[0m\u001B[0;34m\u001B[0m\u001B[0;34m\u001B[0m\u001B[0m\n\u001B[0;32m---> 25\u001B[0;31m     \u001B[0mverify_in_list\u001B[0m\u001B[0;34m(\u001B[0m\u001B[0mrequired_columns\u001B[0m\u001B[0;34m=\u001B[0m\u001B[0mBASE_COLS\u001B[0m\u001B[0;34m,\u001B[0m \u001B[0mcell_table_columns\u001B[0m\u001B[0;34m=\u001B[0m\u001B[0mcell_table\u001B[0m\u001B[0;34m.\u001B[0m\u001B[0mcolumns\u001B[0m\u001B[0;34m.\u001B[0m\u001B[0mto_list\u001B[0m\u001B[0;34m(\u001B[0m\u001B[0;34m)\u001B[0m\u001B[0;34m)\u001B[0m\u001B[0;34m\u001B[0m\u001B[0;34m\u001B[0m\u001B[0m\n\u001B[0m\u001B[1;32m     26\u001B[0m \u001B[0;34m\u001B[0m\u001B[0m\n\u001B[1;32m     27\u001B[0m     \u001B[0;31m# Check markers/clusters\u001B[0m\u001B[0;34m\u001B[0m\u001B[0;34m\u001B[0m\u001B[0;34m\u001B[0m\u001B[0m\n",
      "\u001B[0;32m~/Dropbox/ark-analysis/ark/utils/misc_utils.py\u001B[0m in \u001B[0;36mverify_in_list\u001B[0;34m(**kwargs)\u001B[0m\n\u001B[1;32m    154\u001B[0m                    \" in %s list\")\n\u001B[1;32m    155\u001B[0m \u001B[0;34m\u001B[0m\u001B[0m\n\u001B[0;32m--> 156\u001B[0;31m         \u001B[0;32mraise\u001B[0m \u001B[0mValueError\u001B[0m\u001B[0;34m(\u001B[0m\u001B[0merr_str\u001B[0m \u001B[0;34m%\u001B[0m \u001B[0;34m(\u001B[0m\u001B[0mtest_list_name\u001B[0m\u001B[0;34m,\u001B[0m \u001B[0mbad_vals\u001B[0m\u001B[0;34m,\u001B[0m \u001B[0mgood_values_name\u001B[0m\u001B[0;34m)\u001B[0m\u001B[0;34m)\u001B[0m\u001B[0;34m\u001B[0m\u001B[0;34m\u001B[0m\u001B[0m\n\u001B[0m\u001B[1;32m    157\u001B[0m \u001B[0;34m\u001B[0m\u001B[0m\n\u001B[1;32m    158\u001B[0m \u001B[0;34m\u001B[0m\u001B[0m\n",
      "\u001B[0;31mValueError\u001B[0m: Invalid value(s) provided for required columns variable: value(s) centroid-0,centroid-1 not found in cell table columns list"
     ]
    }
   ],
   "source": [
    "# Call formatting function\n",
    "formatted_cell_table = processing.format_cell_table(\n",
    "    cell_table=cell_table, markers=markers, clusters=clusters)"
   ],
   "metadata": {
    "collapsed": false,
    "pycharm": {
     "name": "#%%\n"
    }
   }
  },
  {
   "cell_type": "markdown",
   "source": [
    "The result is now a dictionary with one element per field of view (FOV) which contains only the necessary columns for spatial-LDA."
   ],
   "metadata": {
    "collapsed": false,
    "pycharm": {
     "name": "#%% md\n"
    }
   }
  },
  {
   "cell_type": "markdown",
   "source": [
    "## Defining Local Cellular Neighborhoods\n",
    "Spatial-LDA tries to learn information about cells in similar \"neighborhoods\".  To do that, we need to define the size and location of each neighborhood.\n",
    "\n",
    "Determining a reasonable neighborhood size around a particular cell will depend on the size and quantity of all cells in the FOV, but a typical size is a radius between 100-200 pixels.  The neighborhood around that cell then includes all cells whose centroid falls within the provided radius.\n",
    "\n",
    "The code below collects metrics regarding the distribution of cell counts and cell size among all FOVs.  If the pixel dimension of your FOVs is anything other than 1,024 x 1,024 then indicate it using the `total_pix` argument."
   ],
   "metadata": {
    "collapsed": false,
    "pycharm": {
     "name": "#%% md\n"
    }
   }
  },
  {
   "cell_type": "code",
   "execution_count": null,
   "outputs": [],
   "source": [
    "fov_stats = processing.fov_density(\n",
    "    cell_table=formatted_cell_table, total_pix=1024 ** 2)"
   ],
   "metadata": {
    "collapsed": false,
    "pycharm": {
     "name": "#%%\n"
    }
   }
  },
  {
   "cell_type": "markdown",
   "source": [
    "The output contains three metrics per FOV:\n",
    "- `average_area`: average cell size (in pixel area)\n",
    "- `cellular_density`: ratio of total pixels occupied by cells to total pixels\n",
    "- `total_cells`: total number of individual cells\n",
    "\n",
    "These metrics can be visualized below."
   ],
   "metadata": {
    "collapsed": false,
    "pycharm": {
     "name": "#%% md\n"
    }
   }
  },
  {
   "cell_type": "code",
   "execution_count": null,
   "outputs": [],
   "source": [
    "# Average area\n",
    "visualize.visualize_fov_stats(\n",
    "    fov_stats, metric=\"average_area\", save_dir=viz_dir)"
   ],
   "metadata": {
    "collapsed": false,
    "pycharm": {
     "name": "#%%\n"
    }
   }
  },
  {
   "cell_type": "code",
   "execution_count": null,
   "outputs": [],
   "source": [
    "# Cellular density\n",
    "visualize.visualize_fov_stats(\n",
    "    fov_stats, metric=\"cellular_density\", save_dir=viz_dir)"
   ],
   "metadata": {
    "collapsed": false,
    "pycharm": {
     "name": "#%%\n"
    }
   }
  },
  {
   "cell_type": "code",
   "execution_count": null,
   "outputs": [],
   "source": [
    "# Total cells\n",
    "visualize.visualize_fov_stats(\n",
    "    fov_stats, metric=\"total_cells\", save_dir=viz_dir)"
   ],
   "metadata": {
    "collapsed": false,
    "pycharm": {
     "name": "#%%\n"
    }
   }
  },
  {
   "cell_type": "markdown",
   "source": [
    "#### Neighborhood Size\n",
    "If a large number of FOVs have low cell counts, then defining a larger neighborhood size in the next section may be warranted.  On the other hand, if many of the FOVs are densely packed with cells then a smaller neighborhood size will likely perform better."
   ],
   "metadata": {
    "collapsed": false,
    "pycharm": {
     "name": "#%% md\n"
    }
   }
  },
  {
   "cell_type": "markdown",
   "source": [
    "## Calculating Neighborhood Characteristics\n",
    "The next steps combine the radius information learned above with marker or cluster data to construct cellular neighborhoods and measure adjacent cells.\n",
    "\n",
    "#### Featurize the Cell Table\n",
    "In this step, the neighborhood around each index cell is summarized using one of four featurization methods.  The four methods are:\n",
    "\n",
    "- `cluster`: for each cluster, count the total number of cells within the neighborhood of the index cell which belong to that cluster.\n",
    "- `marker`: for each marker, count the total number of cells within the neighborhood of the index cell which express that marker.\n",
    "- `avg_marker`: for each marker, compute the average expression level of all cells within the neighborhood of the index cell.\n",
    "- `count`: count the total number of cells within the neighborhood of the index cell.\n",
    "\n",
    "By default, all cells are labelled as index cells, but you can choose to only use specific cells if desired.  If so, you must create a new column to indicate which cells are index cells.  Below is an example of code that would create an index column for tumor cells:"
   ],
   "metadata": {
    "collapsed": false,
    "pycharm": {
     "name": "#%% md\n"
    }
   }
  },
  {
   "cell_type": "code",
   "execution_count": null,
   "outputs": [],
   "source": [
    "# Example: create custom index column for tumor cells\n",
    "\n",
    "# for i in formatted_cell_table[\"fovs\"]:\n",
    "#     is_tumor = formatted_cell_table[i][\"cluster\"] == \"tumor\"\n",
    "#     formatted_cell_table[i][\"is_tumor\"] = is_tumor"
   ],
   "metadata": {
    "collapsed": false,
    "pycharm": {
     "name": "#%%\n"
    }
   }
  },
  {
   "cell_type": "code",
   "execution_count": null,
   "outputs": [],
   "source": [
    "# Set featurization parameters\n",
    "featurization = \"cluster\"\n",
    "radius = 100\n",
    "cell_index = \"is_index\""
   ],
   "metadata": {
    "collapsed": false,
    "pycharm": {
     "name": "#%%\n"
    }
   }
  },
  {
   "cell_type": "code",
   "execution_count": null,
   "outputs": [],
   "source": [
    "# Call featurization function\n",
    "featurized_cell_table = processing.featurize_cell_table(\n",
    "    cell_table=formatted_cell_table, featurization=featurization,\n",
    "    radius=radius, cell_index=cell_index)"
   ],
   "metadata": {
    "collapsed": false,
    "pycharm": {
     "name": "#%%\n"
    }
   }
  },
  {
   "cell_type": "markdown",
   "source": [
    "In addition to summarizing the cellular neighborhoods, `featurize_cell_table()` will also set aside a fraction of the data to use as a training set.\n",
    "\n",
    "#### Constructing the Adjacency Network\n",
    "The following code computes pairwise distances between cells and uses this information to build a network graph of adjacent cells.  Cells are considered adjacent if they share a facet in the Voronoi partitioning of cell positions.  Spatial-LDA uses this information to regulate how likely adjacent cells are to have similar topic preferences."
   ],
   "metadata": {
    "collapsed": false,
    "pycharm": {
     "name": "#%% md\n"
    }
   }
  },
  {
   "cell_type": "code",
   "execution_count": null,
   "outputs": [],
   "source": [
    "difference_mats = processing.create_difference_matrices(\n",
    "    cell_table=formatted_cell_table, features=featurized_cell_table)"
   ],
   "metadata": {
    "collapsed": false,
    "pycharm": {
     "name": "#%%\n"
    }
   }
  },
  {
   "cell_type": "markdown",
   "source": [
    "The output contains the difference matrices for the training data and also the full combined data."
   ],
   "metadata": {
    "collapsed": false,
    "pycharm": {
     "name": "#%% md\n"
    }
   }
  },
  {
   "cell_type": "code",
   "execution_count": null,
   "outputs": [],
   "source": [
    "difference_mats[\"train_diff_mat\"].head()"
   ],
   "metadata": {
    "collapsed": false,
    "pycharm": {
     "name": "#%%\n"
    }
   }
  },
  {
   "cell_type": "markdown",
   "source": [
    "## Determining the Number of Topics\n",
    "Training a spatial-LDA model can be computationally expensive, so it's worth exploring some reasonable values of topic parameters before running the algorithm.  Five different metrics are currently supported for evaluating a K-means clustering of the featurized cell table where the number of K-means clusters is a proxy for the number of topics.\n",
    "\n",
    "The five different metrics are:\n",
    "\n",
    "- `inertia`: Inertia is the total sum of within-cluster variance for all clusters.\n",
    "- `silhouette`: The silhouette score is a goodness-of-fit measurement for clustering.  Values closer to 1 indicate that most observations are well-matched to their cluster, while values closer to -1 indicate poorly matched observations.\n",
    "- `gap_stat`: The gap statistic, $Gap(k)$, is a re-sampling based measure which computes the difference between the log of the pooled within-cluster sum of squares ( $logW_k$ ) to its expected value ( $E(logW_k)$ ) under a null distribution.  The optimal number of clusters $k$ is the smallest $k$ for which $Gap(k) \\geq Gap(k+1) - s_{k+1}$ where $s_{k+1}$ is a scaled estimate of the standard error of $Gap(k+1)$.\n",
    "- `percent_var_exp`: The percent of total variance in the data explained by the clustering.\n",
    "- `cell_counts`: The distribution of cell features within each cluster.\n",
    "\n",
    "#### Computing EDA Metrics\n",
    "The code block below allows you to specify different number of topics to explore using all five metrics."
   ],
   "metadata": {
    "collapsed": false,
    "pycharm": {
     "name": "#%% md\n"
    }
   }
  },
  {
   "cell_type": "code",
   "execution_count": null,
   "outputs": [],
   "source": [
    "# specify different topic numbers and bootstrap iterations\n",
    "num_topics = [3, 4, 5, 6, 7, 8, 9, 10]\n",
    "num_boots = 100"
   ],
   "metadata": {
    "collapsed": false,
    "pycharm": {
     "name": "#%%\n"
    }
   }
  },
  {
   "cell_type": "code",
   "execution_count": null,
   "outputs": [],
   "source": [
    "topic_eda = processing.compute_topic_eda(\n",
    "    features=featurized_cell_table[\"featurized_fovs\"],\n",
    "    topics=num_topics,\n",
    "    num_boots=num_boots)"
   ],
   "metadata": {
    "collapsed": false,
    "pycharm": {
     "name": "#%%\n"
    }
   }
  },
  {
   "cell_type": "markdown",
   "source": [
    "#### Visualizing EDA Metrics\n",
    "\n",
    "The following code blocks produce plots of each metric as a function of the number of clusters (topics)."
   ],
   "metadata": {
    "collapsed": false,
    "pycharm": {
     "name": "#%% md\n"
    }
   }
  },
  {
   "cell_type": "code",
   "execution_count": null,
   "outputs": [],
   "source": [
    "# Inertia\n",
    "visualize.visualize_topic_eda(\n",
    "    data=topic_eda, metric=\"inertia\", save_dir=viz_dir)"
   ],
   "metadata": {
    "collapsed": false,
    "pycharm": {
     "name": "#%%\n"
    }
   }
  },
  {
   "cell_type": "code",
   "execution_count": null,
   "outputs": [],
   "source": [
    "# Silhouette Score\n",
    "visualize.visualize_topic_eda(\n",
    "    data=topic_eda, metric=\"silhouette\", save_dir=viz_dir)"
   ],
   "metadata": {
    "collapsed": false,
    "pycharm": {
     "name": "#%%\n"
    }
   }
  },
  {
   "cell_type": "code",
   "execution_count": null,
   "outputs": [],
   "source": [
    "# Gap Statistic\n",
    "visualize.visualize_topic_eda(\n",
    "    data=topic_eda, metric=\"gap_stat\", save_dir=viz_dir)"
   ],
   "metadata": {
    "collapsed": false,
    "pycharm": {
     "name": "#%%\n"
    }
   }
  },
  {
   "cell_type": "code",
   "execution_count": null,
   "outputs": [],
   "source": [
    "# Percent of Variance Explained\n",
    "visualize.visualize_topic_eda(\n",
    "    data=topic_eda, metric=\"percent_var_exp\", save_dir=viz_dir)"
   ],
   "metadata": {
    "collapsed": false,
    "pycharm": {
     "name": "#%%\n"
    }
   }
  },
  {
   "cell_type": "markdown",
   "source": [
    "The code below plots a heatmap of the cell features against the specific cluster assignments from a given K-means clustering.  You must specify one value of `k` present in the `num_topics` variable above."
   ],
   "metadata": {
    "collapsed": false,
    "pycharm": {
     "name": "#%% md\n"
    }
   }
  },
  {
   "cell_type": "code",
   "execution_count": null,
   "outputs": [],
   "source": [
    "# Cell Feature Distribution\n",
    "k=num_topics[0]\n",
    "visualize.visualize_topic_eda(\n",
    "    data=topic_eda, metric=\"cell_counts\", k=k, save_dir=viz_dir)"
   ],
   "metadata": {
    "collapsed": false,
    "pycharm": {
     "name": "#%%\n"
    }
   }
  },
  {
   "cell_type": "markdown",
   "source": [
    "## Saving Results\n",
    "The plots and figures above will be saved in the directory specified by `viz_dir` if it was passed to the visualization functions.  To save the formatted and/or featurized cell tables along with the difference matrices, use the code block below.\n",
    "\n",
    "*Note: entire dictionary objects can be saved into .pkl files.  If you want to save data frames for specific FOVs individually as .csv files, you need to extract the desired data frame and specify format=\"csv\" in the saving function.*"
   ],
   "metadata": {
    "collapsed": false,
    "pycharm": {
     "name": "#%% md\n"
    }
   }
  },
  {
   "cell_type": "code",
   "execution_count": null,
   "outputs": [],
   "source": [
    "# save formatted cell table\n",
    "file_name = \"formatted_cell_table\"\n",
    "spatial_lda_utils.save_spatial_lda_file(\n",
    "    data=formatted_cell_table, dir=processed_dir, file_name=file_name, format=\"pkl\")"
   ],
   "metadata": {
    "collapsed": false,
    "pycharm": {
     "name": "#%%\n"
    }
   }
  },
  {
   "cell_type": "code",
   "execution_count": null,
   "outputs": [],
   "source": [
    "# save featurized cell table\n",
    "file_name = \"featurized_cell_table\"\n",
    "spatial_lda_utils.save_spatial_lda_file(\n",
    "    data=featurized_cell_table, dir=processed_dir, file_name=file_name, format=\"pkl\")"
   ],
   "metadata": {
    "collapsed": false,
    "pycharm": {
     "name": "#%%\n"
    }
   }
  },
  {
   "cell_type": "code",
   "execution_count": null,
   "outputs": [],
   "source": [
    "# save difference matrices\n",
    "file_name = \"difference_mats\"\n",
    "spatial_lda_utils.save_spatial_lda_file(\n",
    "    data=difference_mats, dir=processed_dir, file_name=file_name, format=\"pkl\")"
   ],
   "metadata": {
    "collapsed": false,
    "pycharm": {
     "name": "#%%\n"
    }
   }
  },
  {
   "cell_type": "code",
   "execution_count": null,
   "outputs": [],
   "source": [
    "# save FOV stats\n",
    "file_name = \"fov_stats\"\n",
    "spatial_lda_utils.save_spatial_lda_file(\n",
    "    data=fov_stats, dir=processed_dir, file_name=file_name, format=\"pkl\")"
   ],
   "metadata": {
    "collapsed": false,
    "pycharm": {
     "name": "#%%\n"
    }
   }
  },
  {
   "cell_type": "code",
   "execution_count": null,
   "outputs": [],
   "source": [
    "# save topic EDA\n",
    "file_name = \"topic_eda\"\n",
    "spatial_lda_utils.save_spatial_lda_file(\n",
    "    data=topic_eda, dir=processed_dir, file_name=file_name, format=\"pkl\")"
   ],
   "metadata": {
    "collapsed": false,
    "pycharm": {
     "name": "#%%\n"
    }
   }
  }
 ],
 "metadata": {
  "kernelspec": {
   "display_name": "Python 3",
   "language": "python",
   "name": "python3"
  },
  "language_info": {
   "codemirror_mode": {
    "name": "ipython",
    "version": 2
   },
   "file_extension": ".py",
   "mimetype": "text/x-python",
   "name": "python",
   "nbconvert_exporter": "python",
   "pygments_lexer": "ipython2",
   "version": "2.7.6"
  }
 },
 "nbformat": 4,
 "nbformat_minor": 0
}