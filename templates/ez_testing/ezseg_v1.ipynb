{
 "cells": [
  {
   "cell_type": "markdown",
   "metadata": {},
   "source": [
    "# ezSegmenter"
   ]
  },
  {
   "cell_type": "markdown",
   "metadata": {},
   "source": [
    "#### This segmentation tool enables creation of masks for objects not easily picked up by primary cell segmentation methods on multiplexed imaging data.\n",
    "#### In addition this tool can be used to create composites of channels as well as merge object masks with cell masks."
   ]
  },
  {
   "cell_type": "markdown",
   "metadata": {},
   "source": [
    "## 0. Imports and Path Setting"
   ]
  },
  {
   "cell_type": "code",
   "execution_count": null,
   "metadata": {},
   "outputs": [],
   "source": [
    "%load_ext autoreload"
   ]
  },
  {
   "cell_type": "code",
   "execution_count": 5,
   "metadata": {},
   "outputs": [],
   "source": [
    "%autoreload 2"
   ]
  },
  {
   "cell_type": "code",
   "execution_count": 6,
   "metadata": {},
   "outputs": [],
   "source": [
    "import pathlib\n",
    "from ark.segmentation import ez_object_segmentation, merge_masks, composite_builder\n",
    "from alpineer import load_utils\n",
    "from tqdm.notebook import tqdm\n",
    "import xarray as xr"
   ]
  },
  {
   "cell_type": "code",
   "execution_count": 16,
   "metadata": {},
   "outputs": [],
   "source": [
    "# List the path where your multiplexed imaging data lives. The folder should contain subfolders for each FoV you wish to work upon.\n",
    "base_dir = pathlib.Path(\"../../data/experiments/ezSeg Data/\")\n",
    "point77_TIFs = base_dir / \"Point77\" / \"TIFs\"\n",
    "p77_tiffs = list((point77_TIFs).glob(\"*.tiff\"))"
   ]
  },
  {
   "cell_type": "code",
   "execution_count": 19,
   "metadata": {},
   "outputs": [],
   "source": [
    "# Editing path / tiff names\n",
    "for p in p77_tiffs:\n",
    "    # remove whitespace from filename\n",
    "    p_replace = p.name.replace(\" \", \"\")\n",
    "    p.rename(p.with_name(p_replace).with_suffix(\".tiff\"))"
   ]
  },
  {
   "cell_type": "code",
   "execution_count": null,
   "metadata": {
    "pycharm": {
     "is_executing": true
    }
   },
   "outputs": [],
   "source": [
    "# Load tiff files as xarray\n",
    "p77_xr: xr.DataArray = load_utils.load_imgs_from_dir(data_dir=point77_TIFs).drop_vars(\"compartments\").squeeze()\n",
    "p77_xr"
   ]
  },
  {
   "cell_type": "markdown",
   "metadata": {},
   "source": [
    "1. Create object masks\n",
    "2. Composite builder\n",
    "3. Merge masks"
   ]
  },
  {
   "cell_type": "markdown",
   "metadata": {},
   "source": [
    "## 1. Create Object Masks"
   ]
  },
  {
   "cell_type": "code",
   "execution_count": 21,
   "metadata": {},
   "outputs": [
    {
     "data": {
      "application/vnd.jupyter.widget-view+json": {
       "model_id": "850cba7537af47ca9c8d76366925bff0",
       "version_major": 2,
       "version_minor": 0
      },
      "text/plain": [
       "  0%|          | 0/47 [00:00<?, ?it/s]"
      ]
     },
     "metadata": {},
     "output_type": "display_data"
    }
   ],
   "source": [
    "object_masks: xr.DataArray = xr.zeros_like(other=p77_xr)\n",
    "object_masks.name=\"Object Masks\"\n",
    "for fov in tqdm(p77_xr.fovs.values):\n",
    "    fov_2d = p77_xr.loc[fov].values\n",
    "    object_masks.loc[fov].values = ez_object_segmentation.create_object_masks(input_image=fov_2d)"
   ]
  },
  {
   "cell_type": "code",
   "execution_count": 22,
   "metadata": {},
   "outputs": [
    {
     "data": {
      "text/plain": [
       "array(['8OHGuano', 'Amyloidbeta140', 'Amyloidbeta142', 'ApoE4', 'Au197',\n",
       "       'Background', 'C12', 'CD105', 'CD31', 'CD33Lyo', 'CD45', 'CD47',\n",
       "       'CD56Lyo', 'Ca40', 'Calbindin', 'Calretinin', 'EEA1', 'GFAP',\n",
       "       'HistoneH3Lyo', 'Iba1', 'MAG', 'MAP2', 'MBP', 'MCT1', 'MFN2',\n",
       "       'Na23', 'PHF1Tau', 'PSD95', 'PanAmyloidbeta1724', 'PanApoE2E3E4',\n",
       "       'PanGAD6567', 'Parvalbumin', 'PolyubiK48', 'PolyubiK63',\n",
       "       'Presenilin1NTF', 'Reelin', 'SERT', 'Si28', 'Synaptophysin', 'TH',\n",
       "       'Ta181', 'TotalTau', 'VGAT', 'VGLUT1', 'VGLUT2', 'empty139',\n",
       "       'pTDP43'], dtype='<U18')"
      ]
     },
     "execution_count": 22,
     "metadata": {},
     "output_type": "execute_result"
    }
   ],
   "source": [
    "object_masks.fovs.values"
   ]
  },
  {
   "cell_type": "markdown",
   "metadata": {},
   "source": [
    "## 2. Composite Builder"
   ]
  },
  {
   "cell_type": "code",
   "execution_count": 45,
   "metadata": {},
   "outputs": [],
   "source": [
    "composite_directory = \"../../data/experiments/ezSeg Data/Composites/Point77/\"\n",
    "\n",
    "composite_name = \"composite_a.tiff\""
   ]
  },
  {
   "cell_type": "code",
   "execution_count": 46,
   "metadata": {},
   "outputs": [
    {
     "data": {
      "text/plain": [
       "array([[0, 0, 0, ..., 0, 0, 0],\n",
       "       [0, 0, 0, ..., 0, 0, 0],\n",
       "       [0, 0, 0, ..., 0, 0, 0],\n",
       "       ...,\n",
       "       [0, 0, 0, ..., 0, 0, 0],\n",
       "       [0, 0, 0, ..., 0, 0, 0],\n",
       "       [0, 0, 0, ..., 0, 0, 0]], dtype=uint64)"
      ]
     },
     "execution_count": 46,
     "metadata": {},
     "output_type": "execute_result"
    }
   ],
   "source": [
    "composite_array = composite_builder.composite_builder(\n",
    "    data=object_masks,\n",
    "    images_to_add=[\"8OHGuano\", \"C12\", \"Reelin\"],\n",
    "    images_to_subtract=[\"MBP\", \"Iba1\", \"Si28\"],\n",
    "    composite_name = composite_name,\n",
    "    composite_directory=composite_directory,\n",
    "    image_type=\"intensity\",\n",
    "    composite_method=\"full\",\n",
    ")\n",
    "composite_array"
   ]
  },
  {
   "cell_type": "markdown",
   "metadata": {},
   "source": [
    "## 3. Mask Merger\n",
    "\n",
    "**Note:** Requires the Deepcell outputs from `1_Segment_Image_Data.ipynb`."
   ]
  },
  {
   "cell_type": "code",
   "execution_count": 25,
   "metadata": {},
   "outputs": [],
   "source": [
    "curr_object_mask = pathlib.Path(\"../../data/experiments/ezSeg Data/segmentation/deepcell_output/TIFs_whole_cell.tiff\")"
   ]
  },
  {
   "cell_type": "code",
   "execution_count": 62,
   "metadata": {},
   "outputs": [],
   "source": [
    "merge_masks.merge_masks_seq(\n",
    "    object_list=[\"composite_b\", \"composite_a\"],\n",
    "    object_mask_dir=composite_directory,\n",
    "    cell_mask_path=curr_object_mask,\n",
    "    overlap=10,\n",
    "    save_path=composite_directory,\n",
    ")"
   ]
  }
 ],
 "metadata": {
  "kernelspec": {
   "display_name": "Python 3 (ipykernel)",
   "language": "python",
   "name": "python3"
  },
  "language_info": {
   "codemirror_mode": {
    "name": "ipython",
    "version": 3
   },
   "file_extension": ".py",
   "mimetype": "text/x-python",
   "name": "python",
   "nbconvert_exporter": "python",
   "pygments_lexer": "ipython3",
   "version": "3.10.11"
  }
 },
 "nbformat": 4,
 "nbformat_minor": 2
}
