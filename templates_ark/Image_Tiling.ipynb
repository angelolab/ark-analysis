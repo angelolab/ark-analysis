{
 "cells": [
  {
   "cell_type": "markdown",
   "id": "e6396ae5-6cd6-476c-8215-1b8cea4c2b00",
   "metadata": {},
   "source": [
    "# Image Tiling\n",
    "The purpose of this notebook is to examine images according to the original tiled FOV shape. Note: the FOV folder names are expected to already be in RnCm format."
   ]
  },
  {
   "cell_type": "code",
   "execution_count": 3,
   "id": "6a9af69a-c497-49e5-bcdb-1afeed3f01d8",
   "metadata": {},
   "outputs": [],
   "source": [
    "# import required packages\n",
    "from ark.utils.data_utils import create_tiled_image"
   ]
  },
  {
   "cell_type": "markdown",
   "id": "8ecd7b8c-b55b-4aa8-9306-65a9eca6b692",
   "metadata": {},
   "source": [
    "### All data, images, files, etc. must be placed in the 'data' directory, and referenced via '../data/path_to_your_data'\n",
    "\n",
    "* `data_dir`: path to where image folders are stored\n",
    "* `tiled_folder_name`: path to a new directory that will be created to store the tiled images, to avoid conflicts do not make this a subdirectory of the `data_dir`"
   ]
  },
  {
   "cell_type": "code",
   "execution_count": 6,
   "id": "7075e212-87f3-4154-a972-9ade1f128741",
   "metadata": {},
   "outputs": [],
   "source": [
    "# set up file paths\n",
    "data_dir = '../data/example_dataset/image_data'\n",
    "tiled_folder_name = '../data/example_dataset/tiled_images'"
   ]
  },
  {
   "cell_type": "markdown",
   "id": "ee840b8c-0176-46f3-911e-99cd0e4122c5",
   "metadata": {},
   "source": [
    "### Create tiled images\n",
    "* `channels`: list of channels to create tiled images for, leaving as None will generate tiled images for all channels "
   ]
  },
  {
   "cell_type": "code",
   "execution_count": null,
   "id": "0e2937f1-4eec-4e04-958f-af98236f7466",
   "metadata": {},
   "outputs": [],
   "source": [
    "# channels = []\n",
    "\n",
    "create_tiled_image(data_dir, tiled_folder_name, img_sub_folder=None, channels=None)"
   ]
  }
 ],
 "metadata": {
  "kernelspec": {
   "display_name": "ark_env",
   "language": "python",
   "name": "ark_env"
  },
  "language_info": {
   "codemirror_mode": {
    "name": "ipython",
    "version": 3
   },
   "file_extension": ".py",
   "mimetype": "text/x-python",
   "name": "python",
   "nbconvert_exporter": "python",
   "pygments_lexer": "ipython3",
   "version": "3.8.13"
  }
 },
 "nbformat": 4,
 "nbformat_minor": 5
}
