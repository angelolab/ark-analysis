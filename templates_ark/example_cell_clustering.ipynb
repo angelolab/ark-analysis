{
 "cells": [
  {
   "cell_type": "markdown",
   "metadata": {},
   "source": [
    "# Cell clustering notebook"
   ]
  },
  {
   "cell_type": "markdown",
   "metadata": {},
   "source": [
    "NOTE: this notebook should be run after `example_pixel_clustering.ipynb`"
   ]
  },
  {
   "cell_type": "code",
   "execution_count": null,
   "metadata": {
    "tags": [
     "import"
    ]
   },
   "outputs": [],
   "source": [
    "# import required packages\n",
    "from datetime import datetime as dt\n",
    "import os\n",
    "import subprocess\n",
    "\n",
    "import feather\n",
    "import json\n",
    "from matplotlib import rc_file_defaults\n",
    "import matplotlib.pyplot as plt\n",
    "import numpy as np\n",
    "import pandas as pd\n",
    "import scipy.stats as stats\n",
    "import seaborn as sns\n",
    "import xarray as xr\n",
    "\n",
    "from ark.analysis import visualize\n",
    "from ark.phenotyping import som_utils\n",
    "from ark.utils import data_utils, io_utils, load_utils, plot_utils\n",
    "from ark.utils.metacluster_remap_gui import MetaClusterData, MetaClusterGui, metaclusterdata_from_files"
   ]
  },
  {
   "cell_type": "markdown",
   "metadata": {
    "tags": []
   },
   "source": [
    "## 1: Load parameters for cell clustering (computed by `example_pixel_clustering.ipynb`)"
   ]
  },
  {
   "cell_type": "markdown",
   "metadata": {},
   "source": [
    "`cell_clustering_params_name` should be in the form `{pixel_cluster_prefix}_cell_clustering_params.json` contained in `{pixel_cluster_prefix}_pixel_output_dir`. Make sure to set `base_dir` and `pixel_output_dir` to the same value used in `example_pixel_clustering.ipynb`.\n",
    "\n",
    "NOTE: `{pixel_cluster_prefix}` is set in `example_pixel_clustering.ipynb`. If you did not explicity set a `{pixel_cluster_prefix}` in `example_pixel_clustering.ipynb`, the prefix defaults to the timestamp of the run. Please check the run directory (`base_dir` as set in `example_pixel_clustering.ipynb`) to see the prefix that was used."
   ]
  },
  {
   "cell_type": "code",
   "execution_count": null,
   "metadata": {
    "tags": [
     "dir_set"
    ]
   },
   "outputs": [],
   "source": [
    "# define the home directory containing pixel_output_dir\n",
    "base_dir = \"../data/granulomaCohort_allData\"\n",
    "\n",
    "# define the name of the folder containing the pixel cluster data\n",
    "pixel_output_dir = '2022-05-03T18:05:24_pixel_output_dir'\n",
    "\n",
    "# define the name of the cell clustering params file\n",
    "cell_clustering_params_name = '2022-05-03T18:05:24_cell_clustering_params.json'"
   ]
  },
  {
   "cell_type": "markdown",
   "metadata": {},
   "source": [
    "The following params are loaded:\n",
    "\n",
    "* `fovs`: the subset of fovs used for pixel clustering\n",
    "* `channels`: the subset of channels used for pixel clustering\n",
    "* `segmentation_dir`: the path to the directory containing your segmented images (generated from `Segment_Image_Data.ipynb`)\n",
    "* `seg_suffix`: the suffix plus the file extension of the segmented images for each FOV\n",
    "* `pixel_consensus_dir`: the name of the directory containing pixel data with the pixel SOM and consensus cluster assignments\n",
    "* `pc_chan_avg_som_cluster_name`: the name of the file containing the average channel expression per pixel SOM cluster, used for the visualization of weighted channel average per cell\n",
    "* `pc_chan_avg_meta_cluster_name`: the name of the file containing the average channel expression per pixel meta cluster, used for the visualization of weighted channel average per cell\n",
    "\n",
    "Additionally, define the following param:\n",
    "\n",
    "* `cell_table_path`: path to the cell table created by `Segment_Image_Data.ipynb`, should be placed in `segmentation_dir` by default. You can use either the normalized or arcsinh versions (the only columns from the cell table used are `fov`, `label`, and `cell_size`, so the clustering pipeline supports both)."
   ]
  },
  {
   "cell_type": "code",
   "execution_count": null,
   "metadata": {
    "tags": [
     "param_load"
    ]
   },
   "outputs": [],
   "source": [
    "# load the params\n",
    "with open(os.path.join(base_dir, pixel_output_dir, cell_clustering_params_name)) as fh:\n",
    "    cell_clustering_params = json.load(fh)\n",
    "    \n",
    "# assign the params to variables\n",
    "fovs = cell_clustering_params['fovs']\n",
    "channels = cell_clustering_params['channels']\n",
    "segmentation_dir = cell_clustering_params['segmentation_dir']\n",
    "seg_suffix = cell_clustering_params['seg_suffix']\n",
    "pixel_consensus_dir = cell_clustering_params['pixel_consensus_dir']\n",
    "pc_chan_avg_som_cluster_name = cell_clustering_params['pc_chan_avg_som_cluster_name']\n",
    "pc_chan_avg_meta_cluster_name = cell_clustering_params['pc_chan_avg_meta_cluster_name']\n",
    "\n",
    "# define the cell table path\n",
    "cell_table_path = os.path.join(segmentation_dir, 'cell_table_size_normalized.csv')"
   ]
  },
  {
   "cell_type": "markdown",
   "metadata": {},
   "source": [
    "## 2: Cell clustering"
   ]
  },
  {
   "cell_type": "markdown",
   "metadata": {
    "tags": []
   },
   "source": [
    "### 2.1: train cell SOM"
   ]
  },
  {
   "cell_type": "markdown",
   "metadata": {},
   "source": [
    "Set a prefix to be applied to all data directories/files created by pixel and cell clustering. If the prefix is not set, a default of the datetime at the start of the run is used."
   ]
  },
  {
   "cell_type": "code",
   "execution_count": null,
   "metadata": {
    "tags": [
     "cluster_prefix"
    ]
   },
   "outputs": [],
   "source": [
    "# explicitly set cell_cluster_prefix to override datetime default\n",
    "cell_cluster_prefix = None\n",
    "\n",
    "if cell_cluster_prefix is None:\n",
    "    cell_cluster_prefix = dt.now().strftime('%Y-%m-%dT%H:%M:%S')"
   ]
  },
  {
   "cell_type": "markdown",
   "metadata": {},
   "source": [
    "The following folders/files will be created with names prefixed by `cell_cluster_prefix`:\n",
    "\n",
    "* `cell_output_dir`: the name of the folder to store the cell clustering directories/files\n",
    "* `cell_clustered_name`: file to store cell data with just the cell SOM cluster assignments\n",
    "* `cell_consensus_name`: file to store cell data with the cell SOM and consensus cluster assignments\n",
    "* `cell_weights_name`: file name to place the cell SOM weights\n",
    "* `cluster_counts_name`: file name to store the counts of each pixel SOM/meta clusters per cell\n",
    "* `cluster_counts_norm_name`: same as above, except with each value normalized by the respective cell's size\n",
    "* `weighted_cell_channel_name`: file name to store the weighted cell channel expression for each cell. Refer to <a href=https://ark-analysis.readthedocs.io/en/latest/_markdown/ark.phenotyping.html#ark.phenotyping.som_utils.compute_p2c_weighted_channel_avg>cell channel weighting docs</a> for how the weighting is computed.\n",
    "* `cell_clust_to_meta_name`: file name to store the mapping between cell SOM clusters and cell meta clusters\n",
    "* `cell_som_cluster_count_avgs_name`: file name to store the average number of pixel SOM/meta clusters per cell SOM cluster\n",
    "* `cell_meta_cluster_count_avgs_name`: same as above except for cell meta clusters\n",
    "* `cell_som_cluster_channel_avg_name`: file name to store the average weighted channel expression per cell SOM cluster\n",
    "* `cell_meta_cluster_channel_avg_name`: same as above except for cell meta clusters\n",
    "* `cell_meta_cluster_remap_name`: for the meta cluster remapping process, the file to store the new SOM to meta mappings"
   ]
  },
  {
   "cell_type": "code",
   "execution_count": null,
   "metadata": {
    "tags": [
     "cell_cluster_files"
    ]
   },
   "outputs": [],
   "source": [
    "# define the base output cell folder\n",
    "cell_output_dir = '%s_cell_output_dir' % cell_cluster_prefix\n",
    "if not os.path.exists(os.path.join(base_dir, cell_output_dir)):\n",
    "    os.mkdir(os.path.join(base_dir, cell_output_dir))\n",
    "    \n",
    "# define the paths to cell clustering files, explicitly set the variables to use custom names\n",
    "cell_clustered_name = os.path.join(cell_output_dir, '%s_cell_mat_clustered.feather' % cell_cluster_prefix)\n",
    "cell_consensus_name = os.path.join(cell_output_dir, '%s_cell_mat_consensus.feather' % cell_cluster_prefix)\n",
    "cell_weights_name = os.path.join(cell_output_dir, '%s_cell_weights.feather' % cell_cluster_prefix)\n",
    "cluster_counts_name = os.path.join(cell_output_dir, '%s_cluster_counts.feather' % cell_cluster_prefix)\n",
    "cluster_counts_norm_name = os.path.join(cell_output_dir, '%s_cluster_counts_norm.feather' % cell_cluster_prefix)\n",
    "weighted_cell_channel_name = os.path.join(cell_output_dir, '%s_weighted_cell_channel.csv' % cell_cluster_prefix)\n",
    "cell_clust_to_meta_name = os.path.join(cell_output_dir, '%s_cell_clust_to_meta.feather' % cell_cluster_prefix)\n",
    "cell_som_cluster_count_avgs_name = os.path.join(cell_output_dir, '%s_cell_som_cluster_count_avgs.csv' % cell_cluster_prefix)\n",
    "cell_meta_cluster_count_avgs_name = os.path.join(cell_output_dir, '%s_cell_meta_cluster_count_avgs.csv' % cell_cluster_prefix)\n",
    "cell_som_cluster_channel_avg_name = os.path.join(cell_output_dir, '%s_cell_som_cluster_channel_avg.csv' % cell_cluster_prefix)\n",
    "cell_meta_cluster_channel_avg_name = os.path.join(cell_output_dir, '%s_cell_meta_cluster_channel_avg.csv' % cell_cluster_prefix)\n",
    "cell_meta_cluster_remap_name = os.path.join(cell_output_dir, '%s_cell_meta_cluster_mapping.csv' % cell_cluster_prefix)"
   ]
  },
  {
   "cell_type": "markdown",
   "metadata": {},
   "source": [
    "Additionally, define the following pixel cluster aggregation variable:\n",
    "\n",
    "* `pixel_cluster_col`: whether to use pixel SOM or meta cluster counts for training/aggregating. Set to `'pixel_som_cluster'` or `'pixel_meta_cluster_rename'` respectively. Note that if you did not explicitly rename your pixel meta clusters in `example_pixel_clustering.ipynb`, the default numeric names will be used."
   ]
  },
  {
   "cell_type": "code",
   "execution_count": null,
   "metadata": {
    "tags": [
     "pixel_cluster_col"
    ]
   },
   "outputs": [],
   "source": [
    "# define the type of pixel cluster to aggregate on\n",
    "pixel_cluster_col = 'pixel_meta_cluster_rename'\n",
    "\n",
    "# depending on which pixel_cluster_col is selected, choose the pixel channel average table accordingly\n",
    "if pixel_cluster_col == 'pixel_som_cluster':\n",
    "    pc_chan_avg_name = pc_chan_avg_som_cluster_name\n",
    "elif pixel_cluster_col == 'pixel_meta_cluster_rename':\n",
    "    pc_chan_avg_name = pc_chan_avg_meta_cluster_name"
   ]
  },
  {
   "cell_type": "markdown",
   "metadata": {},
   "source": [
    "Train the cell SOM on the normalized number of pixel SOM/meta clusters per cell (the data stored in `cluster_counts_norm_name`).  Training is done using the `FlowSOM` algorithm. Note that each of the pixel SOM/meta cluster columns are normalized by their 99.9% value prior to training.\n",
    "\n",
    "Additionally, this function also computes the weighted cell channel table (the data stored in `weighted_cell_channel_name`). This data will be needed to compute the weighted average channel expression per cell cluster (the data stored in `cell_som_cluster_channel_avg_name` and `cell_meta_cluster_channel_avg_name`). See documentation of `compute_p2c_weighted_channel_avg` for how weighted cell channel average is computed: <a href=https://ark-analysis.readthedocs.io/en/latest/_markdown/ark.phenotyping.html#ark.phenotyping.som_utils.compute_p2c_weighted_channel_avg>cell channel weighting docs</a>.\n",
    "\n",
    "For a full set of parameters you can customize for `train_cell_som`, please consult: <a href=https://ark-analysis.readthedocs.io/en/latest/_markdown/ark.phenotyping.html#ark.phenotyping.som_utils.train_cell_som>cell training docs</a>"
   ]
  },
  {
   "cell_type": "code",
   "execution_count": null,
   "metadata": {
    "tags": [
     "train_cell_som"
    ]
   },
   "outputs": [],
   "source": [
    "# create the cell-level SOM weights\n",
    "som_utils.train_cell_som(\n",
    "    fovs,\n",
    "    channels,\n",
    "    base_dir,\n",
    "    pixel_consensus_dir=pixel_consensus_dir,\n",
    "    cell_table_path=cell_table_path,\n",
    "    cluster_counts_name=cluster_counts_name,\n",
    "    cluster_counts_norm_name=cluster_counts_norm_name,\n",
    "    pixel_cluster_col=pixel_cluster_col,\n",
    "    pc_chan_avg_name=pc_chan_avg_name,\n",
    "    weights_name=cell_weights_name,\n",
    "    weighted_cell_channel_name=weighted_cell_channel_name,\n",
    "    num_passes=10\n",
    ")"
   ]
  },
  {
   "cell_type": "markdown",
   "metadata": {},
   "source": [
    "### 2.2: assign cell SOM clusters"
   ]
  },
  {
   "cell_type": "markdown",
   "metadata": {},
   "source": [
    "Use the weights learned from `train_cell_som` to assign cell clusters to the cell dataset. Note that this is done on the normalized pixel SOM/meta cluster counts table. As with `train_pixel_som`, each of the columns are normalized by their 99.9% value prior to assigning a cell SOM cluster label.\n",
    "\n",
    "This function also computes the average number of pixel SOM/meta clusters per cell SOM cluster as well as the number of cells in each cell SOM cluster (the data placed in `cell_som_cluster_count_avgs_name`). This is needed for cell consensus clustering."
   ]
  },
  {
   "cell_type": "code",
   "execution_count": null,
   "metadata": {
    "tags": [
     "cluster_cell_data"
    ]
   },
   "outputs": [],
   "source": [
    "# use cell SOM weights to assign cell clusters\n",
    "som_utils.cluster_cells(\n",
    "    base_dir,\n",
    "    cluster_counts_norm_name=cluster_counts_norm_name,\n",
    "    weights_name=cell_weights_name,\n",
    "    cell_cluster_name=cell_clustered_name,\n",
    "    pixel_cluster_col_prefix=pixel_cluster_col,\n",
    "    cell_som_cluster_count_avgs_name=cell_som_cluster_count_avgs_name\n",
    ")"
   ]
  },
  {
   "cell_type": "markdown",
   "metadata": {},
   "source": [
    "### 2.3: run cell consensus clustering"
   ]
  },
  {
   "cell_type": "markdown",
   "metadata": {},
   "source": [
    "With the SOM cluster labels assigned to the cell data, assign consensus cluster labels. The consensus clusters are trained on the average number of pixel SOM/meta clusters across all cell SOM clusters (the data stored in `cell_som_cluster_count_avgs_name`). These values are z-scored and capped at the value specified in the `cap` argument prior to training: this helps improve the meta clustering process.\n",
    "\n",
    "After consensus clustering, the following are also computed:\n",
    "\n",
    "* The average number of pixel SOM/meta clusters across all cell meta clusters, and the number of cells per meta cluster (the data placed in `cell_meta_cluster_count_avgs_name`)\n",
    "* The meta cluster mapping for each cell SOM cluster in `cell_som_cluster_count_avgs_name` (data is resaved, same data except with an associated meta cluster column)\n",
    "* The weighted channel average across all cell clusters (the data placed in `cell_som_cluster_channel_avgs_name` and `cell_meta_cluster_channel_avgs_name`). This will be done for both `'cell_som_cluster'` and `'cell_meta_cluster'`.\n",
    "\n",
    "For a full set of parameters you can customize for `cell_consensus_cluster`, please consult: <a href=https://ark-analysis.readthedocs.io/en/latest/_markdown/ark.phenotyping.html#ark.phenotyping.som_utils.cell_consensus_cluster>cell consensus clustering docs</a>"
   ]
  },
  {
   "cell_type": "markdown",
   "metadata": {},
   "source": [
    "* `max_k`: the number of consensus clusters desired\n",
    "* `cap`: used to clip z-scored values prior to consensus clustering (in the range `[-cap, cap]`)"
   ]
  },
  {
   "cell_type": "code",
   "execution_count": null,
   "metadata": {
    "tags": [
     "cell_consensus_cluster"
    ]
   },
   "outputs": [],
   "source": [
    "max_k = 20\n",
    "cap = 3\n",
    "\n",
    "# run hierarchical clustering based on cell SOM cluster assignments\n",
    "som_utils.cell_consensus_cluster(\n",
    "    fovs=fovs,\n",
    "    channels=channels,\n",
    "    base_dir=base_dir,\n",
    "    pixel_cluster_col=pixel_cluster_col,\n",
    "    max_k=max_k,\n",
    "    cap=cap,\n",
    "    cell_cluster_name=cell_clustered_name,\n",
    "    cell_som_cluster_count_avgs_name=cell_som_cluster_count_avgs_name,\n",
    "    cell_meta_cluster_count_avgs_name=cell_meta_cluster_count_avgs_name,\n",
    "    weighted_cell_channel_name=weighted_cell_channel_name,\n",
    "    cell_som_cluster_channel_avg_name=cell_som_cluster_channel_avg_name,\n",
    "    cell_meta_cluster_channel_avg_name=cell_meta_cluster_channel_avg_name,\n",
    "    clust_to_meta_name=cell_clust_to_meta_name,\n",
    "    cell_consensus_name=cell_consensus_name,\n",
    ")"
   ]
  },
  {
   "cell_type": "markdown",
   "metadata": {},
   "source": [
    "## 3: visualize results"
   ]
  },
  {
   "cell_type": "markdown",
   "metadata": {},
   "source": [
    "### 3.1: use the interactive reclustering results to relabel cell meta clusters"
   ]
  },
  {
   "cell_type": "markdown",
   "metadata": {},
   "source": [
    "The visualization shows the z-scored average pixel cluster count expression per cell SOM and meta cluster. The heatmaps are faceted by cell SOM clusters on the left and cell meta clusters on the right.\n",
    "\n",
    "## Usage\n",
    "\n",
    "### Quickstart\n",
    "- **Select**: Left Click\n",
    "- **Remap**: **New metacluster button** or Right Click\n",
    "- **Edit Metacluster Name**: Textbox at bottom right of the heatmaps.\n",
    "\n",
    "### Selection and Remapping details\n",
    "- To select a SOM cluster, click on its respective position in the **selected** bar. Click on it again to deselect.\n",
    "- To select a meta cluster, click on its corresponding color in the **metacluster** bar. Click on it again to deselect.\n",
    "- To remap the selected clusters, click the **New metacluster** button (alternatively, right click anywhere). Note that remapping an entire metacluster deletes it.\n",
    "- To clear the selected SOM/meta clusters, use the **Clear Selection** button.\n",
    "- **After remapping a meta cluster, make sure to deselect the newly created one to prevent unwanted combinations.**\n",
    "\n",
    "### Other features and notes\n",
    "- You will likely need to zoom out to see the entire visualization. To toggle Zoom, use Ctrl -/Ctrl + on Windows or ⌘ +/⌘ - on Mac.\n",
    "- The bars at the top show the number of cells in each SOM cluster.\n",
    "- The text box at the bottom right allows you to rename a particular meta cluster. This can be useful as remapping may cause inconsistent numbering.\n",
    "- Adjust the z-score limit using the slider on the bottom left to adjust your dynamic range.\n",
    "- When meta clusters are combined or a meta cluster is renamed, the change is immediately saved to `cell_meta_cluster_remap_name`.\n",
    "- You won't be able to advance until you've clicked `New metacluster` or renamed a meta cluster at least once. If you do not want to make changes, just click `New metacluster` to trigger a save before continuing."
   ]
  },
  {
   "cell_type": "code",
   "execution_count": 10,
   "metadata": {
    "tags": [
     "cell_interactive"
    ]
   },
   "outputs": [
    {
     "data": {
      "application/vnd.jupyter.widget-view+json": {
       "model_id": "002dda8998e04ed7a94e83f3e7dc2a6a",
       "version_major": 2,
       "version_minor": 0
      },
      "text/plain": [
       "Canvas(toolbar=Toolbar(toolitems=[('Home', 'Reset original view', 'home', 'home'), ('Back', 'Back to  previous…"
      ]
     },
     "metadata": {},
     "output_type": "display_data"
    },
    {
     "data": {
      "application/vnd.jupyter.widget-view+json": {
       "model_id": "873a415404f74d588462ed8e0baedeab",
       "version_major": 2,
       "version_minor": 0
      },
      "text/plain": [
       "VBox(children=(Output(), HBox(children=(HBox(children=(FloatSlider(value=3.0, description='Max Zscore:', max=1…"
      ]
     },
     "metadata": {},
     "output_type": "display_data"
    }
   ],
   "source": [
    "%matplotlib widget\n",
    "rc_file_defaults()\n",
    "plt.ion()\n",
    "\n",
    "cell_mcd = metaclusterdata_from_files(\n",
    "    os.path.join(base_dir, cell_som_cluster_count_avgs_name),\n",
    "    cluster_type='cell',\n",
    "    prefix_trim='pixel_meta_cluster_rename_'\n",
    ")\n",
    "cell_mcd.output_mapping_filename = os.path.join(base_dir, cell_meta_cluster_remap_name)\n",
    "cell_mcg = MetaClusterGui(cell_mcd, width=17)"
   ]
  },
  {
   "cell_type": "markdown",
   "metadata": {},
   "source": [
    "Relabel the cell meta clusters using the mapping."
   ]
  },
  {
   "cell_type": "code",
   "execution_count": null,
   "metadata": {
    "tags": [
     "cell_apply_remap"
    ]
   },
   "outputs": [],
   "source": [
    "som_utils.apply_cell_meta_cluster_remapping(\n",
    "    fovs,\n",
    "    channels,\n",
    "    base_dir,\n",
    "    cell_consensus_name,\n",
    "    cell_meta_cluster_remap_name,\n",
    "    pixel_cluster_col,\n",
    "    cell_som_cluster_count_avgs_name,\n",
    "    cell_meta_cluster_count_avgs_name,\n",
    "    weighted_cell_channel_name,\n",
    "    cell_som_cluster_channel_avg_name,\n",
    "    cell_meta_cluster_channel_avg_name\n",
    ")"
   ]
  },
  {
   "cell_type": "markdown",
   "metadata": {},
   "source": [
    "Generate the color scheme returned by the interactive reclustering process. This will be for visualizing the weighted channel average heatmaps and the cell cluster overlay."
   ]
  },
  {
   "cell_type": "code",
   "execution_count": null,
   "metadata": {
    "tags": [
     "cell_cmap_gen"
    ]
   },
   "outputs": [],
   "source": [
    "raw_cmap, renamed_cmap = som_utils.generate_meta_cluster_colormap_dict(\n",
    "    cell_mcd.output_mapping_filename,\n",
    "    cell_mcg.im_cl.cmap\n",
    ")"
   ]
  },
  {
   "cell_type": "markdown",
   "metadata": {},
   "source": [
    "### 3.2: weighted cell SOM cluster average heatmap over channels (z-scored)"
   ]
  },
  {
   "cell_type": "code",
   "execution_count": 14,
   "metadata": {
    "tags": [
     "cell_som_heatmap"
    ]
   },
   "outputs": [
    {
     "data": {
      "application/vnd.jupyter.widget-view+json": {
       "model_id": "4fd695192834407fbca24780f5d440aa",
       "version_major": 2,
       "version_minor": 0
      },
      "text/plain": [
       "Canvas(toolbar=Toolbar(toolitems=[('Home', 'Reset original view', 'home', 'home'), ('Back', 'Back to  previous…"
      ]
     },
     "metadata": {},
     "output_type": "display_data"
    }
   ],
   "source": [
    "som_utils.generate_weighted_channel_avg_heatmap(\n",
    "    os.path.join(base_dir, cell_som_cluster_channel_avg_name),\n",
    "    'cell_som_cluster',\n",
    "    channels,\n",
    "    raw_cmap,\n",
    "    renamed_cmap\n",
    ")"
   ]
  },
  {
   "cell_type": "markdown",
   "metadata": {},
   "source": [
    "### 3.3: weighted cell meta cluster average heatmap over channels (z-scored)"
   ]
  },
  {
   "cell_type": "code",
   "execution_count": 15,
   "metadata": {
    "tags": [
     "cell_meta_heatmap"
    ]
   },
   "outputs": [
    {
     "data": {
      "application/vnd.jupyter.widget-view+json": {
       "model_id": "a3e567f1d23f46b8b6edcf4d02d38d8a",
       "version_major": 2,
       "version_minor": 0
      },
      "text/plain": [
       "Canvas(toolbar=Toolbar(toolitems=[('Home', 'Reset original view', 'home', 'home'), ('Back', 'Back to  previous…"
      ]
     },
     "metadata": {},
     "output_type": "display_data"
    }
   ],
   "source": [
    "som_utils.generate_weighted_channel_avg_heatmap(\n",
    "    os.path.join(base_dir, cell_meta_cluster_channel_avg_name),\n",
    "    'cell_meta_cluster_rename',\n",
    "    channels,\n",
    "    raw_cmap,\n",
    "    renamed_cmap\n",
    ")"
   ]
  },
  {
   "cell_type": "markdown",
   "metadata": {},
   "source": [
    "### 3.4: cell cluster overlay (cell meta clusters only)"
   ]
  },
  {
   "cell_type": "code",
   "execution_count": null,
   "metadata": {
    "tags": [
     "cell_overlay_fovs"
    ]
   },
   "outputs": [],
   "source": [
    "# select fovs to display\n",
    "cell_fovs = ['fov6', 'fov7']"
   ]
  },
  {
   "cell_type": "code",
   "execution_count": null,
   "metadata": {
    "tags": [
     "cell_mask_gen"
    ]
   },
   "outputs": [],
   "source": [
    "# generate the cell cluster masks for each fov in cell_fovs\n",
    "cell_cluster_masks = data_utils.generate_cell_cluster_mask(\n",
    "    cell_fovs,\n",
    "    base_dir,\n",
    "    segmentation_dir,\n",
    "    cell_consensus_name=cell_consensus_name,\n",
    "    cell_cluster_col='cell_meta_cluster',\n",
    "    seg_suffix=seg_suffix\n",
    ")"
   ]
  },
  {
   "cell_type": "markdown",
   "metadata": {},
   "source": [
    "* `save_cell_masks`: replace with `True` if you want to save, files will be written as `{fov_name}_cell_mask.tiff` in `base_dir`"
   ]
  },
  {
   "cell_type": "code",
   "execution_count": null,
   "metadata": {
    "tags": [
     "cell_mask_save"
    ]
   },
   "outputs": [],
   "source": [
    "save_cell_masks = False\n",
    "\n",
    "if save_cell_masks:\n",
    "    data_utils.save_fov_images(\n",
    "        cell_fovs,\n",
    "        os.path.join(base_dir, cell_output_dir),\n",
    "        cell_cluster_masks,\n",
    "        sub_dir='cell_masks',\n",
    "        name_suffix='_cell_mask'\n",
    "    )"
   ]
  },
  {
   "cell_type": "code",
   "execution_count": 19,
   "metadata": {
    "tags": [
     "cell_overlay_gen"
    ]
   },
   "outputs": [
    {
     "data": {
      "application/vnd.jupyter.widget-view+json": {
       "model_id": "347d06352b3e4653b2ded0c8204e558a",
       "version_major": 2,
       "version_minor": 0
      },
      "text/plain": [
       "Canvas(toolbar=Toolbar(toolitems=[('Home', 'Reset original view', 'home', 'home'), ('Back', 'Back to  previous…"
      ]
     },
     "metadata": {},
     "output_type": "display_data"
    },
    {
     "data": {
      "application/vnd.jupyter.widget-view+json": {
       "model_id": "710797f4e947496082f7255ca0766df7",
       "version_major": 2,
       "version_minor": 0
      },
      "text/plain": [
       "Canvas(toolbar=Toolbar(toolitems=[('Home', 'Reset original view', 'home', 'home'), ('Back', 'Back to  previous…"
      ]
     },
     "metadata": {},
     "output_type": "display_data"
    }
   ],
   "source": [
    "plot_utils.plot_pixel_cell_cluster_overlay(\n",
    "    cell_cluster_masks,\n",
    "    cell_fovs,\n",
    "    os.path.join(base_dir, cell_meta_cluster_remap_name),\n",
    "    metacluster_colors=raw_cmap\n",
    ")"
   ]
  },
  {
   "cell_type": "markdown",
   "metadata": {},
   "source": [
    "### 3.5: save consensus cluster labels to cell table"
   ]
  },
  {
   "cell_type": "markdown",
   "metadata": {},
   "source": [
    "\"The cell table with consensus cluster labels is saved to `{cell_table_path}_cell_labels.csv`\""
   ]
  },
  {
   "cell_type": "code",
   "execution_count": null,
   "metadata": {
    "tags": [
     "cell_append_meta"
    ]
   },
   "outputs": [],
   "source": [
    "som_utils.add_consensus_labels_cell_table(\n",
    "    base_dir, cell_table_path, cell_consensus_name\n",
    ")"
   ]
  }
 ],
 "metadata": {
  "kernelspec": {
   "display_name": "Python 3",
   "language": "python",
   "name": "python3"
  },
  "language_info": {
   "codemirror_mode": {
    "name": "ipython",
    "version": 3
   },
   "file_extension": ".py",
   "mimetype": "text/x-python",
   "name": "python",
   "nbconvert_exporter": "python",
   "pygments_lexer": "ipython3",
   "version": "3.6.13"
  }
 },
 "nbformat": 4,
 "nbformat_minor": 4
}
