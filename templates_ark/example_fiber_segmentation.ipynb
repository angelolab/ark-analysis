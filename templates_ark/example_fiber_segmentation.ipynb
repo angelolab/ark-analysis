{
 "cells": [
  {
   "cell_type": "markdown",
   "metadata": {},
   "source": [
    "### This is a notebook for segmenting fiber objects from collagen (or other) channel images. This notebook also provides visualizations and post-processing to extract other relevant fiber features"
   ]
  },
  {
   "cell_type": "code",
   "execution_count": null,
   "metadata": {},
   "outputs": [],
   "source": [
    "import os\n",
    "\n",
    "import numpy as np\n",
    "import xarray as xr\n",
    "import skimage.io as io\n",
    "import matplotlib.pyplot as plt\n",
    "\n",
    "from ark.utils import load_utils, data_utils\n",
    "import ark.segmentation.fiber_segmentation as fibseg"
   ]
  },
  {
   "cell_type": "markdown",
   "metadata": {},
   "source": [
    "### All data, images, files, etc. must be placed in the 'data' directory, and referenced via '../data/path_to_your_data'"
   ]
  },
  {
   "cell_type": "code",
   "execution_count": null,
   "metadata": {},
   "outputs": [],
   "source": [
    "base_dir = '../data/example_dataset'\n",
    "input_dir = os.path.join(base_dir, 'input_data')\n",
    "out_dir = os.path.join(base_dir, 'fiber_segmentation_processed_data')\n",
    "\n",
    "if not os.path.exists(out_dir):\n",
    "    os.makedirs(out_dir)"
   ]
  },
  {
   "cell_type": "markdown",
   "metadata": {},
   "source": [
    "### Download the Example Dataset\n",
    "If you would like to test the features in Ark with an example dataset, run the cell below. It will download a dataset consisting of 11 FOVs with 22 channels."
   ]
  },
  {
   "cell_type": "code",
   "execution_count": null,
   "metadata": {},
   "outputs": [],
   "source": [
    "data_utils.download_example_data(save_dir=base_dir)"
   ]
  },
  {
   "cell_type": "markdown",
   "metadata": {},
   "source": [
    "### Here you may load in an example FoV and test the segmentation parameters below, before running on your entire dataset.\n",
    "\n",
    "The segmentation parameters are as follows:\n",
    " - `blur`: Gaussian blur radius used for initial blurring\n",
    " - `CSD`: Contrast Scaling Divisor.  This is used to determine the size of the window used for local contrast enhancement.  This should roughly be the length scale (in pixels) of your fibers, and should generally be a power of 2. (i.e 64, 128, 256, etc). \n",
    " - `fiber_widths`: Expected pixel widths of fibers. Be aware that including larger widths can make smaller fibers harder to resolve.\n",
    " - `ridge_cutoff`: Intensity cutoff post meijering filtering. Increasing this value will decrease the number of fibers.\n",
    " - `sobel_blur`: Determines the elevation map used for watershed segmentation.  Try increasing this if it seems your longer fibers are being divided into smaller fibers\n",
    " - `min_fiber_size`: Minimum area of a fiber object.  Objects with an area less than this are removed"
   ]
  },
  {
   "cell_type": "code",
   "execution_count": null,
   "metadata": {},
   "outputs": [],
   "source": [
    "example_fov_name = 'fov1'\n",
    "fiber_channel_name = 'Collagen1'\n",
    "\n",
    "blur = 2\n",
    "CSD = 128\n",
    "fiber_widths = (2, 4)\n",
    "ridge_cutoff = 0.1\n",
    "sobel_blur = 2\n",
    "min_fiber_size = 100"
   ]
  },
  {
   "cell_type": "code",
   "execution_count": null,
   "metadata": {},
   "outputs": [],
   "source": [
    "plt.style.use('dark_background')\n",
    "fibseg.plot_fiber_segmentation_steps(input_dir, example_fov_name, fiber_channel_name,\n",
    "    img_sub_folder=None,\n",
    "    blur=blur,\n",
    "    contrast_scaling_divisor=CSD,\n",
    "    fiber_widths=fiber_widths,\n",
    "    ridge_cutoff=ridge_cutoff,\n",
    "    sobel_blur=sobel_blur,\n",
    "    min_fiber_size=min_fiber_size\n",
    ")\n",
    "plt.gcf().set_size_inches((32, 32))\n"
   ]
  },
  {
   "cell_type": "markdown",
   "metadata": {},
   "source": [
    "### This cell performs the segmentation with the above parameters over all of the dataset\n",
    "\n",
    "If you need to see all of the steps in the segmentation process for each FoV, set `debug=True`. This is not recommended, since this will save 4 additional images per FoV.  But if you suspect there's a problem with the segmentation on certain FoVs, run the `debug=True` flag only a limited subset of your data, or better yet, re-run the above cells on those FoVs.\n",
    "\n",
    "The function saves the fiber object table as a csv, and the labeled images as tiff files.  The function also returns these as variables, for continued processing/exploration by the user."
   ]
  },
  {
   "cell_type": "code",
   "execution_count": null,
   "metadata": {},
   "outputs": [],
   "source": [
    "fiber_table, labeled_images = fibseg.batch_segment_fibers(input_dir, fiber_channel_name, out_dir,\n",
    "    blur=blur,\n",
    "    contrast_scaling_divisor=CSD,\n",
    "    fiber_widths=fiber_widths,\n",
    "    ridge_cutoff=ridge_cutoff,\n",
    "    sobel_blur=sobel_blur,\n",
    "    min_fiber_size=min_fiber_size,\n",
    "    debug=False,\n",
    ")"
   ]
  }
 ],
 "metadata": {
  "interpreter": {
   "hash": "949777d72b0d2535278d3dc13498b2535136f6dfe0678499012e853ee9abcab1"
  },
  "kernelspec": {
   "display_name": "Python 3.6.15 64-bit",
   "language": "python",
   "name": "python3"
  },
  "language_info": {
   "codemirror_mode": {
    "name": "ipython",
    "version": 3
   },
   "file_extension": ".py",
   "mimetype": "text/x-python",
   "name": "python",
   "nbconvert_exporter": "python",
   "pygments_lexer": "ipython3",
   "version": "3.7.13"
  },
  "orig_nbformat": 4
 },
 "nbformat": 4,
 "nbformat_minor": 2
}
