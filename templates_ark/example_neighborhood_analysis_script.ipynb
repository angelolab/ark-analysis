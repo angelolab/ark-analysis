{
 "cells": [
  {
   "cell_type": "markdown",
   "metadata": {},
   "source": [
    "# Use k-means clustering to find neighborhoods"
   ]
  },
  {
   "cell_type": "markdown",
   "metadata": {},
   "source": [
    "This notebook should be run after cell phenotype labels have been generated. This notebook walks through generation of neigborhoods using k-means clustering."
   ]
  },
  {
   "cell_type": "code",
   "execution_count": null,
   "metadata": {},
   "outputs": [],
   "source": [
    "import os\n",
    "import matplotlib.pyplot as plt\n",
    "import pandas as pd\n",
    "import xarray as xr\n",
    "from scipy.stats import zscore\n",
    "\n",
    "from ark.utils import spatial_analysis_utils, io_utils, data_utils, plot_utils, load_utils\n",
    "from ark.analysis import spatial_analysis, visualize\n",
    "\n",
    "import ark.settings as settings"
   ]
  },
  {
   "cell_type": "markdown",
   "metadata": {},
   "source": [
    "## 1. Pre-process data"
   ]
  },
  {
   "cell_type": "markdown",
   "metadata": {},
   "source": [
    "Check `settings.py` and confirm that the correct column names are specified. Importantly, the cell phenotype labels generated from cell clustering should be specified by the \"CELL_TYPE\" variable in `settings.py`. The k-means cluster IDs will be written to the \"KMEANS_CLUSTER\" column specified in `settings.py`.\n",
    "\n",
    "* `base_dir`: the path to all of your imaging data. Should contain a directory for your images, segmentations, and cell table (generated from `1_Segment_Image_Data.ipynb`). This directory will also store all of the directories/files created during neighborhood analysis.\n",
    "* `segmentation_dir`: the path to the directory containing your segmentations (generated from `1_Segment_Image_Data.ipynb`).\n",
    "* `cell_table_path`: the path to the cell table that contains columns for fov, cell label, and cell phenotype (generated from `3_Cluster_Cells.ipynb`)\n",
    "* `spatial_analysis_dir`: the path to the output directory to store all files created during neighborhood analysis"
   ]
  },
  {
   "cell_type": "markdown",
   "metadata": {},
   "source": [
    "### 1.1 Read data"
   ]
  },
  {
   "cell_type": "code",
   "execution_count": null,
   "metadata": {},
   "outputs": [],
   "source": [
    "base_dir = \"../data/example_dataset/\"\n",
    "seg_output = os.path.join(base_dir, \"deepcell_output\")\n",
    "cell_table_path = os.path.join(base_dir, \"single_cell_output\", \"cell_table_size_normalized_cell_labels.csv\")\n",
    "spatial_analysis_dir = os.path.join(base_dir, \"kmeans_neighborhood_analysis\")\n",
    "\n",
    "# Create output directory\n",
    "if not os.path.exists(spatial_analysis_dir):\n",
    "    os.makedirs(spatial_analysis_dir)"
   ]
  },
  {
   "cell_type": "code",
   "execution_count": null,
   "metadata": {},
   "outputs": [],
   "source": [
    "# Validate file paths\n",
    "io_utils.validate_paths([\n",
    "    base_dir,\n",
    "    spatial_analysis_dir,\n",
    "])"
   ]
  },
  {
   "cell_type": "code",
   "execution_count": null,
   "metadata": {},
   "outputs": [],
   "source": [
    "# Read cell table, only fovs in the cell table will be included in the analysis\n",
    "all_data = pd.read_csv(cell_table_path)\n",
    "all_fovs = list(all_data[settings.FOV_ID].drop_duplicates().values)\n",
    "\n",
    "# Load label maps from segmentation from which the distance matrix will be computed, change suffix if not \"_feature_0.tif\"\n",
    "label_maps = load_utils.load_imgs_from_dir(data_dir=seg_output, files=[x+\"_feature_0.tif\" for x in all_fovs],\n",
    "                                           xr_channel_names=['segmentation_label'],\n",
    "                                           trim_suffix='_feature_0')\n",
    "\n",
    "# Create dictionary object with the respective distance matrices for the fovs\n",
    "dist_mats = spatial_analysis_utils.calc_dist_matrix(label_maps)"
   ]
  },
  {
   "cell_type": "markdown",
   "metadata": {},
   "source": [
    "### 1.2 Find neighbors for each cell"
   ]
  },
  {
   "cell_type": "markdown",
   "metadata": {},
   "source": [
    "For each cell in the cell table, count the number of each cell phenotype within a certain distance of that cell. If a cell has no other cells within the distance specfied by `dist_lim`, that cell is excluded from the analysis."
   ]
  },
  {
   "cell_type": "code",
   "execution_count": null,
   "metadata": {},
   "outputs": [],
   "source": [
    "# Determine number of each cell type in specified distance limit around each cell\n",
    "neighbor_counts, neighbor_freqs = spatial_analysis.create_neighborhood_matrix(all_data, dist_mats, distlim=50)\n",
    "\n",
    "# Save neighbor matrices\n",
    "neighbor_counts.to_csv(os.path.join(spatial_analysis_dir, \"neighborhood_counts.csv\"), index=False)\n",
    "neighbor_freqs.to_csv(os.path.join(spatial_analysis_dir, \"neighborhood_freqs.csv\"), index=False)"
   ]
  },
  {
   "cell_type": "markdown",
   "metadata": {},
   "source": [
    "Choose whether to find neighborhoods using count (number of each cell phenotype) or frequency (number of each cell phenotype divided by total number of close neighbors for each cell)."
   ]
  },
  {
   "cell_type": "code",
   "execution_count": null,
   "metadata": {},
   "outputs": [],
   "source": [
    "# This variable can be \"counts\" or \"frequency\"\n",
    "neighborhood_method = \"counts\"\n",
    "\n",
    "if neighborhood_method == \"counts\":\n",
    "    input_features = neighbor_counts\n",
    "elif neighborhood_method == \"frequency\":\n",
    "    input_features = neighbor_freqs\n",
    "else:\n",
    "    print(\"neighborhood_method must be either 'counts' or 'frequency'\")"
   ]
  },
  {
   "cell_type": "markdown",
   "metadata": {},
   "source": [
    "## 2. Find optimal k using various metrics"
   ]
  },
  {
   "cell_type": "markdown",
   "metadata": {},
   "source": [
    "Use various metrics to determine the optimal k for k-means clustering. k's ranging from 2 to `max_k` will be tested."
   ]
  },
  {
   "cell_type": "code",
   "execution_count": null,
   "metadata": {},
   "outputs": [],
   "source": [
    "# The largest k that will be tested\n",
    "max_k = 10"
   ]
  },
  {
   "cell_type": "markdown",
   "metadata": {},
   "source": [
    "### 2.1 Inertia"
   ]
  },
  {
   "cell_type": "markdown",
   "metadata": {},
   "source": [
    "Inertia is calculated by measuring the distance between each data point and its centroid, squaring this distance, and summing these squares across one cluster."
   ]
  },
  {
   "cell_type": "code",
   "execution_count": null,
   "metadata": {},
   "outputs": [],
   "source": [
    "neighbor_inertia = spatial_analysis.compute_cluster_metrics_inertia(input_features, max_k=max_k)\n",
    "\n",
    "# Use the elbow curve method to choose the optimal k\n",
    "visualize.visualize_neighbor_cluster_metrics(neighbor_inertia, metric_name=\"inertia\")"
   ]
  },
  {
   "cell_type": "markdown",
   "metadata": {},
   "source": [
    "### 2.2 Silhouette score"
   ]
  },
  {
   "cell_type": "markdown",
   "metadata": {},
   "source": [
    "The Silhouette score is calculated using the mean intra-cluster distance (a) and the mean nearest-cluster distance (b) for each sample. The Silhouette score for a sample is `(b - a) / max(a, b)`.\n",
    "\n",
    "Silhouette score can be an expensive calculation, so depending on the size of your dataset, you may want to subsample the number of cells in each cluster for this calculation. Each neighborhoood cluster will be sampled down to the number of cells specified by `num_cells_per_cluster`. Set this variable as `None` to use all cells."
   ]
  },
  {
   "cell_type": "code",
   "execution_count": null,
   "metadata": {},
   "outputs": [],
   "source": [
    "# Subsample each phenotype to avoid long runtimes\n",
    "num_cells_per_cluster = 1000\n",
    "\n",
    "neighbor_silhouette_scores = spatial_analysis.compute_cluster_metrics_silhouette(input_features,\n",
    "                                                                                 max_k=max_k,\n",
    "                                                                                 subsample=num_cells_per_cluster)\n",
    "\n",
    "# Use the elbow curve method to choose the optimal k\n",
    "visualize.visualize_neighbor_cluster_metrics(neighbor_silhouette_scores, metric_name=\"silhouette\")"
   ]
  },
  {
   "cell_type": "markdown",
   "metadata": {},
   "source": [
    "## 3. Generate cluster results"
   ]
  },
  {
   "cell_type": "markdown",
   "metadata": {},
   "source": [
    "While the metrics above algorithmically help to choose a k, visualizing the clustering results may help choose the best k. Iterate between steps 3 and 4 to choose the optimal cluster number."
   ]
  },
  {
   "cell_type": "code",
   "execution_count": null,
   "metadata": {},
   "outputs": [],
   "source": [
    "# Set k value here based on results from graphs above and visualization results\n",
    "k = 6"
   ]
  },
  {
   "cell_type": "code",
   "execution_count": null,
   "metadata": {},
   "outputs": [],
   "source": [
    "# These channels will be excluded when generating table of mean marker expression per neighborhood cluster\n",
    "excluded_channels = [\"Au\",\"Fe\",\"Noodle\",\"dsDNA\"]\n",
    "\n",
    "# k-means clustering\n",
    "all_data_cluster_labeled, num_cell_type_per_cluster, mean_marker_exp_per_cluster = \\\n",
    "    spatial_analysis.generate_cluster_matrix_results(\n",
    "        all_data, input_features, cluster_num=k, excluded_channels=excluded_channels)"
   ]
  },
  {
   "cell_type": "markdown",
   "metadata": {},
   "source": [
    "## 4. Visualize cluster results"
   ]
  },
  {
   "cell_type": "markdown",
   "metadata": {},
   "source": [
    "### 4.1 Cluster composition (z-scored for each cell type)"
   ]
  },
  {
   "cell_type": "code",
   "execution_count": null,
   "metadata": {},
   "outputs": [],
   "source": [
    "# Combine composition data with neighborhood labels\n",
    "merged_dat = input_features.merge(all_data_cluster_labeled[[settings.FOV_ID, settings.CELL_LABEL, settings.KMEANS_CLUSTER]],\n",
    "                                  on=[settings.FOV_ID, settings.CELL_LABEL])\n",
    "# Get mean composition of cells in each neighborhood\n",
    "merged_dat = merged_dat.drop([settings.FOV_ID, settings.CELL_LABEL], axis=1)\n",
    "mean_dat = merged_dat.groupby(settings.KMEANS_CLUSTER, as_index=False).mean()\n",
    "\n",
    "# Draw heatmap\n",
    "mean_dat_values = mean_dat.drop(settings.KMEANS_CLUSTER, axis=1)\n",
    "visualize.draw_heatmap(data=mean_dat_values.apply(zscore).values,\n",
    "                       x_labels=[\"Cluster\"+str(x) for x in mean_dat[settings.KMEANS_CLUSTER].values],\n",
    "                       y_labels=mean_dat.drop(settings.KMEANS_CLUSTER, axis=1).columns.values,\n",
    "                       center_val=0)"
   ]
  },
  {
   "cell_type": "markdown",
   "metadata": {},
   "source": [
    "### 4.2 Number of each cell type per neighborhood (z-scored for each cell type)"
   ]
  },
  {
   "cell_type": "code",
   "execution_count": null,
   "metadata": {},
   "outputs": [],
   "source": [
    "visualize.draw_heatmap(data=num_cell_type_per_cluster.apply(zscore).values,\n",
    "                       x_labels=num_cell_type_per_cluster.index.values,\n",
    "                       y_labels=num_cell_type_per_cluster.columns.values,\n",
    "                       center_val=0)"
   ]
  },
  {
   "cell_type": "markdown",
   "metadata": {},
   "source": [
    "### 4.3 Mean marker expression per neighborhood (z-scored for each marker)"
   ]
  },
  {
   "cell_type": "code",
   "execution_count": null,
   "metadata": {},
   "outputs": [],
   "source": [
    "visualize.draw_heatmap(data=mean_marker_exp_per_cluster.apply(zscore).values,\n",
    "                       x_labels=mean_marker_exp_per_cluster.index.values,\n",
    "                       y_labels=mean_marker_exp_per_cluster.columns.values,\n",
    "                       center_val=0)"
   ]
  },
  {
   "cell_type": "markdown",
   "metadata": {},
   "source": [
    "### 4.4 Overlay segmentation with neighborhood clusters"
   ]
  },
  {
   "cell_type": "markdown",
   "metadata": {},
   "source": [
    "It may be helpful to view a few example overlays to assess clustering. For example, for a dataset of lymph nodes, we would expect to see neighborhoods corresponding to the T cell zone, B cell zone, germinal centers, etc."
   ]
  },
  {
   "cell_type": "code",
   "execution_count": null,
   "metadata": {},
   "outputs": [],
   "source": [
    "# select fovs to display \n",
    "fovs = ['2022-03-04T14-42-19-fov-1-scan-1', '2022-03-08T08-10-02-fov-2-scan-1'] \n",
    "cluster_labels_xr = data_utils.label_cells_by_cluster(fovs, all_data_cluster_labeled, label_maps) \n",
    "plot_utils.plot_neighborhood_cluster_result(cluster_labels_xr, fovs, k=k, save_dir=None)"
   ]
  },
  {
   "cell_type": "markdown",
   "metadata": {},
   "source": [
    "## 5. Save data"
   ]
  },
  {
   "cell_type": "markdown",
   "metadata": {},
   "source": [
    "### 5.1 Save data"
   ]
  },
  {
   "cell_type": "markdown",
   "metadata": {},
   "source": [
    "After running k-means using the optimal k, re-save the cell table with neighborhood cluster ID appended. If a cell has no other cells within the distance specfied by `dist_lim`, that cell is excluded from this table."
   ]
  },
  {
   "cell_type": "code",
   "execution_count": null,
   "metadata": {},
   "outputs": [],
   "source": [
    "#  Save cell table\n",
    "new_table_path = cell_table_path.replace(\".csv\",\"_kmeans_nh.csv\")\n",
    "all_data_cluster_labeled.to_csv(new_table_path, index=False)\n",
    "\n",
    "# Save number of each cell type and mean marker expression per neighborhood\n",
    "num_cell_type_per_cluster.to_csv(os.path.join(spatial_analysis_dir, \"neighborhood_cell_type.csv\"), index=True, index_label=settings.KMEANS_CLUSTER)\n",
    "mean_marker_exp_per_cluster.to_csv(os.path.join(spatial_analysis_dir, \"neighborhood_marker.csv\"), index=True, index_label=settings.KMEANS_CLUSTER)"
   ]
  },
  {
   "cell_type": "markdown",
   "metadata": {},
   "source": [
    "### 5.2 Save overay for all FOVs"
   ]
  },
  {
   "cell_type": "code",
   "execution_count": null,
   "metadata": {},
   "outputs": [],
   "source": [
    "# Directory to save overlays\n",
    "overlay_out_dir = os.path.join(spatial_analysis_dir, \"overlays\")\n",
    "if not os.path.exists(overlay_out_dir):\n",
    "    os.makedirs(overlay_out_dir)\n",
    "\n",
    "# Create and save overlays\n",
    "cluster_labels_xr = data_utils.label_cells_by_cluster(all_fovs, all_data_cluster_labeled, label_maps) \n",
    "data_utils.save_fov_images(\n",
    "    all_fovs,\n",
    "    overlay_out_dir,\n",
    "    cluster_labels_xr,\n",
    "    name_suffix='_kmeans_nh'\n",
    ")"
   ]
  },
  {
   "cell_type": "markdown",
   "metadata": {},
   "source": [
    "### 5.3 Save images for Mantis"
   ]
  },
  {
   "cell_type": "markdown",
   "metadata": {},
   "source": [
    "Mantis Viewer is a visualization tool for multi-dimensional imaging in pathology. Learn more about Mantis Viewer in the [README](../README.md#mantis-viewer)."
   ]
  },
  {
   "cell_type": "code",
   "execution_count": null,
   "metadata": {},
   "outputs": [],
   "source": [
    "# Make mapping table for mantis\n",
    "mapping_tab = pd.DataFrame({'metacluster':list(range(1,k+1)), 'mc_name':['Cluster'+str(x) for x in list(range(1,k+1))]})\n",
    "\n",
    "# Change path names as necessary\n",
    "plot_utils.create_mantis_project(\n",
    "    fovs=all_fovs,\n",
    "    mantis_project_path=os.path.join(spatial_analysis_dir, \"mantis\"),\n",
    "    img_data_path=os.path.join(base_dir, \"input_data\", \"single_channel_inputs\"),\n",
    "    mask_output_dir=overlay_out_dir,\n",
    "    mapping=mapping_tab,\n",
    "    seg_dir=seg_output,\n",
    "    mask_suffix=\"_kmeans_nh\",\n",
    "    img_sub_folder=\"\"\n",
    ")"
   ]
  },
  {
   "cell_type": "code",
   "execution_count": null,
   "metadata": {},
   "outputs": [],
   "source": []
  }
 ],
 "metadata": {
  "kernelspec": {
   "display_name": "Python 3 (ipykernel)",
   "language": "python",
   "name": "python3"
  },
  "language_info": {
   "codemirror_mode": {
    "name": "ipython",
    "version": 3
   },
   "file_extension": ".py",
   "mimetype": "text/x-python",
   "name": "python",
   "nbconvert_exporter": "python",
   "pygments_lexer": "ipython3",
   "version": "3.7.13"
  }
 },
 "nbformat": 4,
 "nbformat_minor": 4
}
