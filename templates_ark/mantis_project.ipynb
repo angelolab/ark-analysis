{
 "cells": [
  {
   "cell_type": "code",
   "execution_count": null,
   "metadata": {},
   "outputs": [],
   "source": []
  }
 ],
 "metadata": {
  "kernelspec": {
   "display_name": "Python 3.7.12 ('ark-3.7-R')",
   "language": "python",
   "name": "python3"
  },
  "language_info": {
   "name": "python",
   "version": "3.7.12"
  },
  "orig_nbformat": 4,
  "vscode": {
   "interpreter": {
    "hash": "1feadea41651164b9dff2ecab7fd610fe506de7398680fe23a1caa57d98e80b5"
   }
  }
 },
 "nbformat": 4,
 "nbformat_minor": 2
}
