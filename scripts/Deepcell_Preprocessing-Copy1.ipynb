{
 "cells": [
  {
   "cell_type": "markdown",
   "metadata": {},
   "source": [
    "### This is a notebook to run the preprocessing pipeline prior to uploading your TIFs to deepcell"
   ]
  },
  {
   "cell_type": "code",
   "execution_count": 2,
   "metadata": {},
   "outputs": [],
   "source": [
    "# import required packages\n",
    "import os\n",
    "import numpy as np\n",
    "import skimage.io as io\n",
    "import xarray as xr\n",
    "\n",
    "# add package to system path\n",
    "import sys\n",
    "sys.path.append(\"../\")\n",
    "\n",
    "from segmentation.utils import data_utils"
   ]
  },
  {
   "cell_type": "markdown",
   "metadata": {},
   "source": [
    "## This script is currently configured as a template to run with the provided example data. If running your own data, make a copy of this notebook first before modifying it.                         Go to file-> make a copy to create a copy of this notebook"
   ]
  },
  {
   "cell_type": "code",
   "execution_count": 3,
   "metadata": {},
   "outputs": [],
   "source": [
    "# load TIFs from GUI-based directory structure\n",
    "data_dir = \"../data/example_dataset/input_data/\"\n",
    "\n",
    "# either get all points in the folder\n",
    "points = os.listdir(data_dir)\n",
    "points = [point for point in points if os.path.isdir(data_dir + point) and point.startswith(\"Point\")]\n",
    "\n",
    "# optionally, select a specific set of points manually\n",
    "# points = [\"Point1\", \"Point2\"]"
   ]
  },
  {
   "cell_type": "code",
   "execution_count": 4,
   "metadata": {},
   "outputs": [
    {
     "name": "stdout",
     "output_type": "stream",
     "text": [
      "['Point8']\n"
     ]
    }
   ],
   "source": [
    "print(points)"
   ]
  },
  {
   "cell_type": "code",
   "execution_count": 5,
   "metadata": {},
   "outputs": [
    {
     "name": "stderr",
     "output_type": "stream",
     "text": [
      "/usr/local/lib/python3.6/site-packages/ipykernel_launcher.py:19: UserWarning: ../data/example_dataset/input_data/Point8/TIFs/summed_channel.tif is a low contrast image\n"
     ]
    }
   ],
   "source": [
    "# optionally, specify a set of channels to be summed together for better contrast\n",
    "\n",
    "sum_channels_xr = data_utils.load_imgs_from_dir(data_dir, img_sub_folder=\"TIFs\", fovs=points,\n",
    "                                                             imgs=[\"CD3.tif\", \"CD8.tif\"])\n",
    "\n",
    "channel_sum = np.sum(sum_channels_xr.values, axis=3, dtype=\"uint8\")\n",
    "\n",
    "new_channel_name = \"summed_channel\"\n",
    "\n",
    "summed_xr = xr.DataArray(np.expand_dims(channel_sum, axis=-1), \n",
    "                         coords=[sum_channels_xr.fovs, sum_channels_xr.rows,\n",
    "                                 sum_channels_xr.cols, [new_channel_name]],\n",
    "                         dims=sum_channels_xr.dims)\n",
    "\n",
    "tif_saves = [new_channel_name]\n",
    "for point in summed_xr.fovs.values:\n",
    "    for tif in tif_saves:\n",
    "        save_path = os.path.join(data_dir, point, \"TIFs\", tif + \".tif\")\n",
    "        io.imsave(save_path, summed_xr.loc[point, :, :, tif].values.astype(\"uint8\"))"
   ]
  },
  {
   "cell_type": "code",
   "execution_count": 11,
   "metadata": {},
   "outputs": [
    {
     "name": "stdout",
     "output_type": "stream",
     "text": [
      "<xarray.DataArray (fovs: 1, rows: 1024, cols: 1024, channels: 2)>\n",
      "array([[[[0, 0],\n",
      "         ...,\n",
      "         [1, 1]],\n",
      "\n",
      "        ...,\n",
      "\n",
      "        [[2, 0],\n",
      "         ...,\n",
      "         [1, 0]]]], dtype=int16)\n",
      "Coordinates:\n",
      "  * fovs      (fovs) <U6 'Point8'\n",
      "  * rows      (rows) int64 0 1 2 3 4 5 6 ... 1017 1018 1019 1020 1021 1022 1023\n",
      "  * cols      (cols) int64 0 1 2 3 4 5 6 ... 1017 1018 1019 1020 1021 1022 1023\n",
      "  * channels  (channels) <U3 'CD3' 'CD8'\n",
      "(1, 1024, 1024, 2)\n",
      "('fovs', 'rows', 'cols', 'channels')\n"
     ]
    }
   ],
   "source": [
    "print(sum_channels_xr)\n",
    "print(sum_channels_xr.shape)\n",
    "print(sum_channels_xr.dims)"
   ]
  },
  {
   "cell_type": "code",
   "execution_count": 9,
   "metadata": {},
   "outputs": [
    {
     "name": "stdout",
     "output_type": "stream",
     "text": [
      "[[[0 0 0 ... 1 1 2]\n",
      "  [2 2 1 ... 1 2 0]\n",
      "  [1 2 1 ... 0 0 0]\n",
      "  ...\n",
      "  [0 0 0 ... 0 0 0]\n",
      "  [0 0 2 ... 1 1 0]\n",
      "  [2 1 1 ... 1 1 1]]]\n"
     ]
    }
   ],
   "source": [
    "print(channel_sum)"
   ]
  },
  {
   "cell_type": "code",
   "execution_count": 10,
   "metadata": {},
   "outputs": [
    {
     "name": "stdout",
     "output_type": "stream",
     "text": [
      "<xarray.DataArray (fovs: 1, rows: 1024, cols: 1024, channels: 1)>\n",
      "array([[[[0],\n",
      "         ...,\n",
      "         [2]],\n",
      "\n",
      "        ...,\n",
      "\n",
      "        [[2],\n",
      "         ...,\n",
      "         [1]]]], dtype=uint8)\n",
      "Coordinates:\n",
      "  * fovs      (fovs) <U6 'Point8'\n",
      "  * rows      (rows) int64 0 1 2 3 4 5 6 ... 1017 1018 1019 1020 1021 1022 1023\n",
      "  * cols      (cols) int64 0 1 2 3 4 5 6 ... 1017 1018 1019 1020 1021 1022 1023\n",
      "  * channels  (channels) <U14 'summed_channel'\n"
     ]
    }
   ],
   "source": [
    "print(summed_xr)"
   ]
  },
  {
   "cell_type": "code",
   "execution_count": 6,
   "metadata": {},
   "outputs": [],
   "source": [
    "# load channels to be included in deepcell data\n",
    "tifs = [\"HH3.tif\", \"Membrane.tif\"]\n",
    "data_xr = data_utils.load_imgs_from_dir(data_dir, img_sub_folder=\"TIFs\", fovs=points, imgs=tifs)\n",
    "\n",
    "# save xarray for running through deepcell\n",
    "data_xr.to_netcdf(os.path.join(data_dir, \"deepcell_input.xr\"), format=\"NETCDF3_64BIT\")"
   ]
  },
  {
   "cell_type": "code",
   "execution_count": 13,
   "metadata": {},
   "outputs": [
    {
     "name": "stdout",
     "output_type": "stream",
     "text": [
      "<xarray.DataArray (fovs: 1, rows: 1024, cols: 1024, channels: 2)>\n",
      "array([[[[0, 0],\n",
      "         ...,\n",
      "         [0, 0]],\n",
      "\n",
      "        ...,\n",
      "\n",
      "        [[0, 0],\n",
      "         ...,\n",
      "         [0, 0]]]], dtype=int16)\n",
      "Coordinates:\n",
      "  * fovs      (fovs) <U6 'Point8'\n",
      "  * rows      (rows) int64 0 1 2 3 4 5 6 ... 1017 1018 1019 1020 1021 1022 1023\n",
      "  * cols      (cols) int64 0 1 2 3 4 5 6 ... 1017 1018 1019 1020 1021 1022 1023\n",
      "  * channels  (channels) <U8 'HH3' 'Membrane'\n",
      "(1, 1024, 1024, 2)\n"
     ]
    }
   ],
   "source": [
    "print(data_xr)\n",
    "print(data_xr.shape)"
   ]
  },
  {
   "cell_type": "code",
   "execution_count": null,
   "metadata": {},
   "outputs": [],
   "source": [
    "# Notes:\n",
    "# In data_utils, the code defaults to the test image because variable_sizes is false\n",
    "# \n",
    "\n",
    "### Questions:\n",
    "# Minor question: I understand that we're defaulting to the same image for both, but are the two deepcell notebooks\n",
    "# basically importing the same things using different methodologies? Which one are we currently using?\n",
    "\n",
    "# On your own: are the channels we're interested in HH3 and Membrane or "
   ]
  }
 ],
 "metadata": {
  "kernelspec": {
   "display_name": "Python 3",
   "language": "python",
   "name": "python3"
  },
  "language_info": {
   "codemirror_mode": {
    "name": "ipython",
    "version": 3
   },
   "file_extension": ".py",
   "mimetype": "text/x-python",
   "name": "python",
   "nbconvert_exporter": "python",
   "pygments_lexer": "ipython3",
   "version": "3.6.10"
  }
 },
 "nbformat": 4,
 "nbformat_minor": 2
}
