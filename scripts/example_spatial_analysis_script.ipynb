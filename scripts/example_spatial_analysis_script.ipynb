{
 "cells": [
  {
   "cell_type": "code",
   "execution_count": null,
   "metadata": {},
   "outputs": [],
   "source": [
    "# Import all the necessary packages\n",
    "import numpy as np\n",
    "import os\n",
    "import sys\n",
    "import pandas as pd\n",
    "\n",
    "sys.path.append(\"../\")\n",
    "\n",
    "from segmentation.utils import spatial_analysis, visualize, spatial_analysis_utils  # noqa: E402\n",
    "import xarray as xr  # noqa: E402"
   ]
  },
  {
   "cell_type": "code",
   "execution_count": null,
   "metadata": {},
   "outputs": [],
   "source": [
    "# This script takes a cell expression matrix, label maps for the fovs to be included in the analysis, and, depending\n",
    "# on the analysis, a threshold matrix for channel or cluster spatial analysis. In channel spatial analysis, cells for\n",
    "# a specific fov are identified, and cells of particular phenotypes are compared to each other to check for positive,\n",
    "# negative, or no enrichment. To do this, a distance matrix is created from the label_maps, cell phenotypes are\n",
    "# identified by their labels in the image and then significant interactions between different populations of phenotypes\n",
    "# are recorded. Similar analysis is also done for channel spatial enrichment; however, instead of looking at cell\n",
    "# phenotypes, markers positive for specific thresholds are identified and specific interactions are then characterized\n",
    "# between them."
   ]
  },
  {
   "cell_type": "code",
   "execution_count": null,
   "metadata": {},
   "outputs": [],
   "source": [
    "# Set up file paths and import data\n",
    "base_dir = \"../data/example_dataset/\"\n",
    "spatial_analysis_dir = os.path.join(base_dir, \"spatial_enrichment_input_data\")"
   ]
  },
  {
   "cell_type": "code",
   "execution_count": null,
   "metadata": {},
   "outputs": [],
   "source": [
    "# Import the necessary data\n",
    "# This is the cell expression matrix including data for fovs 6 and 7, their cell labels, marker expression,\n",
    "# cell phenotypes, and cell phenotype IDs.\n",
    "all_data = pd.read_csv(os.path.join(spatial_analysis_dir, \"example_expression_matrix.csv\"))\n",
    "# This is the threshold matrix with all marker thresholds - for channel cpatial enrichment\n",
    "marker_thresholds = pd.read_csv(os.path.join(spatial_analysis_dir, \"markerThresholds.csv\"))\n",
    "marker_thresholds = marker_thresholds.drop(0, axis=0)\n",
    "# This is the Xarray of label maps for multiple fovs from which the distance matrix will be computed\n",
    "label_maps = xr.load_dataarray(os.path.join(spatial_analysis_dir, \"segmentation_labels.xr\"))\n",
    "# Get dictionary object with the respective distance matrices for the points\n",
    "dist_mats = spatial_analysis_utils.calc_dist_matrix(label_maps)"
   ]
  },
  {
   "cell_type": "code",
   "execution_count": null,
   "metadata": {},
   "outputs": [],
   "source": [
    "# Now run the distance matrix, threshold values, and the expression matrix through\n",
    "# channel spatial enrichment\n",
    "\n",
    "# Columns, other than the marker columns, in the expression data\n",
    "# These columns will be excluded from the analysis, so that a matrix of only markers can be extracted\n",
    "excluded_colnames = [\"SampleID\", \"cellLabelInImage\", \"cellSize\", \"C\", \"Na\", \"Si\", \"Background\", \"HH3\",\n",
    "                     \"Ta\", \"Au\", \"Tissue\", \"PatientID\", \"lineage\", \"cell_type\",\n",
    "                     \"cell_lin\", \"lintype_num\", \"FlowSOM_ID\"]\n",
    "\n",
    "values_channel, stats_channel = spatial_analysis.calculate_channel_spatial_enrichment(\n",
    "    dist_mats, marker_thresholds, all_data, excluded_colnames, bootstrap_num=5)"
   ]
  },
  {
   "cell_type": "code",
   "execution_count": null,
   "metadata": {},
   "outputs": [],
   "source": [
    "# Now with the same parameters, cluster spatial analysis (based on cell types rather than positive marker expression\n",
    "# by thresholds) will be done\n",
    "\n",
    "values_cluster, stats_cluster = spatial_analysis.calculate_cluster_spatial_enrichment(\n",
    "    all_data, dist_mats, bootstrap_num=5)"
   ]
  },
  {
   "cell_type": "code",
   "execution_count": null,
   "metadata": {},
   "outputs": [],
   "source": [
    "# To then visualize the z scores, a clustermap can be produced\n",
    "\n",
    "# For cluster spatial analysis, first find all the cell phenotypes in the data to use as an input for the clustergram\n",
    "pheno_titles = all_data[\"cell_type\"].drop_duplicates()\n",
    "visualize.visualize_z_scores(stats_cluster.loc[6, \"z\", :, :].values, pheno_titles)\n",
    "# For channel spatial analysis, first find all the marker titles to use as input for the clustergram\n",
    "marker_titles = all_data.drop(excluded_colnames, axis=1).columns\n",
    "visualize.visualize_z_scores(stats_channel.loc[6, \"z\", :, :].values, marker_titles)"
   ]
  }
 ],
 "metadata": {
  "jupytext": {
   "cell_metadata_filter": "-all",
   "main_language": "python",
   "notebook_metadata_filter": "-all"
  }
 },
 "nbformat": 4,
 "nbformat_minor": 4
}
