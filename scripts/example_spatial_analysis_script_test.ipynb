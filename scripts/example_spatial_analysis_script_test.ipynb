{
 "cells": [
  {
   "cell_type": "code",
   "execution_count": 1,
   "metadata": {},
   "outputs": [],
   "source": [
    "# Import all the necessary packages\n",
    "import numpy as np\n",
    "import os\n",
    "import sys\n",
    "import pandas as pd\n",
    "\n",
    "sys.path.append(\"../\")\n",
    "\n",
    "from segmentation.utils import spatial_analysis, visualize, spatial_analysis_utils  # noqa: E402\n",
    "import xarray as xr  # noqa: E402"
   ]
  },
  {
   "cell_type": "code",
   "execution_count": 9,
   "metadata": {},
   "outputs": [],
   "source": [
    "import ipdb\n",
    "from IPython.core.debugger import Tracer"
   ]
  },
  {
   "cell_type": "code",
   "execution_count": null,
   "metadata": {},
   "outputs": [],
   "source": [
    "# This script takes a cell expression matrix, label maps for the fovs to be included in the analysis, and, depending\n",
    "# on the analysis, a threshold matrix for channel or cluster spatial analysis. In channel spatial analysis, cells for\n",
    "# a specific fov are identified, and cells of particular phenotypes are compared to each other to check for positive,\n",
    "# negative, or no enrichment. To do this, a distance matrix is created from the label_maps, cell phenotypes are\n",
    "# identified by their labels in the image and then significant interactions between different populations of phenotypes\n",
    "# are recorded. Similar analysis is also done for channel spatial enrichment; however, instead of looking at cell\n",
    "# phenotypes, markers positive for specific thresholds are identified and specific interactions are then characterized\n",
    "# between them."
   ]
  },
  {
   "cell_type": "code",
   "execution_count": 2,
   "metadata": {},
   "outputs": [],
   "source": [
    "# Set up file paths and import data\n",
    "base_dir = \"../data/example_dataset/\"\n",
    "spatial_analysis_dir = os.path.join(base_dir, \"spatial_enrichment_input_data\")"
   ]
  },
  {
   "cell_type": "code",
   "execution_count": 3,
   "metadata": {},
   "outputs": [],
   "source": [
    "# Import the necessary data\n",
    "# This is the cell expression matrix including data for fovs 6 and 7, their cell labels, marker expression,\n",
    "# cell phenotypes, and cell phenotype IDs.\n",
    "all_data = pd.read_csv(os.path.join(spatial_analysis_dir, \"example_expression_matrix.csv\"))\n",
    "# This is the threshold matrix with all marker thresholds - for channel cpatial enrichment\n",
    "marker_thresholds = pd.read_csv(os.path.join(spatial_analysis_dir, \"markerThresholds.csv\"))\n",
    "marker_thresholds = marker_thresholds.drop(0, axis=0)\n",
    "# This is the Xarray of label maps for multiple fovs from which the distance matrix will be computed\n",
    "label_maps = xr.load_dataarray(os.path.join(spatial_analysis_dir, \"segmentation_labels.xr\"))\n",
    "# Get dictionary object with the respective distance matrices for the points\n",
    "dist_mats = spatial_analysis_utils.calc_dist_matrix(label_maps)"
   ]
  },
  {
   "cell_type": "code",
   "execution_count": 12,
   "metadata": {},
   "outputs": [],
   "source": [
    "# Now run the distance matrix, threshold values, and the expression matrix through\n",
    "# channel spatial enrichment\n",
    "\n",
    "# Columns, other than the marker columns, in the expression data\n",
    "# These columns will be excluded from the analysis, so that a matrix of only markers can be extracted\n",
    "def run_code():\n",
    "    ipdb.set_trace()\n",
    "\n",
    "    excluded_colnames = [\"SampleID\", \"cellLabelInImage\", \"cellSize\", \"C\", \"Na\", \"Si\", \"Background\", \"HH3\",\n",
    "                         \"Ta\", \"Au\", \"Tissue\", \"PatientID\", \"lineage\", \"cell_type\",\n",
    "                         \"cell_lin\", \"lintype_num\", \"FlowSOM_ID\"]\n",
    "\n",
    "    values_channel, stats_channel = spatial_analysis.calculate_channel_spatial_enrichment(\n",
    "        dist_mats, marker_thresholds, all_data, excluded_colnames, bootstrap_num=100)"
   ]
  },
  {
   "cell_type": "code",
   "execution_count": 13,
   "metadata": {},
   "outputs": [
    {
     "name": "stdout",
     "output_type": "stream",
     "text": [
      "> \u001b[0;32m<ipython-input-12-935502c5e138>\u001b[0m(9)\u001b[0;36mrun_code\u001b[0;34m()\u001b[0m\n",
      "\u001b[0;32m      8 \u001b[0;31m\u001b[0;34m\u001b[0m\u001b[0m\n",
      "\u001b[0m\u001b[0;32m----> 9 \u001b[0;31m    excluded_colnames = [\"SampleID\", \"cellLabelInImage\", \"cellSize\", \"C\", \"Na\", \"Si\", \"Background\", \"HH3\",\n",
      "\u001b[0m\u001b[0;32m     10 \u001b[0;31m                         \u001b[0;34m\"Ta\"\u001b[0m\u001b[0;34m,\u001b[0m \u001b[0;34m\"Au\"\u001b[0m\u001b[0;34m,\u001b[0m \u001b[0;34m\"Tissue\"\u001b[0m\u001b[0;34m,\u001b[0m \u001b[0;34m\"PatientID\"\u001b[0m\u001b[0;34m,\u001b[0m \u001b[0;34m\"lineage\"\u001b[0m\u001b[0;34m,\u001b[0m \u001b[0;34m\"cell_type\"\u001b[0m\u001b[0;34m,\u001b[0m\u001b[0;34m\u001b[0m\u001b[0;34m\u001b[0m\u001b[0m\n",
      "\u001b[0m\n"
     ]
    },
    {
     "name": "stdin",
     "output_type": "stream",
     "text": [
      "ipdb>  n\n"
     ]
    },
    {
     "name": "stdout",
     "output_type": "stream",
     "text": [
      "> \u001b[0;32m<ipython-input-12-935502c5e138>\u001b[0m(10)\u001b[0;36mrun_code\u001b[0;34m()\u001b[0m\n",
      "\u001b[0;32m      9 \u001b[0;31m    excluded_colnames = [\"SampleID\", \"cellLabelInImage\", \"cellSize\", \"C\", \"Na\", \"Si\", \"Background\", \"HH3\",\n",
      "\u001b[0m\u001b[0;32m---> 10 \u001b[0;31m                         \u001b[0;34m\"Ta\"\u001b[0m\u001b[0;34m,\u001b[0m \u001b[0;34m\"Au\"\u001b[0m\u001b[0;34m,\u001b[0m \u001b[0;34m\"Tissue\"\u001b[0m\u001b[0;34m,\u001b[0m \u001b[0;34m\"PatientID\"\u001b[0m\u001b[0;34m,\u001b[0m \u001b[0;34m\"lineage\"\u001b[0m\u001b[0;34m,\u001b[0m \u001b[0;34m\"cell_type\"\u001b[0m\u001b[0;34m,\u001b[0m\u001b[0;34m\u001b[0m\u001b[0;34m\u001b[0m\u001b[0m\n",
      "\u001b[0m\u001b[0;32m     11 \u001b[0;31m                         \"cell_lin\", \"lintype_num\", \"FlowSOM_ID\"]\n",
      "\u001b[0m\n"
     ]
    },
    {
     "name": "stdin",
     "output_type": "stream",
     "text": [
      "ipdb>  n\n"
     ]
    },
    {
     "name": "stdout",
     "output_type": "stream",
     "text": [
      "> \u001b[0;32m<ipython-input-12-935502c5e138>\u001b[0m(11)\u001b[0;36mrun_code\u001b[0;34m()\u001b[0m\n",
      "\u001b[0;32m     10 \u001b[0;31m                         \u001b[0;34m\"Ta\"\u001b[0m\u001b[0;34m,\u001b[0m \u001b[0;34m\"Au\"\u001b[0m\u001b[0;34m,\u001b[0m \u001b[0;34m\"Tissue\"\u001b[0m\u001b[0;34m,\u001b[0m \u001b[0;34m\"PatientID\"\u001b[0m\u001b[0;34m,\u001b[0m \u001b[0;34m\"lineage\"\u001b[0m\u001b[0;34m,\u001b[0m \u001b[0;34m\"cell_type\"\u001b[0m\u001b[0;34m,\u001b[0m\u001b[0;34m\u001b[0m\u001b[0;34m\u001b[0m\u001b[0m\n",
      "\u001b[0m\u001b[0;32m---> 11 \u001b[0;31m                         \"cell_lin\", \"lintype_num\", \"FlowSOM_ID\"]\n",
      "\u001b[0m\u001b[0;32m     12 \u001b[0;31m\u001b[0;34m\u001b[0m\u001b[0m\n",
      "\u001b[0m\n"
     ]
    },
    {
     "name": "stdin",
     "output_type": "stream",
     "text": [
      "ipdb>  n\n"
     ]
    },
    {
     "name": "stdout",
     "output_type": "stream",
     "text": [
      "> \u001b[0;32m<ipython-input-12-935502c5e138>\u001b[0m(13)\u001b[0;36mrun_code\u001b[0;34m()\u001b[0m\n",
      "\u001b[0;32m     12 \u001b[0;31m\u001b[0;34m\u001b[0m\u001b[0m\n",
      "\u001b[0m\u001b[0;32m---> 13 \u001b[0;31m    values_channel, stats_channel = spatial_analysis.calculate_channel_spatial_enrichment(\n",
      "\u001b[0m\u001b[0;32m     14 \u001b[0;31m        dist_mats, marker_thresholds, all_data, excluded_colnames, bootstrap_num=100)\n",
      "\u001b[0m\n"
     ]
    },
    {
     "name": "stdin",
     "output_type": "stream",
     "text": [
      "ipdb>  s\n"
     ]
    },
    {
     "name": "stdout",
     "output_type": "stream",
     "text": [
      "> \u001b[0;32m<ipython-input-12-935502c5e138>\u001b[0m(14)\u001b[0;36mrun_code\u001b[0;34m()\u001b[0m\n",
      "\u001b[0;32m     12 \u001b[0;31m\u001b[0;34m\u001b[0m\u001b[0m\n",
      "\u001b[0m\u001b[0;32m     13 \u001b[0;31m    values_channel, stats_channel = spatial_analysis.calculate_channel_spatial_enrichment(\n",
      "\u001b[0m\u001b[0;32m---> 14 \u001b[0;31m        dist_mats, marker_thresholds, all_data, excluded_colnames, bootstrap_num=100)\n",
      "\u001b[0m\n"
     ]
    },
    {
     "name": "stdin",
     "output_type": "stream",
     "text": [
      "ipdb>  s\n"
     ]
    },
    {
     "name": "stdout",
     "output_type": "stream",
     "text": [
      "--Call--\n",
      "> \u001b[0;32m/Users/alex/Desktop/Angelo_Work/segmentation/segmentation/utils/spatial_analysis.py\u001b[0m(24)\u001b[0;36mcalculate_channel_spatial_enrichment\u001b[0;34m()\u001b[0m\n",
      "\u001b[0;32m     23 \u001b[0;31m\u001b[0;34m\u001b[0m\u001b[0m\n",
      "\u001b[0m\u001b[0;32m---> 24 \u001b[0;31mdef calculate_channel_spatial_enrichment(dist_matrices, marker_thresholds, all_data,\n",
      "\u001b[0m\u001b[0;32m     25 \u001b[0;31m                                         \u001b[0mexcluded_colnames\u001b[0m\u001b[0;34m=\u001b[0m\u001b[0;32mNone\u001b[0m\u001b[0;34m,\u001b[0m \u001b[0mfovs\u001b[0m\u001b[0;34m=\u001b[0m\u001b[0;32mNone\u001b[0m\u001b[0;34m,\u001b[0m\u001b[0;34m\u001b[0m\u001b[0;34m\u001b[0m\u001b[0m\n",
      "\u001b[0m\n"
     ]
    },
    {
     "name": "stdin",
     "output_type": "stream",
     "text": [
      "ipdb>  n\n"
     ]
    },
    {
     "name": "stdout",
     "output_type": "stream",
     "text": [
      "> \u001b[0;32m/Users/alex/Desktop/Angelo_Work/segmentation/segmentation/utils/spatial_analysis.py\u001b[0m(52)\u001b[0;36mcalculate_channel_spatial_enrichment\u001b[0;34m()\u001b[0m\n",
      "\u001b[0;32m     51 \u001b[0;31m\u001b[0;34m\u001b[0m\u001b[0m\n",
      "\u001b[0m\u001b[0;32m---> 52 \u001b[0;31m    \u001b[0mfov_col\u001b[0m \u001b[0;34m=\u001b[0m \u001b[0;34m\"SampleID\"\u001b[0m\u001b[0;34m\u001b[0m\u001b[0;34m\u001b[0m\u001b[0m\n",
      "\u001b[0m\u001b[0;32m     53 \u001b[0;31m\u001b[0;34m\u001b[0m\u001b[0m\n",
      "\u001b[0m\n"
     ]
    },
    {
     "name": "stdin",
     "output_type": "stream",
     "text": [
      "ipdb>  n\n"
     ]
    },
    {
     "name": "stdout",
     "output_type": "stream",
     "text": [
      "> \u001b[0;32m/Users/alex/Desktop/Angelo_Work/segmentation/segmentation/utils/spatial_analysis.py\u001b[0m(55)\u001b[0;36mcalculate_channel_spatial_enrichment\u001b[0;34m()\u001b[0m\n",
      "\u001b[0;32m     54 \u001b[0;31m    \u001b[0;31m# Setup input and parameters\u001b[0m\u001b[0;34m\u001b[0m\u001b[0;34m\u001b[0m\u001b[0;34m\u001b[0m\u001b[0m\n",
      "\u001b[0m\u001b[0;32m---> 55 \u001b[0;31m    \u001b[0;32mif\u001b[0m \u001b[0mfovs\u001b[0m \u001b[0;32mis\u001b[0m \u001b[0;32mNone\u001b[0m\u001b[0;34m:\u001b[0m\u001b[0;34m\u001b[0m\u001b[0;34m\u001b[0m\u001b[0m\n",
      "\u001b[0m\u001b[0;32m     56 \u001b[0;31m        \u001b[0mfovs\u001b[0m \u001b[0;34m=\u001b[0m \u001b[0mlist\u001b[0m\u001b[0;34m(\u001b[0m\u001b[0mset\u001b[0m\u001b[0;34m(\u001b[0m\u001b[0mall_data\u001b[0m\u001b[0;34m[\u001b[0m\u001b[0mfov_col\u001b[0m\u001b[0;34m]\u001b[0m\u001b[0;34m)\u001b[0m\u001b[0;34m)\u001b[0m\u001b[0;34m\u001b[0m\u001b[0;34m\u001b[0m\u001b[0m\n",
      "\u001b[0m\n"
     ]
    },
    {
     "name": "stdin",
     "output_type": "stream",
     "text": [
      "ipdb>  n\n"
     ]
    },
    {
     "name": "stdout",
     "output_type": "stream",
     "text": [
      "> \u001b[0;32m/Users/alex/Desktop/Angelo_Work/segmentation/segmentation/utils/spatial_analysis.py\u001b[0m(56)\u001b[0;36mcalculate_channel_spatial_enrichment\u001b[0;34m()\u001b[0m\n",
      "\u001b[0;32m     55 \u001b[0;31m    \u001b[0;32mif\u001b[0m \u001b[0mfovs\u001b[0m \u001b[0;32mis\u001b[0m \u001b[0;32mNone\u001b[0m\u001b[0;34m:\u001b[0m\u001b[0;34m\u001b[0m\u001b[0;34m\u001b[0m\u001b[0m\n",
      "\u001b[0m\u001b[0;32m---> 56 \u001b[0;31m        \u001b[0mfovs\u001b[0m \u001b[0;34m=\u001b[0m \u001b[0mlist\u001b[0m\u001b[0;34m(\u001b[0m\u001b[0mset\u001b[0m\u001b[0;34m(\u001b[0m\u001b[0mall_data\u001b[0m\u001b[0;34m[\u001b[0m\u001b[0mfov_col\u001b[0m\u001b[0;34m]\u001b[0m\u001b[0;34m)\u001b[0m\u001b[0;34m)\u001b[0m\u001b[0;34m\u001b[0m\u001b[0;34m\u001b[0m\u001b[0m\n",
      "\u001b[0m\u001b[0;32m     57 \u001b[0;31m        \u001b[0mnum_fovs\u001b[0m \u001b[0;34m=\u001b[0m \u001b[0mlen\u001b[0m\u001b[0;34m(\u001b[0m\u001b[0mfovs\u001b[0m\u001b[0;34m)\u001b[0m\u001b[0;34m\u001b[0m\u001b[0;34m\u001b[0m\u001b[0m\n",
      "\u001b[0m\n"
     ]
    },
    {
     "name": "stdin",
     "output_type": "stream",
     "text": [
      "ipdb>  n\n"
     ]
    },
    {
     "name": "stdout",
     "output_type": "stream",
     "text": [
      "> \u001b[0;32m/Users/alex/Desktop/Angelo_Work/segmentation/segmentation/utils/spatial_analysis.py\u001b[0m(57)\u001b[0;36mcalculate_channel_spatial_enrichment\u001b[0;34m()\u001b[0m\n",
      "\u001b[0;32m     56 \u001b[0;31m        \u001b[0mfovs\u001b[0m \u001b[0;34m=\u001b[0m \u001b[0mlist\u001b[0m\u001b[0;34m(\u001b[0m\u001b[0mset\u001b[0m\u001b[0;34m(\u001b[0m\u001b[0mall_data\u001b[0m\u001b[0;34m[\u001b[0m\u001b[0mfov_col\u001b[0m\u001b[0;34m]\u001b[0m\u001b[0;34m)\u001b[0m\u001b[0;34m)\u001b[0m\u001b[0;34m\u001b[0m\u001b[0;34m\u001b[0m\u001b[0m\n",
      "\u001b[0m\u001b[0;32m---> 57 \u001b[0;31m        \u001b[0mnum_fovs\u001b[0m \u001b[0;34m=\u001b[0m \u001b[0mlen\u001b[0m\u001b[0;34m(\u001b[0m\u001b[0mfovs\u001b[0m\u001b[0;34m)\u001b[0m\u001b[0;34m\u001b[0m\u001b[0;34m\u001b[0m\u001b[0m\n",
      "\u001b[0m\u001b[0;32m     58 \u001b[0;31m    \u001b[0;32melse\u001b[0m\u001b[0;34m:\u001b[0m\u001b[0;34m\u001b[0m\u001b[0;34m\u001b[0m\u001b[0m\n",
      "\u001b[0m\n"
     ]
    },
    {
     "name": "stdin",
     "output_type": "stream",
     "text": [
      "ipdb>  n\n"
     ]
    },
    {
     "name": "stdout",
     "output_type": "stream",
     "text": [
      "> \u001b[0;32m/Users/alex/Desktop/Angelo_Work/segmentation/segmentation/utils/spatial_analysis.py\u001b[0m(61)\u001b[0;36mcalculate_channel_spatial_enrichment\u001b[0;34m()\u001b[0m\n",
      "\u001b[0;32m     60 \u001b[0;31m\u001b[0;34m\u001b[0m\u001b[0m\n",
      "\u001b[0m\u001b[0;32m---> 61 \u001b[0;31m    \u001b[0mvalues\u001b[0m \u001b[0;34m=\u001b[0m \u001b[0;34m[\u001b[0m\u001b[0;34m]\u001b[0m\u001b[0;34m\u001b[0m\u001b[0;34m\u001b[0m\u001b[0m\n",
      "\u001b[0m\u001b[0;32m     62 \u001b[0;31m\u001b[0;34m\u001b[0m\u001b[0m\n",
      "\u001b[0m\n"
     ]
    },
    {
     "name": "stdin",
     "output_type": "stream",
     "text": [
      "ipdb>  n\n"
     ]
    },
    {
     "name": "stdout",
     "output_type": "stream",
     "text": [
      "> \u001b[0;32m/Users/alex/Desktop/Angelo_Work/segmentation/segmentation/utils/spatial_analysis.py\u001b[0m(63)\u001b[0;36mcalculate_channel_spatial_enrichment\u001b[0;34m()\u001b[0m\n",
      "\u001b[0;32m     62 \u001b[0;31m\u001b[0;34m\u001b[0m\u001b[0m\n",
      "\u001b[0m\u001b[0;32m---> 63 \u001b[0;31m    \u001b[0;32mif\u001b[0m \u001b[0mexcluded_colnames\u001b[0m \u001b[0;32mis\u001b[0m \u001b[0;32mNone\u001b[0m\u001b[0;34m:\u001b[0m\u001b[0;34m\u001b[0m\u001b[0;34m\u001b[0m\u001b[0m\n",
      "\u001b[0m\u001b[0;32m     64 \u001b[0;31m        excluded_colnames = [\"cell_size\", \"Background\", \"HH3\",\n",
      "\u001b[0m\n"
     ]
    },
    {
     "name": "stdin",
     "output_type": "stream",
     "text": [
      "ipdb>  n\n"
     ]
    },
    {
     "name": "stdout",
     "output_type": "stream",
     "text": [
      "> \u001b[0;32m/Users/alex/Desktop/Angelo_Work/segmentation/segmentation/utils/spatial_analysis.py\u001b[0m(70)\u001b[0;36mcalculate_channel_spatial_enrichment\u001b[0;34m()\u001b[0m\n",
      "\u001b[0;32m     69 \u001b[0;31m    \u001b[0;31m# Error Checking\u001b[0m\u001b[0;34m\u001b[0m\u001b[0;34m\u001b[0m\u001b[0;34m\u001b[0m\u001b[0m\n",
      "\u001b[0m\u001b[0;32m---> 70 \u001b[0;31m    \u001b[0;32mif\u001b[0m \u001b[0;32mnot\u001b[0m \u001b[0mnp\u001b[0m\u001b[0;34m.\u001b[0m\u001b[0misin\u001b[0m\u001b[0;34m(\u001b[0m\u001b[0mexcluded_colnames\u001b[0m\u001b[0;34m,\u001b[0m \u001b[0mall_data\u001b[0m\u001b[0;34m.\u001b[0m\u001b[0mcolumns\u001b[0m\u001b[0;34m)\u001b[0m\u001b[0;34m.\u001b[0m\u001b[0mall\u001b[0m\u001b[0;34m(\u001b[0m\u001b[0;34m)\u001b[0m\u001b[0;34m:\u001b[0m\u001b[0;34m\u001b[0m\u001b[0;34m\u001b[0m\u001b[0m\n",
      "\u001b[0m\u001b[0;32m     71 \u001b[0;31m        \u001b[0;32mraise\u001b[0m \u001b[0mValueError\u001b[0m\u001b[0;34m(\u001b[0m\u001b[0;34m\"Column names were not found in Expression Matrix\"\u001b[0m\u001b[0;34m)\u001b[0m\u001b[0;34m\u001b[0m\u001b[0;34m\u001b[0m\u001b[0m\n",
      "\u001b[0m\n"
     ]
    },
    {
     "name": "stdin",
     "output_type": "stream",
     "text": [
      "ipdb>  n\n"
     ]
    },
    {
     "name": "stdout",
     "output_type": "stream",
     "text": [
      "> \u001b[0;32m/Users/alex/Desktop/Angelo_Work/segmentation/segmentation/utils/spatial_analysis.py\u001b[0m(73)\u001b[0;36mcalculate_channel_spatial_enrichment\u001b[0;34m()\u001b[0m\n",
      "\u001b[0;32m     72 \u001b[0;31m\u001b[0;34m\u001b[0m\u001b[0m\n",
      "\u001b[0m\u001b[0;32m---> 73 \u001b[0;31m    \u001b[0;32mif\u001b[0m \u001b[0;32mnot\u001b[0m \u001b[0mnp\u001b[0m\u001b[0;34m.\u001b[0m\u001b[0misin\u001b[0m\u001b[0;34m(\u001b[0m\u001b[0mfovs\u001b[0m\u001b[0;34m,\u001b[0m \u001b[0mall_data\u001b[0m\u001b[0;34m[\u001b[0m\u001b[0mfov_col\u001b[0m\u001b[0;34m]\u001b[0m\u001b[0;34m)\u001b[0m\u001b[0;34m.\u001b[0m\u001b[0mall\u001b[0m\u001b[0;34m(\u001b[0m\u001b[0;34m)\u001b[0m\u001b[0;34m:\u001b[0m\u001b[0;34m\u001b[0m\u001b[0;34m\u001b[0m\u001b[0m\n",
      "\u001b[0m\u001b[0;32m     74 \u001b[0;31m        \u001b[0;32mraise\u001b[0m \u001b[0mValueError\u001b[0m\u001b[0;34m(\u001b[0m\u001b[0;34m\"Points were not found in Expression Matrix\"\u001b[0m\u001b[0;34m)\u001b[0m\u001b[0;34m\u001b[0m\u001b[0;34m\u001b[0m\u001b[0m\n",
      "\u001b[0m\n"
     ]
    },
    {
     "name": "stdin",
     "output_type": "stream",
     "text": [
      "ipdb>  n\n"
     ]
    },
    {
     "name": "stdout",
     "output_type": "stream",
     "text": [
      "> \u001b[0;32m/Users/alex/Desktop/Angelo_Work/segmentation/segmentation/utils/spatial_analysis.py\u001b[0m(77)\u001b[0;36mcalculate_channel_spatial_enrichment\u001b[0;34m()\u001b[0m\n",
      "\u001b[0;32m     76 \u001b[0;31m    \u001b[0;31m# Subsets the expression matrix to only have marker columns\u001b[0m\u001b[0;34m\u001b[0m\u001b[0;34m\u001b[0m\u001b[0;34m\u001b[0m\u001b[0m\n",
      "\u001b[0m\u001b[0;32m---> 77 \u001b[0;31m    \u001b[0mdata_markers\u001b[0m \u001b[0;34m=\u001b[0m \u001b[0mall_data\u001b[0m\u001b[0;34m.\u001b[0m\u001b[0mdrop\u001b[0m\u001b[0;34m(\u001b[0m\u001b[0mexcluded_colnames\u001b[0m\u001b[0;34m,\u001b[0m \u001b[0maxis\u001b[0m\u001b[0;34m=\u001b[0m\u001b[0;36m1\u001b[0m\u001b[0;34m)\u001b[0m\u001b[0;34m\u001b[0m\u001b[0;34m\u001b[0m\u001b[0m\n",
      "\u001b[0m\u001b[0;32m     78 \u001b[0;31m    \u001b[0;31m# List of all markers\u001b[0m\u001b[0;34m\u001b[0m\u001b[0;34m\u001b[0m\u001b[0;34m\u001b[0m\u001b[0m\n",
      "\u001b[0m\n"
     ]
    },
    {
     "name": "stdin",
     "output_type": "stream",
     "text": [
      "ipdb>  n\n"
     ]
    },
    {
     "name": "stdout",
     "output_type": "stream",
     "text": [
      "> \u001b[0;32m/Users/alex/Desktop/Angelo_Work/segmentation/segmentation/utils/spatial_analysis.py\u001b[0m(79)\u001b[0;36mcalculate_channel_spatial_enrichment\u001b[0;34m()\u001b[0m\n",
      "\u001b[0;32m     78 \u001b[0;31m    \u001b[0;31m# List of all markers\u001b[0m\u001b[0;34m\u001b[0m\u001b[0;34m\u001b[0m\u001b[0;34m\u001b[0m\u001b[0m\n",
      "\u001b[0m\u001b[0;32m---> 79 \u001b[0;31m    \u001b[0mmarker_titles\u001b[0m \u001b[0;34m=\u001b[0m \u001b[0mdata_markers\u001b[0m\u001b[0;34m.\u001b[0m\u001b[0mcolumns\u001b[0m\u001b[0;34m\u001b[0m\u001b[0;34m\u001b[0m\u001b[0m\n",
      "\u001b[0m\u001b[0;32m     80 \u001b[0;31m    \u001b[0;31m# Length of marker list\u001b[0m\u001b[0;34m\u001b[0m\u001b[0;34m\u001b[0m\u001b[0;34m\u001b[0m\u001b[0m\n",
      "\u001b[0m\n"
     ]
    },
    {
     "name": "stdin",
     "output_type": "stream",
     "text": [
      "ipdb>  n\n"
     ]
    },
    {
     "name": "stdout",
     "output_type": "stream",
     "text": [
      "> \u001b[0;32m/Users/alex/Desktop/Angelo_Work/segmentation/segmentation/utils/spatial_analysis.py\u001b[0m(81)\u001b[0;36mcalculate_channel_spatial_enrichment\u001b[0;34m()\u001b[0m\n",
      "\u001b[0;32m     80 \u001b[0;31m    \u001b[0;31m# Length of marker list\u001b[0m\u001b[0;34m\u001b[0m\u001b[0;34m\u001b[0m\u001b[0;34m\u001b[0m\u001b[0m\n",
      "\u001b[0m\u001b[0;32m---> 81 \u001b[0;31m    \u001b[0mmarker_num\u001b[0m \u001b[0;34m=\u001b[0m \u001b[0mlen\u001b[0m\u001b[0;34m(\u001b[0m\u001b[0mmarker_titles\u001b[0m\u001b[0;34m)\u001b[0m\u001b[0;34m\u001b[0m\u001b[0;34m\u001b[0m\u001b[0m\n",
      "\u001b[0m\u001b[0;32m     82 \u001b[0;31m\u001b[0;34m\u001b[0m\u001b[0m\n",
      "\u001b[0m\n"
     ]
    },
    {
     "name": "stdin",
     "output_type": "stream",
     "text": [
      "ipdb>  n\n"
     ]
    },
    {
     "name": "stdout",
     "output_type": "stream",
     "text": [
      "> \u001b[0;32m/Users/alex/Desktop/Angelo_Work/segmentation/segmentation/utils/spatial_analysis.py\u001b[0m(84)\u001b[0;36mcalculate_channel_spatial_enrichment\u001b[0;34m()\u001b[0m\n",
      "\u001b[0;32m     83 \u001b[0;31m    \u001b[0;31m# Check to see if order of marker thresholds is same as in expression matrix\u001b[0m\u001b[0;34m\u001b[0m\u001b[0;34m\u001b[0m\u001b[0;34m\u001b[0m\u001b[0m\n",
      "\u001b[0m\u001b[0;32m---> 84 \u001b[0;31m    \u001b[0;32mif\u001b[0m \u001b[0;32mnot\u001b[0m \u001b[0;34m(\u001b[0m\u001b[0mlist\u001b[0m\u001b[0;34m(\u001b[0m\u001b[0mmarker_thresholds\u001b[0m\u001b[0;34m.\u001b[0m\u001b[0miloc\u001b[0m\u001b[0;34m[\u001b[0m\u001b[0;34m:\u001b[0m\u001b[0;34m,\u001b[0m \u001b[0;36m0\u001b[0m\u001b[0;34m]\u001b[0m\u001b[0;34m)\u001b[0m \u001b[0;34m==\u001b[0m \u001b[0mmarker_titles\u001b[0m\u001b[0;34m)\u001b[0m\u001b[0;34m.\u001b[0m\u001b[0many\u001b[0m\u001b[0;34m(\u001b[0m\u001b[0;34m)\u001b[0m\u001b[0;34m:\u001b[0m\u001b[0;34m\u001b[0m\u001b[0;34m\u001b[0m\u001b[0m\n",
      "\u001b[0m\u001b[0;32m     85 \u001b[0;31m        \u001b[0;32mraise\u001b[0m \u001b[0mValueError\u001b[0m\u001b[0;34m(\u001b[0m\u001b[0;34m\"Threshold Markers do not match markers in Expression Matrix\"\u001b[0m\u001b[0;34m)\u001b[0m\u001b[0;34m\u001b[0m\u001b[0;34m\u001b[0m\u001b[0m\n",
      "\u001b[0m\n"
     ]
    },
    {
     "name": "stdin",
     "output_type": "stream",
     "text": [
      "ipdb>  n\n"
     ]
    },
    {
     "name": "stdout",
     "output_type": "stream",
     "text": [
      "> \u001b[0;32m/Users/alex/Desktop/Angelo_Work/segmentation/segmentation/utils/spatial_analysis.py\u001b[0m(88)\u001b[0;36mcalculate_channel_spatial_enrichment\u001b[0;34m()\u001b[0m\n",
      "\u001b[0;32m     87 \u001b[0;31m    \u001b[0;31m# Create stats Xarray with the dimensions (points, stats variables, number of markers, number of markers)\u001b[0m\u001b[0;34m\u001b[0m\u001b[0;34m\u001b[0m\u001b[0;34m\u001b[0m\u001b[0m\n",
      "\u001b[0m\u001b[0;32m---> 88 \u001b[0;31m    \u001b[0mstats_raw_data\u001b[0m \u001b[0;34m=\u001b[0m \u001b[0mnp\u001b[0m\u001b[0;34m.\u001b[0m\u001b[0mzeros\u001b[0m\u001b[0;34m(\u001b[0m\u001b[0;34m(\u001b[0m\u001b[0mnum_fovs\u001b[0m\u001b[0;34m,\u001b[0m \u001b[0;36m7\u001b[0m\u001b[0;34m,\u001b[0m \u001b[0mmarker_num\u001b[0m\u001b[0;34m,\u001b[0m \u001b[0mmarker_num\u001b[0m\u001b[0;34m)\u001b[0m\u001b[0;34m)\u001b[0m\u001b[0;34m\u001b[0m\u001b[0;34m\u001b[0m\u001b[0m\n",
      "\u001b[0m\u001b[0;32m     89 \u001b[0;31m    coords = [fovs, [\"z\", \"muhat\", \"sigmahat\", \"p_pos\", \"p_neg\", \"h\", \"p_adj\"], marker_titles,\n",
      "\u001b[0m\n"
     ]
    },
    {
     "name": "stdin",
     "output_type": "stream",
     "text": [
      "ipdb>  n\n"
     ]
    },
    {
     "name": "stdout",
     "output_type": "stream",
     "text": [
      "> \u001b[0;32m/Users/alex/Desktop/Angelo_Work/segmentation/segmentation/utils/spatial_analysis.py\u001b[0m(89)\u001b[0;36mcalculate_channel_spatial_enrichment\u001b[0;34m()\u001b[0m\n",
      "\u001b[0;32m     88 \u001b[0;31m    \u001b[0mstats_raw_data\u001b[0m \u001b[0;34m=\u001b[0m \u001b[0mnp\u001b[0m\u001b[0;34m.\u001b[0m\u001b[0mzeros\u001b[0m\u001b[0;34m(\u001b[0m\u001b[0;34m(\u001b[0m\u001b[0mnum_fovs\u001b[0m\u001b[0;34m,\u001b[0m \u001b[0;36m7\u001b[0m\u001b[0;34m,\u001b[0m \u001b[0mmarker_num\u001b[0m\u001b[0;34m,\u001b[0m \u001b[0mmarker_num\u001b[0m\u001b[0;34m)\u001b[0m\u001b[0;34m)\u001b[0m\u001b[0;34m\u001b[0m\u001b[0;34m\u001b[0m\u001b[0m\n",
      "\u001b[0m\u001b[0;32m---> 89 \u001b[0;31m    coords = [fovs, [\"z\", \"muhat\", \"sigmahat\", \"p_pos\", \"p_neg\", \"h\", \"p_adj\"], marker_titles,\n",
      "\u001b[0m\u001b[0;32m     90 \u001b[0;31m              marker_titles]\n",
      "\u001b[0m\n"
     ]
    },
    {
     "name": "stdin",
     "output_type": "stream",
     "text": [
      "ipdb>  n\n"
     ]
    },
    {
     "name": "stdout",
     "output_type": "stream",
     "text": [
      "> \u001b[0;32m/Users/alex/Desktop/Angelo_Work/segmentation/segmentation/utils/spatial_analysis.py\u001b[0m(90)\u001b[0;36mcalculate_channel_spatial_enrichment\u001b[0;34m()\u001b[0m\n",
      "\u001b[0;32m     89 \u001b[0;31m    coords = [fovs, [\"z\", \"muhat\", \"sigmahat\", \"p_pos\", \"p_neg\", \"h\", \"p_adj\"], marker_titles,\n",
      "\u001b[0m\u001b[0;32m---> 90 \u001b[0;31m              marker_titles]\n",
      "\u001b[0m\u001b[0;32m     91 \u001b[0;31m    \u001b[0mdims\u001b[0m \u001b[0;34m=\u001b[0m \u001b[0;34m[\u001b[0m\u001b[0;34m\"points\"\u001b[0m\u001b[0;34m,\u001b[0m \u001b[0;34m\"stats\"\u001b[0m\u001b[0;34m,\u001b[0m \u001b[0;34m\"marker1\"\u001b[0m\u001b[0;34m,\u001b[0m \u001b[0;34m\"marker2\"\u001b[0m\u001b[0;34m]\u001b[0m\u001b[0;34m\u001b[0m\u001b[0;34m\u001b[0m\u001b[0m\n",
      "\u001b[0m\n"
     ]
    },
    {
     "name": "stdin",
     "output_type": "stream",
     "text": [
      "ipdb>  n\n"
     ]
    },
    {
     "name": "stdout",
     "output_type": "stream",
     "text": [
      "> \u001b[0;32m/Users/alex/Desktop/Angelo_Work/segmentation/segmentation/utils/spatial_analysis.py\u001b[0m(91)\u001b[0;36mcalculate_channel_spatial_enrichment\u001b[0;34m()\u001b[0m\n",
      "\u001b[0;32m     90 \u001b[0;31m              marker_titles]\n",
      "\u001b[0m\u001b[0;32m---> 91 \u001b[0;31m    \u001b[0mdims\u001b[0m \u001b[0;34m=\u001b[0m \u001b[0;34m[\u001b[0m\u001b[0;34m\"points\"\u001b[0m\u001b[0;34m,\u001b[0m \u001b[0;34m\"stats\"\u001b[0m\u001b[0;34m,\u001b[0m \u001b[0;34m\"marker1\"\u001b[0m\u001b[0;34m,\u001b[0m \u001b[0;34m\"marker2\"\u001b[0m\u001b[0;34m]\u001b[0m\u001b[0;34m\u001b[0m\u001b[0;34m\u001b[0m\u001b[0m\n",
      "\u001b[0m\u001b[0;32m     92 \u001b[0;31m    \u001b[0mstats\u001b[0m \u001b[0;34m=\u001b[0m \u001b[0mxr\u001b[0m\u001b[0;34m.\u001b[0m\u001b[0mDataArray\u001b[0m\u001b[0;34m(\u001b[0m\u001b[0mstats_raw_data\u001b[0m\u001b[0;34m,\u001b[0m \u001b[0mcoords\u001b[0m\u001b[0;34m=\u001b[0m\u001b[0mcoords\u001b[0m\u001b[0;34m,\u001b[0m \u001b[0mdims\u001b[0m\u001b[0;34m=\u001b[0m\u001b[0mdims\u001b[0m\u001b[0;34m)\u001b[0m\u001b[0;34m\u001b[0m\u001b[0;34m\u001b[0m\u001b[0m\n",
      "\u001b[0m\n"
     ]
    },
    {
     "name": "stdin",
     "output_type": "stream",
     "text": [
      "ipdb>  n\n"
     ]
    },
    {
     "name": "stdout",
     "output_type": "stream",
     "text": [
      "> \u001b[0;32m/Users/alex/Desktop/Angelo_Work/segmentation/segmentation/utils/spatial_analysis.py\u001b[0m(92)\u001b[0;36mcalculate_channel_spatial_enrichment\u001b[0;34m()\u001b[0m\n",
      "\u001b[0;32m     91 \u001b[0;31m    \u001b[0mdims\u001b[0m \u001b[0;34m=\u001b[0m \u001b[0;34m[\u001b[0m\u001b[0;34m\"points\"\u001b[0m\u001b[0;34m,\u001b[0m \u001b[0;34m\"stats\"\u001b[0m\u001b[0;34m,\u001b[0m \u001b[0;34m\"marker1\"\u001b[0m\u001b[0;34m,\u001b[0m \u001b[0;34m\"marker2\"\u001b[0m\u001b[0;34m]\u001b[0m\u001b[0;34m\u001b[0m\u001b[0;34m\u001b[0m\u001b[0m\n",
      "\u001b[0m\u001b[0;32m---> 92 \u001b[0;31m    \u001b[0mstats\u001b[0m \u001b[0;34m=\u001b[0m \u001b[0mxr\u001b[0m\u001b[0;34m.\u001b[0m\u001b[0mDataArray\u001b[0m\u001b[0;34m(\u001b[0m\u001b[0mstats_raw_data\u001b[0m\u001b[0;34m,\u001b[0m \u001b[0mcoords\u001b[0m\u001b[0;34m=\u001b[0m\u001b[0mcoords\u001b[0m\u001b[0;34m,\u001b[0m \u001b[0mdims\u001b[0m\u001b[0;34m=\u001b[0m\u001b[0mdims\u001b[0m\u001b[0;34m)\u001b[0m\u001b[0;34m\u001b[0m\u001b[0;34m\u001b[0m\u001b[0m\n",
      "\u001b[0m\u001b[0;32m     93 \u001b[0;31m\u001b[0;34m\u001b[0m\u001b[0m\n",
      "\u001b[0m\n"
     ]
    },
    {
     "name": "stdin",
     "output_type": "stream",
     "text": [
      "ipdb>  n\n"
     ]
    },
    {
     "name": "stdout",
     "output_type": "stream",
     "text": [
      "> \u001b[0;32m/Users/alex/Desktop/Angelo_Work/segmentation/segmentation/utils/spatial_analysis.py\u001b[0m(95)\u001b[0;36mcalculate_channel_spatial_enrichment\u001b[0;34m()\u001b[0m\n",
      "\u001b[0;32m     94 \u001b[0;31m    \u001b[0;31m# Subsetting threshold matrix to only include column with threshold values\u001b[0m\u001b[0;34m\u001b[0m\u001b[0;34m\u001b[0m\u001b[0;34m\u001b[0m\u001b[0m\n",
      "\u001b[0m\u001b[0;32m---> 95 \u001b[0;31m    \u001b[0mthresh_vec\u001b[0m \u001b[0;34m=\u001b[0m \u001b[0mmarker_thresholds\u001b[0m\u001b[0;34m.\u001b[0m\u001b[0miloc\u001b[0m\u001b[0;34m[\u001b[0m\u001b[0;34m:\u001b[0m\u001b[0;34m,\u001b[0m \u001b[0;36m1\u001b[0m\u001b[0;34m]\u001b[0m\u001b[0;34m\u001b[0m\u001b[0;34m\u001b[0m\u001b[0m\n",
      "\u001b[0m\u001b[0;32m     96 \u001b[0;31m\u001b[0;34m\u001b[0m\u001b[0m\n",
      "\u001b[0m\n"
     ]
    },
    {
     "name": "stdin",
     "output_type": "stream",
     "text": [
      "ipdb>  n\n"
     ]
    },
    {
     "name": "stdout",
     "output_type": "stream",
     "text": [
      "> \u001b[0;32m/Users/alex/Desktop/Angelo_Work/segmentation/segmentation/utils/spatial_analysis.py\u001b[0m(97)\u001b[0;36mcalculate_channel_spatial_enrichment\u001b[0;34m()\u001b[0m\n",
      "\u001b[0;32m     96 \u001b[0;31m\u001b[0;34m\u001b[0m\u001b[0m\n",
      "\u001b[0m\u001b[0;32m---> 97 \u001b[0;31m    \u001b[0;32mfor\u001b[0m \u001b[0mi\u001b[0m \u001b[0;32min\u001b[0m \u001b[0mrange\u001b[0m\u001b[0;34m(\u001b[0m\u001b[0;36m0\u001b[0m\u001b[0;34m,\u001b[0m \u001b[0mlen\u001b[0m\u001b[0;34m(\u001b[0m\u001b[0mfovs\u001b[0m\u001b[0;34m)\u001b[0m\u001b[0;34m)\u001b[0m\u001b[0;34m:\u001b[0m\u001b[0;34m\u001b[0m\u001b[0;34m\u001b[0m\u001b[0m\n",
      "\u001b[0m\u001b[0;32m     98 \u001b[0;31m        \u001b[0;31m# Subsetting expression matrix to only include patients with correct label\u001b[0m\u001b[0;34m\u001b[0m\u001b[0;34m\u001b[0m\u001b[0;34m\u001b[0m\u001b[0m\n",
      "\u001b[0m\n"
     ]
    },
    {
     "name": "stdin",
     "output_type": "stream",
     "text": [
      "ipdb>  n\n"
     ]
    },
    {
     "name": "stdout",
     "output_type": "stream",
     "text": [
      "> \u001b[0;32m/Users/alex/Desktop/Angelo_Work/segmentation/segmentation/utils/spatial_analysis.py\u001b[0m(99)\u001b[0;36mcalculate_channel_spatial_enrichment\u001b[0;34m()\u001b[0m\n",
      "\u001b[0;32m     98 \u001b[0;31m        \u001b[0;31m# Subsetting expression matrix to only include patients with correct label\u001b[0m\u001b[0;34m\u001b[0m\u001b[0;34m\u001b[0m\u001b[0;34m\u001b[0m\u001b[0m\n",
      "\u001b[0m\u001b[0;32m---> 99 \u001b[0;31m        \u001b[0mpatient_ids\u001b[0m \u001b[0;34m=\u001b[0m \u001b[0mall_data\u001b[0m\u001b[0;34m[\u001b[0m\u001b[0mfov_col\u001b[0m\u001b[0;34m]\u001b[0m \u001b[0;34m==\u001b[0m \u001b[0mfovs\u001b[0m\u001b[0;34m[\u001b[0m\u001b[0mi\u001b[0m\u001b[0;34m]\u001b[0m\u001b[0;34m\u001b[0m\u001b[0;34m\u001b[0m\u001b[0m\n",
      "\u001b[0m\u001b[0;32m    100 \u001b[0;31m        \u001b[0mfov_data\u001b[0m \u001b[0;34m=\u001b[0m \u001b[0mall_data\u001b[0m\u001b[0;34m[\u001b[0m\u001b[0mpatient_ids\u001b[0m\u001b[0;34m]\u001b[0m\u001b[0;34m\u001b[0m\u001b[0;34m\u001b[0m\u001b[0m\n",
      "\u001b[0m\n"
     ]
    },
    {
     "name": "stdin",
     "output_type": "stream",
     "text": [
      "ipdb>  n\n"
     ]
    },
    {
     "name": "stdout",
     "output_type": "stream",
     "text": [
      "> \u001b[0;32m/Users/alex/Desktop/Angelo_Work/segmentation/segmentation/utils/spatial_analysis.py\u001b[0m(100)\u001b[0;36mcalculate_channel_spatial_enrichment\u001b[0;34m()\u001b[0m\n",
      "\u001b[0;32m     99 \u001b[0;31m        \u001b[0mpatient_ids\u001b[0m \u001b[0;34m=\u001b[0m \u001b[0mall_data\u001b[0m\u001b[0;34m[\u001b[0m\u001b[0mfov_col\u001b[0m\u001b[0;34m]\u001b[0m \u001b[0;34m==\u001b[0m \u001b[0mfovs\u001b[0m\u001b[0;34m[\u001b[0m\u001b[0mi\u001b[0m\u001b[0;34m]\u001b[0m\u001b[0;34m\u001b[0m\u001b[0;34m\u001b[0m\u001b[0m\n",
      "\u001b[0m\u001b[0;32m--> 100 \u001b[0;31m        \u001b[0mfov_data\u001b[0m \u001b[0;34m=\u001b[0m \u001b[0mall_data\u001b[0m\u001b[0;34m[\u001b[0m\u001b[0mpatient_ids\u001b[0m\u001b[0;34m]\u001b[0m\u001b[0;34m\u001b[0m\u001b[0;34m\u001b[0m\u001b[0m\n",
      "\u001b[0m\u001b[0;32m    101 \u001b[0;31m        \u001b[0;31m# Patients with correct label, and only columns of markers\u001b[0m\u001b[0;34m\u001b[0m\u001b[0;34m\u001b[0m\u001b[0;34m\u001b[0m\u001b[0m\n",
      "\u001b[0m\n"
     ]
    },
    {
     "name": "stdin",
     "output_type": "stream",
     "text": [
      "ipdb>  n\n"
     ]
    },
    {
     "name": "stdout",
     "output_type": "stream",
     "text": [
      "> \u001b[0;32m/Users/alex/Desktop/Angelo_Work/segmentation/segmentation/utils/spatial_analysis.py\u001b[0m(102)\u001b[0;36mcalculate_channel_spatial_enrichment\u001b[0;34m()\u001b[0m\n",
      "\u001b[0;32m    101 \u001b[0;31m        \u001b[0;31m# Patients with correct label, and only columns of markers\u001b[0m\u001b[0;34m\u001b[0m\u001b[0;34m\u001b[0m\u001b[0;34m\u001b[0m\u001b[0m\n",
      "\u001b[0m\u001b[0;32m--> 102 \u001b[0;31m        \u001b[0mfov_channel_data\u001b[0m \u001b[0;34m=\u001b[0m \u001b[0mdata_markers\u001b[0m\u001b[0;34m[\u001b[0m\u001b[0mpatient_ids\u001b[0m\u001b[0;34m]\u001b[0m\u001b[0;34m\u001b[0m\u001b[0;34m\u001b[0m\u001b[0m\n",
      "\u001b[0m\u001b[0;32m    103 \u001b[0;31m\u001b[0;34m\u001b[0m\u001b[0m\n",
      "\u001b[0m\n"
     ]
    },
    {
     "name": "stdin",
     "output_type": "stream",
     "text": [
      "ipdb>  n\n"
     ]
    },
    {
     "name": "stdout",
     "output_type": "stream",
     "text": [
      "> \u001b[0;32m/Users/alex/Desktop/Angelo_Work/segmentation/segmentation/utils/spatial_analysis.py\u001b[0m(105)\u001b[0;36mcalculate_channel_spatial_enrichment\u001b[0;34m()\u001b[0m\n",
      "\u001b[0;32m    104 \u001b[0;31m        \u001b[0;31m# Subset the distance matrix dictionary to only include the distance matrix for the correct point\u001b[0m\u001b[0;34m\u001b[0m\u001b[0;34m\u001b[0m\u001b[0;34m\u001b[0m\u001b[0m\n",
      "\u001b[0m\u001b[0;32m--> 105 \u001b[0;31m        \u001b[0mdist_matrix\u001b[0m \u001b[0;34m=\u001b[0m \u001b[0mdist_matrices\u001b[0m\u001b[0;34m[\u001b[0m\u001b[0mstr\u001b[0m\u001b[0;34m(\u001b[0m\u001b[0mfovs\u001b[0m\u001b[0;34m[\u001b[0m\u001b[0mi\u001b[0m\u001b[0;34m]\u001b[0m\u001b[0;34m)\u001b[0m\u001b[0;34m]\u001b[0m\u001b[0;34m\u001b[0m\u001b[0;34m\u001b[0m\u001b[0m\n",
      "\u001b[0m\u001b[0;32m    106 \u001b[0;31m\u001b[0;34m\u001b[0m\u001b[0m\n",
      "\u001b[0m\n"
     ]
    },
    {
     "name": "stdin",
     "output_type": "stream",
     "text": [
      "ipdb>  n\n"
     ]
    },
    {
     "name": "stdout",
     "output_type": "stream",
     "text": [
      "> \u001b[0;32m/Users/alex/Desktop/Angelo_Work/segmentation/segmentation/utils/spatial_analysis.py\u001b[0m(108)\u001b[0;36mcalculate_channel_spatial_enrichment\u001b[0;34m()\u001b[0m\n",
      "\u001b[0;32m    107 \u001b[0;31m        \u001b[0;31m# Get close_num and close_num_rand\u001b[0m\u001b[0;34m\u001b[0m\u001b[0;34m\u001b[0m\u001b[0;34m\u001b[0m\u001b[0m\n",
      "\u001b[0m\u001b[0;32m--> 108 \u001b[0;31m        close_num, marker1_num, marker2_num = spatial_analysis_utils.compute_close_cell_num(\n",
      "\u001b[0m\u001b[0;32m    109 \u001b[0;31m            \u001b[0mdist_mat\u001b[0m\u001b[0;34m=\u001b[0m\u001b[0mdist_matrix\u001b[0m\u001b[0;34m,\u001b[0m \u001b[0mdist_lim\u001b[0m\u001b[0;34m=\u001b[0m\u001b[0;36m100\u001b[0m\u001b[0;34m,\u001b[0m \u001b[0mnum\u001b[0m\u001b[0;34m=\u001b[0m\u001b[0mmarker_num\u001b[0m\u001b[0;34m,\u001b[0m \u001b[0manalysis_type\u001b[0m\u001b[0;34m=\u001b[0m\u001b[0;34m\"Channel\"\u001b[0m\u001b[0;34m,\u001b[0m\u001b[0;34m\u001b[0m\u001b[0;34m\u001b[0m\u001b[0m\n",
      "\u001b[0m\n"
     ]
    },
    {
     "name": "stdin",
     "output_type": "stream",
     "text": [
      "ipdb>  n\n"
     ]
    },
    {
     "name": "stdout",
     "output_type": "stream",
     "text": [
      "> \u001b[0;32m/Users/alex/Desktop/Angelo_Work/segmentation/segmentation/utils/spatial_analysis.py\u001b[0m(109)\u001b[0;36mcalculate_channel_spatial_enrichment\u001b[0;34m()\u001b[0m\n",
      "\u001b[0;32m    108 \u001b[0;31m        close_num, marker1_num, marker2_num = spatial_analysis_utils.compute_close_cell_num(\n",
      "\u001b[0m\u001b[0;32m--> 109 \u001b[0;31m            \u001b[0mdist_mat\u001b[0m\u001b[0;34m=\u001b[0m\u001b[0mdist_matrix\u001b[0m\u001b[0;34m,\u001b[0m \u001b[0mdist_lim\u001b[0m\u001b[0;34m=\u001b[0m\u001b[0;36m100\u001b[0m\u001b[0;34m,\u001b[0m \u001b[0mnum\u001b[0m\u001b[0;34m=\u001b[0m\u001b[0mmarker_num\u001b[0m\u001b[0;34m,\u001b[0m \u001b[0manalysis_type\u001b[0m\u001b[0;34m=\u001b[0m\u001b[0;34m\"Channel\"\u001b[0m\u001b[0;34m,\u001b[0m\u001b[0;34m\u001b[0m\u001b[0;34m\u001b[0m\u001b[0m\n",
      "\u001b[0m\u001b[0;32m    110 \u001b[0;31m            fov_data=fov_data, fov_channel_data=fov_channel_data, thresh_vec=thresh_vec)\n",
      "\u001b[0m\n"
     ]
    },
    {
     "name": "stdin",
     "output_type": "stream",
     "text": [
      "ipdb>  n\n"
     ]
    },
    {
     "name": "stdout",
     "output_type": "stream",
     "text": [
      "> \u001b[0;32m/Users/alex/Desktop/Angelo_Work/segmentation/segmentation/utils/spatial_analysis.py\u001b[0m(110)\u001b[0;36mcalculate_channel_spatial_enrichment\u001b[0;34m()\u001b[0m\n",
      "\u001b[0;32m    109 \u001b[0;31m            \u001b[0mdist_mat\u001b[0m\u001b[0;34m=\u001b[0m\u001b[0mdist_matrix\u001b[0m\u001b[0;34m,\u001b[0m \u001b[0mdist_lim\u001b[0m\u001b[0;34m=\u001b[0m\u001b[0;36m100\u001b[0m\u001b[0;34m,\u001b[0m \u001b[0mnum\u001b[0m\u001b[0;34m=\u001b[0m\u001b[0mmarker_num\u001b[0m\u001b[0;34m,\u001b[0m \u001b[0manalysis_type\u001b[0m\u001b[0;34m=\u001b[0m\u001b[0;34m\"Channel\"\u001b[0m\u001b[0;34m,\u001b[0m\u001b[0;34m\u001b[0m\u001b[0;34m\u001b[0m\u001b[0m\n",
      "\u001b[0m\u001b[0;32m--> 110 \u001b[0;31m            fov_data=fov_data, fov_channel_data=fov_channel_data, thresh_vec=thresh_vec)\n",
      "\u001b[0m\u001b[0;32m    111 \u001b[0;31m        close_num_rand = spatial_analysis_utils.compute_close_cell_num_random(\n",
      "\u001b[0m\n"
     ]
    },
    {
     "name": "stdin",
     "output_type": "stream",
     "text": [
      "ipdb>  n\n"
     ]
    },
    {
     "name": "stdout",
     "output_type": "stream",
     "text": [
      "> \u001b[0;32m/Users/alex/Desktop/Angelo_Work/segmentation/segmentation/utils/spatial_analysis.py\u001b[0m(111)\u001b[0;36mcalculate_channel_spatial_enrichment\u001b[0;34m()\u001b[0m\n",
      "\u001b[0;32m    110 \u001b[0;31m            fov_data=fov_data, fov_channel_data=fov_channel_data, thresh_vec=thresh_vec)\n",
      "\u001b[0m\u001b[0;32m--> 111 \u001b[0;31m        close_num_rand = spatial_analysis_utils.compute_close_cell_num_random(\n",
      "\u001b[0m\u001b[0;32m    112 \u001b[0;31m            marker1_num, marker2_num, dist_matrix, marker_num, dist_lim, bootstrap_num)\n",
      "\u001b[0m\n"
     ]
    },
    {
     "name": "stdin",
     "output_type": "stream",
     "text": [
      "ipdb>  s\n"
     ]
    },
    {
     "name": "stdout",
     "output_type": "stream",
     "text": [
      "> \u001b[0;32m/Users/alex/Desktop/Angelo_Work/segmentation/segmentation/utils/spatial_analysis.py\u001b[0m(112)\u001b[0;36mcalculate_channel_spatial_enrichment\u001b[0;34m()\u001b[0m\n",
      "\u001b[0;32m    111 \u001b[0;31m        close_num_rand = spatial_analysis_utils.compute_close_cell_num_random(\n",
      "\u001b[0m\u001b[0;32m--> 112 \u001b[0;31m            marker1_num, marker2_num, dist_matrix, marker_num, dist_lim, bootstrap_num)\n",
      "\u001b[0m\u001b[0;32m    113 \u001b[0;31m        \u001b[0mvalues\u001b[0m\u001b[0;34m.\u001b[0m\u001b[0mappend\u001b[0m\u001b[0;34m(\u001b[0m\u001b[0;34m(\u001b[0m\u001b[0mclose_num\u001b[0m\u001b[0;34m,\u001b[0m \u001b[0mclose_num_rand\u001b[0m\u001b[0;34m)\u001b[0m\u001b[0;34m)\u001b[0m\u001b[0;34m\u001b[0m\u001b[0;34m\u001b[0m\u001b[0m\n",
      "\u001b[0m\n"
     ]
    },
    {
     "name": "stdin",
     "output_type": "stream",
     "text": [
      "ipdb>  s\n"
     ]
    },
    {
     "name": "stdout",
     "output_type": "stream",
     "text": [
      "--Call--\n",
      "> \u001b[0;32m/Users/alex/Desktop/Angelo_Work/segmentation/segmentation/utils/spatial_analysis_utils.py\u001b[0m(152)\u001b[0;36mcompute_close_cell_num_random\u001b[0;34m()\u001b[0m\n",
      "\u001b[0;32m    151 \u001b[0;31m\u001b[0;34m\u001b[0m\u001b[0m\n",
      "\u001b[0m\u001b[0;32m--> 152 \u001b[0;31mdef compute_close_cell_num_random(marker1_num, marker2_num,\n",
      "\u001b[0m\u001b[0;32m    153 \u001b[0;31m                                  dist_mat, marker_num, dist_lim, bootstrap_num):\n",
      "\u001b[0m\n"
     ]
    },
    {
     "name": "stdin",
     "output_type": "stream",
     "text": [
      "ipdb>  n\n"
     ]
    },
    {
     "name": "stdout",
     "output_type": "stream",
     "text": [
      "> \u001b[0;32m/Users/alex/Desktop/Angelo_Work/segmentation/segmentation/utils/spatial_analysis_utils.py\u001b[0m(171)\u001b[0;36mcompute_close_cell_num_random\u001b[0;34m()\u001b[0m\n",
      "\u001b[0;32m    170 \u001b[0;31m    \u001b[0;31m# Create close_num_rand\u001b[0m\u001b[0;34m\u001b[0m\u001b[0;34m\u001b[0m\u001b[0;34m\u001b[0m\u001b[0m\n",
      "\u001b[0m\u001b[0;32m--> 171 \u001b[0;31m    close_num_rand = np.zeros((\n",
      "\u001b[0m\u001b[0;32m    172 \u001b[0;31m        marker_num, marker_num, bootstrap_num), dtype='int')\n",
      "\u001b[0m\n"
     ]
    },
    {
     "name": "stdin",
     "output_type": "stream",
     "text": [
      "ipdb>  n\n"
     ]
    },
    {
     "name": "stdout",
     "output_type": "stream",
     "text": [
      "> \u001b[0;32m/Users/alex/Desktop/Angelo_Work/segmentation/segmentation/utils/spatial_analysis_utils.py\u001b[0m(172)\u001b[0;36mcompute_close_cell_num_random\u001b[0;34m()\u001b[0m\n",
      "\u001b[0;32m    171 \u001b[0;31m    close_num_rand = np.zeros((\n",
      "\u001b[0m\u001b[0;32m--> 172 \u001b[0;31m        marker_num, marker_num, bootstrap_num), dtype='int')\n",
      "\u001b[0m\u001b[0;32m    173 \u001b[0;31m\u001b[0;34m\u001b[0m\u001b[0m\n",
      "\u001b[0m\n"
     ]
    },
    {
     "name": "stdin",
     "output_type": "stream",
     "text": [
      "ipdb>  n\n"
     ]
    },
    {
     "name": "stdout",
     "output_type": "stream",
     "text": [
      "> \u001b[0;32m/Users/alex/Desktop/Angelo_Work/segmentation/segmentation/utils/spatial_analysis_utils.py\u001b[0m(174)\u001b[0;36mcompute_close_cell_num_random\u001b[0;34m()\u001b[0m\n",
      "\u001b[0;32m    173 \u001b[0;31m\u001b[0;34m\u001b[0m\u001b[0m\n",
      "\u001b[0m\u001b[0;32m--> 174 \u001b[0;31m    \u001b[0;32mfor\u001b[0m \u001b[0mj\u001b[0m \u001b[0;32min\u001b[0m \u001b[0mrange\u001b[0m\u001b[0;34m(\u001b[0m\u001b[0;36m0\u001b[0m\u001b[0;34m,\u001b[0m \u001b[0mmarker_num\u001b[0m\u001b[0;34m)\u001b[0m\u001b[0;34m:\u001b[0m\u001b[0;34m\u001b[0m\u001b[0;34m\u001b[0m\u001b[0m\n",
      "\u001b[0m\u001b[0;32m    175 \u001b[0;31m        \u001b[0;32mfor\u001b[0m \u001b[0mk\u001b[0m \u001b[0;32min\u001b[0m \u001b[0mrange\u001b[0m\u001b[0;34m(\u001b[0m\u001b[0;36m0\u001b[0m\u001b[0;34m,\u001b[0m \u001b[0mmarker_num\u001b[0m\u001b[0;34m)\u001b[0m\u001b[0;34m:\u001b[0m\u001b[0;34m\u001b[0m\u001b[0;34m\u001b[0m\u001b[0m\n",
      "\u001b[0m\n"
     ]
    },
    {
     "name": "stdin",
     "output_type": "stream",
     "text": [
      "ipdb>  p bootstrap_num\n"
     ]
    },
    {
     "name": "stdout",
     "output_type": "stream",
     "text": [
      "100\n"
     ]
    },
    {
     "name": "stdin",
     "output_type": "stream",
     "text": [
      "ipdb>  p marker_num\n"
     ]
    },
    {
     "name": "stdout",
     "output_type": "stream",
     "text": [
      "36\n"
     ]
    },
    {
     "name": "stdin",
     "output_type": "stream",
     "text": [
      "ipdb>  n\n"
     ]
    },
    {
     "name": "stdout",
     "output_type": "stream",
     "text": [
      "> \u001b[0;32m/Users/alex/Desktop/Angelo_Work/segmentation/segmentation/utils/spatial_analysis_utils.py\u001b[0m(175)\u001b[0;36mcompute_close_cell_num_random\u001b[0;34m()\u001b[0m\n",
      "\u001b[0;32m    174 \u001b[0;31m    \u001b[0;32mfor\u001b[0m \u001b[0mj\u001b[0m \u001b[0;32min\u001b[0m \u001b[0mrange\u001b[0m\u001b[0;34m(\u001b[0m\u001b[0;36m0\u001b[0m\u001b[0;34m,\u001b[0m \u001b[0mmarker_num\u001b[0m\u001b[0;34m)\u001b[0m\u001b[0;34m:\u001b[0m\u001b[0;34m\u001b[0m\u001b[0;34m\u001b[0m\u001b[0m\n",
      "\u001b[0m\u001b[0;32m--> 175 \u001b[0;31m        \u001b[0;32mfor\u001b[0m \u001b[0mk\u001b[0m \u001b[0;32min\u001b[0m \u001b[0mrange\u001b[0m\u001b[0;34m(\u001b[0m\u001b[0;36m0\u001b[0m\u001b[0;34m,\u001b[0m \u001b[0mmarker_num\u001b[0m\u001b[0;34m)\u001b[0m\u001b[0;34m:\u001b[0m\u001b[0;34m\u001b[0m\u001b[0;34m\u001b[0m\u001b[0m\n",
      "\u001b[0m\u001b[0;32m    176 \u001b[0;31m            \u001b[0;32mfor\u001b[0m \u001b[0mr\u001b[0m \u001b[0;32min\u001b[0m \u001b[0mrange\u001b[0m\u001b[0;34m(\u001b[0m\u001b[0;36m0\u001b[0m\u001b[0;34m,\u001b[0m \u001b[0mbootstrap_num\u001b[0m\u001b[0;34m)\u001b[0m\u001b[0;34m:\u001b[0m\u001b[0;34m\u001b[0m\u001b[0;34m\u001b[0m\u001b[0m\n",
      "\u001b[0m\n"
     ]
    },
    {
     "name": "stdin",
     "output_type": "stream",
     "text": [
      "ipdb>  n\n"
     ]
    },
    {
     "name": "stdout",
     "output_type": "stream",
     "text": [
      "> \u001b[0;32m/Users/alex/Desktop/Angelo_Work/segmentation/segmentation/utils/spatial_analysis_utils.py\u001b[0m(176)\u001b[0;36mcompute_close_cell_num_random\u001b[0;34m()\u001b[0m\n",
      "\u001b[0;32m    175 \u001b[0;31m        \u001b[0;32mfor\u001b[0m \u001b[0mk\u001b[0m \u001b[0;32min\u001b[0m \u001b[0mrange\u001b[0m\u001b[0;34m(\u001b[0m\u001b[0;36m0\u001b[0m\u001b[0;34m,\u001b[0m \u001b[0mmarker_num\u001b[0m\u001b[0;34m)\u001b[0m\u001b[0;34m:\u001b[0m\u001b[0;34m\u001b[0m\u001b[0;34m\u001b[0m\u001b[0m\n",
      "\u001b[0m\u001b[0;32m--> 176 \u001b[0;31m            \u001b[0;32mfor\u001b[0m \u001b[0mr\u001b[0m \u001b[0;32min\u001b[0m \u001b[0mrange\u001b[0m\u001b[0;34m(\u001b[0m\u001b[0;36m0\u001b[0m\u001b[0;34m,\u001b[0m \u001b[0mbootstrap_num\u001b[0m\u001b[0;34m)\u001b[0m\u001b[0;34m:\u001b[0m\u001b[0;34m\u001b[0m\u001b[0;34m\u001b[0m\u001b[0m\n",
      "\u001b[0m\u001b[0;32m    177 \u001b[0;31m                \u001b[0;31m# Select same amount of random cell labels as positive ones in same marker in close_num\u001b[0m\u001b[0;34m\u001b[0m\u001b[0;34m\u001b[0m\u001b[0;34m\u001b[0m\u001b[0m\n",
      "\u001b[0m\n"
     ]
    },
    {
     "name": "stdin",
     "output_type": "stream",
     "text": [
      "ipdb>  n\n"
     ]
    },
    {
     "name": "stdout",
     "output_type": "stream",
     "text": [
      "> \u001b[0;32m/Users/alex/Desktop/Angelo_Work/segmentation/segmentation/utils/spatial_analysis_utils.py\u001b[0m(178)\u001b[0;36mcompute_close_cell_num_random\u001b[0;34m()\u001b[0m\n",
      "\u001b[0;32m    177 \u001b[0;31m                \u001b[0;31m# Select same amount of random cell labels as positive ones in same marker in close_num\u001b[0m\u001b[0;34m\u001b[0m\u001b[0;34m\u001b[0m\u001b[0;34m\u001b[0m\u001b[0m\n",
      "\u001b[0m\u001b[0;32m--> 178 \u001b[0;31m                \u001b[0mmarker1_labels_rand\u001b[0m \u001b[0;34m=\u001b[0m \u001b[0mnp\u001b[0m\u001b[0;34m.\u001b[0m\u001b[0mrandom\u001b[0m\u001b[0;34m.\u001b[0m\u001b[0mchoice\u001b[0m\u001b[0;34m(\u001b[0m\u001b[0ma\u001b[0m\u001b[0;34m=\u001b[0m\u001b[0mrange\u001b[0m\u001b[0;34m(\u001b[0m\u001b[0mdist_mat\u001b[0m\u001b[0;34m.\u001b[0m\u001b[0mshape\u001b[0m\u001b[0;34m[\u001b[0m\u001b[0;36m0\u001b[0m\u001b[0;34m]\u001b[0m\u001b[0;34m)\u001b[0m\u001b[0;34m,\u001b[0m \u001b[0msize\u001b[0m\u001b[0;34m=\u001b[0m\u001b[0mmarker1_num\u001b[0m\u001b[0;34m[\u001b[0m\u001b[0mj\u001b[0m\u001b[0;34m]\u001b[0m\u001b[0;34m,\u001b[0m \u001b[0mreplace\u001b[0m\u001b[0;34m=\u001b[0m\u001b[0;32mTrue\u001b[0m\u001b[0;34m)\u001b[0m\u001b[0;34m\u001b[0m\u001b[0;34m\u001b[0m\u001b[0m\n",
      "\u001b[0m\u001b[0;32m    179 \u001b[0;31m                \u001b[0mmarker2_labels_rand\u001b[0m \u001b[0;34m=\u001b[0m \u001b[0mnp\u001b[0m\u001b[0;34m.\u001b[0m\u001b[0mrandom\u001b[0m\u001b[0;34m.\u001b[0m\u001b[0mchoice\u001b[0m\u001b[0;34m(\u001b[0m\u001b[0ma\u001b[0m\u001b[0;34m=\u001b[0m\u001b[0mrange\u001b[0m\u001b[0;34m(\u001b[0m\u001b[0mdist_mat\u001b[0m\u001b[0;34m.\u001b[0m\u001b[0mshape\u001b[0m\u001b[0;34m[\u001b[0m\u001b[0;36m0\u001b[0m\u001b[0;34m]\u001b[0m\u001b[0;34m)\u001b[0m\u001b[0;34m,\u001b[0m \u001b[0msize\u001b[0m\u001b[0;34m=\u001b[0m\u001b[0mmarker2_num\u001b[0m\u001b[0;34m[\u001b[0m\u001b[0mk\u001b[0m\u001b[0;34m]\u001b[0m\u001b[0;34m,\u001b[0m \u001b[0mreplace\u001b[0m\u001b[0;34m=\u001b[0m\u001b[0;32mTrue\u001b[0m\u001b[0;34m)\u001b[0m\u001b[0;34m\u001b[0m\u001b[0;34m\u001b[0m\u001b[0m\n",
      "\u001b[0m\n"
     ]
    },
    {
     "name": "stdin",
     "output_type": "stream",
     "text": [
      "ipdb>  n\n"
     ]
    },
    {
     "name": "stdout",
     "output_type": "stream",
     "text": [
      "> \u001b[0;32m/Users/alex/Desktop/Angelo_Work/segmentation/segmentation/utils/spatial_analysis_utils.py\u001b[0m(179)\u001b[0;36mcompute_close_cell_num_random\u001b[0;34m()\u001b[0m\n",
      "\u001b[0;32m    178 \u001b[0;31m                \u001b[0mmarker1_labels_rand\u001b[0m \u001b[0;34m=\u001b[0m \u001b[0mnp\u001b[0m\u001b[0;34m.\u001b[0m\u001b[0mrandom\u001b[0m\u001b[0;34m.\u001b[0m\u001b[0mchoice\u001b[0m\u001b[0;34m(\u001b[0m\u001b[0ma\u001b[0m\u001b[0;34m=\u001b[0m\u001b[0mrange\u001b[0m\u001b[0;34m(\u001b[0m\u001b[0mdist_mat\u001b[0m\u001b[0;34m.\u001b[0m\u001b[0mshape\u001b[0m\u001b[0;34m[\u001b[0m\u001b[0;36m0\u001b[0m\u001b[0;34m]\u001b[0m\u001b[0;34m)\u001b[0m\u001b[0;34m,\u001b[0m \u001b[0msize\u001b[0m\u001b[0;34m=\u001b[0m\u001b[0mmarker1_num\u001b[0m\u001b[0;34m[\u001b[0m\u001b[0mj\u001b[0m\u001b[0;34m]\u001b[0m\u001b[0;34m,\u001b[0m \u001b[0mreplace\u001b[0m\u001b[0;34m=\u001b[0m\u001b[0;32mTrue\u001b[0m\u001b[0;34m)\u001b[0m\u001b[0;34m\u001b[0m\u001b[0;34m\u001b[0m\u001b[0m\n",
      "\u001b[0m\u001b[0;32m--> 179 \u001b[0;31m                \u001b[0mmarker2_labels_rand\u001b[0m \u001b[0;34m=\u001b[0m \u001b[0mnp\u001b[0m\u001b[0;34m.\u001b[0m\u001b[0mrandom\u001b[0m\u001b[0;34m.\u001b[0m\u001b[0mchoice\u001b[0m\u001b[0;34m(\u001b[0m\u001b[0ma\u001b[0m\u001b[0;34m=\u001b[0m\u001b[0mrange\u001b[0m\u001b[0;34m(\u001b[0m\u001b[0mdist_mat\u001b[0m\u001b[0;34m.\u001b[0m\u001b[0mshape\u001b[0m\u001b[0;34m[\u001b[0m\u001b[0;36m0\u001b[0m\u001b[0;34m]\u001b[0m\u001b[0;34m)\u001b[0m\u001b[0;34m,\u001b[0m \u001b[0msize\u001b[0m\u001b[0;34m=\u001b[0m\u001b[0mmarker2_num\u001b[0m\u001b[0;34m[\u001b[0m\u001b[0mk\u001b[0m\u001b[0;34m]\u001b[0m\u001b[0;34m,\u001b[0m \u001b[0mreplace\u001b[0m\u001b[0;34m=\u001b[0m\u001b[0;32mTrue\u001b[0m\u001b[0;34m)\u001b[0m\u001b[0;34m\u001b[0m\u001b[0;34m\u001b[0m\u001b[0m\n",
      "\u001b[0m\u001b[0;32m    180 \u001b[0;31m                \u001b[0;31m# Subset the distance matrix to only include positive randomly selected cell labels\u001b[0m\u001b[0;34m\u001b[0m\u001b[0;34m\u001b[0m\u001b[0;34m\u001b[0m\u001b[0m\n",
      "\u001b[0m\n"
     ]
    },
    {
     "name": "stdin",
     "output_type": "stream",
     "text": [
      "ipdb>  n\n"
     ]
    },
    {
     "name": "stdout",
     "output_type": "stream",
     "text": [
      "> \u001b[0;32m/Users/alex/Desktop/Angelo_Work/segmentation/segmentation/utils/spatial_analysis_utils.py\u001b[0m(181)\u001b[0;36mcompute_close_cell_num_random\u001b[0;34m()\u001b[0m\n",
      "\u001b[0;32m    180 \u001b[0;31m                \u001b[0;31m# Subset the distance matrix to only include positive randomly selected cell labels\u001b[0m\u001b[0;34m\u001b[0m\u001b[0;34m\u001b[0m\u001b[0;34m\u001b[0m\u001b[0m\n",
      "\u001b[0m\u001b[0;32m--> 181 \u001b[0;31m                rand_trunc_dist_mat = dist_mat[np.ix_(np.asarray(\n",
      "\u001b[0m\u001b[0;32m    182 \u001b[0;31m                    marker1_labels_rand, dtype='int'), np.asarray(marker2_labels_rand, dtype='int'))]\n",
      "\u001b[0m\n"
     ]
    },
    {
     "name": "stdin",
     "output_type": "stream",
     "text": [
      "ipdb>  n\n"
     ]
    },
    {
     "name": "stdout",
     "output_type": "stream",
     "text": [
      "> \u001b[0;32m/Users/alex/Desktop/Angelo_Work/segmentation/segmentation/utils/spatial_analysis_utils.py\u001b[0m(182)\u001b[0;36mcompute_close_cell_num_random\u001b[0;34m()\u001b[0m\n",
      "\u001b[0;32m    181 \u001b[0;31m                rand_trunc_dist_mat = dist_mat[np.ix_(np.asarray(\n",
      "\u001b[0m\u001b[0;32m--> 182 \u001b[0;31m                    marker1_labels_rand, dtype='int'), np.asarray(marker2_labels_rand, dtype='int'))]\n",
      "\u001b[0m\u001b[0;32m    183 \u001b[0;31m                \u001b[0;31m# Binarize the truncated distance matrix to only include cells within distance limit\u001b[0m\u001b[0;34m\u001b[0m\u001b[0;34m\u001b[0m\u001b[0;34m\u001b[0m\u001b[0m\n",
      "\u001b[0m\n"
     ]
    },
    {
     "name": "stdin",
     "output_type": "stream",
     "text": [
      "ipdb>  n\n"
     ]
    },
    {
     "name": "stdout",
     "output_type": "stream",
     "text": [
      "> \u001b[0;32m/Users/alex/Desktop/Angelo_Work/segmentation/segmentation/utils/spatial_analysis_utils.py\u001b[0m(184)\u001b[0;36mcompute_close_cell_num_random\u001b[0;34m()\u001b[0m\n",
      "\u001b[0;32m    183 \u001b[0;31m                \u001b[0;31m# Binarize the truncated distance matrix to only include cells within distance limit\u001b[0m\u001b[0;34m\u001b[0m\u001b[0;34m\u001b[0m\u001b[0;34m\u001b[0m\u001b[0m\n",
      "\u001b[0m\u001b[0;32m--> 184 \u001b[0;31m                \u001b[0mrand_trunc_dist_mat_bin\u001b[0m \u001b[0;34m=\u001b[0m \u001b[0mnp\u001b[0m\u001b[0;34m.\u001b[0m\u001b[0mzeros\u001b[0m\u001b[0;34m(\u001b[0m\u001b[0mrand_trunc_dist_mat\u001b[0m\u001b[0;34m.\u001b[0m\u001b[0mshape\u001b[0m\u001b[0;34m,\u001b[0m \u001b[0mdtype\u001b[0m\u001b[0;34m=\u001b[0m\u001b[0;34m'int'\u001b[0m\u001b[0;34m)\u001b[0m\u001b[0;34m\u001b[0m\u001b[0;34m\u001b[0m\u001b[0m\n",
      "\u001b[0m\u001b[0;32m    185 \u001b[0;31m                \u001b[0mrand_trunc_dist_mat_bin\u001b[0m\u001b[0;34m[\u001b[0m\u001b[0mrand_trunc_dist_mat\u001b[0m \u001b[0;34m<\u001b[0m \u001b[0mdist_lim\u001b[0m\u001b[0;34m]\u001b[0m \u001b[0;34m=\u001b[0m \u001b[0;36m1\u001b[0m\u001b[0;34m\u001b[0m\u001b[0;34m\u001b[0m\u001b[0m\n",
      "\u001b[0m\n"
     ]
    },
    {
     "name": "stdin",
     "output_type": "stream",
     "text": [
      "ipdb>  n\n"
     ]
    },
    {
     "name": "stdout",
     "output_type": "stream",
     "text": [
      "> \u001b[0;32m/Users/alex/Desktop/Angelo_Work/segmentation/segmentation/utils/spatial_analysis_utils.py\u001b[0m(185)\u001b[0;36mcompute_close_cell_num_random\u001b[0;34m()\u001b[0m\n",
      "\u001b[0;32m    184 \u001b[0;31m                \u001b[0mrand_trunc_dist_mat_bin\u001b[0m \u001b[0;34m=\u001b[0m \u001b[0mnp\u001b[0m\u001b[0;34m.\u001b[0m\u001b[0mzeros\u001b[0m\u001b[0;34m(\u001b[0m\u001b[0mrand_trunc_dist_mat\u001b[0m\u001b[0;34m.\u001b[0m\u001b[0mshape\u001b[0m\u001b[0;34m,\u001b[0m \u001b[0mdtype\u001b[0m\u001b[0;34m=\u001b[0m\u001b[0;34m'int'\u001b[0m\u001b[0;34m)\u001b[0m\u001b[0;34m\u001b[0m\u001b[0;34m\u001b[0m\u001b[0m\n",
      "\u001b[0m\u001b[0;32m--> 185 \u001b[0;31m                \u001b[0mrand_trunc_dist_mat_bin\u001b[0m\u001b[0;34m[\u001b[0m\u001b[0mrand_trunc_dist_mat\u001b[0m \u001b[0;34m<\u001b[0m \u001b[0mdist_lim\u001b[0m\u001b[0;34m]\u001b[0m \u001b[0;34m=\u001b[0m \u001b[0;36m1\u001b[0m\u001b[0;34m\u001b[0m\u001b[0;34m\u001b[0m\u001b[0m\n",
      "\u001b[0m\u001b[0;32m    186 \u001b[0;31m                \u001b[0;31m# Record the number of interactions and store in close_num_rand in the index\u001b[0m\u001b[0;34m\u001b[0m\u001b[0;34m\u001b[0m\u001b[0;34m\u001b[0m\u001b[0m\n",
      "\u001b[0m\n"
     ]
    },
    {
     "name": "stdin",
     "output_type": "stream",
     "text": [
      "ipdb>  n\n"
     ]
    },
    {
     "name": "stdout",
     "output_type": "stream",
     "text": [
      "> \u001b[0;32m/Users/alex/Desktop/Angelo_Work/segmentation/segmentation/utils/spatial_analysis_utils.py\u001b[0m(188)\u001b[0;36mcompute_close_cell_num_random\u001b[0;34m()\u001b[0m\n",
      "\u001b[0;32m    187 \u001b[0;31m                \u001b[0;31m# corresponding to both markers, for every permutation\u001b[0m\u001b[0;34m\u001b[0m\u001b[0;34m\u001b[0m\u001b[0;34m\u001b[0m\u001b[0m\n",
      "\u001b[0m\u001b[0;32m--> 188 \u001b[0;31m                \u001b[0mclose_num_rand\u001b[0m\u001b[0;34m[\u001b[0m\u001b[0mj\u001b[0m\u001b[0;34m,\u001b[0m \u001b[0mk\u001b[0m\u001b[0;34m,\u001b[0m \u001b[0mr\u001b[0m\u001b[0;34m]\u001b[0m \u001b[0;34m=\u001b[0m \u001b[0mnp\u001b[0m\u001b[0;34m.\u001b[0m\u001b[0msum\u001b[0m\u001b[0;34m(\u001b[0m\u001b[0mnp\u001b[0m\u001b[0;34m.\u001b[0m\u001b[0msum\u001b[0m\u001b[0;34m(\u001b[0m\u001b[0mrand_trunc_dist_mat_bin\u001b[0m\u001b[0;34m)\u001b[0m\u001b[0;34m)\u001b[0m\u001b[0;34m\u001b[0m\u001b[0;34m\u001b[0m\u001b[0m\n",
      "\u001b[0m\u001b[0;32m    189 \u001b[0;31m    \u001b[0;32mreturn\u001b[0m \u001b[0mclose_num_rand\u001b[0m\u001b[0;34m\u001b[0m\u001b[0;34m\u001b[0m\u001b[0m\n",
      "\u001b[0m\n"
     ]
    },
    {
     "name": "stdin",
     "output_type": "stream",
     "text": [
      "ipdb>  n\n"
     ]
    },
    {
     "name": "stdout",
     "output_type": "stream",
     "text": [
      "> \u001b[0;32m/Users/alex/Desktop/Angelo_Work/segmentation/segmentation/utils/spatial_analysis_utils.py\u001b[0m(176)\u001b[0;36mcompute_close_cell_num_random\u001b[0;34m()\u001b[0m\n",
      "\u001b[0;32m    175 \u001b[0;31m        \u001b[0;32mfor\u001b[0m \u001b[0mk\u001b[0m \u001b[0;32min\u001b[0m \u001b[0mrange\u001b[0m\u001b[0;34m(\u001b[0m\u001b[0;36m0\u001b[0m\u001b[0;34m,\u001b[0m \u001b[0mmarker_num\u001b[0m\u001b[0;34m)\u001b[0m\u001b[0;34m:\u001b[0m\u001b[0;34m\u001b[0m\u001b[0;34m\u001b[0m\u001b[0m\n",
      "\u001b[0m\u001b[0;32m--> 176 \u001b[0;31m            \u001b[0;32mfor\u001b[0m \u001b[0mr\u001b[0m \u001b[0;32min\u001b[0m \u001b[0mrange\u001b[0m\u001b[0;34m(\u001b[0m\u001b[0;36m0\u001b[0m\u001b[0;34m,\u001b[0m \u001b[0mbootstrap_num\u001b[0m\u001b[0;34m)\u001b[0m\u001b[0;34m:\u001b[0m\u001b[0;34m\u001b[0m\u001b[0;34m\u001b[0m\u001b[0m\n",
      "\u001b[0m\u001b[0;32m    177 \u001b[0;31m                \u001b[0;31m# Select same amount of random cell labels as positive ones in same marker in close_num\u001b[0m\u001b[0;34m\u001b[0m\u001b[0;34m\u001b[0m\u001b[0;34m\u001b[0m\u001b[0m\n",
      "\u001b[0m\n"
     ]
    },
    {
     "name": "stdin",
     "output_type": "stream",
     "text": [
      "ipdb>  q\n"
     ]
    },
    {
     "name": "stdout",
     "output_type": "stream",
     "text": [
      "Exiting Debugger.\n"
     ]
    }
   ],
   "source": [
    "run_code()"
   ]
  },
  {
   "cell_type": "code",
   "execution_count": null,
   "metadata": {},
   "outputs": [],
   "source": [
    "# Now with the same parameters, cluster spatial analysis (based on cell types rather than positive marker expression\n",
    "# by thresholds) will be done\n",
    "\n",
    "values_cluster, stats_cluster = spatial_analysis.calculate_cluster_spatial_enrichment(\n",
    "    all_data, dist_mats, bootstrap_num=100)"
   ]
  },
  {
   "cell_type": "code",
   "execution_count": null,
   "metadata": {},
   "outputs": [],
   "source": [
    "# To then visualize the z scores, a clustermap can be produced\n",
    "\n",
    "# For cluster spatial analysis, first find all the cell phenotypes in the data to use as an input for the clustergram\n",
    "pheno_titles = all_data[\"cell_type\"].drop_duplicates()\n",
    "visualize.visualize_z_scores(stats_cluster.loc[6, \"z\", :, :].values, pheno_titles)\n",
    "# For channel spatial analysis, first find all the marker titles to use as input for the clustergram\n",
    "marker_titles = all_data.drop(excluded_colnames, axis=1).columns\n",
    "visualize.visualize_z_scores(stats_channel.loc[6, \"z\", :, :].values, pheno_titles)"
   ]
  }
 ],
 "metadata": {
  "jupytext": {
   "cell_metadata_filter": "-all",
   "main_language": "python",
   "notebook_metadata_filter": "-all"
  },
  "kernelspec": {
   "display_name": "Python 3",
   "language": "python",
   "name": "python3"
  },
  "language_info": {
   "codemirror_mode": {
    "name": "ipython",
    "version": 3
   },
   "file_extension": ".py",
   "mimetype": "text/x-python",
   "name": "python",
   "nbconvert_exporter": "python",
   "pygments_lexer": "ipython3",
   "version": "3.6.10"
  }
 },
 "nbformat": 4,
 "nbformat_minor": 4
}
