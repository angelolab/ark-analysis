{
 "cells": [
  {
   "cell_type": "markdown",
   "metadata": {},
   "source": [
    "### This is a notebook to run the preprocessing pipeline prior to uploading your TIFs to deepcell"
   ]
  },
  {
   "cell_type": "code",
   "execution_count": null,
   "metadata": {},
   "outputs": [],
   "source": [
    "# import required packages\n",
    "import os\n",
    "import numpy as np\n",
    "import skimage.io as io\n",
    "import xarray as xr\n",
    "\n",
    "from segmentation.utils import data_utils"
   ]
  },
  {
   "cell_type": "markdown",
   "metadata": {},
   "source": [
    "## This script is currently configured as a template to run with the provided example data. If running your own data, make a copy of this notebook first before modifying it.                         Go to file-> make a copy to create a copy of this notebook"
   ]
  },
  {
   "cell_type": "markdown",
   "metadata": {},
   "source": [
    "### <span style=\"color:#ff0000\"> All data, images, files, etc. must be placed in the 'data' directory, and referenced via '../data/path_to_your_data' regardless of if it's input or output. </span>"
   ]
  },
  {
   "cell_type": "code",
   "execution_count": null,
   "metadata": {},
   "outputs": [],
   "source": [
    "# load TIFs from GUI-based directory structure\n",
    "data_dir = \"../data/example_dataset/input_data/\"\n",
    "\n",
    "# data format\n",
    "MIBItiff = False\n",
    "MIBItiff_suffix = \"-MassCorrected-Filtered.tiff\"\n",
    "\n",
    "# nuclear channel name(s) (or None)\n",
    "nucs = ['HH3']\n",
    "\n",
    "# membrane channel name(s) (or None)\n",
    "mems = ['Membrane']\n",
    "\n",
    "# validate data_dir\n",
    "data_utils.validate_paths(data_dir)\n",
    "\n",
    "# either get all points in the folder\n",
    "points = os.listdir(data_dir)\n",
    "points = [point for point in points if os.path.isdir(data_dir + point) and point.startswith(\"Point\")]\n",
    "if MIBItiff:\n",
    "    points = [point for point in points if point.endswith(MIBItiff_suffix)]\n",
    "\n",
    "# optionally, select a specific set of points manually\n",
    "# points = [\"Point1\", \"Point2\"]\n",
    "\n",
    "# TODO: MIBItiff manual selection"
   ]
  },
  {
   "cell_type": "code",
   "execution_count": null,
   "metadata": {},
   "outputs": [],
   "source": [
    "# load channels to be included in deepcell data\n",
    "channels = (nucs if nucs else []) + (mems if mems else [])\n",
    "if MIBItiff:\n",
    "    data_xr = data_utils.load_imgs_from_mibitiff([os.path.join(data_dir, pnt) for pnt in points], channels=channels)\n",
    "else:\n",
    "    data_xr = data_utils.load_imgs_from_tree(data_dir, img_sub_folder=\"TIFs\", fovs=points, imgs=channels)\n",
    "\n",
    "# TODO: Add metadata for channel name (no need for fixed-order channels)\n",
    "for fov in data_xr.fovs.values:\n",
    "    out = np.zeros((data_xr.shape[1], data_xr.shape[2], 2), dtype=\"uint8\")\n",
    "\n",
    "    # sum over nuclear channels and add to output\n",
    "    for nuc in nucs:\n",
    "        out[:, :, 0] += data_xr.loc[fov, :, :, nuc].values.astype(\"uint8\")\n",
    "    for mem in mems:\n",
    "        out[:, :, 1] += data_xr.loc[fov, :, :, mem].values.astype(\"uint8\")\n",
    "\n",
    "    save_path = os.path.join(data_dir, f'{fov}_deepcell_input.tif')\n",
    "    io.imsave(save_path, out, plugin='tifffile')\n",
    "\n",
    "# save xarray for running through deepcell\n",
    "data_xr.to_netcdf(os.path.join(data_dir, \"deepcell_input.xr\"), format=\"NETCDF3_64BIT\")"
   ]
  },
  {
   "cell_type": "code",
   "execution_count": null,
   "metadata": {},
   "outputs": [],
   "source": []
  }
 ],
 "metadata": {
  "kernelspec": {
   "display_name": "Python 3",
   "language": "python",
   "name": "python3"
  },
  "language_info": {
   "codemirror_mode": {
    "name": "ipython",
    "version": 3
   },
   "file_extension": ".py",
   "mimetype": "text/x-python",
   "name": "python",
   "nbconvert_exporter": "python",
   "pygments_lexer": "ipython3",
   "version": "3.6.10-final"
  }
 },
 "nbformat": 4,
 "nbformat_minor": 2
}