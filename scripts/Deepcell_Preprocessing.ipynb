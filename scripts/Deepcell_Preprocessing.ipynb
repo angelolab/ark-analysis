{
 "cells": [
  {
   "cell_type": "markdown",
   "metadata": {},
   "source": [
    "### This is a notebook to run the preprocessing pipeline prior to uploading your TIFs to deepcell"
   ]
  },
  {
   "cell_type": "code",
   "execution_count": null,
   "metadata": {},
   "outputs": [],
   "source": [
    "# import required packages\n",
    "import os\n",
    "import numpy as np\n",
    "import skimage.io as io\n",
    "import xarray as xr\n",
    "\n",
    "from segmentation.utils import data_utils"
   ]
  },
  {
   "cell_type": "markdown",
   "metadata": {},
   "source": [
    "## This script is currently configured as a template to run with the provided example data. If running your own data, make a copy of this notebook first before modifying it.                         Go to file-> make a copy to create a copy of this notebook"
   ]
  },
  {
   "cell_type": "markdown",
   "metadata": {},
   "source": [
    "### <span style=\"color:#ff0000\"> All data, images, files, etc. must be placed in the 'data' directory, and referenced via '../data/path_to_your_data' regardless of if it's input or output. </span>"
   ]
  },
  {
   "cell_type": "code",
   "execution_count": null,
   "metadata": {},
   "outputs": [],
   "source": [
    "# load TIFs from GUI-based directory structure\n",
    "data_dir = \"../data/example_dataset/input_data/\"\n",
    "\n",
    "# nuclear channel name (or None)\n",
    "nuc_name = 'HH3'\n",
    "\n",
    "# membrane channel name (or None)\n",
    "mem_name = 'Membrane'\n",
    "\n",
    "# validate data_dir\n",
    "data_utils.validate_paths(data_dir)\n",
    "\n",
    "# either get all points in the folder\n",
    "points = os.listdir(data_dir)\n",
    "points = [point for point in points if os.path.isdir(data_dir + point) and point.startswith(\"Point\")]\n",
    "\n",
    "# optionally, select a specific set of points manually\n",
    "# points = [\"Point1\", \"Point2\"]"
   ]
  },
  {
   "cell_type": "code",
   "execution_count": null,
   "metadata": {},
   "outputs": [],
   "source": [
    "# optionally, specify a set of channels to be summed together for better contrast\n",
    "\n",
    "sum_channels_xr = data_utils.load_imgs_from_tree(data_dir, img_sub_folder=\"TIFs\", fovs=points,\n",
    "                                                             imgs=[\"CD3.tif\", \"CD8.tif\"])\n",
    "\n",
    "channel_sum = np.sum(sum_channels_xr.values, axis=3, dtype=\"uint8\")\n",
    "\n",
    "new_channel_name = \"summed_channel\"\n",
    "\n",
    "summed_xr = xr.DataArray(np.expand_dims(channel_sum, axis=-1), \n",
    "                         coords=[sum_channels_xr.fovs, sum_channels_xr.rows,\n",
    "                                 sum_channels_xr.cols, [new_channel_name]],\n",
    "                         dims=sum_channels_xr.dims)\n",
    "\n",
    "tif_saves = [new_channel_name]\n",
    "for point in summed_xr.fovs.values:\n",
    "    for tif in tif_saves:\n",
    "        save_path = os.path.join(data_dir, point, \"TIFs\", tif + \".tif\")\n",
    "        io.imsave(save_path, summed_xr.loc[point, :, :, tif].values.astype(\"uint8\"))"
   ]
  },
  {
   "cell_type": "code",
   "execution_count": null,
   "metadata": {},
   "outputs": [],
   "source": [
    "# load channels to be included in deepcell data\n",
    "tifs = []\n",
    "if nuc_name:\n",
    "    tifs.append(f'{nuc_name}.tif')\n",
    "if mem_name:\n",
    "    tifs.append(f'{mem_name}.tif')\n",
    "data_xr = data_utils.load_imgs_from_tree(data_dir, img_sub_folder=\"TIFs\", fovs=points, imgs=tifs)\n",
    "\n",
    "# set flags for multitiff output\n",
    "nuc_flag, mem_flag = nuc_name is None, mem_name is None\n",
    "\n",
    "# TODO: Add metadata for channel name (no need for fixed-order channels)\n",
    "for fov in data_xr.fovs.values:\n",
    "    im = data_xr.loc[fov, :, :, :].values.astype(\"uint8\")\n",
    "    if nuc_flag != mem_flag:\n",
    "        out = np.zeros((im.shape[0], im.shape[1], 2), dtype=\"uint8\")\n",
    "        out[:, :, nuc_flag + 2*mem_flag - 1] = im\n",
    "    else:\n",
    "        out = im\n",
    "    save_path = os.path.join(data_dir, f'{fov}_deepcell_input.tif')\n",
    "    io.imsave(save_path, out, plugin='tifffile')\n",
    "\n",
    "# save xarray for running through deepcell\n",
    "data_xr.to_netcdf(os.path.join(data_dir, \"deepcell_input.xr\"), format=\"NETCDF3_64BIT\")"
   ]
  },
  {
   "cell_type": "code",
   "execution_count": null,
   "metadata": {},
   "outputs": [],
   "source": []
  }
 ],
 "metadata": {
  "kernelspec": {
   "display_name": "Python 3",
   "language": "python",
   "name": "python3"
  },
  "language_info": {
   "codemirror_mode": {
    "name": "ipython",
    "version": 3
   },
   "file_extension": ".py",
   "mimetype": "text/x-python",
   "name": "python",
   "nbconvert_exporter": "python",
   "pygments_lexer": "ipython3",
   "version": "3.6.10-final"
  }
 },
 "nbformat": 4,
 "nbformat_minor": 2
}