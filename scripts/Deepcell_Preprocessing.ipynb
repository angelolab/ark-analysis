{
 "cells": [
  {
   "cell_type": "markdown",
   "metadata": {},
   "source": [
    "### This is a notebook to run the preprocessing pipeline prior to uploading your TIFs to deepcell"
   ]
  },
  {
   "cell_type": "code",
   "execution_count": 1,
   "metadata": {},
   "outputs": [],
   "source": [
    "# import required packages\n",
    "import os\n",
    "import numpy as np\n",
    "import skimage.io as io\n",
    "import xarray as xr\n",
    "\n",
    "# add package to system path\n",
    "import sys\n",
    "sys.path.append(\"../\")\n",
    "\n",
    "from segmentation.utils import data_utils"
   ]
  },
  {
   "cell_type": "code",
   "execution_count": 2,
   "metadata": {},
   "outputs": [],
   "source": [
    "# load TIFs from GUI-based directory structure\n",
    "base_dir = \"../data/example_dataset/input_data/\"\n",
    "\n",
    "# either get all points in the folder\n",
    "points = os.listdir(base_dir)\n",
    "points = [point for point in points if os.path.isdir(base_dir + point)]\n",
    "\n",
    "# optionally, select a specific set of points manually\n",
    "# points = [\"Point1\", \"Point2\"]"
   ]
  },
  {
   "cell_type": "code",
   "execution_count": null,
   "metadata": {},
   "outputs": [],
   "source": [
    "# optionally, specify a set of channels to be summed together for better contrast\n",
    "\n",
    "# sum_channels_xr = data_utils.load_tifs_from_points_dir(base_dir, tif_folder=\"TIFs\", points=test_points,\n",
    "#                                                              tifs=[\"CD3.tif\", \"CD8.tif\"])\n",
    "\n",
    "# channel_sum = np.sum(sum_channels_xr.values, axis=3, dtype=\"uint8\")\n",
    "\n",
    "# summed_xr = xr.DataArray(np.expand_dims(channel_sum, axis=-1), \n",
    "#                          coords=[sum_channels_xr.points, sum_channels_xr.rows,\n",
    "#                                  sum_channels_xr.cols, [\"summed_channel\"]],\n",
    "#                          dims=sum_channels_xr.dims)\n",
    "\n",
    "# tif_saves = [\"summed_channel\"]\n",
    "# for point in summed_xr.points.values:\n",
    "#     for tif in tif_saves:\n",
    "#         save_path = os.path.join(base_dir, point, \"TIFs\", tif + \".tif\")\n",
    "#         io.imsave(save_path, summed_xr.loc[point, :, :, tif].values.astype('uint8'))"
   ]
  },
  {
   "cell_type": "code",
   "execution_count": 3,
   "metadata": {},
   "outputs": [],
   "source": [
    "# load channels to be included in deepcell data\n",
    "tifs = [\"HH3.tif\", \"Membrane.tif\"]\n",
    "data_xr = data_utils.load_tifs_from_points_dir(base_dir, tif_folder='TIFs', points=points, tifs=tifs)\n",
    "\n",
    "# save xarray for running through deepcell\n",
    "data_xr.to_netcdf(base_dir + 'Deepcell_Input.nc', format=\"NETCDF3_64BIT\")"
   ]
  }
 ],
 "metadata": {
  "kernelspec": {
   "display_name": "segmentation",
   "language": "python",
   "name": "segmentation"
  },
  "language_info": {
   "codemirror_mode": {
    "name": "ipython",
    "version": 3
   },
   "file_extension": ".py",
   "mimetype": "text/x-python",
   "name": "python",
   "nbconvert_exporter": "python",
   "pygments_lexer": "ipython3",
   "version": "3.6.5"
  }
 },
 "nbformat": 4,
 "nbformat_minor": 2
}
