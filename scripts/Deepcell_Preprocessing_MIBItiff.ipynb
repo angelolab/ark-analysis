{
 "cells": [
  {
   "cell_type": "markdown",
   "metadata": {},
   "source": [
    "### This is a notebook to run the preprocessing pipeline prior to uploading your MIBItiffs to deepcell"
   ]
  },
  {
   "cell_type": "code",
   "execution_count": null,
   "metadata": {},
   "outputs": [],
   "source": [
    "# import required packages\n",
    "import os\n",
    "import numpy as np\n",
    "import skimage.io as io\n",
    "import xarray as xr\n",
    "\n",
    "# add package to system path\n",
    "import sys\n",
    "sys.path.append(\"../\")\n",
    "\n",
    "from segmentation.utils import data_utils"
   ]
  },
  {
   "cell_type": "markdown",
   "metadata": {},
   "source": [
    "## This script is currently configured as a template to run with the provided example data. If running your own data, make a copy of this notebook first before modifying it.                         Go to file-> make a copy to create a copy of this notebook"
   ]
  },
  {
   "cell_type": "code",
   "execution_count": null,
   "metadata": {},
   "outputs": [],
   "source": [
    "# load MIBItiff from MIBI/O-based directory structure\n",
    "data_dir = \"../data/example_dataset/input_data/input_data_TIFF\"\n",
    "\n",
    "# either get all points in the folder\n",
    "pointfiles = os.listdir(data_dir)\n",
    "pointfiles = [pointfile for pointfile in pointfiles if pointfile.startswith(\"Point\")\n",
    "              and pointfile.endswith(\"-MassCorrected-Filtered.tiff\")]\n",
    "\n",
    "# optionally, select a specific set of points manually\n",
    "# pointfiles = [\"Point1_RowNumber0_Depth_Profile0-MassCorrected-Filtered.tiff\",\n",
    "#               \"Point2_RowNumber0_Depth_Profile0-MassCorrected-Filtered.tiff\"]\n",
    "\n",
    "mibitiff_files = [os.path.join(data_dir, pointfile) for pointfile in pointfiles]"
   ]
  },
  {
   "cell_type": "code",
   "execution_count": null,
   "metadata": {
    "scrolled": false
   },
   "outputs": [],
   "source": [
    "# load channels to be included in deepcell data\n",
    "channels = [\"HH3\", \"Membrane\"] # nuclear and membrane channels\n",
    "data_xr = data_utils.load_imgs_from_mibitiff(mibitiff_files, channels)\n",
    "\n",
    "# save xarray for running through deepcell\n",
    "data_xr.to_netcdf(os.path.join(data_dir, \"deepcell_input.xr\"), format=\"NETCDF4\")"
   ]
  }
 ],
 "metadata": {
  "kernelspec": {
   "display_name": "Python 3",
   "language": "python",
   "name": "python3"
  },
  "language_info": {
   "codemirror_mode": {
    "name": "ipython",
    "version": 3
   },
   "file_extension": ".py",
   "mimetype": "text/x-python",
   "name": "python",
   "nbconvert_exporter": "python",
   "pygments_lexer": "ipython3",
   "version": "3.7.3"
  }
 },
 "nbformat": 4,
 "nbformat_minor": 2
}
